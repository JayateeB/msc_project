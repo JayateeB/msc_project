{
 "cells": [
  {
   "cell_type": "code",
   "execution_count": 247,
   "metadata": {},
   "outputs": [],
   "source": [
    "import pandas as pd\n",
    "import csv\n",
    "import pickle\n",
    "import numpy as np\n",
    "from IPython.display import display\n",
    "import multiprocessing\n",
    "from multiprocessing import Pool\n",
    "import math\n",
    "from tqdm import tqdm\n",
    "import time\n",
    "import traceback\n",
    "from sklearn.externals import joblib\n",
    "import xgboost as xgb\n",
    "import json\n",
    "import time"
   ]
  },
  {
   "cell_type": "code",
   "execution_count": 248,
   "metadata": {},
   "outputs": [],
   "source": [
    "path = \"/Users/jay/MSC_WSBDA/MSc_Thesis/Msc_project/Data/\""
   ]
  },
  {
   "cell_type": "code",
   "execution_count": 249,
   "metadata": {},
   "outputs": [],
   "source": [
    "def load_pickle_file(pickled_file):\n",
    "    print(f'Loading data file from {pickled_file}')\n",
    "    infile = open(pickled_file,'rb')\n",
    "    unpickled_file = pickle.load(infile)\n",
    "    print(f'Loaded {len(unpickled_file)} entries')\n",
    "    infile.close()\n",
    "    return unpickled_file\n",
    "          \n",
    "    \n",
    "def save_pickle_file(path, data):\n",
    "    print('Dumping data to path {}'.format(path))\n",
    "    with open(path, 'wb') as file:\n",
    "        pickle.dump(data, file)\n",
    "    print('Finished dumping data to path {}'.format(path))\n",
    "\n",
    "\n",
    "def mean(numbers):\n",
    "    return float(sum(numbers)) / max(len(numbers), 1)\n",
    "\n",
    "\n",
    "def safe_division(x, y):\n",
    "    if y == 0:\n",
    "        return 0\n",
    "    else:\n",
    "        return x/y"
   ]
  },
  {
   "cell_type": "code",
   "execution_count": 250,
   "metadata": {},
   "outputs": [
    {
     "name": "stdout",
     "output_type": "stream",
     "text": [
      "Loading data file from /Users/jay/MSC_WSBDA/MSc_Thesis/Msc_project/Data/users.dat\n",
      "Loaded 5973 entries\n"
     ]
    }
   ],
   "source": [
    "users = load_pickle_file(path+\"users.dat\")\n",
    "users.reset_index(drop =True , inplace =True)\n",
    "network_simulation = pd.read_csv(path + 'simulation_result_15hrs_15hrs_model.csv')\n",
    "#network_simulation.reset_index(drop =True , inplace =True)"
   ]
  },
  {
   "cell_type": "code",
   "execution_count": 251,
   "metadata": {},
   "outputs": [],
   "source": [
    "simulation_comparison = pd.concat([network_simulation['time_lapsed'],users['time_lapsed']],axis = 1)\n",
    "column_names = ['nw_time_lapsed','usr_time_lapsed']\n",
    "simulation_comparison.columns = column_names"
   ]
  },
  {
   "cell_type": "code",
   "execution_count": 252,
   "metadata": {},
   "outputs": [],
   "source": [
    "simulation_comparison_after_6hrs = simulation_comparison[simulation_comparison['usr_time_lapsed'] > 900]"
   ]
  },
  {
   "cell_type": "code",
   "execution_count": 253,
   "metadata": {},
   "outputs": [
    {
     "name": "stderr",
     "output_type": "stream",
     "text": [
      "/Library/Frameworks/Python.framework/Versions/3.7/lib/python3.7/site-packages/ipykernel_launcher.py:40: SettingWithCopyWarning: \n",
      "A value is trying to be set on a copy of a slice from a DataFrame.\n",
      "Try using .loc[row_indexer,col_indexer] = value instead\n",
      "\n",
      "See the caveats in the documentation: http://pandas.pydata.org/pandas-docs/stable/indexing.html#indexing-view-versus-copy\n"
     ]
    }
   ],
   "source": [
    "simulation_comparison_after_6hrs['usr_time_lapsed_group'] = simulation_comparison_after_6hrs.apply(\n",
    "    lambda x: (\n",
    "        \n",
    "#     (x['usr_time_lapsed'] >= 360.0 and x['usr_time_lapsed'] < 390.0) and 360.0) \n",
    "#     or ((x['usr_time_lapsed'] >= 390.0 and x['usr_time_lapsed'] < 420.0) and 390.0) \n",
    "#     or ((x['usr_time_lapsed'] >= 420.0 and x['usr_time_lapsed'] < 450.0) and 420.0)\n",
    "#     or ((x['usr_time_lapsed'] >= 450.0 and x['usr_time_lapsed'] < 480.0) and 450.0)\n",
    "#     or ((x['usr_time_lapsed'] >= 480.0 and x['usr_time_lapsed'] < 510.0) and 480.0)\n",
    "#     or ((x['usr_time_lapsed'] >= 510.0 and x['usr_time_lapsed'] < 540.0) and 510.0)\n",
    "#     (x['usr_time_lapsed'] >= 540.0 and x['usr_time_lapsed'] < 570.0) and 540.0)\n",
    "#     or ((x['usr_time_lapsed'] >= 570.0 and x['usr_time_lapsed'] < 600.0) and 570.0)\n",
    "#     or ((x['usr_time_lapsed'] >= 600.0 and x['usr_time_lapsed'] < 630.0) and 600.0)\n",
    "#     or ((x['usr_time_lapsed'] >= 630.0 and x['usr_time_lapsed'] < 660.0) and 630.0)\n",
    "#     or ((x['usr_time_lapsed'] >= 660.0 and x['usr_time_lapsed'] < 690.0) and 660.0)\n",
    "#     or ((x['usr_time_lapsed'] >= 690.0 and x['usr_time_lapsed'] < 720.0) and 690.0)\n",
    "#     (x['usr_time_lapsed'] >= 720.0 and x['usr_time_lapsed'] < 750.0) and 720.0)\n",
    "#     or ((x['usr_time_lapsed'] >= 750.0 and x['usr_time_lapsed'] < 780.0) and 750.0)\n",
    "#     or ((x['usr_time_lapsed'] >= 780.0 and x['usr_time_lapsed'] < 810.0) and 780.0)\n",
    "#     or ((x['usr_time_lapsed'] >= 810.0 and x['usr_time_lapsed'] < 840.0) and 810.0)\n",
    "#     or ((x['usr_time_lapsed'] >= 840.0 and x['usr_time_lapsed'] < 870.0) and 840.0)\n",
    "#     or ((x['usr_time_lapsed'] >= 870.0 and x['usr_time_lapsed'] < 900.0) and 870.0)\n",
    "   (x['usr_time_lapsed'] >= 900.0 and x['usr_time_lapsed'] < 930.0) and 900.0)\n",
    "    or ((x['usr_time_lapsed'] >= 930.0 and x['usr_time_lapsed'] < 960.0) and 930.0)\n",
    "    or ((x['usr_time_lapsed'] >= 960.0 and x['usr_time_lapsed'] < 990.0) and 960.0)\n",
    "    or ((x['usr_time_lapsed'] >= 990.0 and x['usr_time_lapsed'] < 1020.0) and 990.0)\n",
    "    or ((x['usr_time_lapsed'] >= 1020.0 and x['usr_time_lapsed'] < 1050.0) and 1020.0)\n",
    "    or ((x['usr_time_lapsed'] >= 1050.0 and x['usr_time_lapsed'] < 1080.0) and 1050.0)\n",
    "    or ((x['usr_time_lapsed'] >= 1080.0 and x['usr_time_lapsed'] < 1110.0) and 1080.0)\n",
    "    or ((x['usr_time_lapsed'] >= 1110.0 and x['usr_time_lapsed'] < 1140.0) and 1110.0)\n",
    "    or ((x['usr_time_lapsed'] >= 1140.0 and x['usr_time_lapsed'] < 1170.0) and 1140.0)\n",
    "    or ((x['usr_time_lapsed'] >= 1170.0 and x['usr_time_lapsed'] < 1200.0) and 1170.0)\n",
    "    or ((x['usr_time_lapsed'] >= 1200.0 and x['usr_time_lapsed'] < 1230.0) and 1200.0)\n",
    "    or ((x['usr_time_lapsed'] >= 1230.0 and x['usr_time_lapsed'] < 1260.0) and 1230.0)\n",
    "    or ((x['usr_time_lapsed'] >= 1260.0 and x['usr_time_lapsed'] < 1290.0) and 1260.0)\n",
    "    or ((x['usr_time_lapsed'] >= 1290.0 and x['usr_time_lapsed'] < 1320.0) and 1290.0)\n",
    "    or ((x['usr_time_lapsed'] >= 1320.0 and x['usr_time_lapsed'] < 1350.0) and 1320.0)\n",
    "    or ((x['usr_time_lapsed'] >= 1350.0 and x['usr_time_lapsed'] < 1380.0) and 1350.0)\n",
    "    or ((x['usr_time_lapsed'] >= 1380.0 and x['usr_time_lapsed'] < 1410.0) and 1380.0)\n",
    "    or ((x['usr_time_lapsed'] >= 1410.0 and x['usr_time_lapsed'] < 1440.0) and 1410.0)\n",
    "    or None,axis = 1)"
   ]
  },
  {
   "cell_type": "code",
   "execution_count": 254,
   "metadata": {},
   "outputs": [],
   "source": [
    "df = simulation_comparison_after_6hrs"
   ]
  },
  {
   "cell_type": "markdown",
   "metadata": {},
   "source": [
    "simulation_comparison_after_x_hrs['both_infected'] = simulation_comparison_after_x_hrs.apply(lambda x: 1 if (np.isnan(x['nw_time_lapsed']) == False)\n",
    "                                                                          & (np.isnan(x['usr_time_lapsed']) == False)\n",
    "                                                                     else 0,axis = 1)"
   ]
  },
  {
   "cell_type": "code",
   "execution_count": 255,
   "metadata": {},
   "outputs": [
    {
     "name": "stdout",
     "output_type": "stream",
     "text": [
      "time:900\n",
      "time:930\n",
      "time:960\n",
      "time:990\n",
      "time:1020\n",
      "time:1050\n"
     ]
    },
    {
     "name": "stderr",
     "output_type": "stream",
     "text": [
      "/Library/Frameworks/Python.framework/Versions/3.7/lib/python3.7/site-packages/ipykernel_launcher.py:15: SettingWithCopyWarning: \n",
      "A value is trying to be set on a copy of a slice from a DataFrame.\n",
      "Try using .loc[row_indexer,col_indexer] = value instead\n",
      "\n",
      "See the caveats in the documentation: http://pandas.pydata.org/pandas-docs/stable/indexing.html#indexing-view-versus-copy\n",
      "  from ipykernel import kernelapp as app\n"
     ]
    },
    {
     "name": "stdout",
     "output_type": "stream",
     "text": [
      "time:1080\n",
      "time:1110\n",
      "time:1140\n",
      "time:1170\n",
      "time:1200\n",
      "time:1230\n",
      "time:1260\n",
      "time:1290\n",
      "time:1320\n",
      "time:1350\n",
      "time:1380\n",
      "time:1410\n"
     ]
    }
   ],
   "source": [
    "accuracy = {\n",
    "    \n",
    "    'time':[],\n",
    "    'precision':[],\n",
    "    'recall':[],\n",
    "    'f1_score':[]\n",
    "    \n",
    "}\n",
    "\n",
    "for time in range(900,1411,30):\n",
    "    print(f'time:{time}')\n",
    "    simulation_comparison_after_x_hrs = df[df['usr_time_lapsed_group'] <= time]\n",
    "    simulation_comparison_after_x_hrs['both_infected'] = simulation_comparison_after_x_hrs.apply(lambda x: 1 if (np.isnan(x['nw_time_lapsed']) == False)\n",
    "                                                                          & (np.isnan(x['usr_time_lapsed']) == False)\n",
    "                                                                     else 0,axis = 1)\n",
    "    true_positive = simulation_comparison_after_x_hrs['both_infected'].sum()\n",
    "    total_predicted_positive = len(simulation_comparison_after_x_hrs[np.isnan(simulation_comparison_after_x_hrs['nw_time_lapsed']) == False])\n",
    "    precision = true_positive/total_predicted_positive\n",
    "    total_actual_positive = len(simulation_comparison_after_x_hrs[np.isnan(simulation_comparison_after_x_hrs['usr_time_lapsed']) == False])\n",
    "    recall = true_positive/total_actual_positive\n",
    "    f1_score = (2*(precision * recall))/(precision + recall)\n",
    "    accuracy['time'].append(time)\n",
    "    accuracy['precision'].append(precision)\n",
    "    accuracy['recall'].append(recall)\n",
    "    accuracy['f1_score'].append(f1_score)\n",
    "    \n",
    "\n",
    "accuracy_df = pd.DataFrame(accuracy)\n",
    "accuracy_df.to_csv(path+'simulation_accuracy_15hrs_15hrs_model_accuracy_at_each_timestep.csv')\n",
    "    \n",
    "\n",
    "\n",
    "    \n",
    "\n",
    "\n",
    "    "
   ]
  },
  {
   "cell_type": "code",
   "execution_count": null,
   "metadata": {},
   "outputs": [],
   "source": []
  }
 ],
 "metadata": {
  "kernelspec": {
   "display_name": "Python 3",
   "language": "python",
   "name": "python3"
  },
  "language_info": {
   "codemirror_mode": {
    "name": "ipython",
    "version": 3
   },
   "file_extension": ".py",
   "mimetype": "text/x-python",
   "name": "python",
   "nbconvert_exporter": "python",
   "pygments_lexer": "ipython3",
   "version": "3.7.0"
  }
 },
 "nbformat": 4,
 "nbformat_minor": 2
}
