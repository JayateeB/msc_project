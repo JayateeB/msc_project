{
 "cells": [
  {
   "cell_type": "code",
   "execution_count": 6,
   "metadata": {},
   "outputs": [],
   "source": [
    "import pandas as pd\n",
    "import csv\n",
    "import pickle\n",
    "import numpy as np\n",
    "from IPython.display import display\n",
    "import multiprocessing\n",
    "from multiprocessing import Pool\n",
    "import math\n",
    "from tqdm import tqdm\n",
    "import time\n",
    "import traceback\n",
    "from sklearn.externals import joblib\n",
    "import xgboost as xgb\n",
    "import json\n",
    "import time\n",
    "from tqdm import tqdm"
   ]
  },
  {
   "cell_type": "code",
   "execution_count": 7,
   "metadata": {},
   "outputs": [],
   "source": [
    "event = 'nyc'\n",
    "start_hour = 730"
   ]
  },
  {
   "cell_type": "code",
   "execution_count": 8,
   "metadata": {},
   "outputs": [],
   "source": [
    "#path = \"/Users/jay/MSC_WSBDA/MSc_Thesis/Msc_project/Data/\"\n",
    "path = '/Users/syamantak/JayateeB/new_files/data/'\n",
    "#model = joblib.load(path+\"xgb_model_GIVENCHY (2).dat\")\n",
    "model = joblib.load(path+event+\"_xgb_model_\"+str(start_hour)+\"_hrs.dat\")"
   ]
  },
  {
   "cell_type": "code",
   "execution_count": 9,
   "metadata": {},
   "outputs": [],
   "source": [
    "def load_pickle_file(pickled_file):\n",
    "    print(f'Loading data file from {pickled_file}')\n",
    "    infile = open(pickled_file,'rb')\n",
    "    unpickled_file = pickle.load(infile)\n",
    "    print(f'Loaded {len(unpickled_file)} entries')\n",
    "    infile.close()\n",
    "    return unpickled_file\n",
    "          \n",
    "    \n",
    "def save_pickle_file(path, data):\n",
    "    print('Dumping data to path {}'.format(path))\n",
    "    with open(path, 'wb') as file:\n",
    "        pickle.dump(data, file)\n",
    "    print('Finished dumping data to path {}'.format(path))\n",
    "\n",
    "\n",
    "def mean(numbers):\n",
    "    return float(sum(numbers)) / max(len(numbers), 1)\n",
    "\n",
    "\n",
    "def safe_division(x, y):\n",
    "    if y == 0:\n",
    "        return 0\n",
    "    else:\n",
    "        return x/y\n",
    "\n"
   ]
  },
  {
   "cell_type": "code",
   "execution_count": 12,
   "metadata": {},
   "outputs": [
    {
     "name": "stdout",
     "output_type": "stream",
     "text": [
      "Loading data file from /Users/syamantak/JayateeB/new_files/data/nyc7_hrs_data.pkl\n",
      "Loaded 1832451 entries\n",
      "Loading data file from /Users/syamantak/JayateeB/new_files/data/nyc_network_simulation_7_hrs.pkl\n",
      "Loaded 1832451 entries\n"
     ]
    }
   ],
   "source": [
    "initial_features = load_pickle_file(path+event+str(start_hour)+'_hrs_data.pkl')\n",
    "initial_dataset = load_pickle_file(path+event+'_network_simulation_'+str(start_hour)+'_hrs.pkl')\n",
    "#users = load_pickle_file(path+event+\"_users.dat\")\n",
    "#users.reset_index(drop =True , inplace =True)\n",
    "#initial_features = load_pickle_file(path+'sample_hrs_data.pkl')\n",
    "#initial_dataset = load_pickle_file(path+'nyc_network_simulation_sample_hrs.pkl')"
   ]
  },
  {
   "cell_type": "code",
   "execution_count": 14,
   "metadata": {},
   "outputs": [
    {
     "name": "stdout",
     "output_type": "stream",
     "text": [
      "Loading data file from /Users/syamantak/JayateeB/new_files/data/nyc/nyc_users.dat\n",
      "Loaded 135912 entries\n"
     ]
    }
   ],
   "source": [
    "users = load_pickle_file(path+'nyc/'+'nyc_users.dat')"
   ]
  },
  {
   "cell_type": "code",
   "execution_count": 15,
   "metadata": {},
   "outputs": [],
   "source": [
    "in_degree = list(initial_dataset.friends_count)\n",
    "out_degree = list(initial_dataset.followers_count)\n",
    "degree = in_degree + out_degree"
   ]
  },
  {
   "cell_type": "code",
   "execution_count": 29,
   "metadata": {},
   "outputs": [],
   "source": [
    "def process_data(source_id,target_id,features,network_simulation,current_time):\n",
    "    \n",
    "    if isinstance(network_simulation.loc[target_id,'source_candidates'],list) and len(network_simulation.loc[target_id,'source_candidates']) > 0 :\n",
    "        \n",
    "        source_candidates = sorted(network_simulation.loc[target_id,'source_candidates'])\n",
    "        nf = network_simulation.loc[source_candidates]\n",
    "        \n",
    "        sources = nf[nf['time_lapsed'] <= current_time].index.tolist()\n",
    "        \n",
    "        if len(sources) > 0:\n",
    "        \n",
    "            first_source_index = source_candidates[0]\n",
    "            first_source_row = network_simulation.loc[first_source_index]\n",
    "            first_source_seed_row = network_simulation.loc[first_source_row['seed_index']]\n",
    "\n",
    "            sources_dataframe = network_simulation.loc[sources]\n",
    "            degreeList = list(degree[i] for i in sources)\n",
    "            inDegreeList = list(in_degree[i] for i in sources)\n",
    "            outDegreeList = list(out_degree[i] for i in sources)\n",
    "            degreeList = list(network_simulation.loc[i, 'followers_count'] + network_simulation.loc[i, 'friends_count']  for i in sources)\n",
    "            timeList = [current_time - network_simulation.loc[x,'time_lapsed'] for x in sources]\n",
    "\n",
    "\n",
    "            last_source_index = sources[-1]    \n",
    "            try:\n",
    "                last_source_row = network_simulation.loc[last_source_index]\n",
    "                last_source_seed_row = network_simulation.loc[last_source_row['seed_index']]\n",
    "            except:\n",
    "                print(f\"target_index:{target_id}, last_source_row['seed_index'] : {last_source_row['seed_index']}\")\n",
    "                print(f\"last_source_index:{last_source_index}\")\n",
    "\n",
    "\n",
    "            #Extraction\n",
    "            #Columns which are added for simulation, but they are not used as features for model prediction\n",
    "\n",
    "            user_row = network_simulation.loc[target_id]\n",
    "\n",
    "\n",
    "            # UsM: User metadata                    \n",
    "\n",
    "            features.loc[target_id,'UsM_deltaDays0'] = first_source_row.user_created_days\n",
    "            features.loc[target_id,'UsM_statusesCount0'] = first_source_row.statuses_count\n",
    "            features.loc[target_id,'UsM_followersCount0'] = first_source_row.followers_count\n",
    "            features.loc[target_id,'UsM_favouritesCount0'] = first_source_row.favourites_count\n",
    "            features.loc[target_id,'UsM_friendsCount0'] = first_source_row.friends_count\n",
    "            features.loc[target_id,'UsM_listedCount0'] = first_source_row.listed_count\n",
    "            features.loc[target_id,'UsM_normalizedUserStatusesCount0'] = first_source_row.normalized_statuses_count\n",
    "            features.loc[target_id,'UsM_normalizedUserFollowersCount0'] = first_source_row.normalized_followers_count\n",
    "            features.loc[target_id,'UsM_normalizedUserFavouritesCount0'] = first_source_row.normalized_favourites_count\n",
    "            features.loc[target_id,'UsM_normalizedUserListedCount0'] = first_source_row.normalized_listed_count\n",
    "            features.loc[target_id,'UsM_normalizedUserFriendsCount0'] = first_source_row.normalized_friends_count\n",
    "            features.loc[target_id,'UsM_deltaDays-1'] = last_source_row.user_created_days\n",
    "            features.loc[target_id,'UsM_statusesCount-1'] = last_source_row.statuses_count\n",
    "            features.loc[target_id,'UsM_followersCount-1'] = last_source_row.followers_count\n",
    "            features.loc[target_id,'UsM_favouritesCount-1'] = last_source_row.favourites_count\n",
    "            features.loc[target_id,'UsM_friendsCount-1'] = last_source_row.friends_count\n",
    "            features.loc[target_id,'UsM_listedCount-1'] = last_source_row.listed_count\n",
    "            features.loc[target_id,'UsM_normalizedUserStatusesCount-1'] = last_source_row.normalized_statuses_count\n",
    "            features.loc[target_id,'UsM_normalizedUserFollowersCount-1'] = last_source_row.normalized_followers_count\n",
    "            features.loc[target_id,'UsM_normalizedUserFavouritesCount-1'] = last_source_row.normalized_favourites_count\n",
    "            features.loc[target_id,'UsM_normalizedUserListedCount-1'] = last_source_row.normalized_listed_count\n",
    "            features.loc[target_id,'UsM_normalizedUserFriendsCount-1'] = last_source_row.normalized_friends_count\n",
    "            # TwM: Tweet metadata\n",
    "            features.loc[target_id,'TwM_t0'] = round(timeList[0], 1)\n",
    "            features.loc[target_id,'TwM_tSeed0'] = round(current_time - first_source_seed_row['time_lapsed'], 1)\n",
    "            features.loc[target_id,'TwM_t-1'] = round(timeList[-1], 1)\n",
    "            features.loc[target_id,'TwM_tSeed-1'] = round(current_time - last_source_seed_row['time_lapsed'], 1)\n",
    "            features.loc[target_id,'TwM_tCurrent'] = current_time\n",
    "            # Nw: Network\n",
    "            features.loc[target_id,'Nw_degree'] = degree[target_id]\n",
    "            features.loc[target_id,'Nw_inDegree'] = in_degree[target_id]\n",
    "            features.loc[target_id,'Nw_outDegree'] = out_degree[target_id]\n",
    "            features.loc[target_id,'Nw_degree0'] = degree[first_source_index]\n",
    "            features.loc[target_id,'Nw_inDegree0'] = in_degree[first_source_index]\n",
    "            features.loc[target_id,'Nw_outDegree0'] = out_degree[first_source_index]\n",
    "            features.loc[target_id,'Nw_degree-1'] = degree[last_source_index]\n",
    "            features.loc[target_id,'Nw_inDegree-1'] = in_degree[last_source_index]\n",
    "            features.loc[target_id,'Nw_outDegree-1'] = out_degree[last_source_index]\n",
    "            features.loc[target_id,'Nw_degreeSeed0'] = degree[int(first_source_row['seed_index'])]\n",
    "            features.loc[target_id,'Nw_inDegreeSeed0'] = in_degree[int(first_source_row['seed_index'])]\n",
    "            features.loc[target_id,'Nw_outDegreeSeed0'] = out_degree[int(first_source_row['seed_index'])]\n",
    "            features.loc[target_id,'Nw_degreeSeed-1'] = degree[int(last_source_row['seed_index'])]\n",
    "            features.loc[target_id,'Nw_inDegreeSeed-1'] = in_degree[int(last_source_row['seed_index'])]\n",
    "            features.loc[target_id,'Nw_outDegreeSeed-1'] = out_degree[int(last_source_row['seed_index'])]\n",
    "            # SNw: Spreading Network\n",
    "            features.loc[target_id,'SNw_nFriendsInfected'] = len(sources)\n",
    "            features.loc[target_id,'SNw_friendsInfectedRatio'] = safe_division(len(sources), user_row['friends_count'])\n",
    "            features.loc[target_id,'SNw_generation0'] = first_source_row['generation']\n",
    "            features.loc[target_id,'SNw_generation-1'] = last_source_row['generation']\n",
    "            features.loc[target_id,'SNw_timeSinceSeed0'] = first_source_row['time_since_seed']\n",
    "            features.loc[target_id,'SNw_timeSinceSeed-1'] = last_source_row['time_since_seed']\n",
    "\n",
    "            infected_dataframe = network_simulation[network_simulation.time_lapsed <= current_time]\n",
    "            total_nodes_infected = infected_dataframe.shape[0]\n",
    "            total_in_degree = sum(infected_dataframe.friends_count)\n",
    "            total_out_degree = sum(infected_dataframe.followers_count)\n",
    "\n",
    "            features.loc[target_id,'SNw_totalNodesInfected'] = total_nodes_infected\n",
    "            features.loc[target_id,'SNw_nodeInfectedCentrality'] = len(sources)/total_nodes_infected\n",
    "            features.loc[target_id,'SNw_totalInDegree'] = total_in_degree\n",
    "            features.loc[target_id,'SNw_totalOutDegree'] = total_out_degree\n",
    "            features.loc[target_id,'SNw_inDegreeCentrality'] = in_degree[target_id]/total_in_degree\n",
    "            features.loc[target_id,'SNw_inDegreeCentrality0'] = in_degree[first_source_index]/total_in_degree\n",
    "            features.loc[target_id,'SNw_inDegreeCentrality-1'] = in_degree[last_source_index]/total_in_degree\n",
    "            features.loc[target_id,'SNw_outDegreeCentrality'] = out_degree[target_id]/total_out_degree\n",
    "            features.loc[target_id,'SNw_outDegreeCentrality0'] = out_degree[first_source_index]/total_out_degree\n",
    "            features.loc[target_id,'SNw_outDegreeCentrality-1'] = out_degree[last_source_index]/total_out_degree\n",
    "            features.loc[target_id,'SNw_inDegreeCentralitySeed0'] = in_degree[int(first_source_row['seed_index'])]/total_in_degree\n",
    "            features.loc[target_id,'SNw_outDegreeCentralitySeed0'] = out_degree[int(first_source_row['seed_index'])]/total_out_degree\n",
    "            features.loc[target_id,'SNw_inDegreeCentralitySeed-1'] = in_degree[int(last_source_row['seed_index'])]/total_in_degree\n",
    "            features.loc[target_id,'SNw_outDegreeCentralitySeed-1'] = out_degree[int(last_source_row['seed_index'])]/total_out_degree\n",
    "            # Stat: Statistical\n",
    "            features.loc[target_id,'Stat_average_kOut'] = round(mean(degreeList), 1)\n",
    "            features.loc[target_id,'Stat_average_t'] = round(mean(timeList), 1)\n",
    "            features.loc[target_id,'Stat_average_deltaDays'] = sources_dataframe.user_created_days.mean()\n",
    "            features.loc[target_id,'Stat_average_statusesCount'] = sources_dataframe.statuses_count.mean()\n",
    "            features.loc[target_id,'Stat_average_followersCount'] = sources_dataframe.followers_count.mean()\n",
    "            features.loc[target_id,'Stat_average_favouritesCount'] = sources_dataframe.favourites_count.mean()\n",
    "            features.loc[target_id,'Stat_average_friendsCount'] = sources_dataframe.friends_count.mean()\n",
    "            features.loc[target_id,'Stat_average_listedCount'] = sources_dataframe.listed_count.mean()\n",
    "            features.loc[target_id,'Stat_average_normalizedUserStatusesCount'] = sources_dataframe.normalized_statuses_count.mean()\n",
    "            features.loc[target_id,'Stat_average_normalizedUserFollowersCount'] = sources_dataframe.normalized_followers_count.mean()\n",
    "            features.loc[target_id,'Stat_average_normalizedUserFavouritesCount'] = sources_dataframe.normalized_favourites_count.mean()\n",
    "            features.loc[target_id,'Stat_average_normalizedUserListedCount'] = sources_dataframe.normalized_listed_count.mean()\n",
    "            features.loc[target_id,'Stat_average_normalizedUserFriendsCount'] = sources_dataframe.normalized_friends_count.mean()\n",
    "            features.loc[target_id,'Stat_max_kOut'] = max(degreeList)\n",
    "            features.loc[target_id,'Stat_min_kOut'] = min(degreeList)\n",
    "    #processed_dataframe = pd.DataFrame(features)\n",
    "    return features\n",
    "\n"
   ]
  },
  {
   "cell_type": "code",
   "execution_count": 38,
   "metadata": {},
   "outputs": [],
   "source": [
    "def simulation(features,network_simulation,current_time):\n",
    "    infected_users_indices = network_simulation[network_simulation['time_lapsed'].isnull() == False].index.tolist()\n",
    "    #print(f\"infected_users_indices:{infected_users_indices}\")\n",
    "    for i in tqdm(infected_users_indices, total=len(infected_users_indices)):\n",
    "        if isinstance(network_simulation.loc[i,'followers_list'],str):\n",
    "            flrs_list = list(map(lambda x: int(x), json.loads(network_simulation.loc[i].followers_list)))\n",
    "            #print(f\"flrs_list:{flrs_list}\")\n",
    "            common_x = list(set(flrs_list).intersection(set(id_set)))\n",
    "            df = network_simulation[network_simulation['id'].isin(common_x)]\n",
    "            followers_indices = df.index.tolist()                      \n",
    "            #uninfected_followers_indices = [y for y in followers_indices if np.isnan(network_simulation.loc[y, 'time_lapsed']) == True]\n",
    "            df_flrs = network_simulation.loc[followers_indices]\n",
    "            uninfected_followers_indices = df_flrs[df_flrs['time_lapsed'].isnull() == True].index.tolist() \n",
    "            #print(f\"i:{i},followers_indices:{followers_indices},uninfected_followers_indices:{uninfected_followers_indices}\")\n",
    "            if len(uninfected_followers_indices) > 0:\n",
    "                #print(f\"uninfected followers are there\")\n",
    "                for j in uninfected_followers_indices:\n",
    "                    #print(f\"j:{j}\")\n",
    "                    source_index = i\n",
    "                    target_index = j\n",
    "                    processed_dataframe = process_data(source_index,target_index,features,network_simulation,current_time)\n",
    "                    #print(f\"len processed_dataframe: {processed_dataframe[0,:]}\")\n",
    "                    \n",
    "                    valid_row = processed_dataframe.loc[[target_index]]\n",
    "                    #print(f\"(valid_row.columns):{list(valid_row.columns.values)}\")\n",
    "                    \n",
    "                    #for i in range(valid_row.columns):\n",
    "                        #print(f\"valid_row:{i}\")\n",
    "                    #valid = valid_row.drop(['user_id','infected_status','infection_time','followers_list','Nw_inDegree','Nw_outDegree'],axis=1)\n",
    "                    valid = valid_row.drop(['user_id','infected_status','infection_time','followers_list'],axis=1)\n",
    "                    #print(f\"list(valid.columns):{list(valid.columns)}\")\n",
    "                    valid = valid.astype('float64')\n",
    "\n",
    "                    columns = list(valid.columns)\n",
    "                    X = valid[columns]\n",
    "                    pre_data = xgb.DMatrix(X)\n",
    "                    infec = model.predict(pre_data)\n",
    "                    #print(f\"infec:{infec}\")\n",
    "                    if infec > 0.6:\n",
    "                        print(\"Infected\")\n",
    "                        network_simulation.loc[target_index,'time_lapsed'] = current_time\n",
    "                        network_simulation.loc[target_index,'source_index'] = source_index\n",
    "                        network_simulation.loc[target_index,'seed_index'] = network_simulation.loc[source_index,'seed_index']\n",
    "                        network_simulation.loc[target_index,'generation'] = network_simulation.loc[source_index,'generation'] + 1\n",
    "                        seed_index = network_simulation.loc[target_index,'seed_index']\n",
    "                        network_simulation.loc[target_index,'time_since_seed'] = current_time - network_simulation.loc[seed_index,'time_lapsed']\n",
    "                        followers_of_node = network_simulation.loc[target_index,'followers_list'] \n",
    "                        if isinstance(followers_of_node,list):\n",
    "                            for f in followers_of_node:\n",
    "                                if np.isnan(network_simulation[network_simulation['id'] == f]['time_lapsed'].values):\n",
    "                                    follower_index = network_simulation[network_simulation['id'] == f].index.values\n",
    "                                    try:\n",
    "                                        list(network_simulation.loc[follower_index,'source_candidates'].values).append(f)\n",
    "                                    except:\n",
    "                                        print(f\"source_candidates:{network_simulation.loc[follower_index,'source_candidates'].values}\")\n",
    "                                        print(f\"f:{f}\")\n",
    "\n",
    "    return network_simulation"
   ]
  },
  {
   "cell_type": "code",
   "execution_count": 31,
   "metadata": {
    "scrolled": true
   },
   "outputs": [
    {
     "name": "stderr",
     "output_type": "stream",
     "text": [
      "\n",
      "  0%|          | 0/81124 [00:00<?, ?it/s]\u001b[A\n",
      "  5%|▍         | 3990/81124 [00:00<00:01, 39898.52it/s]\u001b[A"
     ]
    },
    {
     "name": "stdout",
     "output_type": "stream",
     "text": [
      "Simulation started\n",
      "current_time:420\n"
     ]
    },
    {
     "name": "stderr",
     "output_type": "stream",
     "text": [
      "\n",
      " 10%|▉         | 7878/81124 [00:00<00:01, 39585.94it/s]\u001b[A\n",
      " 15%|█▍        | 11817/81124 [00:00<00:01, 39524.90it/s]\u001b[A\n",
      " 20%|█▉        | 15849/81124 [00:00<00:01, 39758.95it/s]\u001b[A\n",
      " 24%|██▍       | 19746/81124 [00:00<00:01, 39518.71it/s]\u001b[A\n",
      " 29%|██▉       | 23847/81124 [00:00<00:01, 39953.76it/s]\u001b[A\n",
      " 34%|███▍      | 27776/81124 [00:00<00:01, 39751.21it/s]\u001b[A\n",
      " 39%|███▉      | 31790/81124 [00:00<00:01, 39866.21it/s]\u001b[A\n",
      " 44%|████▍     | 35720/81124 [00:00<00:01, 39690.18it/s]\u001b[A\n",
      " 49%|████▉     | 39785/81124 [00:01<00:01, 39972.87it/s]\u001b[A\n",
      " 54%|█████▍    | 43720/81124 [00:01<00:00, 39782.38it/s]\u001b[A\n",
      " 59%|█████▉    | 47692/81124 [00:01<00:00, 39762.57it/s]\u001b[A\n",
      " 64%|██████▎   | 51670/81124 [00:01<00:00, 39766.13it/s]\u001b[A\n",
      " 69%|██████▊   | 55609/81124 [00:01<00:00, 39464.58it/s]\u001b[A\n",
      " 73%|███████▎  | 59530/81124 [00:01<00:00, 39095.32it/s]\u001b[A\n",
      " 78%|███████▊  | 63422/81124 [00:01<00:00, 38366.07it/s]\u001b[A\n",
      " 83%|████████▎ | 67250/81124 [00:01<00:00, 37065.67it/s]\u001b[A\n",
      " 87%|████████▋ | 70960/81124 [00:01<00:00, 36408.80it/s]\u001b[A\n",
      " 92%|█████████▏| 74858/81124 [00:01<00:00, 37143.53it/s]\u001b[A"
     ]
    },
    {
     "name": "stdout",
     "output_type": "stream",
     "text": [
      "Infected\n",
      "Infected\n"
     ]
    },
    {
     "name": "stderr",
     "output_type": "stream",
     "text": [
      "\n",
      " 92%|█████████▏| 74858/81124 [00:12<00:00, 37143.53it/s]\u001b[A\n",
      " 94%|█████████▍| 76103/81124 [00:14<00:14, 335.07it/s]  \u001b[A"
     ]
    },
    {
     "name": "stdout",
     "output_type": "stream",
     "text": [
      "Infected\n",
      "Infected\n"
     ]
    },
    {
     "name": "stderr",
     "output_type": "stream",
     "text": [
      "\n",
      " 94%|█████████▍| 76103/81124 [00:32<00:14, 335.07it/s]\u001b[A\n",
      " 94%|█████████▍| 76108/81124 [00:36<1:54:11,  1.37s/it]\u001b[A"
     ]
    },
    {
     "name": "stdout",
     "output_type": "stream",
     "text": [
      "Infected\n",
      "Infected\n"
     ]
    },
    {
     "name": "stderr",
     "output_type": "stream",
     "text": [
      "\n",
      " 94%|█████████▍| 76109/81124 [00:38<1:49:39,  1.31s/it]\u001b[A\n",
      " 94%|█████████▍| 76110/81124 [00:41<2:39:59,  1.91s/it]\u001b[A"
     ]
    },
    {
     "name": "stdout",
     "output_type": "stream",
     "text": [
      "Infected\n",
      "Infected\n",
      "Infected\n",
      "Infected\n",
      "Infected\n",
      "Infected\n",
      "Infected\n",
      "Infected\n"
     ]
    },
    {
     "name": "stderr",
     "output_type": "stream",
     "text": [
      "\n",
      " 94%|█████████▍| 76111/81124 [00:56<7:58:01,  5.72s/it]\u001b[A"
     ]
    },
    {
     "name": "stdout",
     "output_type": "stream",
     "text": [
      "Infected\n",
      "Infected\n",
      "Infected\n",
      "Infected\n",
      "Infected\n",
      "Infected\n",
      "Infected\n",
      "Infected\n",
      "Infected\n",
      "Infected\n",
      "Infected\n",
      "Infected\n",
      "Infected\n",
      "Infected\n",
      "Infected\n",
      "Infected\n",
      "Infected\n",
      "Infected\n",
      "Infected\n",
      "Infected\n",
      "Infected\n",
      "Infected\n",
      "Infected\n",
      "Infected\n",
      "Infected\n",
      "Infected\n",
      "Infected\n",
      "Infected\n",
      "Infected\n",
      "Infected\n",
      "Infected\n",
      "Infected\n",
      "Infected\n",
      "Infected\n",
      "Infected\n",
      "Infected\n",
      "Infected\n",
      "Infected\n",
      "Infected\n",
      "Infected\n"
     ]
    },
    {
     "name": "stderr",
     "output_type": "stream",
     "text": [
      "\n",
      " 94%|█████████▍| 76112/81124 [02:18<39:49:40, 28.61s/it]\u001b[A\n",
      " 94%|█████████▍| 76113/81124 [02:31<33:30:30, 24.07s/it]\u001b[A"
     ]
    },
    {
     "name": "stdout",
     "output_type": "stream",
     "text": [
      "Infected\n",
      "Infected\n"
     ]
    },
    {
     "name": "stderr",
     "output_type": "stream",
     "text": [
      "\n",
      " 94%|█████████▍| 76114/81124 [02:39<26:37:23, 19.13s/it]\u001b[A"
     ]
    },
    {
     "name": "stdout",
     "output_type": "stream",
     "text": [
      "Infected\n",
      "Infected\n",
      "Infected\n",
      "Infected\n",
      "Infected\n",
      "Infected\n",
      "Infected\n",
      "Infected\n",
      "Infected\n"
     ]
    },
    {
     "name": "stderr",
     "output_type": "stream",
     "text": [
      "\n",
      " 94%|█████████▍| 76115/81124 [03:29<39:44:59, 28.57s/it]\u001b[A\n",
      " 94%|█████████▍| 76116/81124 [03:31<28:30:47, 20.50s/it]\u001b[A\n",
      " 94%|█████████▍| 76117/81124 [03:38<23:06:44, 16.62s/it]\u001b[A"
     ]
    },
    {
     "name": "stdout",
     "output_type": "stream",
     "text": [
      "Infected\n"
     ]
    },
    {
     "name": "stderr",
     "output_type": "stream",
     "text": [
      "\n",
      " 94%|█████████▍| 76118/81124 [03:55<23:12:37, 16.69s/it]\u001b[A"
     ]
    },
    {
     "name": "stdout",
     "output_type": "stream",
     "text": [
      "Infected\n",
      "Infected\n",
      "Infected\n",
      "Infected\n",
      "Infected\n",
      "Infected\n",
      "Infected\n",
      "Infected\n",
      "Infected\n",
      "Infected\n",
      "Infected\n",
      "Infected\n",
      "Infected\n",
      "Infected\n",
      "Infected\n",
      "Infected\n",
      "Infected\n",
      "Infected\n"
     ]
    },
    {
     "name": "stderr",
     "output_type": "stream",
     "text": [
      "\n",
      " 94%|█████████▍| 76119/81124 [05:21<51:51:03, 37.30s/it]\u001b[A\n",
      " 94%|█████████▍| 76120/81124 [05:24<37:29:47, 26.98s/it]\u001b[A"
     ]
    },
    {
     "name": "stdout",
     "output_type": "stream",
     "text": [
      "Infected\n",
      "Infected\n",
      "Infected\n",
      "Infected\n",
      "Infected\n",
      "Infected\n",
      "Infected\n",
      "Infected\n",
      "Infected\n",
      "Infected\n",
      "Infected\n",
      "Infected\n",
      "Infected\n",
      "Infected\n",
      "Infected\n",
      "Infected\n",
      "Infected\n",
      "Infected\n",
      "Infected\n",
      "Infected\n",
      "Infected\n",
      "Infected\n",
      "Infected\n",
      "Infected\n",
      "Infected\n",
      "Infected\n",
      "Infected\n",
      "Infected\n",
      "Infected\n",
      "Infected\n",
      "Infected\n",
      "Infected\n",
      "Infected\n",
      "Infected\n",
      "Infected\n",
      "Infected\n"
     ]
    },
    {
     "name": "stderr",
     "output_type": "stream",
     "text": [
      "\n",
      " 94%|█████████▍| 76121/81124 [07:02<67:09:20, 48.32s/it]\u001b[A\n",
      " 94%|█████████▍| 76122/81124 [07:02<47:03:41, 33.87s/it]\u001b[A\n",
      " 94%|█████████▍| 76124/81124 [07:02<33:01:11, 23.77s/it]\u001b[A"
     ]
    },
    {
     "name": "stdout",
     "output_type": "stream",
     "text": [
      "Infected\n",
      "Infected\n"
     ]
    },
    {
     "name": "stderr",
     "output_type": "stream",
     "text": [
      "\n",
      " 94%|█████████▍| 76125/81124 [07:11<26:35:49, 19.15s/it]\u001b[A"
     ]
    },
    {
     "name": "stdout",
     "output_type": "stream",
     "text": [
      "Infected\n"
     ]
    },
    {
     "name": "stderr",
     "output_type": "stream",
     "text": [
      "\n",
      " 94%|█████████▍| 76126/81124 [07:28<25:50:52, 18.62s/it]\u001b[A"
     ]
    },
    {
     "name": "stdout",
     "output_type": "stream",
     "text": [
      "Infected\n",
      "Infected\n"
     ]
    },
    {
     "name": "stderr",
     "output_type": "stream",
     "text": [
      "\n",
      " 94%|█████████▍| 76127/81124 [07:44<24:39:07, 17.76s/it]\u001b[A"
     ]
    },
    {
     "name": "stdout",
     "output_type": "stream",
     "text": [
      "Infected\n",
      "Infected\n",
      "Infected\n",
      "Infected\n",
      "Infected\n",
      "Infected\n"
     ]
    },
    {
     "name": "stderr",
     "output_type": "stream",
     "text": [
      "\n",
      " 94%|█████████▍| 76128/81124 [08:48<43:45:53, 31.54s/it]\u001b[A\n",
      " 94%|█████████▍| 76129/81124 [08:56<34:15:47, 24.69s/it]\u001b[A"
     ]
    },
    {
     "name": "stdout",
     "output_type": "stream",
     "text": [
      "Infected\n",
      "Infected\n",
      "Infected\n",
      "Infected\n",
      "Infected\n",
      "Infected\n",
      "Infected\n",
      "Infected\n",
      "Infected\n",
      "Infected\n"
     ]
    },
    {
     "name": "stderr",
     "output_type": "stream",
     "text": [
      "\n",
      " 94%|█████████▍| 76130/81124 [10:42<67:51:36, 48.92s/it]\u001b[A\n",
      " 94%|█████████▍| 76132/81124 [10:44<47:56:35, 34.57s/it]\u001b[A"
     ]
    },
    {
     "name": "stdout",
     "output_type": "stream",
     "text": [
      "Infected\n",
      "Infected\n",
      "Infected\n",
      "Infected\n"
     ]
    },
    {
     "name": "stderr",
     "output_type": "stream",
     "text": [
      "\n",
      " 94%|█████████▍| 76133/81124 [11:30<52:55:32, 38.18s/it]\u001b[A\n",
      " 94%|█████████▍| 76134/81124 [11:32<37:38:44, 27.16s/it]\u001b[A"
     ]
    },
    {
     "name": "stdout",
     "output_type": "stream",
     "text": [
      "Infected\n",
      "Infected\n",
      "Infected\n",
      "Infected\n",
      "Infected\n",
      "Infected\n",
      "Infected\n",
      "Infected\n",
      "Infected\n",
      "Infected\n",
      "Infected\n",
      "Infected\n"
     ]
    },
    {
     "name": "stderr",
     "output_type": "stream",
     "text": [
      "\n",
      " 94%|█████████▍| 76135/81124 [13:01<63:12:20, 45.61s/it]\u001b[A\n",
      " 94%|█████████▍| 76136/81124 [13:01<44:26:41, 32.08s/it]\u001b[A\n",
      " 94%|█████████▍| 76138/81124 [13:02<31:14:12, 22.55s/it]\u001b[A\n",
      " 94%|█████████▍| 76139/81124 [13:16<27:52:11, 20.13s/it]\u001b[A\n",
      " 94%|█████████▍| 76140/81124 [13:17<19:43:49, 14.25s/it]\u001b[A"
     ]
    },
    {
     "name": "stdout",
     "output_type": "stream",
     "text": [
      "Infected\n"
     ]
    },
    {
     "name": "stderr",
     "output_type": "stream",
     "text": [
      "\n",
      " 94%|█████████▍| 76141/81124 [13:27<17:51:31, 12.90s/it]\u001b[A\n",
      " 94%|█████████▍| 76142/81124 [13:28<13:01:51,  9.42s/it]\u001b[A"
     ]
    },
    {
     "name": "stdout",
     "output_type": "stream",
     "text": [
      "Infected\n",
      "Infected\n",
      "Infected\n",
      "Infected\n",
      "Infected\n",
      "Infected\n",
      "Infected\n",
      "Infected\n",
      "Infected\n",
      "Infected\n",
      "Infected\n",
      "Infected\n",
      "Infected\n",
      "Infected\n"
     ]
    },
    {
     "name": "stderr",
     "output_type": "stream",
     "text": [
      "\n",
      " 94%|█████████▍| 76143/81124 [15:49<67:55:34, 49.09s/it]\u001b[A\n",
      " 94%|█████████▍| 76145/81124 [15:53<48:11:41, 34.85s/it]\u001b[A\n",
      " 94%|█████████▍| 76146/81124 [16:20<45:13:40, 32.71s/it]\u001b[A\n",
      " 94%|█████████▍| 76148/81124 [16:39<35:26:50, 25.65s/it]\u001b[A\n",
      " 94%|█████████▍| 76149/81124 [16:43<26:39:31, 19.29s/it]\u001b[A"
     ]
    },
    {
     "name": "stdout",
     "output_type": "stream",
     "text": [
      "Infected\n"
     ]
    },
    {
     "name": "stderr",
     "output_type": "stream",
     "text": [
      "\n",
      " 94%|█████████▍| 76150/81124 [17:32<38:59:13, 28.22s/it]\u001b[A"
     ]
    },
    {
     "name": "stdout",
     "output_type": "stream",
     "text": [
      "Infected\n"
     ]
    },
    {
     "name": "stderr",
     "output_type": "stream",
     "text": [
      "\n",
      " 94%|█████████▍| 76152/81124 [17:40<28:54:53, 20.94s/it]\u001b[A"
     ]
    },
    {
     "name": "stdout",
     "output_type": "stream",
     "text": [
      "Infected\n",
      "Infected\n",
      "Infected\n",
      "Infected\n",
      "Infected\n",
      "Infected\n"
     ]
    },
    {
     "name": "stderr",
     "output_type": "stream",
     "text": [
      "\n",
      " 94%|█████████▍| 76153/81124 [18:39<44:34:19, 32.28s/it]\u001b[A"
     ]
    },
    {
     "name": "stdout",
     "output_type": "stream",
     "text": [
      "Infected\n",
      "Infected\n",
      "Infected\n",
      "Infected\n",
      "Infected\n",
      "Infected\n"
     ]
    },
    {
     "name": "stderr",
     "output_type": "stream",
     "text": [
      "\n",
      " 94%|█████████▍| 76154/81124 [19:17<46:56:46, 34.01s/it]\u001b[A"
     ]
    },
    {
     "name": "stdout",
     "output_type": "stream",
     "text": [
      "Infected\n"
     ]
    },
    {
     "name": "stderr",
     "output_type": "stream",
     "text": [
      "\n",
      " 94%|█████████▍| 76155/81124 [19:28<37:35:10, 27.23s/it]\u001b[A\n",
      " 94%|█████████▍| 76156/81124 [19:44<32:41:07, 23.69s/it]\u001b[A"
     ]
    },
    {
     "name": "stdout",
     "output_type": "stream",
     "text": [
      "Infected\n",
      "Infected\n",
      "Infected\n",
      "Infected\n",
      "Infected\n"
     ]
    },
    {
     "name": "stderr",
     "output_type": "stream",
     "text": [
      "\n",
      " 94%|█████████▍| 76157/81124 [20:21<38:28:21, 27.88s/it]\u001b[A"
     ]
    },
    {
     "name": "stdout",
     "output_type": "stream",
     "text": [
      "Infected\n",
      "Infected\n",
      "Infected\n",
      "Infected\n",
      "Infected\n",
      "Infected\n",
      "Infected\n",
      "Infected\n",
      "Infected\n",
      "Infected\n",
      "Infected\n",
      "Infected\n",
      "Infected\n",
      "Infected\n",
      "Infected\n",
      "Infected\n",
      "Infected\n",
      "Infected\n"
     ]
    },
    {
     "name": "stderr",
     "output_type": "stream",
     "text": [
      "\n",
      " 94%|█████████▍| 76158/81124 [21:54<65:24:43, 47.42s/it]\u001b[A\n",
      " 94%|█████████▍| 76159/81124 [21:55<45:53:02, 33.27s/it]\u001b[A\n",
      " 94%|█████████▍| 76161/81124 [22:15<36:19:40, 26.35s/it]\u001b[A\n",
      " 94%|█████████▍| 76162/81124 [22:20<27:35:10, 20.01s/it]\u001b[A"
     ]
    },
    {
     "name": "stdout",
     "output_type": "stream",
     "text": [
      "Infected\n",
      "Infected\n",
      "Infected\n",
      "Infected\n"
     ]
    },
    {
     "name": "stderr",
     "output_type": "stream",
     "text": [
      "\n",
      " 94%|█████████▍| 76163/81124 [22:35<25:27:25, 18.47s/it]\u001b[A"
     ]
    },
    {
     "name": "stdout",
     "output_type": "stream",
     "text": [
      "Infected\n",
      "Infected\n"
     ]
    },
    {
     "name": "stderr",
     "output_type": "stream",
     "text": [
      "\n",
      " 94%|█████████▍| 76164/81124 [23:19<35:55:53, 26.08s/it]\u001b[A"
     ]
    },
    {
     "name": "stdout",
     "output_type": "stream",
     "text": [
      "Infected\n",
      "Infected\n",
      "Infected\n",
      "Infected\n",
      "Infected\n",
      "Infected\n",
      "Infected\n",
      "Infected\n",
      "Infected\n"
     ]
    },
    {
     "name": "stderr",
     "output_type": "stream",
     "text": [
      "\n",
      " 94%|█████████▍| 76165/81124 [24:27<53:13:58, 38.64s/it]\u001b[A"
     ]
    },
    {
     "name": "stdout",
     "output_type": "stream",
     "text": [
      "Infected\n"
     ]
    },
    {
     "name": "stderr",
     "output_type": "stream",
     "text": [
      "\n",
      " 94%|█████████▍| 76166/81124 [24:48<45:46:26, 33.24s/it]\u001b[A\n",
      " 94%|█████████▍| 76168/81124 [24:55<33:27:49, 24.31s/it]\u001b[A"
     ]
    },
    {
     "name": "stdout",
     "output_type": "stream",
     "text": [
      "Infected\n"
     ]
    },
    {
     "name": "stderr",
     "output_type": "stream",
     "text": [
      "\n",
      " 94%|█████████▍| 76170/81124 [25:06<25:51:59, 18.80s/it]\u001b[A"
     ]
    },
    {
     "name": "stdout",
     "output_type": "stream",
     "text": [
      "Infected\n",
      "Infected\n",
      "Infected\n",
      "Infected\n",
      "Infected\n",
      "Infected\n",
      "Infected\n",
      "Infected\n",
      "Infected\n"
     ]
    },
    {
     "name": "stderr",
     "output_type": "stream",
     "text": [
      "\n",
      " 94%|█████████▍| 76171/81124 [25:35<29:45:05, 21.62s/it]\u001b[A\n",
      " 94%|█████████▍| 76172/81124 [25:36<21:20:44, 15.52s/it]\u001b[A\n",
      " 94%|█████████▍| 76173/81124 [25:39<16:12:58, 11.79s/it]\u001b[A"
     ]
    },
    {
     "name": "stdout",
     "output_type": "stream",
     "text": [
      "Infected\n",
      "Infected\n",
      "Infected\n",
      "Infected\n"
     ]
    },
    {
     "name": "stderr",
     "output_type": "stream",
     "text": [
      "\n",
      " 94%|█████████▍| 76174/81124 [25:57<18:53:18, 13.74s/it]\u001b[A\n",
      " 94%|█████████▍| 76175/81124 [26:01<14:46:24, 10.75s/it]\u001b[A\n",
      " 94%|█████████▍| 76176/81124 [26:17<16:52:32, 12.28s/it]\u001b[A"
     ]
    },
    {
     "name": "stdout",
     "output_type": "stream",
     "text": [
      "Infected\n",
      "Infected\n"
     ]
    },
    {
     "name": "stderr",
     "output_type": "stream",
     "text": [
      "\n",
      " 94%|█████████▍| 76177/81124 [27:49<49:49:51, 36.26s/it]\u001b[A\n",
      " 94%|█████████▍| 76178/81124 [27:51<35:26:23, 25.80s/it]\u001b[A"
     ]
    },
    {
     "name": "stdout",
     "output_type": "stream",
     "text": [
      "Infected\n",
      "Infected\n",
      "Infected\n",
      "Infected\n"
     ]
    },
    {
     "name": "stderr",
     "output_type": "stream",
     "text": [
      "\n",
      " 94%|█████████▍| 76179/81124 [28:03<29:58:31, 21.82s/it]\u001b[A"
     ]
    },
    {
     "name": "stdout",
     "output_type": "stream",
     "text": [
      "Infected\n",
      "Infected\n",
      "Infected\n",
      "Infected\n",
      "Infected\n"
     ]
    },
    {
     "name": "stderr",
     "output_type": "stream",
     "text": [
      "\n",
      " 94%|█████████▍| 76180/81124 [29:12<49:20:02, 35.92s/it]\u001b[A\n",
      " 94%|█████████▍| 76181/81124 [29:14<35:12:35, 25.64s/it]\u001b[A"
     ]
    },
    {
     "name": "stdout",
     "output_type": "stream",
     "text": [
      "Infected\n",
      "Infected\n"
     ]
    },
    {
     "name": "stderr",
     "output_type": "stream",
     "text": [
      "\n",
      " 94%|█████████▍| 76182/81124 [29:29<30:48:14, 22.44s/it]\u001b[A\n",
      " 94%|█████████▍| 76183/81124 [29:52<31:03:27, 22.63s/it]\u001b[A"
     ]
    },
    {
     "name": "stdout",
     "output_type": "stream",
     "text": [
      "Infected\n",
      "Infected\n",
      "Infected\n",
      "Infected\n",
      "Infected\n",
      "Infected\n",
      "Infected\n",
      "Infected\n",
      "Infected\n"
     ]
    },
    {
     "name": "stderr",
     "output_type": "stream",
     "text": [
      "\n",
      " 94%|█████████▍| 76184/81124 [35:31<161:26:04, 117.64s/it]\u001b[A"
     ]
    },
    {
     "name": "stdout",
     "output_type": "stream",
     "text": [
      "Infected\n"
     ]
    },
    {
     "name": "stderr",
     "output_type": "stream",
     "text": [
      "\n",
      " 94%|█████████▍| 76185/81124 [37:38<165:05:23, 120.33s/it]\u001b[A\n",
      " 94%|█████████▍| 76187/81124 [37:42<116:27:44, 84.92s/it] \u001b[A\n",
      " 94%|█████████▍| 76188/81124 [37:42<81:35:55, 59.51s/it] \u001b[A\n",
      " 94%|█████████▍| 76189/81124 [37:44<57:50:42, 42.20s/it]\u001b[A\n",
      " 94%|█████████▍| 76190/81124 [37:51<43:19:58, 31.62s/it]\u001b[A"
     ]
    },
    {
     "name": "stdout",
     "output_type": "stream",
     "text": [
      "Infected\n"
     ]
    },
    {
     "name": "stderr",
     "output_type": "stream",
     "text": [
      "\n",
      " 94%|█████████▍| 76191/81124 [37:56<32:31:23, 23.73s/it]\u001b[A"
     ]
    },
    {
     "name": "stdout",
     "output_type": "stream",
     "text": [
      "Infected\n",
      "Infected\n",
      "Infected\n",
      "Infected\n",
      "Infected\n",
      "Infected\n",
      "Infected\n",
      "Infected\n",
      "Infected\n",
      "Infected\n",
      "Infected\n"
     ]
    },
    {
     "name": "stderr",
     "output_type": "stream",
     "text": [
      "\n",
      " 94%|█████████▍| 76192/81124 [38:34<38:22:30, 28.01s/it]\u001b[A\n",
      " 94%|█████████▍| 76193/81124 [38:35<26:58:31, 19.69s/it]\u001b[A"
     ]
    },
    {
     "name": "stdout",
     "output_type": "stream",
     "text": [
      "Infected\n",
      "Infected\n",
      "Infected\n",
      "Infected\n",
      "Infected\n",
      "Infected\n"
     ]
    },
    {
     "name": "stderr",
     "output_type": "stream",
     "text": [
      "\n",
      " 94%|█████████▍| 76194/81124 [39:27<40:28:06, 29.55s/it]\u001b[A"
     ]
    },
    {
     "name": "stdout",
     "output_type": "stream",
     "text": [
      "Infected\n"
     ]
    },
    {
     "name": "stderr",
     "output_type": "stream",
     "text": [
      "\n",
      " 94%|█████████▍| 76196/81124 [39:29<28:45:55, 21.01s/it]\u001b[A\n",
      " 94%|█████████▍| 76197/81124 [39:30<20:27:50, 14.95s/it]\u001b[A"
     ]
    },
    {
     "name": "stdout",
     "output_type": "stream",
     "text": [
      "Infected\n",
      "Infected\n",
      "Infected\n",
      "Infected\n",
      "Infected\n"
     ]
    },
    {
     "name": "stderr",
     "output_type": "stream",
     "text": [
      "\n",
      " 94%|█████████▍| 76198/81124 [40:01<26:52:23, 19.64s/it]\u001b[A"
     ]
    },
    {
     "name": "stdout",
     "output_type": "stream",
     "text": [
      "Infected\n"
     ]
    },
    {
     "name": "stderr",
     "output_type": "stream",
     "text": [
      "\n",
      " 94%|█████████▍| 76199/81124 [40:10<22:43:59, 16.62s/it]\u001b[A\n",
      " 94%|█████████▍| 76200/81124 [40:14<17:30:08, 12.80s/it]\u001b[A\n",
      " 94%|█████████▍| 76201/81124 [40:15<12:39:48,  9.26s/it]\u001b[A\n",
      " 94%|█████████▍| 76202/81124 [40:18<10:04:24,  7.37s/it]\u001b[A\n",
      " 94%|█████████▍| 76203/81124 [40:21<8:19:09,  6.09s/it] \u001b[A"
     ]
    },
    {
     "name": "stdout",
     "output_type": "stream",
     "text": [
      "Infected\n",
      "Infected\n",
      "Infected\n",
      "Infected\n",
      "Infected\n",
      "Infected\n",
      "Infected\n",
      "Infected\n",
      "Infected\n",
      "Infected\n",
      "Infected\n",
      "Infected\n",
      "Infected\n",
      "Infected\n",
      "Infected\n",
      "Infected\n",
      "Infected\n",
      "Infected\n",
      "Infected\n",
      "Infected\n",
      "Infected\n"
     ]
    },
    {
     "name": "stderr",
     "output_type": "stream",
     "text": [
      "\n",
      " 94%|█████████▍| 76204/81124 [41:13<26:48:16, 19.61s/it]\u001b[A\n",
      " 94%|█████████▍| 76205/81124 [41:14<19:33:58, 14.32s/it]\u001b[A"
     ]
    },
    {
     "name": "stdout",
     "output_type": "stream",
     "text": [
      "Infected\n",
      "Infected\n",
      "Infected\n",
      "Infected\n",
      "Infected\n",
      "Infected\n",
      "Infected\n",
      "Infected\n",
      "Infected\n",
      "Infected\n"
     ]
    },
    {
     "name": "stderr",
     "output_type": "stream",
     "text": [
      "\n",
      " 94%|█████████▍| 76206/81124 [42:03<33:23:31, 24.44s/it]\u001b[A\n",
      " 94%|█████████▍| 76207/81124 [42:04<23:53:16, 17.49s/it]\u001b[A\n",
      " 94%|█████████▍| 76208/81124 [42:05<17:20:23, 12.70s/it]\u001b[A"
     ]
    },
    {
     "name": "stdout",
     "output_type": "stream",
     "text": [
      "Infected\n"
     ]
    },
    {
     "name": "stderr",
     "output_type": "stream",
     "text": [
      "\n",
      " 94%|█████████▍| 76209/81124 [42:10<14:07:10, 10.34s/it]\u001b[A"
     ]
    },
    {
     "name": "stdout",
     "output_type": "stream",
     "text": [
      "Infected\n",
      "Infected\n",
      "Infected\n",
      "Infected\n",
      "Infected\n",
      "Infected\n"
     ]
    },
    {
     "name": "stderr",
     "output_type": "stream",
     "text": [
      "\n",
      " 94%|█████████▍| 76211/81124 [42:36<15:10:49, 11.12s/it]\u001b[A"
     ]
    },
    {
     "name": "stdout",
     "output_type": "stream",
     "text": [
      "Infected\n"
     ]
    },
    {
     "name": "stderr",
     "output_type": "stream",
     "text": [
      "\n",
      " 94%|█████████▍| 76212/81124 [42:48<15:38:45, 11.47s/it]\u001b[A\n",
      " 94%|█████████▍| 76213/81124 [42:48<11:00:30,  8.07s/it]\u001b[A\n",
      " 94%|█████████▍| 76214/81124 [42:49<8:06:15,  5.94s/it] \u001b[A\n",
      " 94%|█████████▍| 76215/81124 [42:50<5:46:45,  4.24s/it]\u001b[A"
     ]
    },
    {
     "name": "stdout",
     "output_type": "stream",
     "text": [
      "Infected\n",
      "Infected\n"
     ]
    },
    {
     "name": "stderr",
     "output_type": "stream",
     "text": [
      "\n",
      " 94%|█████████▍| 76216/81124 [42:54<5:51:13,  4.29s/it]\u001b[A"
     ]
    },
    {
     "name": "stdout",
     "output_type": "stream",
     "text": [
      "Infected\n"
     ]
    },
    {
     "name": "stderr",
     "output_type": "stream",
     "text": [
      "\n",
      " 94%|█████████▍| 76218/81124 [42:59<5:07:52,  3.77s/it]\u001b[A\n",
      " 94%|█████████▍| 76219/81124 [43:00<4:00:36,  2.94s/it]\u001b[A"
     ]
    },
    {
     "name": "stdout",
     "output_type": "stream",
     "text": [
      "Infected\n"
     ]
    },
    {
     "name": "stderr",
     "output_type": "stream",
     "text": [
      "\n",
      " 94%|█████████▍| 76222/81124 [43:00<2:49:18,  2.07s/it]\u001b[A\n",
      " 94%|█████████▍| 76223/81124 [43:01<2:04:26,  1.52s/it]\u001b[A"
     ]
    },
    {
     "name": "stdout",
     "output_type": "stream",
     "text": [
      "Infected\n",
      "Infected\n"
     ]
    },
    {
     "name": "stderr",
     "output_type": "stream",
     "text": [
      "\n",
      " 94%|█████████▍| 76224/81124 [43:12<6:15:02,  4.59s/it]\u001b[A\n",
      " 94%|█████████▍| 76225/81124 [43:19<7:07:14,  5.23s/it]\u001b[A\n",
      " 94%|█████████▍| 76226/81124 [43:21<5:45:58,  4.24s/it]\u001b[A"
     ]
    },
    {
     "name": "stdout",
     "output_type": "stream",
     "text": [
      "Infected\n",
      "Infected\n",
      "Infected\n",
      "Infected\n",
      "Infected\n",
      "Infected\n"
     ]
    },
    {
     "name": "stderr",
     "output_type": "stream",
     "text": [
      "\n",
      " 94%|█████████▍| 76227/81124 [43:35<9:49:54,  7.23s/it]\u001b[A"
     ]
    },
    {
     "name": "stdout",
     "output_type": "stream",
     "text": [
      "Infected\n"
     ]
    },
    {
     "name": "stderr",
     "output_type": "stream",
     "text": [
      "\n",
      " 94%|█████████▍| 76228/81124 [43:37<7:44:39,  5.69s/it]\u001b[A\n",
      " 94%|█████████▍| 76229/81124 [43:40<6:27:31,  4.75s/it]\u001b[A\n",
      " 94%|█████████▍| 76230/81124 [43:44<6:18:06,  4.64s/it]\u001b[A\n",
      " 94%|█████████▍| 76231/81124 [43:50<6:42:57,  4.94s/it]\u001b[A\n",
      " 94%|█████████▍| 76232/81124 [43:52<5:23:13,  3.96s/it]\u001b[A"
     ]
    },
    {
     "name": "stdout",
     "output_type": "stream",
     "text": [
      "Infected\n",
      "Infected\n",
      "Infected\n"
     ]
    },
    {
     "name": "stderr",
     "output_type": "stream",
     "text": [
      "\n",
      " 94%|█████████▍| 76233/81124 [43:58<6:14:55,  4.60s/it]\u001b[A\n",
      " 94%|█████████▍| 76234/81124 [44:00<5:29:15,  4.04s/it]\u001b[A\n",
      " 94%|█████████▍| 76235/81124 [44:01<4:13:43,  3.11s/it]\u001b[A"
     ]
    },
    {
     "name": "stdout",
     "output_type": "stream",
     "text": [
      "Infected\n"
     ]
    },
    {
     "name": "stderr",
     "output_type": "stream",
     "text": [
      "\n",
      " 94%|█████████▍| 76238/81124 [44:04<3:21:15,  2.47s/it]\u001b[A\n",
      " 94%|█████████▍| 76239/81124 [44:04<2:24:56,  1.78s/it]\u001b[A"
     ]
    },
    {
     "name": "stdout",
     "output_type": "stream",
     "text": [
      "Infected\n",
      "Infected\n"
     ]
    },
    {
     "name": "stderr",
     "output_type": "stream",
     "text": [
      "\n",
      " 94%|█████████▍| 76240/81124 [44:33<13:10:52,  9.72s/it]\u001b[A\n",
      " 94%|█████████▍| 76242/81124 [44:44<11:32:13,  8.51s/it]\u001b[A"
     ]
    },
    {
     "name": "stdout",
     "output_type": "stream",
     "text": [
      "Infected\n",
      "Infected\n",
      "Infected\n",
      "Infected\n",
      "Infected\n",
      "Infected\n",
      "Infected\n",
      "Infected\n",
      "Infected\n",
      "Infected\n",
      "Infected\n",
      "Infected\n",
      "Infected\n"
     ]
    },
    {
     "name": "stderr",
     "output_type": "stream",
     "text": [
      "\n",
      " 94%|█████████▍| 76243/81124 [45:33<27:55:04, 20.59s/it]\u001b[A\n",
      " 94%|█████████▍| 76245/81124 [45:38<20:37:50, 15.22s/it]\u001b[A\n",
      " 94%|█████████▍| 76247/81124 [45:40<14:47:17, 10.92s/it]\u001b[A"
     ]
    },
    {
     "name": "stdout",
     "output_type": "stream",
     "text": [
      "Infected\n",
      "Infected\n",
      "Infected\n",
      "Infected\n"
     ]
    },
    {
     "name": "stderr",
     "output_type": "stream",
     "text": [
      "\n",
      " 94%|█████████▍| 76248/81124 [45:58<17:43:59, 13.09s/it]\u001b[A\n",
      " 94%|█████████▍| 76249/81124 [46:07<16:05:40, 11.89s/it]\u001b[A\n",
      " 94%|█████████▍| 76251/81124 [46:08<11:28:28,  8.48s/it]\u001b[A"
     ]
    },
    {
     "name": "stdout",
     "output_type": "stream",
     "text": [
      "Infected\n",
      "Infected\n",
      "Infected\n"
     ]
    },
    {
     "name": "stderr",
     "output_type": "stream",
     "text": [
      "\n",
      " 94%|█████████▍| 76252/81124 [46:24<14:22:32, 10.62s/it]\u001b[A"
     ]
    },
    {
     "name": "stdout",
     "output_type": "stream",
     "text": [
      "Infected\n",
      "Infected\n",
      "Infected\n",
      "Infected\n",
      "Infected\n",
      "Infected\n",
      "Infected\n",
      "Infected\n",
      "Infected\n",
      "Infected\n",
      "Infected\n",
      "Infected\n"
     ]
    },
    {
     "name": "stderr",
     "output_type": "stream",
     "text": [
      "\n",
      " 94%|█████████▍| 76253/81124 [47:20<33:02:26, 24.42s/it]\u001b[A\n",
      " 94%|█████████▍| 76254/81124 [47:21<23:32:03, 17.40s/it]\u001b[A"
     ]
    },
    {
     "name": "stdout",
     "output_type": "stream",
     "text": [
      "Infected\n"
     ]
    },
    {
     "name": "stderr",
     "output_type": "stream",
     "text": [
      "\n",
      " 94%|█████████▍| 76255/81124 [47:34<21:39:29, 16.01s/it]\u001b[A"
     ]
    },
    {
     "name": "stdout",
     "output_type": "stream",
     "text": [
      "Infected\n"
     ]
    },
    {
     "name": "stderr",
     "output_type": "stream",
     "text": [
      "\n",
      " 94%|█████████▍| 76256/81124 [47:41<17:52:43, 13.22s/it]\u001b[A"
     ]
    },
    {
     "name": "stdout",
     "output_type": "stream",
     "text": [
      "Infected\n",
      "Infected\n"
     ]
    },
    {
     "name": "stderr",
     "output_type": "stream",
     "text": [
      "\n",
      " 94%|█████████▍| 76257/81124 [48:04<21:56:23, 16.23s/it]\u001b[A\n",
      " 94%|█████████▍| 76258/81124 [48:08<16:55:04, 12.52s/it]\u001b[A\n",
      " 94%|█████████▍| 76259/81124 [48:09<12:14:58,  9.06s/it]\u001b[A"
     ]
    },
    {
     "name": "stdout",
     "output_type": "stream",
     "text": [
      "Infected\n",
      "Infected\n",
      "Infected\n",
      "Infected\n",
      "Infected\n",
      "Infected\n",
      "Infected\n",
      "Infected\n"
     ]
    },
    {
     "name": "stderr",
     "output_type": "stream",
     "text": [
      "\n",
      " 94%|█████████▍| 76260/81124 [48:37<19:47:38, 14.65s/it]\u001b[A"
     ]
    },
    {
     "name": "stdout",
     "output_type": "stream",
     "text": [
      "Infected\n"
     ]
    },
    {
     "name": "stderr",
     "output_type": "stream",
     "text": [
      "\n",
      " 94%|█████████▍| 76261/81124 [48:44<16:52:28, 12.49s/it]\u001b[A\n",
      " 94%|█████████▍| 76262/81124 [48:45<12:17:02,  9.10s/it]\u001b[A\n",
      " 94%|█████████▍| 76264/81124 [48:48<9:06:02,  6.74s/it] \u001b[A\n",
      " 94%|█████████▍| 76265/81124 [48:49<6:41:49,  4.96s/it]\u001b[A"
     ]
    },
    {
     "name": "stdout",
     "output_type": "stream",
     "text": [
      "Infected\n",
      "Infected\n",
      "Infected\n",
      "Infected\n",
      "Infected\n",
      "Infected\n",
      "Infected\n",
      "Infected\n",
      "Infected\n",
      "Infected\n",
      "Infected\n",
      "Infected\n"
     ]
    },
    {
     "name": "stderr",
     "output_type": "stream",
     "text": [
      "\n",
      " 94%|█████████▍| 76266/81124 [49:41<25:48:53, 19.13s/it]\u001b[A"
     ]
    },
    {
     "name": "stdout",
     "output_type": "stream",
     "text": [
      "Infected\n",
      "Infected\n",
      "Infected\n",
      "Infected\n",
      "Infected\n",
      "Infected\n",
      "Infected\n",
      "Infected\n"
     ]
    },
    {
     "name": "stderr",
     "output_type": "stream",
     "text": [
      "\n",
      " 94%|█████████▍| 76267/81124 [50:17<32:36:15, 24.17s/it]\u001b[A\n",
      " 94%|█████████▍| 76270/81124 [50:26<24:01:53, 17.82s/it]\u001b[A"
     ]
    },
    {
     "name": "stdout",
     "output_type": "stream",
     "text": [
      "Infected\n",
      "Infected\n",
      "Infected\n",
      "Infected\n",
      "Infected\n",
      "Infected\n"
     ]
    },
    {
     "name": "stderr",
     "output_type": "stream",
     "text": [
      "\n",
      " 94%|█████████▍| 76271/81124 [50:59<30:10:45, 22.39s/it]\u001b[A\n",
      " 94%|█████████▍| 76272/81124 [51:01<21:52:17, 16.23s/it]\u001b[A\n",
      " 94%|█████████▍| 76273/81124 [51:02<15:59:41, 11.87s/it]\u001b[A\n",
      " 94%|█████████▍| 76274/81124 [51:06<12:38:08,  9.38s/it]\u001b[A"
     ]
    },
    {
     "name": "stdout",
     "output_type": "stream",
     "text": [
      "Infected\n"
     ]
    },
    {
     "name": "stderr",
     "output_type": "stream",
     "text": [
      "\n",
      " 94%|█████████▍| 76275/81124 [51:11<10:51:06,  8.06s/it]\u001b[A"
     ]
    },
    {
     "name": "stdout",
     "output_type": "stream",
     "text": [
      "Infected\n",
      "Infected\n",
      "Infected\n",
      "Infected\n",
      "Infected\n",
      "Infected\n"
     ]
    },
    {
     "name": "stderr",
     "output_type": "stream",
     "text": [
      "\n",
      " 94%|█████████▍| 76276/81124 [51:33<16:30:58, 12.26s/it]\u001b[A"
     ]
    },
    {
     "name": "stdout",
     "output_type": "stream",
     "text": [
      "Infected\n",
      "Infected\n"
     ]
    },
    {
     "name": "stderr",
     "output_type": "stream",
     "text": [
      "\n",
      " 94%|█████████▍| 76277/81124 [51:40<14:09:58, 10.52s/it]\u001b[A"
     ]
    },
    {
     "name": "stdout",
     "output_type": "stream",
     "text": [
      "Infected\n",
      "Infected\n",
      "Infected\n",
      "Infected\n",
      "Infected\n",
      "Infected\n",
      "Infected\n",
      "Infected\n",
      "Infected\n"
     ]
    },
    {
     "name": "stderr",
     "output_type": "stream",
     "text": [
      "\n",
      " 94%|█████████▍| 76278/81124 [52:25<28:14:49, 20.98s/it]\u001b[A"
     ]
    },
    {
     "name": "stdout",
     "output_type": "stream",
     "text": [
      "Infected\n",
      "Infected\n"
     ]
    },
    {
     "name": "stderr",
     "output_type": "stream",
     "text": [
      "\n",
      " 94%|█████████▍| 76283/81124 [52:38<20:47:09, 15.46s/it]\u001b[A\n",
      " 94%|█████████▍| 76285/81124 [52:52<17:24:04, 12.95s/it]\u001b[A\n",
      " 94%|█████████▍| 76286/81124 [52:57<14:04:22, 10.47s/it]\u001b[A\n",
      " 94%|█████████▍| 76287/81124 [52:59<10:40:12,  7.94s/it]\u001b[A"
     ]
    },
    {
     "name": "stdout",
     "output_type": "stream",
     "text": [
      "Infected\n",
      "Infected\n"
     ]
    },
    {
     "name": "stderr",
     "output_type": "stream",
     "text": [
      "\n",
      " 94%|█████████▍| 76288/81124 [53:06<10:24:41,  7.75s/it]\u001b[A"
     ]
    },
    {
     "name": "stdout",
     "output_type": "stream",
     "text": [
      "Infected\n"
     ]
    },
    {
     "name": "stderr",
     "output_type": "stream",
     "text": [
      "\n",
      " 94%|█████████▍| 76289/81124 [53:12<9:45:42,  7.27s/it] \u001b[A\n",
      " 94%|█████████▍| 76291/81124 [53:12<6:51:40,  5.11s/it]\u001b[A"
     ]
    },
    {
     "name": "stdout",
     "output_type": "stream",
     "text": [
      "Infected\n",
      "Infected\n",
      "Infected\n"
     ]
    },
    {
     "name": "stderr",
     "output_type": "stream",
     "text": [
      "\n",
      " 94%|█████████▍| 76292/81124 [53:28<10:59:35,  8.19s/it]\u001b[A\n",
      " 94%|█████████▍| 76293/81124 [53:28<7:48:22,  5.82s/it] \u001b[A"
     ]
    },
    {
     "name": "stdout",
     "output_type": "stream",
     "text": [
      "Infected\n"
     ]
    },
    {
     "name": "stderr",
     "output_type": "stream",
     "text": [
      "\n",
      " 94%|█████████▍| 76294/81124 [53:34<7:48:28,  5.82s/it]\u001b[A\n",
      " 94%|█████████▍| 76295/81124 [53:39<7:24:16,  5.52s/it]\u001b[A\n",
      " 94%|█████████▍| 76296/81124 [53:39<5:17:35,  3.95s/it]\u001b[A\n",
      " 94%|█████████▍| 76298/81124 [53:40<4:00:36,  2.99s/it]\u001b[A\n",
      " 94%|█████████▍| 76299/81124 [53:41<2:54:13,  2.17s/it]\u001b[A"
     ]
    },
    {
     "name": "stdout",
     "output_type": "stream",
     "text": [
      "Infected\n",
      "Infected\n"
     ]
    },
    {
     "name": "stderr",
     "output_type": "stream",
     "text": [
      "\n",
      " 94%|█████████▍| 76300/81124 [53:46<4:21:34,  3.25s/it]\u001b[A"
     ]
    },
    {
     "name": "stdout",
     "output_type": "stream",
     "text": [
      "Infected\n"
     ]
    },
    {
     "name": "stderr",
     "output_type": "stream",
     "text": [
      "\n",
      " 94%|█████████▍| 76301/81124 [53:49<3:54:51,  2.92s/it]\u001b[A"
     ]
    },
    {
     "name": "stdout",
     "output_type": "stream",
     "text": [
      "Infected\n"
     ]
    },
    {
     "name": "stderr",
     "output_type": "stream",
     "text": [
      "\n",
      " 94%|█████████▍| 76302/81124 [53:54<4:52:21,  3.64s/it]\u001b[A"
     ]
    },
    {
     "name": "stdout",
     "output_type": "stream",
     "text": [
      "Infected\n",
      "Infected\n"
     ]
    },
    {
     "name": "stderr",
     "output_type": "stream",
     "text": [
      "\n",
      " 94%|█████████▍| 76303/81124 [54:04<7:34:46,  5.66s/it]\u001b[A\n",
      " 94%|█████████▍| 76304/81124 [54:05<5:47:48,  4.33s/it]\u001b[A\n",
      " 94%|█████████▍| 76305/81124 [54:06<4:13:20,  3.15s/it]\u001b[A"
     ]
    },
    {
     "name": "stdout",
     "output_type": "stream",
     "text": [
      "Infected\n"
     ]
    },
    {
     "name": "stderr",
     "output_type": "stream",
     "text": [
      "\n",
      " 94%|█████████▍| 76306/81124 [54:17<7:24:01,  5.53s/it]\u001b[A"
     ]
    },
    {
     "name": "stdout",
     "output_type": "stream",
     "text": [
      "Infected\n",
      "Infected\n",
      "Infected\n",
      "Infected\n"
     ]
    },
    {
     "name": "stderr",
     "output_type": "stream",
     "text": [
      "\n",
      " 94%|█████████▍| 76307/81124 [54:55<20:35:05, 15.38s/it]\u001b[A"
     ]
    },
    {
     "name": "stdout",
     "output_type": "stream",
     "text": [
      "Infected\n",
      "Infected\n",
      "Infected\n"
     ]
    },
    {
     "name": "stderr",
     "output_type": "stream",
     "text": [
      "\n",
      " 94%|█████████▍| 76308/81124 [55:09<19:43:39, 14.75s/it]\u001b[A\n",
      " 94%|█████████▍| 76309/81124 [55:09<13:57:04, 10.43s/it]\u001b[A"
     ]
    },
    {
     "name": "stdout",
     "output_type": "stream",
     "text": [
      "Infected\n",
      "Infected\n",
      "Infected\n",
      "Infected\n",
      "Infected\n"
     ]
    },
    {
     "name": "stderr",
     "output_type": "stream",
     "text": [
      "\n",
      " 94%|█████████▍| 76310/81124 [55:49<25:59:07, 19.43s/it]\u001b[A"
     ]
    },
    {
     "name": "stdout",
     "output_type": "stream",
     "text": [
      "Infected\n"
     ]
    },
    {
     "name": "stderr",
     "output_type": "stream",
     "text": [
      "\n",
      " 94%|█████████▍| 76311/81124 [55:52<19:11:10, 14.35s/it]\u001b[A"
     ]
    },
    {
     "name": "stdout",
     "output_type": "stream",
     "text": [
      "Infected\n",
      "Infected\n",
      "Infected\n",
      "Infected\n",
      "Infected\n",
      "Infected\n",
      "Infected\n",
      "Infected\n",
      "Infected\n",
      "Infected\n"
     ]
    },
    {
     "name": "stderr",
     "output_type": "stream",
     "text": [
      "\n",
      " 94%|█████████▍| 76312/81124 [56:22<25:29:36, 19.07s/it]\u001b[A\n",
      " 94%|█████████▍| 76313/81124 [56:22<17:53:51, 13.39s/it]\u001b[A\n",
      " 94%|█████████▍| 76314/81124 [56:23<12:52:16,  9.63s/it]\u001b[A"
     ]
    },
    {
     "name": "stdout",
     "output_type": "stream",
     "text": [
      "Infected\n",
      "Infected\n",
      "Infected\n",
      "Infected\n",
      "Infected\n",
      "Infected\n"
     ]
    },
    {
     "name": "stderr",
     "output_type": "stream",
     "text": [
      "\n",
      " 94%|█████████▍| 76315/81124 [56:57<22:44:37, 17.03s/it]\u001b[A\n",
      " 94%|█████████▍| 76316/81124 [56:58<16:04:07, 12.03s/it]\u001b[A"
     ]
    },
    {
     "name": "stdout",
     "output_type": "stream",
     "text": [
      "Infected\n"
     ]
    },
    {
     "name": "stderr",
     "output_type": "stream",
     "text": [
      "\n",
      " 94%|█████████▍| 76317/81124 [57:37<27:09:29, 20.34s/it]\u001b[A\n",
      " 94%|█████████▍| 76319/81124 [57:39<19:24:03, 14.54s/it]\u001b[A"
     ]
    },
    {
     "name": "stdout",
     "output_type": "stream",
     "text": [
      "Infected\n",
      "Infected\n"
     ]
    },
    {
     "name": "stderr",
     "output_type": "stream",
     "text": [
      "\n",
      " 94%|█████████▍| 76320/81124 [58:08<25:08:26, 18.84s/it]\u001b[A\n",
      " 94%|█████████▍| 76322/81124 [58:08<17:38:52, 13.23s/it]\u001b[A"
     ]
    },
    {
     "name": "stdout",
     "output_type": "stream",
     "text": [
      "Infected\n"
     ]
    },
    {
     "name": "stderr",
     "output_type": "stream",
     "text": [
      "\n",
      " 94%|█████████▍| 76324/81124 [58:18<14:09:23, 10.62s/it]\u001b[A"
     ]
    },
    {
     "name": "stdout",
     "output_type": "stream",
     "text": [
      "Infected\n",
      "Infected\n",
      "Infected\n",
      "Infected\n",
      "Infected\n"
     ]
    },
    {
     "name": "stderr",
     "output_type": "stream",
     "text": [
      "\n",
      " 94%|█████████▍| 76325/81124 [58:57<25:37:20, 19.22s/it]\u001b[A"
     ]
    },
    {
     "name": "stdout",
     "output_type": "stream",
     "text": [
      "Infected\n",
      "Infected\n",
      "Infected\n",
      "Infected\n"
     ]
    },
    {
     "name": "stderr",
     "output_type": "stream",
     "text": [
      "\n",
      " 94%|█████████▍| 76326/81124 [59:17<25:57:21, 19.48s/it]\u001b[A"
     ]
    },
    {
     "name": "stdout",
     "output_type": "stream",
     "text": [
      "Infected\n",
      "Infected\n",
      "Infected\n"
     ]
    },
    {
     "name": "stderr",
     "output_type": "stream",
     "text": [
      "\n",
      " 94%|█████████▍| 76328/81124 [59:33<21:20:28, 16.02s/it]\u001b[A"
     ]
    },
    {
     "name": "stdout",
     "output_type": "stream",
     "text": [
      "Infected\n",
      "Infected\n",
      "Infected\n"
     ]
    },
    {
     "name": "stderr",
     "output_type": "stream",
     "text": [
      "\n",
      " 94%|█████████▍| 76329/81124 [1:00:13<30:49:03, 23.14s/it]\u001b[A\n",
      " 94%|█████████▍| 76330/81124 [1:00:14<22:00:13, 16.52s/it]\u001b[A\n",
      " 94%|█████████▍| 76331/81124 [1:00:17<16:55:13, 12.71s/it]\u001b[A"
     ]
    },
    {
     "name": "stdout",
     "output_type": "stream",
     "text": [
      "Infected\n"
     ]
    },
    {
     "name": "stderr",
     "output_type": "stream",
     "text": [
      "\n",
      " 94%|█████████▍| 76332/81124 [1:00:28<16:00:06, 12.02s/it]\u001b[A\n",
      " 94%|█████████▍| 76334/81124 [1:00:29<11:24:13,  8.57s/it]\u001b[A"
     ]
    },
    {
     "name": "stdout",
     "output_type": "stream",
     "text": [
      "Infected\n",
      "Infected\n",
      "Infected\n",
      "Infected\n",
      "Infected\n"
     ]
    },
    {
     "name": "stderr",
     "output_type": "stream",
     "text": [
      "\n",
      " 94%|█████████▍| 76335/81124 [1:01:03<21:29:22, 16.15s/it]\u001b[A"
     ]
    },
    {
     "name": "stdout",
     "output_type": "stream",
     "text": [
      "Infected\n"
     ]
    },
    {
     "name": "stderr",
     "output_type": "stream",
     "text": [
      "\n",
      " 94%|█████████▍| 76336/81124 [1:01:07<16:44:51, 12.59s/it]\u001b[A\n",
      " 94%|█████████▍| 76337/81124 [1:01:09<12:35:36,  9.47s/it]\u001b[A\n",
      " 94%|█████████▍| 76338/81124 [1:01:13<10:07:47,  7.62s/it]\u001b[A"
     ]
    },
    {
     "name": "stdout",
     "output_type": "stream",
     "text": [
      "Infected\n",
      "Infected\n"
     ]
    },
    {
     "name": "stderr",
     "output_type": "stream",
     "text": [
      "\n",
      " 94%|█████████▍| 76340/81124 [1:01:34<11:21:17,  8.54s/it]\u001b[A\n",
      " 94%|█████████▍| 76341/81124 [1:01:48<13:33:22, 10.20s/it]\u001b[A\n",
      " 94%|█████████▍| 76342/81124 [1:01:49<9:48:53,  7.39s/it] \u001b[A\n",
      " 94%|█████████▍| 76343/81124 [1:02:42<27:53:31, 21.00s/it]\u001b[A\n",
      " 94%|█████████▍| 76344/81124 [1:02:47<21:42:58, 16.36s/it]\u001b[A"
     ]
    },
    {
     "name": "stdout",
     "output_type": "stream",
     "text": [
      "Infected\n",
      "Infected\n",
      "Infected\n"
     ]
    },
    {
     "name": "stderr",
     "output_type": "stream",
     "text": [
      "\n",
      " 94%|█████████▍| 76345/81124 [1:02:56<18:42:32, 14.09s/it]\u001b[A\n",
      " 94%|█████████▍| 76346/81124 [1:02:58<13:44:45, 10.36s/it]\u001b[A\n",
      " 94%|█████████▍| 76347/81124 [1:03:13<15:49:11, 11.92s/it]\u001b[A"
     ]
    },
    {
     "name": "stdout",
     "output_type": "stream",
     "text": [
      "Infected\n",
      "Infected\n",
      "Infected\n"
     ]
    },
    {
     "name": "stderr",
     "output_type": "stream",
     "text": [
      "\n",
      " 94%|█████████▍| 76349/81124 [1:03:17<11:45:39,  8.87s/it]\u001b[A\n",
      " 94%|█████████▍| 76350/81124 [1:03:17<8:18:35,  6.27s/it] \u001b[A\n",
      " 94%|█████████▍| 76351/81124 [1:03:17<5:52:39,  4.43s/it]\u001b[A\n",
      " 94%|█████████▍| 76352/81124 [1:03:17<4:09:42,  3.14s/it]\u001b[A"
     ]
    },
    {
     "name": "stdout",
     "output_type": "stream",
     "text": [
      "Infected\n",
      "Infected\n",
      "Infected\n"
     ]
    },
    {
     "name": "stderr",
     "output_type": "stream",
     "text": [
      "\n",
      " 94%|█████████▍| 76353/81124 [1:03:29<7:40:59,  5.80s/it]\u001b[A\n",
      " 94%|█████████▍| 76354/81124 [1:03:30<5:45:39,  4.35s/it]\u001b[A"
     ]
    },
    {
     "name": "stdout",
     "output_type": "stream",
     "text": [
      "Infected\n"
     ]
    },
    {
     "name": "stderr",
     "output_type": "stream",
     "text": [
      "\n"
     ]
    },
    {
     "name": "stdout",
     "output_type": "stream",
     "text": [
      "Infected\n"
     ]
    },
    {
     "name": "stderr",
     "output_type": "stream",
     "text": [
      " 94%|█████████▍| 76355/81124 [1:03:32<4:40:07,  3.52s/it]\u001b[A\n",
      " 94%|█████████▍| 76356/81124 [1:03:45<8:25:20,  6.36s/it]\u001b[A"
     ]
    },
    {
     "name": "stdout",
     "output_type": "stream",
     "text": [
      "Infected\n",
      "Infected\n",
      "Infected\n"
     ]
    },
    {
     "name": "stderr",
     "output_type": "stream",
     "text": [
      "\n",
      " 94%|█████████▍| 76357/81124 [1:04:33<25:06:36, 18.96s/it]\u001b[A\n",
      " 94%|█████████▍| 76358/81124 [1:04:47<23:06:55, 17.46s/it]\u001b[A\n",
      " 94%|█████████▍| 76360/81124 [1:04:50<16:49:29, 12.71s/it]\u001b[A\n",
      " 94%|█████████▍| 76361/81124 [1:04:52<12:26:28,  9.40s/it]\u001b[A"
     ]
    },
    {
     "name": "stdout",
     "output_type": "stream",
     "text": [
      "Infected\n",
      "Infected\n"
     ]
    },
    {
     "name": "stderr",
     "output_type": "stream",
     "text": [
      "\n",
      " 94%|█████████▍| 76362/81124 [1:05:15<18:01:21, 13.62s/it]\u001b[A\n",
      " 94%|█████████▍| 76364/81124 [1:05:17<12:51:10,  9.72s/it]\u001b[A\n",
      " 94%|█████████▍| 76365/81124 [1:05:17<9:19:21,  7.05s/it] \u001b[A\n",
      " 94%|█████████▍| 76366/81124 [1:05:18<6:38:33,  5.03s/it]\u001b[A\n",
      " 94%|█████████▍| 76367/81124 [1:05:18<4:44:11,  3.58s/it]\u001b[A\n",
      " 94%|█████████▍| 76368/81124 [1:05:19<3:41:23,  2.79s/it]\u001b[A"
     ]
    },
    {
     "name": "stdout",
     "output_type": "stream",
     "text": [
      "Infected\n",
      "Infected\n"
     ]
    },
    {
     "name": "stderr",
     "output_type": "stream",
     "text": [
      "\n",
      " 94%|█████████▍| 76371/81124 [1:05:31<4:07:16,  3.12s/it]\u001b[A\n",
      " 94%|█████████▍| 76373/81124 [1:05:31<2:56:06,  2.22s/it]\u001b[A\n",
      " 94%|█████████▍| 76374/81124 [1:05:36<4:16:07,  3.24s/it]\u001b[A\n",
      " 94%|█████████▍| 76375/81124 [1:05:37<3:08:52,  2.39s/it]\u001b[A"
     ]
    },
    {
     "name": "stdout",
     "output_type": "stream",
     "text": [
      "Infected\n",
      "Infected\n"
     ]
    },
    {
     "name": "stderr",
     "output_type": "stream",
     "text": [
      "\n",
      " 94%|█████████▍| 76376/81124 [1:05:56<9:50:09,  7.46s/it]\u001b[A\n",
      " 94%|█████████▍| 76377/81124 [1:05:56<7:00:26,  5.31s/it]\u001b[A\n",
      " 94%|█████████▍| 76378/81124 [1:05:57<4:57:20,  3.76s/it]\u001b[A"
     ]
    },
    {
     "name": "stdout",
     "output_type": "stream",
     "text": [
      "Infected\n",
      "Infected\n",
      "Infected\n"
     ]
    },
    {
     "name": "stderr",
     "output_type": "stream",
     "text": [
      "\n",
      " 94%|█████████▍| 76379/81124 [1:06:09<8:29:06,  6.44s/it]\u001b[A"
     ]
    },
    {
     "name": "stdout",
     "output_type": "stream",
     "text": [
      "Infected\n",
      "Infected\n"
     ]
    },
    {
     "name": "stderr",
     "output_type": "stream",
     "text": [
      "\n",
      " 94%|█████████▍| 76380/81124 [1:06:18<9:28:51,  7.19s/it]\u001b[A"
     ]
    },
    {
     "name": "stdout",
     "output_type": "stream",
     "text": [
      "Infected\n",
      "Infected\n",
      "Infected\n"
     ]
    },
    {
     "name": "stderr",
     "output_type": "stream",
     "text": [
      "\n",
      " 94%|█████████▍| 76381/81124 [1:06:36<13:52:08, 10.53s/it]\u001b[A\n",
      " 94%|█████████▍| 76382/81124 [1:06:39<10:43:44,  8.15s/it]\u001b[A"
     ]
    },
    {
     "name": "stdout",
     "output_type": "stream",
     "text": [
      "Infected\n"
     ]
    },
    {
     "name": "stderr",
     "output_type": "stream",
     "text": [
      "\n",
      " 94%|█████████▍| 76383/81124 [1:07:19<23:06:20, 17.54s/it]\u001b[A\n",
      " 94%|█████████▍| 76384/81124 [1:07:20<16:36:34, 12.61s/it]\u001b[A\n",
      " 94%|█████████▍| 76385/81124 [1:07:22<12:37:35,  9.59s/it]\u001b[A\n",
      " 94%|█████████▍| 76386/81124 [1:07:32<12:36:56,  9.59s/it]\u001b[A\n",
      " 94%|█████████▍| 76387/81124 [1:07:34<9:46:08,  7.42s/it] \u001b[A"
     ]
    },
    {
     "name": "stdout",
     "output_type": "stream",
     "text": [
      "Infected\n",
      "Infected\n"
     ]
    },
    {
     "name": "stderr",
     "output_type": "stream",
     "text": [
      "\n",
      " 94%|█████████▍| 76388/81124 [1:07:44<10:37:26,  8.08s/it]\u001b[A"
     ]
    },
    {
     "name": "stdout",
     "output_type": "stream",
     "text": [
      "Infected\n"
     ]
    },
    {
     "name": "stderr",
     "output_type": "stream",
     "text": [
      "\n",
      " 94%|█████████▍| 76389/81124 [1:07:48<9:04:09,  6.90s/it] \u001b[A\n",
      " 94%|█████████▍| 76390/81124 [1:08:00<11:03:32,  8.41s/it]\u001b[A"
     ]
    },
    {
     "name": "stdout",
     "output_type": "stream",
     "text": [
      "Infected\n",
      "Infected\n"
     ]
    },
    {
     "name": "stderr",
     "output_type": "stream",
     "text": [
      "\n",
      " 94%|█████████▍| 76391/81124 [1:08:17<14:22:36, 10.94s/it]\u001b[A\n",
      " 94%|█████████▍| 76392/81124 [1:08:17<10:10:00,  7.73s/it]\u001b[A\n",
      " 94%|█████████▍| 76393/81124 [1:08:21<8:43:05,  6.63s/it] \u001b[A"
     ]
    },
    {
     "name": "stdout",
     "output_type": "stream",
     "text": [
      "Infected\n",
      "Infected\n"
     ]
    },
    {
     "name": "stderr",
     "output_type": "stream",
     "text": [
      "\n",
      " 94%|█████████▍| 76394/81124 [1:08:30<9:35:33,  7.30s/it]\u001b[A\n",
      " 94%|█████████▍| 76395/81124 [1:08:32<7:31:38,  5.73s/it]\u001b[A"
     ]
    },
    {
     "name": "stdout",
     "output_type": "stream",
     "text": [
      "Infected\n",
      "Infected\n"
     ]
    },
    {
     "name": "stderr",
     "output_type": "stream",
     "text": [
      "\n",
      " 94%|█████████▍| 76396/81124 [1:08:56<14:45:19, 11.24s/it]\u001b[A\n",
      " 94%|█████████▍| 76397/81124 [1:08:56<10:25:56,  7.95s/it]\u001b[A"
     ]
    },
    {
     "name": "stdout",
     "output_type": "stream",
     "text": [
      "Infected\n",
      "Infected\n"
     ]
    },
    {
     "name": "stderr",
     "output_type": "stream",
     "text": [
      "\n",
      " 94%|█████████▍| 76398/81124 [1:09:34<22:15:09, 16.95s/it]\u001b[A\n",
      " 94%|█████████▍| 76399/81124 [1:09:39<17:31:28, 13.35s/it]\u001b[A\n",
      " 94%|█████████▍| 76400/81124 [1:09:39<12:19:22,  9.39s/it]\u001b[A\n",
      " 94%|█████████▍| 76401/81124 [1:09:39<8:40:55,  6.62s/it] \u001b[A"
     ]
    },
    {
     "name": "stdout",
     "output_type": "stream",
     "text": [
      "Infected\n"
     ]
    },
    {
     "name": "stderr",
     "output_type": "stream",
     "text": [
      "\n",
      " 94%|█████████▍| 76402/81124 [1:09:49<9:52:25,  7.53s/it]\u001b[A"
     ]
    },
    {
     "name": "stdout",
     "output_type": "stream",
     "text": [
      "Infected\n",
      "Infected\n",
      "Infected\n",
      "Infected\n"
     ]
    },
    {
     "name": "stderr",
     "output_type": "stream",
     "text": [
      "\n",
      " 94%|█████████▍| 76404/81124 [1:10:07<10:29:57,  8.01s/it]\u001b[A"
     ]
    },
    {
     "name": "stdout",
     "output_type": "stream",
     "text": [
      "Infected\n",
      "Infected\n",
      "Infected\n"
     ]
    },
    {
     "name": "stderr",
     "output_type": "stream",
     "text": [
      "\n",
      " 94%|█████████▍| 76405/81124 [1:10:14<9:46:59,  7.46s/it] \u001b[A\n",
      " 94%|█████████▍| 76406/81124 [1:10:25<11:22:16,  8.68s/it]\u001b[A\n",
      " 94%|█████████▍| 76407/81124 [1:10:29<9:26:57,  7.21s/it] \u001b[A\n",
      " 94%|█████████▍| 76408/81124 [1:10:31<7:20:07,  5.60s/it]\u001b[A"
     ]
    },
    {
     "name": "stdout",
     "output_type": "stream",
     "text": [
      "Infected\n"
     ]
    },
    {
     "name": "stderr",
     "output_type": "stream",
     "text": [
      "\n",
      " 94%|█████████▍| 76410/81124 [1:11:01<11:00:56,  8.41s/it]\u001b[A\n",
      " 94%|█████████▍| 76411/81124 [1:11:03<8:30:14,  6.50s/it] \u001b[A"
     ]
    },
    {
     "name": "stdout",
     "output_type": "stream",
     "text": [
      "Infected\n"
     ]
    },
    {
     "name": "stderr",
     "output_type": "stream",
     "text": [
      "\n",
      " 94%|█████████▍| 76413/81124 [1:11:04<6:16:01,  4.79s/it]\u001b[A\n",
      " 94%|█████████▍| 76414/81124 [1:11:13<7:51:56,  6.01s/it]\u001b[A\n",
      " 94%|█████████▍| 76415/81124 [1:11:16<6:25:27,  4.91s/it]\u001b[A\n",
      " 94%|█████████▍| 76416/81124 [1:11:17<4:57:15,  3.79s/it]\u001b[A\n",
      " 94%|█████████▍| 76417/81124 [1:11:18<3:51:42,  2.95s/it]\u001b[A\n",
      " 94%|█████████▍| 76418/81124 [1:11:20<3:27:44,  2.65s/it]\u001b[A\n",
      " 94%|█████████▍| 76420/81124 [1:11:25<3:32:09,  2.71s/it]\u001b[A"
     ]
    },
    {
     "name": "stdout",
     "output_type": "stream",
     "text": [
      "Infected\n"
     ]
    },
    {
     "name": "stderr",
     "output_type": "stream",
     "text": [
      "\n",
      " 94%|█████████▍| 76421/81124 [1:11:31<4:44:22,  3.63s/it]\u001b[A\n",
      " 94%|█████████▍| 76422/81124 [1:11:47<9:29:38,  7.27s/it]\u001b[A\n",
      " 94%|█████████▍| 76423/81124 [1:11:48<7:02:10,  5.39s/it]\u001b[A\n",
      " 94%|█████████▍| 76424/81124 [1:11:52<6:41:52,  5.13s/it]\u001b[A"
     ]
    },
    {
     "name": "stdout",
     "output_type": "stream",
     "text": [
      "Infected\n",
      "Infected\n",
      "Infected\n",
      "Infected\n",
      "Infected\n",
      "Infected\n"
     ]
    },
    {
     "name": "stderr",
     "output_type": "stream",
     "text": [
      "\n",
      " 94%|█████████▍| 76425/81124 [1:12:07<10:35:19,  8.11s/it]\u001b[A"
     ]
    },
    {
     "name": "stdout",
     "output_type": "stream",
     "text": [
      "Infected\n",
      "Infected\n"
     ]
    },
    {
     "name": "stderr",
     "output_type": "stream",
     "text": [
      "\n",
      " 94%|█████████▍| 76426/81124 [1:12:51<24:20:16, 18.65s/it]\u001b[A\n",
      " 94%|█████████▍| 76427/81124 [1:12:51<17:05:30, 13.10s/it]\u001b[A\n",
      " 94%|█████████▍| 76428/81124 [1:12:51<12:06:48,  9.29s/it]\u001b[A"
     ]
    },
    {
     "name": "stdout",
     "output_type": "stream",
     "text": [
      "Infected\n",
      "Infected\n",
      "Infected\n",
      "Infected\n",
      "Infected\n"
     ]
    },
    {
     "name": "stderr",
     "output_type": "stream",
     "text": [
      "\n",
      " 94%|█████████▍| 76429/81124 [1:13:49<31:10:28, 23.90s/it]\u001b[A\n",
      " 94%|█████████▍| 76430/81124 [1:13:50<22:12:22, 17.03s/it]\u001b[A"
     ]
    },
    {
     "name": "stdout",
     "output_type": "stream",
     "text": [
      "Infected\n",
      "Infected\n"
     ]
    },
    {
     "name": "stderr",
     "output_type": "stream",
     "text": [
      "\n",
      " 94%|█████████▍| 76431/81124 [1:14:37<33:42:04, 25.85s/it]\u001b[A"
     ]
    },
    {
     "name": "stdout",
     "output_type": "stream",
     "text": [
      "Infected\n",
      "Infected\n"
     ]
    },
    {
     "name": "stderr",
     "output_type": "stream",
     "text": [
      "\n",
      " 94%|█████████▍| 76432/81124 [1:15:18<39:40:04, 30.44s/it]\u001b[A\n",
      " 94%|█████████▍| 76434/81124 [1:15:18<27:49:40, 21.36s/it]\u001b[A\n",
      " 94%|█████████▍| 76435/81124 [1:15:31<24:31:53, 18.83s/it]\u001b[A\n",
      " 94%|█████████▍| 76436/81124 [1:15:31<17:14:43, 13.24s/it]\u001b[A\n",
      " 94%|█████████▍| 76437/81124 [1:15:32<12:28:02,  9.58s/it]\u001b[A\n",
      " 94%|█████████▍| 76438/81124 [1:15:33<8:52:13,  6.81s/it] \u001b[A\n",
      " 94%|█████████▍| 76439/81124 [1:15:35<7:14:03,  5.56s/it]\u001b[A\n",
      " 94%|█████████▍| 76440/81124 [1:15:38<6:07:47,  4.71s/it]\u001b[A"
     ]
    },
    {
     "name": "stdout",
     "output_type": "stream",
     "text": [
      "Infected\n",
      "Infected\n",
      "Infected\n",
      "Infected\n",
      "Infected\n"
     ]
    },
    {
     "name": "stderr",
     "output_type": "stream",
     "text": [
      "\n",
      " 94%|█████████▍| 76441/81124 [1:15:53<10:06:03,  7.77s/it]\u001b[A"
     ]
    },
    {
     "name": "stdout",
     "output_type": "stream",
     "text": [
      "Infected\n",
      "Infected\n",
      "Infected\n"
     ]
    },
    {
     "name": "stderr",
     "output_type": "stream",
     "text": [
      "\n",
      " 94%|█████████▍| 76442/81124 [1:16:18<16:42:24, 12.85s/it]\u001b[A\n",
      " 94%|█████████▍| 76443/81124 [1:16:19<12:04:17,  9.28s/it]\u001b[A"
     ]
    },
    {
     "name": "stdout",
     "output_type": "stream",
     "text": [
      "Infected\n"
     ]
    },
    {
     "name": "stderr",
     "output_type": "stream",
     "text": [
      "\n",
      " 94%|█████████▍| 76444/81124 [1:16:21<9:24:44,  7.24s/it] \u001b[A\n",
      " 94%|█████████▍| 76445/81124 [1:16:21<6:40:44,  5.14s/it]\u001b[A\n",
      " 94%|█████████▍| 76446/81124 [1:16:23<5:12:21,  4.01s/it]\u001b[A"
     ]
    },
    {
     "name": "stdout",
     "output_type": "stream",
     "text": [
      "Infected\n",
      "Infected\n"
     ]
    },
    {
     "name": "stderr",
     "output_type": "stream",
     "text": [
      "\n",
      " 94%|█████████▍| 76447/81124 [1:16:41<10:57:14,  8.43s/it]\u001b[A"
     ]
    },
    {
     "name": "stdout",
     "output_type": "stream",
     "text": [
      "Infected\n"
     ]
    },
    {
     "name": "stderr",
     "output_type": "stream",
     "text": [
      "\n",
      " 94%|█████████▍| 76448/81124 [1:17:11<18:59:48, 14.63s/it]\u001b[A\n",
      " 94%|█████████▍| 76449/81124 [1:17:20<17:03:20, 13.13s/it]\u001b[A"
     ]
    },
    {
     "name": "stdout",
     "output_type": "stream",
     "text": [
      "Infected\n"
     ]
    },
    {
     "name": "stderr",
     "output_type": "stream",
     "text": [
      "\n",
      " 94%|█████████▍| 76450/81124 [1:18:00<27:25:07, 21.12s/it]\u001b[A\n",
      " 94%|█████████▍| 76451/81124 [1:18:01<19:35:00, 15.09s/it]\u001b[A"
     ]
    },
    {
     "name": "stdout",
     "output_type": "stream",
     "text": [
      "Infected\n",
      "Infected\n",
      "Infected\n"
     ]
    },
    {
     "name": "stderr",
     "output_type": "stream",
     "text": [
      "\n",
      " 94%|█████████▍| 76452/81124 [1:18:09<16:51:15, 12.99s/it]\u001b[A"
     ]
    },
    {
     "name": "stdout",
     "output_type": "stream",
     "text": [
      "Infected\n"
     ]
    },
    {
     "name": "stderr",
     "output_type": "stream",
     "text": [
      "\n",
      " 94%|█████████▍| 76453/81124 [1:18:28<19:03:27, 14.69s/it]\u001b[A\n",
      " 94%|█████████▍| 76454/81124 [1:18:28<13:25:20, 10.35s/it]\u001b[A\n",
      " 94%|█████████▍| 76456/81124 [1:18:28<9:25:11,  7.26s/it] \u001b[A\n",
      " 94%|█████████▍| 76457/81124 [1:18:30<7:16:03,  5.61s/it]\u001b[A\n",
      " 94%|█████████▍| 76458/81124 [1:18:37<7:48:40,  6.03s/it]\u001b[A\n",
      " 94%|█████████▍| 76459/81124 [1:18:38<5:56:45,  4.59s/it]\u001b[A\n",
      " 94%|█████████▍| 76460/81124 [1:18:39<4:30:44,  3.48s/it]\u001b[A\n",
      " 94%|█████████▍| 76461/81124 [1:18:41<4:02:32,  3.12s/it]\u001b[A\n",
      " 94%|█████████▍| 76464/81124 [1:18:46<3:28:34,  2.69s/it]\u001b[A"
     ]
    },
    {
     "name": "stdout",
     "output_type": "stream",
     "text": [
      "Infected\n"
     ]
    },
    {
     "name": "stderr",
     "output_type": "stream",
     "text": [
      "\n",
      " 94%|█████████▍| 76465/81124 [1:19:16<14:03:07, 10.86s/it]\u001b[A\n",
      " 94%|█████████▍| 76466/81124 [1:19:21<11:41:57,  9.04s/it]\u001b[A\n",
      " 94%|█████████▍| 76467/81124 [1:19:22<8:32:00,  6.60s/it] \u001b[A\n",
      " 94%|█████████▍| 76468/81124 [1:19:23<6:17:45,  4.87s/it]\u001b[A"
     ]
    },
    {
     "name": "stdout",
     "output_type": "stream",
     "text": [
      "Infected\n"
     ]
    },
    {
     "name": "stderr",
     "output_type": "stream",
     "text": [
      "\n",
      " 94%|█████████▍| 76469/81124 [1:19:27<6:06:41,  4.73s/it]\u001b[A\n",
      " 94%|█████████▍| 76470/81124 [1:19:31<5:40:04,  4.38s/it]\u001b[A\n",
      " 94%|█████████▍| 76471/81124 [1:19:32<4:25:15,  3.42s/it]\u001b[A\n",
      " 94%|█████████▍| 76473/81124 [1:19:33<3:16:04,  2.53s/it]\u001b[A"
     ]
    },
    {
     "name": "stdout",
     "output_type": "stream",
     "text": [
      "Infected\n"
     ]
    },
    {
     "name": "stderr",
     "output_type": "stream",
     "text": [
      "\n",
      " 94%|█████████▍| 76474/81124 [1:20:06<15:18:37, 11.85s/it]\u001b[A\n",
      " 94%|█████████▍| 76475/81124 [1:20:07<11:00:40,  8.53s/it]\u001b[A\n",
      " 94%|█████████▍| 76476/81124 [1:20:08<8:06:22,  6.28s/it] \u001b[A\n",
      " 94%|█████████▍| 76477/81124 [1:20:09<6:03:36,  4.69s/it]\u001b[A"
     ]
    },
    {
     "name": "stdout",
     "output_type": "stream",
     "text": [
      "Infected\n",
      "Infected\n",
      "Infected\n",
      "Infected\n",
      "Infected\n",
      "Infected\n",
      "Infected\n"
     ]
    },
    {
     "name": "stderr",
     "output_type": "stream",
     "text": [
      "\n",
      " 94%|█████████▍| 76478/81124 [1:20:35<14:08:39, 10.96s/it]\u001b[A\n",
      " 94%|█████████▍| 76479/81124 [1:20:36<10:12:16,  7.91s/it]\u001b[A"
     ]
    },
    {
     "name": "stdout",
     "output_type": "stream",
     "text": [
      "Infected\n",
      "Infected\n",
      "Infected\n",
      "Infected\n",
      "Infected\n",
      "Infected\n",
      "Infected\n"
     ]
    },
    {
     "name": "stderr",
     "output_type": "stream",
     "text": [
      "\n",
      " 94%|█████████▍| 76480/81124 [1:20:43<10:08:21,  7.86s/it]\u001b[A"
     ]
    },
    {
     "name": "stdout",
     "output_type": "stream",
     "text": [
      "Infected\n"
     ]
    },
    {
     "name": "stderr",
     "output_type": "stream",
     "text": [
      "\n",
      " 94%|█████████▍| 76481/81124 [1:20:47<8:39:32,  6.71s/it] \u001b[A\n",
      " 94%|█████████▍| 76482/81124 [1:20:58<10:04:19,  7.81s/it]\u001b[A\n",
      " 94%|█████████▍| 76483/81124 [1:21:00<7:51:03,  6.09s/it] \u001b[A\n",
      " 94%|█████████▍| 76484/81124 [1:21:01<6:03:56,  4.71s/it]\u001b[A"
     ]
    },
    {
     "name": "stdout",
     "output_type": "stream",
     "text": [
      "Infected\n"
     ]
    },
    {
     "name": "stderr",
     "output_type": "stream",
     "text": [
      "\n",
      " 94%|█████████▍| 76485/81124 [1:21:06<6:05:50,  4.73s/it]\u001b[A\n",
      " 94%|█████████▍| 76486/81124 [1:21:06<4:26:07,  3.44s/it]\u001b[A\n",
      " 94%|█████████▍| 76488/81124 [1:21:07<3:09:45,  2.46s/it]\u001b[A\n",
      " 94%|█████████▍| 76490/81124 [1:21:07<2:17:03,  1.77s/it]\u001b[A\n",
      " 94%|█████████▍| 76492/81124 [1:21:09<1:52:01,  1.45s/it]\u001b[A\n",
      " 94%|█████████▍| 76493/81124 [1:21:14<3:14:48,  2.52s/it]\u001b[A\n",
      " 94%|█████████▍| 76496/81124 [1:21:47<6:37:16,  5.15s/it]\u001b[A"
     ]
    },
    {
     "name": "stdout",
     "output_type": "stream",
     "text": [
      "Infected\n"
     ]
    },
    {
     "name": "stderr",
     "output_type": "stream",
     "text": [
      "\n",
      " 94%|█████████▍| 76497/81124 [1:21:57<8:28:16,  6.59s/it]\u001b[A\n",
      " 94%|█████████▍| 76498/81124 [1:21:58<6:13:46,  4.85s/it]\u001b[A"
     ]
    },
    {
     "name": "stdout",
     "output_type": "stream",
     "text": [
      "Infected\n",
      "Infected\n"
     ]
    },
    {
     "name": "stderr",
     "output_type": "stream",
     "text": [
      "\n",
      " 94%|█████████▍| 76499/81124 [1:22:18<11:54:37,  9.27s/it]\u001b[A\n",
      " 94%|█████████▍| 76500/81124 [1:22:21<9:38:03,  7.50s/it] \u001b[A"
     ]
    },
    {
     "name": "stdout",
     "output_type": "stream",
     "text": [
      "Infected\n",
      "Infected\n",
      "Infected\n"
     ]
    },
    {
     "name": "stderr",
     "output_type": "stream",
     "text": [
      "\n",
      " 94%|█████████▍| 76501/81124 [1:23:21<29:59:28, 23.35s/it]\u001b[A\n",
      " 94%|█████████▍| 76502/81124 [1:23:26<22:42:13, 17.68s/it]\u001b[A"
     ]
    },
    {
     "name": "stdout",
     "output_type": "stream",
     "text": [
      "Infected\n",
      "Infected\n",
      "Infected\n"
     ]
    },
    {
     "name": "stderr",
     "output_type": "stream",
     "text": [
      "\n",
      " 94%|█████████▍| 76503/81124 [1:24:25<38:44:24, 30.18s/it]\u001b[A"
     ]
    },
    {
     "name": "stdout",
     "output_type": "stream",
     "text": [
      "Infected\n"
     ]
    },
    {
     "name": "stderr",
     "output_type": "stream",
     "text": [
      "\n",
      " 94%|█████████▍| 76504/81124 [1:25:15<46:20:26, 36.11s/it]\u001b[A\n",
      " 94%|█████████▍| 76505/81124 [1:25:16<32:47:37, 25.56s/it]\u001b[A\n",
      " 94%|█████████▍| 76507/81124 [1:25:19<23:24:33, 18.25s/it]\u001b[A"
     ]
    },
    {
     "name": "stdout",
     "output_type": "stream",
     "text": [
      "Infected\n"
     ]
    },
    {
     "name": "stderr",
     "output_type": "stream",
     "text": [
      "\n",
      " 94%|█████████▍| 76508/81124 [1:25:32<21:22:57, 16.68s/it]\u001b[A\n",
      " 94%|█████████▍| 76509/81124 [1:25:32<15:17:23, 11.93s/it]\u001b[A\n",
      " 94%|█████████▍| 76511/81124 [1:25:34<10:59:12,  8.57s/it]\u001b[A\n",
      " 94%|█████████▍| 76514/81124 [1:27:24<21:50:49, 17.06s/it]\u001b[A"
     ]
    },
    {
     "name": "stdout",
     "output_type": "stream",
     "text": [
      "Infected\n",
      "Infected\n"
     ]
    },
    {
     "name": "stderr",
     "output_type": "stream",
     "text": [
      "\n",
      " 94%|█████████▍| 76515/81124 [1:27:26<15:59:19, 12.49s/it]\u001b[A\n",
      " 94%|█████████▍| 76516/81124 [1:27:42<17:22:29, 13.57s/it]\u001b[A\n",
      " 94%|█████████▍| 76518/81124 [1:27:45<12:39:57,  9.90s/it]\u001b[A\n",
      " 94%|█████████▍| 76520/81124 [1:27:46<9:05:52,  7.11s/it] \u001b[A\n",
      " 94%|█████████▍| 76521/81124 [1:27:49<7:21:49,  5.76s/it]\u001b[A\n",
      " 94%|█████████▍| 76522/81124 [1:27:56<7:52:55,  6.17s/it]\u001b[A\n",
      " 94%|█████████▍| 76523/81124 [1:28:20<14:55:21, 11.68s/it]\u001b[A\n",
      " 94%|█████████▍| 76524/81124 [1:28:21<10:48:47,  8.46s/it]\u001b[A\n",
      " 94%|█████████▍| 76525/81124 [1:28:24<8:43:57,  6.84s/it] \u001b[A\n",
      " 94%|█████████▍| 76526/81124 [1:28:50<15:43:23, 12.31s/it]\u001b[A"
     ]
    },
    {
     "name": "stdout",
     "output_type": "stream",
     "text": [
      "Infected\n"
     ]
    },
    {
     "name": "stderr",
     "output_type": "stream",
     "text": [
      "\n",
      " 94%|█████████▍| 76527/81124 [1:29:07<17:36:06, 13.78s/it]\u001b[A\n",
      " 94%|█████████▍| 76529/81124 [1:29:09<12:41:38,  9.95s/it]\u001b[A\n",
      " 94%|█████████▍| 76530/81124 [1:29:10<9:19:33,  7.31s/it] \u001b[A"
     ]
    },
    {
     "name": "stdout",
     "output_type": "stream",
     "text": [
      "Infected\n",
      "Infected\n"
     ]
    },
    {
     "name": "stderr",
     "output_type": "stream",
     "text": [
      "\n",
      " 94%|█████████▍| 76531/81124 [1:30:56<47:10:33, 36.98s/it]\u001b[A"
     ]
    },
    {
     "name": "stdout",
     "output_type": "stream",
     "text": [
      "Infected\n",
      "Infected\n"
     ]
    },
    {
     "name": "stderr",
     "output_type": "stream",
     "text": [
      "\n",
      " 94%|█████████▍| 76532/81124 [1:32:07<59:58:29, 47.02s/it]\u001b[A\n",
      " 94%|█████████▍| 76533/81124 [1:32:12<44:08:26, 34.61s/it]\u001b[A\n",
      " 94%|█████████▍| 76534/81124 [1:32:13<31:19:58, 24.57s/it]\u001b[A"
     ]
    },
    {
     "name": "stdout",
     "output_type": "stream",
     "text": [
      "Infected\n"
     ]
    },
    {
     "name": "stderr",
     "output_type": "stream",
     "text": [
      "\n",
      " 94%|█████████▍| 76535/81124 [1:32:45<33:55:55, 26.62s/it]\u001b[A"
     ]
    },
    {
     "name": "stdout",
     "output_type": "stream",
     "text": [
      "Infected\n",
      "Infected\n"
     ]
    },
    {
     "name": "stderr",
     "output_type": "stream",
     "text": [
      "\n",
      " 94%|█████████▍| 76536/81124 [1:32:48<24:50:18, 19.49s/it]\u001b[A\n",
      " 94%|█████████▍| 76538/81124 [1:33:26<24:39:05, 19.35s/it]\u001b[A\n",
      " 94%|█████████▍| 76539/81124 [1:33:27<17:56:01, 14.08s/it]\u001b[A\n",
      " 94%|█████████▍| 76540/81124 [1:33:29<13:10:14, 10.34s/it]\u001b[A\n",
      " 94%|█████████▍| 76542/81124 [1:33:34<10:12:04,  8.02s/it]\u001b[A\n",
      " 94%|█████████▍| 76543/81124 [1:33:48<12:25:24,  9.76s/it]\u001b[A\n",
      " 94%|█████████▍| 76544/81124 [1:33:49<9:10:50,  7.22s/it] \u001b[A\n",
      " 94%|█████████▍| 76545/81124 [1:33:57<9:30:57,  7.48s/it]\u001b[A\n",
      " 94%|█████████▍| 76546/81124 [1:33:59<7:22:59,  5.81s/it]\u001b[A"
     ]
    },
    {
     "name": "stdout",
     "output_type": "stream",
     "text": [
      "Infected\n",
      "Infected\n",
      "Infected\n",
      "Infected\n",
      "Infected\n",
      "Infected\n",
      "Infected\n",
      "Infected\n"
     ]
    },
    {
     "name": "stderr",
     "output_type": "stream",
     "text": [
      "\n",
      " 94%|█████████▍| 76547/81124 [1:34:42<21:30:01, 16.91s/it]\u001b[A"
     ]
    },
    {
     "name": "stdout",
     "output_type": "stream",
     "text": [
      "Infected\n",
      "Infected\n",
      "Infected\n",
      "Infected\n",
      "Infected\n"
     ]
    },
    {
     "name": "stderr",
     "output_type": "stream",
     "text": [
      "\n",
      " 94%|█████████▍| 76548/81124 [1:37:22<75:48:53, 59.64s/it]\u001b[A\n",
      " 94%|█████████▍| 76549/81124 [1:37:35<58:12:13, 45.80s/it]\u001b[A\n",
      " 94%|█████████▍| 76550/81124 [1:38:18<56:55:40, 44.81s/it]\u001b[A\n",
      " 94%|█████████▍| 76551/81124 [1:39:23<64:44:59, 50.97s/it]\u001b[A\n",
      " 94%|█████████▍| 76552/81124 [1:39:46<54:14:09, 42.71s/it]\u001b[A"
     ]
    },
    {
     "name": "stdout",
     "output_type": "stream",
     "text": [
      "Infected\n"
     ]
    },
    {
     "name": "stderr",
     "output_type": "stream",
     "text": [
      "\n",
      " 94%|█████████▍| 76553/81124 [1:40:04<44:40:49, 35.19s/it]\u001b[A\n",
      " 94%|█████████▍| 76554/81124 [1:40:11<33:52:45, 26.69s/it]\u001b[A\n",
      " 94%|█████████▍| 76555/81124 [1:40:26<29:28:01, 23.22s/it]\u001b[A\n",
      " 94%|█████████▍| 76556/81124 [1:41:22<41:57:10, 33.06s/it]\u001b[A\n",
      " 94%|█████████▍| 76557/81124 [1:44:03<90:48:38, 71.58s/it]\u001b[A\n",
      " 94%|█████████▍| 76558/81124 [1:44:07<65:02:38, 51.28s/it]\u001b[A\n",
      " 94%|█████████▍| 76559/81124 [1:45:05<67:37:16, 53.33s/it]\u001b[A"
     ]
    },
    {
     "name": "stdout",
     "output_type": "stream",
     "text": [
      "Infected\n",
      "Infected\n",
      "Infected\n"
     ]
    },
    {
     "name": "stderr",
     "output_type": "stream",
     "text": [
      "\n",
      " 94%|█████████▍| 76560/81124 [1:47:58<112:54:30, 89.06s/it]\u001b[A"
     ]
    },
    {
     "name": "stdout",
     "output_type": "stream",
     "text": [
      "Infected\n",
      "Infected\n"
     ]
    },
    {
     "name": "stderr",
     "output_type": "stream",
     "text": [
      "\n",
      " 94%|█████████▍| 76561/81124 [1:52:13<175:57:29, 138.82s/it]\u001b[A\n",
      " 94%|█████████▍| 76562/81124 [1:52:16<124:14:29, 98.04s/it] \u001b[A\n",
      " 94%|█████████▍| 76564/81124 [1:52:54<94:15:56, 74.42s/it] \u001b[A\n",
      " 94%|█████████▍| 76565/81124 [1:52:56<66:39:02, 52.63s/it]\u001b[A\n",
      " 94%|█████████▍| 76566/81124 [1:52:59<47:45:47, 37.72s/it]\u001b[A"
     ]
    },
    {
     "name": "stdout",
     "output_type": "stream",
     "text": [
      "Infected\n",
      "Infected\n",
      "Infected\n"
     ]
    },
    {
     "name": "stderr",
     "output_type": "stream",
     "text": [
      "\n",
      " 94%|█████████▍| 76568/81124 [1:55:26<61:15:55, 48.41s/it]\u001b[A\n",
      " 94%|█████████▍| 76569/81124 [1:55:30<44:33:12, 35.21s/it]\u001b[A\n",
      " 94%|█████████▍| 76570/81124 [1:55:40<34:44:44, 27.47s/it]\u001b[A\n",
      " 94%|█████████▍| 76571/81124 [1:55:45<26:17:44, 20.79s/it]\u001b[A\n",
      " 94%|█████████▍| 76572/81124 [1:55:50<20:32:52, 16.25s/it]\u001b[A"
     ]
    },
    {
     "name": "stdout",
     "output_type": "stream",
     "text": [
      "Infected\n"
     ]
    },
    {
     "name": "stderr",
     "output_type": "stream",
     "text": [
      "\n",
      " 94%|█████████▍| 76573/81124 [1:56:13<23:04:05, 18.25s/it]\u001b[A\n",
      " 94%|█████████▍| 76574/81124 [1:57:22<42:06:02, 33.31s/it]\u001b[A\n",
      " 94%|█████████▍| 76575/81124 [1:57:24<30:29:14, 24.13s/it]\u001b[A"
     ]
    },
    {
     "name": "stdout",
     "output_type": "stream",
     "text": [
      "Infected\n",
      "Infected\n",
      "Infected\n",
      "Infected\n"
     ]
    },
    {
     "name": "stderr",
     "output_type": "stream",
     "text": [
      "\n",
      " 94%|█████████▍| 76576/81124 [2:02:49<144:13:27, 114.16s/it]\u001b[A\n",
      " 94%|█████████▍| 76577/81124 [2:03:12<109:44:25, 86.88s/it] \u001b[A\n",
      " 94%|█████████▍| 76578/81124 [2:03:14<77:41:24, 61.52s/it] \u001b[A"
     ]
    },
    {
     "name": "stdout",
     "output_type": "stream",
     "text": [
      "Infected\n",
      "Infected\n",
      "Infected\n",
      "Infected\n",
      "Infected\n",
      "Infected\n",
      "Infected\n"
     ]
    },
    {
     "name": "stderr",
     "output_type": "stream",
     "text": [
      "\n",
      " 94%|█████████▍| 76580/81124 [2:03:38<58:51:58, 46.64s/it]\u001b[A\n",
      " 94%|█████████▍| 76581/81124 [2:03:54<47:13:08, 37.42s/it]\u001b[A\n",
      " 94%|█████████▍| 76582/81124 [2:04:03<36:25:36, 28.87s/it]\u001b[A\n",
      " 94%|█████████▍| 76583/81124 [2:04:05<26:22:44, 20.91s/it]\u001b[A\n",
      " 94%|█████████▍| 76585/81124 [2:04:10<19:15:43, 15.28s/it]\u001b[A\n",
      " 94%|█████████▍| 76586/81124 [2:04:46<27:26:35, 21.77s/it]\u001b[A\n",
      " 94%|█████████▍| 76587/81124 [2:04:48<19:35:17, 15.54s/it]\u001b[A\n",
      " 94%|█████████▍| 76588/81124 [2:05:01<18:44:48, 14.88s/it]\u001b[A\n",
      " 94%|█████████▍| 76589/81124 [2:05:06<14:55:19, 11.85s/it]\u001b[A\n",
      " 94%|█████████▍| 76591/81124 [2:10:12<68:21:23, 54.29s/it]\u001b[A\n",
      " 94%|█████████▍| 76592/81124 [2:14:29<144:45:09, 114.98s/it]\u001b[A"
     ]
    },
    {
     "name": "stdout",
     "output_type": "stream",
     "text": [
      "Infected\n"
     ]
    },
    {
     "name": "stderr",
     "output_type": "stream",
     "text": [
      "\n",
      " 94%|█████████▍| 76593/81124 [2:14:45<107:21:20, 85.30s/it] \u001b[A\n",
      " 94%|█████████▍| 76594/81124 [2:14:52<77:58:17, 61.96s/it] \u001b[A"
     ]
    },
    {
     "name": "stdout",
     "output_type": "stream",
     "text": [
      "Infected\n"
     ]
    },
    {
     "name": "stderr",
     "output_type": "stream",
     "text": [
      "\n",
      " 94%|█████████▍| 76595/81124 [2:15:02<58:02:15, 46.13s/it]\u001b[A\n",
      " 94%|█████████▍| 76596/81124 [2:15:07<42:36:39, 33.88s/it]\u001b[A\n",
      " 94%|█████████▍| 76597/81124 [2:15:11<31:18:45, 24.90s/it]\u001b[A\n",
      " 94%|█████████▍| 76598/81124 [2:15:30<28:57:58, 23.04s/it]\u001b[A\n",
      " 94%|█████████▍| 76600/81124 [2:15:30<20:26:13, 16.26s/it]\u001b[A\n",
      " 94%|█████████▍| 76602/81124 [2:15:31<14:26:58, 11.50s/it]\u001b[A"
     ]
    },
    {
     "name": "stdout",
     "output_type": "stream",
     "text": [
      "Infected\n",
      "Infected\n",
      "Infected\n"
     ]
    },
    {
     "name": "stderr",
     "output_type": "stream",
     "text": [
      "\n",
      " 94%|█████████▍| 76603/81124 [2:15:44<15:02:05, 11.97s/it]\u001b[A"
     ]
    },
    {
     "name": "stdout",
     "output_type": "stream",
     "text": [
      "Infected\n",
      "Infected\n"
     ]
    },
    {
     "name": "stderr",
     "output_type": "stream",
     "text": [
      "\n",
      " 94%|█████████▍| 76604/81124 [2:15:48<12:05:27,  9.63s/it]\u001b[A\n",
      " 94%|█████████▍| 76605/81124 [2:15:49<8:38:37,  6.89s/it] \u001b[A\n",
      " 94%|█████████▍| 76606/81124 [2:15:50<6:33:39,  5.23s/it]\u001b[A\n",
      " 94%|█████████▍| 76609/81124 [2:15:59<5:38:05,  4.49s/it]\u001b[A"
     ]
    },
    {
     "name": "stdout",
     "output_type": "stream",
     "text": [
      "Infected\n",
      "Infected\n"
     ]
    },
    {
     "name": "stderr",
     "output_type": "stream",
     "text": [
      "\n",
      " 94%|█████████▍| 76610/81124 [2:16:26<14:04:48, 11.23s/it]\u001b[A\n",
      " 94%|█████████▍| 76611/81124 [2:16:27<10:33:05,  8.42s/it]\u001b[A"
     ]
    },
    {
     "name": "stdout",
     "output_type": "stream",
     "text": [
      "Infected\n"
     ]
    },
    {
     "name": "stderr",
     "output_type": "stream",
     "text": [
      "\n",
      " 94%|█████████▍| 76612/81124 [2:17:24<28:39:14, 22.86s/it]\u001b[A\n",
      " 94%|█████████▍| 76613/81124 [2:17:28<21:44:55, 17.36s/it]\u001b[A\n",
      " 94%|█████████▍| 76614/81124 [2:17:32<16:39:56, 13.30s/it]\u001b[A\n",
      " 94%|█████████▍| 76615/81124 [2:17:33<12:03:50,  9.63s/it]\u001b[A\n",
      " 94%|█████████▍| 76616/81124 [2:17:34<8:48:34,  7.04s/it] \u001b[A\n",
      " 94%|█████████▍| 76617/81124 [2:17:47<10:51:28,  8.67s/it]\u001b[A"
     ]
    },
    {
     "name": "stdout",
     "output_type": "stream",
     "text": [
      "Infected\n"
     ]
    },
    {
     "name": "stderr",
     "output_type": "stream",
     "text": [
      "\n",
      " 94%|█████████▍| 76618/81124 [2:18:01<13:00:23, 10.39s/it]\u001b[A\n",
      " 94%|█████████▍| 76622/81124 [2:18:11<9:59:43,  7.99s/it] \u001b[A\n",
      " 94%|█████████▍| 76623/81124 [2:18:18<9:48:05,  7.84s/it]\u001b[A"
     ]
    },
    {
     "name": "stdout",
     "output_type": "stream",
     "text": [
      "Infected\n"
     ]
    },
    {
     "name": "stderr",
     "output_type": "stream",
     "text": [
      "\n",
      " 94%|█████████▍| 76624/81124 [2:18:51<18:59:15, 15.19s/it]\u001b[A"
     ]
    },
    {
     "name": "stdout",
     "output_type": "stream",
     "text": [
      "Infected\n",
      "Infected\n",
      "Infected\n",
      "Infected\n"
     ]
    },
    {
     "name": "stderr",
     "output_type": "stream",
     "text": [
      "\n",
      " 94%|█████████▍| 76625/81124 [2:19:26<26:24:56, 21.14s/it]\u001b[A\n",
      " 94%|█████████▍| 76626/81124 [2:19:27<18:51:55, 15.10s/it]\u001b[A"
     ]
    },
    {
     "name": "stdout",
     "output_type": "stream",
     "text": [
      "Infected\n",
      "Infected\n"
     ]
    },
    {
     "name": "stderr",
     "output_type": "stream",
     "text": [
      "\n",
      " 94%|█████████▍| 76628/81124 [2:19:38<15:17:28, 12.24s/it]\u001b[A"
     ]
    },
    {
     "name": "stdout",
     "output_type": "stream",
     "text": [
      "Infected\n",
      "Infected\n"
     ]
    },
    {
     "name": "stderr",
     "output_type": "stream",
     "text": [
      "\n",
      " 94%|█████████▍| 76629/81124 [2:20:04<20:25:49, 16.36s/it]\u001b[A"
     ]
    },
    {
     "name": "stdout",
     "output_type": "stream",
     "text": [
      "Infected\n",
      "Infected\n"
     ]
    },
    {
     "name": "stderr",
     "output_type": "stream",
     "text": [
      "\n",
      " 94%|█████████▍| 76630/81124 [2:20:15<18:23:04, 14.73s/it]\u001b[A"
     ]
    },
    {
     "name": "stdout",
     "output_type": "stream",
     "text": [
      "Infected\n"
     ]
    },
    {
     "name": "stderr",
     "output_type": "stream",
     "text": [
      "\n",
      " 94%|█████████▍| 76632/81124 [2:20:25<14:47:03, 11.85s/it]\u001b[A\n",
      " 94%|█████████▍| 76633/81124 [2:20:26<10:39:49,  8.55s/it]\u001b[A\n",
      " 94%|█████████▍| 76634/81124 [2:20:28<8:09:01,  6.53s/it] \u001b[A"
     ]
    },
    {
     "name": "stdout",
     "output_type": "stream",
     "text": [
      "Infected\n",
      "Infected\n",
      "Infected\n",
      "Infected\n",
      "Infected\n",
      "Infected\n"
     ]
    },
    {
     "name": "stderr",
     "output_type": "stream",
     "text": [
      "\n",
      " 94%|█████████▍| 76635/81124 [2:20:42<10:59:00,  8.81s/it]\u001b[A\n",
      " 94%|█████████▍| 76636/81124 [2:20:44<8:26:25,  6.77s/it] \u001b[A\n",
      " 94%|█████████▍| 76637/81124 [2:20:45<6:19:41,  5.08s/it]\u001b[A\n",
      " 94%|█████████▍| 76638/81124 [2:20:45<4:35:19,  3.68s/it]\u001b[A\n",
      " 94%|█████████▍| 76639/81124 [2:20:46<3:34:33,  2.87s/it]\u001b[A\n",
      " 94%|█████████▍| 76640/81124 [2:20:49<3:18:15,  2.65s/it]\u001b[A\n",
      " 94%|█████████▍| 76641/81124 [2:20:50<2:41:23,  2.16s/it]\u001b[A\n",
      " 94%|█████████▍| 76642/81124 [2:21:00<5:57:40,  4.79s/it]\u001b[A\n",
      " 94%|█████████▍| 76643/81124 [2:21:03<5:10:09,  4.15s/it]\u001b[A\n",
      " 94%|█████████▍| 76644/81124 [2:21:03<3:39:24,  2.94s/it]\u001b[A\n",
      " 94%|█████████▍| 76645/81124 [2:21:07<4:02:00,  3.24s/it]\u001b[A"
     ]
    },
    {
     "name": "stdout",
     "output_type": "stream",
     "text": [
      "Infected\n"
     ]
    },
    {
     "name": "stderr",
     "output_type": "stream",
     "text": [
      "\n",
      " 94%|█████████▍| 76646/81124 [2:21:13<4:57:00,  3.98s/it]\u001b[A"
     ]
    },
    {
     "name": "stdout",
     "output_type": "stream",
     "text": [
      "Infected\n"
     ]
    },
    {
     "name": "stderr",
     "output_type": "stream",
     "text": [
      "\n",
      " 94%|█████████▍| 76647/81124 [2:21:22<7:00:19,  5.63s/it]\u001b[A\n",
      " 94%|█████████▍| 76648/81124 [2:21:27<6:39:58,  5.36s/it]\u001b[A\n",
      " 94%|█████████▍| 76649/81124 [2:21:31<6:12:08,  4.99s/it]\u001b[A\n",
      " 94%|█████████▍| 76650/81124 [2:21:37<6:25:46,  5.17s/it]\u001b[A"
     ]
    },
    {
     "name": "stdout",
     "output_type": "stream",
     "text": [
      "Infected\n",
      "Infected\n"
     ]
    },
    {
     "name": "stderr",
     "output_type": "stream",
     "text": [
      "\n",
      " 94%|█████████▍| 76651/81124 [2:21:39<5:27:39,  4.40s/it]\u001b[A\n",
      " 94%|█████████▍| 76652/81124 [2:21:42<4:39:22,  3.75s/it]\u001b[A"
     ]
    },
    {
     "name": "stdout",
     "output_type": "stream",
     "text": [
      "Infected\n",
      "Infected\n",
      "Infected\n"
     ]
    },
    {
     "name": "stderr",
     "output_type": "stream",
     "text": [
      "\n",
      " 94%|█████████▍| 76653/81124 [2:21:49<5:54:50,  4.76s/it]\u001b[A\n",
      " 94%|█████████▍| 76654/81124 [2:21:50<4:26:20,  3.58s/it]\u001b[A\n",
      " 94%|█████████▍| 76655/81124 [2:21:50<3:24:04,  2.74s/it]\u001b[A\n",
      " 94%|█████████▍| 76656/81124 [2:21:51<2:30:18,  2.02s/it]\u001b[A\n",
      " 94%|█████████▍| 76657/81124 [2:21:53<2:44:15,  2.21s/it]\u001b[A"
     ]
    },
    {
     "name": "stdout",
     "output_type": "stream",
     "text": [
      "Infected\n",
      "Infected\n",
      "Infected\n"
     ]
    },
    {
     "name": "stderr",
     "output_type": "stream",
     "text": [
      "\n",
      " 94%|█████████▍| 76658/81124 [2:22:51<23:18:51, 18.79s/it]\u001b[A"
     ]
    },
    {
     "name": "stdout",
     "output_type": "stream",
     "text": [
      "Infected\n"
     ]
    },
    {
     "name": "stderr",
     "output_type": "stream",
     "text": [
      "\n",
      " 94%|█████████▍| 76659/81124 [2:23:02<20:32:33, 16.56s/it]\u001b[A\n",
      " 94%|█████████▍| 76660/81124 [2:23:06<15:48:01, 12.74s/it]\u001b[A"
     ]
    },
    {
     "name": "stdout",
     "output_type": "stream",
     "text": [
      "Infected\n",
      "Infected\n"
     ]
    },
    {
     "name": "stderr",
     "output_type": "stream",
     "text": [
      "\n",
      " 94%|█████████▍| 76661/81124 [2:23:21<16:39:03, 13.43s/it]\u001b[A"
     ]
    },
    {
     "name": "stdout",
     "output_type": "stream",
     "text": [
      "Infected\n"
     ]
    },
    {
     "name": "stderr",
     "output_type": "stream",
     "text": [
      "\n",
      " 94%|█████████▍| 76662/81124 [2:23:23<12:14:02,  9.87s/it]\u001b[A\n",
      " 95%|█████████▍| 76663/81124 [2:23:24<8:55:50,  7.21s/it] \u001b[A"
     ]
    },
    {
     "name": "stdout",
     "output_type": "stream",
     "text": [
      "Infected\n",
      "Infected\n"
     ]
    },
    {
     "name": "stderr",
     "output_type": "stream",
     "text": [
      "\n",
      " 95%|█████████▍| 76664/81124 [2:24:06<21:55:04, 17.69s/it]\u001b[A\n",
      " 95%|█████████▍| 76665/81124 [2:24:06<15:29:23, 12.51s/it]\u001b[A"
     ]
    },
    {
     "name": "stdout",
     "output_type": "stream",
     "text": [
      "Infected\n"
     ]
    },
    {
     "name": "stderr",
     "output_type": "stream",
     "text": [
      "\n",
      " 95%|█████████▍| 76666/81124 [2:24:17<14:42:45, 11.88s/it]\u001b[A\n",
      " 95%|█████████▍| 76667/81124 [2:24:18<10:42:13,  8.65s/it]\u001b[A\n",
      " 95%|█████████▍| 76669/81124 [2:24:20<7:55:02,  6.40s/it] \u001b[A\n",
      " 95%|█████████▍| 76670/81124 [2:24:21<5:48:42,  4.70s/it]\u001b[A\n",
      " 95%|█████████▍| 76671/81124 [2:24:28<6:44:14,  5.45s/it]\u001b[A\n",
      " 95%|█████████▍| 76673/81124 [2:24:30<5:04:37,  4.11s/it]\u001b[A"
     ]
    },
    {
     "name": "stdout",
     "output_type": "stream",
     "text": [
      "Infected\n"
     ]
    },
    {
     "name": "stderr",
     "output_type": "stream",
     "text": [
      "\n",
      " 95%|█████████▍| 76674/81124 [2:24:42<8:13:36,  6.66s/it]\u001b[A\n",
      " 95%|█████████▍| 76675/81124 [2:24:47<7:27:57,  6.04s/it]\u001b[A\n",
      " 95%|█████████▍| 76676/81124 [2:24:51<6:49:31,  5.52s/it]\u001b[A"
     ]
    },
    {
     "name": "stdout",
     "output_type": "stream",
     "text": [
      "Infected\n"
     ]
    },
    {
     "name": "stderr",
     "output_type": "stream",
     "text": [
      "\n",
      " 95%|█████████▍| 76679/81124 [2:24:55<5:12:19,  4.22s/it]\u001b[A\n",
      " 95%|█████████▍| 76680/81124 [2:24:55<3:44:40,  3.03s/it]\u001b[A\n",
      " 95%|█████████▍| 76681/81124 [2:25:00<4:27:11,  3.61s/it]\u001b[A\n",
      " 95%|█████████▍| 76682/81124 [2:25:00<3:14:01,  2.62s/it]\u001b[A\n",
      " 95%|█████████▍| 76683/81124 [2:25:01<2:39:20,  2.15s/it]\u001b[A\n",
      " 95%|█████████▍| 76684/81124 [2:25:02<1:55:22,  1.56s/it]\u001b[A\n",
      " 95%|█████████▍| 76685/81124 [2:25:02<1:37:00,  1.31s/it]\u001b[A\n",
      " 95%|█████████▍| 76687/81124 [2:25:07<1:56:48,  1.58s/it]\u001b[A"
     ]
    },
    {
     "name": "stdout",
     "output_type": "stream",
     "text": [
      "Infected\n",
      "Infected\n"
     ]
    },
    {
     "name": "stderr",
     "output_type": "stream",
     "text": [
      "\n",
      " 95%|█████████▍| 76689/81124 [2:25:20<3:46:03,  3.06s/it]\u001b[A"
     ]
    },
    {
     "name": "stdout",
     "output_type": "stream",
     "text": [
      "Infected\n"
     ]
    },
    {
     "name": "stderr",
     "output_type": "stream",
     "text": [
      "\n",
      " 95%|█████████▍| 76690/81124 [2:25:37<8:57:30,  7.27s/it]\u001b[A\n",
      " 95%|█████████▍| 76691/81124 [2:25:43<8:40:11,  7.04s/it]\u001b[A"
     ]
    },
    {
     "name": "stdout",
     "output_type": "stream",
     "text": [
      "Infected\n"
     ]
    },
    {
     "name": "stderr",
     "output_type": "stream",
     "text": [
      "\n",
      " 95%|█████████▍| 76693/81124 [2:26:22<13:07:25, 10.66s/it]\u001b[A\n",
      " 95%|█████████▍| 76694/81124 [2:26:24<9:52:53,  8.03s/it] \u001b[A\n",
      " 95%|█████████▍| 76695/81124 [2:26:34<10:53:28,  8.85s/it]\u001b[A"
     ]
    },
    {
     "name": "stdout",
     "output_type": "stream",
     "text": [
      "Infected\n"
     ]
    },
    {
     "name": "stderr",
     "output_type": "stream",
     "text": [
      "\n",
      " 95%|█████████▍| 76696/81124 [2:26:51<13:48:43, 11.23s/it]\u001b[A"
     ]
    },
    {
     "name": "stdout",
     "output_type": "stream",
     "text": [
      "Infected\n"
     ]
    },
    {
     "name": "stderr",
     "output_type": "stream",
     "text": [
      "\n",
      " 95%|█████████▍| 76697/81124 [2:26:58<12:04:11,  9.82s/it]\u001b[A"
     ]
    },
    {
     "name": "stdout",
     "output_type": "stream",
     "text": [
      "Infected\n"
     ]
    },
    {
     "name": "stderr",
     "output_type": "stream",
     "text": [
      "\n",
      " 95%|█████████▍| 76698/81124 [2:27:05<10:59:24,  8.94s/it]\u001b[A\n",
      " 95%|█████████▍| 76699/81124 [2:27:06<8:09:36,  6.64s/it] \u001b[A\n",
      " 95%|█████████▍| 76700/81124 [2:27:07<5:59:05,  4.87s/it]\u001b[A\n",
      " 95%|█████████▍| 76701/81124 [2:27:10<5:32:50,  4.52s/it]\u001b[A\n",
      " 95%|█████████▍| 76702/81124 [2:28:00<22:24:40, 18.25s/it]\u001b[A\n",
      " 95%|█████████▍| 76703/81124 [2:28:01<15:45:12, 12.83s/it]\u001b[A\n",
      " 95%|█████████▍| 76704/81124 [2:28:04<12:04:53,  9.84s/it]\u001b[A\n",
      " 95%|█████████▍| 76705/81124 [2:28:05<9:03:59,  7.39s/it] \u001b[A"
     ]
    },
    {
     "name": "stdout",
     "output_type": "stream",
     "text": [
      "Infected\n"
     ]
    },
    {
     "name": "stderr",
     "output_type": "stream",
     "text": [
      "\n"
     ]
    },
    {
     "name": "stdout",
     "output_type": "stream",
     "text": [
      "Infected\n"
     ]
    },
    {
     "name": "stderr",
     "output_type": "stream",
     "text": [
      " 95%|█████████▍| 76708/81124 [2:28:11<7:00:21,  5.71s/it]\u001b[A"
     ]
    },
    {
     "name": "stdout",
     "output_type": "stream",
     "text": [
      "Infected\n"
     ]
    },
    {
     "name": "stderr",
     "output_type": "stream",
     "text": [
      "\n",
      " 95%|█████████▍| 76709/81124 [2:28:14<6:00:33,  4.90s/it]\u001b[A\n",
      " 95%|█████████▍| 76711/81124 [2:28:14<4:15:55,  3.48s/it]\u001b[A\n",
      " 95%|█████████▍| 76712/81124 [2:28:14<3:03:24,  2.49s/it]\u001b[A\n",
      " 95%|█████████▍| 76713/81124 [2:28:18<3:27:13,  2.82s/it]\u001b[A\n",
      " 95%|█████████▍| 76715/81124 [2:28:31<4:54:30,  4.01s/it]\u001b[A\n",
      " 95%|█████████▍| 76716/81124 [2:28:34<4:28:42,  3.66s/it]\u001b[A\n",
      " 95%|█████████▍| 76717/81124 [2:28:35<3:31:17,  2.88s/it]\u001b[A\n",
      " 95%|█████████▍| 76718/81124 [2:28:39<4:02:09,  3.30s/it]\u001b[A\n",
      " 95%|█████████▍| 76719/81124 [2:28:40<2:57:13,  2.41s/it]\u001b[A\n",
      " 95%|█████████▍| 76720/81124 [2:28:42<2:50:11,  2.32s/it]\u001b[A"
     ]
    },
    {
     "name": "stdout",
     "output_type": "stream",
     "text": [
      "Infected\n"
     ]
    },
    {
     "name": "stderr",
     "output_type": "stream",
     "text": [
      "\n",
      " 95%|█████████▍| 76721/81124 [2:29:31<20:05:33, 16.43s/it]\u001b[A"
     ]
    },
    {
     "name": "stdout",
     "output_type": "stream",
     "text": [
      "Infected\n",
      "Infected\n"
     ]
    },
    {
     "name": "stderr",
     "output_type": "stream",
     "text": [
      "\n",
      " 95%|█████████▍| 76724/81124 [2:30:16<19:31:35, 15.98s/it]\u001b[A\n",
      " 95%|█████████▍| 76725/81124 [2:30:19<14:35:29, 11.94s/it]\u001b[A\n",
      " 95%|█████████▍| 76726/81124 [2:30:24<12:04:09,  9.88s/it]\u001b[A\n",
      " 95%|█████████▍| 76727/81124 [2:30:25<9:04:19,  7.43s/it] \u001b[A\n",
      " 95%|█████████▍| 76728/81124 [2:30:31<8:18:14,  6.80s/it]\u001b[A\n",
      " 95%|█████████▍| 76729/81124 [2:30:31<6:06:53,  5.01s/it]\u001b[A"
     ]
    },
    {
     "name": "stdout",
     "output_type": "stream",
     "text": [
      "Infected\n",
      "Infected\n"
     ]
    },
    {
     "name": "stderr",
     "output_type": "stream",
     "text": [
      "\n",
      " 95%|█████████▍| 76730/81124 [2:31:27<24:34:46, 20.14s/it]\u001b[A\n",
      " 95%|█████████▍| 76731/81124 [2:31:28<17:33:29, 14.39s/it]\u001b[A"
     ]
    },
    {
     "name": "stdout",
     "output_type": "stream",
     "text": [
      "Infected\n"
     ]
    },
    {
     "name": "stderr",
     "output_type": "stream",
     "text": [
      "\n",
      " 95%|█████████▍| 76732/81124 [2:31:53<21:27:49, 17.59s/it]\u001b[A"
     ]
    },
    {
     "name": "stdout",
     "output_type": "stream",
     "text": [
      "Infected\n"
     ]
    },
    {
     "name": "stderr",
     "output_type": "stream",
     "text": [
      "\n",
      " 95%|█████████▍| 76733/81124 [2:32:15<23:11:35, 19.02s/it]\u001b[A\n",
      " 95%|█████████▍| 76734/81124 [2:32:16<16:36:18, 13.62s/it]\u001b[A"
     ]
    },
    {
     "name": "stdout",
     "output_type": "stream",
     "text": [
      "Infected\n"
     ]
    },
    {
     "name": "stderr",
     "output_type": "stream",
     "text": [
      "\n",
      " 95%|█████████▍| 76735/81124 [2:32:17<11:53:14,  9.75s/it]\u001b[A"
     ]
    },
    {
     "name": "stdout",
     "output_type": "stream",
     "text": [
      "Infected\n"
     ]
    },
    {
     "name": "stderr",
     "output_type": "stream",
     "text": [
      "\n",
      " 95%|█████████▍| 76736/81124 [2:32:53<21:30:59, 17.65s/it]\u001b[A\n",
      " 95%|█████████▍| 76737/81124 [2:32:54<15:15:29, 12.52s/it]\u001b[A\n",
      " 95%|█████████▍| 76738/81124 [2:32:54<10:50:18,  8.90s/it]\u001b[A\n",
      " 95%|█████████▍| 76739/81124 [2:33:45<26:18:38, 21.60s/it]\u001b[A\n",
      " 95%|█████████▍| 76740/81124 [2:34:52<42:41:42, 35.06s/it]\u001b[A\n",
      " 95%|█████████▍| 76741/81124 [2:34:52<29:57:34, 24.61s/it]\u001b[A\n",
      " 95%|█████████▍| 76743/81124 [2:34:52<21:01:18, 17.27s/it]\u001b[A\n",
      " 95%|█████████▍| 76744/81124 [2:35:06<19:34:12, 16.09s/it]\u001b[A\n",
      " 95%|█████████▍| 76745/81124 [2:35:13<16:31:02, 13.58s/it]\u001b[A\n",
      " 95%|█████████▍| 76746/81124 [2:35:21<14:10:45, 11.66s/it]\u001b[A\n",
      " 95%|█████████▍| 76747/81124 [2:35:24<11:12:42,  9.22s/it]\u001b[A\n",
      " 95%|█████████▍| 76750/81124 [2:35:30<8:35:33,  7.07s/it] \u001b[A\n",
      " 95%|█████████▍| 76751/81124 [2:35:31<6:19:43,  5.21s/it]\u001b[A\n",
      " 95%|█████████▍| 76752/81124 [2:35:40<7:37:26,  6.28s/it]\u001b[A\n",
      " 95%|█████████▍| 76753/81124 [2:35:45<7:17:48,  6.01s/it]\u001b[A\n",
      " 95%|█████████▍| 76755/81124 [2:35:46<5:10:00,  4.26s/it]\u001b[A\n",
      " 95%|█████████▍| 76756/81124 [2:35:49<4:44:46,  3.91s/it]\u001b[A\n",
      " 95%|█████████▍| 76757/81124 [2:35:56<5:53:19,  4.85s/it]\u001b[A\n",
      " 95%|█████████▍| 76758/81124 [2:36:02<6:10:57,  5.10s/it]\u001b[A\n",
      " 95%|█████████▍| 76759/81124 [2:36:05<5:46:54,  4.77s/it]\u001b[A\n",
      " 95%|█████████▍| 76760/81124 [2:36:11<6:05:41,  5.03s/it]\u001b[A"
     ]
    },
    {
     "name": "stdout",
     "output_type": "stream",
     "text": [
      "Infected\n"
     ]
    },
    {
     "name": "stderr",
     "output_type": "stream",
     "text": [
      "\n",
      " 95%|█████████▍| 76761/81124 [2:37:58<43:03:21, 35.53s/it]\u001b[A\n",
      " 95%|█████████▍| 76762/81124 [2:38:01<31:22:22, 25.89s/it]\u001b[A"
     ]
    },
    {
     "name": "stdout",
     "output_type": "stream",
     "text": [
      "Infected\n",
      "Infected\n",
      "Infected\n"
     ]
    },
    {
     "name": "stderr",
     "output_type": "stream",
     "text": [
      "\n",
      " 95%|█████████▍| 76763/81124 [2:40:12<69:25:24, 57.31s/it]\u001b[A\n",
      " 95%|█████████▍| 76764/81124 [2:40:14<49:13:51, 40.65s/it]\u001b[A\n",
      " 95%|█████████▍| 76765/81124 [2:40:22<37:30:09, 30.97s/it]\u001b[A"
     ]
    },
    {
     "name": "stdout",
     "output_type": "stream",
     "text": [
      "Infected\n",
      "Infected\n",
      "Infected\n"
     ]
    },
    {
     "name": "stderr",
     "output_type": "stream",
     "text": [
      "\n",
      " 95%|█████████▍| 76766/81124 [2:41:16<45:44:40, 37.79s/it]\u001b[A\n",
      " 95%|█████████▍| 76768/81124 [2:41:19<32:40:40, 27.01s/it]\u001b[A\n",
      " 95%|█████████▍| 76770/81124 [2:41:23<23:32:13, 19.46s/it]\u001b[A\n",
      " 95%|█████████▍| 76771/81124 [2:41:26<17:31:36, 14.49s/it]\u001b[A\n",
      " 95%|█████████▍| 76772/81124 [2:41:52<21:35:07, 17.86s/it]\u001b[A"
     ]
    },
    {
     "name": "stdout",
     "output_type": "stream",
     "text": [
      "Infected\n",
      "Infected\n",
      "Infected\n"
     ]
    },
    {
     "name": "stderr",
     "output_type": "stream",
     "text": [
      "\n",
      " 95%|█████████▍| 76773/81124 [2:42:34<30:23:31, 25.15s/it]\u001b[A"
     ]
    },
    {
     "name": "stdout",
     "output_type": "stream",
     "text": [
      "Infected\n"
     ]
    },
    {
     "name": "stderr",
     "output_type": "stream",
     "text": [
      "\n",
      " 95%|█████████▍| 76774/81124 [2:42:38<22:45:18, 18.83s/it]\u001b[A\n",
      " 95%|█████████▍| 76776/81124 [2:44:20<34:24:00, 28.48s/it]\u001b[A\n",
      " 95%|█████████▍| 76778/81124 [2:44:23<24:36:42, 20.39s/it]\u001b[A"
     ]
    },
    {
     "name": "stdout",
     "output_type": "stream",
     "text": [
      "Infected\n",
      "Infected\n"
     ]
    },
    {
     "name": "stderr",
     "output_type": "stream",
     "text": [
      "\n",
      " 95%|█████████▍| 76779/81124 [2:45:25<39:41:46, 32.89s/it]\u001b[A"
     ]
    },
    {
     "name": "stdout",
     "output_type": "stream",
     "text": [
      "Infected\n",
      "Infected\n"
     ]
    },
    {
     "name": "stderr",
     "output_type": "stream",
     "text": [
      "\n",
      " 95%|█████████▍| 76780/81124 [2:50:08<130:22:40, 108.05s/it]\u001b[A\n",
      " 95%|█████████▍| 76781/81124 [2:50:10<91:47:28, 76.09s/it]  \u001b[A\n",
      " 95%|█████████▍| 76783/81124 [2:50:12<64:36:42, 53.58s/it]\u001b[A"
     ]
    },
    {
     "name": "stdout",
     "output_type": "stream",
     "text": [
      "Infected\n"
     ]
    },
    {
     "name": "stderr",
     "output_type": "stream",
     "text": [
      "\n",
      " 95%|█████████▍| 76784/81124 [2:51:06<64:48:07, 53.75s/it]\u001b[A\n",
      " 95%|█████████▍| 76785/81124 [2:51:07<45:27:02, 37.71s/it]\u001b[A\n",
      " 95%|█████████▍| 76787/81124 [2:51:07<31:52:56, 26.46s/it]\u001b[A\n",
      " 95%|█████████▍| 76788/81124 [2:51:09<23:06:30, 19.19s/it]\u001b[A"
     ]
    },
    {
     "name": "stdout",
     "output_type": "stream",
     "text": [
      "Infected\n",
      "Infected\n"
     ]
    },
    {
     "name": "stderr",
     "output_type": "stream",
     "text": [
      "\n",
      " 95%|█████████▍| 76789/81124 [2:52:25<43:37:28, 36.23s/it]\u001b[A\n",
      " 95%|█████████▍| 76790/81124 [2:52:29<31:44:19, 26.36s/it]\u001b[A\n",
      " 95%|█████████▍| 76791/81124 [2:52:41<26:32:22, 22.05s/it]\u001b[A"
     ]
    },
    {
     "name": "stdout",
     "output_type": "stream",
     "text": [
      "Infected\n"
     ]
    },
    {
     "name": "stderr",
     "output_type": "stream",
     "text": [
      "\n",
      " 95%|█████████▍| 76792/81124 [2:53:58<46:41:29, 38.80s/it]\u001b[A\n",
      " 95%|█████████▍| 76793/81124 [2:54:38<46:52:37, 38.96s/it]\u001b[A\n",
      " 95%|█████████▍| 76794/81124 [2:54:42<34:27:42, 28.65s/it]\u001b[A\n",
      " 95%|█████████▍| 76795/81124 [2:54:48<26:09:13, 21.75s/it]\u001b[A\n",
      " 95%|█████████▍| 76796/81124 [2:54:59<22:09:21, 18.43s/it]\u001b[A\n",
      " 95%|█████████▍| 76797/81124 [2:55:10<19:32:43, 16.26s/it]\u001b[A\n",
      " 95%|█████████▍| 76798/81124 [2:55:48<27:25:19, 22.82s/it]\u001b[A\n",
      " 95%|█████████▍| 76800/81124 [2:55:55<20:25:00, 17.00s/it]\u001b[A\n",
      " 95%|█████████▍| 76801/81124 [2:57:16<43:27:55, 36.20s/it]\u001b[A\n",
      " 95%|█████████▍| 76802/81124 [2:57:20<31:56:50, 26.61s/it]\u001b[A\n",
      " 95%|█████████▍| 76803/81124 [2:57:41<29:53:32, 24.90s/it]\u001b[A\n",
      " 95%|█████████▍| 76804/81124 [2:57:44<22:01:00, 18.35s/it]\u001b[A"
     ]
    },
    {
     "name": "stdout",
     "output_type": "stream",
     "text": [
      "Infected\n",
      "Infected\n"
     ]
    },
    {
     "name": "stderr",
     "output_type": "stream",
     "text": [
      "\n",
      " 95%|█████████▍| 76805/81124 [2:58:02<21:42:04, 18.09s/it]\u001b[A\n",
      " 95%|█████████▍| 76806/81124 [2:58:04<15:58:54, 13.32s/it]\u001b[A\n",
      " 95%|█████████▍| 76807/81124 [2:58:10<13:27:46, 11.23s/it]\u001b[A"
     ]
    },
    {
     "name": "stdout",
     "output_type": "stream",
     "text": [
      "Infected\n",
      "Infected\n",
      "Infected\n"
     ]
    },
    {
     "name": "stderr",
     "output_type": "stream",
     "text": [
      "\n",
      " 95%|█████████▍| 76809/81124 [2:58:36<14:05:54, 11.76s/it]\u001b[A"
     ]
    },
    {
     "name": "stdout",
     "output_type": "stream",
     "text": [
      "Infected\n"
     ]
    },
    {
     "name": "stderr",
     "output_type": "stream",
     "text": [
      "\n",
      " 95%|█████████▍| 76811/81124 [2:59:31<19:39:23, 16.41s/it]\u001b[A\n",
      " 95%|█████████▍| 76813/81124 [2:59:34<14:22:13, 12.00s/it]\u001b[A\n",
      " 95%|█████████▍| 76814/81124 [2:59:37<11:13:45,  9.38s/it]\u001b[A\n",
      " 95%|█████████▍| 76815/81124 [2:59:42<9:28:28,  7.92s/it] \u001b[A\n",
      " 95%|█████████▍| 76816/81124 [2:59:42<6:41:50,  5.60s/it]\u001b[A"
     ]
    },
    {
     "name": "stdout",
     "output_type": "stream",
     "text": [
      "Infected\n",
      "Infected\n",
      "Infected\n"
     ]
    },
    {
     "name": "stderr",
     "output_type": "stream",
     "text": [
      "\n",
      " 95%|█████████▍| 76817/81124 [3:00:07<13:50:39, 11.57s/it]\u001b[A\n",
      " 95%|█████████▍| 76818/81124 [3:00:26<16:19:32, 13.65s/it]\u001b[A\n",
      " 95%|█████████▍| 76819/81124 [3:00:27<11:40:45,  9.77s/it]\u001b[A\n",
      " 95%|█████████▍| 76820/81124 [3:00:35<11:02:24,  9.23s/it]\u001b[A\n",
      " 95%|█████████▍| 76821/81124 [3:00:35<7:50:26,  6.56s/it] \u001b[A"
     ]
    },
    {
     "name": "stdout",
     "output_type": "stream",
     "text": [
      "Infected\n",
      "Infected\n"
     ]
    },
    {
     "name": "stderr",
     "output_type": "stream",
     "text": [
      "\n",
      " 95%|█████████▍| 76822/81124 [3:01:49<31:52:43, 26.68s/it]\u001b[A\n",
      " 95%|█████████▍| 76823/81124 [3:02:12<30:36:35, 25.62s/it]\u001b[A\n",
      " 95%|█████████▍| 76824/81124 [3:02:54<36:31:06, 30.57s/it]\u001b[A\n",
      " 95%|█████████▍| 76825/81124 [3:03:03<28:49:27, 24.14s/it]\u001b[A\n",
      " 95%|█████████▍| 76827/81124 [3:03:13<22:00:59, 18.45s/it]\u001b[A\n",
      " 95%|█████████▍| 76828/81124 [3:04:33<43:53:40, 36.78s/it]\u001b[A"
     ]
    },
    {
     "name": "stdout",
     "output_type": "stream",
     "text": [
      "Infected\n"
     ]
    },
    {
     "name": "stderr",
     "output_type": "stream",
     "text": [
      "\n",
      " 95%|█████████▍| 76829/81124 [3:06:07<64:29:10, 54.05s/it]\u001b[A\n",
      " 95%|█████████▍| 76830/81124 [3:06:23<50:49:38, 42.61s/it]\u001b[A"
     ]
    },
    {
     "name": "stdout",
     "output_type": "stream",
     "text": [
      "Infected\n"
     ]
    },
    {
     "name": "stderr",
     "output_type": "stream",
     "text": [
      "\n",
      " 95%|█████████▍| 76831/81124 [3:07:19<55:25:08, 46.47s/it]\u001b[A"
     ]
    },
    {
     "name": "stdout",
     "output_type": "stream",
     "text": [
      "Infected\n",
      "Infected\n",
      "Infected\n"
     ]
    },
    {
     "name": "stderr",
     "output_type": "stream",
     "text": [
      "\n",
      " 95%|█████████▍| 76832/81124 [3:09:33<86:47:29, 72.80s/it]\u001b[A\n",
      " 95%|█████████▍| 76834/81124 [3:09:34<60:57:16, 51.15s/it]\u001b[A"
     ]
    },
    {
     "name": "stdout",
     "output_type": "stream",
     "text": [
      "Infected\n",
      "Infected\n",
      "Infected\n"
     ]
    },
    {
     "name": "stderr",
     "output_type": "stream",
     "text": [
      "\n",
      " 95%|█████████▍| 76835/81124 [3:10:32<63:28:10, 53.27s/it]\u001b[A\n",
      " 95%|█████████▍| 76836/81124 [3:10:54<52:06:02, 43.74s/it]\u001b[A"
     ]
    },
    {
     "name": "stdout",
     "output_type": "stream",
     "text": [
      "Infected\n"
     ]
    },
    {
     "name": "stderr",
     "output_type": "stream",
     "text": [
      "\n",
      " 95%|█████████▍| 76839/81124 [3:11:49<42:59:17, 36.12s/it]\u001b[A"
     ]
    },
    {
     "name": "stdout",
     "output_type": "stream",
     "text": [
      "Infected\n"
     ]
    },
    {
     "name": "stderr",
     "output_type": "stream",
     "text": [
      "\n",
      " 95%|█████████▍| 76840/81124 [3:11:54<31:57:23, 26.85s/it]\u001b[A\n",
      " 95%|█████████▍| 76842/81124 [3:11:56<22:41:18, 19.07s/it]\u001b[A"
     ]
    },
    {
     "name": "stdout",
     "output_type": "stream",
     "text": [
      "Infected\n",
      "Infected\n",
      "Infected\n",
      "Infected\n"
     ]
    },
    {
     "name": "stderr",
     "output_type": "stream",
     "text": [
      "\n",
      " 95%|█████████▍| 76843/81124 [3:12:20<24:27:38, 20.57s/it]\u001b[A\n",
      " 95%|█████████▍| 76844/81124 [3:12:40<24:21:08, 20.48s/it]\u001b[A\n",
      " 95%|█████████▍| 76845/81124 [3:12:41<17:28:36, 14.70s/it]\u001b[A\n",
      " 95%|█████████▍| 76846/81124 [3:12:43<12:43:41, 10.71s/it]\u001b[A\n",
      " 95%|█████████▍| 76847/81124 [3:12:59<14:30:35, 12.21s/it]\u001b[A\n",
      " 95%|█████████▍| 76848/81124 [3:13:14<15:38:22, 13.17s/it]\u001b[A"
     ]
    },
    {
     "name": "stdout",
     "output_type": "stream",
     "text": [
      "Infected\n"
     ]
    },
    {
     "name": "stderr",
     "output_type": "stream",
     "text": [
      "\n",
      " 95%|█████████▍| 76849/81124 [3:16:00<69:57:35, 58.91s/it]\u001b[A"
     ]
    },
    {
     "name": "stdout",
     "output_type": "stream",
     "text": [
      "Infected\n",
      "Infected\n",
      "Infected\n"
     ]
    },
    {
     "name": "stderr",
     "output_type": "stream",
     "text": [
      "\n",
      " 95%|█████████▍| 76852/81124 [3:20:21<79:53:41, 67.33s/it]\u001b[A"
     ]
    },
    {
     "name": "stdout",
     "output_type": "stream",
     "text": [
      "Infected\n"
     ]
    },
    {
     "name": "stderr",
     "output_type": "stream",
     "text": [
      "\n",
      " 95%|█████████▍| 76853/81124 [3:22:32<102:34:14, 86.46s/it]\u001b[A\n",
      " 95%|█████████▍| 76854/81124 [3:22:45<76:41:08, 64.65s/it] \u001b[A\n",
      " 95%|█████████▍| 76855/81124 [3:23:03<60:01:39, 50.62s/it]\u001b[A"
     ]
    },
    {
     "name": "stdout",
     "output_type": "stream",
     "text": [
      "Infected\n"
     ]
    },
    {
     "name": "stderr",
     "output_type": "stream",
     "text": [
      "\n",
      " 95%|█████████▍| 76856/81124 [3:23:19<47:41:41, 40.23s/it]\u001b[A"
     ]
    },
    {
     "name": "stdout",
     "output_type": "stream",
     "text": [
      "Infected\n"
     ]
    },
    {
     "name": "stderr",
     "output_type": "stream",
     "text": [
      "\n",
      " 95%|█████████▍| 76858/81124 [3:25:06<52:21:10, 44.18s/it]\u001b[A\n",
      " 95%|█████████▍| 76859/81124 [3:25:13<38:56:39, 32.87s/it]\u001b[A\n",
      " 95%|█████████▍| 76860/81124 [3:25:31<33:45:17, 28.50s/it]\u001b[A\n",
      " 95%|█████████▍| 76861/81124 [3:26:05<35:56:03, 30.35s/it]\u001b[A\n",
      " 95%|█████████▍| 76864/81124 [3:26:23<27:12:41, 23.00s/it]\u001b[A\n",
      " 95%|█████████▍| 76865/81124 [3:26:25<19:45:54, 16.71s/it]\u001b[A"
     ]
    },
    {
     "name": "stdout",
     "output_type": "stream",
     "text": [
      "Infected\n",
      "Infected\n",
      "Infected\n"
     ]
    },
    {
     "name": "stderr",
     "output_type": "stream",
     "text": [
      "\n",
      " 95%|█████████▍| 76867/81124 [3:28:01<30:50:08, 26.08s/it]\u001b[A\n",
      " 95%|█████████▍| 76868/81124 [3:28:02<21:53:25, 18.52s/it]\u001b[A\n",
      " 95%|█████████▍| 76869/81124 [3:29:07<38:27:23, 32.54s/it]\u001b[A"
     ]
    },
    {
     "name": "stdout",
     "output_type": "stream",
     "text": [
      "Infected\n",
      "Infected\n"
     ]
    },
    {
     "name": "stderr",
     "output_type": "stream",
     "text": [
      "\n",
      " 95%|█████████▍| 76870/81124 [3:29:11<28:15:49, 23.92s/it]\u001b[A\n",
      " 95%|█████████▍| 76872/81124 [3:29:13<20:11:31, 17.10s/it]\u001b[A"
     ]
    },
    {
     "name": "stdout",
     "output_type": "stream",
     "text": [
      "Infected\n"
     ]
    },
    {
     "name": "stderr",
     "output_type": "stream",
     "text": [
      "\n",
      " 95%|█████████▍| 76874/81124 [3:29:22<15:39:37, 13.27s/it]\u001b[A\n",
      " 95%|█████████▍| 76875/81124 [3:29:31<14:19:12, 12.13s/it]\u001b[A"
     ]
    },
    {
     "name": "stdout",
     "output_type": "stream",
     "text": [
      "Infected\n"
     ]
    },
    {
     "name": "stderr",
     "output_type": "stream",
     "text": [
      "\n",
      " 95%|█████████▍| 76876/81124 [3:29:45<14:55:33, 12.65s/it]\u001b[A\n",
      " 95%|█████████▍| 76877/81124 [3:29:46<10:33:41,  8.95s/it]\u001b[A"
     ]
    },
    {
     "name": "stdout",
     "output_type": "stream",
     "text": [
      "Infected\n"
     ]
    },
    {
     "name": "stderr",
     "output_type": "stream",
     "text": [
      "\n",
      " 95%|█████████▍| 76879/81124 [3:30:10<11:41:25,  9.91s/it]\u001b[A\n",
      " 95%|█████████▍| 76880/81124 [3:30:10<8:15:07,  7.00s/it] \u001b[A"
     ]
    },
    {
     "name": "stdout",
     "output_type": "stream",
     "text": [
      "Infected\n"
     ]
    },
    {
     "name": "stderr",
     "output_type": "stream",
     "text": [
      "\n",
      " 95%|█████████▍| 76881/81124 [3:30:44<17:47:51, 15.10s/it]\u001b[A\n",
      " 95%|█████████▍| 76882/81124 [3:30:44<12:31:37, 10.63s/it]\u001b[A\n",
      " 95%|█████████▍| 76883/81124 [3:31:01<14:42:28, 12.48s/it]\u001b[A\n",
      " 95%|█████████▍| 76884/81124 [3:31:06<12:00:50, 10.20s/it]\u001b[A\n",
      " 95%|█████████▍| 76885/81124 [3:31:07<8:47:43,  7.47s/it] \u001b[A\n",
      " 95%|█████████▍| 76886/81124 [3:31:58<24:08:42, 20.51s/it]\u001b[A"
     ]
    },
    {
     "name": "stdout",
     "output_type": "stream",
     "text": [
      "Infected\n",
      "Infected\n"
     ]
    },
    {
     "name": "stderr",
     "output_type": "stream",
     "text": [
      "\n",
      " 95%|█████████▍| 76887/81124 [3:32:11<21:38:11, 18.38s/it]\u001b[A\n",
      " 95%|█████████▍| 76888/81124 [3:32:12<15:14:07, 12.95s/it]\u001b[A\n",
      " 95%|█████████▍| 76889/81124 [3:32:12<10:49:26,  9.20s/it]\u001b[A"
     ]
    },
    {
     "name": "stdout",
     "output_type": "stream",
     "text": [
      "Infected\n"
     ]
    },
    {
     "name": "stderr",
     "output_type": "stream",
     "text": [
      "\n",
      " 95%|█████████▍| 76890/81124 [3:32:31<14:19:11, 12.18s/it]\u001b[A\n",
      " 95%|█████████▍| 76891/81124 [3:33:01<20:34:36, 17.50s/it]\u001b[A"
     ]
    },
    {
     "name": "stdout",
     "output_type": "stream",
     "text": [
      "Infected\n",
      "Infected\n",
      "Infected\n",
      "Infected\n",
      "Infected\n"
     ]
    },
    {
     "name": "stderr",
     "output_type": "stream",
     "text": [
      "\n",
      " 95%|█████████▍| 76892/81124 [3:34:18<41:19:19, 35.15s/it]\u001b[A\n",
      " 95%|█████████▍| 76893/81124 [3:34:24<31:19:31, 26.65s/it]\u001b[A"
     ]
    },
    {
     "name": "stdout",
     "output_type": "stream",
     "text": [
      "Infected\n"
     ]
    },
    {
     "name": "stderr",
     "output_type": "stream",
     "text": [
      "\n",
      " 95%|█████████▍| 76894/81124 [3:34:46<29:29:05, 25.09s/it]\u001b[A\n",
      " 95%|█████████▍| 76895/81124 [3:35:01<26:04:44, 22.20s/it]\u001b[A\n",
      " 95%|█████████▍| 76896/81124 [3:36:15<44:05:08, 37.54s/it]\u001b[A\n",
      " 95%|█████████▍| 76897/81124 [3:36:30<36:27:00, 31.04s/it]\u001b[A\n",
      " 95%|█████████▍| 76898/81124 [3:36:31<25:45:34, 21.94s/it]\u001b[A\n",
      " 95%|█████████▍| 76899/81124 [3:37:25<37:06:10, 31.61s/it]\u001b[A\n",
      " 95%|█████████▍| 76900/81124 [3:37:29<27:13:47, 23.21s/it]\u001b[A\n",
      " 95%|█████████▍| 76901/81124 [3:37:34<20:55:35, 17.84s/it]\u001b[A\n",
      " 95%|█████████▍| 76902/81124 [3:37:52<20:52:23, 17.80s/it]\u001b[A\n",
      " 95%|█████████▍| 76903/81124 [3:37:56<15:58:14, 13.62s/it]\u001b[A\n",
      " 95%|█████████▍| 76904/81124 [3:38:07<15:12:01, 12.97s/it]\u001b[A\n",
      " 95%|█████████▍| 76905/81124 [3:38:08<10:48:31,  9.22s/it]\u001b[A"
     ]
    },
    {
     "name": "stdout",
     "output_type": "stream",
     "text": [
      "Infected\n",
      "Infected\n"
     ]
    },
    {
     "name": "stderr",
     "output_type": "stream",
     "text": [
      "\n",
      " 95%|█████████▍| 76906/81124 [3:40:08<49:39:18, 42.38s/it]\u001b[A"
     ]
    },
    {
     "name": "stdout",
     "output_type": "stream",
     "text": [
      "Infected\n",
      "Infected\n"
     ]
    },
    {
     "name": "stderr",
     "output_type": "stream",
     "text": [
      "\n",
      " 95%|█████████▍| 76907/81124 [3:40:10<35:30:06, 30.31s/it]\u001b[A\n",
      " 95%|█████████▍| 76908/81124 [3:40:10<24:55:11, 21.28s/it]\u001b[A"
     ]
    },
    {
     "name": "stdout",
     "output_type": "stream",
     "text": [
      "Infected\n",
      "Infected\n",
      "Infected\n",
      "Infected\n",
      "Infected\n",
      "Infected\n"
     ]
    },
    {
     "name": "stderr",
     "output_type": "stream",
     "text": [
      "\n",
      " 95%|█████████▍| 76909/81124 [3:41:03<35:57:11, 30.71s/it]\u001b[A"
     ]
    },
    {
     "name": "stdout",
     "output_type": "stream",
     "text": [
      "Infected\n"
     ]
    },
    {
     "name": "stderr",
     "output_type": "stream",
     "text": [
      "\n",
      " 95%|█████████▍| 76910/81124 [3:41:07<26:37:44, 22.75s/it]\u001b[A\n",
      " 95%|█████████▍| 76911/81124 [3:41:12<20:36:42, 17.61s/it]\u001b[A\n",
      " 95%|█████████▍| 76912/81124 [3:41:13<14:35:05, 12.47s/it]\u001b[A\n",
      " 95%|█████████▍| 76914/81124 [3:41:14<10:26:24,  8.93s/it]\u001b[A\n",
      " 95%|█████████▍| 76915/81124 [3:41:23<10:24:22,  8.90s/it]\u001b[A\n",
      " 95%|█████████▍| 76916/81124 [3:41:26<8:18:43,  7.11s/it] \u001b[A\n",
      " 95%|█████████▍| 76917/81124 [3:41:33<8:22:20,  7.16s/it]\u001b[A\n",
      " 95%|█████████▍| 76918/81124 [3:43:43<51:11:25, 43.81s/it]\u001b[A\n",
      " 95%|█████████▍| 76919/81124 [3:43:45<36:39:15, 31.38s/it]\u001b[A"
     ]
    },
    {
     "name": "stdout",
     "output_type": "stream",
     "text": [
      "Infected\n"
     ]
    },
    {
     "name": "stderr",
     "output_type": "stream",
     "text": [
      "\n",
      " 95%|█████████▍| 76920/81124 [3:44:59<51:36:47, 44.20s/it]\u001b[A"
     ]
    },
    {
     "name": "stdout",
     "output_type": "stream",
     "text": [
      "Infected\n"
     ]
    },
    {
     "name": "stderr",
     "output_type": "stream",
     "text": [
      "\n",
      " 95%|█████████▍| 76921/81124 [3:45:41<50:51:32, 43.56s/it]\u001b[A\n",
      " 95%|█████████▍| 76922/81124 [3:46:14<47:02:29, 40.30s/it]\u001b[A\n",
      " 95%|█████████▍| 76923/81124 [3:46:34<40:07:25, 34.38s/it]\u001b[A\n",
      " 95%|█████████▍| 76924/81124 [3:46:41<30:32:24, 26.18s/it]\u001b[A\n",
      " 95%|█████████▍| 76925/81124 [3:46:55<26:00:35, 22.30s/it]\u001b[A\n",
      " 95%|█████████▍| 76926/81124 [3:46:58<19:16:09, 16.52s/it]\u001b[A\n",
      " 95%|█████████▍| 76927/81124 [3:47:11<18:16:32, 15.68s/it]\u001b[A\n",
      " 95%|█████████▍| 76928/81124 [3:48:32<40:51:20, 35.05s/it]\u001b[A"
     ]
    },
    {
     "name": "stdout",
     "output_type": "stream",
     "text": [
      "Infected\n"
     ]
    },
    {
     "name": "stderr",
     "output_type": "stream",
     "text": [
      "\n",
      " 95%|█████████▍| 76930/81124 [3:49:32<39:05:17, 33.55s/it]\u001b[A\n",
      " 95%|█████████▍| 76931/81124 [3:49:33<27:54:58, 23.97s/it]\u001b[A"
     ]
    },
    {
     "name": "stdout",
     "output_type": "stream",
     "text": [
      "Infected\n",
      "Infected\n",
      "Infected\n"
     ]
    },
    {
     "name": "stderr",
     "output_type": "stream",
     "text": [
      "\n",
      " 95%|█████████▍| 76932/81124 [3:50:02<29:29:13, 25.32s/it]\u001b[A\n",
      " 95%|█████████▍| 76933/81124 [3:50:13<24:25:09, 20.98s/it]\u001b[A\n",
      " 95%|█████████▍| 76935/81124 [3:50:28<19:45:40, 16.98s/it]\u001b[A"
     ]
    },
    {
     "name": "stdout",
     "output_type": "stream",
     "text": [
      "Infected\n",
      "Infected\n"
     ]
    },
    {
     "name": "stderr",
     "output_type": "stream",
     "text": [
      "\n",
      " 95%|█████████▍| 76938/81124 [3:50:45<15:44:18, 13.54s/it]\u001b[A"
     ]
    },
    {
     "name": "stdout",
     "output_type": "stream",
     "text": [
      "Infected\n"
     ]
    },
    {
     "name": "stderr",
     "output_type": "stream",
     "text": [
      "\n",
      " 95%|█████████▍| 76939/81124 [3:52:36<49:56:45, 42.96s/it]\u001b[A\n",
      " 95%|█████████▍| 76940/81124 [3:52:40<36:12:30, 31.15s/it]\u001b[A\n",
      " 95%|█████████▍| 76941/81124 [3:52:54<30:14:54, 26.03s/it]\u001b[A"
     ]
    },
    {
     "name": "stdout",
     "output_type": "stream",
     "text": [
      "Infected\n",
      "Infected\n",
      "Infected\n",
      "Infected\n",
      "Infected\n",
      "Infected\n",
      "Infected\n"
     ]
    },
    {
     "name": "stderr",
     "output_type": "stream",
     "text": [
      "\n",
      " 95%|█████████▍| 76942/81124 [3:53:04<24:39:46, 21.23s/it]\u001b[A\n",
      " 95%|█████████▍| 76943/81124 [3:53:07<18:16:00, 15.73s/it]\u001b[A\n",
      " 95%|█████████▍| 76944/81124 [3:53:08<13:15:31, 11.42s/it]\u001b[A\n",
      " 95%|█████████▍| 76945/81124 [3:53:32<17:33:03, 15.12s/it]\u001b[A"
     ]
    },
    {
     "name": "stdout",
     "output_type": "stream",
     "text": [
      "Infected\n"
     ]
    },
    {
     "name": "stderr",
     "output_type": "stream",
     "text": [
      "\n",
      " 95%|█████████▍| 76946/81124 [3:53:55<20:11:01, 17.39s/it]\u001b[A\n",
      " 95%|█████████▍| 76947/81124 [3:54:03<16:55:37, 14.59s/it]\u001b[A\n",
      " 95%|█████████▍| 76950/81124 [3:54:07<12:23:02, 10.68s/it]\u001b[A\n",
      " 95%|█████████▍| 76951/81124 [3:54:55<25:17:50, 21.82s/it]\u001b[A\n",
      " 95%|█████████▍| 76952/81124 [3:55:07<21:55:39, 18.92s/it]\u001b[A\n",
      " 95%|█████████▍| 76953/81124 [3:55:09<16:04:47, 13.88s/it]\u001b[A"
     ]
    },
    {
     "name": "stdout",
     "output_type": "stream",
     "text": [
      "Infected\n"
     ]
    },
    {
     "name": "stderr",
     "output_type": "stream",
     "text": [
      "\n",
      " 95%|█████████▍| 76954/81124 [3:56:17<34:44:58, 30.00s/it]\u001b[A\n",
      " 95%|█████████▍| 76955/81124 [3:56:17<24:27:12, 21.12s/it]\u001b[A\n",
      " 95%|█████████▍| 76956/81124 [3:56:47<27:15:02, 23.54s/it]\u001b[A"
     ]
    },
    {
     "name": "stdout",
     "output_type": "stream",
     "text": [
      "Infected\n"
     ]
    },
    {
     "name": "stderr",
     "output_type": "stream",
     "text": [
      "\n",
      " 95%|█████████▍| 76957/81124 [3:56:57<22:39:48, 19.58s/it]\u001b[A\n",
      " 95%|█████████▍| 76959/81124 [3:57:47<24:36:03, 21.26s/it]\u001b[A\n",
      " 95%|█████████▍| 76960/81124 [3:58:44<36:49:27, 31.84s/it]\u001b[A"
     ]
    },
    {
     "name": "stdout",
     "output_type": "stream",
     "text": [
      "Infected\n"
     ]
    },
    {
     "name": "stderr",
     "output_type": "stream",
     "text": [
      "\n",
      " 95%|█████████▍| 76961/81124 [3:58:52<28:47:06, 24.89s/it]\u001b[A\n",
      " 95%|█████████▍| 76962/81124 [3:58:54<20:39:46, 17.87s/it]\u001b[A\n",
      " 95%|█████████▍| 76963/81124 [3:58:56<15:10:17, 13.13s/it]\u001b[A\n",
      " 95%|█████████▍| 76964/81124 [3:58:57<10:52:05,  9.41s/it]\u001b[A"
     ]
    },
    {
     "name": "stdout",
     "output_type": "stream",
     "text": [
      "Infected\n",
      "Infected\n",
      "Infected\n"
     ]
    },
    {
     "name": "stderr",
     "output_type": "stream",
     "text": [
      "\n",
      " 95%|█████████▍| 76966/81124 [4:00:12<20:38:01, 17.86s/it]\u001b[A"
     ]
    },
    {
     "name": "stdout",
     "output_type": "stream",
     "text": [
      "Infected\n",
      "Infected\n",
      "Infected\n",
      "Infected\n",
      "Infected\n"
     ]
    },
    {
     "name": "stderr",
     "output_type": "stream",
     "text": [
      "\n",
      " 95%|█████████▍| 76967/81124 [4:00:21<17:32:57, 15.20s/it]\u001b[A\n",
      " 95%|█████████▍| 76968/81124 [4:00:31<15:41:50, 13.60s/it]\u001b[A\n",
      " 95%|█████████▍| 76969/81124 [4:00:32<11:34:34, 10.03s/it]\u001b[A\n",
      " 95%|█████████▍| 76970/81124 [4:00:36<9:15:09,  8.02s/it] \u001b[A\n",
      " 95%|█████████▍| 76971/81124 [4:00:48<10:31:05,  9.12s/it]\u001b[A\n",
      " 95%|█████████▍| 76972/81124 [4:00:48<7:30:43,  6.51s/it] \u001b[A\n",
      " 95%|█████████▍| 76973/81124 [4:00:50<5:49:09,  5.05s/it]\u001b[A\n",
      " 95%|█████████▍| 76974/81124 [4:00:50<4:19:04,  3.75s/it]\u001b[A\n",
      " 95%|█████████▍| 76975/81124 [4:00:53<3:47:45,  3.29s/it]\u001b[A\n",
      " 95%|█████████▍| 76976/81124 [4:01:02<6:01:41,  5.23s/it]\u001b[A\n",
      " 95%|█████████▍| 76977/81124 [4:01:06<5:30:12,  4.78s/it]\u001b[A"
     ]
    },
    {
     "name": "stdout",
     "output_type": "stream",
     "text": [
      "Infected\n"
     ]
    },
    {
     "name": "stderr",
     "output_type": "stream",
     "text": [
      "\n",
      " 95%|█████████▍| 76978/81124 [4:01:19<8:16:24,  7.18s/it]\u001b[A\n",
      " 95%|█████████▍| 76979/81124 [4:01:32<10:16:41,  8.93s/it]\u001b[A\n",
      " 95%|█████████▍| 76981/81124 [4:01:40<8:36:13,  7.48s/it] \u001b[A\n",
      " 95%|█████████▍| 76982/81124 [4:01:43<7:09:54,  6.23s/it]\u001b[A\n",
      " 95%|█████████▍| 76983/81124 [4:01:49<6:51:44,  5.97s/it]\u001b[A\n",
      " 95%|█████████▍| 76984/81124 [4:02:03<9:45:04,  8.48s/it]\u001b[A\n",
      " 95%|█████████▍| 76985/81124 [4:02:07<8:07:44,  7.07s/it]\u001b[A\n",
      " 95%|█████████▍| 76986/81124 [4:02:08<6:05:44,  5.30s/it]\u001b[A\n",
      " 95%|█████████▍| 76987/81124 [4:02:18<7:39:20,  6.66s/it]\u001b[A"
     ]
    },
    {
     "name": "stdout",
     "output_type": "stream",
     "text": [
      "Infected\n",
      "Infected\n",
      "Infected\n",
      "Infected\n"
     ]
    },
    {
     "name": "stderr",
     "output_type": "stream",
     "text": [
      "\n",
      " 95%|█████████▍| 76988/81124 [4:02:38<12:23:38, 10.79s/it]\u001b[A\n",
      " 95%|█████████▍| 76989/81124 [4:02:40<9:09:56,  7.98s/it] \u001b[A"
     ]
    },
    {
     "name": "stdout",
     "output_type": "stream",
     "text": [
      "Infected\n"
     ]
    },
    {
     "name": "stderr",
     "output_type": "stream",
     "text": [
      "\n",
      " 95%|█████████▍| 76991/81124 [4:02:58<9:32:06,  8.31s/it]\u001b[A\n",
      " 95%|█████████▍| 76992/81124 [4:03:49<24:28:59, 21.33s/it]\u001b[A\n",
      " 95%|█████████▍| 76993/81124 [4:03:52<18:07:33, 15.80s/it]\u001b[A\n",
      " 95%|█████████▍| 76994/81124 [4:03:57<14:26:56, 12.59s/it]\u001b[A\n",
      " 95%|█████████▍| 76996/81124 [4:04:30<15:38:31, 13.64s/it]\u001b[A\n",
      " 95%|█████████▍| 76997/81124 [4:05:49<38:11:29, 33.31s/it]\u001b[A\n",
      " 95%|█████████▍| 76998/81124 [4:05:51<27:20:10, 23.85s/it]\u001b[A\n",
      " 95%|█████████▍| 76999/81124 [4:06:37<34:54:35, 30.47s/it]\u001b[A\n",
      " 95%|█████████▍| 77000/81124 [4:06:37<24:34:53, 21.46s/it]\u001b[A\n",
      " 95%|█████████▍| 77001/81124 [4:06:37<17:20:59, 15.15s/it]\u001b[A\n",
      " 95%|█████████▍| 77002/81124 [4:06:40<12:59:13, 11.34s/it]\u001b[A\n",
      " 95%|█████████▍| 77003/81124 [4:06:42<9:42:09,  8.48s/it] \u001b[A\n",
      " 95%|█████████▍| 77004/81124 [4:06:47<8:34:33,  7.49s/it]\u001b[A"
     ]
    },
    {
     "name": "stdout",
     "output_type": "stream",
     "text": [
      "Infected\n"
     ]
    },
    {
     "name": "stderr",
     "output_type": "stream",
     "text": [
      "\n",
      " 95%|█████████▍| 77005/81124 [4:08:19<37:46:05, 33.01s/it]\u001b[A"
     ]
    },
    {
     "name": "stdout",
     "output_type": "stream",
     "text": [
      "Infected\n",
      "Infected\n",
      "Infected\n",
      "Infected\n"
     ]
    },
    {
     "name": "stderr",
     "output_type": "stream",
     "text": [
      "\n",
      " 95%|█████████▍| 77006/81124 [4:08:57<39:22:30, 34.42s/it]\u001b[A\n",
      " 95%|█████████▍| 77007/81124 [4:09:01<29:03:36, 25.41s/it]\u001b[A\n",
      " 95%|█████████▍| 77008/81124 [4:09:07<22:09:31, 19.38s/it]\u001b[A\n",
      " 95%|█████████▍| 77009/81124 [4:09:10<16:30:56, 14.45s/it]\u001b[A\n",
      " 95%|█████████▍| 77010/81124 [4:09:12<12:23:42, 10.85s/it]\u001b[A"
     ]
    },
    {
     "name": "stdout",
     "output_type": "stream",
     "text": [
      "Infected\n"
     ]
    },
    {
     "name": "stderr",
     "output_type": "stream",
     "text": [
      "\n",
      " 95%|█████████▍| 77012/81124 [4:10:04<17:32:25, 15.36s/it]\u001b[A"
     ]
    },
    {
     "name": "stdout",
     "output_type": "stream",
     "text": [
      "Infected\n",
      "Infected\n",
      "Infected\n"
     ]
    },
    {
     "name": "stderr",
     "output_type": "stream",
     "text": [
      "\n",
      " 95%|█████████▍| 77013/81124 [4:11:07<33:42:16, 29.52s/it]\u001b[A\n",
      " 95%|█████████▍| 77014/81124 [4:11:40<35:01:00, 30.67s/it]\u001b[A"
     ]
    },
    {
     "name": "stdout",
     "output_type": "stream",
     "text": [
      "Infected\n",
      "Infected\n",
      "Infected\n",
      "Infected\n"
     ]
    },
    {
     "name": "stderr",
     "output_type": "stream",
     "text": [
      "\n",
      " 95%|█████████▍| 77015/81124 [4:12:30<41:45:02, 36.58s/it]\u001b[A\n",
      " 95%|█████████▍| 77016/81124 [4:12:34<30:23:38, 26.64s/it]\u001b[A\n",
      " 95%|█████████▍| 77017/81124 [4:12:40<23:32:06, 20.63s/it]\u001b[A\n",
      " 95%|█████████▍| 77018/81124 [4:12:46<18:27:15, 16.18s/it]\u001b[A\n",
      " 95%|█████████▍| 77019/81124 [4:13:20<24:37:52, 21.60s/it]\u001b[A\n",
      " 95%|█████████▍| 77020/81124 [4:13:22<17:45:27, 15.58s/it]\u001b[A\n",
      " 95%|█████████▍| 77021/81124 [4:13:22<12:30:19, 10.97s/it]\u001b[A\n",
      " 95%|█████████▍| 77022/81124 [4:13:25<9:54:14,  8.69s/it] \u001b[A"
     ]
    },
    {
     "name": "stdout",
     "output_type": "stream",
     "text": [
      "Infected\n"
     ]
    },
    {
     "name": "stderr",
     "output_type": "stream",
     "text": [
      "\n",
      " 95%|█████████▍| 77023/81124 [4:13:51<15:41:44, 13.78s/it]\u001b[A"
     ]
    },
    {
     "name": "stdout",
     "output_type": "stream",
     "text": [
      "Infected\n",
      "Infected\n"
     ]
    },
    {
     "name": "stderr",
     "output_type": "stream",
     "text": [
      "\n",
      " 95%|█████████▍| 77025/81124 [4:14:07<13:45:33, 12.08s/it]\u001b[A\n",
      " 95%|█████████▍| 77026/81124 [4:14:09<10:04:01,  8.84s/it]\u001b[A\n",
      " 95%|█████████▍| 77027/81124 [4:14:29<13:54:14, 12.22s/it]\u001b[A\n",
      " 95%|█████████▍| 77028/81124 [4:14:33<11:01:24,  9.69s/it]\u001b[A\n",
      " 95%|█████████▍| 77029/81124 [4:14:34<8:07:58,  7.15s/it] \u001b[A\n",
      " 95%|█████████▍| 77030/81124 [4:14:35<6:10:25,  5.43s/it]\u001b[A\n",
      " 95%|█████████▍| 77031/81124 [4:14:44<7:23:59,  6.51s/it]\u001b[A\n",
      " 95%|█████████▍| 77032/81124 [4:14:47<6:11:19,  5.44s/it]\u001b[A\n",
      " 95%|█████████▍| 77033/81124 [4:14:53<6:12:03,  5.46s/it]\u001b[A\n",
      " 95%|█████████▍| 77034/81124 [4:15:04<8:14:47,  7.26s/it]\u001b[A\n",
      " 95%|█████████▍| 77035/81124 [4:15:55<23:09:05, 20.38s/it]\u001b[A\n",
      " 95%|█████████▍| 77036/81124 [4:16:11<21:29:01, 18.92s/it]\u001b[A"
     ]
    },
    {
     "name": "stdout",
     "output_type": "stream",
     "text": [
      "Infected\n"
     ]
    },
    {
     "name": "stderr",
     "output_type": "stream",
     "text": [
      "\n",
      " 95%|█████████▍| 77037/81124 [4:16:14<16:01:30, 14.12s/it]\u001b[A\n",
      " 95%|█████████▍| 77038/81124 [4:16:16<11:59:06, 10.56s/it]\u001b[A"
     ]
    },
    {
     "name": "stdout",
     "output_type": "stream",
     "text": [
      "Infected\n"
     ]
    },
    {
     "name": "stderr",
     "output_type": "stream",
     "text": [
      "\n",
      " 95%|█████████▍| 77039/81124 [4:16:19<9:34:32,  8.44s/it] \u001b[A\n",
      " 95%|█████████▍| 77041/81124 [4:17:41<20:40:21, 18.23s/it]\u001b[A"
     ]
    },
    {
     "name": "stdout",
     "output_type": "stream",
     "text": [
      "Infected\n"
     ]
    },
    {
     "name": "stderr",
     "output_type": "stream",
     "text": [
      "\n",
      " 95%|█████████▍| 77042/81124 [4:17:57<19:52:54, 17.53s/it]\u001b[A\n",
      " 95%|█████████▍| 77043/81124 [4:17:58<14:05:40, 12.43s/it]\u001b[A"
     ]
    },
    {
     "name": "stdout",
     "output_type": "stream",
     "text": [
      "Infected\n",
      "Infected\n"
     ]
    },
    {
     "name": "stderr",
     "output_type": "stream",
     "text": [
      "\n",
      " 95%|█████████▍| 77044/81124 [4:18:58<30:20:38, 26.77s/it]\u001b[A\n",
      " 95%|█████████▍| 77045/81124 [4:18:59<21:28:17, 18.95s/it]\u001b[A"
     ]
    },
    {
     "name": "stdout",
     "output_type": "stream",
     "text": [
      "Infected\n"
     ]
    },
    {
     "name": "stderr",
     "output_type": "stream",
     "text": [
      "\n",
      " 95%|█████████▍| 77046/81124 [4:19:38<28:22:58, 25.06s/it]\u001b[A\n",
      " 95%|█████████▍| 77047/81124 [4:19:47<23:01:07, 20.33s/it]\u001b[A"
     ]
    },
    {
     "name": "stdout",
     "output_type": "stream",
     "text": [
      "Infected\n",
      "Infected\n",
      "Infected\n"
     ]
    },
    {
     "name": "stderr",
     "output_type": "stream",
     "text": [
      "\n",
      " 95%|█████████▍| 77048/81124 [4:20:35<32:20:55, 28.57s/it]\u001b[A\n",
      " 95%|█████████▍| 77049/81124 [4:21:38<44:04:42, 38.94s/it]\u001b[A"
     ]
    },
    {
     "name": "stdout",
     "output_type": "stream",
     "text": [
      "Infected\n"
     ]
    },
    {
     "name": "stderr",
     "output_type": "stream",
     "text": [
      "\n",
      " 95%|█████████▍| 77050/81124 [4:22:15<43:26:41, 38.39s/it]\u001b[A\n",
      " 95%|█████████▍| 77051/81124 [4:22:20<31:56:16, 28.23s/it]\u001b[A\n",
      " 95%|█████████▍| 77052/81124 [4:22:53<33:33:38, 29.67s/it]\u001b[A\n",
      " 95%|█████████▍| 77053/81124 [4:22:58<25:04:05, 22.17s/it]\u001b[A\n",
      " 95%|█████████▍| 77055/81124 [4:23:32<23:26:32, 20.74s/it]\u001b[A\n",
      " 95%|█████████▍| 77056/81124 [4:23:33<16:41:52, 14.78s/it]\u001b[A\n",
      " 95%|█████████▍| 77057/81124 [4:24:16<26:01:56, 23.04s/it]\u001b[A\n",
      " 95%|█████████▍| 77058/81124 [4:25:00<33:19:48, 29.51s/it]\u001b[A\n",
      " 95%|█████████▍| 77059/81124 [4:25:23<31:08:48, 27.58s/it]\u001b[A\n",
      " 95%|█████████▍| 77060/81124 [4:25:24<21:51:41, 19.37s/it]\u001b[A\n",
      " 95%|█████████▍| 77061/81124 [4:25:25<15:49:55, 14.03s/it]\u001b[A\n",
      " 95%|█████████▍| 77062/81124 [4:25:27<11:47:54, 10.46s/it]\u001b[A\n",
      " 95%|█████████▍| 77063/81124 [4:25:30<9:03:17,  8.03s/it] \u001b[A\n",
      " 95%|█████████▍| 77064/81124 [4:25:32<7:11:32,  6.38s/it]\u001b[A\n",
      " 95%|█████████▍| 77065/81124 [4:25:51<11:17:16, 10.01s/it]\u001b[A"
     ]
    },
    {
     "name": "stdout",
     "output_type": "stream",
     "text": [
      "Infected\n"
     ]
    },
    {
     "name": "stderr",
     "output_type": "stream",
     "text": [
      "\n",
      " 95%|█████████▍| 77066/81124 [4:25:53<8:39:14,  7.68s/it] \u001b[A\n",
      " 95%|█████████▍| 77067/81124 [4:25:55<6:54:31,  6.13s/it]\u001b[A\n",
      " 95%|█████████▌| 77068/81124 [4:26:14<11:07:35,  9.88s/it]\u001b[A\n",
      " 95%|█████████▌| 77069/81124 [4:26:15<8:05:16,  7.18s/it] \u001b[A\n",
      " 95%|█████████▌| 77071/81124 [4:26:46<10:52:04,  9.65s/it]\u001b[A\n",
      " 95%|█████████▌| 77072/81124 [4:26:49<8:52:14,  7.88s/it] \u001b[A\n",
      " 95%|█████████▌| 77073/81124 [4:27:06<11:38:07, 10.34s/it]\u001b[A\n",
      " 95%|█████████▌| 77074/81124 [4:27:31<16:47:30, 14.93s/it]\u001b[A\n",
      " 95%|█████████▌| 77076/81124 [4:27:32<11:55:11, 10.60s/it]\u001b[A\n",
      " 95%|█████████▌| 77077/81124 [4:28:01<18:09:17, 16.15s/it]\u001b[A\n",
      " 95%|█████████▌| 77079/81124 [4:28:09<14:00:58, 12.47s/it]\u001b[A\n",
      " 95%|█████████▌| 77082/81124 [4:28:18<10:48:00,  9.62s/it]\u001b[A"
     ]
    },
    {
     "name": "stdout",
     "output_type": "stream",
     "text": [
      "Infected\n"
     ]
    },
    {
     "name": "stderr",
     "output_type": "stream",
     "text": [
      "\n",
      " 95%|█████████▌| 77084/81124 [4:28:32<9:51:46,  8.79s/it] \u001b[A\n",
      " 95%|█████████▌| 77085/81124 [4:28:34<7:33:08,  6.73s/it]\u001b[A\n",
      " 95%|█████████▌| 77086/81124 [4:28:34<5:19:25,  4.75s/it]\u001b[A"
     ]
    },
    {
     "name": "stdout",
     "output_type": "stream",
     "text": [
      "Infected\n"
     ]
    },
    {
     "name": "stderr",
     "output_type": "stream",
     "text": [
      "\n",
      " 95%|█████████▌| 77087/81124 [4:29:05<14:07:23, 12.59s/it]\u001b[A\n",
      " 95%|█████████▌| 77088/81124 [4:29:06<10:22:52,  9.26s/it]\u001b[A\n",
      " 95%|█████████▌| 77089/81124 [4:29:07<7:39:58,  6.84s/it] \u001b[A"
     ]
    },
    {
     "name": "stdout",
     "output_type": "stream",
     "text": [
      "Infected\n"
     ]
    },
    {
     "name": "stderr",
     "output_type": "stream",
     "text": [
      "\n",
      " 95%|█████████▌| 77090/81124 [4:29:17<8:33:08,  7.63s/it]\u001b[A\n",
      " 95%|█████████▌| 77091/81124 [4:29:17<6:04:18,  5.42s/it]\u001b[A\n",
      " 95%|█████████▌| 77092/81124 [4:30:05<20:18:40, 18.14s/it]\u001b[A"
     ]
    },
    {
     "name": "stdout",
     "output_type": "stream",
     "text": [
      "Infected\n"
     ]
    },
    {
     "name": "stderr",
     "output_type": "stream",
     "text": [
      "\n",
      " 95%|█████████▌| 77094/81124 [4:30:44<20:45:26, 18.54s/it]\u001b[A"
     ]
    },
    {
     "name": "stdout",
     "output_type": "stream",
     "text": [
      "Infected\n"
     ]
    },
    {
     "name": "stderr",
     "output_type": "stream",
     "text": [
      "\n",
      " 95%|█████████▌| 77095/81124 [4:31:10<23:13:44, 20.76s/it]\u001b[A\n",
      " 95%|█████████▌| 77096/81124 [4:31:34<24:19:41, 21.74s/it]\u001b[A\n",
      " 95%|█████████▌| 77097/81124 [4:31:35<17:19:46, 15.49s/it]\u001b[A\n",
      " 95%|█████████▌| 77099/81124 [4:31:39<12:49:23, 11.47s/it]\u001b[A\n",
      " 95%|█████████▌| 77100/81124 [4:31:40<9:13:19,  8.25s/it] \u001b[A\n",
      " 95%|█████████▌| 77101/81124 [4:31:42<7:21:56,  6.59s/it]\u001b[A\n",
      " 95%|█████████▌| 77102/81124 [4:31:42<5:13:05,  4.67s/it]\u001b[A"
     ]
    },
    {
     "name": "stdout",
     "output_type": "stream",
     "text": [
      "Infected\n"
     ]
    },
    {
     "name": "stderr",
     "output_type": "stream",
     "text": [
      "\n",
      " 95%|█████████▌| 77104/81124 [4:32:18<9:37:27,  8.62s/it]\u001b[A\n",
      " 95%|█████████▌| 77105/81124 [4:32:29<10:30:28,  9.41s/it]\u001b[A\n",
      " 95%|█████████▌| 77106/81124 [4:32:31<7:52:49,  7.06s/it] \u001b[A\n",
      " 95%|█████████▌| 77107/81124 [4:32:32<6:00:32,  5.39s/it]\u001b[A\n",
      " 95%|█████████▌| 77108/81124 [4:32:55<11:47:13, 10.57s/it]\u001b[A\n",
      " 95%|█████████▌| 77109/81124 [4:32:59<9:28:11,  8.49s/it] \u001b[A\n",
      " 95%|█████████▌| 77110/81124 [4:33:00<6:57:53,  6.25s/it]\u001b[A\n",
      " 95%|█████████▌| 77111/81124 [4:33:00<4:57:48,  4.45s/it]\u001b[A\n",
      " 95%|█████████▌| 77112/81124 [4:33:00<3:32:21,  3.18s/it]\u001b[A\n",
      " 95%|█████████▌| 77113/81124 [4:33:38<15:05:19, 13.54s/it]\u001b[A"
     ]
    },
    {
     "name": "stdout",
     "output_type": "stream",
     "text": [
      "Infected\n"
     ]
    },
    {
     "name": "stderr",
     "output_type": "stream",
     "text": [
      "\n",
      " 95%|█████████▌| 77114/81124 [4:34:25<26:25:57, 23.73s/it]\u001b[A\n",
      " 95%|█████████▌| 77115/81124 [4:34:26<18:37:20, 16.72s/it]\u001b[A\n",
      " 95%|█████████▌| 77116/81124 [4:35:22<31:51:42, 28.62s/it]\u001b[A\n",
      " 95%|█████████▌| 77118/81124 [4:35:23<22:21:17, 20.09s/it]\u001b[A"
     ]
    },
    {
     "name": "stdout",
     "output_type": "stream",
     "text": [
      "Infected\n",
      "Infected\n",
      "Infected\n",
      "Infected\n",
      "Infected\n",
      "Infected\n"
     ]
    },
    {
     "name": "stderr",
     "output_type": "stream",
     "text": [
      "\n",
      " 95%|█████████▌| 77119/81124 [4:35:31<18:17:25, 16.44s/it]\u001b[A"
     ]
    },
    {
     "name": "stdout",
     "output_type": "stream",
     "text": [
      "Infected\n",
      "Infected\n"
     ]
    },
    {
     "name": "stderr",
     "output_type": "stream",
     "text": [
      "\n",
      " 95%|█████████▌| 77120/81124 [4:35:41<16:16:00, 14.63s/it]\u001b[A\n",
      " 95%|█████████▌| 77121/81124 [4:35:41<11:28:16, 10.32s/it]\u001b[A\n",
      " 95%|█████████▌| 77122/81124 [4:35:48<10:08:24,  9.12s/it]\u001b[A\n",
      " 95%|█████████▌| 77123/81124 [4:35:51<8:20:14,  7.50s/it] \u001b[A"
     ]
    },
    {
     "name": "stdout",
     "output_type": "stream",
     "text": [
      "Infected\n",
      "Infected\n"
     ]
    },
    {
     "name": "stderr",
     "output_type": "stream",
     "text": [
      "\n",
      " 95%|█████████▌| 77124/81124 [4:35:53<6:29:27,  5.84s/it]\u001b[A\n",
      " 95%|█████████▌| 77125/81124 [4:35:54<4:52:40,  4.39s/it]\u001b[A\n",
      " 95%|█████████▌| 77126/81124 [4:35:56<3:56:16,  3.55s/it]\u001b[A"
     ]
    },
    {
     "name": "stdout",
     "output_type": "stream",
     "text": [
      "Infected\n",
      "Infected\n",
      "Infected\n"
     ]
    },
    {
     "name": "stderr",
     "output_type": "stream",
     "text": [
      "\n",
      " 95%|█████████▌| 77127/81124 [4:36:06<6:15:04,  5.63s/it]\u001b[A\n",
      " 95%|█████████▌| 77128/81124 [4:36:12<6:15:13,  5.63s/it]\u001b[A\n",
      " 95%|█████████▌| 77129/81124 [4:36:12<4:25:45,  3.99s/it]\u001b[A\n",
      " 95%|█████████▌| 77130/81124 [4:36:15<3:59:31,  3.60s/it]\u001b[A"
     ]
    },
    {
     "name": "stdout",
     "output_type": "stream",
     "text": [
      "Infected\n",
      "Infected\n"
     ]
    },
    {
     "name": "stderr",
     "output_type": "stream",
     "text": [
      "\n",
      " 95%|█████████▌| 77131/81124 [4:37:02<18:23:30, 16.58s/it]\u001b[A\n",
      " 95%|█████████▌| 77132/81124 [4:37:05<13:56:00, 12.57s/it]\u001b[A\n",
      " 95%|█████████▌| 77133/81124 [4:37:05<9:49:24,  8.86s/it] \u001b[A\n",
      " 95%|█████████▌| 77135/81124 [4:37:06<6:59:21,  6.31s/it]\u001b[A\n",
      " 95%|█████████▌| 77138/81124 [4:37:06<4:57:54,  4.48s/it]\u001b[A\n",
      " 95%|█████████▌| 77139/81124 [4:37:07<3:32:49,  3.20s/it]\u001b[A\n",
      " 95%|█████████▌| 77140/81124 [4:37:08<2:48:42,  2.54s/it]\u001b[A\n",
      " 95%|█████████▌| 77141/81124 [4:37:08<2:03:36,  1.86s/it]\u001b[A"
     ]
    },
    {
     "name": "stdout",
     "output_type": "stream",
     "text": [
      "Infected\n",
      "Infected\n"
     ]
    },
    {
     "name": "stderr",
     "output_type": "stream",
     "text": [
      "\n",
      " 95%|█████████▌| 77142/81124 [4:37:09<1:47:44,  1.62s/it]\u001b[A\n",
      " 95%|█████████▌| 77143/81124 [4:37:12<2:24:12,  2.17s/it]\u001b[A\n",
      " 95%|█████████▌| 77144/81124 [4:37:59<17:00:12, 15.38s/it]\u001b[A\n",
      " 95%|█████████▌| 77145/81124 [4:38:31<22:39:48, 20.50s/it]\u001b[A\n",
      " 95%|█████████▌| 77146/81124 [4:39:17<30:58:00, 28.02s/it]\u001b[A\n",
      " 95%|█████████▌| 77147/81124 [4:39:26<24:51:55, 22.51s/it]\u001b[A\n",
      " 95%|█████████▌| 77148/81124 [4:39:27<17:41:42, 16.02s/it]\u001b[A"
     ]
    },
    {
     "name": "stdout",
     "output_type": "stream",
     "text": [
      "Infected\n",
      "Infected\n",
      "Infected\n"
     ]
    },
    {
     "name": "stderr",
     "output_type": "stream",
     "text": [
      "\n",
      " 95%|█████████▌| 77149/81124 [4:39:44<18:02:01, 16.33s/it]\u001b[A\n",
      " 95%|█████████▌| 77150/81124 [4:39:45<12:57:19, 11.74s/it]\u001b[A\n",
      " 95%|█████████▌| 77151/81124 [4:39:48<9:54:53,  8.98s/it] \u001b[A\n",
      " 95%|█████████▌| 77152/81124 [4:39:49<7:26:30,  6.74s/it]\u001b[A\n",
      " 95%|█████████▌| 77153/81124 [4:39:59<8:28:54,  7.69s/it]\u001b[A\n",
      " 95%|█████████▌| 77154/81124 [4:40:02<6:51:41,  6.22s/it]\u001b[A\n",
      " 95%|█████████▌| 77155/81124 [4:40:03<4:57:47,  4.50s/it]\u001b[A"
     ]
    },
    {
     "name": "stdout",
     "output_type": "stream",
     "text": [
      "Infected\n",
      "Infected\n"
     ]
    },
    {
     "name": "stderr",
     "output_type": "stream",
     "text": [
      "\n",
      " 95%|█████████▌| 77156/81124 [4:40:19<8:53:09,  8.06s/it]\u001b[A\n",
      " 95%|█████████▌| 77157/81124 [4:40:20<6:29:26,  5.89s/it]\u001b[A\n",
      " 95%|█████████▌| 77158/81124 [4:40:20<4:38:34,  4.21s/it]\u001b[A\n",
      " 95%|█████████▌| 77159/81124 [4:41:06<18:30:55, 16.81s/it]\u001b[A"
     ]
    },
    {
     "name": "stdout",
     "output_type": "stream",
     "text": [
      "Infected\n",
      "Infected\n"
     ]
    },
    {
     "name": "stderr",
     "output_type": "stream",
     "text": [
      "\n",
      " 95%|█████████▌| 77160/81124 [4:41:10<14:02:29, 12.75s/it]\u001b[A\n",
      " 95%|█████████▌| 77161/81124 [4:41:19<12:58:42, 11.79s/it]\u001b[A\n",
      " 95%|█████████▌| 77162/81124 [4:41:30<12:38:53, 11.49s/it]\u001b[A\n",
      " 95%|█████████▌| 77164/81124 [4:41:31<8:58:47,  8.16s/it] \u001b[A\n",
      " 95%|█████████▌| 77165/81124 [4:41:38<8:34:40,  7.80s/it]\u001b[A\n",
      " 95%|█████████▌| 77166/81124 [4:41:38<6:06:56,  5.56s/it]\u001b[A\n",
      " 95%|█████████▌| 77167/81124 [4:41:39<4:30:47,  4.11s/it]\u001b[A\n",
      " 95%|█████████▌| 77168/81124 [4:41:39<3:14:56,  2.96s/it]\u001b[A\n",
      " 95%|█████████▌| 77169/81124 [4:41:40<2:29:58,  2.28s/it]\u001b[A\n",
      " 95%|█████████▌| 77170/81124 [4:42:24<16:27:31, 14.99s/it]\u001b[A\n",
      " 95%|█████████▌| 77171/81124 [4:42:25<11:55:55, 10.87s/it]\u001b[A\n",
      " 95%|█████████▌| 77172/81124 [4:42:26<8:25:25,  7.67s/it] \u001b[A\n",
      " 95%|█████████▌| 77175/81124 [4:43:00<9:40:43,  8.82s/it]\u001b[A\n",
      " 95%|█████████▌| 77176/81124 [4:43:09<9:41:25,  8.84s/it]\u001b[A\n",
      " 95%|█████████▌| 77177/81124 [4:43:10<7:02:23,  6.42s/it]\u001b[A\n",
      " 95%|█████████▌| 77178/81124 [4:43:10<5:02:28,  4.60s/it]\u001b[A\n",
      " 95%|█████████▌| 77179/81124 [4:43:18<6:13:04,  5.67s/it]\u001b[A\n",
      " 95%|█████████▌| 77180/81124 [4:43:20<4:51:17,  4.43s/it]\u001b[A\n",
      " 95%|█████████▌| 77181/81124 [4:43:21<3:42:54,  3.39s/it]\u001b[A\n",
      " 95%|█████████▌| 77183/81124 [4:43:22<2:46:35,  2.54s/it]\u001b[A\n",
      " 95%|█████████▌| 77185/81124 [4:43:25<2:23:05,  2.18s/it]\u001b[A\n",
      " 95%|█████████▌| 77186/81124 [4:43:25<1:54:31,  1.75s/it]\u001b[A\n",
      " 95%|█████████▌| 77187/81124 [4:43:27<1:59:38,  1.82s/it]\u001b[A\n",
      " 95%|█████████▌| 77188/81124 [4:43:29<1:59:08,  1.82s/it]\u001b[A\n",
      " 95%|█████████▌| 77189/81124 [4:43:32<2:12:00,  2.01s/it]\u001b[A\n",
      " 95%|█████████▌| 77190/81124 [4:43:33<2:06:30,  1.93s/it]\u001b[A\n",
      " 95%|█████████▌| 77192/81124 [4:43:40<2:35:01,  2.37s/it]\u001b[A\n",
      " 95%|█████████▌| 77193/81124 [4:43:42<2:29:33,  2.28s/it]\u001b[A\n",
      " 95%|█████████▌| 77194/81124 [4:43:45<2:47:21,  2.56s/it]\u001b[A"
     ]
    },
    {
     "name": "stdout",
     "output_type": "stream",
     "text": [
      "Infected\n",
      "Infected\n",
      "Infected\n"
     ]
    },
    {
     "name": "stderr",
     "output_type": "stream",
     "text": [
      "\n",
      " 95%|█████████▌| 77195/81124 [4:44:11<10:16:08,  9.41s/it]\u001b[A\n",
      " 95%|█████████▌| 77196/81124 [4:44:11<7:17:12,  6.68s/it] \u001b[A\n",
      " 95%|█████████▌| 77197/81124 [4:44:12<5:24:42,  4.96s/it]\u001b[A\n",
      " 95%|█████████▌| 77199/81124 [4:44:17<4:29:54,  4.13s/it]\u001b[A\n",
      " 95%|█████████▌| 77200/81124 [4:44:18<3:42:21,  3.40s/it]\u001b[A\n",
      " 95%|█████████▌| 77203/81124 [4:44:19<2:37:36,  2.41s/it]\u001b[A\n",
      " 95%|█████████▌| 77204/81124 [4:44:21<2:30:44,  2.31s/it]\u001b[A\n",
      " 95%|█████████▌| 77205/81124 [4:44:23<2:25:21,  2.23s/it]\u001b[A\n",
      " 95%|█████████▌| 77206/81124 [4:44:23<1:56:49,  1.79s/it]\u001b[A"
     ]
    },
    {
     "name": "stdout",
     "output_type": "stream",
     "text": [
      "Infected\n",
      "Infected\n",
      "Infected\n",
      "Infected\n",
      "Infected\n",
      "Infected\n",
      "Infected\n"
     ]
    },
    {
     "name": "stderr",
     "output_type": "stream",
     "text": [
      "\n",
      " 95%|█████████▌| 77207/81124 [4:44:39<6:20:08,  5.82s/it]\u001b[A"
     ]
    },
    {
     "name": "stdout",
     "output_type": "stream",
     "text": [
      "Infected\n"
     ]
    },
    {
     "name": "stderr",
     "output_type": "stream",
     "text": [
      "\n",
      " 95%|█████████▌| 77208/81124 [4:44:40<4:46:07,  4.38s/it]\u001b[A"
     ]
    },
    {
     "name": "stdout",
     "output_type": "stream",
     "text": [
      "Infected\n"
     ]
    },
    {
     "name": "stderr",
     "output_type": "stream",
     "text": [
      "\n",
      " 95%|█████████▌| 77209/81124 [4:44:42<4:10:13,  3.83s/it]\u001b[A\n",
      " 95%|█████████▌| 77210/81124 [4:44:43<3:10:33,  2.92s/it]\u001b[A"
     ]
    },
    {
     "name": "stdout",
     "output_type": "stream",
     "text": [
      "Infected\n"
     ]
    },
    {
     "name": "stderr",
     "output_type": "stream",
     "text": [
      "\n",
      " 95%|█████████▌| 77211/81124 [4:44:46<3:19:23,  3.06s/it]\u001b[A\n",
      " 95%|█████████▌| 77212/81124 [4:44:47<2:26:09,  2.24s/it]\u001b[A\n",
      " 95%|█████████▌| 77213/81124 [4:44:48<2:06:20,  1.94s/it]\u001b[A\n",
      " 95%|█████████▌| 77214/81124 [4:44:57<4:33:03,  4.19s/it]\u001b[A\n",
      " 95%|█████████▌| 77216/81124 [4:45:06<4:37:52,  4.27s/it]\u001b[A\n",
      " 95%|█████████▌| 77217/81124 [4:45:07<3:34:56,  3.30s/it]\u001b[A\n",
      " 95%|█████████▌| 77219/81124 [4:45:15<3:42:03,  3.41s/it]\u001b[A\n",
      " 95%|█████████▌| 77220/81124 [4:45:16<3:10:53,  2.93s/it]\u001b[A"
     ]
    },
    {
     "name": "stdout",
     "output_type": "stream",
     "text": [
      "Infected\n"
     ]
    },
    {
     "name": "stderr",
     "output_type": "stream",
     "text": [
      "\n",
      " 95%|█████████▌| 77221/81124 [4:45:20<3:25:37,  3.16s/it]\u001b[A\n",
      " 95%|█████████▌| 77223/81124 [4:45:24<2:56:47,  2.72s/it]\u001b[A"
     ]
    },
    {
     "name": "stdout",
     "output_type": "stream",
     "text": [
      "Infected\n"
     ]
    },
    {
     "name": "stderr",
     "output_type": "stream",
     "text": [
      "\n",
      " 95%|█████████▌| 77224/81124 [4:45:49<10:19:25,  9.53s/it]\u001b[A\n",
      " 95%|█████████▌| 77225/81124 [4:45:51<7:44:41,  7.15s/it] \u001b[A\n",
      " 95%|█████████▌| 77226/81124 [4:45:53<6:03:50,  5.60s/it]\u001b[A"
     ]
    },
    {
     "name": "stdout",
     "output_type": "stream",
     "text": [
      "Infected\n"
     ]
    },
    {
     "name": "stderr",
     "output_type": "stream",
     "text": [
      "\n",
      " 95%|█████████▌| 77227/81124 [4:45:54<4:45:49,  4.40s/it]\u001b[A\n",
      " 95%|█████████▌| 77228/81124 [4:45:56<4:00:08,  3.70s/it]\u001b[A\n",
      " 95%|█████████▌| 77229/81124 [4:45:58<3:30:35,  3.24s/it]\u001b[A\n",
      " 95%|█████████▌| 77231/81124 [4:46:01<2:49:42,  2.62s/it]\u001b[A"
     ]
    },
    {
     "name": "stdout",
     "output_type": "stream",
     "text": [
      "Infected\n",
      "Infected\n"
     ]
    },
    {
     "name": "stderr",
     "output_type": "stream",
     "text": [
      "\n",
      " 95%|█████████▌| 77233/81124 [4:46:05<2:44:46,  2.54s/it]\u001b[A\n",
      " 95%|█████████▌| 77234/81124 [4:46:19<6:17:25,  5.82s/it]\u001b[A\n",
      " 95%|█████████▌| 77235/81124 [4:46:28<7:13:41,  6.69s/it]\u001b[A"
     ]
    },
    {
     "name": "stdout",
     "output_type": "stream",
     "text": [
      "Infected\n"
     ]
    },
    {
     "name": "stderr",
     "output_type": "stream",
     "text": [
      "\n",
      " 95%|█████████▌| 77236/81124 [4:46:35<7:32:33,  6.98s/it]\u001b[A"
     ]
    },
    {
     "name": "stdout",
     "output_type": "stream",
     "text": [
      "Infected\n",
      "Infected\n"
     ]
    },
    {
     "name": "stderr",
     "output_type": "stream",
     "text": [
      "\n",
      " 95%|█████████▌| 77238/81124 [4:46:38<5:41:44,  5.28s/it]\u001b[A\n",
      " 95%|█████████▌| 77239/81124 [4:47:13<15:17:33, 14.17s/it]\u001b[A\n",
      " 95%|█████████▌| 77240/81124 [4:47:23<14:09:22, 13.12s/it]\u001b[A\n",
      " 95%|█████████▌| 77241/81124 [4:47:28<11:23:59, 10.57s/it]\u001b[A\n",
      " 95%|█████████▌| 77242/81124 [4:47:29<8:12:53,  7.62s/it] \u001b[A\n",
      " 95%|█████████▌| 77243/81124 [4:47:29<5:51:11,  5.43s/it]\u001b[A"
     ]
    },
    {
     "name": "stdout",
     "output_type": "stream",
     "text": [
      "Infected\n",
      "Infected\n"
     ]
    },
    {
     "name": "stderr",
     "output_type": "stream",
     "text": [
      "\n",
      " 95%|█████████▌| 77245/81124 [4:47:40<5:47:08,  5.37s/it]\u001b[A\n",
      " 95%|█████████▌| 77246/81124 [4:47:40<4:08:44,  3.85s/it]\u001b[A\n",
      " 95%|█████████▌| 77247/81124 [4:48:02<9:53:52,  9.19s/it]\u001b[A\n",
      " 95%|█████████▌| 77248/81124 [4:48:02<7:00:40,  6.51s/it]\u001b[A\n",
      " 95%|█████████▌| 77249/81124 [4:48:04<5:42:08,  5.30s/it]\u001b[A\n",
      " 95%|█████████▌| 77250/81124 [4:48:08<5:20:18,  4.96s/it]\u001b[A\n",
      " 95%|█████████▌| 77251/81124 [4:48:09<4:02:04,  3.75s/it]\u001b[A\n",
      " 95%|█████████▌| 77252/81124 [4:48:10<3:09:05,  2.93s/it]\u001b[A\n",
      " 95%|█████████▌| 77253/81124 [4:48:36<10:28:46,  9.75s/it]\u001b[A\n",
      " 95%|█████████▌| 77254/81124 [4:48:37<7:45:10,  7.21s/it] \u001b[A\n",
      " 95%|█████████▌| 77256/81124 [4:48:39<5:44:24,  5.34s/it]\u001b[A\n",
      " 95%|█████████▌| 77258/81124 [4:48:42<4:23:44,  4.09s/it]\u001b[A\n",
      " 95%|█████████▌| 77259/81124 [4:48:44<3:57:14,  3.68s/it]\u001b[A"
     ]
    },
    {
     "name": "stdout",
     "output_type": "stream",
     "text": [
      "Infected\n",
      "Infected\n",
      "Infected\n"
     ]
    },
    {
     "name": "stderr",
     "output_type": "stream",
     "text": [
      "\n",
      " 95%|█████████▌| 77260/81124 [4:49:34<18:36:03, 17.33s/it]\u001b[A\n",
      " 95%|█████████▌| 77261/81124 [4:49:36<13:51:44, 12.92s/it]\u001b[A\n",
      " 95%|█████████▌| 77262/81124 [4:49:38<10:15:16,  9.56s/it]\u001b[A\n",
      " 95%|█████████▌| 77263/81124 [4:49:45<9:18:42,  8.68s/it] \u001b[A\n",
      " 95%|█████████▌| 77264/81124 [4:49:48<7:43:48,  7.21s/it]\u001b[A"
     ]
    },
    {
     "name": "stdout",
     "output_type": "stream",
     "text": [
      "Infected\n"
     ]
    },
    {
     "name": "stderr",
     "output_type": "stream",
     "text": [
      "\n",
      " 95%|█████████▌| 77265/81124 [4:50:31<19:12:59, 17.93s/it]\u001b[A\n",
      " 95%|█████████▌| 77266/81124 [4:50:42<16:54:27, 15.78s/it]\u001b[A\n",
      " 95%|█████████▌| 77267/81124 [4:50:44<12:35:42, 11.76s/it]\u001b[A\n",
      " 95%|█████████▌| 77268/81124 [4:50:51<10:59:42, 10.27s/it]\u001b[A\n",
      " 95%|█████████▌| 77270/81124 [4:50:55<8:15:33,  7.71s/it] \u001b[A\n",
      " 95%|█████████▌| 77271/81124 [4:51:00<7:19:18,  6.84s/it]\u001b[A\n",
      " 95%|█████████▌| 77272/81124 [4:51:00<5:22:20,  5.02s/it]\u001b[A\n",
      " 95%|█████████▌| 77273/81124 [4:51:02<4:13:41,  3.95s/it]\u001b[A\n",
      " 95%|█████████▌| 77274/81124 [4:51:13<6:42:18,  6.27s/it]\u001b[A\n",
      " 95%|█████████▌| 77275/81124 [4:51:14<4:48:12,  4.49s/it]\u001b[A\n",
      " 95%|█████████▌| 77276/81124 [4:51:15<3:42:22,  3.47s/it]\u001b[A\n",
      " 95%|█████████▌| 77277/81124 [4:51:17<3:12:55,  3.01s/it]\u001b[A\n",
      " 95%|█████████▌| 77278/81124 [4:51:20<3:09:05,  2.95s/it]\u001b[A\n",
      " 95%|█████████▌| 77279/81124 [4:51:31<5:43:42,  5.36s/it]\u001b[A\n",
      " 95%|█████████▌| 77280/81124 [4:52:11<16:52:17, 15.80s/it]\u001b[A\n",
      " 95%|█████████▌| 77281/81124 [4:52:11<11:53:53, 11.15s/it]\u001b[A"
     ]
    },
    {
     "name": "stdout",
     "output_type": "stream",
     "text": [
      "Infected\n"
     ]
    },
    {
     "name": "stderr",
     "output_type": "stream",
     "text": [
      "\n",
      " 95%|█████████▌| 77282/81124 [4:52:19<10:59:04, 10.29s/it]\u001b[A\n",
      " 95%|█████████▌| 77283/81124 [4:52:33<12:06:26, 11.35s/it]\u001b[A\n",
      " 95%|█████████▌| 77284/81124 [4:52:34<8:46:31,  8.23s/it] \u001b[A\n",
      " 95%|█████████▌| 77285/81124 [4:52:40<7:59:57,  7.50s/it]\u001b[A\n",
      " 95%|█████████▌| 77286/81124 [4:52:59<11:46:29, 11.04s/it]\u001b[A\n",
      " 95%|█████████▌| 77287/81124 [4:53:00<8:30:45,  7.99s/it] \u001b[A\n",
      " 95%|█████████▌| 77288/81124 [4:53:09<8:44:04,  8.20s/it]\u001b[A"
     ]
    },
    {
     "name": "stdout",
     "output_type": "stream",
     "text": [
      "Infected\n",
      "Infected\n"
     ]
    },
    {
     "name": "stderr",
     "output_type": "stream",
     "text": [
      "\n",
      " 95%|█████████▌| 77289/81124 [4:53:18<9:05:22,  8.53s/it]\u001b[A\n",
      " 95%|█████████▌| 77291/81124 [4:53:18<6:23:23,  6.00s/it]\u001b[A\n",
      " 95%|█████████▌| 77292/81124 [4:53:18<4:31:43,  4.25s/it]\u001b[A\n",
      " 95%|█████████▌| 77294/81124 [4:53:20<3:29:10,  3.28s/it]\u001b[A\n",
      " 95%|█████████▌| 77295/81124 [4:53:22<2:54:31,  2.73s/it]\u001b[A\n",
      " 95%|█████████▌| 77296/81124 [4:53:38<7:13:32,  6.80s/it]\u001b[A\n",
      " 95%|█████████▌| 77297/81124 [4:53:46<7:27:21,  7.01s/it]\u001b[A\n",
      " 95%|█████████▌| 77298/81124 [4:53:58<9:02:29,  8.51s/it]\u001b[A\n",
      " 95%|█████████▌| 77299/81124 [4:54:04<8:19:59,  7.84s/it]\u001b[A"
     ]
    },
    {
     "name": "stdout",
     "output_type": "stream",
     "text": [
      "Infected\n",
      "Infected\n",
      "Infected\n"
     ]
    },
    {
     "name": "stderr",
     "output_type": "stream",
     "text": [
      "\n",
      " 95%|█████████▌| 77300/81124 [4:54:33<15:03:47, 14.18s/it]\u001b[A\n",
      " 95%|█████████▌| 77301/81124 [4:54:35<11:04:10, 10.42s/it]\u001b[A"
     ]
    },
    {
     "name": "stdout",
     "output_type": "stream",
     "text": [
      "Infected\n",
      "Infected\n"
     ]
    },
    {
     "name": "stderr",
     "output_type": "stream",
     "text": [
      "\n",
      " 95%|█████████▌| 77302/81124 [4:55:04<17:07:58, 16.14s/it]\u001b[A\n",
      " 95%|█████████▌| 77303/81124 [4:55:11<14:12:59, 13.39s/it]\u001b[A\n",
      " 95%|█████████▌| 77304/81124 [4:55:15<11:06:23, 10.47s/it]\u001b[A\n",
      " 95%|█████████▌| 77305/81124 [4:55:18<8:44:24,  8.24s/it] \u001b[A\n",
      " 95%|█████████▌| 77306/81124 [4:55:18<6:13:17,  5.87s/it]\u001b[A\n",
      " 95%|█████████▌| 77308/81124 [4:55:38<7:35:39,  7.16s/it]\u001b[A\n",
      " 95%|█████████▌| 77309/81124 [4:55:39<5:35:33,  5.28s/it]\u001b[A"
     ]
    },
    {
     "name": "stdout",
     "output_type": "stream",
     "text": [
      "Infected\n",
      "Infected\n"
     ]
    },
    {
     "name": "stderr",
     "output_type": "stream",
     "text": [
      "\n",
      " 95%|█████████▌| 77310/81124 [4:55:56<9:21:46,  8.84s/it]\u001b[A\n",
      " 95%|█████████▌| 77311/81124 [4:55:59<7:18:00,  6.89s/it]\u001b[A\n",
      " 95%|█████████▌| 77312/81124 [4:56:01<5:56:26,  5.61s/it]\u001b[A\n",
      " 95%|█████████▌| 77313/81124 [4:56:02<4:13:20,  3.99s/it]\u001b[A\n",
      " 95%|█████████▌| 77314/81124 [4:56:27<11:03:01, 10.44s/it]\u001b[A\n",
      " 95%|█████████▌| 77315/81124 [4:56:27<7:47:27,  7.36s/it] \u001b[A\n",
      " 95%|█████████▌| 77316/81124 [4:56:28<5:30:50,  5.21s/it]\u001b[A\n",
      " 95%|█████████▌| 77317/81124 [4:56:29<4:12:15,  3.98s/it]\u001b[A\n",
      " 95%|█████████▌| 77318/81124 [4:56:38<5:52:33,  5.56s/it]\u001b[A\n",
      " 95%|█████████▌| 77319/81124 [4:57:04<12:14:50, 11.59s/it]\u001b[A\n",
      " 95%|█████████▌| 77320/81124 [4:57:10<10:40:28, 10.10s/it]\u001b[A\n",
      " 95%|█████████▌| 77321/81124 [4:57:19<10:15:43,  9.71s/it]\u001b[A\n",
      " 95%|█████████▌| 77322/81124 [4:57:35<12:17:43, 11.64s/it]\u001b[A\n",
      " 95%|█████████▌| 77323/81124 [4:57:48<12:33:26, 11.89s/it]\u001b[A\n",
      " 95%|█████████▌| 77324/81124 [4:57:48<9:03:02,  8.57s/it] \u001b[A\n",
      " 95%|█████████▌| 77325/81124 [4:57:49<6:40:38,  6.33s/it]\u001b[A\n",
      " 95%|█████████▌| 77326/81124 [4:57:51<5:14:21,  4.97s/it]\u001b[A\n",
      " 95%|█████████▌| 77327/81124 [4:57:58<5:46:38,  5.48s/it]\u001b[A\n",
      " 95%|█████████▌| 77328/81124 [4:58:02<5:17:04,  5.01s/it]\u001b[A\n",
      " 95%|█████████▌| 77329/81124 [4:58:03<3:54:15,  3.70s/it]\u001b[A\n",
      " 95%|█████████▌| 77330/81124 [4:58:04<3:04:37,  2.92s/it]\u001b[A\n",
      " 95%|█████████▌| 77332/81124 [4:58:04<2:10:47,  2.07s/it]\u001b[A\n",
      " 95%|█████████▌| 77333/81124 [4:58:04<1:34:32,  1.50s/it]\u001b[A\n",
      " 95%|█████████▌| 77334/81124 [4:58:37<11:35:59, 11.02s/it]\u001b[A\n",
      " 95%|█████████▌| 77335/81124 [4:58:42<9:40:55,  9.20s/it] \u001b[A\n",
      " 95%|█████████▌| 77337/81124 [4:58:51<8:09:35,  7.76s/it]\u001b[A\n",
      " 95%|█████████▌| 77338/81124 [4:58:51<5:46:23,  5.49s/it]\u001b[A\n",
      " 95%|█████████▌| 77339/81124 [4:58:56<5:30:56,  5.25s/it]\u001b[A\n",
      " 95%|█████████▌| 77340/81124 [4:58:57<4:10:56,  3.98s/it]\u001b[A\n",
      " 95%|█████████▌| 77341/81124 [4:58:58<3:09:30,  3.01s/it]\u001b[A\n",
      " 95%|█████████▌| 77342/81124 [4:59:01<3:13:53,  3.08s/it]\u001b[A\n",
      " 95%|█████████▌| 77343/81124 [4:59:02<2:31:00,  2.40s/it]\u001b[A\n",
      " 95%|█████████▌| 77344/81124 [4:59:11<4:42:55,  4.49s/it]\u001b[A\n",
      " 95%|█████████▌| 77345/81124 [4:59:15<4:31:18,  4.31s/it]\u001b[A\n",
      " 95%|█████████▌| 77346/81124 [4:59:16<3:28:39,  3.31s/it]\u001b[A\n",
      " 95%|█████████▌| 77347/81124 [4:59:16<2:30:33,  2.39s/it]\u001b[A\n",
      " 95%|█████████▌| 77349/81124 [4:59:16<1:46:26,  1.69s/it]\u001b[A\n",
      " 95%|█████████▌| 77350/81124 [4:59:17<1:28:25,  1.41s/it]\u001b[A\n",
      " 95%|█████████▌| 77351/81124 [4:59:18<1:14:31,  1.19s/it]\u001b[A\n",
      " 95%|█████████▌| 77352/81124 [4:59:18<58:07,  1.08it/s]  \u001b[A\n",
      " 95%|█████████▌| 77353/81124 [4:59:19<1:09:02,  1.10s/it]\u001b[A\n",
      " 95%|█████████▌| 77354/81124 [4:59:29<3:43:23,  3.56s/it]\u001b[A\n",
      " 95%|█████████▌| 77355/81124 [4:59:31<3:10:59,  3.04s/it]\u001b[A\n",
      " 95%|█████████▌| 77356/81124 [5:00:08<13:54:20, 13.29s/it]\u001b[A\n",
      " 95%|█████████▌| 77359/81124 [5:00:09<9:48:47,  9.38s/it] \u001b[A\n",
      " 95%|█████████▌| 77360/81124 [5:00:10<7:09:58,  6.85s/it]\u001b[A\n",
      " 95%|█████████▌| 77361/81124 [5:00:10<5:05:52,  4.88s/it]\u001b[A\n",
      " 95%|█████████▌| 77362/81124 [5:00:11<3:51:47,  3.70s/it]\u001b[A\n",
      " 95%|█████████▌| 77363/81124 [5:00:18<5:03:54,  4.85s/it]\u001b[A\n",
      " 95%|█████████▌| 77364/81124 [5:00:19<3:36:40,  3.46s/it]\u001b[A\n",
      " 95%|█████████▌| 77365/81124 [5:00:27<5:15:24,  5.03s/it]\u001b[A\n",
      " 95%|█████████▌| 77366/81124 [5:00:29<4:17:24,  4.11s/it]\u001b[A"
     ]
    },
    {
     "name": "stdout",
     "output_type": "stream",
     "text": [
      "Infected\n",
      "Infected\n"
     ]
    },
    {
     "name": "stderr",
     "output_type": "stream",
     "text": [
      "\n",
      " 95%|█████████▌| 77367/81124 [5:01:00<12:47:33, 12.26s/it]\u001b[A"
     ]
    },
    {
     "name": "stdout",
     "output_type": "stream",
     "text": [
      "Infected\n"
     ]
    },
    {
     "name": "stderr",
     "output_type": "stream",
     "text": [
      "\n",
      " 95%|█████████▌| 77368/81124 [5:01:18<14:27:54, 13.86s/it]\u001b[A\n",
      " 95%|█████████▌| 77369/81124 [5:01:23<11:40:55, 11.20s/it]\u001b[A"
     ]
    },
    {
     "name": "stdout",
     "output_type": "stream",
     "text": [
      "Infected\n",
      "Infected\n",
      "Infected\n",
      "Infected\n",
      "Infected\n",
      "Infected\n"
     ]
    },
    {
     "name": "stderr",
     "output_type": "stream",
     "text": [
      "\n",
      " 95%|█████████▌| 77371/81124 [5:02:08<15:16:11, 14.65s/it]\u001b[A\n",
      " 95%|█████████▌| 77372/81124 [5:02:09<10:58:43, 10.53s/it]\u001b[A\n",
      " 95%|█████████▌| 77373/81124 [5:02:42<17:47:31, 17.08s/it]\u001b[A\n",
      " 95%|█████████▌| 77374/81124 [5:02:42<12:35:13, 12.08s/it]\u001b[A\n",
      " 95%|█████████▌| 77375/81124 [5:02:43<9:08:35,  8.78s/it] \u001b[A\n",
      " 95%|█████████▌| 77377/81124 [5:02:59<8:48:37,  8.46s/it]\u001b[A\n",
      " 95%|█████████▌| 77378/81124 [5:03:00<6:32:15,  6.28s/it]\u001b[A"
     ]
    },
    {
     "name": "stdout",
     "output_type": "stream",
     "text": [
      "Infected\n",
      "Infected\n",
      "Infected\n",
      "Infected\n",
      "Infected\n",
      "Infected\n",
      "Infected\n"
     ]
    },
    {
     "name": "stderr",
     "output_type": "stream",
     "text": [
      "\n",
      " 95%|█████████▌| 77379/81124 [5:03:06<6:27:25,  6.21s/it]\u001b[A\n",
      " 95%|█████████▌| 77380/81124 [5:03:09<5:25:22,  5.21s/it]\u001b[A\n",
      " 95%|█████████▌| 77381/81124 [5:03:11<4:34:32,  4.40s/it]\u001b[A\n",
      " 95%|█████████▌| 77382/81124 [5:03:13<3:38:02,  3.50s/it]\u001b[A\n",
      " 95%|█████████▌| 77383/81124 [5:03:29<7:33:09,  7.27s/it]\u001b[A\n",
      " 95%|█████████▌| 77384/81124 [5:03:29<5:21:51,  5.16s/it]\u001b[A"
     ]
    },
    {
     "name": "stdout",
     "output_type": "stream",
     "text": [
      "Infected\n"
     ]
    },
    {
     "name": "stderr",
     "output_type": "stream",
     "text": [
      "\n",
      " 95%|█████████▌| 77385/81124 [5:03:32<4:34:33,  4.41s/it]\u001b[A"
     ]
    },
    {
     "name": "stdout",
     "output_type": "stream",
     "text": [
      "Infected\n",
      "Infected\n",
      "Infected\n",
      "Infected\n"
     ]
    },
    {
     "name": "stderr",
     "output_type": "stream",
     "text": [
      "\n",
      " 95%|█████████▌| 77387/81124 [5:03:43<4:55:49,  4.75s/it]\u001b[A\n",
      " 95%|█████████▌| 77388/81124 [5:03:47<4:41:59,  4.53s/it]\u001b[A\n",
      " 95%|█████████▌| 77389/81124 [5:04:23<14:28:24, 13.95s/it]\u001b[A"
     ]
    },
    {
     "name": "stdout",
     "output_type": "stream",
     "text": [
      "Infected\n"
     ]
    },
    {
     "name": "stderr",
     "output_type": "stream",
     "text": [
      "\n",
      " 95%|█████████▌| 77390/81124 [5:04:30<12:24:15, 11.96s/it]\u001b[A"
     ]
    },
    {
     "name": "stdout",
     "output_type": "stream",
     "text": [
      "Infected\n"
     ]
    },
    {
     "name": "stderr",
     "output_type": "stream",
     "text": [
      "\n",
      " 95%|█████████▌| 77392/81124 [5:04:34<9:15:03,  8.92s/it] \u001b[A"
     ]
    },
    {
     "name": "stdout",
     "output_type": "stream",
     "text": [
      "Infected\n",
      "Infected\n"
     ]
    },
    {
     "name": "stderr",
     "output_type": "stream",
     "text": [
      "\n",
      " 95%|█████████▌| 77393/81124 [5:04:38<7:55:05,  7.64s/it]\u001b[A\n",
      " 95%|█████████▌| 77394/81124 [5:04:54<10:19:32,  9.97s/it]\u001b[A\n",
      " 95%|█████████▌| 77395/81124 [5:04:54<7:19:31,  7.07s/it] \u001b[A"
     ]
    },
    {
     "name": "stdout",
     "output_type": "stream",
     "text": [
      "Infected\n",
      "Infected\n"
     ]
    },
    {
     "name": "stderr",
     "output_type": "stream",
     "text": [
      "\n",
      " 95%|█████████▌| 77396/81124 [5:05:06<8:43:45,  8.43s/it]\u001b[A"
     ]
    },
    {
     "name": "stdout",
     "output_type": "stream",
     "text": [
      "Infected\n",
      "Infected\n"
     ]
    },
    {
     "name": "stderr",
     "output_type": "stream",
     "text": [
      "\n",
      " 95%|█████████▌| 77397/81124 [5:05:46<18:37:39, 17.99s/it]\u001b[A\n",
      " 95%|█████████▌| 77398/81124 [5:05:48<13:31:57, 13.07s/it]\u001b[A\n",
      " 95%|█████████▌| 77399/81124 [5:05:48<9:32:44,  9.23s/it] \u001b[A"
     ]
    },
    {
     "name": "stdout",
     "output_type": "stream",
     "text": [
      "Infected\n",
      "Infected\n",
      "Infected\n",
      "Infected\n"
     ]
    },
    {
     "name": "stderr",
     "output_type": "stream",
     "text": [
      "\n",
      " 95%|█████████▌| 77400/81124 [5:05:54<8:41:09,  8.40s/it]\u001b[A\n",
      " 95%|█████████▌| 77401/81124 [5:06:03<8:55:46,  8.63s/it]\u001b[A\n",
      " 95%|█████████▌| 77402/81124 [5:06:20<11:28:41, 11.10s/it]\u001b[A\n",
      " 95%|█████████▌| 77403/81124 [5:06:22<8:30:44,  8.24s/it] \u001b[A\n",
      " 95%|█████████▌| 77404/81124 [5:06:29<8:10:22,  7.91s/it]\u001b[A"
     ]
    },
    {
     "name": "stdout",
     "output_type": "stream",
     "text": [
      "Infected\n"
     ]
    },
    {
     "name": "stderr",
     "output_type": "stream",
     "text": [
      "\n",
      " 95%|█████████▌| 77405/81124 [5:06:41<9:30:16,  9.20s/it]\u001b[A\n",
      " 95%|█████████▌| 77406/81124 [5:06:42<6:54:38,  6.69s/it]\u001b[A\n",
      " 95%|█████████▌| 77407/81124 [5:06:44<5:29:00,  5.31s/it]\u001b[A\n",
      " 95%|█████████▌| 77411/81124 [5:06:53<4:31:12,  4.38s/it]\u001b[A"
     ]
    },
    {
     "name": "stdout",
     "output_type": "stream",
     "text": [
      "Infected\n",
      "Infected\n",
      "Infected\n",
      "Infected\n"
     ]
    },
    {
     "name": "stderr",
     "output_type": "stream",
     "text": [
      "\n",
      " 95%|█████████▌| 77412/81124 [5:07:19<11:15:41, 10.92s/it]\u001b[A\n",
      " 95%|█████████▌| 77413/81124 [5:07:20<8:15:15,  8.01s/it] \u001b[A\n",
      " 95%|█████████▌| 77414/81124 [5:07:24<6:55:01,  6.71s/it]\u001b[A\n",
      " 95%|█████████▌| 77415/81124 [5:07:26<5:25:39,  5.27s/it]\u001b[A\n",
      " 95%|█████████▌| 77417/81124 [5:07:40<6:01:25,  5.85s/it]\u001b[A\n",
      " 95%|█████████▌| 77418/81124 [5:07:42<4:39:56,  4.53s/it]\u001b[A"
     ]
    },
    {
     "name": "stdout",
     "output_type": "stream",
     "text": [
      "Infected\n"
     ]
    },
    {
     "name": "stderr",
     "output_type": "stream",
     "text": [
      "\n",
      " 95%|█████████▌| 77419/81124 [5:07:43<3:35:42,  3.49s/it]\u001b[A\n",
      " 95%|█████████▌| 77422/81124 [5:07:44<2:35:00,  2.51s/it]\u001b[A\n",
      " 95%|█████████▌| 77424/81124 [5:07:44<1:50:17,  1.79s/it]\u001b[A\n",
      " 95%|█████████▌| 77425/81124 [5:07:45<1:31:07,  1.48s/it]\u001b[A\n",
      " 95%|█████████▌| 77426/81124 [5:08:37<17:22:30, 16.91s/it]\u001b[A\n",
      " 95%|█████████▌| 77427/81124 [5:08:47<15:13:52, 14.83s/it]\u001b[A\n",
      " 95%|█████████▌| 77428/81124 [5:08:51<11:49:28, 11.52s/it]\u001b[A\n",
      " 95%|█████████▌| 77429/81124 [5:08:53<8:52:40,  8.65s/it] \u001b[A\n",
      " 95%|█████████▌| 77430/81124 [5:08:58<7:38:03,  7.44s/it]\u001b[A\n",
      " 95%|█████████▌| 77431/81124 [5:08:59<5:43:00,  5.57s/it]\u001b[A\n",
      " 95%|█████████▌| 77432/81124 [5:09:07<6:27:09,  6.29s/it]\u001b[A"
     ]
    },
    {
     "name": "stdout",
     "output_type": "stream",
     "text": [
      "Infected\n"
     ]
    },
    {
     "name": "stderr",
     "output_type": "stream",
     "text": [
      "\n",
      " 95%|█████████▌| 77433/81124 [5:09:16<7:21:57,  7.18s/it]\u001b[A"
     ]
    },
    {
     "name": "stdout",
     "output_type": "stream",
     "text": [
      "Infected\n"
     ]
    },
    {
     "name": "stderr",
     "output_type": "stream",
     "text": [
      "\n",
      " 95%|█████████▌| 77434/81124 [5:09:18<5:44:08,  5.60s/it]\u001b[A\n",
      " 95%|█████████▌| 77435/81124 [5:09:20<4:26:04,  4.33s/it]\u001b[A\n",
      " 95%|█████████▌| 77436/81124 [5:09:20<3:19:07,  3.24s/it]\u001b[A\n",
      " 95%|█████████▌| 77437/81124 [5:09:21<2:25:22,  2.37s/it]\u001b[A\n",
      " 95%|█████████▌| 77438/81124 [5:09:22<2:05:37,  2.04s/it]\u001b[A\n",
      " 95%|█████████▌| 77439/81124 [5:09:54<11:23:11, 11.12s/it]\u001b[A"
     ]
    },
    {
     "name": "stdout",
     "output_type": "stream",
     "text": [
      "Infected\n"
     ]
    },
    {
     "name": "stderr",
     "output_type": "stream",
     "text": [
      "\n",
      " 95%|█████████▌| 77440/81124 [5:09:57<8:58:26,  8.77s/it] \u001b[A"
     ]
    },
    {
     "name": "stdout",
     "output_type": "stream",
     "text": [
      "Infected\n"
     ]
    },
    {
     "name": "stderr",
     "output_type": "stream",
     "text": [
      "\n",
      " 95%|█████████▌| 77441/81124 [5:10:22<13:50:29, 13.53s/it]\u001b[A\n",
      " 95%|█████████▌| 77442/81124 [5:10:22<9:45:47,  9.55s/it] \u001b[A\n",
      " 95%|█████████▌| 77443/81124 [5:10:23<6:56:42,  6.79s/it]\u001b[A\n",
      " 95%|█████████▌| 77444/81124 [5:11:08<18:40:37, 18.27s/it]\u001b[A"
     ]
    },
    {
     "name": "stdout",
     "output_type": "stream",
     "text": [
      "Infected\n",
      "Infected\n",
      "Infected\n",
      "Infected\n",
      "Infected\n",
      "Infected\n"
     ]
    },
    {
     "name": "stderr",
     "output_type": "stream",
     "text": [
      "\n",
      " 95%|█████████▌| 77445/81124 [5:11:23<17:37:58, 17.25s/it]\u001b[A\n",
      " 95%|█████████▌| 77446/81124 [5:11:23<12:28:31, 12.21s/it]\u001b[A\n",
      " 95%|█████████▌| 77447/81124 [5:11:24<8:59:18,  8.80s/it] \u001b[A\n",
      " 95%|█████████▌| 77449/81124 [5:11:33<7:37:27,  7.47s/it]\u001b[A\n",
      " 95%|█████████▌| 77450/81124 [5:11:34<5:37:40,  5.51s/it]\u001b[A"
     ]
    },
    {
     "name": "stdout",
     "output_type": "stream",
     "text": [
      "Infected\n",
      "Infected\n"
     ]
    },
    {
     "name": "stderr",
     "output_type": "stream",
     "text": [
      "\n",
      " 95%|█████████▌| 77453/81124 [5:11:45<5:03:18,  4.96s/it]\u001b[A\n",
      " 95%|█████████▌| 77455/81124 [5:11:51<4:27:02,  4.37s/it]\u001b[A"
     ]
    },
    {
     "name": "stdout",
     "output_type": "stream",
     "text": [
      "Infected\n",
      "Infected\n",
      "Infected\n",
      "Infected\n",
      "Infected\n",
      "Infected\n",
      "Infected\n",
      "Infected\n",
      "Infected\n",
      "Infected\n",
      "Infected\n",
      "Infected\n",
      "Infected\n",
      "Infected\n",
      "Infected\n"
     ]
    },
    {
     "name": "stderr",
     "output_type": "stream",
     "text": [
      "\n",
      " 95%|█████████▌| 77456/81124 [5:12:10<8:58:34,  8.81s/it]\u001b[A\n",
      " 95%|█████████▌| 77457/81124 [5:12:11<6:33:03,  6.43s/it]\u001b[A"
     ]
    },
    {
     "name": "stdout",
     "output_type": "stream",
     "text": [
      "Infected\n"
     ]
    },
    {
     "name": "stderr",
     "output_type": "stream",
     "text": [
      "\n",
      " 95%|█████████▌| 77458/81124 [5:12:17<6:34:13,  6.45s/it]\u001b[A\n",
      " 95%|█████████▌| 77460/81124 [5:12:19<4:52:16,  4.79s/it]\u001b[A\n",
      " 95%|█████████▌| 77461/81124 [5:12:21<4:07:54,  4.06s/it]\u001b[A\n",
      " 95%|█████████▌| 77462/81124 [5:12:22<3:00:45,  2.96s/it]\u001b[A\n",
      " 95%|█████████▌| 77463/81124 [5:12:26<3:26:21,  3.38s/it]\u001b[A\n",
      " 95%|█████████▌| 77464/81124 [5:12:27<2:47:01,  2.74s/it]\u001b[A\n",
      " 95%|█████████▌| 77465/81124 [5:12:32<3:16:02,  3.21s/it]\u001b[A\n",
      " 95%|█████████▌| 77466/81124 [5:12:47<7:03:27,  6.95s/it]\u001b[A\n",
      " 95%|█████████▌| 77467/81124 [5:12:47<5:00:51,  4.94s/it]\u001b[A\n",
      " 95%|█████████▌| 77468/81124 [5:12:49<3:59:38,  3.93s/it]\u001b[A\n",
      " 95%|█████████▌| 77469/81124 [5:12:54<4:11:38,  4.13s/it]\u001b[A"
     ]
    },
    {
     "name": "stdout",
     "output_type": "stream",
     "text": [
      "Infected\n"
     ]
    },
    {
     "name": "stderr",
     "output_type": "stream",
     "text": [
      "\n",
      " 95%|█████████▌| 77470/81124 [5:13:01<5:01:55,  4.96s/it]\u001b[A\n",
      " 95%|█████████▌| 77473/81124 [5:13:01<3:36:01,  3.55s/it]\u001b[A\n",
      " 96%|█████████▌| 77474/81124 [5:13:06<3:47:33,  3.74s/it]\u001b[A\n",
      " 96%|█████████▌| 77475/81124 [5:13:07<3:08:57,  3.11s/it]\u001b[A\n",
      " 96%|█████████▌| 77478/81124 [5:13:45<6:01:24,  5.95s/it]\u001b[A"
     ]
    },
    {
     "name": "stdout",
     "output_type": "stream",
     "text": [
      "Infected\n",
      "Infected\n",
      "Infected\n",
      "Infected\n",
      "Infected\n",
      "Infected\n"
     ]
    },
    {
     "name": "stderr",
     "output_type": "stream",
     "text": [
      "\n",
      " 96%|█████████▌| 77479/81124 [5:13:57<7:46:51,  7.68s/it]\u001b[A\n",
      " 96%|█████████▌| 77480/81124 [5:14:06<8:18:00,  8.20s/it]\u001b[A\n",
      " 96%|█████████▌| 77481/81124 [5:14:14<8:15:52,  8.17s/it]\u001b[A"
     ]
    },
    {
     "name": "stdout",
     "output_type": "stream",
     "text": [
      "Infected\n"
     ]
    },
    {
     "name": "stderr",
     "output_type": "stream",
     "text": [
      "\n",
      " 96%|█████████▌| 77482/81124 [5:14:20<7:42:19,  7.62s/it]\u001b[A\n",
      " 96%|█████████▌| 77484/81124 [5:14:25<6:04:48,  6.01s/it]\u001b[A\n",
      " 96%|█████████▌| 77486/81124 [5:14:39<6:18:52,  6.25s/it]\u001b[A"
     ]
    },
    {
     "name": "stdout",
     "output_type": "stream",
     "text": [
      "Infected\n"
     ]
    },
    {
     "name": "stderr",
     "output_type": "stream",
     "text": [
      "\n",
      " 96%|█████████▌| 77488/81124 [5:14:41<4:45:35,  4.71s/it]\u001b[A\n",
      " 96%|█████████▌| 77489/81124 [5:14:50<6:01:18,  5.96s/it]\u001b[A\n",
      " 96%|█████████▌| 77490/81124 [5:14:52<4:59:53,  4.95s/it]\u001b[A\n",
      " 96%|█████████▌| 77491/81124 [5:14:53<3:37:44,  3.60s/it]\u001b[A\n",
      " 96%|█████████▌| 77492/81124 [5:14:53<2:36:21,  2.58s/it]\u001b[A\n",
      " 96%|█████████▌| 77493/81124 [5:15:06<5:41:02,  5.64s/it]\u001b[A\n",
      " 96%|█████████▌| 77494/81124 [5:15:06<4:12:31,  4.17s/it]\u001b[A\n",
      " 96%|█████████▌| 77496/81124 [5:15:08<3:10:57,  3.16s/it]\u001b[A\n",
      " 96%|█████████▌| 77497/81124 [5:15:12<3:24:55,  3.39s/it]\u001b[A\n",
      " 96%|█████████▌| 77498/81124 [5:15:16<3:36:50,  3.59s/it]\u001b[A\n",
      " 96%|█████████▌| 77499/81124 [5:15:21<4:01:30,  4.00s/it]\u001b[A\n",
      " 96%|█████████▌| 77500/81124 [5:15:50<11:42:13, 11.63s/it]\u001b[A"
     ]
    },
    {
     "name": "stdout",
     "output_type": "stream",
     "text": [
      "Infected\n"
     ]
    },
    {
     "name": "stderr",
     "output_type": "stream",
     "text": [
      "\n",
      " 96%|█████████▌| 77501/81124 [5:16:29<19:57:24, 19.83s/it]\u001b[A"
     ]
    },
    {
     "name": "stdout",
     "output_type": "stream",
     "text": [
      "Infected\n"
     ]
    },
    {
     "name": "stderr",
     "output_type": "stream",
     "text": [
      "\n",
      " 96%|█████████▌| 77502/81124 [5:16:33<15:07:57, 15.04s/it]\u001b[A\n",
      " 96%|█████████▌| 77503/81124 [5:17:13<22:32:52, 22.42s/it]\u001b[A\n",
      " 96%|█████████▌| 77504/81124 [5:17:15<16:33:50, 16.47s/it]\u001b[A\n",
      " 96%|█████████▌| 77505/81124 [5:17:18<12:18:06, 12.24s/it]\u001b[A\n",
      " 96%|█████████▌| 77506/81124 [5:17:28<11:41:33, 11.63s/it]\u001b[A\n",
      " 96%|█████████▌| 77507/81124 [5:17:44<12:55:18, 12.86s/it]\u001b[A\n",
      " 96%|█████████▌| 77508/81124 [5:17:56<12:37:36, 12.57s/it]\u001b[A"
     ]
    },
    {
     "name": "stdout",
     "output_type": "stream",
     "text": [
      "Infected\n"
     ]
    },
    {
     "name": "stderr",
     "output_type": "stream",
     "text": [
      "\n",
      " 96%|█████████▌| 77509/81124 [5:18:00<10:11:34, 10.15s/it]\u001b[A\n",
      " 96%|█████████▌| 77510/81124 [5:18:10<10:05:24, 10.05s/it]\u001b[A\n",
      " 96%|█████████▌| 77511/81124 [5:18:12<7:33:15,  7.53s/it] \u001b[A\n",
      " 96%|█████████▌| 77512/81124 [5:18:15<6:12:22,  6.19s/it]\u001b[A\n",
      " 96%|█████████▌| 77513/81124 [5:18:34<10:07:41, 10.10s/it]\u001b[A\n",
      " 96%|█████████▌| 77514/81124 [5:19:40<26:48:58, 26.74s/it]\u001b[A\n",
      " 96%|█████████▌| 77516/81124 [5:20:12<23:42:27, 23.66s/it]\u001b[A\n",
      " 96%|█████████▌| 77517/81124 [5:20:16<17:34:53, 17.55s/it]\u001b[A\n",
      " 96%|█████████▌| 77518/81124 [5:20:41<19:50:16, 19.80s/it]\u001b[A\n",
      " 96%|█████████▌| 77519/81124 [5:21:58<37:04:49, 37.03s/it]\u001b[A"
     ]
    },
    {
     "name": "stdout",
     "output_type": "stream",
     "text": [
      "Infected\n"
     ]
    },
    {
     "name": "stderr",
     "output_type": "stream",
     "text": [
      "\n",
      " 96%|█████████▌| 77520/81124 [5:22:07<28:30:11, 28.47s/it]\u001b[A\n",
      " 96%|█████████▌| 77521/81124 [5:22:11<21:24:08, 21.38s/it]\u001b[A\n",
      " 96%|█████████▌| 77522/81124 [5:22:54<27:46:08, 27.75s/it]\u001b[A\n",
      " 96%|█████████▌| 77523/81124 [5:22:57<20:24:39, 20.41s/it]\u001b[A\n",
      " 96%|█████████▌| 77524/81124 [5:23:54<31:24:15, 31.40s/it]\u001b[A\n",
      " 96%|█████████▌| 77525/81124 [5:27:50<92:48:00, 92.83s/it]\u001b[A\n",
      " 96%|█████████▌| 77526/81124 [5:31:39<133:26:35, 133.52s/it]\u001b[A\n",
      " 96%|█████████▌| 77527/81124 [5:31:47<95:41:36, 95.77s/it]  \u001b[A\n",
      " 96%|█████████▌| 77528/81124 [5:31:52<68:33:35, 68.64s/it]\u001b[A\n",
      " 96%|█████████▌| 77530/81124 [5:33:27<62:09:44, 62.27s/it]\u001b[A\n",
      " 96%|█████████▌| 77531/81124 [5:33:27<43:43:05, 43.80s/it]\u001b[A"
     ]
    },
    {
     "name": "stdout",
     "output_type": "stream",
     "text": [
      "Infected\n"
     ]
    },
    {
     "name": "stderr",
     "output_type": "stream",
     "text": [
      "\n",
      " 96%|█████████▌| 77532/81124 [5:35:02<58:47:16, 58.92s/it]\u001b[A"
     ]
    },
    {
     "name": "stdout",
     "output_type": "stream",
     "text": [
      "Infected\n"
     ]
    },
    {
     "name": "stderr",
     "output_type": "stream",
     "text": [
      "\n",
      " 96%|█████████▌| 77533/81124 [5:35:09<43:13:31, 43.33s/it]\u001b[A\n",
      " 96%|█████████▌| 77535/81124 [5:35:09<30:18:56, 30.41s/it]\u001b[A\n",
      " 96%|█████████▌| 77537/81124 [5:35:09<21:13:58, 21.31s/it]\u001b[A\n",
      " 96%|█████████▌| 77538/81124 [5:35:10<15:08:49, 15.21s/it]\u001b[A\n",
      " 96%|█████████▌| 77539/81124 [5:35:11<10:55:13, 10.97s/it]\u001b[A\n",
      " 96%|█████████▌| 77540/81124 [5:35:11<7:41:10,  7.72s/it] \u001b[A\n",
      " 96%|█████████▌| 77541/81124 [5:35:12<5:36:42,  5.64s/it]\u001b[A\n",
      " 96%|█████████▌| 77542/81124 [5:35:56<17:03:09, 17.14s/it]\u001b[A\n",
      " 96%|█████████▌| 77543/81124 [5:35:57<12:09:38, 12.23s/it]\u001b[A\n",
      " 96%|█████████▌| 77544/81124 [5:36:30<18:30:13, 18.61s/it]\u001b[A\n",
      " 96%|█████████▌| 77545/81124 [5:36:57<20:49:22, 20.95s/it]\u001b[A\n",
      " 96%|█████████▌| 77546/81124 [5:37:13<19:24:13, 19.52s/it]\u001b[A\n",
      " 96%|█████████▌| 77547/81124 [5:37:52<25:11:40, 25.36s/it]\u001b[A\n",
      " 96%|█████████▌| 77548/81124 [5:37:53<17:57:26, 18.08s/it]\u001b[A\n",
      " 96%|█████████▌| 77549/81124 [5:38:19<20:18:48, 20.46s/it]\u001b[A\n",
      " 96%|█████████▌| 77550/81124 [5:39:03<27:22:55, 27.58s/it]\u001b[A\n",
      " 96%|█████████▌| 77552/81124 [5:39:04<19:18:44, 19.46s/it]\u001b[A\n",
      " 96%|█████████▌| 77554/81124 [5:39:06<13:43:04, 13.83s/it]\u001b[A\n",
      " 96%|█████████▌| 77555/81124 [5:39:28<16:07:37, 16.27s/it]\u001b[A\n",
      " 96%|█████████▌| 77557/81124 [5:39:35<12:21:43, 12.48s/it]\u001b[A\n",
      " 96%|█████████▌| 77559/81124 [5:39:45<10:06:59, 10.22s/it]\u001b[A\n",
      " 96%|█████████▌| 77560/81124 [5:39:46<7:27:55,  7.54s/it] \u001b[A\n",
      " 96%|█████████▌| 77562/81124 [5:39:48<5:33:34,  5.62s/it]\u001b[A\n",
      " 96%|█████████▌| 77563/81124 [5:39:53<5:19:25,  5.38s/it]\u001b[A\n",
      " 96%|█████████▌| 77564/81124 [5:39:55<4:17:10,  4.33s/it]\u001b[A\n",
      " 96%|█████████▌| 77565/81124 [5:39:56<3:18:21,  3.34s/it]\u001b[A\n",
      " 96%|█████████▌| 77566/81124 [5:39:57<2:26:20,  2.47s/it]\u001b[A"
     ]
    },
    {
     "name": "stdout",
     "output_type": "stream",
     "text": [
      "Infected\n"
     ]
    },
    {
     "name": "stderr",
     "output_type": "stream",
     "text": [
      "\n",
      " 96%|█████████▌| 77567/81124 [5:40:05<4:16:04,  4.32s/it]\u001b[A\n",
      " 96%|█████████▌| 77568/81124 [5:40:11<4:34:49,  4.64s/it]\u001b[A"
     ]
    },
    {
     "name": "stdout",
     "output_type": "stream",
     "text": [
      "Infected\n"
     ]
    },
    {
     "name": "stderr",
     "output_type": "stream",
     "text": [
      "\n",
      " 96%|█████████▌| 77570/81124 [5:40:31<6:14:17,  6.32s/it]\u001b[A\n",
      " 96%|█████████▌| 77571/81124 [5:40:32<4:28:48,  4.54s/it]\u001b[A\n",
      " 96%|█████████▌| 77574/81124 [5:40:34<3:23:57,  3.45s/it]\u001b[A\n",
      " 96%|█████████▌| 77576/81124 [5:40:50<4:39:49,  4.73s/it]\u001b[A\n",
      " 96%|█████████▌| 77578/81124 [5:40:50<3:17:54,  3.35s/it]\u001b[A\n",
      " 96%|█████████▌| 77579/81124 [5:40:59<5:04:14,  5.15s/it]\u001b[A\n",
      " 96%|█████████▌| 77580/81124 [5:41:00<3:37:18,  3.68s/it]\u001b[A"
     ]
    },
    {
     "name": "stdout",
     "output_type": "stream",
     "text": [
      "Infected\n"
     ]
    },
    {
     "name": "stderr",
     "output_type": "stream",
     "text": [
      "\n",
      " 96%|█████████▌| 77581/81124 [5:41:26<10:13:38, 10.39s/it]\u001b[A\n",
      " 96%|█████████▌| 77583/81124 [5:42:10<13:44:47, 13.98s/it]\u001b[A\n",
      " 96%|█████████▌| 77584/81124 [5:42:51<21:47:08, 22.15s/it]\u001b[A\n",
      " 96%|█████████▌| 77585/81124 [5:42:55<16:16:11, 16.55s/it]\u001b[A\n",
      " 96%|█████████▌| 77586/81124 [5:42:56<11:40:45, 11.88s/it]\u001b[A\n",
      " 96%|█████████▌| 77587/81124 [5:43:02<10:05:28, 10.27s/it]\u001b[A\n",
      " 96%|█████████▌| 77588/81124 [5:43:33<15:58:08, 16.26s/it]\u001b[A\n",
      " 96%|█████████▌| 77589/81124 [5:43:34<11:25:45, 11.64s/it]\u001b[A\n",
      " 96%|█████████▌| 77591/81124 [5:43:35<8:09:30,  8.31s/it] \u001b[A\n",
      " 96%|█████████▌| 77592/81124 [5:43:39<6:52:23,  7.01s/it]\u001b[A\n",
      " 96%|█████████▌| 77593/81124 [5:43:40<5:06:13,  5.20s/it]\u001b[A\n",
      " 96%|█████████▌| 77594/81124 [5:43:41<3:50:39,  3.92s/it]\u001b[A"
     ]
    },
    {
     "name": "stdout",
     "output_type": "stream",
     "text": [
      "Infected\n",
      "Infected\n"
     ]
    },
    {
     "name": "stderr",
     "output_type": "stream",
     "text": [
      "\n",
      " 96%|█████████▌| 77595/81124 [5:44:00<8:21:20,  8.52s/it]\u001b[A\n",
      " 96%|█████████▌| 77596/81124 [5:44:10<8:52:55,  9.06s/it]\u001b[A\n",
      " 96%|█████████▌| 77597/81124 [5:44:20<9:00:35,  9.20s/it]\u001b[A\n",
      " 96%|█████████▌| 77599/81124 [5:44:32<8:08:34,  8.32s/it]\u001b[A\n",
      " 96%|█████████▌| 77600/81124 [5:45:07<15:50:18, 16.18s/it]\u001b[A\n",
      " 96%|█████████▌| 77601/81124 [5:45:09<11:48:24, 12.06s/it]\u001b[A"
     ]
    },
    {
     "name": "stdout",
     "output_type": "stream",
     "text": [
      "Infected\n",
      "Infected\n"
     ]
    },
    {
     "name": "stderr",
     "output_type": "stream",
     "text": [
      "\n",
      " 96%|█████████▌| 77602/81124 [5:45:20<11:34:39, 11.83s/it]\u001b[A\n",
      " 96%|█████████▌| 77603/81124 [5:45:32<11:24:31, 11.66s/it]\u001b[A\n",
      " 96%|█████████▌| 77604/81124 [5:45:33<8:19:05,  8.51s/it] \u001b[A\n",
      " 96%|█████████▌| 77605/81124 [5:45:51<11:10:11, 11.43s/it]\u001b[A\n",
      " 96%|█████████▌| 77606/81124 [5:46:13<14:07:51, 14.46s/it]\u001b[A\n",
      " 96%|█████████▌| 77607/81124 [5:46:27<14:02:19, 14.37s/it]\u001b[A\n",
      " 96%|█████████▌| 77610/81124 [5:46:28<9:57:51, 10.21s/it] \u001b[A\n",
      " 96%|█████████▌| 77611/81124 [5:46:56<14:58:01, 15.34s/it]\u001b[A\n",
      " 96%|█████████▌| 77613/81124 [5:47:06<12:00:12, 12.31s/it]\u001b[A\n",
      " 96%|█████████▌| 77614/81124 [5:47:10<9:29:12,  9.73s/it] \u001b[A\n",
      " 96%|█████████▌| 77615/81124 [5:47:36<14:13:30, 14.59s/it]\u001b[A\n",
      " 96%|█████████▌| 77616/81124 [5:47:37<10:19:49, 10.60s/it]\u001b[A\n",
      " 96%|█████████▌| 77617/81124 [5:48:14<17:58:18, 18.45s/it]\u001b[A\n",
      " 96%|█████████▌| 77619/81124 [5:48:16<12:50:52, 13.20s/it]\u001b[A\n",
      " 96%|█████████▌| 77620/81124 [5:48:16<9:03:39,  9.31s/it] \u001b[A\n",
      " 96%|█████████▌| 77621/81124 [5:48:32<11:06:14, 11.41s/it]\u001b[A\n",
      " 96%|█████████▌| 77622/81124 [5:48:32<7:50:57,  8.07s/it] \u001b[A\n",
      " 96%|█████████▌| 77623/81124 [5:48:35<6:16:48,  6.46s/it]\u001b[A"
     ]
    },
    {
     "name": "stdout",
     "output_type": "stream",
     "text": [
      "Infected\n"
     ]
    },
    {
     "name": "stderr",
     "output_type": "stream",
     "text": [
      "\n",
      " 96%|█████████▌| 77624/81124 [5:48:37<4:49:43,  4.97s/it]\u001b[A\n",
      " 96%|█████████▌| 77625/81124 [5:48:37<3:25:45,  3.53s/it]\u001b[A\n",
      " 96%|█████████▌| 77626/81124 [5:48:38<2:52:38,  2.96s/it]\u001b[A\n",
      " 96%|█████████▌| 77627/81124 [5:48:41<2:49:03,  2.90s/it]\u001b[A\n",
      " 96%|█████████▌| 77629/81124 [5:48:52<3:28:24,  3.58s/it]\u001b[A\n",
      " 96%|█████████▌| 77630/81124 [5:48:55<3:23:05,  3.49s/it]\u001b[A\n",
      " 96%|█████████▌| 77631/81124 [5:49:30<12:43:25, 13.11s/it]\u001b[A\n",
      " 96%|█████████▌| 77632/81124 [5:49:43<12:40:30, 13.07s/it]\u001b[A"
     ]
    },
    {
     "name": "stdout",
     "output_type": "stream",
     "text": [
      "Infected\n",
      "Infected\n"
     ]
    },
    {
     "name": "stderr",
     "output_type": "stream",
     "text": [
      "\n",
      " 96%|█████████▌| 77633/81124 [5:50:24<20:42:20, 21.35s/it]\u001b[A\n",
      " 96%|█████████▌| 77634/81124 [5:50:30<16:12:07, 16.71s/it]\u001b[A\n",
      " 96%|█████████▌| 77636/81124 [5:50:33<11:45:55, 12.14s/it]\u001b[A"
     ]
    },
    {
     "name": "stdout",
     "output_type": "stream",
     "text": [
      "Infected\n",
      "Infected\n"
     ]
    },
    {
     "name": "stderr",
     "output_type": "stream",
     "text": [
      "\n",
      " 96%|█████████▌| 77637/81124 [5:50:52<13:55:10, 14.37s/it]\u001b[A\n",
      " 96%|█████████▌| 77638/81124 [5:51:07<13:50:36, 14.30s/it]\u001b[A\n",
      " 96%|█████████▌| 77639/81124 [5:51:07<9:54:55, 10.24s/it] \u001b[A\n",
      " 96%|█████████▌| 77641/81124 [5:51:09<7:08:01,  7.37s/it]\u001b[A\n",
      " 96%|█████████▌| 77642/81124 [5:51:10<5:13:59,  5.41s/it]\u001b[A\n",
      " 96%|█████████▌| 77644/81124 [5:51:42<8:25:48,  8.72s/it]\u001b[A"
     ]
    },
    {
     "name": "stdout",
     "output_type": "stream",
     "text": [
      "Infected\n",
      "Infected\n"
     ]
    },
    {
     "name": "stderr",
     "output_type": "stream",
     "text": [
      "\n",
      " 96%|█████████▌| 77645/81124 [5:51:47<7:09:22,  7.41s/it]\u001b[A\n",
      " 96%|█████████▌| 77646/81124 [5:52:28<17:05:51, 17.70s/it]\u001b[A\n",
      " 96%|█████████▌| 77649/81124 [5:52:30<12:05:45, 12.53s/it]\u001b[A\n",
      " 96%|█████████▌| 77650/81124 [5:52:41<11:38:28, 12.06s/it]\u001b[A"
     ]
    },
    {
     "name": "stdout",
     "output_type": "stream",
     "text": [
      "Infected\n",
      "Infected\n"
     ]
    },
    {
     "name": "stderr",
     "output_type": "stream",
     "text": [
      "\n",
      " 96%|█████████▌| 77651/81124 [5:52:49<10:32:53, 10.93s/it]\u001b[A\n",
      " 96%|█████████▌| 77652/81124 [5:53:22<16:49:11, 17.44s/it]\u001b[A\n",
      " 96%|█████████▌| 77653/81124 [5:54:07<24:45:16, 25.67s/it]\u001b[A\n",
      " 96%|█████████▌| 77654/81124 [5:54:08<17:48:51, 18.48s/it]\u001b[A"
     ]
    },
    {
     "name": "stdout",
     "output_type": "stream",
     "text": [
      "Infected\n"
     ]
    },
    {
     "name": "stderr",
     "output_type": "stream",
     "text": [
      "\n",
      " 96%|█████████▌| 77655/81124 [5:54:33<19:40:09, 20.41s/it]\u001b[A\n",
      " 96%|█████████▌| 77656/81124 [5:54:45<17:01:43, 17.68s/it]\u001b[A\n",
      " 96%|█████████▌| 77658/81124 [5:54:46<12:03:04, 12.52s/it]\u001b[A\n",
      " 96%|█████████▌| 77659/81124 [5:54:49<9:24:07,  9.77s/it] \u001b[A\n",
      " 96%|█████████▌| 77662/81124 [5:55:39<11:23:30, 11.85s/it]\u001b[A\n",
      " 96%|█████████▌| 77663/81124 [5:56:13<17:50:42, 18.56s/it]\u001b[A\n",
      " 96%|█████████▌| 77664/81124 [5:56:19<14:05:45, 14.67s/it]\u001b[A\n",
      " 96%|█████████▌| 77665/81124 [5:56:31<13:22:27, 13.92s/it]\u001b[A\n",
      " 96%|█████████▌| 77666/81124 [5:56:33<10:00:01, 10.41s/it]\u001b[A\n",
      " 96%|█████████▌| 77667/81124 [5:56:34<7:17:16,  7.59s/it] \u001b[A\n",
      " 96%|█████████▌| 77669/81124 [5:57:01<8:54:12,  9.28s/it]\u001b[A\n",
      " 96%|█████████▌| 77670/81124 [5:57:10<9:01:06,  9.40s/it]\u001b[A\n",
      " 96%|█████████▌| 77671/81124 [5:57:12<6:40:13,  6.95s/it]\u001b[A\n",
      " 96%|█████████▌| 77672/81124 [5:57:12<4:44:00,  4.94s/it]\u001b[A\n",
      " 96%|█████████▌| 77676/81124 [5:57:13<3:22:59,  3.53s/it]\u001b[A\n",
      " 96%|█████████▌| 77678/81124 [5:57:31<5:02:18,  5.26s/it]\u001b[A\n",
      " 96%|█████████▌| 77679/81124 [5:57:42<6:26:49,  6.74s/it]\u001b[A\n",
      " 96%|█████████▌| 77680/81124 [5:58:18<14:53:57, 15.57s/it]\u001b[A\n",
      " 96%|█████████▌| 77681/81124 [5:59:05<23:57:12, 25.05s/it]\u001b[A\n",
      " 96%|█████████▌| 77682/81124 [5:59:09<17:50:40, 18.66s/it]\u001b[A\n",
      " 96%|█████████▌| 77683/81124 [5:59:18<15:17:14, 15.99s/it]\u001b[A\n",
      " 96%|█████████▌| 77685/81124 [5:59:22<11:11:54, 11.72s/it]\u001b[A\n",
      " 96%|█████████▌| 77686/81124 [5:59:27<9:18:27,  9.75s/it] \u001b[A\n",
      " 96%|█████████▌| 77689/81124 [5:59:35<7:13:01,  7.56s/it]\u001b[A\n",
      " 96%|█████████▌| 77690/81124 [5:59:38<6:02:19,  6.33s/it]\u001b[A\n",
      " 96%|█████████▌| 77691/81124 [5:59:41<5:00:18,  5.25s/it]\u001b[A\n",
      " 96%|█████████▌| 77692/81124 [5:59:42<3:47:52,  3.98s/it]\u001b[A\n",
      " 96%|█████████▌| 77693/81124 [5:59:54<6:10:20,  6.48s/it]\u001b[A\n",
      " 96%|█████████▌| 77694/81124 [6:00:11<9:12:29,  9.66s/it]\u001b[A\n",
      " 96%|█████████▌| 77695/81124 [6:00:30<11:52:19, 12.46s/it]\u001b[A\n",
      " 96%|█████████▌| 77696/81124 [6:00:34<9:22:46,  9.85s/it] \u001b[A"
     ]
    },
    {
     "name": "stdout",
     "output_type": "stream",
     "text": [
      "Infected\n"
     ]
    },
    {
     "name": "stderr",
     "output_type": "stream",
     "text": [
      "\n",
      " 96%|█████████▌| 77697/81124 [6:00:39<7:58:47,  8.38s/it]\u001b[A\n",
      " 96%|█████████▌| 77698/81124 [6:00:42<6:33:57,  6.90s/it]\u001b[A\n",
      " 96%|█████████▌| 77699/81124 [6:01:11<12:44:07, 13.39s/it]\u001b[A\n",
      " 96%|█████████▌| 77701/81124 [6:01:15<9:29:20,  9.98s/it] \u001b[A\n",
      " 96%|█████████▌| 77702/81124 [6:01:22<8:44:06,  9.19s/it]\u001b[A\n",
      " 96%|█████████▌| 77703/81124 [6:01:23<6:14:28,  6.57s/it]\u001b[A\n",
      " 96%|█████████▌| 77704/81124 [6:01:29<6:07:37,  6.45s/it]\u001b[A\n",
      " 96%|█████████▌| 77705/81124 [6:01:29<4:22:21,  4.60s/it]\u001b[A\n",
      " 96%|█████████▌| 77706/81124 [6:01:31<3:38:17,  3.83s/it]\u001b[A\n",
      " 96%|█████████▌| 77707/81124 [6:01:31<2:36:11,  2.74s/it]\u001b[A"
     ]
    },
    {
     "name": "stdout",
     "output_type": "stream",
     "text": [
      "Infected\n"
     ]
    },
    {
     "name": "stderr",
     "output_type": "stream",
     "text": [
      "\n",
      " 96%|█████████▌| 77708/81124 [6:02:09<12:31:49, 13.21s/it]\u001b[A"
     ]
    },
    {
     "name": "stdout",
     "output_type": "stream",
     "text": [
      "Infected\n"
     ]
    },
    {
     "name": "stderr",
     "output_type": "stream",
     "text": [
      "\n",
      " 96%|█████████▌| 77709/81124 [6:02:13<9:50:19, 10.37s/it] \u001b[A\n",
      " 96%|█████████▌| 77710/81124 [6:02:13<6:56:20,  7.32s/it]\u001b[A\n",
      " 96%|█████████▌| 77711/81124 [6:02:54<16:25:22, 17.32s/it]\u001b[A\n",
      " 96%|█████████▌| 77712/81124 [6:02:57<12:19:22, 13.00s/it]\u001b[A\n",
      " 96%|█████████▌| 77713/81124 [6:02:57<8:40:42,  9.16s/it] \u001b[A\n",
      " 96%|█████████▌| 77714/81124 [6:03:35<17:05:08, 18.04s/it]\u001b[A"
     ]
    },
    {
     "name": "stdout",
     "output_type": "stream",
     "text": [
      "Infected\n"
     ]
    },
    {
     "name": "stderr",
     "output_type": "stream",
     "text": [
      "\n",
      " 96%|█████████▌| 77715/81124 [6:04:01<19:16:17, 20.35s/it]\u001b[A\n",
      " 96%|█████████▌| 77716/81124 [6:04:03<13:55:42, 14.71s/it]\u001b[A\n",
      " 96%|█████████▌| 77718/81124 [6:04:03<9:46:08, 10.33s/it] \u001b[A\n",
      " 96%|█████████▌| 77719/81124 [6:04:14<9:57:11, 10.52s/it]\u001b[A\n",
      " 96%|█████████▌| 77720/81124 [6:04:19<8:16:39,  8.75s/it]\u001b[A\n",
      " 96%|█████████▌| 77721/81124 [6:04:20<6:03:35,  6.41s/it]\u001b[A\n",
      " 96%|█████████▌| 77722/81124 [6:04:21<4:45:57,  5.04s/it]\u001b[A\n",
      " 96%|█████████▌| 77723/81124 [6:04:22<3:26:57,  3.65s/it]\u001b[A\n",
      " 96%|█████████▌| 77726/81124 [6:05:19<7:47:28,  8.25s/it]\u001b[A\n",
      " 96%|█████████▌| 77727/81124 [6:05:29<8:18:23,  8.80s/it]\u001b[A\n",
      " 96%|█████████▌| 77728/81124 [6:05:46<10:33:10, 11.19s/it]\u001b[A\n",
      " 96%|█████████▌| 77729/81124 [6:05:53<9:28:06, 10.04s/it] \u001b[A"
     ]
    },
    {
     "name": "stdout",
     "output_type": "stream",
     "text": [
      "Infected\n"
     ]
    },
    {
     "name": "stderr",
     "output_type": "stream",
     "text": [
      "\n",
      " 96%|█████████▌| 77730/81124 [6:06:06<10:16:17, 10.90s/it]\u001b[A\n",
      " 96%|█████████▌| 77731/81124 [6:06:15<9:39:52, 10.25s/it] \u001b[A\n",
      " 96%|█████████▌| 77732/81124 [6:06:23<9:12:40,  9.78s/it]\u001b[A"
     ]
    },
    {
     "name": "stdout",
     "output_type": "stream",
     "text": [
      "Infected\n",
      "Infected\n"
     ]
    },
    {
     "name": "stderr",
     "output_type": "stream",
     "text": [
      "\n",
      " 96%|█████████▌| 77733/81124 [6:06:51<14:22:18, 15.26s/it]\u001b[A\n",
      " 96%|█████████▌| 77735/81124 [6:06:52<10:07:11, 10.75s/it]\u001b[A\n",
      " 96%|█████████▌| 77736/81124 [6:07:19<14:50:33, 15.77s/it]\u001b[A\n",
      " 96%|█████████▌| 77737/81124 [6:07:29<13:03:48, 13.89s/it]\u001b[A\n",
      " 96%|█████████▌| 77738/81124 [6:07:29<9:13:59,  9.82s/it] \u001b[A\n",
      " 96%|█████████▌| 77739/81124 [6:07:40<9:35:32, 10.20s/it]\u001b[A\n",
      " 96%|█████████▌| 77740/81124 [6:07:41<6:59:24,  7.44s/it]\u001b[A\n",
      " 96%|█████████▌| 77741/81124 [6:08:06<11:58:31, 12.74s/it]\u001b[A\n",
      " 96%|█████████▌| 77742/81124 [6:08:13<10:10:22, 10.83s/it]\u001b[A\n",
      " 96%|█████████▌| 77743/81124 [6:08:14<7:27:34,  7.94s/it] \u001b[A\n",
      " 96%|█████████▌| 77744/81124 [6:08:15<5:36:29,  5.97s/it]\u001b[A\n",
      " 96%|█████████▌| 77745/81124 [6:08:19<4:58:55,  5.31s/it]\u001b[A\n",
      " 96%|█████████▌| 77746/81124 [6:08:23<4:30:45,  4.81s/it]\u001b[A\n",
      " 96%|█████████▌| 77747/81124 [6:08:24<3:37:27,  3.86s/it]\u001b[A"
     ]
    },
    {
     "name": "stdout",
     "output_type": "stream",
     "text": [
      "Infected\n",
      "Infected\n"
     ]
    },
    {
     "name": "stderr",
     "output_type": "stream",
     "text": [
      "\n",
      " 96%|█████████▌| 77748/81124 [6:09:06<14:23:46, 15.35s/it]\u001b[A"
     ]
    },
    {
     "name": "stdout",
     "output_type": "stream",
     "text": [
      "Infected\n"
     ]
    },
    {
     "name": "stderr",
     "output_type": "stream",
     "text": [
      "\n",
      " 96%|█████████▌| 77749/81124 [6:09:10<11:02:52, 11.78s/it]\u001b[A\n",
      " 96%|█████████▌| 77750/81124 [6:09:18<10:01:04, 10.69s/it]\u001b[A"
     ]
    },
    {
     "name": "stdout",
     "output_type": "stream",
     "text": [
      "Infected\n"
     ]
    },
    {
     "name": "stderr",
     "output_type": "stream",
     "text": [
      "\n",
      " 96%|█████████▌| 77751/81124 [6:09:45<14:33:26, 15.54s/it]\u001b[A\n",
      " 96%|█████████▌| 77752/81124 [6:09:52<12:15:19, 13.08s/it]\u001b[A"
     ]
    },
    {
     "name": "stdout",
     "output_type": "stream",
     "text": [
      "Infected\n"
     ]
    },
    {
     "name": "stderr",
     "output_type": "stream",
     "text": [
      "\n",
      " 96%|█████████▌| 77755/81124 [6:10:27<11:48:59, 12.63s/it]\u001b[A\n",
      " 96%|█████████▌| 77756/81124 [6:10:33<9:52:07, 10.55s/it] \u001b[A\n",
      " 96%|█████████▌| 77757/81124 [6:10:34<7:20:26,  7.85s/it]\u001b[A\n",
      " 96%|█████████▌| 77758/81124 [6:10:38<6:10:24,  6.60s/it]\u001b[A\n",
      " 96%|█████████▌| 77759/81124 [6:11:41<22:04:25, 23.62s/it]\u001b[A\n",
      " 96%|█████████▌| 77760/81124 [6:11:42<15:46:33, 16.88s/it]\u001b[A\n",
      " 96%|█████████▌| 77761/81124 [6:11:50<13:07:06, 14.04s/it]\u001b[A\n",
      " 96%|█████████▌| 77762/81124 [6:11:51<9:34:38, 10.26s/it] \u001b[A\n",
      " 96%|█████████▌| 77763/81124 [6:12:51<23:25:14, 25.09s/it]\u001b[A\n",
      " 96%|█████████▌| 77764/81124 [6:12:53<16:58:33, 18.19s/it]\u001b[A\n",
      " 96%|█████████▌| 77765/81124 [6:13:08<16:05:27, 17.25s/it]\u001b[A\n",
      " 96%|█████████▌| 77766/81124 [6:13:10<11:48:06, 12.65s/it]\u001b[A\n",
      " 96%|█████████▌| 77767/81124 [6:13:11<8:37:41,  9.25s/it] \u001b[A"
     ]
    },
    {
     "name": "stdout",
     "output_type": "stream",
     "text": [
      "Infected\n"
     ]
    },
    {
     "name": "stderr",
     "output_type": "stream",
     "text": [
      "\n",
      " 96%|█████████▌| 77768/81124 [6:13:13<6:31:18,  7.00s/it]\u001b[A\n",
      " 96%|█████████▌| 77769/81124 [6:13:13<4:39:09,  4.99s/it]\u001b[A\n",
      " 96%|█████████▌| 77771/81124 [6:13:22<4:27:45,  4.79s/it]\u001b[A\n",
      " 96%|█████████▌| 77772/81124 [6:13:22<3:14:59,  3.49s/it]\u001b[A\n",
      " 96%|█████████▌| 77774/81124 [6:14:21<10:30:49, 11.30s/it]\u001b[A\n",
      " 96%|█████████▌| 77775/81124 [6:14:24<8:06:28,  8.72s/it] \u001b[A\n",
      " 96%|█████████▌| 77776/81124 [6:14:34<8:33:05,  9.20s/it]\u001b[A"
     ]
    },
    {
     "name": "stdout",
     "output_type": "stream",
     "text": [
      "Infected\n"
     ]
    },
    {
     "name": "stderr",
     "output_type": "stream",
     "text": [
      "\n",
      " 96%|█████████▌| 77778/81124 [6:14:42<7:01:01,  7.55s/it]\u001b[A\n",
      " 96%|█████████▌| 77779/81124 [6:14:42<4:59:30,  5.37s/it]\u001b[A\n",
      " 96%|█████████▌| 77780/81124 [6:14:49<5:22:01,  5.78s/it]\u001b[A\n",
      " 96%|█████████▌| 77781/81124 [6:14:49<3:49:28,  4.12s/it]\u001b[A\n",
      " 96%|█████████▌| 77782/81124 [6:14:53<3:38:25,  3.92s/it]\u001b[A\n",
      " 96%|█████████▌| 77783/81124 [6:14:56<3:35:43,  3.87s/it]\u001b[A\n",
      " 96%|█████████▌| 77784/81124 [6:15:00<3:32:44,  3.82s/it]\u001b[A"
     ]
    },
    {
     "name": "stdout",
     "output_type": "stream",
     "text": [
      "Infected\n"
     ]
    },
    {
     "name": "stderr",
     "output_type": "stream",
     "text": [
      "\n",
      " 96%|█████████▌| 77785/81124 [6:15:18<7:35:05,  8.18s/it]\u001b[A\n",
      " 96%|█████████▌| 77786/81124 [6:15:22<6:24:56,  6.92s/it]\u001b[A\n",
      " 96%|█████████▌| 77787/81124 [6:15:32<7:12:19,  7.77s/it]\u001b[A\n",
      " 96%|█████████▌| 77789/81124 [6:15:34<5:21:06,  5.78s/it]\u001b[A\n",
      " 96%|█████████▌| 77791/81124 [6:15:39<4:25:47,  4.78s/it]\u001b[A\n",
      " 96%|█████████▌| 77792/81124 [6:15:43<4:03:04,  4.38s/it]\u001b[A\n",
      " 96%|█████████▌| 77793/81124 [6:15:47<4:08:21,  4.47s/it]\u001b[A\n",
      " 96%|█████████▌| 77794/81124 [6:16:04<7:33:28,  8.17s/it]\u001b[A\n",
      " 96%|█████████▌| 77795/81124 [6:16:05<5:22:27,  5.81s/it]\u001b[A"
     ]
    },
    {
     "name": "stdout",
     "output_type": "stream",
     "text": [
      "Infected\n",
      "Infected\n"
     ]
    },
    {
     "name": "stderr",
     "output_type": "stream",
     "text": [
      "\n",
      " 96%|█████████▌| 77796/81124 [6:16:07<4:26:59,  4.81s/it]\u001b[A\n",
      " 96%|█████████▌| 77797/81124 [6:16:07<3:10:16,  3.43s/it]\u001b[A\n",
      " 96%|█████████▌| 77798/81124 [6:16:07<2:15:50,  2.45s/it]\u001b[A\n",
      " 96%|█████████▌| 77799/81124 [6:16:10<2:21:32,  2.55s/it]\u001b[A\n",
      " 96%|█████████▌| 77800/81124 [6:16:11<1:44:44,  1.89s/it]\u001b[A\n",
      " 96%|█████████▌| 77801/81124 [6:16:19<3:31:03,  3.81s/it]\u001b[A"
     ]
    },
    {
     "name": "stdout",
     "output_type": "stream",
     "text": [
      "Infected\n"
     ]
    },
    {
     "name": "stderr",
     "output_type": "stream",
     "text": [
      "\n",
      " 96%|█████████▌| 77802/81124 [6:16:27<4:41:18,  5.08s/it]\u001b[A\n",
      " 96%|█████████▌| 77804/81124 [6:16:28<3:23:32,  3.68s/it]\u001b[A\n",
      " 96%|█████████▌| 77805/81124 [6:16:30<2:56:46,  3.20s/it]\u001b[A\n",
      " 96%|█████████▌| 77806/81124 [6:16:48<7:12:31,  7.82s/it]\u001b[A\n",
      " 96%|█████████▌| 77807/81124 [6:16:49<5:06:54,  5.55s/it]\u001b[A\n",
      " 96%|█████████▌| 77808/81124 [6:16:53<4:53:09,  5.30s/it]\u001b[A\n",
      " 96%|█████████▌| 77810/81124 [6:16:54<3:31:51,  3.84s/it]\u001b[A\n",
      " 96%|█████████▌| 77812/81124 [6:17:41<8:51:50,  9.63s/it]\u001b[A\n",
      " 96%|█████████▌| 77813/81124 [6:17:45<7:27:34,  8.11s/it]\u001b[A\n",
      " 96%|█████████▌| 77814/81124 [6:18:02<9:53:34, 10.76s/it]\u001b[A\n",
      " 96%|█████████▌| 77815/81124 [6:18:02<7:01:44,  7.65s/it]\u001b[A\n",
      " 96%|█████████▌| 77816/81124 [6:18:55<19:18:12, 21.01s/it]\u001b[A\n",
      " 96%|█████████▌| 77817/81124 [6:19:28<22:47:55, 24.82s/it]\u001b[A\n",
      " 96%|█████████▌| 77818/81124 [6:20:17<29:27:12, 32.07s/it]\u001b[A\n",
      " 96%|█████████▌| 77819/81124 [6:20:19<21:05:20, 22.97s/it]\u001b[A"
     ]
    },
    {
     "name": "stdout",
     "output_type": "stream",
     "text": [
      "Infected\n",
      "Infected\n",
      "Infected\n",
      "Infected\n"
     ]
    },
    {
     "name": "stderr",
     "output_type": "stream",
     "text": [
      "\n",
      " 96%|█████████▌| 77821/81124 [6:20:39<17:32:24, 19.12s/it]\u001b[A\n",
      " 96%|█████████▌| 77822/81124 [6:20:54<16:20:12, 17.81s/it]\u001b[A\n",
      " 96%|█████████▌| 77823/81124 [6:21:05<14:32:39, 15.86s/it]\u001b[A\n",
      " 96%|█████████▌| 77824/81124 [6:21:08<10:58:48, 11.98s/it]\u001b[A\n",
      " 96%|█████████▌| 77825/81124 [6:21:11<8:18:14,  9.06s/it] \u001b[A\n",
      " 96%|█████████▌| 77826/81124 [6:21:51<16:57:22, 18.51s/it]\u001b[A\n",
      " 96%|█████████▌| 77827/81124 [6:21:56<13:07:40, 14.33s/it]\u001b[A\n",
      " 96%|█████████▌| 77828/81124 [6:21:58<9:52:26, 10.78s/it] \u001b[A\n",
      " 96%|█████████▌| 77829/81124 [6:22:42<18:54:17, 20.65s/it]\u001b[A\n",
      " 96%|█████████▌| 77830/81124 [6:22:47<14:35:54, 15.95s/it]\u001b[A\n",
      " 96%|█████████▌| 77831/81124 [6:22:47<10:18:36, 11.27s/it]\u001b[A\n",
      " 96%|█████████▌| 77832/81124 [6:22:54<9:07:53,  9.99s/it] \u001b[A\n",
      " 96%|█████████▌| 77833/81124 [6:22:59<7:44:38,  8.47s/it]\u001b[A\n",
      " 96%|█████████▌| 77834/81124 [6:23:02<6:07:06,  6.69s/it]\u001b[A\n",
      " 96%|█████████▌| 77835/81124 [6:23:04<4:47:57,  5.25s/it]\u001b[A\n",
      " 96%|█████████▌| 77836/81124 [6:23:12<5:39:45,  6.20s/it]\u001b[A\n",
      " 96%|█████████▌| 77839/81124 [6:23:13<4:04:02,  4.46s/it]\u001b[A\n",
      " 96%|█████████▌| 77840/81124 [6:23:14<3:03:47,  3.36s/it]\u001b[A\n",
      " 96%|█████████▌| 77841/81124 [6:23:23<4:33:22,  5.00s/it]\u001b[A\n",
      " 96%|█████████▌| 77842/81124 [6:23:29<4:52:15,  5.34s/it]\u001b[A\n",
      " 96%|█████████▌| 77843/81124 [6:23:33<4:24:58,  4.85s/it]\u001b[A\n",
      " 96%|█████████▌| 77844/81124 [6:23:48<7:20:03,  8.05s/it]\u001b[A\n",
      " 96%|█████████▌| 77846/81124 [6:23:50<5:25:33,  5.96s/it]\u001b[A\n",
      " 96%|█████████▌| 77847/81124 [6:23:52<4:19:04,  4.74s/it]\u001b[A\n",
      " 96%|█████████▌| 77852/81124 [6:24:29<5:01:53,  5.54s/it]\u001b[A"
     ]
    },
    {
     "name": "stdout",
     "output_type": "stream",
     "text": [
      "Infected\n",
      "Infected\n"
     ]
    },
    {
     "name": "stderr",
     "output_type": "stream",
     "text": [
      "\n",
      " 96%|█████████▌| 77853/81124 [6:24:56<10:46:50, 11.87s/it]\u001b[A\n",
      " 96%|█████████▌| 77854/81124 [6:25:19<13:55:13, 15.33s/it]\u001b[A\n",
      " 96%|█████████▌| 77855/81124 [6:25:40<15:20:50, 16.90s/it]\u001b[A\n",
      " 96%|█████████▌| 77856/81124 [6:25:42<11:24:12, 12.56s/it]\u001b[A\n",
      " 96%|█████████▌| 77857/81124 [6:26:17<17:30:09, 19.29s/it]\u001b[A\n",
      " 96%|█████████▌| 77859/81124 [6:26:18<12:24:27, 13.68s/it]\u001b[A\n",
      " 96%|█████████▌| 77861/81124 [6:27:02<14:40:49, 16.20s/it]\u001b[A\n",
      " 96%|█████████▌| 77862/81124 [6:27:21<15:25:25, 17.02s/it]\u001b[A\n",
      " 96%|█████████▌| 77863/81124 [6:27:55<19:49:14, 21.88s/it]\u001b[A\n",
      " 96%|█████████▌| 77864/81124 [6:27:56<14:10:58, 15.66s/it]\u001b[A\n",
      " 96%|█████████▌| 77865/81124 [6:28:03<11:46:06, 13.00s/it]\u001b[A\n",
      " 96%|█████████▌| 77868/81124 [6:28:11<9:01:53,  9.99s/it] \u001b[A\n",
      " 96%|█████████▌| 77869/81124 [6:28:19<8:27:37,  9.36s/it]\u001b[A"
     ]
    },
    {
     "name": "stdout",
     "output_type": "stream",
     "text": [
      "Infected\n",
      "Infected\n",
      "Infected\n",
      "Infected\n",
      "Infected\n"
     ]
    },
    {
     "name": "stderr",
     "output_type": "stream",
     "text": [
      "\n",
      " 96%|█████████▌| 77871/81124 [6:28:40<8:47:05,  9.72s/it]\u001b[A\n",
      " 96%|█████████▌| 77872/81124 [6:28:45<7:17:56,  8.08s/it]\u001b[A\n",
      " 96%|█████████▌| 77873/81124 [6:28:52<6:59:55,  7.75s/it]\u001b[A\n",
      " 96%|█████████▌| 77875/81124 [6:29:50<12:46:00, 14.15s/it]\u001b[A"
     ]
    },
    {
     "name": "stdout",
     "output_type": "stream",
     "text": [
      "Infected\n"
     ]
    },
    {
     "name": "stderr",
     "output_type": "stream",
     "text": [
      "\n",
      " 96%|█████████▌| 77876/81124 [6:29:52<9:33:24, 10.59s/it] \u001b[A\n",
      " 96%|█████████▌| 77877/81124 [6:29:54<7:04:46,  7.85s/it]\u001b[A\n",
      " 96%|█████████▌| 77878/81124 [6:30:02<7:21:26,  8.16s/it]\u001b[A"
     ]
    },
    {
     "name": "stdout",
     "output_type": "stream",
     "text": [
      "Infected\n"
     ]
    },
    {
     "name": "stderr",
     "output_type": "stream",
     "text": [
      "\n",
      " 96%|█████████▌| 77881/81124 [6:30:27<7:23:05,  8.20s/it]\u001b[A\n",
      " 96%|█████████▌| 77882/81124 [6:30:35<7:07:36,  7.91s/it]\u001b[A\n",
      " 96%|█████████▌| 77883/81124 [6:30:38<5:58:22,  6.63s/it]\u001b[A\n",
      " 96%|█████████▌| 77886/81124 [6:30:40<4:21:38,  4.85s/it]\u001b[A\n",
      " 96%|█████████▌| 77887/81124 [6:30:41<3:21:21,  3.73s/it]\u001b[A\n",
      " 96%|█████████▌| 77888/81124 [6:30:52<5:16:23,  5.87s/it]\u001b[A\n",
      " 96%|█████████▌| 77889/81124 [6:30:53<3:46:48,  4.21s/it]\u001b[A\n",
      " 96%|█████████▌| 77890/81124 [6:30:55<3:21:04,  3.73s/it]\u001b[A\n",
      " 96%|█████████▌| 77891/81124 [6:31:00<3:44:44,  4.17s/it]\u001b[A"
     ]
    },
    {
     "name": "stdout",
     "output_type": "stream",
     "text": [
      "Infected\n"
     ]
    },
    {
     "name": "stderr",
     "output_type": "stream",
     "text": [
      "\n",
      " 96%|█████████▌| 77892/81124 [6:31:13<5:55:02,  6.59s/it]\u001b[A\n",
      " 96%|█████████▌| 77893/81124 [6:31:56<15:55:02, 17.74s/it]\u001b[A\n",
      " 96%|█████████▌| 77894/81124 [6:31:58<11:31:21, 12.84s/it]\u001b[A\n",
      " 96%|█████████▌| 77895/81124 [6:32:32<17:20:11, 19.33s/it]\u001b[A"
     ]
    },
    {
     "name": "stdout",
     "output_type": "stream",
     "text": [
      "Infected\n"
     ]
    },
    {
     "name": "stderr",
     "output_type": "stream",
     "text": [
      "\n",
      " 96%|█████████▌| 77896/81124 [6:32:44<15:24:48, 17.19s/it]\u001b[A\n",
      " 96%|█████████▌| 77897/81124 [6:32:47<11:35:34, 12.93s/it]\u001b[A\n",
      " 96%|█████████▌| 77898/81124 [6:32:52<9:15:17, 10.33s/it] \u001b[A\n",
      " 96%|█████████▌| 77900/81124 [6:33:10<8:55:54,  9.97s/it]\u001b[A\n",
      " 96%|█████████▌| 77901/81124 [6:33:11<6:29:46,  7.26s/it]\u001b[A\n",
      " 96%|█████████▌| 77902/81124 [6:33:11<4:39:34,  5.21s/it]\u001b[A\n",
      " 96%|█████████▌| 77903/81124 [6:33:12<3:31:05,  3.93s/it]\u001b[A\n",
      " 96%|█████████▌| 77904/81124 [6:33:19<4:10:27,  4.67s/it]\u001b[A\n",
      " 96%|█████████▌| 77905/81124 [6:33:20<3:16:43,  3.67s/it]\u001b[A\n",
      " 96%|█████████▌| 77906/81124 [6:33:24<3:20:32,  3.74s/it]\u001b[A\n",
      " 96%|█████████▌| 77907/81124 [6:33:25<2:45:06,  3.08s/it]\u001b[A\n",
      " 96%|█████████▌| 77909/81124 [6:34:10<7:57:28,  8.91s/it]\u001b[A\n",
      " 96%|█████████▌| 77910/81124 [6:34:12<5:58:36,  6.69s/it]\u001b[A"
     ]
    },
    {
     "name": "stdout",
     "output_type": "stream",
     "text": [
      "Infected\n",
      "Infected\n"
     ]
    },
    {
     "name": "stderr",
     "output_type": "stream",
     "text": [
      "\n",
      " 96%|█████████▌| 77912/81124 [6:34:36<7:20:54,  8.24s/it]\u001b[A\n",
      " 96%|█████████▌| 77913/81124 [6:34:36<5:13:58,  5.87s/it]\u001b[A\n",
      " 96%|█████████▌| 77914/81124 [6:34:42<5:14:34,  5.88s/it]\u001b[A\n",
      " 96%|█████████▌| 77915/81124 [6:34:44<4:07:54,  4.64s/it]\u001b[A\n",
      " 96%|█████████▌| 77917/81124 [6:34:49<3:32:40,  3.98s/it]\u001b[A\n",
      " 96%|█████████▌| 77918/81124 [6:34:59<5:17:38,  5.94s/it]\u001b[A\n",
      " 96%|█████████▌| 77919/81124 [6:35:00<3:49:44,  4.30s/it]\u001b[A\n",
      " 96%|█████████▌| 77921/81124 [6:35:02<2:58:58,  3.35s/it]\u001b[A\n",
      " 96%|█████████▌| 77922/81124 [6:35:29<9:26:57, 10.62s/it]\u001b[A\n",
      " 96%|█████████▌| 77923/81124 [6:35:30<6:52:05,  7.72s/it]\u001b[A\n",
      " 96%|█████████▌| 77924/81124 [6:35:48<9:36:30, 10.81s/it]\u001b[A\n",
      " 96%|█████████▌| 77925/81124 [6:35:59<9:35:59, 10.80s/it]\u001b[A\n",
      " 96%|█████████▌| 77926/81124 [6:36:00<6:48:25,  7.66s/it]\u001b[A"
     ]
    },
    {
     "name": "stdout",
     "output_type": "stream",
     "text": [
      "Infected\n",
      "Infected\n"
     ]
    },
    {
     "name": "stderr",
     "output_type": "stream",
     "text": [
      "\n",
      " 96%|█████████▌| 77927/81124 [6:36:04<5:49:49,  6.57s/it]\u001b[A\n",
      " 96%|█████████▌| 77930/81124 [6:36:05<4:11:01,  4.72s/it]\u001b[A\n",
      " 96%|█████████▌| 77931/81124 [6:36:20<6:55:26,  7.81s/it]\u001b[A\n",
      " 96%|█████████▌| 77932/81124 [6:37:00<15:32:56, 17.54s/it]\u001b[A\n",
      " 96%|█████████▌| 77933/81124 [6:37:01<11:10:41, 12.61s/it]\u001b[A\n",
      " 96%|█████████▌| 77934/81124 [6:37:06<9:10:11, 10.35s/it] \u001b[A\n",
      " 96%|█████████▌| 77935/81124 [6:37:07<6:40:54,  7.54s/it]\u001b[A\n",
      " 96%|█████████▌| 77936/81124 [6:37:08<4:59:52,  5.64s/it]\u001b[A\n",
      " 96%|█████████▌| 77937/81124 [6:37:10<3:56:33,  4.45s/it]\u001b[A\n",
      " 96%|█████████▌| 77938/81124 [6:37:17<4:40:01,  5.27s/it]\u001b[A\n",
      " 96%|█████████▌| 77939/81124 [6:37:48<11:26:24, 12.93s/it]\u001b[A"
     ]
    },
    {
     "name": "stdout",
     "output_type": "stream",
     "text": [
      "Infected\n",
      "Infected\n"
     ]
    },
    {
     "name": "stderr",
     "output_type": "stream",
     "text": [
      "\n",
      " 96%|█████████▌| 77940/81124 [6:38:23<17:24:21, 19.68s/it]\u001b[A\n",
      " 96%|█████████▌| 77941/81124 [6:38:28<13:24:57, 15.17s/it]\u001b[A\n",
      " 96%|█████████▌| 77942/81124 [6:38:35<11:07:48, 12.59s/it]\u001b[A\n",
      " 96%|█████████▌| 77943/81124 [6:38:36<8:00:52,  9.07s/it] \u001b[A\n",
      " 96%|█████████▌| 77944/81124 [6:39:19<17:05:28, 19.35s/it]\u001b[A\n",
      " 96%|█████████▌| 77945/81124 [6:39:20<12:14:53, 13.87s/it]\u001b[A"
     ]
    },
    {
     "name": "stdout",
     "output_type": "stream",
     "text": [
      "Infected\n"
     ]
    },
    {
     "name": "stderr",
     "output_type": "stream",
     "text": [
      "\n",
      " 96%|█████████▌| 77946/81124 [6:39:36<12:55:15, 14.64s/it]\u001b[A\n",
      " 96%|█████████▌| 77947/81124 [6:40:01<15:37:22, 17.70s/it]\u001b[A\n",
      " 96%|█████████▌| 77949/81124 [6:40:02<11:03:17, 12.53s/it]\u001b[A"
     ]
    },
    {
     "name": "stdout",
     "output_type": "stream",
     "text": [
      "Infected\n"
     ]
    },
    {
     "name": "stderr",
     "output_type": "stream",
     "text": [
      "\n",
      " 96%|█████████▌| 77950/81124 [6:40:15<11:00:20, 12.48s/it]\u001b[A"
     ]
    },
    {
     "name": "stdout",
     "output_type": "stream",
     "text": [
      "Infected\n"
     ]
    },
    {
     "name": "stderr",
     "output_type": "stream",
     "text": [
      "\n",
      " 96%|█████████▌| 77951/81124 [6:40:19<8:51:27, 10.05s/it] \u001b[A\n",
      " 96%|█████████▌| 77952/81124 [6:40:26<8:10:44,  9.28s/it]\u001b[A\n",
      " 96%|█████████▌| 77953/81124 [6:40:30<6:43:03,  7.63s/it]\u001b[A\n",
      " 96%|█████████▌| 77954/81124 [6:40:36<6:08:33,  6.98s/it]\u001b[A\n",
      " 96%|█████████▌| 77955/81124 [6:40:38<4:57:47,  5.64s/it]\u001b[A\n",
      " 96%|█████████▌| 77956/81124 [6:40:40<4:03:36,  4.61s/it]\u001b[A\n",
      " 96%|█████████▌| 77957/81124 [6:40:50<5:23:58,  6.14s/it]\u001b[A\n",
      " 96%|█████████▌| 77958/81124 [6:40:51<3:54:13,  4.44s/it]\u001b[A\n",
      " 96%|█████████▌| 77959/81124 [6:41:01<5:33:31,  6.32s/it]\u001b[A\n",
      " 96%|█████████▌| 77960/81124 [6:41:25<10:11:14, 11.59s/it]\u001b[A\n",
      " 96%|█████████▌| 77961/81124 [6:41:27<7:34:29,  8.62s/it] \u001b[A\n",
      " 96%|█████████▌| 77962/81124 [6:42:11<16:59:15, 19.34s/it]\u001b[A\n",
      " 96%|█████████▌| 77963/81124 [6:42:12<12:03:41, 13.74s/it]\u001b[A\n",
      " 96%|█████████▌| 77964/81124 [6:42:43<16:32:24, 18.84s/it]\u001b[A"
     ]
    },
    {
     "name": "stdout",
     "output_type": "stream",
     "text": [
      "Infected\n",
      "Infected\n"
     ]
    },
    {
     "name": "stderr",
     "output_type": "stream",
     "text": [
      "\n",
      " 96%|█████████▌| 77965/81124 [6:42:54<14:28:30, 16.50s/it]\u001b[A\n",
      " 96%|█████████▌| 77966/81124 [6:42:56<10:49:59, 12.35s/it]\u001b[A\n",
      " 96%|█████████▌| 77967/81124 [6:42:58<7:54:03,  9.01s/it] \u001b[A\n",
      " 96%|█████████▌| 77968/81124 [6:43:58<21:24:26, 24.42s/it]\u001b[A\n",
      " 96%|█████████▌| 77969/81124 [6:44:00<15:30:35, 17.70s/it]\u001b[A\n",
      " 96%|█████████▌| 77970/81124 [6:44:01<11:11:02, 12.77s/it]\u001b[A\n",
      " 96%|█████████▌| 77971/81124 [6:44:07<9:16:56, 10.60s/it] \u001b[A"
     ]
    },
    {
     "name": "stdout",
     "output_type": "stream",
     "text": [
      "Infected\n"
     ]
    },
    {
     "name": "stderr",
     "output_type": "stream",
     "text": [
      "\n",
      " 96%|█████████▌| 77972/81124 [6:44:08<6:45:41,  7.72s/it]\u001b[A\n",
      " 96%|█████████▌| 77973/81124 [6:44:13<6:04:50,  6.95s/it]\u001b[A\n",
      " 96%|█████████▌| 77976/81124 [6:44:13<4:17:27,  4.91s/it]\u001b[A\n",
      " 96%|█████████▌| 77977/81124 [6:44:24<5:49:58,  6.67s/it]\u001b[A"
     ]
    },
    {
     "name": "stdout",
     "output_type": "stream",
     "text": [
      "Infected\n"
     ]
    },
    {
     "name": "stderr",
     "output_type": "stream",
     "text": [
      "\n",
      " 96%|█████████▌| 77978/81124 [6:45:06<15:02:57, 17.22s/it]\u001b[A\n",
      " 96%|█████████▌| 77980/81124 [6:45:28<13:28:30, 15.43s/it]\u001b[A\n",
      " 96%|█████████▌| 77981/81124 [6:45:32<10:16:20, 11.77s/it]\u001b[A\n",
      " 96%|█████████▌| 77982/81124 [6:45:39<9:10:37, 10.51s/it] \u001b[A"
     ]
    },
    {
     "name": "stdout",
     "output_type": "stream",
     "text": [
      "Infected\n"
     ]
    },
    {
     "name": "stderr",
     "output_type": "stream",
     "text": [
      "\n",
      " 96%|█████████▌| 77983/81124 [6:45:42<7:08:57,  8.19s/it]\u001b[A"
     ]
    },
    {
     "name": "stdout",
     "output_type": "stream",
     "text": [
      "Infected\n"
     ]
    },
    {
     "name": "stderr",
     "output_type": "stream",
     "text": [
      "\n",
      " 96%|█████████▌| 77984/81124 [6:46:11<12:33:27, 14.40s/it]\u001b[A\n",
      " 96%|█████████▌| 77985/81124 [6:46:12<9:07:56, 10.47s/it] \u001b[A\n",
      " 96%|█████████▌| 77986/81124 [6:46:12<6:27:36,  7.41s/it]\u001b[A\n",
      " 96%|█████████▌| 77987/81124 [6:46:13<4:34:27,  5.25s/it]\u001b[A\n",
      " 96%|█████████▌| 77988/81124 [6:46:40<10:18:12, 11.83s/it]\u001b[A\n",
      " 96%|█████████▌| 77989/81124 [6:46:46<8:50:11, 10.15s/it] \u001b[A\n",
      " 96%|█████████▌| 77990/81124 [6:46:49<7:04:24,  8.13s/it]\u001b[A\n",
      " 96%|█████████▌| 77991/81124 [6:46:52<5:35:11,  6.42s/it]\u001b[A\n",
      " 96%|█████████▌| 77992/81124 [6:46:53<4:12:26,  4.84s/it]\u001b[A\n",
      " 96%|█████████▌| 77993/81124 [6:46:56<3:44:35,  4.30s/it]\u001b[A\n",
      " 96%|█████████▌| 77994/81124 [6:46:57<2:54:07,  3.34s/it]\u001b[A\n",
      " 96%|█████████▌| 77995/81124 [6:47:04<3:53:07,  4.47s/it]\u001b[A\n",
      " 96%|█████████▌| 77996/81124 [6:47:05<2:57:15,  3.40s/it]\u001b[A\n",
      " 96%|█████████▌| 77997/81124 [6:47:06<2:16:27,  2.62s/it]\u001b[A\n",
      " 96%|█████████▌| 77999/81124 [6:47:15<2:48:48,  3.24s/it]\u001b[A\n",
      " 96%|█████████▌| 78001/81124 [6:47:16<1:59:09,  2.29s/it]\u001b[A\n",
      " 96%|█████████▌| 78002/81124 [6:47:18<1:56:00,  2.23s/it]\u001b[A"
     ]
    },
    {
     "name": "stdout",
     "output_type": "stream",
     "text": [
      "Infected\n",
      "Infected\n",
      "Infected\n"
     ]
    },
    {
     "name": "stderr",
     "output_type": "stream",
     "text": [
      "\n",
      " 96%|█████████▌| 78003/81124 [6:47:24<2:56:07,  3.39s/it]\u001b[A\n",
      " 96%|█████████▌| 78004/81124 [6:47:28<3:03:50,  3.54s/it]\u001b[A\n",
      " 96%|█████████▌| 78005/81124 [6:47:28<2:22:10,  2.73s/it]\u001b[A\n",
      " 96%|█████████▌| 78008/81124 [6:48:03<4:36:08,  5.32s/it]\u001b[A\n",
      " 96%|█████████▌| 78009/81124 [6:48:03<3:17:57,  3.81s/it]\u001b[A\n",
      " 96%|█████████▌| 78011/81124 [6:48:03<2:21:05,  2.72s/it]\u001b[A\n",
      " 96%|█████████▌| 78012/81124 [6:48:04<1:46:04,  2.05s/it]\u001b[A\n",
      " 96%|█████████▌| 78013/81124 [6:48:05<1:39:14,  1.91s/it]\u001b[A\n",
      " 96%|█████████▌| 78014/81124 [6:48:09<2:02:54,  2.37s/it]\u001b[A\n",
      " 96%|█████████▌| 78015/81124 [6:48:10<1:52:42,  2.18s/it]\u001b[A\n",
      " 96%|█████████▌| 78016/81124 [6:48:11<1:35:28,  1.84s/it]\u001b[A\n",
      " 96%|█████████▌| 78018/81124 [6:48:13<1:16:49,  1.48s/it]\u001b[A\n",
      " 96%|█████████▌| 78019/81124 [6:48:18<2:14:46,  2.60s/it]\u001b[A\n",
      " 96%|█████████▌| 78020/81124 [6:48:18<1:38:09,  1.90s/it]\u001b[A\n",
      " 96%|█████████▌| 78023/81124 [6:49:02<4:55:10,  5.71s/it]\u001b[A"
     ]
    },
    {
     "name": "stdout",
     "output_type": "stream",
     "text": [
      "Infected\n"
     ]
    },
    {
     "name": "stderr",
     "output_type": "stream",
     "text": [
      "\n",
      " 96%|█████████▌| 78024/81124 [6:49:33<11:27:02, 13.30s/it]\u001b[A\n",
      " 96%|█████████▌| 78025/81124 [6:50:25<21:27:28, 24.93s/it]\u001b[A\n",
      " 96%|█████████▌| 78026/81124 [6:50:38<18:26:39, 21.43s/it]\u001b[A\n",
      " 96%|█████████▌| 78027/81124 [6:50:42<13:53:48, 16.15s/it]\u001b[A\n",
      " 96%|█████████▌| 78028/81124 [6:50:44<10:08:00, 11.78s/it]\u001b[A\n",
      " 96%|█████████▌| 78029/81124 [6:50:46<7:33:38,  8.79s/it] \u001b[A\n",
      " 96%|█████████▌| 78030/81124 [6:50:46<5:29:02,  6.38s/it]\u001b[A\n",
      " 96%|█████████▌| 78031/81124 [6:50:58<6:51:13,  7.98s/it]\u001b[A\n",
      " 96%|█████████▌| 78032/81124 [6:51:21<10:42:05, 12.46s/it]\u001b[A\n",
      " 96%|█████████▌| 78033/81124 [6:51:24<8:22:31,  9.75s/it] \u001b[A\n",
      " 96%|█████████▌| 78034/81124 [6:51:25<6:03:25,  7.06s/it]\u001b[A\n",
      " 96%|█████████▌| 78035/81124 [6:51:55<11:54:02, 13.87s/it]\u001b[A\n",
      " 96%|█████████▌| 78036/81124 [6:51:57<8:50:27, 10.31s/it] \u001b[A\n",
      " 96%|█████████▌| 78037/81124 [6:51:58<6:29:07,  7.56s/it]\u001b[A\n",
      " 96%|█████████▌| 78039/81124 [6:52:00<4:48:46,  5.62s/it]\u001b[A\n",
      " 96%|█████████▌| 78040/81124 [6:52:04<4:21:32,  5.09s/it]\u001b[A\n",
      " 96%|█████████▌| 78041/81124 [6:52:04<3:07:09,  3.64s/it]\u001b[A\n",
      " 96%|█████████▌| 78043/81124 [6:52:10<2:56:40,  3.44s/it]\u001b[A\n",
      " 96%|█████████▌| 78044/81124 [6:52:11<2:14:32,  2.62s/it]\u001b[A\n",
      " 96%|█████████▌| 78045/81124 [6:52:14<2:23:11,  2.79s/it]\u001b[A\n",
      " 96%|█████████▌| 78046/81124 [6:52:27<5:00:27,  5.86s/it]\u001b[A\n",
      " 96%|█████████▌| 78047/81124 [6:52:31<4:22:14,  5.11s/it]\u001b[A\n",
      " 96%|█████████▌| 78049/81124 [6:52:46<5:01:44,  5.89s/it]\u001b[A\n",
      " 96%|█████████▌| 78050/81124 [6:52:50<4:35:52,  5.38s/it]\u001b[A\n",
      " 96%|█████████▌| 78051/81124 [6:52:52<3:38:42,  4.27s/it]\u001b[A\n",
      " 96%|█████████▌| 78052/81124 [6:53:02<5:11:00,  6.07s/it]\u001b[A\n",
      " 96%|█████████▌| 78054/81124 [6:53:06<4:06:21,  4.81s/it]\u001b[A\n",
      " 96%|█████████▌| 78055/81124 [6:53:07<3:05:59,  3.64s/it]\u001b[A\n",
      " 96%|█████████▌| 78057/81124 [6:53:12<2:48:59,  3.31s/it]\u001b[A"
     ]
    },
    {
     "name": "stdout",
     "output_type": "stream",
     "text": [
      "Infected\n"
     ]
    },
    {
     "name": "stderr",
     "output_type": "stream",
     "text": [
      "\n",
      " 96%|█████████▌| 78058/81124 [6:53:18<3:28:04,  4.07s/it]\u001b[A\n",
      " 96%|█████████▌| 78060/81124 [6:53:39<5:11:06,  6.09s/it]\u001b[A\n",
      " 96%|█████████▌| 78061/81124 [6:54:01<9:05:25, 10.68s/it]\u001b[A\n",
      " 96%|█████████▌| 78062/81124 [6:54:03<6:57:13,  8.18s/it]\u001b[A\n",
      " 96%|█████████▌| 78063/81124 [6:54:03<4:55:28,  5.79s/it]\u001b[A\n",
      " 96%|█████████▌| 78064/81124 [6:54:51<15:32:14, 18.28s/it]\u001b[A\n",
      " 96%|█████████▌| 78065/81124 [6:54:53<11:20:32, 13.35s/it]\u001b[A\n",
      " 96%|█████████▌| 78066/81124 [6:55:04<10:55:35, 12.86s/it]\u001b[A\n",
      " 96%|█████████▌| 78067/81124 [6:55:05<7:44:44,  9.12s/it] \u001b[A"
     ]
    },
    {
     "name": "stdout",
     "output_type": "stream",
     "text": [
      "Infected\n"
     ]
    },
    {
     "name": "stderr",
     "output_type": "stream",
     "text": [
      "\n",
      " 96%|█████████▌| 78068/81124 [6:55:09<6:33:11,  7.72s/it]\u001b[A"
     ]
    },
    {
     "name": "stdout",
     "output_type": "stream",
     "text": [
      "Infected\n"
     ]
    },
    {
     "name": "stderr",
     "output_type": "stream",
     "text": [
      "\n",
      " 96%|█████████▌| 78069/81124 [6:55:12<5:13:35,  6.16s/it]\u001b[A\n",
      " 96%|█████████▌| 78070/81124 [6:55:46<12:17:49, 14.50s/it]\u001b[A\n",
      " 96%|█████████▌| 78071/81124 [6:55:46<8:42:24, 10.27s/it] \u001b[A\n",
      " 96%|█████████▌| 78072/81124 [6:55:47<6:25:43,  7.58s/it]\u001b[A"
     ]
    },
    {
     "name": "stdout",
     "output_type": "stream",
     "text": [
      "Infected\n"
     ]
    },
    {
     "name": "stderr",
     "output_type": "stream",
     "text": [
      "\n",
      " 96%|█████████▌| 78073/81124 [6:56:06<9:08:23, 10.78s/it]\u001b[A\n",
      " 96%|█████████▌| 78075/81124 [6:56:07<6:31:21,  7.70s/it]\u001b[A"
     ]
    },
    {
     "name": "stdout",
     "output_type": "stream",
     "text": [
      "Infected\n"
     ]
    },
    {
     "name": "stderr",
     "output_type": "stream",
     "text": [
      "\n",
      " 96%|█████████▌| 78076/81124 [6:56:29<10:15:27, 12.12s/it]\u001b[A\n",
      " 96%|█████████▌| 78077/81124 [6:56:36<8:51:43, 10.47s/it] \u001b[A\n",
      " 96%|█████████▌| 78078/81124 [6:56:37<6:25:10,  7.59s/it]\u001b[A\n",
      " 96%|█████████▌| 78080/81124 [6:56:38<4:37:06,  5.46s/it]\u001b[A\n",
      " 96%|█████████▌| 78081/81124 [6:56:41<4:04:37,  4.82s/it]\u001b[A"
     ]
    },
    {
     "name": "stdout",
     "output_type": "stream",
     "text": [
      "Infected\n"
     ]
    },
    {
     "name": "stderr",
     "output_type": "stream",
     "text": [
      "\n",
      " 96%|█████████▋| 78082/81124 [6:56:51<5:22:19,  6.36s/it]\u001b[A\n",
      " 96%|█████████▋| 78083/81124 [6:56:51<3:50:22,  4.55s/it]\u001b[A"
     ]
    },
    {
     "name": "stdout",
     "output_type": "stream",
     "text": [
      "Infected\n"
     ]
    },
    {
     "name": "stderr",
     "output_type": "stream",
     "text": [
      "\n",
      " 96%|█████████▋| 78084/81124 [6:56:52<2:58:07,  3.52s/it]\u001b[A\n",
      " 96%|█████████▋| 78086/81124 [6:56:56<2:36:14,  3.09s/it]\u001b[A\n",
      " 96%|█████████▋| 78087/81124 [6:57:01<2:56:55,  3.50s/it]\u001b[A\n",
      " 96%|█████████▋| 78088/81124 [6:57:06<3:21:54,  3.99s/it]\u001b[A\n",
      " 96%|█████████▋| 78089/81124 [6:57:17<5:05:23,  6.04s/it]\u001b[A\n",
      " 96%|█████████▋| 78091/81124 [6:57:19<3:50:44,  4.56s/it]\u001b[A\n",
      " 96%|█████████▋| 78092/81124 [6:57:20<3:01:55,  3.60s/it]\u001b[A\n",
      " 96%|█████████▋| 78093/81124 [6:57:47<8:48:08, 10.45s/it]\u001b[A\n",
      " 96%|█████████▋| 78095/81124 [6:57:58<7:30:50,  8.93s/it]\u001b[A\n",
      " 96%|█████████▋| 78097/81124 [6:58:01<5:44:02,  6.82s/it]\u001b[A\n",
      " 96%|█████████▋| 78098/81124 [6:58:02<4:03:50,  4.83s/it]\u001b[A\n",
      " 96%|█████████▋| 78100/81124 [6:58:03<3:01:29,  3.60s/it]\u001b[A\n",
      " 96%|█████████▋| 78101/81124 [6:58:03<2:08:51,  2.56s/it]\u001b[A\n",
      " 96%|█████████▋| 78102/81124 [6:58:10<3:12:42,  3.83s/it]\u001b[A\n",
      " 96%|█████████▋| 78103/81124 [6:58:11<2:30:20,  2.99s/it]\u001b[A\n",
      " 96%|█████████▋| 78104/81124 [6:58:14<2:24:05,  2.86s/it]\u001b[A"
     ]
    },
    {
     "name": "stdout",
     "output_type": "stream",
     "text": [
      "Infected\n"
     ]
    },
    {
     "name": "stderr",
     "output_type": "stream",
     "text": [
      "\n",
      " 96%|█████████▋| 78105/81124 [6:58:25<4:30:19,  5.37s/it]\u001b[A\n",
      " 96%|█████████▋| 78106/81124 [6:58:31<4:40:18,  5.57s/it]\u001b[A\n",
      " 96%|█████████▋| 78107/81124 [6:58:34<4:08:09,  4.94s/it]\u001b[A\n",
      " 96%|█████████▋| 78108/81124 [6:59:12<12:25:52, 14.84s/it]\u001b[A\n",
      " 96%|█████████▋| 78109/81124 [6:59:43<16:28:11, 19.67s/it]\u001b[A\n",
      " 96%|█████████▋| 78110/81124 [6:59:52<13:43:38, 16.40s/it]\u001b[A\n",
      " 96%|█████████▋| 78112/81124 [7:00:07<11:33:35, 13.82s/it]\u001b[A"
     ]
    },
    {
     "name": "stdout",
     "output_type": "stream",
     "text": [
      "Infected\n"
     ]
    },
    {
     "name": "stderr",
     "output_type": "stream",
     "text": [
      "\n",
      " 96%|█████████▋| 78113/81124 [7:00:23<12:06:21, 14.47s/it]\u001b[A\n",
      " 96%|█████████▋| 78114/81124 [7:00:24<8:40:11, 10.37s/it] \u001b[A\n",
      " 96%|█████████▋| 78115/81124 [7:00:40<9:54:12, 11.85s/it]\u001b[A\n",
      " 96%|█████████▋| 78116/81124 [7:01:17<16:14:45, 19.44s/it]\u001b[A\n",
      " 96%|█████████▋| 78117/81124 [7:01:18<11:38:13, 13.93s/it]\u001b[A\n",
      " 96%|█████████▋| 78118/81124 [7:01:20<8:37:07, 10.32s/it] \u001b[A\n",
      " 96%|█████████▋| 78119/81124 [7:01:43<11:46:26, 14.11s/it]\u001b[A\n",
      " 96%|█████████▋| 78120/81124 [7:01:46<9:01:19, 10.81s/it] \u001b[A"
     ]
    },
    {
     "name": "stdout",
     "output_type": "stream",
     "text": [
      "Infected\n"
     ]
    },
    {
     "name": "stderr",
     "output_type": "stream",
     "text": [
      "\n",
      " 96%|█████████▋| 78121/81124 [7:02:06<11:25:28, 13.70s/it]\u001b[A"
     ]
    },
    {
     "name": "stdout",
     "output_type": "stream",
     "text": [
      "Infected\n"
     ]
    },
    {
     "name": "stderr",
     "output_type": "stream",
     "text": [
      "\n",
      " 96%|█████████▋| 78122/81124 [7:02:15<10:09:14, 12.18s/it]\u001b[A"
     ]
    },
    {
     "name": "stdout",
     "output_type": "stream",
     "text": [
      "Infected\n",
      "Infected\n",
      "Infected\n",
      "Infected\n",
      "Infected\n",
      "Infected\n",
      "Infected\n",
      "Infected\n",
      "Infected\n"
     ]
    },
    {
     "name": "stderr",
     "output_type": "stream",
     "text": [
      "\n",
      " 96%|█████████▋| 78123/81124 [7:02:27<10:12:52, 12.25s/it]\u001b[A\n",
      " 96%|█████████▋| 78124/81124 [7:02:29<7:29:16,  8.99s/it] \u001b[A\n",
      " 96%|█████████▋| 78125/81124 [7:02:30<5:29:56,  6.60s/it]\u001b[A\n",
      " 96%|█████████▋| 78126/81124 [7:02:57<10:44:00, 12.89s/it]\u001b[A\n",
      " 96%|█████████▋| 78127/81124 [7:02:58<7:45:21,  9.32s/it] \u001b[A"
     ]
    },
    {
     "name": "stdout",
     "output_type": "stream",
     "text": [
      "Infected\n"
     ]
    },
    {
     "name": "stderr",
     "output_type": "stream",
     "text": [
      "\n",
      " 96%|█████████▋| 78128/81124 [7:03:36<14:45:09, 17.73s/it]\u001b[A\n",
      " 96%|█████████▋| 78129/81124 [7:03:39<11:07:29, 13.37s/it]\u001b[A\n",
      " 96%|█████████▋| 78130/81124 [7:03:40<8:04:40,  9.71s/it] \u001b[A\n",
      " 96%|█████████▋| 78132/81124 [7:03:41<5:45:28,  6.93s/it]\u001b[A\n",
      " 96%|█████████▋| 78134/81124 [7:03:44<4:23:20,  5.28s/it]\u001b[A\n",
      " 96%|█████████▋| 78135/81124 [7:03:50<4:42:32,  5.67s/it]\u001b[A\n",
      " 96%|█████████▋| 78136/81124 [7:04:40<15:33:08, 18.74s/it]\u001b[A\n",
      " 96%|█████████▋| 78137/81124 [7:04:40<10:57:43, 13.21s/it]\u001b[A\n",
      " 96%|█████████▋| 78138/81124 [7:04:41<7:52:05,  9.49s/it] \u001b[A\n",
      " 96%|█████████▋| 78139/81124 [7:04:41<5:34:21,  6.72s/it]\u001b[A\n",
      " 96%|█████████▋| 78140/81124 [7:04:41<3:58:06,  4.79s/it]\u001b[A\n",
      " 96%|█████████▋| 78141/81124 [7:05:27<14:07:50, 17.05s/it]\u001b[A\n",
      " 96%|█████████▋| 78142/81124 [7:05:29<10:23:22, 12.54s/it]\u001b[A"
     ]
    },
    {
     "name": "stdout",
     "output_type": "stream",
     "text": [
      "Infected\n"
     ]
    },
    {
     "name": "stderr",
     "output_type": "stream",
     "text": [
      "\n",
      " 96%|█████████▋| 78144/81124 [7:06:02<11:25:55, 13.81s/it]\u001b[A\n",
      " 96%|█████████▋| 78145/81124 [7:06:07<9:04:43, 10.97s/it] \u001b[A\n",
      " 96%|█████████▋| 78146/81124 [7:06:14<8:10:43,  9.89s/it]\u001b[A\n",
      " 96%|█████████▋| 78147/81124 [7:06:24<8:08:52,  9.85s/it]\u001b[A\n",
      " 96%|█████████▋| 78148/81124 [7:07:24<20:38:46, 24.98s/it]\u001b[A\n",
      " 96%|█████████▋| 78149/81124 [7:07:25<14:41:01, 17.77s/it]\u001b[A\n",
      " 96%|█████████▋| 78150/81124 [7:07:28<10:54:17, 13.20s/it]\u001b[A\n",
      " 96%|█████████▋| 78151/81124 [7:07:29<8:02:55,  9.75s/it] \u001b[A\n",
      " 96%|█████████▋| 78153/81124 [7:07:32<5:58:44,  7.24s/it]\u001b[A\n",
      " 96%|█████████▋| 78154/81124 [7:07:57<10:21:56, 12.56s/it]\u001b[A\n",
      " 96%|█████████▋| 78155/81124 [7:08:10<10:20:48, 12.55s/it]\u001b[A\n",
      " 96%|█████████▋| 78156/81124 [7:08:47<16:25:19, 19.92s/it]\u001b[A\n",
      " 96%|█████████▋| 78157/81124 [7:09:26<21:12:00, 25.72s/it]\u001b[A\n",
      " 96%|█████████▋| 78158/81124 [7:09:27<15:03:12, 18.27s/it]\u001b[A\n",
      " 96%|█████████▋| 78159/81124 [7:09:47<15:32:08, 18.86s/it]\u001b[A\n",
      " 96%|█████████▋| 78160/81124 [7:09:47<10:55:30, 13.27s/it]\u001b[A"
     ]
    },
    {
     "name": "stdout",
     "output_type": "stream",
     "text": [
      "Infected\n"
     ]
    },
    {
     "name": "stderr",
     "output_type": "stream",
     "text": [
      "\n"
     ]
    },
    {
     "name": "stdout",
     "output_type": "stream",
     "text": [
      "Infected\n"
     ]
    },
    {
     "name": "stderr",
     "output_type": "stream",
     "text": [
      " 96%|█████████▋| 78162/81124 [7:09:50<7:55:04,  9.62s/it] \u001b[A\n",
      " 96%|█████████▋| 78164/81124 [7:10:01<6:57:17,  8.46s/it]\u001b[A\n",
      " 96%|█████████▋| 78167/81124 [7:10:03<4:59:19,  6.07s/it]\u001b[A\n",
      " 96%|█████████▋| 78168/81124 [7:10:04<3:53:49,  4.75s/it]\u001b[A\n",
      " 96%|█████████▋| 78169/81124 [7:10:05<2:59:29,  3.64s/it]\u001b[A\n",
      " 96%|█████████▋| 78170/81124 [7:10:12<3:39:29,  4.46s/it]\u001b[A\n",
      " 96%|█████████▋| 78172/81124 [7:10:12<2:35:51,  3.17s/it]\u001b[A\n",
      " 96%|█████████▋| 78173/81124 [7:10:12<1:53:40,  2.31s/it]\u001b[A\n",
      " 96%|█████████▋| 78174/81124 [7:10:16<2:15:17,  2.75s/it]\u001b[A\n",
      " 96%|█████████▋| 78175/81124 [7:10:18<2:06:59,  2.58s/it]\u001b[A\n",
      " 96%|█████████▋| 78177/81124 [7:13:06<22:06:33, 27.01s/it]\u001b[A\n",
      " 96%|█████████▋| 78178/81124 [7:13:06<15:31:43, 18.98s/it]\u001b[A\n",
      " 96%|█████████▋| 78179/81124 [7:13:19<13:48:54, 16.89s/it]\u001b[A\n",
      " 96%|█████████▋| 78180/81124 [7:13:19<9:47:13, 11.97s/it] \u001b[A\n",
      " 96%|█████████▋| 78181/81124 [7:13:20<7:04:28,  8.65s/it]\u001b[A\n",
      " 96%|█████████▋| 78182/81124 [7:13:24<5:49:56,  7.14s/it]\u001b[A\n",
      " 96%|█████████▋| 78183/81124 [7:13:41<8:16:22, 10.13s/it]\u001b[A\n",
      " 96%|█████████▋| 78184/81124 [7:13:45<6:55:31,  8.48s/it]\u001b[A\n",
      " 96%|█████████▋| 78185/81124 [7:13:53<6:38:52,  8.14s/it]\u001b[A\n",
      " 96%|█████████▋| 78186/81124 [7:14:00<6:30:59,  7.98s/it]\u001b[A\n",
      " 96%|█████████▋| 78187/81124 [7:14:03<5:17:35,  6.49s/it]\u001b[A\n",
      " 96%|█████████▋| 78188/81124 [7:14:03<3:46:12,  4.62s/it]\u001b[A\n",
      " 96%|█████████▋| 78189/81124 [7:14:31<9:27:15, 11.60s/it]\u001b[A\n",
      " 96%|█████████▋| 78191/81124 [7:15:03<10:26:55, 12.82s/it]\u001b[A\n",
      " 96%|█████████▋| 78192/81124 [7:15:38<16:01:22, 19.67s/it]\u001b[A\n",
      " 96%|█████████▋| 78193/81124 [7:15:44<12:32:06, 15.40s/it]\u001b[A\n",
      " 96%|█████████▋| 78194/81124 [7:15:46<9:20:05, 11.47s/it] \u001b[A\n",
      " 96%|█████████▋| 78196/81124 [7:15:51<7:10:38,  8.82s/it]\u001b[A\n",
      " 96%|█████████▋| 78197/81124 [7:15:52<5:05:47,  6.27s/it]\u001b[A\n",
      " 96%|█████████▋| 78198/81124 [7:16:19<10:12:52, 12.57s/it]\u001b[A\n",
      " 96%|█████████▋| 78200/81124 [7:16:19<7:10:04,  8.83s/it] \u001b[A\n",
      " 96%|█████████▋| 78201/81124 [7:16:25<6:19:04,  7.78s/it]\u001b[A\n",
      " 96%|█████████▋| 78202/81124 [7:16:56<12:05:15, 14.89s/it]\u001b[A\n",
      " 96%|█████████▋| 78205/81124 [7:16:56<8:27:56, 10.44s/it] \u001b[A\n",
      " 96%|█████████▋| 78206/81124 [7:16:59<6:34:03,  8.10s/it]\u001b[A"
     ]
    },
    {
     "name": "stdout",
     "output_type": "stream",
     "text": [
      "Infected\n",
      "Infected\n"
     ]
    },
    {
     "name": "stderr",
     "output_type": "stream",
     "text": [
      "\n",
      " 96%|█████████▋| 78207/81124 [7:17:22<10:12:34, 12.60s/it]\u001b[A\n",
      " 96%|█████████▋| 78208/81124 [7:17:43<12:22:08, 15.27s/it]\u001b[A\n",
      " 96%|█████████▋| 78209/81124 [7:17:44<8:53:21, 10.98s/it] \u001b[A"
     ]
    },
    {
     "name": "stdout",
     "output_type": "stream",
     "text": [
      "Infected\n"
     ]
    },
    {
     "name": "stderr",
     "output_type": "stream",
     "text": [
      "\n",
      " 96%|█████████▋| 78210/81124 [7:17:52<8:04:07,  9.97s/it]\u001b[A\n",
      " 96%|█████████▋| 78211/81124 [7:18:34<15:46:42, 19.50s/it]\u001b[A\n",
      " 96%|█████████▋| 78212/81124 [7:19:14<20:49:03, 25.74s/it]\u001b[A\n",
      " 96%|█████████▋| 78213/81124 [7:19:16<15:07:55, 18.71s/it]\u001b[A\n",
      " 96%|█████████▋| 78214/81124 [7:19:28<13:32:02, 16.74s/it]\u001b[A\n",
      " 96%|█████████▋| 78215/81124 [7:19:42<12:48:54, 15.86s/it]\u001b[A\n",
      " 96%|█████████▋| 78216/81124 [7:19:43<9:01:28, 11.17s/it] \u001b[A\n",
      " 96%|█████████▋| 78217/81124 [7:19:44<6:35:36,  8.17s/it]\u001b[A\n",
      " 96%|█████████▋| 78218/81124 [7:20:11<11:10:41, 13.85s/it]\u001b[A\n",
      " 96%|█████████▋| 78219/81124 [7:20:15<8:56:15, 11.08s/it] \u001b[A\n",
      " 96%|█████████▋| 78220/81124 [7:20:17<6:37:17,  8.21s/it]\u001b[A"
     ]
    },
    {
     "name": "stdout",
     "output_type": "stream",
     "text": [
      "Infected\n"
     ]
    },
    {
     "name": "stderr",
     "output_type": "stream",
     "text": [
      "\n",
      " 96%|█████████▋| 78221/81124 [7:20:24<6:22:53,  7.91s/it]\u001b[A"
     ]
    },
    {
     "name": "stdout",
     "output_type": "stream",
     "text": [
      "Infected\n"
     ]
    },
    {
     "name": "stderr",
     "output_type": "stream",
     "text": [
      "\n",
      " 96%|█████████▋| 78222/81124 [7:20:59<12:55:03, 16.02s/it]\u001b[A\n",
      " 96%|█████████▋| 78223/81124 [7:21:00<9:14:23, 11.47s/it] \u001b[A"
     ]
    },
    {
     "name": "stdout",
     "output_type": "stream",
     "text": [
      "Infected\n"
     ]
    },
    {
     "name": "stderr",
     "output_type": "stream",
     "text": [
      "\n",
      " 96%|█████████▋| 78224/81124 [7:21:00<6:31:32,  8.10s/it]\u001b[A\n",
      " 96%|█████████▋| 78225/81124 [7:21:05<5:38:23,  7.00s/it]\u001b[A\n",
      " 96%|█████████▋| 78226/81124 [7:21:06<4:15:59,  5.30s/it]\u001b[A\n",
      " 96%|█████████▋| 78227/81124 [7:21:06<3:01:31,  3.76s/it]\u001b[A\n",
      " 96%|█████████▋| 78228/81124 [7:21:10<3:08:56,  3.91s/it]\u001b[A\n",
      " 96%|█████████▋| 78229/81124 [7:21:13<2:51:51,  3.56s/it]\u001b[A\n",
      " 96%|█████████▋| 78230/81124 [7:21:49<10:46:48, 13.41s/it]\u001b[A"
     ]
    },
    {
     "name": "stdout",
     "output_type": "stream",
     "text": [
      "Infected\n"
     ]
    },
    {
     "name": "stderr",
     "output_type": "stream",
     "text": [
      "\n",
      " 96%|█████████▋| 78231/81124 [7:22:09<12:09:21, 15.13s/it]\u001b[A\n",
      " 96%|█████████▋| 78232/81124 [7:22:09<8:36:41, 10.72s/it] \u001b[A\n",
      " 96%|█████████▋| 78234/81124 [7:22:11<6:14:11,  7.77s/it]\u001b[A\n",
      " 96%|█████████▋| 78235/81124 [7:22:31<9:16:27, 11.56s/it]\u001b[A\n",
      " 96%|█████████▋| 78236/81124 [7:22:32<6:41:08,  8.33s/it]\u001b[A\n",
      " 96%|█████████▋| 78237/81124 [7:22:43<7:22:09,  9.19s/it]\u001b[A\n",
      " 96%|█████████▋| 78238/81124 [7:22:44<5:21:55,  6.69s/it]\u001b[A"
     ]
    },
    {
     "name": "stdout",
     "output_type": "stream",
     "text": [
      "Infected\n",
      "Infected\n"
     ]
    },
    {
     "name": "stderr",
     "output_type": "stream",
     "text": [
      "\n",
      " 96%|█████████▋| 78239/81124 [7:23:03<8:12:04, 10.23s/it]\u001b[A\n",
      " 96%|█████████▋| 78240/81124 [7:23:07<6:50:32,  8.54s/it]\u001b[A\n",
      " 96%|█████████▋| 78241/81124 [7:23:29<10:00:53, 12.51s/it]\u001b[A\n",
      " 96%|█████████▋| 78242/81124 [7:24:45<25:10:39, 31.45s/it]\u001b[A\n",
      " 96%|█████████▋| 78243/81124 [7:24:46<17:57:08, 22.43s/it]\u001b[A\n",
      " 96%|█████████▋| 78244/81124 [7:24:47<12:51:37, 16.08s/it]\u001b[A"
     ]
    },
    {
     "name": "stdout",
     "output_type": "stream",
     "text": [
      "Infected\n",
      "Infected\n"
     ]
    },
    {
     "name": "stderr",
     "output_type": "stream",
     "text": [
      "\n",
      " 96%|█████████▋| 78245/81124 [7:25:00<12:07:42, 15.17s/it]\u001b[A\n",
      " 96%|█████████▋| 78246/81124 [7:25:05<9:32:28, 11.93s/it] \u001b[A\n",
      " 96%|█████████▋| 78248/81124 [7:25:07<7:00:22,  8.77s/it]\u001b[A\n",
      " 96%|█████████▋| 78249/81124 [7:25:09<5:14:25,  6.56s/it]\u001b[A\n",
      " 96%|█████████▋| 78251/81124 [7:25:10<3:47:09,  4.74s/it]\u001b[A\n",
      " 96%|█████████▋| 78252/81124 [7:25:11<2:51:10,  3.58s/it]\u001b[A\n",
      " 96%|█████████▋| 78253/81124 [7:25:12<2:11:38,  2.75s/it]\u001b[A\n",
      " 96%|█████████▋| 78254/81124 [7:25:25<4:42:03,  5.90s/it]\u001b[A"
     ]
    },
    {
     "name": "stdout",
     "output_type": "stream",
     "text": [
      "Infected\n"
     ]
    },
    {
     "name": "stderr",
     "output_type": "stream",
     "text": [
      "\n",
      " 96%|█████████▋| 78255/81124 [7:25:27<3:56:27,  4.94s/it]\u001b[A\n",
      " 96%|█████████▋| 78256/81124 [7:25:55<9:19:36, 11.71s/it]\u001b[A\n",
      " 96%|█████████▋| 78257/81124 [7:25:56<6:43:46,  8.45s/it]\u001b[A\n",
      " 96%|█████████▋| 78258/81124 [7:26:49<17:23:57, 21.86s/it]\u001b[A\n",
      " 96%|█████████▋| 78259/81124 [7:26:51<12:33:01, 15.77s/it]\u001b[A\n",
      " 96%|█████████▋| 78260/81124 [7:26:52<9:03:43, 11.39s/it] \u001b[A"
     ]
    },
    {
     "name": "stdout",
     "output_type": "stream",
     "text": [
      "Infected\n",
      "Infected\n",
      "Infected\n",
      "Infected\n",
      "Infected\n"
     ]
    },
    {
     "name": "stderr",
     "output_type": "stream",
     "text": [
      "\n",
      " 96%|█████████▋| 78261/81124 [7:27:00<8:18:18, 10.44s/it]\u001b[A\n",
      " 96%|█████████▋| 78262/81124 [7:27:00<5:51:17,  7.36s/it]\u001b[A\n",
      " 96%|█████████▋| 78264/81124 [7:27:10<5:17:02,  6.65s/it]\u001b[A\n",
      " 96%|█████████▋| 78265/81124 [7:27:12<4:03:46,  5.12s/it]\u001b[A\n",
      " 96%|█████████▋| 78266/81124 [7:27:35<8:29:04, 10.69s/it]\u001b[A\n",
      " 96%|█████████▋| 78267/81124 [7:27:37<6:13:25,  7.84s/it]\u001b[A\n",
      " 96%|█████████▋| 78268/81124 [7:27:38<4:46:18,  6.01s/it]\u001b[A\n",
      " 96%|█████████▋| 78269/81124 [7:28:22<13:43:03, 17.30s/it]\u001b[A\n",
      " 96%|█████████▋| 78270/81124 [7:28:23<9:51:51, 12.44s/it] \u001b[A"
     ]
    },
    {
     "name": "stdout",
     "output_type": "stream",
     "text": [
      "Infected\n"
     ]
    },
    {
     "name": "stderr",
     "output_type": "stream",
     "text": [
      "\n",
      " 96%|█████████▋| 78271/81124 [7:28:40<10:52:04, 13.71s/it]\u001b[A\n",
      " 96%|█████████▋| 78272/81124 [7:28:40<7:42:47,  9.74s/it] \u001b[A\n",
      " 96%|█████████▋| 78273/81124 [7:29:36<18:44:18, 23.66s/it]\u001b[A\n",
      " 96%|█████████▋| 78275/81124 [7:30:24<18:45:36, 23.71s/it]\u001b[A\n",
      " 96%|█████████▋| 78276/81124 [7:30:24<13:10:18, 16.65s/it]\u001b[A\n",
      " 96%|█████████▋| 78277/81124 [7:30:37<12:16:52, 15.53s/it]\u001b[A\n",
      " 96%|█████████▋| 78278/81124 [7:30:48<11:07:17, 14.07s/it]\u001b[A\n",
      " 96%|█████████▋| 78280/81124 [7:30:59<9:08:47, 11.58s/it] \u001b[A\n",
      " 96%|█████████▋| 78281/81124 [7:31:03<7:15:52,  9.20s/it]\u001b[A\n",
      " 96%|█████████▋| 78282/81124 [7:31:05<5:38:16,  7.14s/it]\u001b[A\n",
      " 96%|█████████▋| 78283/81124 [7:31:25<8:32:54, 10.83s/it]\u001b[A\n",
      " 96%|█████████▋| 78284/81124 [7:31:29<6:57:48,  8.83s/it]\u001b[A\n",
      " 97%|█████████▋| 78285/81124 [7:31:31<5:26:27,  6.90s/it]\u001b[A\n",
      " 97%|█████████▋| 78286/81124 [7:31:51<8:23:30, 10.64s/it]\u001b[A"
     ]
    },
    {
     "name": "stdout",
     "output_type": "stream",
     "text": [
      "Infected\n",
      "Infected\n"
     ]
    },
    {
     "name": "stderr",
     "output_type": "stream",
     "text": [
      "\n",
      " 97%|█████████▋| 78287/81124 [7:32:02<8:34:20, 10.88s/it]\u001b[A\n",
      " 97%|█████████▋| 78289/81124 [7:32:10<6:55:38,  8.80s/it]\u001b[A\n",
      " 97%|█████████▋| 78290/81124 [7:32:25<8:21:36, 10.62s/it]\u001b[A\n",
      " 97%|█████████▋| 78291/81124 [7:32:25<5:53:42,  7.49s/it]\u001b[A\n",
      " 97%|█████████▋| 78292/81124 [7:32:29<5:08:37,  6.54s/it]\u001b[A\n",
      " 97%|█████████▋| 78293/81124 [7:32:30<3:41:01,  4.68s/it]\u001b[A\n",
      " 97%|█████████▋| 78294/81124 [7:32:31<2:52:24,  3.66s/it]\u001b[A\n",
      " 97%|█████████▋| 78295/81124 [7:32:36<3:11:28,  4.06s/it]\u001b[A\n",
      " 97%|█████████▋| 78296/81124 [7:32:43<3:51:52,  4.92s/it]\u001b[A\n",
      " 97%|█████████▋| 78297/81124 [7:32:47<3:40:03,  4.67s/it]\u001b[A\n",
      " 97%|█████████▋| 78298/81124 [7:32:56<4:38:10,  5.91s/it]\u001b[A"
     ]
    },
    {
     "name": "stdout",
     "output_type": "stream",
     "text": [
      "Infected\n"
     ]
    },
    {
     "name": "stderr",
     "output_type": "stream",
     "text": [
      "\n",
      " 97%|█████████▋| 78299/81124 [7:32:58<3:48:58,  4.86s/it]\u001b[A\n",
      " 97%|█████████▋| 78300/81124 [7:33:53<15:31:08, 19.78s/it]\u001b[A\n",
      " 97%|█████████▋| 78301/81124 [7:33:57<11:52:29, 15.14s/it]\u001b[A\n",
      " 97%|█████████▋| 78302/81124 [7:33:57<8:22:21, 10.68s/it] \u001b[A\n",
      " 97%|█████████▋| 78304/81124 [7:35:00<13:10:59, 16.83s/it]\u001b[A\n",
      " 97%|█████████▋| 78305/81124 [7:35:02<9:53:46, 12.64s/it] \u001b[A\n",
      " 97%|█████████▋| 78306/81124 [7:35:45<16:54:52, 21.61s/it]\u001b[A\n",
      " 97%|█████████▋| 78308/81124 [7:35:48<12:09:52, 15.55s/it]\u001b[A\n",
      " 97%|█████████▋| 78309/81124 [7:35:48<8:33:25, 10.94s/it] \u001b[A\n",
      " 97%|█████████▋| 78310/81124 [7:35:48<6:05:05,  7.78s/it]\u001b[A"
     ]
    },
    {
     "name": "stdout",
     "output_type": "stream",
     "text": [
      "Infected\n",
      "Infected\n",
      "Infected\n"
     ]
    },
    {
     "name": "stderr",
     "output_type": "stream",
     "text": [
      "\n",
      " 97%|█████████▋| 78311/81124 [7:35:59<6:45:54,  8.66s/it]\u001b[A\n",
      " 97%|█████████▋| 78313/81124 [7:36:30<8:17:28, 10.62s/it]\u001b[A\n",
      " 97%|█████████▋| 78314/81124 [7:36:36<7:16:37,  9.32s/it]\u001b[A\n",
      " 97%|█████████▋| 78315/81124 [7:36:36<5:08:54,  6.60s/it]\u001b[A\n",
      " 97%|█████████▋| 78316/81124 [7:36:39<4:10:59,  5.36s/it]\u001b[A\n",
      " 97%|█████████▋| 78317/81124 [7:37:14<11:19:47, 14.53s/it]\u001b[A\n",
      " 97%|█████████▋| 78319/81124 [7:37:16<8:05:18, 10.38s/it] \u001b[A"
     ]
    },
    {
     "name": "stdout",
     "output_type": "stream",
     "text": [
      "Infected\n",
      "Infected\n"
     ]
    },
    {
     "name": "stderr",
     "output_type": "stream",
     "text": [
      "\n",
      " 97%|█████████▋| 78320/81124 [7:37:19<6:29:57,  8.34s/it]\u001b[A\n",
      " 97%|█████████▋| 78322/81124 [7:38:04<9:41:25, 12.45s/it]\u001b[A\n",
      " 97%|█████████▋| 78323/81124 [7:38:04<6:53:21,  8.85s/it]\u001b[A\n",
      " 97%|█████████▋| 78324/81124 [7:38:05<5:06:20,  6.56s/it]\u001b[A\n",
      " 97%|█████████▋| 78325/81124 [7:38:09<4:32:59,  5.85s/it]\u001b[A\n",
      " 97%|█████████▋| 78326/81124 [7:38:10<3:13:46,  4.16s/it]\u001b[A\n",
      " 97%|█████████▋| 78327/81124 [7:38:12<2:55:14,  3.76s/it]\u001b[A\n",
      " 97%|█████████▋| 78328/81124 [7:38:14<2:17:41,  2.95s/it]\u001b[A\n",
      " 97%|█████████▋| 78329/81124 [7:38:14<1:48:01,  2.32s/it]\u001b[A\n",
      " 97%|█████████▋| 78331/81124 [7:38:15<1:22:12,  1.77s/it]\u001b[A\n",
      " 97%|█████████▋| 78332/81124 [7:38:18<1:29:24,  1.92s/it]\u001b[A\n",
      " 97%|█████████▋| 78333/81124 [7:38:28<3:20:57,  4.32s/it]\u001b[A"
     ]
    },
    {
     "name": "stdout",
     "output_type": "stream",
     "text": [
      "Infected\n"
     ]
    },
    {
     "name": "stderr",
     "output_type": "stream",
     "text": [
      "\n",
      " 97%|█████████▋| 78334/81124 [7:38:39<5:02:51,  6.51s/it]\u001b[A\n",
      " 97%|█████████▋| 78335/81124 [7:39:13<11:30:22, 14.85s/it]\u001b[A\n",
      " 97%|█████████▋| 78336/81124 [7:39:16<8:32:56, 11.04s/it] \u001b[A\n",
      " 97%|█████████▋| 78337/81124 [7:39:23<7:38:45,  9.88s/it]\u001b[A\n",
      " 97%|█████████▋| 78338/81124 [7:39:25<5:48:03,  7.50s/it]\u001b[A\n",
      " 97%|█████████▋| 78339/81124 [7:39:29<5:02:18,  6.51s/it]\u001b[A\n",
      " 97%|█████████▋| 78340/81124 [7:39:41<6:22:36,  8.25s/it]\u001b[A\n",
      " 97%|█████████▋| 78341/81124 [7:39:42<4:31:46,  5.86s/it]\u001b[A\n",
      " 97%|█████████▋| 78342/81124 [7:40:30<14:26:24, 18.69s/it]\u001b[A\n",
      " 97%|█████████▋| 78343/81124 [7:40:34<11:01:18, 14.27s/it]\u001b[A\n",
      " 97%|█████████▋| 78344/81124 [7:40:36<8:14:55, 10.68s/it] \u001b[A"
     ]
    },
    {
     "name": "stdout",
     "output_type": "stream",
     "text": [
      "Infected\n",
      "Infected\n",
      "Infected\n"
     ]
    },
    {
     "name": "stderr",
     "output_type": "stream",
     "text": [
      "\n",
      " 97%|█████████▋| 78345/81124 [7:40:50<8:55:07, 11.55s/it]\u001b[A"
     ]
    },
    {
     "name": "stdout",
     "output_type": "stream",
     "text": [
      "Infected\n"
     ]
    },
    {
     "name": "stderr",
     "output_type": "stream",
     "text": [
      "\n",
      " 97%|█████████▋| 78347/81124 [7:40:54<6:38:46,  8.62s/it]\u001b[A\n",
      " 97%|█████████▋| 78348/81124 [7:40:54<4:42:25,  6.10s/it]\u001b[A\n",
      " 97%|█████████▋| 78349/81124 [7:40:54<3:19:14,  4.31s/it]\u001b[A\n",
      " 97%|█████████▋| 78350/81124 [7:40:55<2:31:19,  3.27s/it]\u001b[A\n",
      " 97%|█████████▋| 78352/81124 [7:40:55<1:48:08,  2.34s/it]\u001b[A\n",
      " 97%|█████████▋| 78353/81124 [7:41:39<11:24:39, 14.82s/it]\u001b[A\n",
      " 97%|█████████▋| 78354/81124 [7:42:01<13:04:06, 16.98s/it]\u001b[A\n",
      " 97%|█████████▋| 78355/81124 [7:42:56<21:52:36, 28.44s/it]\u001b[A\n",
      " 97%|█████████▋| 78356/81124 [7:42:57<15:33:16, 20.23s/it]\u001b[A\n",
      " 97%|█████████▋| 78357/81124 [7:43:09<13:40:57, 17.80s/it]\u001b[A\n",
      " 97%|█████████▋| 78358/81124 [7:43:18<11:37:46, 15.14s/it]\u001b[A\n",
      " 97%|█████████▋| 78359/81124 [7:43:25<9:39:25, 12.57s/it] \u001b[A\n",
      " 97%|█████████▋| 78361/81124 [7:43:25<6:48:44,  8.88s/it]\u001b[A\n",
      " 97%|█████████▋| 78362/81124 [7:43:30<5:44:05,  7.47s/it]\u001b[A\n",
      " 97%|█████████▋| 78363/81124 [7:43:36<5:25:21,  7.07s/it]\u001b[A\n",
      " 97%|█████████▋| 78364/81124 [7:43:45<6:00:45,  7.84s/it]\u001b[A\n",
      " 97%|█████████▋| 78365/81124 [7:44:01<7:46:18, 10.14s/it]\u001b[A\n",
      " 97%|█████████▋| 78366/81124 [7:44:55<17:47:15, 23.22s/it]\u001b[A\n",
      " 97%|█████████▋| 78367/81124 [7:44:55<12:30:21, 16.33s/it]\u001b[A\n",
      " 97%|█████████▋| 78368/81124 [7:44:57<9:08:22, 11.94s/it] \u001b[A\n",
      " 97%|█████████▋| 78369/81124 [7:45:03<7:47:24, 10.18s/it]\u001b[A\n",
      " 97%|█████████▋| 78370/81124 [7:45:09<6:55:13,  9.05s/it]\u001b[A\n",
      " 97%|█████████▋| 78371/81124 [7:46:02<16:52:47, 22.07s/it]\u001b[A\n",
      " 97%|█████████▋| 78372/81124 [7:46:02<11:53:18, 15.55s/it]\u001b[A\n",
      " 97%|█████████▋| 78373/81124 [7:46:05<8:56:47, 11.71s/it] \u001b[A\n",
      " 97%|█████████▋| 78374/81124 [7:46:46<15:47:56, 20.68s/it]\u001b[A\n",
      " 97%|█████████▋| 78375/81124 [7:47:26<20:04:17, 26.29s/it]\u001b[A\n",
      " 97%|█████████▋| 78376/81124 [7:47:27<14:29:01, 18.97s/it]\u001b[A\n",
      " 97%|█████████▋| 78377/81124 [7:47:58<17:06:31, 22.42s/it]\u001b[A\n",
      " 97%|█████████▋| 78378/81124 [7:48:36<20:46:00, 27.23s/it]\u001b[A\n",
      " 97%|█████████▋| 78379/81124 [7:48:37<14:37:26, 19.18s/it]\u001b[A\n",
      " 97%|█████████▋| 78380/81124 [7:48:51<13:34:45, 17.82s/it]\u001b[A\n",
      " 97%|█████████▋| 78381/81124 [7:48:56<10:27:41, 13.73s/it]\u001b[A\n",
      " 97%|█████████▋| 78382/81124 [7:48:59<7:59:05, 10.48s/it] \u001b[A\n",
      " 97%|█████████▋| 78383/81124 [7:49:01<6:12:04,  8.14s/it]\u001b[A"
     ]
    },
    {
     "name": "stdout",
     "output_type": "stream",
     "text": [
      "Infected\n",
      "Infected\n",
      "Infected\n"
     ]
    },
    {
     "name": "stderr",
     "output_type": "stream",
     "text": [
      "\n",
      " 97%|█████████▋| 78384/81124 [7:49:12<6:41:09,  8.78s/it]\u001b[A"
     ]
    },
    {
     "name": "stdout",
     "output_type": "stream",
     "text": [
      "Infected\n"
     ]
    },
    {
     "name": "stderr",
     "output_type": "stream",
     "text": [
      "\n",
      " 97%|█████████▋| 78385/81124 [7:49:14<5:13:38,  6.87s/it]\u001b[A\n",
      " 97%|█████████▋| 78386/81124 [7:49:23<5:42:58,  7.52s/it]\u001b[A"
     ]
    },
    {
     "name": "stdout",
     "output_type": "stream",
     "text": [
      "Infected\n"
     ]
    },
    {
     "name": "stderr",
     "output_type": "stream",
     "text": [
      "\n",
      " 97%|█████████▋| 78387/81124 [7:49:25<4:34:01,  6.01s/it]\u001b[A\n",
      " 97%|█████████▋| 78388/81124 [7:49:38<6:09:04,  8.09s/it]\u001b[A"
     ]
    },
    {
     "name": "stdout",
     "output_type": "stream",
     "text": [
      "Infected\n"
     ]
    },
    {
     "name": "stderr",
     "output_type": "stream",
     "text": [
      "\n",
      " 97%|█████████▋| 78389/81124 [7:49:43<5:19:12,  7.00s/it]\u001b[A\n",
      " 97%|█████████▋| 78390/81124 [7:49:45<4:08:45,  5.46s/it]\u001b[A\n",
      " 97%|█████████▋| 78391/81124 [7:49:47<3:21:55,  4.43s/it]\u001b[A\n",
      " 97%|█████████▋| 78392/81124 [7:49:47<2:31:21,  3.32s/it]\u001b[A\n",
      " 97%|█████████▋| 78393/81124 [7:49:50<2:15:10,  2.97s/it]\u001b[A\n",
      " 97%|█████████▋| 78394/81124 [7:50:00<3:57:19,  5.22s/it]\u001b[A\n",
      " 97%|█████████▋| 78395/81124 [7:51:04<17:12:32, 22.70s/it]\u001b[A\n",
      " 97%|█████████▋| 78396/81124 [7:51:42<20:41:56, 27.32s/it]\u001b[A\n",
      " 97%|█████████▋| 78397/81124 [7:51:43<14:41:56, 19.40s/it]\u001b[A\n",
      " 97%|█████████▋| 78398/81124 [7:51:44<10:38:54, 14.06s/it]\u001b[A\n",
      " 97%|█████████▋| 78400/81124 [7:51:47<7:47:49, 10.30s/it] \u001b[A\n",
      " 97%|█████████▋| 78401/81124 [7:51:50<6:01:10,  7.96s/it]\u001b[A"
     ]
    },
    {
     "name": "stdout",
     "output_type": "stream",
     "text": [
      "Infected\n"
     ]
    },
    {
     "name": "stderr",
     "output_type": "stream",
     "text": [
      "\n",
      " 97%|█████████▋| 78402/81124 [7:51:53<5:01:20,  6.64s/it]\u001b[A\n",
      " 97%|█████████▋| 78404/81124 [7:52:26<7:14:28,  9.58s/it]\u001b[A\n",
      " 97%|█████████▋| 78405/81124 [7:52:28<5:31:44,  7.32s/it]\u001b[A\n",
      " 97%|█████████▋| 78407/81124 [7:52:31<4:09:05,  5.50s/it]\u001b[A\n",
      " 97%|█████████▋| 78408/81124 [7:52:31<2:56:32,  3.90s/it]\u001b[A\n",
      " 97%|█████████▋| 78409/81124 [7:52:32<2:14:52,  2.98s/it]\u001b[A\n",
      " 97%|█████████▋| 78410/81124 [7:52:33<1:51:46,  2.47s/it]\u001b[A\n",
      " 97%|█████████▋| 78411/81124 [7:52:37<2:11:44,  2.91s/it]\u001b[A\n",
      " 97%|█████████▋| 78413/81124 [7:52:44<2:16:32,  3.02s/it]\u001b[A\n",
      " 97%|█████████▋| 78415/81124 [7:52:59<3:18:05,  4.39s/it]\u001b[A\n",
      " 97%|█████████▋| 78417/81124 [7:53:28<5:39:12,  7.52s/it]\u001b[A\n",
      " 97%|█████████▋| 78418/81124 [7:53:31<4:35:57,  6.12s/it]\u001b[A\n",
      " 97%|█████████▋| 78419/81124 [7:53:33<3:33:11,  4.73s/it]\u001b[A\n",
      " 97%|█████████▋| 78420/81124 [7:53:33<2:32:30,  3.38s/it]\u001b[A\n",
      " 97%|█████████▋| 78421/81124 [7:53:34<2:06:47,  2.81s/it]\u001b[A\n",
      " 97%|█████████▋| 78422/81124 [7:53:35<1:34:33,  2.10s/it]\u001b[A\n",
      " 97%|█████████▋| 78423/81124 [7:53:37<1:35:35,  2.12s/it]\u001b[A\n",
      " 97%|█████████▋| 78424/81124 [7:53:38<1:18:52,  1.75s/it]\u001b[A\n",
      " 97%|█████████▋| 78425/81124 [7:54:37<14:17:56, 19.07s/it]\u001b[A\n",
      " 97%|█████████▋| 78426/81124 [7:55:11<17:29:58, 23.35s/it]\u001b[A"
     ]
    },
    {
     "name": "stdout",
     "output_type": "stream",
     "text": [
      "Infected\n",
      "Infected\n",
      "Infected\n",
      "Infected\n",
      "Infected\n",
      "Infected\n",
      "Infected\n",
      "Infected\n",
      "Infected\n",
      "Infected\n",
      "Infected\n",
      "Infected\n",
      "Infected\n"
     ]
    },
    {
     "name": "stderr",
     "output_type": "stream",
     "text": [
      "\n",
      " 97%|█████████▋| 78427/81124 [7:55:36<17:53:12, 23.88s/it]\u001b[A\n",
      " 97%|█████████▋| 78428/81124 [7:55:39<13:18:35, 17.77s/it]\u001b[A\n",
      " 97%|█████████▋| 78429/81124 [7:55:40<9:23:56, 12.56s/it] \u001b[A\n",
      " 97%|█████████▋| 78430/81124 [7:56:16<14:42:34, 19.66s/it]\u001b[A\n",
      " 97%|█████████▋| 78431/81124 [7:56:25<12:25:23, 16.61s/it]\u001b[A\n",
      " 97%|█████████▋| 78432/81124 [7:56:26<8:51:59, 11.86s/it] \u001b[A\n",
      " 97%|█████████▋| 78433/81124 [7:56:38<8:47:41, 11.77s/it]\u001b[A\n",
      " 97%|█████████▋| 78434/81124 [7:57:03<11:46:53, 15.77s/it]\u001b[A\n",
      " 97%|█████████▋| 78436/81124 [7:57:04<8:20:03, 11.16s/it] \u001b[A\n",
      " 97%|█████████▋| 78437/81124 [7:57:31<11:50:11, 15.86s/it]\u001b[A\n",
      " 97%|█████████▋| 78438/81124 [7:57:37<9:44:00, 13.05s/it] \u001b[A\n",
      " 97%|█████████▋| 78441/81124 [7:57:41<7:06:15,  9.53s/it]\u001b[A\n",
      " 97%|█████████▋| 78442/81124 [7:57:49<6:40:28,  8.96s/it]\u001b[A\n",
      " 97%|█████████▋| 78443/81124 [7:57:51<5:10:42,  6.95s/it]\u001b[A\n",
      " 97%|█████████▋| 78444/81124 [7:58:05<6:48:05,  9.14s/it]\u001b[A\n",
      " 97%|█████████▋| 78445/81124 [7:58:06<4:55:12,  6.61s/it]\u001b[A\n",
      " 97%|█████████▋| 78449/81124 [7:58:06<3:27:04,  4.64s/it]\u001b[A\n",
      " 97%|█████████▋| 78451/81124 [7:58:07<2:30:14,  3.37s/it]\u001b[A"
     ]
    },
    {
     "name": "stdout",
     "output_type": "stream",
     "text": [
      "Infected\n",
      "Infected\n",
      "Infected\n"
     ]
    },
    {
     "name": "stderr",
     "output_type": "stream",
     "text": [
      "\n",
      " 97%|█████████▋| 78452/81124 [7:58:12<2:57:55,  4.00s/it]\u001b[A\n",
      " 97%|█████████▋| 78453/81124 [7:58:23<4:32:07,  6.11s/it]\u001b[A\n",
      " 97%|█████████▋| 78454/81124 [7:58:45<8:05:20, 10.91s/it]\u001b[A\n",
      " 97%|█████████▋| 78455/81124 [7:58:50<6:33:22,  8.84s/it]\u001b[A\n",
      " 97%|█████████▋| 78456/81124 [7:59:23<12:03:07, 16.26s/it]\u001b[A\n",
      " 97%|█████████▋| 78457/81124 [7:59:25<8:46:55, 11.85s/it] \u001b[A\n",
      " 97%|█████████▋| 78459/81124 [7:59:26<6:14:40,  8.44s/it]\u001b[A\n",
      " 97%|█████████▋| 78461/81124 [7:59:29<4:46:25,  6.45s/it]\u001b[A\n",
      " 97%|█████████▋| 78462/81124 [7:59:37<4:59:11,  6.74s/it]\u001b[A\n",
      " 97%|█████████▋| 78463/81124 [7:59:51<6:45:40,  9.15s/it]\u001b[A\n",
      " 97%|█████████▋| 78464/81124 [7:59:54<5:23:14,  7.29s/it]\u001b[A"
     ]
    },
    {
     "name": "stdout",
     "output_type": "stream",
     "text": [
      "Infected\n"
     ]
    },
    {
     "name": "stderr",
     "output_type": "stream",
     "text": [
      "\n",
      " 97%|█████████▋| 78466/81124 [8:00:16<6:10:31,  8.36s/it]\u001b[A\n",
      " 97%|█████████▋| 78467/81124 [8:00:47<11:14:34, 15.23s/it]\u001b[A\n",
      " 97%|█████████▋| 78468/81124 [8:01:01<10:48:26, 14.65s/it]\u001b[A\n",
      " 97%|█████████▋| 78470/81124 [8:01:01<7:36:11, 10.31s/it] \u001b[A\n",
      " 97%|█████████▋| 78471/81124 [8:01:11<7:32:02, 10.22s/it]\u001b[A\n",
      " 97%|█████████▋| 78472/81124 [8:01:12<5:27:53,  7.42s/it]\u001b[A\n",
      " 97%|█████████▋| 78473/81124 [8:01:13<4:06:02,  5.57s/it]\u001b[A\n",
      " 97%|█████████▋| 78474/81124 [8:01:16<3:35:58,  4.89s/it]\u001b[A\n",
      " 97%|█████████▋| 78475/81124 [8:01:22<3:39:53,  4.98s/it]\u001b[A\n",
      " 97%|█████████▋| 78476/81124 [8:01:28<4:03:55,  5.53s/it]\u001b[A\n",
      " 97%|█████████▋| 78477/81124 [8:01:53<8:12:00, 11.15s/it]\u001b[A\n",
      " 97%|█████████▋| 78478/81124 [8:02:07<8:46:31, 11.94s/it]\u001b[A\n",
      " 97%|█████████▋| 78479/81124 [8:02:15<8:00:24, 10.90s/it]\u001b[A"
     ]
    },
    {
     "name": "stdout",
     "output_type": "stream",
     "text": [
      "Infected\n",
      "Infected\n"
     ]
    },
    {
     "name": "stderr",
     "output_type": "stream",
     "text": [
      "\n",
      " 97%|█████████▋| 78480/81124 [8:02:43<11:44:10, 15.98s/it]\u001b[A\n",
      " 97%|█████████▋| 78481/81124 [8:02:44<8:29:40, 11.57s/it] \u001b[A\n",
      " 97%|█████████▋| 78482/81124 [8:02:46<6:19:39,  8.62s/it]\u001b[A\n",
      " 97%|█████████▋| 78483/81124 [8:02:46<4:28:35,  6.10s/it]\u001b[A\n",
      " 97%|█████████▋| 78484/81124 [8:02:50<4:02:58,  5.52s/it]\u001b[A\n",
      " 97%|█████████▋| 78485/81124 [8:02:57<4:18:30,  5.88s/it]\u001b[A\n",
      " 97%|█████████▋| 78487/81124 [8:02:57<3:03:45,  4.18s/it]\u001b[A\n",
      " 97%|█████████▋| 78488/81124 [8:03:00<2:44:11,  3.74s/it]\u001b[A\n",
      " 97%|█████████▋| 78490/81124 [8:03:02<2:04:55,  2.85s/it]\u001b[A"
     ]
    },
    {
     "name": "stdout",
     "output_type": "stream",
     "text": [
      "Infected\n"
     ]
    },
    {
     "name": "stderr",
     "output_type": "stream",
     "text": [
      "\n",
      " 97%|█████████▋| 78492/81124 [8:03:18<3:15:14,  4.45s/it]\u001b[A\n",
      " 97%|█████████▋| 78494/81124 [8:03:27<3:18:40,  4.53s/it]\u001b[A\n",
      " 97%|█████████▋| 78495/81124 [8:03:28<2:24:30,  3.30s/it]\u001b[A\n",
      " 97%|█████████▋| 78497/81124 [8:03:30<1:51:42,  2.55s/it]\u001b[A\n",
      " 97%|█████████▋| 78498/81124 [8:03:32<1:49:11,  2.50s/it]\u001b[A\n",
      " 97%|█████████▋| 78499/81124 [8:03:38<2:33:06,  3.50s/it]\u001b[A\n",
      " 97%|█████████▋| 78502/81124 [8:03:39<1:50:58,  2.54s/it]\u001b[A\n",
      " 97%|█████████▋| 78503/81124 [8:03:47<3:13:19,  4.43s/it]\u001b[A\n",
      " 97%|█████████▋| 78504/81124 [8:03:49<2:35:34,  3.56s/it]\u001b[A\n",
      " 97%|█████████▋| 78505/81124 [8:03:55<3:12:15,  4.40s/it]\u001b[A\n",
      " 97%|█████████▋| 78508/81124 [8:04:36<5:13:29,  7.19s/it]\u001b[A\n",
      " 97%|█████████▋| 78509/81124 [8:04:39<4:08:40,  5.71s/it]\u001b[A\n",
      " 97%|█████████▋| 78510/81124 [8:04:39<2:56:32,  4.05s/it]\u001b[A"
     ]
    },
    {
     "name": "stdout",
     "output_type": "stream",
     "text": [
      "Infected\n"
     ]
    },
    {
     "name": "stderr",
     "output_type": "stream",
     "text": [
      "\n",
      " 97%|█████████▋| 78511/81124 [8:04:41<2:25:52,  3.35s/it]\u001b[A"
     ]
    },
    {
     "name": "stdout",
     "output_type": "stream",
     "text": [
      "Infected\n"
     ]
    },
    {
     "name": "stderr",
     "output_type": "stream",
     "text": [
      "\n",
      " 97%|█████████▋| 78512/81124 [8:05:01<6:03:08,  8.34s/it]\u001b[A\n",
      " 97%|█████████▋| 78514/81124 [8:05:03<4:26:32,  6.13s/it]\u001b[A\n",
      " 97%|█████████▋| 78515/81124 [8:05:34<9:57:31, 13.74s/it]\u001b[A\n",
      " 97%|█████████▋| 78516/81124 [8:06:05<13:38:29, 18.83s/it]\u001b[A\n",
      " 97%|█████████▋| 78517/81124 [8:06:21<13:03:53, 18.04s/it]\u001b[A\n",
      " 97%|█████████▋| 78518/81124 [8:06:21<9:10:52, 12.68s/it] \u001b[A\n",
      " 97%|█████████▋| 78519/81124 [8:06:34<9:16:07, 12.81s/it]\u001b[A\n",
      " 97%|█████████▋| 78520/81124 [8:06:37<7:00:38,  9.69s/it]\u001b[A\n",
      " 97%|█████████▋| 78521/81124 [8:06:42<6:06:43,  8.45s/it]\u001b[A\n",
      " 97%|█████████▋| 78522/81124 [8:06:43<4:31:51,  6.27s/it]\u001b[A\n",
      " 97%|█████████▋| 78523/81124 [8:06:45<3:30:41,  4.86s/it]\u001b[A\n",
      " 97%|█████████▋| 78524/81124 [8:06:45<2:31:05,  3.49s/it]\u001b[A\n",
      " 97%|█████████▋| 78525/81124 [8:06:46<2:00:03,  2.77s/it]\u001b[A\n",
      " 97%|█████████▋| 78527/81124 [8:06:47<1:29:11,  2.06s/it]\u001b[A\n",
      " 97%|█████████▋| 78528/81124 [8:06:48<1:11:57,  1.66s/it]\u001b[A\n",
      " 97%|█████████▋| 78529/81124 [8:06:49<1:01:22,  1.42s/it]\u001b[A\n",
      " 97%|█████████▋| 78530/81124 [8:07:46<13:08:46, 18.24s/it]\u001b[A\n",
      " 97%|█████████▋| 78531/81124 [8:07:50<10:05:07, 14.00s/it]\u001b[A\n",
      " 97%|█████████▋| 78532/81124 [8:08:19<13:15:26, 18.41s/it]\u001b[A\n",
      " 97%|█████████▋| 78534/81124 [8:08:23<9:41:25, 13.47s/it] \u001b[A\n",
      " 97%|█████████▋| 78535/81124 [8:08:26<7:23:11, 10.27s/it]\u001b[A\n",
      " 97%|█████████▋| 78536/81124 [8:08:26<5:13:15,  7.26s/it]\u001b[A\n",
      " 97%|█████████▋| 78537/81124 [8:08:27<3:59:05,  5.55s/it]\u001b[A\n",
      " 97%|█████████▋| 78539/81124 [8:08:50<5:13:20,  7.27s/it]\u001b[A\n",
      " 97%|█████████▋| 78540/81124 [8:08:52<4:08:12,  5.76s/it]\u001b[A\n",
      " 97%|█████████▋| 78542/81124 [8:08:57<3:20:59,  4.67s/it]\u001b[A\n",
      " 97%|█████████▋| 78543/81124 [8:09:00<2:59:05,  4.16s/it]\u001b[A\n",
      " 97%|█████████▋| 78544/81124 [8:09:01<2:21:10,  3.28s/it]\u001b[A\n",
      " 97%|█████████▋| 78545/81124 [8:09:11<3:44:29,  5.22s/it]\u001b[A\n",
      " 97%|█████████▋| 78546/81124 [8:09:41<9:09:48, 12.80s/it]\u001b[A\n",
      " 97%|█████████▋| 78547/81124 [8:09:43<6:52:30,  9.60s/it]\u001b[A\n",
      " 97%|█████████▋| 78548/81124 [8:09:43<4:53:10,  6.83s/it]\u001b[A"
     ]
    },
    {
     "name": "stdout",
     "output_type": "stream",
     "text": [
      "Infected\n"
     ]
    },
    {
     "name": "stderr",
     "output_type": "stream",
     "text": [
      "\n",
      " 97%|█████████▋| 78551/81124 [8:10:16<5:46:06,  8.07s/it]\u001b[A\n",
      " 97%|█████████▋| 78552/81124 [8:10:22<5:17:37,  7.41s/it]\u001b[A\n",
      " 97%|█████████▋| 78553/81124 [8:11:32<18:44:33, 26.24s/it]\u001b[A\n",
      " 97%|█████████▋| 78554/81124 [8:11:35<13:43:07, 19.22s/it]\u001b[A\n",
      " 97%|█████████▋| 78555/81124 [8:11:49<12:36:53, 17.68s/it]\u001b[A"
     ]
    },
    {
     "name": "stdout",
     "output_type": "stream",
     "text": [
      "Infected\n",
      "Infected\n",
      "Infected\n"
     ]
    },
    {
     "name": "stderr",
     "output_type": "stream",
     "text": [
      "\n",
      " 97%|█████████▋| 78556/81124 [8:12:15<14:23:36, 20.18s/it]\u001b[A\n",
      " 97%|█████████▋| 78557/81124 [8:12:17<10:27:32, 14.67s/it]\u001b[A\n",
      " 97%|█████████▋| 78558/81124 [8:12:24<8:48:32, 12.36s/it] \u001b[A\n",
      " 97%|█████████▋| 78559/81124 [8:12:25<6:24:34,  9.00s/it]\u001b[A"
     ]
    },
    {
     "name": "stdout",
     "output_type": "stream",
     "text": [
      "Infected\n"
     ]
    },
    {
     "name": "stderr",
     "output_type": "stream",
     "text": [
      "\n",
      " 97%|█████████▋| 78560/81124 [8:12:35<6:28:03,  9.08s/it]\u001b[A\n",
      " 97%|█████████▋| 78561/81124 [8:12:50<7:52:01, 11.05s/it]\u001b[A\n",
      " 97%|█████████▋| 78562/81124 [8:12:52<5:51:48,  8.24s/it]\u001b[A\n",
      " 97%|█████████▋| 78563/81124 [8:13:04<6:42:21,  9.43s/it]\u001b[A\n",
      " 97%|█████████▋| 78564/81124 [8:13:11<6:11:08,  8.70s/it]\u001b[A\n",
      " 97%|█████████▋| 78565/81124 [8:13:20<6:11:53,  8.72s/it]\u001b[A\n",
      " 97%|█████████▋| 78566/81124 [8:13:22<4:52:16,  6.86s/it]\u001b[A"
     ]
    },
    {
     "name": "stdout",
     "output_type": "stream",
     "text": [
      "Infected\n",
      "Infected\n",
      "Infected\n"
     ]
    },
    {
     "name": "stderr",
     "output_type": "stream",
     "text": [
      "\n",
      " 97%|█████████▋| 78568/81124 [8:14:03<7:42:59, 10.87s/it]\u001b[A\n",
      " 97%|█████████▋| 78570/81124 [8:14:08<5:58:19,  8.42s/it]\u001b[A\n",
      " 97%|█████████▋| 78572/81124 [8:15:00<9:39:56, 13.63s/it]\u001b[A\n",
      " 97%|█████████▋| 78573/81124 [8:15:06<8:02:50, 11.36s/it]\u001b[A\n",
      " 97%|█████████▋| 78574/81124 [8:15:55<16:06:23, 22.74s/it]\u001b[A\n",
      " 97%|█████████▋| 78575/81124 [8:15:57<11:37:01, 16.41s/it]\u001b[A\n",
      " 97%|█████████▋| 78576/81124 [8:16:53<20:04:54, 28.37s/it]\u001b[A\n",
      " 97%|█████████▋| 78577/81124 [8:16:54<14:14:01, 20.12s/it]\u001b[A\n",
      " 97%|█████████▋| 78578/81124 [8:17:30<17:38:26, 24.94s/it]\u001b[A\n",
      " 97%|█████████▋| 78579/81124 [8:17:40<14:28:17, 20.47s/it]\u001b[A"
     ]
    },
    {
     "name": "stdout",
     "output_type": "stream",
     "text": [
      "Infected\n"
     ]
    },
    {
     "name": "stderr",
     "output_type": "stream",
     "text": [
      "\n",
      " 97%|█████████▋| 78581/81124 [8:17:58<12:02:56, 17.06s/it]\u001b[A\n",
      " 97%|█████████▋| 78582/81124 [8:17:59<8:29:53, 12.04s/it] \u001b[A\n",
      " 97%|█████████▋| 78583/81124 [8:18:00<6:14:23,  8.84s/it]\u001b[A\n",
      " 97%|█████████▋| 78584/81124 [8:18:03<4:57:32,  7.03s/it]\u001b[A\n",
      " 97%|█████████▋| 78585/81124 [8:18:08<4:27:53,  6.33s/it]\u001b[A\n",
      " 97%|█████████▋| 78586/81124 [8:18:08<3:09:24,  4.48s/it]\u001b[A"
     ]
    },
    {
     "name": "stdout",
     "output_type": "stream",
     "text": [
      "Infected\n"
     ]
    },
    {
     "name": "stderr",
     "output_type": "stream",
     "text": [
      "\n",
      " 97%|█████████▋| 78587/81124 [8:18:10<2:35:43,  3.68s/it]\u001b[A\n",
      " 97%|█████████▋| 78588/81124 [8:18:16<3:04:39,  4.37s/it]\u001b[A\n",
      " 97%|█████████▋| 78590/81124 [8:18:24<3:04:43,  4.37s/it]\u001b[A\n",
      " 97%|█████████▋| 78591/81124 [8:18:27<2:41:59,  3.84s/it]\u001b[A\n",
      " 97%|█████████▋| 78592/81124 [8:18:28<2:06:27,  3.00s/it]\u001b[A"
     ]
    },
    {
     "name": "stdout",
     "output_type": "stream",
     "text": [
      "Infected\n"
     ]
    },
    {
     "name": "stderr",
     "output_type": "stream",
     "text": [
      "\n",
      " 97%|█████████▋| 78593/81124 [8:18:29<1:46:31,  2.53s/it]\u001b[A\n",
      " 97%|█████████▋| 78594/81124 [8:19:03<8:19:57, 11.86s/it]\u001b[A\n",
      " 97%|█████████▋| 78595/81124 [8:19:04<6:04:31,  8.65s/it]\u001b[A"
     ]
    },
    {
     "name": "stdout",
     "output_type": "stream",
     "text": [
      "Infected\n"
     ]
    },
    {
     "name": "stderr",
     "output_type": "stream",
     "text": [
      "\n",
      " 97%|█████████▋| 78596/81124 [8:19:13<6:08:18,  8.74s/it]\u001b[A\n",
      " 97%|█████████▋| 78597/81124 [8:19:14<4:29:16,  6.39s/it]\u001b[A\n",
      " 97%|█████████▋| 78598/81124 [8:19:26<5:38:45,  8.05s/it]\u001b[A\n",
      " 97%|█████████▋| 78599/81124 [8:19:29<4:29:44,  6.41s/it]\u001b[A\n",
      " 97%|█████████▋| 78600/81124 [8:19:51<7:47:23, 11.11s/it]\u001b[A\n",
      " 97%|█████████▋| 78601/81124 [8:19:52<5:45:40,  8.22s/it]\u001b[A"
     ]
    },
    {
     "name": "stdout",
     "output_type": "stream",
     "text": [
      "Infected\n",
      "Infected\n",
      "Infected\n",
      "Infected\n"
     ]
    },
    {
     "name": "stderr",
     "output_type": "stream",
     "text": [
      "\n",
      " 97%|█████████▋| 78602/81124 [8:20:09<7:38:45, 10.91s/it]\u001b[A\n",
      " 97%|█████████▋| 78603/81124 [8:20:11<5:39:01,  8.07s/it]\u001b[A"
     ]
    },
    {
     "name": "stdout",
     "output_type": "stream",
     "text": [
      "Infected\n"
     ]
    },
    {
     "name": "stderr",
     "output_type": "stream",
     "text": [
      "\n",
      " 97%|█████████▋| 78604/81124 [8:20:23<6:34:11,  9.39s/it]\u001b[A\n",
      " 97%|█████████▋| 78605/81124 [8:20:56<11:30:11, 16.44s/it]\u001b[A\n",
      " 97%|█████████▋| 78606/81124 [8:21:18<12:37:18, 18.05s/it]\u001b[A"
     ]
    },
    {
     "name": "stdout",
     "output_type": "stream",
     "text": [
      "Infected\n"
     ]
    },
    {
     "name": "stderr",
     "output_type": "stream",
     "text": [
      "\n",
      " 97%|█████████▋| 78607/81124 [8:21:21<9:31:32, 13.62s/it] \u001b[A\n",
      " 97%|█████████▋| 78608/81124 [8:21:24<7:14:10, 10.35s/it]\u001b[A\n",
      " 97%|█████████▋| 78609/81124 [8:21:58<12:09:19, 17.40s/it]\u001b[A\n",
      " 97%|█████████▋| 78610/81124 [8:21:59<8:47:28, 12.59s/it] \u001b[A\n",
      " 97%|█████████▋| 78611/81124 [8:22:03<6:53:21,  9.87s/it]\u001b[A\n",
      " 97%|█████████▋| 78613/81124 [8:22:04<4:55:03,  7.05s/it]\u001b[A\n",
      " 97%|█████████▋| 78616/81124 [8:22:31<5:21:00,  7.68s/it]\u001b[A\n",
      " 97%|█████████▋| 78617/81124 [8:22:31<3:48:15,  5.46s/it]\u001b[A\n",
      " 97%|█████████▋| 78618/81124 [8:22:40<4:32:41,  6.53s/it]\u001b[A\n",
      " 97%|█████████▋| 78622/81124 [8:22:41<3:13:59,  4.65s/it]\u001b[A\n",
      " 97%|█████████▋| 78623/81124 [8:22:51<4:21:43,  6.28s/it]\u001b[A\n",
      " 97%|█████████▋| 78624/81124 [8:22:52<3:11:52,  4.60s/it]\u001b[A"
     ]
    },
    {
     "name": "stdout",
     "output_type": "stream",
     "text": [
      "Infected\n",
      "Infected\n"
     ]
    },
    {
     "name": "stderr",
     "output_type": "stream",
     "text": [
      "\n",
      " 97%|█████████▋| 78625/81124 [8:23:01<4:09:18,  5.99s/it]\u001b[A\n",
      " 97%|█████████▋| 78626/81124 [8:23:02<2:57:21,  4.26s/it]\u001b[A\n",
      " 97%|█████████▋| 78627/81124 [8:23:03<2:20:45,  3.38s/it]\u001b[A\n",
      " 97%|█████████▋| 78628/81124 [8:23:48<10:58:57, 15.84s/it]\u001b[A\n",
      " 97%|█████████▋| 78629/81124 [8:24:05<11:11:32, 16.15s/it]\u001b[A\n",
      " 97%|█████████▋| 78630/81124 [8:24:07<8:19:52, 12.03s/it] \u001b[A\n",
      " 97%|█████████▋| 78631/81124 [8:24:40<12:41:37, 18.33s/it]\u001b[A\n",
      " 97%|█████████▋| 78632/81124 [8:25:27<18:41:26, 27.00s/it]\u001b[A\n",
      " 97%|█████████▋| 78633/81124 [8:25:28<13:07:39, 18.97s/it]\u001b[A"
     ]
    },
    {
     "name": "stdout",
     "output_type": "stream",
     "text": [
      "Infected\n"
     ]
    },
    {
     "name": "stderr",
     "output_type": "stream",
     "text": [
      "\n",
      " 97%|█████████▋| 78634/81124 [8:26:09<17:42:01, 25.59s/it]\u001b[A"
     ]
    },
    {
     "name": "stdout",
     "output_type": "stream",
     "text": [
      "Infected\n"
     ]
    },
    {
     "name": "stderr",
     "output_type": "stream",
     "text": [
      "\n",
      " 97%|█████████▋| 78635/81124 [8:26:10<12:35:33, 18.21s/it]\u001b[A\n",
      " 97%|█████████▋| 78636/81124 [8:26:11<9:01:59, 13.07s/it] \u001b[A\n",
      " 97%|█████████▋| 78637/81124 [8:26:20<8:15:56, 11.96s/it]\u001b[A"
     ]
    },
    {
     "name": "stdout",
     "output_type": "stream",
     "text": [
      "Infected\n"
     ]
    },
    {
     "name": "stderr",
     "output_type": "stream",
     "text": [
      "\n",
      " 97%|█████████▋| 78638/81124 [8:26:23<6:24:10,  9.27s/it]\u001b[A\n",
      " 97%|█████████▋| 78639/81124 [8:26:28<5:29:03,  7.94s/it]\u001b[A\n",
      " 97%|█████████▋| 78640/81124 [8:26:33<4:50:51,  7.03s/it]\u001b[A\n",
      " 97%|█████████▋| 78641/81124 [8:26:35<3:43:48,  5.41s/it]\u001b[A\n",
      " 97%|█████████▋| 78642/81124 [8:26:39<3:35:34,  5.21s/it]\u001b[A\n",
      " 97%|█████████▋| 78643/81124 [8:27:06<7:57:25, 11.55s/it]\u001b[A\n",
      " 97%|█████████▋| 78644/81124 [8:27:48<14:19:34, 20.80s/it]\u001b[A\n",
      " 97%|█████████▋| 78646/81124 [8:27:53<10:30:22, 15.26s/it]\u001b[A\n",
      " 97%|█████████▋| 78647/81124 [8:28:00<8:50:03, 12.84s/it] \u001b[A\n",
      " 97%|█████████▋| 78648/81124 [8:28:02<6:35:39,  9.59s/it]\u001b[A\n",
      " 97%|█████████▋| 78649/81124 [8:28:03<4:49:08,  7.01s/it]\u001b[A\n",
      " 97%|█████████▋| 78651/81124 [8:28:34<6:35:05,  9.59s/it]\u001b[A\n",
      " 97%|█████████▋| 78652/81124 [8:28:57<9:19:26, 13.58s/it]\u001b[A\n",
      " 97%|█████████▋| 78653/81124 [8:28:59<7:00:42, 10.22s/it]\u001b[A\n",
      " 97%|█████████▋| 78654/81124 [8:29:32<11:41:59, 17.05s/it]\u001b[A\n",
      " 97%|█████████▋| 78655/81124 [8:29:35<8:39:21, 12.62s/it] \u001b[A\n",
      " 97%|█████████▋| 78656/81124 [8:29:35<6:06:56,  8.92s/it]\u001b[A\n",
      " 97%|█████████▋| 78657/81124 [8:30:22<13:55:10, 20.31s/it]\u001b[A\n",
      " 97%|█████████▋| 78658/81124 [8:30:24<10:15:37, 14.98s/it]\u001b[A\n",
      " 97%|█████████▋| 78659/81124 [8:30:25<7:25:06, 10.83s/it] \u001b[A\n",
      " 97%|█████████▋| 78660/81124 [8:30:35<7:06:04, 10.38s/it]\u001b[A\n",
      " 97%|█████████▋| 78661/81124 [8:30:36<5:12:52,  7.62s/it]\u001b[A\n",
      " 97%|█████████▋| 78662/81124 [8:30:36<3:41:34,  5.40s/it]\u001b[A\n",
      " 97%|█████████▋| 78663/81124 [8:31:22<12:04:24, 17.66s/it]\u001b[A\n",
      " 97%|█████████▋| 78664/81124 [8:31:42<12:22:51, 18.12s/it]\u001b[A\n",
      " 97%|█████████▋| 78666/81124 [8:32:23<12:53:15, 18.88s/it]\u001b[A\n",
      " 97%|█████████▋| 78668/81124 [8:32:25<9:16:33, 13.60s/it] \u001b[A\n",
      " 97%|█████████▋| 78669/81124 [8:32:27<6:50:29, 10.03s/it]\u001b[A\n",
      " 97%|█████████▋| 78670/81124 [8:32:28<4:57:49,  7.28s/it]\u001b[A\n",
      " 97%|█████████▋| 78671/81124 [8:32:32<4:11:18,  6.15s/it]\u001b[A\n",
      " 97%|█████████▋| 78672/81124 [8:32:45<5:35:54,  8.22s/it]\u001b[A\n",
      " 97%|█████████▋| 78674/81124 [8:32:46<4:01:49,  5.92s/it]\u001b[A\n",
      " 97%|█████████▋| 78675/81124 [8:32:47<2:58:39,  4.38s/it]\u001b[A\n",
      " 97%|█████████▋| 78676/81124 [8:32:47<2:08:12,  3.14s/it]\u001b[A\n",
      " 97%|█████████▋| 78677/81124 [8:32:51<2:16:18,  3.34s/it]\u001b[A\n",
      " 97%|█████████▋| 78679/81124 [8:32:56<2:11:06,  3.22s/it]\u001b[A\n",
      " 97%|█████████▋| 78680/81124 [8:32:58<1:45:14,  2.58s/it]\u001b[A\n",
      " 97%|█████████▋| 78681/81124 [8:32:58<1:16:05,  1.87s/it]\u001b[A\n",
      " 97%|█████████▋| 78682/81124 [8:32:58<58:14,  1.43s/it]  \u001b[A\n",
      " 97%|█████████▋| 78683/81124 [8:33:09<2:56:04,  4.33s/it]\u001b[A\n",
      " 97%|█████████▋| 78684/81124 [8:33:59<12:04:23, 17.81s/it]\u001b[A\n",
      " 97%|█████████▋| 78685/81124 [8:34:22<13:10:09, 19.44s/it]\u001b[A\n",
      " 97%|█████████▋| 78686/81124 [8:34:22<9:15:35, 13.67s/it] \u001b[A\n",
      " 97%|█████████▋| 78689/81124 [8:34:25<6:39:49,  9.85s/it]\u001b[A\n",
      " 97%|█████████▋| 78690/81124 [8:34:43<8:20:14, 12.33s/it]\u001b[A\n",
      " 97%|█████████▋| 78691/81124 [8:35:11<11:27:12, 16.95s/it]\u001b[A\n",
      " 97%|█████████▋| 78692/81124 [8:35:25<10:59:40, 16.27s/it]\u001b[A\n",
      " 97%|█████████▋| 78694/81124 [8:35:27<7:53:09, 11.68s/it] \u001b[A\n",
      " 97%|█████████▋| 78695/81124 [8:35:36<7:16:47, 10.79s/it]\u001b[A\n",
      " 97%|█████████▋| 78696/81124 [8:35:37<5:16:31,  7.82s/it]\u001b[A\n",
      " 97%|█████████▋| 78697/81124 [8:35:40<4:16:25,  6.34s/it]\u001b[A"
     ]
    },
    {
     "name": "stdout",
     "output_type": "stream",
     "text": [
      "Infected\n"
     ]
    },
    {
     "name": "stderr",
     "output_type": "stream",
     "text": [
      "\n",
      " 97%|█████████▋| 78698/81124 [8:35:45<3:57:43,  5.88s/it]\u001b[A\n",
      " 97%|█████████▋| 78699/81124 [8:35:46<3:04:40,  4.57s/it]\u001b[A\n",
      " 97%|█████████▋| 78700/81124 [8:35:48<2:30:21,  3.72s/it]\u001b[A\n",
      " 97%|█████████▋| 78701/81124 [8:36:25<9:20:48, 13.89s/it]\u001b[A\n",
      " 97%|█████████▋| 78702/81124 [8:36:26<6:38:04,  9.86s/it]\u001b[A\n",
      " 97%|█████████▋| 78704/81124 [8:36:27<4:45:28,  7.08s/it]\u001b[A\n",
      " 97%|█████████▋| 78705/81124 [8:36:28<3:29:54,  5.21s/it]\u001b[A\n",
      " 97%|█████████▋| 78706/81124 [8:36:30<2:55:47,  4.36s/it]\u001b[A"
     ]
    },
    {
     "name": "stdout",
     "output_type": "stream",
     "text": [
      "Infected\n"
     ]
    },
    {
     "name": "stderr",
     "output_type": "stream",
     "text": [
      "\n",
      " 97%|█████████▋| 78707/81124 [8:36:59<7:49:19, 11.65s/it]\u001b[A\n",
      " 97%|█████████▋| 78708/81124 [8:37:00<5:43:32,  8.53s/it]\u001b[A\n",
      " 97%|█████████▋| 78709/81124 [8:37:00<4:02:15,  6.02s/it]\u001b[A\n",
      " 97%|█████████▋| 78710/81124 [8:37:34<9:39:10, 14.40s/it]\u001b[A\n",
      " 97%|█████████▋| 78712/81124 [8:37:34<6:45:58, 10.10s/it]\u001b[A\n",
      " 97%|█████████▋| 78713/81124 [8:38:02<10:16:35, 15.34s/it]\u001b[A\n",
      " 97%|█████████▋| 78714/81124 [8:38:24<11:37:17, 17.36s/it]\u001b[A\n",
      " 97%|█████████▋| 78715/81124 [8:38:52<13:50:00, 20.67s/it]\u001b[A\n",
      " 97%|█████████▋| 78717/81124 [8:39:00<10:27:26, 15.64s/it]\u001b[A\n",
      " 97%|█████████▋| 78719/81124 [8:39:07<7:58:46, 11.94s/it] \u001b[A\n",
      " 97%|█████████▋| 78720/81124 [8:39:15<7:07:12, 10.66s/it]\u001b[A\n",
      " 97%|█████████▋| 78722/81124 [8:39:16<5:06:28,  7.66s/it]\u001b[A\n",
      " 97%|█████████▋| 78724/81124 [8:39:24<4:23:31,  6.59s/it]\u001b[A\n",
      " 97%|█████████▋| 78725/81124 [8:39:52<8:41:36, 13.05s/it]\u001b[A\n",
      " 97%|█████████▋| 78726/81124 [8:40:04<8:21:41, 12.55s/it]\u001b[A\n",
      " 97%|█████████▋| 78727/81124 [8:40:06<6:18:49,  9.48s/it]\u001b[A"
     ]
    },
    {
     "name": "stdout",
     "output_type": "stream",
     "text": [
      "Infected\n"
     ]
    },
    {
     "name": "stderr",
     "output_type": "stream",
     "text": [
      "\n",
      " 97%|█████████▋| 78728/81124 [8:40:42<11:36:43, 17.45s/it]\u001b[A"
     ]
    },
    {
     "name": "stdout",
     "output_type": "stream",
     "text": [
      "Infected\n"
     ]
    },
    {
     "name": "stderr",
     "output_type": "stream",
     "text": [
      "\n",
      " 97%|█████████▋| 78729/81124 [8:41:10<13:38:55, 20.52s/it]\u001b[A\n",
      " 97%|█████████▋| 78730/81124 [8:41:11<9:44:33, 14.65s/it] \u001b[A\n",
      " 97%|█████████▋| 78733/81124 [8:41:13<7:00:11, 10.54s/it]\u001b[A\n",
      " 97%|█████████▋| 78734/81124 [8:41:14<4:58:51,  7.50s/it]\u001b[A\n",
      " 97%|█████████▋| 78735/81124 [8:41:16<3:56:45,  5.95s/it]\u001b[A\n",
      " 97%|█████████▋| 78737/81124 [8:41:18<2:54:06,  4.38s/it]\u001b[A\n",
      " 97%|█████████▋| 78738/81124 [8:41:19<2:19:39,  3.51s/it]\u001b[A\n",
      " 97%|█████████▋| 78739/81124 [8:41:30<3:53:39,  5.88s/it]\u001b[A\n",
      " 97%|█████████▋| 78740/81124 [8:41:33<3:16:39,  4.95s/it]\u001b[A\n",
      " 97%|█████████▋| 78741/81124 [8:41:45<4:41:07,  7.08s/it]\u001b[A\n",
      " 97%|█████████▋| 78742/81124 [8:41:45<3:18:45,  5.01s/it]\u001b[A\n",
      " 97%|█████████▋| 78743/81124 [8:41:46<2:23:17,  3.61s/it]\u001b[A\n",
      " 97%|█████████▋| 78744/81124 [8:41:48<2:02:30,  3.09s/it]\u001b[A\n",
      " 97%|█████████▋| 78746/81124 [8:41:50<1:41:49,  2.57s/it]\u001b[A"
     ]
    },
    {
     "name": "stdout",
     "output_type": "stream",
     "text": [
      "Infected\n"
     ]
    },
    {
     "name": "stderr",
     "output_type": "stream",
     "text": [
      "\n",
      " 97%|█████████▋| 78748/81124 [8:42:22<4:21:16,  6.60s/it]\u001b[A"
     ]
    },
    {
     "name": "stdout",
     "output_type": "stream",
     "text": [
      "Infected\n",
      "Infected\n"
     ]
    },
    {
     "name": "stderr",
     "output_type": "stream",
     "text": [
      "\n",
      " 97%|█████████▋| 78749/81124 [8:42:46<7:41:13, 11.65s/it]\u001b[A\n",
      " 97%|█████████▋| 78750/81124 [8:42:49<6:05:17,  9.23s/it]\u001b[A\n",
      " 97%|█████████▋| 78751/81124 [8:42:51<4:31:31,  6.87s/it]\u001b[A\n",
      " 97%|█████████▋| 78752/81124 [8:42:53<3:31:05,  5.34s/it]\u001b[A\n",
      " 97%|█████████▋| 78755/81124 [8:43:13<3:49:33,  5.81s/it]\u001b[A\n",
      " 97%|█████████▋| 78756/81124 [8:43:15<2:59:39,  4.55s/it]\u001b[A\n",
      " 97%|█████████▋| 78757/81124 [8:43:15<2:10:35,  3.31s/it]\u001b[A\n",
      " 97%|█████████▋| 78759/81124 [8:43:16<1:35:52,  2.43s/it]\u001b[A\n",
      " 97%|█████████▋| 78760/81124 [8:43:21<2:00:24,  3.06s/it]\u001b[A\n",
      " 97%|█████████▋| 78761/81124 [8:43:39<4:55:47,  7.51s/it]\u001b[A\n",
      " 97%|█████████▋| 78762/81124 [8:43:41<4:00:29,  6.11s/it]\u001b[A\n",
      " 97%|█████████▋| 78763/81124 [8:43:44<3:21:20,  5.12s/it]\u001b[A\n",
      " 97%|█████████▋| 78766/81124 [8:43:55<3:01:50,  4.63s/it]\u001b[A\n",
      " 97%|█████████▋| 78767/81124 [8:44:01<3:26:03,  5.25s/it]\u001b[A\n",
      " 97%|█████████▋| 78768/81124 [8:44:21<6:10:23,  9.43s/it]\u001b[A\n",
      " 97%|█████████▋| 78769/81124 [8:44:21<4:30:21,  6.89s/it]\u001b[A\n",
      " 97%|█████████▋| 78771/81124 [8:44:22<3:09:56,  4.84s/it]\u001b[A\n",
      " 97%|█████████▋| 78772/81124 [8:44:23<2:32:49,  3.90s/it]\u001b[A\n",
      " 97%|█████████▋| 78773/81124 [8:44:39<4:48:30,  7.36s/it]\u001b[A\n",
      " 97%|█████████▋| 78774/81124 [8:44:48<5:13:46,  8.01s/it]\u001b[A"
     ]
    },
    {
     "name": "stdout",
     "output_type": "stream",
     "text": [
      "Infected\n"
     ]
    },
    {
     "name": "stderr",
     "output_type": "stream",
     "text": [
      "\n",
      " 97%|█████████▋| 78776/81124 [8:44:56<4:26:11,  6.80s/it]\u001b[A\n",
      " 97%|█████████▋| 78777/81124 [8:45:01<4:03:48,  6.23s/it]\u001b[A\n",
      " 97%|█████████▋| 78778/81124 [8:45:01<2:52:37,  4.41s/it]\u001b[A\n",
      " 97%|█████████▋| 78780/81124 [8:45:02<2:02:16,  3.13s/it]\u001b[A\n",
      " 97%|█████████▋| 78781/81124 [8:45:03<1:36:28,  2.47s/it]\u001b[A\n",
      " 97%|█████████▋| 78782/81124 [8:45:29<6:12:50,  9.55s/it]\u001b[A\n",
      " 97%|█████████▋| 78783/81124 [8:45:32<4:55:59,  7.59s/it]\u001b[A\n",
      " 97%|█████████▋| 78784/81124 [8:45:58<8:37:33, 13.27s/it]\u001b[A\n",
      " 97%|█████████▋| 78785/81124 [8:45:58<6:04:27,  9.35s/it]\u001b[A\n",
      " 97%|█████████▋| 78786/81124 [8:46:36<11:32:51, 17.78s/it]\u001b[A\n",
      " 97%|█████████▋| 78787/81124 [8:47:12<15:07:51, 23.31s/it]\u001b[A\n",
      " 97%|█████████▋| 78789/81124 [8:47:50<14:17:07, 22.02s/it]\u001b[A\n",
      " 97%|█████████▋| 78790/81124 [8:48:38<19:17:56, 29.77s/it]\u001b[A\n",
      " 97%|█████████▋| 78791/81124 [8:48:39<13:44:49, 21.21s/it]\u001b[A\n",
      " 97%|█████████▋| 78792/81124 [8:48:41<10:01:25, 15.47s/it]\u001b[A\n",
      " 97%|█████████▋| 78793/81124 [8:48:43<7:26:13, 11.49s/it] \u001b[A\n",
      " 97%|█████████▋| 78794/81124 [8:48:46<5:41:35,  8.80s/it]\u001b[A\n",
      " 97%|█████████▋| 78795/81124 [8:48:49<4:35:55,  7.11s/it]\u001b[A\n",
      " 97%|█████████▋| 78796/81124 [8:48:49<3:16:59,  5.08s/it]\u001b[A\n",
      " 97%|█████████▋| 78797/81124 [8:48:50<2:26:28,  3.78s/it]\u001b[A\n",
      " 97%|█████████▋| 78798/81124 [8:49:01<3:48:59,  5.91s/it]\u001b[A\n",
      " 97%|█████████▋| 78799/81124 [8:49:02<2:56:32,  4.56s/it]\u001b[A\n",
      " 97%|█████████▋| 78801/81124 [8:49:05<2:16:31,  3.53s/it]\u001b[A\n",
      " 97%|█████████▋| 78803/81124 [8:49:29<3:58:50,  6.17s/it]\u001b[A\n",
      " 97%|█████████▋| 78805/81124 [8:49:30<2:49:12,  4.38s/it]\u001b[A\n",
      " 97%|█████████▋| 78806/81124 [8:49:33<2:29:54,  3.88s/it]\u001b[A\n",
      " 97%|█████████▋| 78807/81124 [8:50:05<8:06:52, 12.61s/it]\u001b[A\n",
      " 97%|█████████▋| 78808/81124 [8:50:07<5:53:01,  9.15s/it]\u001b[A"
     ]
    },
    {
     "name": "stdout",
     "output_type": "stream",
     "text": [
      "Infected\n"
     ]
    },
    {
     "name": "stderr",
     "output_type": "stream",
     "text": [
      "\n",
      " 97%|█████████▋| 78809/81124 [8:50:20<6:39:10, 10.35s/it]\u001b[A"
     ]
    },
    {
     "name": "stdout",
     "output_type": "stream",
     "text": [
      "Infected\n"
     ]
    },
    {
     "name": "stderr",
     "output_type": "stream",
     "text": [
      "\n",
      " 97%|█████████▋| 78810/81124 [8:50:26<5:53:43,  9.17s/it]\u001b[A\n",
      " 97%|█████████▋| 78811/81124 [8:50:59<10:29:01, 16.32s/it]\u001b[A\n",
      " 97%|█████████▋| 78812/81124 [8:51:01<7:42:06, 11.99s/it] \u001b[A"
     ]
    },
    {
     "name": "stdout",
     "output_type": "stream",
     "text": [
      "Infected\n",
      "Infected\n"
     ]
    },
    {
     "name": "stderr",
     "output_type": "stream",
     "text": [
      "\n",
      " 97%|█████████▋| 78814/81124 [8:51:14<6:36:22, 10.30s/it]\u001b[A\n",
      " 97%|█████████▋| 78815/81124 [8:51:17<5:14:29,  8.17s/it]\u001b[A\n",
      " 97%|█████████▋| 78816/81124 [8:51:18<3:53:23,  6.07s/it]\u001b[A\n",
      " 97%|█████████▋| 78818/81124 [8:51:18<2:44:56,  4.29s/it]\u001b[A\n",
      " 97%|█████████▋| 78820/81124 [8:51:29<2:56:11,  4.59s/it]\u001b[A\n",
      " 97%|█████████▋| 78821/81124 [8:51:34<2:59:13,  4.67s/it]\u001b[A\n",
      " 97%|█████████▋| 78822/81124 [8:51:34<2:09:30,  3.38s/it]\u001b[A\n",
      " 97%|█████████▋| 78823/81124 [8:51:35<1:41:37,  2.65s/it]\u001b[A\n",
      " 97%|█████████▋| 78824/81124 [8:51:37<1:37:29,  2.54s/it]\u001b[A\n",
      " 97%|█████████▋| 78826/81124 [8:51:45<1:53:57,  2.98s/it]\u001b[A\n",
      " 97%|█████████▋| 78827/81124 [8:51:46<1:21:43,  2.13s/it]\u001b[A\n",
      " 97%|█████████▋| 78828/81124 [8:51:46<1:05:21,  1.71s/it]\u001b[A\n",
      " 97%|█████████▋| 78829/81124 [8:51:47<57:33,  1.50s/it]  \u001b[A\n",
      " 97%|█████████▋| 78830/81124 [8:51:51<1:27:24,  2.29s/it]\u001b[A\n",
      " 97%|█████████▋| 78831/81124 [8:51:52<1:04:43,  1.69s/it]\u001b[A\n",
      " 97%|█████████▋| 78832/81124 [8:52:19<5:56:14,  9.33s/it]\u001b[A\n",
      " 97%|█████████▋| 78833/81124 [8:52:53<10:36:44, 16.68s/it]\u001b[A\n",
      " 97%|█████████▋| 78834/81124 [8:53:14<11:25:16, 17.95s/it]\u001b[A\n",
      " 97%|█████████▋| 78836/81124 [8:53:46<11:05:53, 17.46s/it]\u001b[A\n",
      " 97%|█████████▋| 78838/81124 [8:53:47<7:47:47, 12.28s/it] \u001b[A\n",
      " 97%|█████████▋| 78839/81124 [8:53:47<5:29:19,  8.65s/it]\u001b[A\n",
      " 97%|█████████▋| 78840/81124 [8:53:49<4:11:31,  6.61s/it]\u001b[A\n",
      " 97%|█████████▋| 78841/81124 [8:53:50<3:08:51,  4.96s/it]\u001b[A\n",
      " 97%|█████████▋| 78842/81124 [8:53:52<2:42:35,  4.27s/it]\u001b[A"
     ]
    },
    {
     "name": "stdout",
     "output_type": "stream",
     "text": [
      "Infected\n",
      "Infected\n"
     ]
    },
    {
     "name": "stderr",
     "output_type": "stream",
     "text": [
      "\n",
      " 97%|█████████▋| 78843/81124 [8:53:58<2:56:14,  4.64s/it]\u001b[A\n",
      " 97%|█████████▋| 78845/81124 [8:54:08<3:02:18,  4.80s/it]\u001b[A\n",
      " 97%|█████████▋| 78847/81124 [8:54:09<2:12:26,  3.49s/it]\u001b[A\n",
      " 97%|█████████▋| 78848/81124 [8:54:11<1:58:14,  3.12s/it]\u001b[A\n",
      " 97%|█████████▋| 78849/81124 [8:54:13<1:43:36,  2.73s/it]\u001b[A"
     ]
    },
    {
     "name": "stdout",
     "output_type": "stream",
     "text": [
      "Infected\n"
     ]
    },
    {
     "name": "stderr",
     "output_type": "stream",
     "text": [
      "\n",
      " 97%|█████████▋| 78851/81124 [8:54:24<2:12:52,  3.51s/it]\u001b[A\n",
      " 97%|█████████▋| 78853/81124 [8:54:30<2:05:16,  3.31s/it]\u001b[A"
     ]
    },
    {
     "name": "stdout",
     "output_type": "stream",
     "text": [
      "Infected\n"
     ]
    },
    {
     "name": "stderr",
     "output_type": "stream",
     "text": [
      "\n",
      " 97%|█████████▋| 78855/81124 [8:54:51<3:31:43,  5.60s/it]\u001b[A\n",
      " 97%|█████████▋| 78856/81124 [8:54:54<2:56:45,  4.68s/it]\u001b[A\n",
      " 97%|█████████▋| 78857/81124 [8:55:17<6:28:00, 10.27s/it]\u001b[A\n",
      " 97%|█████████▋| 78860/81124 [8:55:19<4:36:41,  7.33s/it]\u001b[A\n",
      " 97%|█████████▋| 78861/81124 [8:55:19<3:22:09,  5.36s/it]\u001b[A\n",
      " 97%|█████████▋| 78862/81124 [8:55:28<4:02:47,  6.44s/it]\u001b[A\n",
      " 97%|█████████▋| 78863/81124 [8:55:29<2:52:32,  4.58s/it]\u001b[A\n",
      " 97%|█████████▋| 78864/81124 [8:55:38<3:44:10,  5.95s/it]\u001b[A\n",
      " 97%|█████████▋| 78865/81124 [8:55:42<3:24:13,  5.42s/it]\u001b[A\n",
      " 97%|█████████▋| 78866/81124 [8:55:43<2:32:05,  4.04s/it]\u001b[A\n",
      " 97%|█████████▋| 78867/81124 [8:55:45<2:13:08,  3.54s/it]\u001b[A\n",
      " 97%|█████████▋| 78869/81124 [8:55:48<1:47:50,  2.87s/it]\u001b[A\n",
      " 97%|█████████▋| 78870/81124 [8:55:49<1:34:38,  2.52s/it]\u001b[A\n",
      " 97%|█████████▋| 78871/81124 [8:55:55<2:04:50,  3.32s/it]\u001b[A\n",
      " 97%|█████████▋| 78872/81124 [8:56:07<3:46:38,  6.04s/it]\u001b[A"
     ]
    },
    {
     "name": "stdout",
     "output_type": "stream",
     "text": [
      "Infected\n"
     ]
    },
    {
     "name": "stderr",
     "output_type": "stream",
     "text": [
      "\n",
      " 97%|█████████▋| 78873/81124 [8:56:11<3:20:25,  5.34s/it]\u001b[A\n",
      " 97%|█████████▋| 78874/81124 [8:56:49<9:34:55, 15.33s/it]\u001b[A"
     ]
    },
    {
     "name": "stdout",
     "output_type": "stream",
     "text": [
      "Infected\n",
      "Infected\n"
     ]
    },
    {
     "name": "stderr",
     "output_type": "stream",
     "text": [
      "\n",
      " 97%|█████████▋| 78875/81124 [8:56:54<7:29:26, 11.99s/it]\u001b[A\n",
      " 97%|█████████▋| 78876/81124 [8:56:58<6:08:27,  9.83s/it]\u001b[A\n",
      " 97%|█████████▋| 78877/81124 [8:56:59<4:21:50,  6.99s/it]\u001b[A\n",
      " 97%|█████████▋| 78878/81124 [8:57:01<3:27:54,  5.55s/it]\u001b[A\n",
      " 97%|█████████▋| 78879/81124 [8:57:34<8:34:08, 13.74s/it]\u001b[A\n",
      " 97%|█████████▋| 78880/81124 [8:57:52<9:26:50, 15.16s/it]\u001b[A\n",
      " 97%|█████████▋| 78881/81124 [8:58:02<8:26:48, 13.56s/it]\u001b[A\n",
      " 97%|█████████▋| 78884/81124 [8:58:04<6:01:17,  9.68s/it]\u001b[A\n",
      " 97%|█████████▋| 78885/81124 [8:58:05<4:22:30,  7.03s/it]\u001b[A\n",
      " 97%|█████████▋| 78886/81124 [8:58:15<4:53:31,  7.87s/it]\u001b[A\n",
      " 97%|█████████▋| 78887/81124 [8:58:36<7:18:58, 11.77s/it]\u001b[A\n",
      " 97%|█████████▋| 78888/81124 [8:58:36<5:09:34,  8.31s/it]\u001b[A"
     ]
    },
    {
     "name": "stdout",
     "output_type": "stream",
     "text": [
      "Infected\n",
      "Infected\n",
      "Infected\n"
     ]
    },
    {
     "name": "stderr",
     "output_type": "stream",
     "text": [
      "\n",
      " 97%|█████████▋| 78891/81124 [8:58:52<4:35:52,  7.41s/it]\u001b[A\n",
      " 97%|█████████▋| 78892/81124 [8:58:52<3:15:40,  5.26s/it]\u001b[A\n",
      " 97%|█████████▋| 78893/81124 [8:58:53<2:33:53,  4.14s/it]\u001b[A\n",
      " 97%|█████████▋| 78894/81124 [8:59:00<3:05:27,  4.99s/it]\u001b[A\n",
      " 97%|█████████▋| 78895/81124 [8:59:02<2:26:29,  3.94s/it]\u001b[A\n",
      " 97%|█████████▋| 78896/81124 [8:59:05<2:15:50,  3.66s/it]\u001b[A\n",
      " 97%|█████████▋| 78897/81124 [8:59:12<2:53:10,  4.67s/it]\u001b[A\n",
      " 97%|█████████▋| 78898/81124 [8:59:18<3:07:48,  5.06s/it]\u001b[A\n",
      " 97%|█████████▋| 78900/81124 [8:59:22<2:35:15,  4.19s/it]\u001b[A\n",
      " 97%|█████████▋| 78901/81124 [8:59:30<3:19:38,  5.39s/it]\u001b[A\n",
      " 97%|█████████▋| 78902/81124 [8:59:33<2:45:16,  4.46s/it]\u001b[A\n",
      " 97%|█████████▋| 78903/81124 [8:59:43<3:46:34,  6.12s/it]\u001b[A\n",
      " 97%|█████████▋| 78904/81124 [8:59:43<2:41:52,  4.38s/it]\u001b[A\n",
      " 97%|█████████▋| 78906/81124 [9:00:20<5:19:20,  8.64s/it]\u001b[A\n",
      " 97%|█████████▋| 78907/81124 [9:00:21<3:52:54,  6.30s/it]\u001b[A\n",
      " 97%|█████████▋| 78908/81124 [9:00:22<2:56:45,  4.79s/it]\u001b[A\n",
      " 97%|█████████▋| 78909/81124 [9:00:23<2:13:59,  3.63s/it]\u001b[A\n",
      " 97%|█████████▋| 78911/81124 [9:05:01<27:08:32, 44.15s/it]\u001b[A\n",
      " 97%|█████████▋| 78912/81124 [9:05:40<26:13:10, 42.67s/it]\u001b[A\n",
      " 97%|█████████▋| 78913/81124 [9:05:41<18:32:13, 30.18s/it]\u001b[A\n",
      " 97%|█████████▋| 78914/81124 [9:05:41<13:02:33, 21.25s/it]\u001b[A"
     ]
    },
    {
     "name": "stdout",
     "output_type": "stream",
     "text": [
      "Infected\n",
      "Infected\n",
      "Infected\n",
      "Infected\n",
      "Infected\n"
     ]
    },
    {
     "name": "stderr",
     "output_type": "stream",
     "text": [
      "\n",
      " 97%|█████████▋| 78915/81124 [9:05:55<11:36:43, 18.92s/it]\u001b[A\n",
      " 97%|█████████▋| 78916/81124 [9:05:55<8:09:35, 13.30s/it] \u001b[A\n",
      " 97%|█████████▋| 78917/81124 [9:06:31<12:20:44, 20.14s/it]\u001b[A\n",
      " 97%|█████████▋| 78919/81124 [9:07:10<12:09:53, 19.86s/it]\u001b[A\n",
      " 97%|█████████▋| 78920/81124 [9:07:10<8:34:15, 14.00s/it] \u001b[A\n",
      " 97%|█████████▋| 78921/81124 [9:07:12<6:26:25, 10.52s/it]\u001b[A"
     ]
    },
    {
     "name": "stdout",
     "output_type": "stream",
     "text": [
      "Infected\n",
      "Infected\n",
      "Infected\n",
      "Infected\n"
     ]
    },
    {
     "name": "stderr",
     "output_type": "stream",
     "text": [
      "\n",
      " 97%|█████████▋| 78923/81124 [9:07:32<6:16:28, 10.26s/it]\u001b[A\n",
      " 97%|█████████▋| 78924/81124 [9:07:42<6:18:57, 10.34s/it]\u001b[A\n",
      " 97%|█████████▋| 78925/81124 [9:07:59<7:30:19, 12.29s/it]\u001b[A\n",
      " 97%|█████████▋| 78926/81124 [9:08:02<5:48:04,  9.50s/it]\u001b[A\n",
      " 97%|█████████▋| 78927/81124 [9:08:02<4:05:37,  6.71s/it]\u001b[A\n",
      " 97%|█████████▋| 78928/81124 [9:08:03<3:03:38,  5.02s/it]\u001b[A\n",
      " 97%|█████████▋| 78929/81124 [9:08:06<2:36:15,  4.27s/it]\u001b[A\n",
      " 97%|█████████▋| 78930/81124 [9:08:10<2:31:28,  4.14s/it]\u001b[A\n",
      " 97%|█████████▋| 78931/81124 [9:08:11<1:58:05,  3.23s/it]\u001b[A\n",
      " 97%|█████████▋| 78932/81124 [9:08:38<6:17:27, 10.33s/it]\u001b[A"
     ]
    },
    {
     "name": "stdout",
     "output_type": "stream",
     "text": [
      "Infected\n",
      "Infected\n",
      "Infected\n",
      "Infected\n",
      "Infected\n"
     ]
    },
    {
     "name": "stderr",
     "output_type": "stream",
     "text": [
      "\n",
      " 97%|█████████▋| 78933/81124 [9:08:48<6:14:47, 10.26s/it]\u001b[A\n",
      " 97%|█████████▋| 78934/81124 [9:08:48<4:31:06,  7.43s/it]\u001b[A\n",
      " 97%|█████████▋| 78935/81124 [9:08:51<3:33:06,  5.84s/it]\u001b[A"
     ]
    },
    {
     "name": "stdout",
     "output_type": "stream",
     "text": [
      "Infected\n"
     ]
    },
    {
     "name": "stderr",
     "output_type": "stream",
     "text": [
      "\n",
      " 97%|█████████▋| 78936/81124 [9:09:01<4:21:46,  7.18s/it]\u001b[A\n",
      " 97%|█████████▋| 78937/81124 [9:09:01<3:05:30,  5.09s/it]\u001b[A\n",
      " 97%|█████████▋| 78938/81124 [9:09:19<5:30:29,  9.07s/it]\u001b[A\n",
      " 97%|█████████▋| 78939/81124 [9:09:21<4:07:18,  6.79s/it]\u001b[A"
     ]
    },
    {
     "name": "stdout",
     "output_type": "stream",
     "text": [
      "Infected\n",
      "Infected\n"
     ]
    },
    {
     "name": "stderr",
     "output_type": "stream",
     "text": [
      "\n",
      " 97%|█████████▋| 78940/81124 [9:09:58<9:33:51, 15.77s/it]\u001b[A\n",
      " 97%|█████████▋| 78941/81124 [9:09:59<6:54:48, 11.40s/it]\u001b[A\n",
      " 97%|█████████▋| 78943/81124 [9:09:59<4:51:30,  8.02s/it]\u001b[A\n",
      " 97%|█████████▋| 78944/81124 [9:10:24<8:00:09, 13.22s/it]\u001b[A\n",
      " 97%|█████████▋| 78945/81124 [9:10:25<5:46:06,  9.53s/it]\u001b[A\n",
      " 97%|█████████▋| 78947/81124 [9:10:28<4:18:34,  7.13s/it]\u001b[A\n",
      " 97%|█████████▋| 78948/81124 [9:10:29<3:03:30,  5.06s/it]\u001b[A\n",
      " 97%|█████████▋| 78949/81124 [9:10:36<3:31:36,  5.84s/it]\u001b[A\n",
      " 97%|█████████▋| 78951/81124 [9:10:49<3:34:23,  5.92s/it]\u001b[A\n",
      " 97%|█████████▋| 78952/81124 [9:10:55<3:43:09,  6.16s/it]\u001b[A"
     ]
    },
    {
     "name": "stdout",
     "output_type": "stream",
     "text": [
      "Infected\n"
     ]
    },
    {
     "name": "stderr",
     "output_type": "stream",
     "text": [
      "\n",
      " 97%|█████████▋| 78953/81124 [9:11:05<4:16:35,  7.09s/it]\u001b[A\n",
      " 97%|█████████▋| 78954/81124 [9:11:14<4:39:55,  7.74s/it]\u001b[A"
     ]
    },
    {
     "name": "stdout",
     "output_type": "stream",
     "text": [
      "Infected\n",
      "Infected\n"
     ]
    },
    {
     "name": "stderr",
     "output_type": "stream",
     "text": [
      "\n",
      " 97%|█████████▋| 78956/81124 [9:11:26<4:19:28,  7.18s/it]\u001b[A\n",
      " 97%|█████████▋| 78957/81124 [9:12:07<10:32:45, 17.52s/it]\u001b[A\n",
      " 97%|█████████▋| 78958/81124 [9:12:11<7:59:22, 13.28s/it] \u001b[A\n",
      " 97%|█████████▋| 78959/81124 [9:12:12<5:47:55,  9.64s/it]\u001b[A\n",
      " 97%|█████████▋| 78960/81124 [9:12:18<5:14:15,  8.71s/it]\u001b[A"
     ]
    },
    {
     "name": "stdout",
     "output_type": "stream",
     "text": [
      "Infected\n",
      "Infected\n",
      "Infected\n",
      "Infected\n",
      "Infected\n"
     ]
    },
    {
     "name": "stderr",
     "output_type": "stream",
     "text": [
      "\n",
      " 97%|█████████▋| 78961/81124 [9:12:23<4:34:30,  7.61s/it]\u001b[A\n",
      " 97%|█████████▋| 78962/81124 [9:12:31<4:35:39,  7.65s/it]\u001b[A\n",
      " 97%|█████████▋| 78963/81124 [9:12:38<4:24:45,  7.35s/it]\u001b[A\n",
      " 97%|█████████▋| 78964/81124 [9:12:42<3:51:14,  6.42s/it]\u001b[A\n",
      " 97%|█████████▋| 78965/81124 [9:12:48<3:42:19,  6.18s/it]\u001b[A\n",
      " 97%|█████████▋| 78966/81124 [9:12:49<2:46:09,  4.62s/it]\u001b[A\n",
      " 97%|█████████▋| 78967/81124 [9:12:51<2:21:52,  3.95s/it]\u001b[A\n",
      " 97%|█████████▋| 78968/81124 [9:12:52<1:46:40,  2.97s/it]\u001b[A\n",
      " 97%|█████████▋| 78969/81124 [9:12:53<1:26:43,  2.41s/it]\u001b[A\n",
      " 97%|█████████▋| 78970/81124 [9:12:54<1:12:15,  2.01s/it]\u001b[A\n",
      " 97%|█████████▋| 78971/81124 [9:12:56<1:15:12,  2.10s/it]\u001b[A\n",
      " 97%|█████████▋| 78972/81124 [9:13:31<7:05:52, 11.87s/it]\u001b[A\n",
      " 97%|█████████▋| 78973/81124 [9:13:32<5:15:06,  8.79s/it]\u001b[A\n",
      " 97%|█████████▋| 78974/81124 [9:13:33<3:49:07,  6.39s/it]\u001b[A\n",
      " 97%|█████████▋| 78975/81124 [9:13:57<6:54:41, 11.58s/it]\u001b[A\n",
      " 97%|█████████▋| 78976/81124 [9:13:58<5:00:48,  8.40s/it]\u001b[A\n",
      " 97%|█████████▋| 78977/81124 [9:14:06<4:54:51,  8.24s/it]\u001b[A\n",
      " 97%|█████████▋| 78978/81124 [9:14:18<5:43:02,  9.59s/it]\u001b[A\n",
      " 97%|█████████▋| 78979/81124 [9:14:19<4:03:56,  6.82s/it]\u001b[A\n",
      " 97%|█████████▋| 78980/81124 [9:14:27<4:15:53,  7.16s/it]\u001b[A\n",
      " 97%|█████████▋| 78982/81124 [9:15:05<6:26:01, 10.81s/it]\u001b[A\n",
      " 97%|█████████▋| 78983/81124 [9:15:06<4:34:12,  7.68s/it]\u001b[A\n",
      " 97%|█████████▋| 78985/81124 [9:15:21<4:33:59,  7.69s/it]\u001b[A\n",
      " 97%|█████████▋| 78986/81124 [9:15:22<3:16:16,  5.51s/it]\u001b[A\n",
      " 97%|█████████▋| 78987/81124 [9:15:23<2:34:40,  4.34s/it]\u001b[A\n",
      " 97%|█████████▋| 78988/81124 [9:15:25<2:07:39,  3.59s/it]\u001b[A\n",
      " 97%|█████████▋| 78989/81124 [9:15:26<1:39:57,  2.81s/it]\u001b[A\n",
      " 97%|█████████▋| 78990/81124 [9:15:26<1:11:53,  2.02s/it]\u001b[A\n",
      " 97%|█████████▋| 78992/81124 [9:15:35<1:38:25,  2.77s/it]\u001b[A\n",
      " 97%|█████████▋| 78993/81124 [9:15:44<2:44:56,  4.64s/it]\u001b[A\n",
      " 97%|█████████▋| 78995/81124 [9:15:45<1:59:39,  3.37s/it]\u001b[A\n",
      " 97%|█████████▋| 78996/81124 [9:15:52<2:37:16,  4.43s/it]\u001b[A\n",
      " 97%|█████████▋| 78997/81124 [9:15:57<2:47:21,  4.72s/it]\u001b[A\n",
      " 97%|█████████▋| 78998/81124 [9:16:51<11:21:07, 19.22s/it]\u001b[A\n",
      " 97%|█████████▋| 78999/81124 [9:16:55<8:41:42, 14.73s/it] \u001b[A\n",
      " 97%|█████████▋| 79000/81124 [9:17:08<8:20:45, 14.15s/it]\u001b[A\n",
      " 97%|█████████▋| 79001/81124 [9:17:13<6:47:09, 11.51s/it]\u001b[A\n",
      " 97%|█████████▋| 79002/81124 [9:17:46<10:34:02, 17.93s/it]\u001b[A\n",
      " 97%|█████████▋| 79003/81124 [9:17:47<7:34:57, 12.87s/it] \u001b[A\n",
      " 97%|█████████▋| 79004/81124 [9:17:49<5:40:22,  9.63s/it]\u001b[A\n",
      " 97%|█████████▋| 79005/81124 [9:18:10<7:40:45, 13.05s/it]\u001b[A\n",
      " 97%|█████████▋| 79006/81124 [9:18:10<5:25:01,  9.21s/it]\u001b[A\n",
      " 97%|█████████▋| 79007/81124 [9:18:12<4:09:08,  7.06s/it]\u001b[A\n",
      " 97%|█████████▋| 79008/81124 [9:18:14<3:11:57,  5.44s/it]\u001b[A\n",
      " 97%|█████████▋| 79009/81124 [9:18:23<3:54:34,  6.65s/it]\u001b[A\n",
      " 97%|█████████▋| 79011/81124 [9:18:24<2:45:44,  4.71s/it]\u001b[A\n",
      " 97%|█████████▋| 79012/81124 [9:19:05<9:14:44, 15.76s/it]\u001b[A\n",
      " 97%|█████████▋| 79013/81124 [9:19:14<7:59:07, 13.62s/it]\u001b[A\n",
      " 97%|█████████▋| 79014/81124 [9:19:22<7:03:39, 12.05s/it]\u001b[A\n",
      " 97%|█████████▋| 79015/81124 [9:19:23<4:59:31,  8.52s/it]\u001b[A\n",
      " 97%|█████████▋| 79017/81124 [9:19:29<4:05:10,  6.98s/it]\u001b[A\n",
      " 97%|█████████▋| 79019/81124 [9:19:34<3:14:42,  5.55s/it]\u001b[A\n",
      " 97%|█████████▋| 79020/81124 [9:19:59<6:43:14, 11.50s/it]\u001b[A\n",
      " 97%|█████████▋| 79021/81124 [9:20:01<5:00:50,  8.58s/it]\u001b[A\n",
      " 97%|█████████▋| 79022/81124 [9:20:01<3:32:25,  6.06s/it]\u001b[A\n",
      " 97%|█████████▋| 79024/81124 [9:20:39<5:48:52,  9.97s/it]\u001b[A\n",
      " 97%|█████████▋| 79026/81124 [9:20:46<4:38:10,  7.96s/it]\u001b[A"
     ]
    },
    {
     "name": "stdout",
     "output_type": "stream",
     "text": [
      "Infected\n"
     ]
    },
    {
     "name": "stderr",
     "output_type": "stream",
     "text": [
      "\n",
      " 97%|█████████▋| 79027/81124 [9:20:50<3:55:43,  6.74s/it]\u001b[A\n",
      " 97%|█████████▋| 79029/81124 [9:21:03<3:52:54,  6.67s/it]\u001b[A\n",
      " 97%|█████████▋| 79031/81124 [9:21:08<3:08:07,  5.39s/it]\u001b[A\n",
      " 97%|█████████▋| 79032/81124 [9:21:08<2:20:29,  4.03s/it]\u001b[A\n",
      " 97%|█████████▋| 79033/81124 [9:21:12<2:12:44,  3.81s/it]\u001b[A\n",
      " 97%|█████████▋| 79034/81124 [9:21:17<2:29:47,  4.30s/it]\u001b[A\n",
      " 97%|█████████▋| 79035/81124 [9:21:19<2:04:48,  3.58s/it]\u001b[A\n",
      " 97%|█████████▋| 79036/81124 [9:21:20<1:36:29,  2.77s/it]\u001b[A\n",
      " 97%|█████████▋| 79037/81124 [9:21:21<1:18:54,  2.27s/it]\u001b[A\n",
      " 97%|█████████▋| 79038/81124 [9:21:29<2:15:36,  3.90s/it]\u001b[A\n",
      " 97%|█████████▋| 79039/81124 [9:21:30<1:48:47,  3.13s/it]\u001b[A\n",
      " 97%|█████████▋| 79040/81124 [9:22:05<7:19:04, 12.64s/it]\u001b[A\n",
      " 97%|█████████▋| 79042/81124 [9:22:58<9:42:26, 16.79s/it]\u001b[A"
     ]
    },
    {
     "name": "stdout",
     "output_type": "stream",
     "text": [
      "Infected\n",
      "Infected\n"
     ]
    },
    {
     "name": "stderr",
     "output_type": "stream",
     "text": [
      "\n",
      " 97%|█████████▋| 79043/81124 [9:23:04<7:50:47, 13.57s/it]\u001b[A\n",
      " 97%|█████████▋| 79045/81124 [9:23:25<7:18:45, 12.66s/it]\u001b[A\n",
      " 97%|█████████▋| 79046/81124 [9:23:31<6:11:47, 10.74s/it]\u001b[A"
     ]
    },
    {
     "name": "stdout",
     "output_type": "stream",
     "text": [
      "Infected\n",
      "Infected\n",
      "Infected\n"
     ]
    },
    {
     "name": "stderr",
     "output_type": "stream",
     "text": [
      "\n",
      " 97%|█████████▋| 79047/81124 [9:23:37<5:15:32,  9.12s/it]\u001b[A\n",
      " 97%|█████████▋| 79048/81124 [9:24:00<7:46:46, 13.49s/it]\u001b[A\n",
      " 97%|█████████▋| 79049/81124 [9:24:08<6:50:34, 11.87s/it]\u001b[A\n",
      " 97%|█████████▋| 79051/81124 [9:24:08<4:48:05,  8.34s/it]\u001b[A\n",
      " 97%|█████████▋| 79052/81124 [9:24:34<7:41:24, 13.36s/it]\u001b[A\n",
      " 97%|█████████▋| 79053/81124 [9:24:57<9:26:53, 16.42s/it]\u001b[A\n",
      " 97%|█████████▋| 79054/81124 [9:25:05<7:55:48, 13.79s/it]\u001b[A\n",
      " 97%|█████████▋| 79055/81124 [9:25:56<14:22:32, 25.01s/it]\u001b[A"
     ]
    },
    {
     "name": "stdout",
     "output_type": "stream",
     "text": [
      "Infected\n"
     ]
    },
    {
     "name": "stderr",
     "output_type": "stream",
     "text": [
      "\n",
      " 97%|█████████▋| 79056/81124 [9:26:12<12:51:26, 22.38s/it]\u001b[A\n",
      " 97%|█████████▋| 79058/81124 [9:26:47<11:58:27, 20.87s/it]\u001b[A\n",
      " 97%|█████████▋| 79059/81124 [9:26:48<8:31:51, 14.87s/it] \u001b[A\n",
      " 97%|█████████▋| 79061/81124 [9:26:49<6:05:16, 10.62s/it]\u001b[A\n",
      " 97%|█████████▋| 79062/81124 [9:27:09<7:37:59, 13.33s/it]\u001b[A\n",
      " 97%|█████████▋| 79063/81124 [9:28:01<14:17:57, 24.98s/it]\u001b[A\n",
      " 97%|█████████▋| 79064/81124 [9:28:22<13:31:43, 23.64s/it]\u001b[A\n",
      " 97%|█████████▋| 79066/81124 [9:28:31<10:15:10, 17.94s/it]\u001b[A\n",
      " 97%|█████████▋| 79069/81124 [9:28:31<7:11:10, 12.59s/it] \u001b[A\n",
      " 97%|█████████▋| 79071/81124 [9:29:15<8:47:48, 15.43s/it]\u001b[A\n",
      " 97%|█████████▋| 79072/81124 [9:29:22<7:19:33, 12.85s/it]\u001b[A\n",
      " 97%|█████████▋| 79073/81124 [9:30:02<12:00:37, 21.08s/it]\u001b[A"
     ]
    },
    {
     "name": "stdout",
     "output_type": "stream",
     "text": [
      "Infected\n",
      "Infected\n",
      "Infected\n",
      "Infected\n"
     ]
    },
    {
     "name": "stderr",
     "output_type": "stream",
     "text": [
      "\n",
      " 97%|█████████▋| 79074/81124 [9:30:08<9:24:58, 16.54s/it] \u001b[A\n",
      " 97%|█████████▋| 79075/81124 [9:30:10<6:55:43, 12.17s/it]\u001b[A\n",
      " 97%|█████████▋| 79076/81124 [9:30:17<6:01:52, 10.60s/it]\u001b[A\n",
      " 97%|█████████▋| 79077/81124 [9:30:19<4:27:11,  7.83s/it]\u001b[A\n",
      " 97%|█████████▋| 79078/81124 [9:30:21<3:30:28,  6.17s/it]\u001b[A\n",
      " 97%|█████████▋| 79079/81124 [9:30:24<2:55:19,  5.14s/it]\u001b[A\n",
      " 97%|█████████▋| 79082/81124 [9:30:34<2:36:21,  4.59s/it]\u001b[A\n",
      " 97%|█████████▋| 79083/81124 [9:30:35<1:59:27,  3.51s/it]\u001b[A\n",
      " 97%|█████████▋| 79084/81124 [9:30:37<1:48:47,  3.20s/it]\u001b[A\n",
      " 97%|█████████▋| 79085/81124 [9:30:37<1:19:02,  2.33s/it]\u001b[A\n",
      " 97%|█████████▋| 79086/81124 [9:30:38<59:03,  1.74s/it]  \u001b[A\n",
      " 97%|█████████▋| 79087/81124 [9:30:38<44:43,  1.32s/it]\u001b[A\n",
      " 97%|█████████▋| 79088/81124 [9:30:45<1:40:58,  2.98s/it]\u001b[A\n",
      " 97%|█████████▋| 79089/81124 [9:30:46<1:19:16,  2.34s/it]\u001b[A"
     ]
    },
    {
     "name": "stdout",
     "output_type": "stream",
     "text": [
      "Infected\n"
     ]
    },
    {
     "name": "stderr",
     "output_type": "stream",
     "text": [
      "\n",
      " 97%|█████████▋| 79090/81124 [9:30:53<2:08:03,  3.78s/it]\u001b[A\n",
      " 97%|█████████▋| 79091/81124 [9:31:12<4:49:34,  8.55s/it]\u001b[A\n",
      " 97%|█████████▋| 79092/81124 [9:31:15<3:45:35,  6.66s/it]\u001b[A\n",
      " 97%|█████████▋| 79093/81124 [9:31:16<2:48:25,  4.98s/it]\u001b[A\n",
      " 97%|█████████▋| 79094/81124 [9:31:37<5:34:53,  9.90s/it]\u001b[A\n",
      " 97%|█████████▋| 79095/81124 [9:31:39<4:17:29,  7.61s/it]\u001b[A\n",
      " 98%|█████████▊| 79096/81124 [9:31:42<3:27:10,  6.13s/it]\u001b[A\n",
      " 98%|█████████▊| 79097/81124 [9:31:55<4:38:09,  8.23s/it]\u001b[A\n",
      " 98%|█████████▊| 79098/81124 [9:32:24<8:06:11, 14.40s/it]\u001b[A\n",
      " 98%|█████████▊| 79099/81124 [9:32:28<6:19:30, 11.24s/it]\u001b[A"
     ]
    },
    {
     "name": "stdout",
     "output_type": "stream",
     "text": [
      "Infected\n"
     ]
    },
    {
     "name": "stderr",
     "output_type": "stream",
     "text": [
      "\n",
      " 98%|█████████▊| 79100/81124 [9:32:58<9:25:24, 16.76s/it]\u001b[A\n",
      " 98%|█████████▊| 79101/81124 [9:33:13<9:15:57, 16.49s/it]\u001b[A\n",
      " 98%|█████████▊| 79103/81124 [9:33:31<7:56:42, 14.15s/it]\u001b[A\n",
      " 98%|█████████▊| 79104/81124 [9:33:33<5:56:24, 10.59s/it]\u001b[A\n",
      " 98%|█████████▊| 79106/81124 [9:33:35<4:16:37,  7.63s/it]\u001b[A\n",
      " 98%|█████████▊| 79107/81124 [9:33:45<4:48:12,  8.57s/it]\u001b[A\n",
      " 98%|█████████▊| 79108/81124 [9:33:46<3:30:05,  6.25s/it]\u001b[A\n",
      " 98%|█████████▊| 79109/81124 [9:33:49<2:55:30,  5.23s/it]\u001b[A\n",
      " 98%|█████████▊| 79110/81124 [9:33:50<2:16:42,  4.07s/it]\u001b[A\n",
      " 98%|█████████▊| 79111/81124 [9:34:46<10:55:57, 19.55s/it]\u001b[A\n",
      " 98%|█████████▊| 79112/81124 [9:35:01<10:07:18, 18.11s/it]\u001b[A\n",
      " 98%|█████████▊| 79113/81124 [9:35:23<10:50:28, 19.41s/it]\u001b[A"
     ]
    },
    {
     "name": "stdout",
     "output_type": "stream",
     "text": [
      "Infected\n"
     ]
    },
    {
     "name": "stderr",
     "output_type": "stream",
     "text": [
      "\n",
      " 98%|█████████▊| 79114/81124 [9:35:34<9:20:07, 16.72s/it] \u001b[A\n",
      " 98%|█████████▊| 79115/81124 [9:35:34<6:39:30, 11.93s/it]\u001b[A\n",
      " 98%|█████████▊| 79116/81124 [9:35:58<8:31:09, 15.27s/it]\u001b[A\n",
      " 98%|█████████▊| 79117/81124 [9:35:59<6:15:34, 11.23s/it]\u001b[A\n",
      " 98%|█████████▊| 79118/81124 [9:36:01<4:35:27,  8.24s/it]\u001b[A\n",
      " 98%|█████████▊| 79119/81124 [9:36:15<5:39:00, 10.14s/it]\u001b[A\n",
      " 98%|█████████▊| 79120/81124 [9:36:30<6:22:36, 11.46s/it]\u001b[A\n",
      " 98%|█████████▊| 79121/81124 [9:36:30<4:35:38,  8.26s/it]\u001b[A\n",
      " 98%|█████████▊| 79122/81124 [9:36:38<4:30:41,  8.11s/it]\u001b[A\n",
      " 98%|█████████▊| 79123/81124 [9:36:39<3:12:13,  5.76s/it]\u001b[A\n",
      " 98%|█████████▊| 79124/81124 [9:36:45<3:17:33,  5.93s/it]\u001b[A\n",
      " 98%|█████████▊| 79125/81124 [9:36:55<4:00:39,  7.22s/it]\u001b[A\n",
      " 98%|█████████▊| 79126/81124 [9:37:05<4:31:53,  8.16s/it]\u001b[A\n",
      " 98%|█████████▊| 79127/81124 [9:37:44<9:38:33, 17.38s/it]\u001b[A\n",
      " 98%|█████████▊| 79128/81124 [9:37:45<6:53:42, 12.44s/it]\u001b[A\n",
      " 98%|█████████▊| 79129/81124 [9:37:46<4:57:30,  8.95s/it]\u001b[A\n",
      " 98%|█████████▊| 79130/81124 [9:37:49<4:01:12,  7.26s/it]\u001b[A\n",
      " 98%|█████████▊| 79131/81124 [9:37:51<3:03:07,  5.51s/it]\u001b[A\n",
      " 98%|█████████▊| 79132/81124 [9:37:53<2:32:49,  4.60s/it]\u001b[A"
     ]
    },
    {
     "name": "stdout",
     "output_type": "stream",
     "text": [
      "Infected\n"
     ]
    },
    {
     "name": "stderr",
     "output_type": "stream",
     "text": [
      "\n",
      " 98%|█████████▊| 79133/81124 [9:38:04<3:31:24,  6.37s/it]\u001b[A"
     ]
    },
    {
     "name": "stdout",
     "output_type": "stream",
     "text": [
      "Infected\n"
     ]
    },
    {
     "name": "stderr",
     "output_type": "stream",
     "text": [
      "\n",
      " 98%|█████████▊| 79134/81124 [9:38:24<5:44:36, 10.39s/it]\u001b[A\n",
      " 98%|█████████▊| 79135/81124 [9:38:25<4:14:13,  7.67s/it]\u001b[A"
     ]
    },
    {
     "name": "stdout",
     "output_type": "stream",
     "text": [
      "Infected\n"
     ]
    },
    {
     "name": "stderr",
     "output_type": "stream",
     "text": [
      "\n",
      " 98%|█████████▊| 79137/81124 [9:38:47<4:49:36,  8.75s/it]\u001b[A\n",
      " 98%|█████████▊| 79138/81124 [9:38:53<4:18:57,  7.82s/it]\u001b[A\n",
      " 98%|█████████▊| 79139/81124 [9:38:53<3:04:46,  5.58s/it]\u001b[A\n",
      " 98%|█████████▊| 79141/81124 [9:38:56<2:21:41,  4.29s/it]\u001b[A\n",
      " 98%|█████████▊| 79142/81124 [9:39:01<2:25:36,  4.41s/it]\u001b[A"
     ]
    },
    {
     "name": "stdout",
     "output_type": "stream",
     "text": [
      "Infected\n",
      "Infected\n"
     ]
    },
    {
     "name": "stderr",
     "output_type": "stream",
     "text": [
      "\n",
      " 98%|█████████▊| 79143/81124 [9:39:15<4:03:40,  7.38s/it]\u001b[A"
     ]
    },
    {
     "name": "stdout",
     "output_type": "stream",
     "text": [
      "Infected\n"
     ]
    },
    {
     "name": "stderr",
     "output_type": "stream",
     "text": [
      "\n",
      " 98%|█████████▊| 79144/81124 [9:39:16<2:57:54,  5.39s/it]\u001b[A\n",
      " 98%|█████████▊| 79145/81124 [9:39:17<2:14:31,  4.08s/it]\u001b[A\n",
      " 98%|█████████▊| 79146/81124 [9:39:35<4:34:03,  8.31s/it]\u001b[A\n",
      " 98%|█████████▊| 79147/81124 [9:39:37<3:30:17,  6.38s/it]\u001b[A\n",
      " 98%|█████████▊| 79148/81124 [9:39:39<2:44:39,  5.00s/it]\u001b[A\n",
      " 98%|█████████▊| 79149/81124 [9:39:47<3:16:30,  5.97s/it]\u001b[A\n",
      " 98%|█████████▊| 79150/81124 [9:39:50<2:49:46,  5.16s/it]\u001b[A\n",
      " 98%|█████████▊| 79151/81124 [9:39:53<2:31:39,  4.61s/it]\u001b[A\n",
      " 98%|█████████▊| 79152/81124 [9:39:54<1:56:03,  3.53s/it]\u001b[A\n",
      " 98%|█████████▊| 79153/81124 [9:40:00<2:15:56,  4.14s/it]\u001b[A\n",
      " 98%|█████████▊| 79155/81124 [9:40:00<1:37:17,  2.96s/it]\u001b[A\n",
      " 98%|█████████▊| 79156/81124 [9:40:03<1:32:19,  2.81s/it]\u001b[A\n",
      " 98%|█████████▊| 79157/81124 [9:40:13<2:42:43,  4.96s/it]\u001b[A\n",
      " 98%|█████████▊| 79158/81124 [9:40:26<4:04:54,  7.47s/it]\u001b[A\n",
      " 98%|█████████▊| 79159/81124 [9:40:28<3:08:23,  5.75s/it]\u001b[A\n",
      " 98%|█████████▊| 79160/81124 [9:40:30<2:28:37,  4.54s/it]\u001b[A\n",
      " 98%|█████████▊| 79161/81124 [9:40:32<2:03:09,  3.76s/it]\u001b[A\n",
      " 98%|█████████▊| 79162/81124 [9:40:35<1:56:56,  3.58s/it]\u001b[A\n",
      " 98%|█████████▊| 79163/81124 [9:40:47<3:20:32,  6.14s/it]\u001b[A\n",
      " 98%|█████████▊| 79164/81124 [9:40:49<2:45:46,  5.07s/it]\u001b[A\n",
      " 98%|█████████▊| 79165/81124 [9:40:51<2:09:34,  3.97s/it]\u001b[A"
     ]
    },
    {
     "name": "stdout",
     "output_type": "stream",
     "text": [
      "Infected\n",
      "Infected\n"
     ]
    },
    {
     "name": "stderr",
     "output_type": "stream",
     "text": [
      "\n",
      " 98%|█████████▊| 79166/81124 [9:40:58<2:36:44,  4.80s/it]\u001b[A\n",
      " 98%|█████████▊| 79168/81124 [9:40:58<1:53:29,  3.48s/it]\u001b[A\n",
      " 98%|█████████▊| 79169/81124 [9:40:59<1:21:03,  2.49s/it]\u001b[A\n",
      " 98%|█████████▊| 79170/81124 [9:41:04<1:49:23,  3.36s/it]\u001b[A\n",
      " 98%|█████████▊| 79171/81124 [9:41:04<1:20:37,  2.48s/it]\u001b[A\n",
      " 98%|█████████▊| 79172/81124 [9:41:15<2:39:27,  4.90s/it]\u001b[A\n",
      " 98%|█████████▊| 79173/81124 [9:41:15<1:56:04,  3.57s/it]\u001b[A\n",
      " 98%|█████████▊| 79174/81124 [9:41:19<2:00:48,  3.72s/it]\u001b[A\n",
      " 98%|█████████▊| 79175/81124 [9:41:32<3:31:07,  6.50s/it]\u001b[A\n",
      " 98%|█████████▊| 79176/81124 [9:41:39<3:29:46,  6.46s/it]\u001b[A\n",
      " 98%|█████████▊| 79177/81124 [9:41:45<3:28:59,  6.44s/it]\u001b[A\n",
      " 98%|█████████▊| 79178/81124 [9:41:52<3:36:57,  6.69s/it]\u001b[A\n",
      " 98%|█████████▊| 79180/81124 [9:41:59<3:04:07,  5.68s/it]\u001b[A\n",
      " 98%|█████████▊| 79182/81124 [9:42:00<2:11:11,  4.05s/it]\u001b[A\n",
      " 98%|█████████▊| 79183/81124 [9:42:01<1:48:05,  3.34s/it]\u001b[A\n",
      " 98%|█████████▊| 79184/81124 [9:42:03<1:36:26,  2.98s/it]\u001b[A\n",
      " 98%|█████████▊| 79187/81124 [9:42:06<1:17:12,  2.39s/it]\u001b[A\n",
      " 98%|█████████▊| 79188/81124 [9:42:07<59:12,  1.84s/it]  \u001b[A\n",
      " 98%|█████████▊| 79189/81124 [9:42:09<1:02:39,  1.94s/it]\u001b[A\n",
      " 98%|█████████▊| 79190/81124 [9:43:00<8:58:48, 16.72s/it]\u001b[A\n",
      " 98%|█████████▊| 79191/81124 [9:43:07<7:21:43, 13.71s/it]\u001b[A\n",
      " 98%|█████████▊| 79192/81124 [9:43:37<9:56:26, 18.52s/it]\u001b[A\n",
      " 98%|█████████▊| 79193/81124 [9:44:23<14:19:23, 26.70s/it]\u001b[A\n",
      " 98%|█████████▊| 79194/81124 [9:44:24<10:14:56, 19.12s/it]\u001b[A\n",
      " 98%|█████████▊| 79195/81124 [9:44:25<7:22:11, 13.75s/it] \u001b[A\n",
      " 98%|█████████▊| 79197/81124 [9:44:30<5:30:16, 10.28s/it]\u001b[A\n",
      " 98%|█████████▊| 79198/81124 [9:44:30<3:54:38,  7.31s/it]\u001b[A\n",
      " 98%|█████████▊| 79199/81124 [9:44:34<3:17:47,  6.17s/it]\u001b[A"
     ]
    },
    {
     "name": "stdout",
     "output_type": "stream",
     "text": [
      "Infected\n",
      "Infected\n"
     ]
    },
    {
     "name": "stderr",
     "output_type": "stream",
     "text": [
      "\n",
      " 98%|█████████▊| 79200/81124 [9:45:43<13:29:16, 25.24s/it]\u001b[A\n",
      " 98%|█████████▊| 79201/81124 [9:45:50<10:34:45, 19.81s/it]\u001b[A\n",
      " 98%|█████████▊| 79203/81124 [9:45:59<8:04:25, 15.13s/it] \u001b[A\n",
      " 98%|█████████▊| 79204/81124 [9:46:33<11:05:16, 20.79s/it]\u001b[A\n",
      " 98%|█████████▊| 79205/81124 [9:46:34<7:54:30, 14.84s/it] \u001b[A\n",
      " 98%|█████████▊| 79206/81124 [9:46:40<6:28:12, 12.14s/it]\u001b[A\n",
      " 98%|█████████▊| 79207/81124 [9:47:20<10:56:36, 20.55s/it]\u001b[A\n",
      " 98%|█████████▊| 79208/81124 [9:47:21<7:53:51, 14.84s/it] \u001b[A"
     ]
    },
    {
     "name": "stdout",
     "output_type": "stream",
     "text": [
      "Infected\n",
      "Infected\n"
     ]
    },
    {
     "name": "stderr",
     "output_type": "stream",
     "text": [
      "\n",
      " 98%|█████████▊| 79209/81124 [9:47:33<7:20:51, 13.81s/it]\u001b[A\n",
      " 98%|█████████▊| 79210/81124 [9:48:17<12:15:28, 23.06s/it]\u001b[A\n",
      " 98%|█████████▊| 79211/81124 [9:48:19<8:50:06, 16.63s/it] \u001b[A\n",
      " 98%|█████████▊| 79212/81124 [9:48:20<6:22:14, 11.99s/it]\u001b[A\n",
      " 98%|█████████▊| 79214/81124 [9:48:21<4:31:16,  8.52s/it]\u001b[A\n",
      " 98%|█████████▊| 79215/81124 [9:48:22<3:22:04,  6.35s/it]\u001b[A\n",
      " 98%|█████████▊| 79216/81124 [9:48:26<2:52:31,  5.43s/it]\u001b[A\n",
      " 98%|█████████▊| 79218/81124 [9:48:26<2:02:00,  3.84s/it]\u001b[A\n",
      " 98%|█████████▊| 79219/81124 [9:48:48<5:00:31,  9.47s/it]\u001b[A\n",
      " 98%|█████████▊| 79220/81124 [9:48:49<3:39:51,  6.93s/it]\u001b[A\n",
      " 98%|█████████▊| 79221/81124 [9:48:55<3:25:17,  6.47s/it]\u001b[A\n",
      " 98%|█████████▊| 79222/81124 [9:48:55<2:24:42,  4.57s/it]\u001b[A\n",
      " 98%|█████████▊| 79223/81124 [9:48:59<2:20:50,  4.45s/it]\u001b[A\n",
      " 98%|█████████▊| 79224/81124 [9:49:27<6:06:48, 11.58s/it]\u001b[A\n",
      " 98%|█████████▊| 79227/81124 [9:49:32<4:29:35,  8.53s/it]\u001b[A\n",
      " 98%|█████████▊| 79228/81124 [9:49:32<3:17:37,  6.25s/it]\u001b[A\n",
      " 98%|█████████▊| 79229/81124 [9:50:18<9:24:50, 17.88s/it]\u001b[A\n",
      " 98%|█████████▊| 79230/81124 [9:50:19<6:52:47, 13.08s/it]\u001b[A"
     ]
    },
    {
     "name": "stdout",
     "output_type": "stream",
     "text": [
      "Infected\n",
      "Infected\n",
      "Infected\n",
      "Infected\n"
     ]
    },
    {
     "name": "stderr",
     "output_type": "stream",
     "text": [
      "\n",
      " 98%|█████████▊| 79231/81124 [9:50:38<7:47:09, 14.81s/it]\u001b[A\n",
      " 98%|█████████▊| 79232/81124 [9:50:49<7:12:04, 13.70s/it]\u001b[A\n",
      " 98%|█████████▊| 79233/81124 [9:51:05<7:32:53, 14.37s/it]\u001b[A\n",
      " 98%|█████████▊| 79234/81124 [9:51:07<5:36:52, 10.69s/it]\u001b[A\n",
      " 98%|█████████▊| 79236/81124 [9:51:08<3:56:12,  7.51s/it]\u001b[A"
     ]
    },
    {
     "name": "stdout",
     "output_type": "stream",
     "text": [
      "Infected\n"
     ]
    },
    {
     "name": "stderr",
     "output_type": "stream",
     "text": [
      "\n",
      " 98%|█████████▊| 79237/81124 [9:51:19<4:33:23,  8.69s/it]\u001b[A\n",
      " 98%|█████████▊| 79239/81124 [9:51:19<3:13:33,  6.16s/it]\u001b[A\n",
      " 98%|█████████▊| 79240/81124 [9:51:24<2:54:16,  5.55s/it]\u001b[A"
     ]
    },
    {
     "name": "stdout",
     "output_type": "stream",
     "text": [
      "Infected\n"
     ]
    },
    {
     "name": "stderr",
     "output_type": "stream",
     "text": [
      "\n",
      " 98%|█████████▊| 79241/81124 [9:52:14<9:51:51, 18.86s/it]\u001b[A\n",
      " 98%|█████████▊| 79243/81124 [9:52:14<6:57:49, 13.33s/it]\u001b[A\n",
      " 98%|█████████▊| 79244/81124 [9:52:16<5:04:45,  9.73s/it]\u001b[A\n",
      " 98%|█████████▊| 79245/81124 [9:52:16<3:40:29,  7.04s/it]\u001b[A"
     ]
    },
    {
     "name": "stdout",
     "output_type": "stream",
     "text": [
      "Infected\n"
     ]
    },
    {
     "name": "stderr",
     "output_type": "stream",
     "text": [
      "\n",
      " 98%|█████████▊| 79246/81124 [9:52:33<5:13:19, 10.01s/it]\u001b[A\n",
      " 98%|█████████▊| 79247/81124 [9:52:42<5:02:26,  9.67s/it]\u001b[A\n",
      " 98%|█████████▊| 79248/81124 [9:52:43<3:34:31,  6.86s/it]\u001b[A\n",
      " 98%|█████████▊| 79249/81124 [9:52:44<2:38:55,  5.09s/it]\u001b[A\n",
      " 98%|█████████▊| 79250/81124 [9:53:01<4:35:16,  8.81s/it]\u001b[A\n",
      " 98%|█████████▊| 79251/81124 [9:53:04<3:44:46,  7.20s/it]\u001b[A\n",
      " 98%|█████████▊| 79252/81124 [9:53:06<2:49:50,  5.44s/it]\u001b[A\n",
      " 98%|█████████▊| 79253/81124 [9:53:07<2:10:49,  4.20s/it]\u001b[A\n",
      " 98%|█████████▊| 79254/81124 [9:53:08<1:41:07,  3.24s/it]\u001b[A"
     ]
    },
    {
     "name": "stdout",
     "output_type": "stream",
     "text": [
      "Infected\n",
      "Infected\n"
     ]
    },
    {
     "name": "stderr",
     "output_type": "stream",
     "text": [
      "\n",
      " 98%|█████████▊| 79255/81124 [9:53:42<6:24:17, 12.34s/it]\u001b[A\n",
      " 98%|█████████▊| 79257/81124 [9:53:42<4:29:41,  8.67s/it]\u001b[A\n",
      " 98%|█████████▊| 79258/81124 [9:53:49<4:10:46,  8.06s/it]\u001b[A"
     ]
    },
    {
     "name": "stdout",
     "output_type": "stream",
     "text": [
      "Infected\n"
     ]
    },
    {
     "name": "stderr",
     "output_type": "stream",
     "text": [
      "\n",
      " 98%|█████████▊| 79259/81124 [9:54:12<6:33:55, 12.67s/it]\u001b[A\n",
      " 98%|█████████▊| 79260/81124 [9:54:13<4:46:15,  9.21s/it]\u001b[A\n",
      " 98%|█████████▊| 79261/81124 [9:54:16<3:46:39,  7.30s/it]\u001b[A\n",
      " 98%|█████████▊| 79263/81124 [9:54:17<2:42:26,  5.24s/it]\u001b[A\n",
      " 98%|█████████▊| 79265/81124 [9:54:17<1:55:22,  3.72s/it]\u001b[A"
     ]
    },
    {
     "name": "stdout",
     "output_type": "stream",
     "text": [
      "Infected\n",
      "Infected\n",
      "Infected\n"
     ]
    },
    {
     "name": "stderr",
     "output_type": "stream",
     "text": [
      "\n",
      " 98%|█████████▊| 79266/81124 [9:54:59<7:53:47, 15.30s/it]\u001b[A\n",
      " 98%|█████████▊| 79267/81124 [9:55:01<5:44:43, 11.14s/it]\u001b[A\n",
      " 98%|█████████▊| 79268/81124 [9:55:02<4:14:56,  8.24s/it]\u001b[A\n",
      " 98%|█████████▊| 79270/81124 [9:55:03<2:59:09,  5.80s/it]\u001b[A\n",
      " 98%|█████████▊| 79271/81124 [9:55:06<2:36:29,  5.07s/it]\u001b[A\n",
      " 98%|█████████▊| 79272/81124 [9:55:06<1:51:33,  3.61s/it]\u001b[A\n",
      " 98%|█████████▊| 79274/81124 [9:55:28<3:00:50,  5.87s/it]\u001b[A\n",
      " 98%|█████████▊| 79275/81124 [9:55:31<2:26:26,  4.75s/it]\u001b[A\n",
      " 98%|█████████▊| 79276/81124 [9:55:39<2:59:22,  5.82s/it]\u001b[A\n",
      " 98%|█████████▊| 79277/81124 [9:55:47<3:23:31,  6.61s/it]\u001b[A\n",
      " 98%|█████████▊| 79278/81124 [9:55:50<2:43:47,  5.32s/it]\u001b[A\n",
      " 98%|█████████▊| 79279/81124 [9:55:55<2:48:02,  5.46s/it]\u001b[A\n",
      " 98%|█████████▊| 79280/81124 [9:55:57<2:12:36,  4.31s/it]\u001b[A\n",
      " 98%|█████████▊| 79282/81124 [9:56:08<2:23:13,  4.67s/it]\u001b[A\n",
      " 98%|█████████▊| 79283/81124 [9:56:09<1:48:05,  3.52s/it]\u001b[A\n",
      " 98%|█████████▊| 79284/81124 [9:56:56<8:25:33, 16.49s/it]\u001b[A\n",
      " 98%|█████████▊| 79285/81124 [9:57:38<12:24:20, 24.29s/it]\u001b[A\n",
      " 98%|█████████▊| 79286/81124 [9:57:44<9:34:57, 18.77s/it] \u001b[A\n",
      " 98%|█████████▊| 79287/81124 [9:57:49<7:31:09, 14.74s/it]\u001b[A\n",
      " 98%|█████████▊| 79288/81124 [9:57:50<5:25:02, 10.62s/it]\u001b[A\n",
      " 98%|█████████▊| 79289/81124 [9:57:58<4:56:51,  9.71s/it]\u001b[A\n",
      " 98%|█████████▊| 79291/81124 [9:58:00<3:34:59,  7.04s/it]\u001b[A\n",
      " 98%|█████████▊| 79292/81124 [9:58:00<2:32:51,  5.01s/it]\u001b[A\n",
      " 98%|█████████▊| 79293/81124 [9:58:01<2:01:11,  3.97s/it]\u001b[A\n",
      " 98%|█████████▊| 79294/81124 [9:58:03<1:34:58,  3.11s/it]\u001b[A"
     ]
    },
    {
     "name": "stdout",
     "output_type": "stream",
     "text": [
      "Infected\n"
     ]
    },
    {
     "name": "stderr",
     "output_type": "stream",
     "text": [
      "\n",
      " 98%|█████████▊| 79295/81124 [9:58:12<2:32:10,  4.99s/it]\u001b[A\n",
      " 98%|█████████▊| 79296/81124 [9:58:15<2:12:57,  4.36s/it]\u001b[A\n",
      " 98%|█████████▊| 79297/81124 [9:58:20<2:18:39,  4.55s/it]\u001b[A\n",
      " 98%|█████████▊| 79298/81124 [9:59:11<9:22:31, 18.48s/it]\u001b[A\n",
      " 98%|█████████▊| 79299/81124 [9:59:14<7:02:47, 13.90s/it]\u001b[A\n",
      " 98%|█████████▊| 79300/81124 [9:59:24<6:26:00, 12.70s/it]\u001b[A\n",
      " 98%|█████████▊| 79301/81124 [9:59:26<4:53:13,  9.65s/it]\u001b[A\n",
      " 98%|█████████▊| 79302/81124 [9:59:35<4:46:25,  9.43s/it]\u001b[A\n",
      " 98%|█████████▊| 79303/81124 [10:00:18<9:44:36, 19.26s/it]\u001b[A\n",
      " 98%|█████████▊| 79304/81124 [10:00:18<6:56:39, 13.74s/it]\u001b[A\n",
      " 98%|█████████▊| 79305/81124 [10:00:32<6:57:30, 13.77s/it]\u001b[A\n",
      " 98%|█████████▊| 79306/81124 [10:00:51<7:42:06, 15.25s/it]\u001b[A\n",
      " 98%|█████████▊| 79307/81124 [10:00:57<6:15:01, 12.38s/it]\u001b[A\n",
      " 98%|█████████▊| 79308/81124 [10:01:42<11:14:38, 22.29s/it]\u001b[A"
     ]
    },
    {
     "name": "stdout",
     "output_type": "stream",
     "text": [
      "Infected\n"
     ]
    },
    {
     "name": "stderr",
     "output_type": "stream",
     "text": [
      "\n",
      " 98%|█████████▊| 79309/81124 [10:01:58<10:14:10, 20.30s/it]\u001b[A\n",
      " 98%|█████████▊| 79310/81124 [10:02:00<7:30:01, 14.89s/it] \u001b[A\n",
      " 98%|█████████▊| 79311/81124 [10:02:01<5:24:08, 10.73s/it]\u001b[A\n",
      " 98%|█████████▊| 79312/81124 [10:02:02<3:55:23,  7.79s/it]\u001b[A\n",
      " 98%|█████████▊| 79314/81124 [10:02:07<3:06:37,  6.19s/it]\u001b[A\n",
      " 98%|█████████▊| 79315/81124 [10:02:07<2:11:43,  4.37s/it]\u001b[A"
     ]
    },
    {
     "name": "stdout",
     "output_type": "stream",
     "text": [
      "Infected\n"
     ]
    },
    {
     "name": "stderr",
     "output_type": "stream",
     "text": [
      "\n",
      " 98%|█████████▊| 79316/81124 [10:02:16<2:53:13,  5.75s/it]\u001b[A\n",
      " 98%|█████████▊| 79317/81124 [10:03:13<10:35:04, 21.09s/it]\u001b[A\n",
      " 98%|█████████▊| 79318/81124 [10:03:13<7:26:34, 14.84s/it] \u001b[A\n",
      " 98%|█████████▊| 79319/81124 [10:03:13<5:14:09, 10.44s/it]\u001b[A\n",
      " 98%|█████████▊| 79320/81124 [10:03:16<4:05:06,  8.15s/it]\u001b[A\n",
      " 98%|█████████▊| 79321/81124 [10:03:50<7:57:41, 15.90s/it]\u001b[A"
     ]
    },
    {
     "name": "stdout",
     "output_type": "stream",
     "text": [
      "Infected\n"
     ]
    },
    {
     "name": "stderr",
     "output_type": "stream",
     "text": [
      "\n",
      " 98%|█████████▊| 79324/81124 [10:04:22<7:10:30, 14.35s/it]\u001b[A\n",
      " 98%|█████████▊| 79325/81124 [10:04:47<8:47:57, 17.61s/it]\u001b[A\n",
      " 98%|█████████▊| 79326/81124 [10:04:48<6:12:22, 12.43s/it]\u001b[A\n",
      " 98%|█████████▊| 79327/81124 [10:04:52<5:02:31, 10.10s/it]\u001b[A\n",
      " 98%|█████████▊| 79328/81124 [10:04:54<3:47:48,  7.61s/it]\u001b[A\n",
      " 98%|█████████▊| 79329/81124 [10:05:04<4:06:42,  8.25s/it]\u001b[A\n",
      " 98%|█████████▊| 79330/81124 [10:05:06<3:09:22,  6.33s/it]\u001b[A\n",
      " 98%|█████████▊| 79331/81124 [10:05:09<2:37:25,  5.27s/it]\u001b[A\n",
      " 98%|█████████▊| 79333/81124 [10:05:12<2:03:28,  4.14s/it]\u001b[A\n",
      " 98%|█████████▊| 79334/81124 [10:05:21<2:52:42,  5.79s/it]\u001b[A\n",
      " 98%|█████████▊| 79335/81124 [10:05:22<2:09:21,  4.34s/it]\u001b[A\n",
      " 98%|█████████▊| 79336/81124 [10:05:30<2:38:19,  5.31s/it]\u001b[A\n",
      " 98%|█████████▊| 79337/81124 [10:05:52<5:13:23, 10.52s/it]\u001b[A\n",
      " 98%|█████████▊| 79338/81124 [10:05:53<3:41:03,  7.43s/it]\u001b[A\n",
      " 98%|█████████▊| 79339/81124 [10:05:53<2:36:03,  5.25s/it]\u001b[A\n",
      " 98%|█████████▊| 79340/81124 [10:05:56<2:19:38,  4.70s/it]\u001b[A\n",
      " 98%|█████████▊| 79341/81124 [10:05:58<1:51:27,  3.75s/it]\u001b[A\n",
      " 98%|█████████▊| 79342/81124 [10:06:41<7:47:19, 15.73s/it]\u001b[A\n",
      " 98%|█████████▊| 79343/81124 [10:06:43<5:39:52, 11.45s/it]\u001b[A\n",
      " 98%|█████████▊| 79344/81124 [10:06:47<4:33:46,  9.23s/it]\u001b[A\n",
      " 98%|█████████▊| 79345/81124 [10:06:47<3:12:59,  6.51s/it]\u001b[A\n",
      " 98%|█████████▊| 79347/81124 [10:06:50<2:26:46,  4.96s/it]\u001b[A\n",
      " 98%|█████████▊| 79348/81124 [10:06:55<2:33:09,  5.17s/it]\u001b[A\n",
      " 98%|█████████▊| 79350/81124 [10:07:06<2:34:54,  5.24s/it]\u001b[A\n",
      " 98%|█████████▊| 79351/81124 [10:07:09<2:15:57,  4.60s/it]\u001b[A\n",
      " 98%|█████████▊| 79352/81124 [10:07:44<6:43:58, 13.68s/it]\u001b[A\n",
      " 98%|█████████▊| 79354/81124 [10:07:45<4:47:46,  9.75s/it]\u001b[A\n",
      " 98%|█████████▊| 79355/81124 [10:07:48<3:40:37,  7.48s/it]\u001b[A\n",
      " 98%|█████████▊| 79357/81124 [10:08:13<4:26:12,  9.04s/it]\u001b[A\n",
      " 98%|█████████▊| 79359/81124 [10:08:17<3:25:57,  7.00s/it]\u001b[A\n",
      " 98%|█████████▊| 79361/81124 [10:08:38<3:56:37,  8.05s/it]\u001b[A\n",
      " 98%|█████████▊| 79362/81124 [10:08:49<4:19:18,  8.83s/it]\u001b[A"
     ]
    },
    {
     "name": "stdout",
     "output_type": "stream",
     "text": [
      "Infected\n",
      "Infected\n"
     ]
    },
    {
     "name": "stderr",
     "output_type": "stream",
     "text": [
      "\n",
      " 98%|█████████▊| 79363/81124 [10:09:05<5:20:37, 10.92s/it]\u001b[A"
     ]
    },
    {
     "name": "stdout",
     "output_type": "stream",
     "text": [
      "Infected\n"
     ]
    },
    {
     "name": "stderr",
     "output_type": "stream",
     "text": [
      "\n",
      " 98%|█████████▊| 79365/81124 [10:09:20<4:49:48,  9.89s/it]\u001b[A\n",
      " 98%|█████████▊| 79366/81124 [10:09:23<3:49:28,  7.83s/it]\u001b[A\n",
      " 98%|█████████▊| 79367/81124 [10:09:33<4:06:57,  8.43s/it]\u001b[A\n",
      " 98%|█████████▊| 79368/81124 [10:09:33<2:55:36,  6.00s/it]\u001b[A\n",
      " 98%|█████████▊| 79369/81124 [10:09:40<2:59:45,  6.15s/it]\u001b[A\n",
      " 98%|█████████▊| 79370/81124 [10:09:41<2:16:23,  4.67s/it]\u001b[A\n",
      " 98%|█████████▊| 79371/81124 [10:09:42<1:42:38,  3.51s/it]\u001b[A\n",
      " 98%|█████████▊| 79372/81124 [10:10:20<6:49:06, 14.01s/it]\u001b[A\n",
      " 98%|█████████▊| 79374/81124 [10:10:23<4:56:52, 10.18s/it]\u001b[A\n",
      " 98%|█████████▊| 79375/81124 [10:10:32<4:48:12,  9.89s/it]\u001b[A\n",
      " 98%|█████████▊| 79376/81124 [10:10:40<4:29:35,  9.25s/it]\u001b[A\n",
      " 98%|█████████▊| 79377/81124 [10:10:42<3:29:12,  7.19s/it]\u001b[A\n",
      " 98%|█████████▊| 79378/81124 [10:11:10<6:33:57, 13.54s/it]\u001b[A\n",
      " 98%|█████████▊| 79379/81124 [10:11:12<4:49:24,  9.95s/it]\u001b[A\n",
      " 98%|█████████▊| 79380/81124 [10:11:12<3:26:05,  7.09s/it]\u001b[A"
     ]
    },
    {
     "name": "stdout",
     "output_type": "stream",
     "text": [
      "Infected\n"
     ]
    },
    {
     "name": "stderr",
     "output_type": "stream",
     "text": [
      "\n",
      " 98%|█████████▊| 79381/81124 [10:11:51<7:58:28, 16.47s/it]\u001b[A\n",
      " 98%|█████████▊| 79382/81124 [10:11:51<5:38:21, 11.65s/it]\u001b[A\n",
      " 98%|█████████▊| 79388/81124 [10:12:24<4:43:43,  9.81s/it]\u001b[A\n",
      " 98%|█████████▊| 79389/81124 [10:12:25<3:28:43,  7.22s/it]\u001b[A\n",
      " 98%|█████████▊| 79390/81124 [10:12:36<3:58:52,  8.27s/it]\u001b[A\n",
      " 98%|█████████▊| 79391/81124 [10:12:50<4:52:35, 10.13s/it]\u001b[A\n",
      " 98%|█████████▊| 79392/81124 [10:12:53<3:45:53,  7.83s/it]\u001b[A\n",
      " 98%|█████████▊| 79393/81124 [10:12:54<2:51:50,  5.96s/it]\u001b[A\n",
      " 98%|█████████▊| 79394/81124 [10:12:59<2:43:18,  5.66s/it]\u001b[A\n",
      " 98%|█████████▊| 79395/81124 [10:13:27<5:53:34, 12.27s/it]\u001b[A\n",
      " 98%|█████████▊| 79396/81124 [10:13:38<5:43:40, 11.93s/it]\u001b[A\n",
      " 98%|█████████▊| 79397/81124 [10:13:41<4:21:52,  9.10s/it]\u001b[A\n",
      " 98%|█████████▊| 79399/81124 [10:13:55<4:03:08,  8.46s/it]\u001b[A"
     ]
    },
    {
     "name": "stdout",
     "output_type": "stream",
     "text": [
      "Infected\n"
     ]
    },
    {
     "name": "stderr",
     "output_type": "stream",
     "text": [
      "\n",
      " 98%|█████████▊| 79400/81124 [10:14:31<8:02:06, 16.78s/it]\u001b[A\n",
      " 98%|█████████▊| 79401/81124 [10:14:37<6:29:05, 13.55s/it]\u001b[A\n",
      " 98%|█████████▊| 79405/81124 [10:14:38<4:34:10,  9.57s/it]\u001b[A"
     ]
    },
    {
     "name": "stdout",
     "output_type": "stream",
     "text": [
      "Infected\n"
     ]
    },
    {
     "name": "stderr",
     "output_type": "stream",
     "text": [
      "\n",
      " 98%|█████████▊| 79406/81124 [10:15:00<6:24:11, 13.42s/it]\u001b[A\n",
      " 98%|█████████▊| 79408/81124 [10:15:02<4:33:57,  9.58s/it]\u001b[A\n",
      " 98%|█████████▊| 79409/81124 [10:15:04<3:28:44,  7.30s/it]\u001b[A"
     ]
    },
    {
     "name": "stdout",
     "output_type": "stream",
     "text": [
      "Infected\n"
     ]
    },
    {
     "name": "stderr",
     "output_type": "stream",
     "text": [
      "\n",
      " 98%|█████████▊| 79410/81124 [10:15:17<4:18:06,  9.04s/it]\u001b[A\n",
      " 98%|█████████▊| 79411/81124 [10:15:35<5:40:18, 11.92s/it]\u001b[A\n",
      " 98%|█████████▊| 79412/81124 [10:16:33<12:10:16, 25.59s/it]\u001b[A\n",
      " 98%|█████████▊| 79413/81124 [10:16:33<8:32:49, 17.98s/it] \u001b[A\n",
      " 98%|█████████▊| 79415/81124 [10:16:36<6:09:47, 12.98s/it]\u001b[A\n",
      " 98%|█████████▊| 79416/81124 [10:16:40<4:56:01, 10.40s/it]\u001b[A\n",
      " 98%|█████████▊| 79417/81124 [10:16:41<3:37:08,  7.63s/it]\u001b[A\n",
      " 98%|█████████▊| 79419/81124 [10:16:42<2:36:31,  5.51s/it]\u001b[A\n",
      " 98%|█████████▊| 79420/81124 [10:16:55<3:36:23,  7.62s/it]\u001b[A\n",
      " 98%|█████████▊| 79421/81124 [10:16:55<2:34:50,  5.46s/it]\u001b[A\n",
      " 98%|█████████▊| 79422/81124 [10:17:17<4:51:11, 10.27s/it]\u001b[A\n",
      " 98%|█████████▊| 79423/81124 [10:17:56<9:00:46, 19.08s/it]\u001b[A"
     ]
    },
    {
     "name": "stdout",
     "output_type": "stream",
     "text": [
      "Infected\n"
     ]
    },
    {
     "name": "stderr",
     "output_type": "stream",
     "text": [
      "\n",
      " 98%|█████████▊| 79425/81124 [10:18:43<9:37:16, 20.39s/it]\u001b[A\n",
      " 98%|█████████▊| 79426/81124 [10:18:44<6:53:05, 14.60s/it]\u001b[A"
     ]
    },
    {
     "name": "stdout",
     "output_type": "stream",
     "text": [
      "Infected\n"
     ]
    },
    {
     "name": "stderr",
     "output_type": "stream",
     "text": [
      "\n",
      " 98%|█████████▊| 79427/81124 [10:19:00<6:59:58, 14.85s/it]\u001b[A\n",
      " 98%|█████████▊| 79428/81124 [10:19:01<5:00:08, 10.62s/it]\u001b[A"
     ]
    },
    {
     "name": "stdout",
     "output_type": "stream",
     "text": [
      "Infected\n"
     ]
    },
    {
     "name": "stderr",
     "output_type": "stream",
     "text": [
      "\n",
      " 98%|█████████▊| 79429/81124 [10:19:20<6:18:43, 13.41s/it]\u001b[A\n",
      " 98%|█████████▊| 79430/81124 [10:19:23<4:42:17, 10.00s/it]\u001b[A\n",
      " 98%|█████████▊| 79431/81124 [10:19:26<3:43:06,  7.91s/it]\u001b[A\n",
      " 98%|█████████▊| 79432/81124 [10:19:30<3:15:23,  6.93s/it]\u001b[A\n",
      " 98%|█████████▊| 79433/81124 [10:19:37<3:13:19,  6.86s/it]\u001b[A\n",
      " 98%|█████████▊| 79434/81124 [10:20:33<10:06:12, 21.52s/it]\u001b[A\n",
      " 98%|█████████▊| 79435/81124 [10:20:34<7:14:07, 15.42s/it] \u001b[A\n",
      " 98%|█████████▊| 79436/81124 [10:20:35<5:10:49, 11.05s/it]\u001b[A\n",
      " 98%|█████████▊| 79437/81124 [10:21:17<9:38:22, 20.57s/it]\u001b[A\n",
      " 98%|█████████▊| 79438/81124 [10:21:19<6:56:47, 14.83s/it]\u001b[A\n",
      " 98%|█████████▊| 79439/81124 [10:21:21<5:08:37, 10.99s/it]\u001b[A\n",
      " 98%|█████████▊| 79440/81124 [10:21:21<3:39:46,  7.83s/it]\u001b[A\n",
      " 98%|█████████▊| 79441/81124 [10:21:32<4:06:57,  8.80s/it]\u001b[A\n",
      " 98%|█████████▊| 79442/81124 [10:21:36<3:22:44,  7.23s/it]\u001b[A\n",
      " 98%|█████████▊| 79443/81124 [10:21:39<2:49:01,  6.03s/it]\u001b[A\n",
      " 98%|█████████▊| 79444/81124 [10:21:43<2:26:35,  5.24s/it]\u001b[A\n",
      " 98%|█████████▊| 79446/81124 [10:21:43<1:43:41,  3.71s/it]\u001b[A\n",
      " 98%|█████████▊| 79447/81124 [10:21:46<1:36:20,  3.45s/it]\u001b[A\n",
      " 98%|█████████▊| 79448/81124 [10:21:48<1:29:49,  3.22s/it]\u001b[A\n",
      " 98%|█████████▊| 79449/81124 [10:22:07<3:41:50,  7.95s/it]\u001b[A\n",
      " 98%|█████████▊| 79450/81124 [10:22:20<4:17:47,  9.24s/it]\u001b[A"
     ]
    },
    {
     "name": "stdout",
     "output_type": "stream",
     "text": [
      "Infected\n"
     ]
    },
    {
     "name": "stderr",
     "output_type": "stream",
     "text": [
      "\n",
      " 98%|█████████▊| 79451/81124 [10:22:31<4:31:25,  9.73s/it]\u001b[A\n",
      " 98%|█████████▊| 79452/81124 [10:22:32<3:23:30,  7.30s/it]\u001b[A\n",
      " 98%|█████████▊| 79453/81124 [10:22:38<3:13:52,  6.96s/it]\u001b[A\n",
      " 98%|█████████▊| 79454/81124 [10:22:47<3:30:10,  7.55s/it]\u001b[A\n",
      " 98%|█████████▊| 79455/81124 [10:22:48<2:36:59,  5.64s/it]\u001b[A\n",
      " 98%|█████████▊| 79456/81124 [10:23:29<7:29:07, 16.16s/it]\u001b[A\n",
      " 98%|█████████▊| 79457/81124 [10:24:07<10:31:13, 22.72s/it]\u001b[A\n",
      " 98%|█████████▊| 79459/81124 [10:24:19<8:12:12, 17.74s/it] \u001b[A\n",
      " 98%|█████████▊| 79460/81124 [10:24:23<6:13:33, 13.47s/it]\u001b[A\n",
      " 98%|█████████▊| 79461/81124 [10:24:24<4:29:30,  9.72s/it]\u001b[A\n",
      " 98%|█████████▊| 79462/81124 [10:24:24<3:10:05,  6.86s/it]\u001b[A\n",
      " 98%|█████████▊| 79463/81124 [10:24:24<2:15:05,  4.88s/it]\u001b[A\n",
      " 98%|█████████▊| 79464/81124 [10:24:27<1:54:16,  4.13s/it]\u001b[A\n",
      " 98%|█████████▊| 79465/81124 [10:24:27<1:22:32,  2.98s/it]\u001b[A\n",
      " 98%|█████████▊| 79466/81124 [10:24:27<59:55,  2.17s/it]  \u001b[A"
     ]
    },
    {
     "name": "stdout",
     "output_type": "stream",
     "text": [
      "Infected\n",
      "Infected\n",
      "Infected\n",
      "Infected\n"
     ]
    },
    {
     "name": "stderr",
     "output_type": "stream",
     "text": [
      "\n",
      " 98%|█████████▊| 79467/81124 [10:24:54<4:22:37,  9.51s/it]\u001b[A\n",
      " 98%|█████████▊| 79468/81124 [10:25:04<4:29:44,  9.77s/it]\u001b[A\n",
      " 98%|█████████▊| 79469/81124 [10:25:05<3:10:24,  6.90s/it]\u001b[A\n",
      " 98%|█████████▊| 79470/81124 [10:25:06<2:24:10,  5.23s/it]\u001b[A\n",
      " 98%|█████████▊| 79471/81124 [10:25:07<1:46:32,  3.87s/it]\u001b[A\n",
      " 98%|█████████▊| 79472/81124 [10:25:39<5:42:02, 12.42s/it]\u001b[A\n",
      " 98%|█████████▊| 79473/81124 [10:25:40<4:10:53,  9.12s/it]\u001b[A\n",
      " 98%|█████████▊| 79474/81124 [10:25:43<3:14:52,  7.09s/it]\u001b[A\n",
      " 98%|█████████▊| 79475/81124 [10:25:43<2:20:28,  5.11s/it]\u001b[A\n",
      " 98%|█████████▊| 79477/81124 [10:26:27<4:40:03, 10.20s/it]\u001b[A\n",
      " 98%|█████████▊| 79478/81124 [10:26:29<3:27:56,  7.58s/it]\u001b[A\n",
      " 98%|█████████▊| 79479/81124 [10:26:38<3:41:51,  8.09s/it]\u001b[A\n",
      " 98%|█████████▊| 79481/81124 [10:27:09<4:40:28, 10.24s/it]\u001b[A\n",
      " 98%|█████████▊| 79482/81124 [10:27:09<3:17:54,  7.23s/it]\u001b[A\n",
      " 98%|█████████▊| 79483/81124 [10:27:16<3:19:15,  7.29s/it]\u001b[A"
     ]
    },
    {
     "name": "stdout",
     "output_type": "stream",
     "text": [
      "Infected\n",
      "Infected\n",
      "Infected\n",
      "Infected\n"
     ]
    },
    {
     "name": "stderr",
     "output_type": "stream",
     "text": [
      "\n",
      " 98%|█████████▊| 79484/81124 [10:27:45<6:18:45, 13.86s/it]\u001b[A"
     ]
    },
    {
     "name": "stdout",
     "output_type": "stream",
     "text": [
      "Infected\n"
     ]
    },
    {
     "name": "stderr",
     "output_type": "stream",
     "text": [
      "\n",
      " 98%|█████████▊| 79485/81124 [10:28:10<7:50:28, 17.22s/it]\u001b[A\n",
      " 98%|█████████▊| 79486/81124 [10:28:16<6:14:15, 13.71s/it]\u001b[A\n",
      " 98%|█████████▊| 79487/81124 [10:28:17<4:30:04,  9.90s/it]\u001b[A\n",
      " 98%|█████████▊| 79488/81124 [10:28:52<7:58:27, 17.55s/it]\u001b[A"
     ]
    },
    {
     "name": "stdout",
     "output_type": "stream",
     "text": [
      "Infected\n",
      "Infected\n"
     ]
    },
    {
     "name": "stderr",
     "output_type": "stream",
     "text": [
      "\n",
      " 98%|█████████▊| 79491/81124 [10:28:55<5:40:30, 12.51s/it]\u001b[A\n",
      " 98%|█████████▊| 79493/81124 [10:28:55<4:01:11,  8.87s/it]\u001b[A\n",
      " 98%|█████████▊| 79494/81124 [10:28:56<2:55:46,  6.47s/it]\u001b[A\n",
      " 98%|█████████▊| 79495/81124 [10:28:56<2:04:14,  4.58s/it]\u001b[A\n",
      " 98%|█████████▊| 79496/81124 [10:29:15<3:57:22,  8.75s/it]\u001b[A\n",
      " 98%|█████████▊| 79497/81124 [10:29:18<3:11:17,  7.05s/it]\u001b[A\n",
      " 98%|█████████▊| 79498/81124 [10:29:48<6:16:37, 13.90s/it]\u001b[A\n",
      " 98%|█████████▊| 79500/81124 [10:29:52<4:41:13, 10.39s/it]\u001b[A\n",
      " 98%|█████████▊| 79501/81124 [10:30:05<4:59:34, 11.07s/it]\u001b[A\n",
      " 98%|█████████▊| 79502/81124 [10:30:07<3:49:19,  8.48s/it]\u001b[A\n",
      " 98%|█████████▊| 79504/81124 [10:30:11<2:53:43,  6.43s/it]\u001b[A\n",
      " 98%|█████████▊| 79505/81124 [10:30:35<5:18:43, 11.81s/it]\u001b[A\n",
      " 98%|█████████▊| 79506/81124 [10:31:16<9:15:00, 20.58s/it]\u001b[A\n",
      " 98%|█████████▊| 79507/81124 [10:31:17<6:31:58, 14.54s/it]\u001b[A\n",
      " 98%|█████████▊| 79508/81124 [10:32:08<11:32:24, 25.71s/it]\u001b[A"
     ]
    },
    {
     "name": "stdout",
     "output_type": "stream",
     "text": [
      "Infected\n"
     ]
    },
    {
     "name": "stderr",
     "output_type": "stream",
     "text": [
      "\n",
      " 98%|█████████▊| 79509/81124 [10:32:19<9:30:27, 21.19s/it] \u001b[A\n",
      " 98%|█████████▊| 79511/81124 [10:32:20<6:44:38, 15.05s/it]\u001b[A\n",
      " 98%|█████████▊| 79515/81124 [10:32:21<4:43:00, 10.55s/it]\u001b[A\n",
      " 98%|█████████▊| 79516/81124 [10:32:22<3:24:41,  7.64s/it]\u001b[A\n",
      " 98%|█████████▊| 79517/81124 [10:32:24<2:41:38,  6.04s/it]\u001b[A\n",
      " 98%|█████████▊| 79518/81124 [10:32:33<3:04:00,  6.87s/it]\u001b[A\n",
      " 98%|█████████▊| 79519/81124 [10:32:41<3:17:02,  7.37s/it]\u001b[A\n",
      " 98%|█████████▊| 79520/81124 [10:32:47<3:02:59,  6.84s/it]\u001b[A\n",
      " 98%|█████████▊| 79521/81124 [10:32:50<2:29:45,  5.61s/it]\u001b[A\n",
      " 98%|█████████▊| 79522/81124 [10:32:50<1:45:59,  3.97s/it]\u001b[A\n",
      " 98%|█████████▊| 79523/81124 [10:33:36<7:25:24, 16.69s/it]\u001b[A\n",
      " 98%|█████████▊| 79524/81124 [10:33:54<7:36:44, 17.13s/it]\u001b[A\n",
      " 98%|█████████▊| 79525/81124 [10:34:26<9:30:09, 21.39s/it]\u001b[A\n",
      " 98%|█████████▊| 79526/81124 [10:34:29<7:09:56, 16.14s/it]\u001b[A\n",
      " 98%|█████████▊| 79527/81124 [10:34:31<5:09:16, 11.62s/it]\u001b[A\n",
      " 98%|█████████▊| 79528/81124 [10:34:31<3:37:11,  8.16s/it]\u001b[A\n",
      " 98%|█████████▊| 79529/81124 [10:34:31<2:32:52,  5.75s/it]\u001b[A\n",
      " 98%|█████████▊| 79530/81124 [10:34:42<3:19:25,  7.51s/it]\u001b[A\n",
      " 98%|█████████▊| 79532/81124 [10:34:57<3:17:19,  7.44s/it]\u001b[A\n",
      " 98%|█████████▊| 79534/81124 [10:35:03<2:41:24,  6.09s/it]\u001b[A"
     ]
    },
    {
     "name": "stdout",
     "output_type": "stream",
     "text": [
      "Infected\n"
     ]
    },
    {
     "name": "stderr",
     "output_type": "stream",
     "text": [
      "\n",
      " 98%|█████████▊| 79535/81124 [10:35:18<3:52:28,  8.78s/it]\u001b[A\n",
      " 98%|█████████▊| 79536/81124 [10:35:19<2:48:43,  6.38s/it]\u001b[A\n",
      " 98%|█████████▊| 79537/81124 [10:35:45<5:24:07, 12.25s/it]\u001b[A\n",
      " 98%|█████████▊| 79539/81124 [10:36:19<6:04:32, 13.80s/it]\u001b[A\n",
      " 98%|█████████▊| 79541/81124 [10:36:31<5:00:33, 11.39s/it]\u001b[A\n",
      " 98%|█████████▊| 79542/81124 [10:36:34<3:58:05,  9.03s/it]\u001b[A\n",
      " 98%|█████████▊| 79543/81124 [10:37:01<6:17:06, 14.31s/it]\u001b[A\n",
      " 98%|█████████▊| 79545/81124 [10:37:13<5:09:32, 11.76s/it]\u001b[A\n",
      " 98%|█████████▊| 79546/81124 [10:37:13<3:39:43,  8.35s/it]\u001b[A\n",
      " 98%|█████████▊| 79547/81124 [10:37:24<3:56:26,  9.00s/it]\u001b[A\n",
      " 98%|█████████▊| 79548/81124 [10:37:25<2:53:23,  6.60s/it]\u001b[A\n",
      " 98%|█████████▊| 79549/81124 [10:37:27<2:16:58,  5.22s/it]\u001b[A\n",
      " 98%|█████████▊| 79550/81124 [10:37:32<2:16:40,  5.21s/it]\u001b[A\n",
      " 98%|█████████▊| 79551/81124 [10:37:34<1:56:13,  4.43s/it]\u001b[A\n",
      " 98%|█████████▊| 79552/81124 [10:38:02<4:59:24, 11.43s/it]\u001b[A\n",
      " 98%|█████████▊| 79553/81124 [10:38:47<9:20:02, 21.39s/it]\u001b[A\n",
      " 98%|█████████▊| 79554/81124 [10:38:51<7:08:28, 16.37s/it]\u001b[A\n",
      " 98%|█████████▊| 79555/81124 [10:39:07<7:04:47, 16.24s/it]\u001b[A\n",
      " 98%|█████████▊| 79556/81124 [10:39:11<5:23:43, 12.39s/it]\u001b[A\n",
      " 98%|█████████▊| 79557/81124 [10:39:21<5:03:23, 11.62s/it]\u001b[A\n",
      " 98%|█████████▊| 79559/81124 [10:39:22<3:38:43,  8.39s/it]\u001b[A\n",
      " 98%|█████████▊| 79561/81124 [10:39:24<2:38:10,  6.07s/it]\u001b[A\n",
      " 98%|█████████▊| 79562/81124 [10:39:28<2:22:47,  5.48s/it]\u001b[A\n",
      " 98%|█████████▊| 79563/81124 [10:39:35<2:36:48,  6.03s/it]\u001b[A\n",
      " 98%|█████████▊| 79564/81124 [10:39:40<2:24:49,  5.57s/it]\u001b[A\n",
      " 98%|█████████▊| 79567/81124 [10:39:52<2:12:16,  5.10s/it]\u001b[A\n",
      " 98%|█████████▊| 79569/81124 [10:39:53<1:36:33,  3.73s/it]\u001b[A"
     ]
    },
    {
     "name": "stdout",
     "output_type": "stream",
     "text": [
      "Infected\n"
     ]
    },
    {
     "name": "stderr",
     "output_type": "stream",
     "text": [
      "\n",
      " 98%|█████████▊| 79570/81124 [10:40:05<2:45:32,  6.39s/it]\u001b[A\n",
      " 98%|█████████▊| 79571/81124 [10:40:09<2:24:26,  5.58s/it]\u001b[A\n",
      " 98%|█████████▊| 79572/81124 [10:40:38<5:24:33, 12.55s/it]\u001b[A\n",
      " 98%|█████████▊| 79573/81124 [10:40:42<4:18:46, 10.01s/it]\u001b[A\n",
      " 98%|█████████▊| 79574/81124 [10:40:57<5:02:43, 11.72s/it]\u001b[A\n",
      " 98%|█████████▊| 79575/81124 [10:40:58<3:39:19,  8.50s/it]\u001b[A\n",
      " 98%|█████████▊| 79576/81124 [10:41:06<3:30:02,  8.14s/it]\u001b[A\n",
      " 98%|█████████▊| 79577/81124 [10:41:06<2:30:11,  5.83s/it]\u001b[A\n",
      " 98%|█████████▊| 79578/81124 [10:41:08<2:01:24,  4.71s/it]\u001b[A\n",
      " 98%|█████████▊| 79579/81124 [10:41:09<1:32:07,  3.58s/it]\u001b[A\n",
      " 98%|█████████▊| 79580/81124 [10:41:19<2:20:14,  5.45s/it]\u001b[A\n",
      " 98%|█████████▊| 79581/81124 [10:41:21<1:54:30,  4.45s/it]\u001b[A\n",
      " 98%|█████████▊| 79582/81124 [10:41:22<1:27:18,  3.40s/it]\u001b[A\n",
      " 98%|█████████▊| 79583/81124 [10:41:24<1:18:05,  3.04s/it]\u001b[A\n",
      " 98%|█████████▊| 79584/81124 [10:41:26<1:06:03,  2.57s/it]\u001b[A\n",
      " 98%|█████████▊| 79585/81124 [10:41:26<48:33,  1.89s/it]  \u001b[A"
     ]
    },
    {
     "name": "stdout",
     "output_type": "stream",
     "text": [
      "Infected\n",
      "Infected\n"
     ]
    },
    {
     "name": "stderr",
     "output_type": "stream",
     "text": [
      "\n",
      " 98%|█████████▊| 79586/81124 [10:41:39<2:12:24,  5.17s/it]\u001b[A\n",
      " 98%|█████████▊| 79587/81124 [10:41:39<1:34:31,  3.69s/it]\u001b[A\n",
      " 98%|█████████▊| 79588/81124 [10:41:51<2:37:39,  6.16s/it]\u001b[A\n",
      " 98%|█████████▊| 79589/81124 [10:41:52<1:53:42,  4.44s/it]\u001b[A\n",
      " 98%|█████████▊| 79590/81124 [10:42:03<2:43:39,  6.40s/it]\u001b[A\n",
      " 98%|█████████▊| 79592/81124 [10:42:03<1:55:32,  4.53s/it]\u001b[A\n",
      " 98%|█████████▊| 79593/81124 [10:42:04<1:33:22,  3.66s/it]\u001b[A\n",
      " 98%|█████████▊| 79594/81124 [10:42:06<1:18:34,  3.08s/it]\u001b[A\n",
      " 98%|█████████▊| 79595/81124 [10:42:07<1:01:43,  2.42s/it]\u001b[A"
     ]
    },
    {
     "name": "stdout",
     "output_type": "stream",
     "text": [
      "Infected\n"
     ]
    },
    {
     "name": "stderr",
     "output_type": "stream",
     "text": [
      "\n",
      " 98%|█████████▊| 79596/81124 [10:42:19<2:13:04,  5.23s/it]\u001b[A\n",
      " 98%|█████████▊| 79597/81124 [10:42:20<1:42:00,  4.01s/it]\u001b[A\n",
      " 98%|█████████▊| 79598/81124 [10:42:23<1:37:32,  3.84s/it]\u001b[A\n",
      " 98%|█████████▊| 79599/81124 [10:42:26<1:24:11,  3.31s/it]\u001b[A"
     ]
    },
    {
     "name": "stdout",
     "output_type": "stream",
     "text": [
      "Infected\n"
     ]
    },
    {
     "name": "stderr",
     "output_type": "stream",
     "text": [
      "\n",
      " 98%|█████████▊| 79600/81124 [10:42:35<2:10:23,  5.13s/it]\u001b[A\n",
      " 98%|█████████▊| 79603/81124 [10:42:36<1:33:05,  3.67s/it]\u001b[A\n",
      " 98%|█████████▊| 79604/81124 [10:42:50<2:55:38,  6.93s/it]\u001b[A\n",
      " 98%|█████████▊| 79605/81124 [10:43:28<6:47:13, 16.09s/it]\u001b[A\n",
      " 98%|█████████▊| 79606/81124 [10:43:30<4:59:37, 11.84s/it]\u001b[A\n",
      " 98%|█████████▊| 79607/81124 [10:43:34<4:00:05,  9.50s/it]\u001b[A\n",
      " 98%|█████████▊| 79608/81124 [10:43:41<3:45:50,  8.94s/it]\u001b[A\n",
      " 98%|█████████▊| 79609/81124 [10:43:51<3:54:49,  9.30s/it]\u001b[A\n",
      " 98%|█████████▊| 79610/81124 [10:43:57<3:24:19,  8.10s/it]\u001b[A\n",
      " 98%|█████████▊| 79611/81124 [10:43:57<2:24:56,  5.75s/it]\u001b[A\n",
      " 98%|█████████▊| 79612/81124 [10:44:10<3:23:31,  8.08s/it]\u001b[A\n",
      " 98%|█████████▊| 79613/81124 [10:44:21<3:44:18,  8.91s/it]\u001b[A\n",
      " 98%|█████████▊| 79614/81124 [10:44:23<2:46:27,  6.61s/it]\u001b[A\n",
      " 98%|█████████▊| 79615/81124 [10:44:26<2:19:27,  5.54s/it]\u001b[A\n",
      " 98%|█████████▊| 79616/81124 [10:44:38<3:13:32,  7.70s/it]\u001b[A\n",
      " 98%|█████████▊| 79618/81124 [10:44:45<2:41:33,  6.44s/it]\u001b[A\n",
      " 98%|█████████▊| 79619/81124 [10:45:38<8:26:07, 20.18s/it]\u001b[A\n",
      " 98%|█████████▊| 79621/81124 [10:45:52<6:46:58, 16.25s/it]\u001b[A\n",
      " 98%|█████████▊| 79622/81124 [10:45:55<5:10:44, 12.41s/it]\u001b[A\n",
      " 98%|█████████▊| 79623/81124 [10:45:57<3:49:10,  9.16s/it]\u001b[A\n",
      " 98%|█████████▊| 79624/81124 [10:46:20<5:33:28, 13.34s/it]\u001b[A"
     ]
    },
    {
     "name": "stdout",
     "output_type": "stream",
     "text": [
      "Infected\n"
     ]
    },
    {
     "name": "stderr",
     "output_type": "stream",
     "text": [
      "\n",
      " 98%|█████████▊| 79625/81124 [10:47:02<9:11:14, 22.06s/it]\u001b[A\n",
      " 98%|█████████▊| 79626/81124 [10:47:19<8:33:24, 20.56s/it]\u001b[A\n",
      " 98%|█████████▊| 79629/81124 [10:47:29<6:23:42, 15.40s/it]\u001b[A\n",
      " 98%|█████████▊| 79630/81124 [10:47:54<7:29:09, 18.04s/it]\u001b[A\n",
      " 98%|█████████▊| 79631/81124 [10:48:10<7:19:54, 17.68s/it]\u001b[A\n",
      " 98%|█████████▊| 79632/81124 [10:48:59<11:07:31, 26.84s/it]\u001b[A\n",
      " 98%|█████████▊| 79633/81124 [10:49:01<8:07:14, 19.61s/it] \u001b[A\n",
      " 98%|█████████▊| 79634/81124 [10:49:02<5:44:36, 13.88s/it]\u001b[A\n",
      " 98%|█████████▊| 79635/81124 [10:49:04<4:16:55, 10.35s/it]\u001b[A\n",
      " 98%|█████████▊| 79636/81124 [10:49:16<4:28:41, 10.83s/it]\u001b[A\n",
      " 98%|█████████▊| 79638/81124 [10:49:39<4:32:32, 11.00s/it]\u001b[A\n",
      " 98%|█████████▊| 79639/81124 [10:49:40<3:21:56,  8.16s/it]\u001b[A\n",
      " 98%|█████████▊| 79642/81124 [10:49:42<2:25:34,  5.89s/it]\u001b[A\n",
      " 98%|█████████▊| 79643/81124 [10:50:13<5:28:08, 13.29s/it]\u001b[A\n",
      " 98%|█████████▊| 79644/81124 [10:50:19<4:39:47, 11.34s/it]\u001b[A\n",
      " 98%|█████████▊| 79645/81124 [10:50:21<3:26:21,  8.37s/it]\u001b[A\n",
      " 98%|█████████▊| 79646/81124 [10:50:22<2:32:00,  6.17s/it]\u001b[A\n",
      " 98%|█████████▊| 79647/81124 [10:50:23<1:52:26,  4.57s/it]\u001b[A\n",
      " 98%|█████████▊| 79648/81124 [10:50:27<1:51:18,  4.52s/it]\u001b[A\n",
      " 98%|█████████▊| 79649/81124 [10:50:29<1:32:37,  3.77s/it]\u001b[A\n",
      " 98%|█████████▊| 79653/81124 [10:50:33<1:10:58,  2.89s/it]\u001b[A\n",
      " 98%|█████████▊| 79654/81124 [10:50:33<55:34,  2.27s/it]  \u001b[A\n",
      " 98%|█████████▊| 79655/81124 [10:50:54<3:09:46,  7.75s/it]\u001b[A\n",
      " 98%|█████████▊| 79656/81124 [10:50:54<2:14:54,  5.51s/it]\u001b[A\n",
      " 98%|█████████▊| 79657/81124 [10:50:56<1:44:10,  4.26s/it]\u001b[A\n",
      " 98%|█████████▊| 79660/81124 [10:51:03<1:31:42,  3.76s/it]\u001b[A\n",
      " 98%|█████████▊| 79661/81124 [10:51:42<5:44:59, 14.15s/it]\u001b[A\n",
      " 98%|█████████▊| 79662/81124 [10:52:10<7:30:32, 18.49s/it]\u001b[A\n",
      " 98%|█████████▊| 79664/81124 [10:52:24<6:04:26, 14.98s/it]\u001b[A"
     ]
    },
    {
     "name": "stdout",
     "output_type": "stream",
     "text": [
      "Infected\n",
      "Infected\n",
      "Infected\n",
      "Infected\n"
     ]
    },
    {
     "name": "stderr",
     "output_type": "stream",
     "text": [
      "\n",
      " 98%|█████████▊| 79665/81124 [10:53:09<9:42:54, 23.97s/it]\u001b[A\n",
      " 98%|█████████▊| 79666/81124 [10:53:10<6:54:14, 17.05s/it]\u001b[A\n",
      " 98%|█████████▊| 79668/81124 [10:53:36<6:26:14, 15.92s/it]\u001b[A\n",
      " 98%|█████████▊| 79669/81124 [10:53:49<6:05:43, 15.08s/it]\u001b[A\n",
      " 98%|█████████▊| 79670/81124 [10:53:52<4:30:33, 11.16s/it]\u001b[A\n",
      " 98%|█████████▊| 79671/81124 [10:53:59<4:06:16, 10.17s/it]\u001b[A\n",
      " 98%|█████████▊| 79672/81124 [10:54:09<4:01:26,  9.98s/it]\u001b[A\n",
      " 98%|█████████▊| 79673/81124 [10:54:21<4:17:23, 10.64s/it]\u001b[A\n",
      " 98%|█████████▊| 79675/81124 [10:54:22<3:04:33,  7.64s/it]\u001b[A\n",
      " 98%|█████████▊| 79676/81124 [10:54:28<2:50:18,  7.06s/it]\u001b[A\n",
      " 98%|█████████▊| 79677/81124 [10:54:32<2:27:38,  6.12s/it]\u001b[A"
     ]
    },
    {
     "name": "stdout",
     "output_type": "stream",
     "text": [
      "Infected\n"
     ]
    },
    {
     "name": "stderr",
     "output_type": "stream",
     "text": [
      "\n",
      " 98%|█████████▊| 79678/81124 [10:54:33<1:52:35,  4.67s/it]\u001b[A\n",
      " 98%|█████████▊| 79679/81124 [10:55:01<4:38:08, 11.55s/it]\u001b[A\n",
      " 98%|█████████▊| 79680/81124 [10:55:01<3:18:04,  8.23s/it]\u001b[A\n",
      " 98%|█████████▊| 79681/81124 [10:55:03<2:31:45,  6.31s/it]\u001b[A\n",
      " 98%|█████████▊| 79682/81124 [10:55:07<2:13:53,  5.57s/it]\u001b[A\n",
      " 98%|█████████▊| 79683/81124 [10:55:09<1:44:37,  4.36s/it]\u001b[A\n",
      " 98%|█████████▊| 79684/81124 [10:55:10<1:20:04,  3.34s/it]\u001b[A\n",
      " 98%|█████████▊| 79685/81124 [10:55:13<1:19:33,  3.32s/it]\u001b[A"
     ]
    },
    {
     "name": "stdout",
     "output_type": "stream",
     "text": [
      "Infected\n"
     ]
    },
    {
     "name": "stderr",
     "output_type": "stream",
     "text": [
      "\n",
      " 98%|█████████▊| 79686/81124 [10:55:24<2:14:30,  5.61s/it]\u001b[A\n",
      " 98%|█████████▊| 79687/81124 [10:55:25<1:41:24,  4.23s/it]\u001b[A\n",
      " 98%|█████████▊| 79688/81124 [10:55:26<1:17:00,  3.22s/it]\u001b[A\n",
      " 98%|█████████▊| 79689/81124 [10:55:28<1:07:25,  2.82s/it]\u001b[A\n",
      " 98%|█████████▊| 79690/81124 [10:55:55<4:01:52, 10.12s/it]\u001b[A\n",
      " 98%|█████████▊| 79691/81124 [10:55:57<3:02:50,  7.66s/it]\u001b[A\n",
      " 98%|█████████▊| 79692/81124 [10:55:58<2:14:41,  5.64s/it]\u001b[A\n",
      " 98%|█████████▊| 79693/81124 [10:55:59<1:41:14,  4.25s/it]\u001b[A\n",
      " 98%|█████████▊| 79694/81124 [10:56:01<1:27:26,  3.67s/it]\u001b[A\n",
      " 98%|█████████▊| 79695/81124 [10:56:08<1:48:47,  4.57s/it]\u001b[A\n",
      " 98%|█████████▊| 79696/81124 [10:56:08<1:22:21,  3.46s/it]\u001b[A\n",
      " 98%|█████████▊| 79697/81124 [10:56:18<2:07:16,  5.35s/it]\u001b[A\n",
      " 98%|█████████▊| 79698/81124 [10:56:18<1:31:29,  3.85s/it]\u001b[A\n",
      " 98%|█████████▊| 79699/81124 [10:56:20<1:17:01,  3.24s/it]\u001b[A\n",
      " 98%|█████████▊| 79700/81124 [10:56:21<55:37,  2.34s/it]  \u001b[A\n",
      " 98%|█████████▊| 79701/81124 [10:56:23<58:56,  2.49s/it]\u001b[A\n",
      " 98%|█████████▊| 79702/81124 [10:56:24<43:48,  1.85s/it]\u001b[A\n",
      " 98%|█████████▊| 79703/81124 [10:56:27<52:56,  2.24s/it]\u001b[A\n",
      " 98%|█████████▊| 79704/81124 [10:56:35<1:35:18,  4.03s/it]\u001b[A\n",
      " 98%|█████████▊| 79705/81124 [10:56:36<1:09:53,  2.96s/it]\u001b[A\n",
      " 98%|█████████▊| 79706/81124 [10:56:39<1:12:12,  3.06s/it]\u001b[A\n",
      " 98%|█████████▊| 79707/81124 [10:56:52<2:25:38,  6.17s/it]\u001b[A\n",
      " 98%|█████████▊| 79708/81124 [10:56:53<1:44:37,  4.43s/it]\u001b[A\n",
      " 98%|█████████▊| 79709/81124 [10:56:53<1:13:58,  3.14s/it]\u001b[A\n",
      " 98%|█████████▊| 79710/81124 [10:57:16<3:37:51,  9.24s/it]\u001b[A\n",
      " 98%|█████████▊| 79711/81124 [10:57:28<3:57:52, 10.10s/it]\u001b[A\n",
      " 98%|█████████▊| 79712/81124 [10:57:37<3:45:59,  9.60s/it]\u001b[A\n",
      " 98%|█████████▊| 79713/81124 [10:57:37<2:40:23,  6.82s/it]\u001b[A\n",
      " 98%|█████████▊| 79714/81124 [10:57:50<3:25:18,  8.74s/it]\u001b[A\n",
      " 98%|█████████▊| 79715/81124 [10:58:07<4:23:09, 11.21s/it]\u001b[A\n",
      " 98%|█████████▊| 79716/81124 [10:58:37<6:33:06, 16.75s/it]\u001b[A\n",
      " 98%|█████████▊| 79717/81124 [10:58:42<5:10:25, 13.24s/it]\u001b[A\n",
      " 98%|█████████▊| 79718/81124 [10:59:27<8:50:24, 22.63s/it]\u001b[A\n",
      " 98%|█████████▊| 79719/81124 [10:59:36<7:16:22, 18.64s/it]\u001b[A\n",
      " 98%|█████████▊| 79721/81124 [10:59:38<5:13:21, 13.40s/it]\u001b[A\n",
      " 98%|█████████▊| 79722/81124 [11:00:09<7:12:56, 18.53s/it]\u001b[A\n",
      " 98%|█████████▊| 79723/81124 [11:00:10<5:12:38, 13.39s/it]\u001b[A\n",
      " 98%|█████████▊| 79724/81124 [11:00:44<7:33:32, 19.44s/it]\u001b[A\n",
      " 98%|█████████▊| 79725/81124 [11:00:45<5:25:25, 13.96s/it]\u001b[A\n",
      " 98%|█████████▊| 79726/81124 [11:00:47<4:01:05, 10.35s/it]\u001b[A\n",
      " 98%|█████████▊| 79727/81124 [11:00:50<3:10:05,  8.16s/it]\u001b[A\n",
      " 98%|█████████▊| 79728/81124 [11:00:50<2:15:50,  5.84s/it]\u001b[A\n",
      " 98%|█████████▊| 79729/81124 [11:00:52<1:43:36,  4.46s/it]\u001b[A\n",
      " 98%|█████████▊| 79730/81124 [11:00:52<1:18:33,  3.38s/it]\u001b[A\n",
      " 98%|█████████▊| 79731/81124 [11:00:53<1:01:16,  2.64s/it]\u001b[A"
     ]
    },
    {
     "name": "stdout",
     "output_type": "stream",
     "text": [
      "Infected\n",
      "Infected\n"
     ]
    },
    {
     "name": "stderr",
     "output_type": "stream",
     "text": [
      "\n",
      " 98%|█████████▊| 79732/81124 [11:01:08<2:28:04,  6.38s/it]\u001b[A\n",
      " 98%|█████████▊| 79734/81124 [11:01:36<3:21:07,  8.68s/it]\u001b[A\n",
      " 98%|█████████▊| 79736/81124 [11:01:41<2:34:35,  6.68s/it]\u001b[A\n",
      " 98%|█████████▊| 79737/81124 [11:01:41<1:50:05,  4.76s/it]\u001b[A\n",
      " 98%|█████████▊| 79738/81124 [11:01:41<1:19:44,  3.45s/it]\u001b[A\n",
      " 98%|█████████▊| 79739/81124 [11:01:48<1:44:27,  4.53s/it]\u001b[A\n",
      " 98%|█████████▊| 79740/81124 [11:02:33<6:23:03, 16.61s/it]\u001b[A\n",
      " 98%|█████████▊| 79741/81124 [11:03:00<7:34:46, 19.73s/it]\u001b[A\n",
      " 98%|█████████▊| 79744/81124 [11:03:01<5:20:47, 13.95s/it]\u001b[A\n",
      " 98%|█████████▊| 79745/81124 [11:03:09<4:36:35, 12.03s/it]\u001b[A\n",
      " 98%|█████████▊| 79746/81124 [11:03:11<3:27:23,  9.03s/it]\u001b[A\n",
      " 98%|█████████▊| 79747/81124 [11:03:14<2:45:23,  7.21s/it]\u001b[A\n",
      " 98%|█████████▊| 79748/81124 [11:03:14<1:57:04,  5.11s/it]\u001b[A\n",
      " 98%|█████████▊| 79749/81124 [11:03:22<2:13:59,  5.85s/it]\u001b[A\n",
      " 98%|█████████▊| 79750/81124 [11:03:22<1:35:29,  4.17s/it]\u001b[A\n",
      " 98%|█████████▊| 79752/81124 [11:03:23<1:11:38,  3.13s/it]\u001b[A\n",
      " 98%|█████████▊| 79753/81124 [11:03:34<1:59:21,  5.22s/it]\u001b[A\n",
      " 98%|█████████▊| 79755/81124 [11:03:35<1:27:51,  3.85s/it]\u001b[A\n",
      " 98%|█████████▊| 79756/81124 [11:03:35<1:02:57,  2.76s/it]\u001b[A\n",
      " 98%|█████████▊| 79757/81124 [11:03:35<44:52,  1.97s/it]  \u001b[A\n",
      " 98%|█████████▊| 79758/81124 [11:03:35<33:38,  1.48s/it]\u001b[A\n",
      " 98%|█████████▊| 79759/81124 [11:03:36<24:55,  1.10s/it]\u001b[A\n",
      " 98%|█████████▊| 79760/81124 [11:04:15<4:48:20, 12.68s/it]\u001b[A"
     ]
    },
    {
     "name": "stdout",
     "output_type": "stream",
     "text": [
      "Infected\n",
      "Infected\n"
     ]
    },
    {
     "name": "stderr",
     "output_type": "stream",
     "text": [
      "\n",
      " 98%|█████████▊| 79762/81124 [11:04:28<4:05:56, 10.83s/it]\u001b[A\n",
      " 98%|█████████▊| 79763/81124 [11:04:32<3:13:49,  8.54s/it]\u001b[A\n",
      " 98%|█████████▊| 79764/81124 [11:04:32<2:17:07,  6.05s/it]\u001b[A\n",
      " 98%|█████████▊| 79766/81124 [11:04:41<2:07:04,  5.61s/it]\u001b[A\n",
      " 98%|█████████▊| 79767/81124 [11:05:32<7:16:59, 19.32s/it]\u001b[A\n",
      " 98%|█████████▊| 79768/81124 [11:05:33<5:11:59, 13.81s/it]\u001b[A\n",
      " 98%|█████████▊| 79769/81124 [11:05:34<3:39:45,  9.73s/it]\u001b[A\n",
      " 98%|█████████▊| 79770/81124 [11:05:36<2:47:40,  7.43s/it]\u001b[A\n",
      " 98%|█████████▊| 79771/81124 [11:05:40<2:26:04,  6.48s/it]\u001b[A\n",
      " 98%|█████████▊| 79772/81124 [11:05:43<2:01:24,  5.39s/it]\u001b[A\n",
      " 98%|█████████▊| 79773/81124 [11:05:44<1:35:37,  4.25s/it]\u001b[A\n",
      " 98%|█████████▊| 79774/81124 [11:05:52<2:00:52,  5.37s/it]\u001b[A"
     ]
    },
    {
     "name": "stdout",
     "output_type": "stream",
     "text": [
      "Infected\n"
     ]
    },
    {
     "name": "stderr",
     "output_type": "stream",
     "text": [
      "\n",
      " 98%|█████████▊| 79775/81124 [11:05:56<1:51:11,  4.95s/it]\u001b[A\n",
      " 98%|█████████▊| 79776/81124 [11:06:02<1:54:48,  5.11s/it]\u001b[A\n",
      " 98%|█████████▊| 79777/81124 [11:06:03<1:25:41,  3.82s/it]\u001b[A\n",
      " 98%|█████████▊| 79778/81124 [11:06:03<1:01:47,  2.75s/it]\u001b[A\n",
      " 98%|█████████▊| 79779/81124 [11:06:15<2:02:53,  5.48s/it]\u001b[A"
     ]
    },
    {
     "name": "stdout",
     "output_type": "stream",
     "text": [
      "Infected\n"
     ]
    },
    {
     "name": "stderr",
     "output_type": "stream",
     "text": [
      "\n",
      " 98%|█████████▊| 79780/81124 [11:06:24<2:26:51,  6.56s/it]\u001b[A\n",
      " 98%|█████████▊| 79781/81124 [11:06:59<5:39:40, 15.18s/it]\u001b[A\n",
      " 98%|█████████▊| 79782/81124 [11:07:06<4:42:57, 12.65s/it]\u001b[A\n",
      " 98%|█████████▊| 79783/81124 [11:07:06<3:20:54,  8.99s/it]\u001b[A\n",
      " 98%|█████████▊| 79784/81124 [11:07:10<2:44:47,  7.38s/it]\u001b[A\n",
      " 98%|█████████▊| 79785/81124 [11:07:11<2:00:09,  5.38s/it]\u001b[A\n",
      " 98%|█████████▊| 79786/81124 [11:07:14<1:47:09,  4.81s/it]\u001b[A\n",
      " 98%|█████████▊| 79787/81124 [11:07:16<1:25:52,  3.85s/it]\u001b[A\n",
      " 98%|█████████▊| 79789/81124 [11:07:16<1:02:28,  2.81s/it]\u001b[A\n",
      " 98%|█████████▊| 79790/81124 [11:07:17<44:58,  2.02s/it]  \u001b[A\n",
      " 98%|█████████▊| 79791/81124 [11:07:18<40:22,  1.82s/it]\u001b[A\n",
      " 98%|█████████▊| 79792/81124 [11:07:25<1:18:15,  3.53s/it]\u001b[A\n",
      " 98%|█████████▊| 79793/81124 [11:07:26<1:00:34,  2.73s/it]\u001b[A\n",
      " 98%|█████████▊| 79795/81124 [11:07:49<1:56:47,  5.27s/it]\u001b[A\n",
      " 98%|█████████▊| 79796/81124 [11:07:50<1:30:51,  4.10s/it]\u001b[A\n",
      " 98%|█████████▊| 79797/81124 [11:07:51<1:10:25,  3.18s/it]\u001b[A\n",
      " 98%|█████████▊| 79798/81124 [11:07:53<59:11,  2.68s/it]  \u001b[A"
     ]
    },
    {
     "name": "stdout",
     "output_type": "stream",
     "text": [
      "Infected\n"
     ]
    },
    {
     "name": "stderr",
     "output_type": "stream",
     "text": [
      "\n",
      " 98%|█████████▊| 79799/81124 [11:08:13<2:57:06,  8.02s/it]\u001b[A\n",
      " 98%|█████████▊| 79801/81124 [11:08:23<2:35:36,  7.06s/it]\u001b[A\n",
      " 98%|█████████▊| 79802/81124 [11:08:24<1:55:26,  5.24s/it]\u001b[A\n",
      " 98%|█████████▊| 79803/81124 [11:08:25<1:25:57,  3.90s/it]\u001b[A\n",
      " 98%|█████████▊| 79804/81124 [11:08:45<3:18:17,  9.01s/it]\u001b[A\n",
      " 98%|█████████▊| 79805/81124 [11:09:27<6:55:02, 18.88s/it]\u001b[A\n",
      " 98%|█████████▊| 79806/81124 [11:09:29<4:59:02, 13.61s/it]\u001b[A\n",
      " 98%|█████████▊| 79807/81124 [11:10:02<7:10:29, 19.61s/it]\u001b[A\n",
      " 98%|█████████▊| 79808/81124 [11:10:03<5:02:57, 13.81s/it]\u001b[A\n",
      " 98%|█████████▊| 79809/81124 [11:10:17<5:06:50, 14.00s/it]\u001b[A\n",
      " 98%|█████████▊| 79810/81124 [11:10:20<3:53:07, 10.65s/it]\u001b[A\n",
      " 98%|█████████▊| 79812/81124 [11:10:23<2:51:45,  7.86s/it]\u001b[A\n",
      " 98%|█████████▊| 79813/81124 [11:10:25<2:14:20,  6.15s/it]\u001b[A\n",
      " 98%|█████████▊| 79814/81124 [11:10:43<3:35:01,  9.85s/it]\u001b[A\n",
      " 98%|█████████▊| 79817/81124 [11:11:20<3:49:22, 10.53s/it]\u001b[A\n",
      " 98%|█████████▊| 79818/81124 [11:11:39<4:49:35, 13.30s/it]\u001b[A\n",
      " 98%|█████████▊| 79819/81124 [11:11:40<3:30:04,  9.66s/it]\u001b[A\n",
      " 98%|█████████▊| 79820/81124 [11:11:42<2:36:03,  7.18s/it]\u001b[A\n",
      " 98%|█████████▊| 79821/81124 [11:11:43<1:54:06,  5.25s/it]\u001b[A\n",
      " 98%|█████████▊| 79822/81124 [11:12:10<4:16:21, 11.81s/it]\u001b[A\n",
      " 98%|█████████▊| 79823/81124 [11:12:10<3:01:11,  8.36s/it]\u001b[A\n",
      " 98%|█████████▊| 79824/81124 [11:12:14<2:30:04,  6.93s/it]\u001b[A\n",
      " 98%|█████████▊| 79825/81124 [11:12:17<2:04:36,  5.76s/it]\u001b[A\n",
      " 98%|█████████▊| 79826/81124 [11:12:26<2:27:19,  6.81s/it]\u001b[A\n",
      " 98%|█████████▊| 79827/81124 [11:13:20<7:31:06, 20.87s/it]\u001b[A\n",
      " 98%|█████████▊| 79828/81124 [11:13:23<5:39:45, 15.73s/it]\u001b[A\n",
      " 98%|█████████▊| 79829/81124 [11:13:24<3:59:12, 11.08s/it]\u001b[A\n",
      " 98%|█████████▊| 79831/81124 [11:13:48<4:05:13, 11.38s/it]\u001b[A\n",
      " 98%|█████████▊| 79832/81124 [11:13:52<3:21:37,  9.36s/it]\u001b[A\n",
      " 98%|█████████▊| 79833/81124 [11:14:00<3:10:37,  8.86s/it]\u001b[A\n",
      " 98%|█████████▊| 79834/81124 [11:14:00<2:14:16,  6.24s/it]\u001b[A\n",
      " 98%|█████████▊| 79835/81124 [11:14:02<1:48:36,  5.06s/it]\u001b[A\n",
      " 98%|█████████▊| 79836/81124 [11:14:15<2:35:22,  7.24s/it]\u001b[A\n",
      " 98%|█████████▊| 79837/81124 [11:14:15<1:50:11,  5.14s/it]\u001b[A\n",
      " 98%|█████████▊| 79838/81124 [11:15:05<6:38:34, 18.60s/it]\u001b[A\n",
      " 98%|█████████▊| 79839/81124 [11:15:10<5:11:16, 14.53s/it]\u001b[A\n",
      " 98%|█████████▊| 79840/81124 [11:15:44<7:13:32, 20.26s/it]\u001b[A"
     ]
    },
    {
     "name": "stdout",
     "output_type": "stream",
     "text": [
      "Infected\n"
     ]
    },
    {
     "name": "stderr",
     "output_type": "stream",
     "text": [
      "\n",
      " 98%|█████████▊| 79841/81124 [11:15:58<6:34:42, 18.46s/it]\u001b[A\n",
      " 98%|█████████▊| 79842/81124 [11:16:05<5:22:45, 15.11s/it]\u001b[A\n",
      " 98%|█████████▊| 79843/81124 [11:16:05<3:46:45, 10.62s/it]\u001b[A\n",
      " 98%|█████████▊| 79844/81124 [11:16:57<8:09:24, 22.94s/it]\u001b[A\n",
      " 98%|█████████▊| 79845/81124 [11:17:00<6:02:55, 17.03s/it]\u001b[A\n",
      " 98%|█████████▊| 79846/81124 [11:17:10<5:17:31, 14.91s/it]\u001b[A\n",
      " 98%|█████████▊| 79848/81124 [11:17:13<3:51:20, 10.88s/it]\u001b[A\n",
      " 98%|█████████▊| 79849/81124 [11:17:19<3:21:44,  9.49s/it]\u001b[A"
     ]
    },
    {
     "name": "stdout",
     "output_type": "stream",
     "text": [
      "Infected\n"
     ]
    },
    {
     "name": "stderr",
     "output_type": "stream",
     "text": [
      "\n",
      " 98%|█████████▊| 79850/81124 [11:17:26<3:04:34,  8.69s/it]\u001b[A"
     ]
    },
    {
     "name": "stdout",
     "output_type": "stream",
     "text": [
      "Infected\n"
     ]
    },
    {
     "name": "stderr",
     "output_type": "stream",
     "text": [
      "\n",
      " 98%|█████████▊| 79851/81124 [11:17:32<2:46:36,  7.85s/it]\u001b[A"
     ]
    },
    {
     "name": "stdout",
     "output_type": "stream",
     "text": [
      "Infected\n",
      "Infected\n"
     ]
    },
    {
     "name": "stderr",
     "output_type": "stream",
     "text": [
      "\n",
      " 98%|█████████▊| 79852/81124 [11:17:55<4:24:34, 12.48s/it]\u001b[A\n",
      " 98%|█████████▊| 79854/81124 [11:17:57<3:10:12,  8.99s/it]\u001b[A\n",
      " 98%|█████████▊| 79855/81124 [11:18:10<3:32:14, 10.04s/it]\u001b[A\n",
      " 98%|█████████▊| 79856/81124 [11:18:11<2:35:04,  7.34s/it]\u001b[A\n",
      " 98%|█████████▊| 79857/81124 [11:18:13<2:00:37,  5.71s/it]\u001b[A\n",
      " 98%|█████████▊| 79858/81124 [11:18:14<1:30:51,  4.31s/it]\u001b[A\n",
      " 98%|█████████▊| 79859/81124 [11:18:14<1:05:44,  3.12s/it]\u001b[A\n",
      " 98%|█████████▊| 79860/81124 [11:18:26<2:02:16,  5.80s/it]\u001b[A\n",
      " 98%|█████████▊| 79861/81124 [11:18:37<2:31:36,  7.20s/it]\u001b[A\n",
      " 98%|█████████▊| 79862/81124 [11:18:38<1:54:35,  5.45s/it]\u001b[A\n",
      " 98%|█████████▊| 79863/81124 [11:18:39<1:25:51,  4.09s/it]\u001b[A\n",
      " 98%|█████████▊| 79864/81124 [11:18:41<1:12:40,  3.46s/it]\u001b[A\n",
      " 98%|█████████▊| 79865/81124 [11:18:50<1:51:13,  5.30s/it]\u001b[A\n",
      " 98%|█████████▊| 79867/81124 [11:18:51<1:18:30,  3.75s/it]\u001b[A"
     ]
    },
    {
     "name": "stdout",
     "output_type": "stream",
     "text": [
      "Infected\n",
      "Infected\n",
      "Infected\n"
     ]
    },
    {
     "name": "stderr",
     "output_type": "stream",
     "text": [
      "\n",
      " 98%|█████████▊| 79868/81124 [11:18:55<1:23:12,  3.97s/it]\u001b[A\n",
      " 98%|█████████▊| 79870/81124 [11:18:58<1:08:25,  3.27s/it]\u001b[A\n",
      " 98%|█████████▊| 79871/81124 [11:19:03<1:15:45,  3.63s/it]\u001b[A\n",
      " 98%|█████████▊| 79872/81124 [11:19:08<1:23:29,  4.00s/it]\u001b[A\n",
      " 98%|█████████▊| 79873/81124 [11:19:09<1:07:35,  3.24s/it]\u001b[A\n",
      " 98%|█████████▊| 79875/81124 [11:19:14<1:01:11,  2.94s/it]\u001b[A\n",
      " 98%|█████████▊| 79876/81124 [11:19:16<1:00:05,  2.89s/it]\u001b[A\n",
      " 98%|█████████▊| 79877/81124 [11:19:17<47:36,  2.29s/it]  \u001b[A\n",
      " 98%|█████████▊| 79878/81124 [11:19:40<2:53:57,  8.38s/it]\u001b[A\n",
      " 98%|█████████▊| 79879/81124 [11:19:50<3:04:13,  8.88s/it]\u001b[A\n",
      " 98%|█████████▊| 79880/81124 [11:19:52<2:24:19,  6.96s/it]\u001b[A\n",
      " 98%|█████████▊| 79882/81124 [11:19:53<1:41:26,  4.90s/it]\u001b[A\n",
      " 98%|█████████▊| 79884/81124 [11:19:57<1:24:40,  4.10s/it]\u001b[A\n",
      " 98%|█████████▊| 79885/81124 [11:20:01<1:23:13,  4.03s/it]\u001b[A\n",
      " 98%|█████████▊| 79886/81124 [11:20:26<3:32:42, 10.31s/it]\u001b[A\n",
      " 98%|█████████▊| 79887/81124 [11:20:57<5:41:08, 16.55s/it]\u001b[A\n",
      " 98%|█████████▊| 79888/81124 [11:21:01<4:20:33, 12.65s/it]\u001b[A\n",
      " 98%|█████████▊| 79889/81124 [11:21:32<6:16:30, 18.29s/it]\u001b[A\n",
      " 98%|█████████▊| 79890/81124 [11:21:38<5:00:15, 14.60s/it]\u001b[A\n",
      " 98%|█████████▊| 79892/81124 [11:21:52<4:12:08, 12.28s/it]\u001b[A\n",
      " 98%|█████████▊| 79894/81124 [11:21:52<2:56:56,  8.63s/it]\u001b[A\n",
      " 98%|█████████▊| 79895/81124 [11:22:01<3:02:10,  8.89s/it]\u001b[A\n",
      " 98%|█████████▊| 79896/81124 [11:22:04<2:24:41,  7.07s/it]\u001b[A\n",
      " 98%|█████████▊| 79897/81124 [11:22:07<2:00:50,  5.91s/it]\u001b[A\n",
      " 98%|█████████▊| 79898/81124 [11:22:14<2:03:36,  6.05s/it]\u001b[A\n",
      " 98%|█████████▊| 79899/81124 [11:22:23<2:24:27,  7.08s/it]\u001b[A\n",
      " 98%|█████████▊| 79901/81124 [11:22:25<1:44:46,  5.14s/it]\u001b[A"
     ]
    },
    {
     "name": "stdout",
     "output_type": "stream",
     "text": [
      "Infected\n"
     ]
    },
    {
     "name": "stderr",
     "output_type": "stream",
     "text": [
      "\n",
      " 98%|█████████▊| 79902/81124 [11:22:38<2:37:26,  7.73s/it]\u001b[A\n",
      " 98%|█████████▊| 79903/81124 [11:22:39<1:51:08,  5.46s/it]\u001b[A\n",
      " 98%|█████████▊| 79904/81124 [11:22:39<1:19:21,  3.90s/it]\u001b[A\n",
      " 98%|█████████▊| 79905/81124 [11:23:25<5:39:01, 16.69s/it]\u001b[A\n",
      " 98%|█████████▊| 79906/81124 [11:23:26<3:59:06, 11.78s/it]\u001b[A\n",
      " 98%|█████████▊| 79907/81124 [11:23:29<3:05:17,  9.13s/it]\u001b[A\n",
      " 99%|█████████▊| 79908/81124 [11:23:32<2:30:32,  7.43s/it]\u001b[A\n",
      " 99%|█████████▊| 79909/81124 [11:23:36<2:07:02,  6.27s/it]\u001b[A\n",
      " 99%|█████████▊| 79910/81124 [11:24:13<5:16:14, 15.63s/it]\u001b[A\n",
      " 99%|█████████▊| 79911/81124 [11:25:01<8:34:23, 25.44s/it]\u001b[A"
     ]
    },
    {
     "name": "stdout",
     "output_type": "stream",
     "text": [
      "Infected\n"
     ]
    },
    {
     "name": "stderr",
     "output_type": "stream",
     "text": [
      "\n",
      " 99%|█████████▊| 79912/81124 [11:25:08<6:39:19, 19.77s/it]\u001b[A\n",
      " 99%|█████████▊| 79914/81124 [11:25:13<4:53:41, 14.56s/it]\u001b[A\n",
      " 99%|█████████▊| 79915/81124 [11:25:16<3:46:17, 11.23s/it]\u001b[A\n",
      " 99%|█████████▊| 79916/81124 [11:25:24<3:27:13, 10.29s/it]\u001b[A\n",
      " 99%|█████████▊| 79917/81124 [11:25:25<2:30:23,  7.48s/it]\u001b[A\n",
      " 99%|█████████▊| 79918/81124 [11:26:10<6:14:02, 18.61s/it]\u001b[A"
     ]
    },
    {
     "name": "stdout",
     "output_type": "stream",
     "text": [
      "Infected\n",
      "Infected\n",
      "Infected\n"
     ]
    },
    {
     "name": "stderr",
     "output_type": "stream",
     "text": [
      "\n",
      " 99%|█████████▊| 79919/81124 [11:26:15<4:52:53, 14.58s/it]\u001b[A\n",
      " 99%|█████████▊| 79920/81124 [11:26:24<4:16:51, 12.80s/it]\u001b[A\n",
      " 99%|█████████▊| 79921/81124 [11:26:26<3:12:30,  9.60s/it]\u001b[A\n",
      " 99%|█████████▊| 79922/81124 [11:26:27<2:19:46,  6.98s/it]\u001b[A\n",
      " 99%|█████████▊| 79923/81124 [11:26:55<4:25:39, 13.27s/it]\u001b[A\n",
      " 99%|█████████▊| 79924/81124 [11:27:07<4:20:34, 13.03s/it]\u001b[A\n",
      " 99%|█████████▊| 79925/81124 [11:27:12<3:29:23, 10.48s/it]\u001b[A\n",
      " 99%|█████████▊| 79926/81124 [11:27:12<2:27:49,  7.40s/it]\u001b[A\n",
      " 99%|█████████▊| 79927/81124 [11:27:14<1:54:16,  5.73s/it]\u001b[A\n",
      " 99%|█████████▊| 79928/81124 [11:27:23<2:16:04,  6.83s/it]\u001b[A\n",
      " 99%|█████████▊| 79929/81124 [11:27:59<5:09:20, 15.53s/it]\u001b[A\n",
      " 99%|█████████▊| 79930/81124 [11:28:07<4:25:42, 13.35s/it]\u001b[A\n",
      " 99%|█████████▊| 79931/81124 [11:28:11<3:27:58, 10.46s/it]\u001b[A\n",
      " 99%|█████████▊| 79932/81124 [11:28:12<2:31:28,  7.62s/it]\u001b[A\n",
      " 99%|█████████▊| 79934/81124 [11:28:13<1:50:24,  5.57s/it]\u001b[A\n",
      " 99%|█████████▊| 79935/81124 [11:28:35<3:24:35, 10.32s/it]\u001b[A\n",
      " 99%|█████████▊| 79936/81124 [11:28:35<2:23:54,  7.27s/it]\u001b[A\n",
      " 99%|█████████▊| 79937/81124 [11:28:35<1:42:17,  5.17s/it]\u001b[A\n",
      " 99%|█████████▊| 79938/81124 [11:28:36<1:13:40,  3.73s/it]\u001b[A\n",
      " 99%|█████████▊| 79939/81124 [11:28:39<1:09:42,  3.53s/it]\u001b[A\n",
      " 99%|█████████▊| 79940/81124 [11:28:50<1:54:43,  5.81s/it]\u001b[A"
     ]
    },
    {
     "name": "stdout",
     "output_type": "stream",
     "text": [
      "Infected\n",
      "Infected\n"
     ]
    },
    {
     "name": "stderr",
     "output_type": "stream",
     "text": [
      "\n",
      " 99%|█████████▊| 79941/81124 [11:29:02<2:29:48,  7.60s/it]\u001b[A\n",
      " 99%|█████████▊| 79942/81124 [11:29:31<4:37:02, 14.06s/it]\u001b[A\n",
      " 99%|█████████▊| 79943/81124 [11:29:32<3:22:31, 10.29s/it]\u001b[A\n",
      " 99%|█████████▊| 79944/81124 [11:29:34<2:34:34,  7.86s/it]\u001b[A\n",
      " 99%|█████████▊| 79945/81124 [11:29:38<2:07:46,  6.50s/it]\u001b[A\n",
      " 99%|█████████▊| 79946/81124 [11:29:47<2:23:10,  7.29s/it]\u001b[A\n",
      " 99%|█████████▊| 79947/81124 [11:29:49<1:52:13,  5.72s/it]\u001b[A\n",
      " 99%|█████████▊| 79948/81124 [11:29:51<1:33:01,  4.75s/it]\u001b[A\n",
      " 99%|█████████▊| 79949/81124 [11:29:54<1:18:15,  4.00s/it]\u001b[A\n",
      " 99%|█████████▊| 79950/81124 [11:29:57<1:13:33,  3.76s/it]\u001b[A\n",
      " 99%|█████████▊| 79951/81124 [11:30:24<3:30:48, 10.78s/it]\u001b[A\n",
      " 99%|█████████▊| 79952/81124 [11:30:58<5:44:22, 17.63s/it]\u001b[A"
     ]
    },
    {
     "name": "stdout",
     "output_type": "stream",
     "text": [
      "Infected\n",
      "Infected\n"
     ]
    },
    {
     "name": "stderr",
     "output_type": "stream",
     "text": [
      "\n",
      " 99%|█████████▊| 79953/81124 [11:31:32<7:19:33, 22.52s/it]\u001b[A\n",
      " 99%|█████████▊| 79954/81124 [11:31:33<5:13:38, 16.08s/it]\u001b[A\n",
      " 99%|█████████▊| 79955/81124 [11:31:37<4:06:11, 12.64s/it]\u001b[A\n",
      " 99%|█████████▊| 79956/81124 [11:31:51<4:11:07, 12.90s/it]\u001b[A\n",
      " 99%|█████████▊| 79957/81124 [11:31:52<3:01:34,  9.34s/it]\u001b[A\n",
      " 99%|█████████▊| 79958/81124 [11:31:53<2:12:07,  6.80s/it]\u001b[A\n",
      " 99%|█████████▊| 79959/81124 [11:32:01<2:21:28,  7.29s/it]\u001b[A"
     ]
    },
    {
     "name": "stdout",
     "output_type": "stream",
     "text": [
      "Infected\n",
      "Infected\n",
      "Infected\n",
      "Infected\n",
      "Infected\n"
     ]
    },
    {
     "name": "stderr",
     "output_type": "stream",
     "text": [
      "\n",
      " 99%|█████████▊| 79960/81124 [11:32:24<3:50:59, 11.91s/it]\u001b[A\n",
      " 99%|█████████▊| 79961/81124 [11:32:29<3:09:47,  9.79s/it]\u001b[A\n",
      " 99%|█████████▊| 79962/81124 [11:32:30<2:22:12,  7.34s/it]\u001b[A\n",
      " 99%|█████████▊| 79963/81124 [11:32:52<3:48:03, 11.79s/it]\u001b[A\n",
      " 99%|█████████▊| 79964/81124 [11:32:54<2:48:19,  8.71s/it]\u001b[A\n",
      " 99%|█████████▊| 79965/81124 [11:33:24<4:51:15, 15.08s/it]\u001b[A"
     ]
    },
    {
     "name": "stdout",
     "output_type": "stream",
     "text": [
      "Infected\n"
     ]
    },
    {
     "name": "stderr",
     "output_type": "stream",
     "text": [
      "\n",
      " 99%|█████████▊| 79966/81124 [11:33:34<4:22:53, 13.62s/it]\u001b[A\n",
      " 99%|█████████▊| 79970/81124 [11:33:37<3:07:05,  9.73s/it]\u001b[A\n",
      " 99%|█████████▊| 79971/81124 [11:34:10<5:25:41, 16.95s/it]\u001b[A\n",
      " 99%|█████████▊| 79972/81124 [11:34:11<3:49:27, 11.95s/it]\u001b[A\n",
      " 99%|█████████▊| 79973/81124 [11:34:12<2:45:46,  8.64s/it]\u001b[A\n",
      " 99%|█████████▊| 79974/81124 [11:34:12<1:58:25,  6.18s/it]\u001b[A\n",
      " 99%|█████████▊| 79975/81124 [11:34:43<4:22:58, 13.73s/it]\u001b[A\n",
      " 99%|█████████▊| 79976/81124 [11:35:40<8:27:27, 26.52s/it]\u001b[A\n",
      " 99%|█████████▊| 79977/81124 [11:35:40<5:56:45, 18.66s/it]\u001b[A\n",
      " 99%|█████████▊| 79978/81124 [11:35:42<4:22:20, 13.74s/it]\u001b[A\n",
      " 99%|█████████▊| 79979/81124 [11:35:53<4:06:02, 12.89s/it]\u001b[A\n",
      " 99%|█████████▊| 79980/81124 [11:36:01<3:37:09, 11.39s/it]\u001b[A\n",
      " 99%|█████████▊| 79981/81124 [11:36:03<2:39:31,  8.37s/it]\u001b[A"
     ]
    },
    {
     "name": "stdout",
     "output_type": "stream",
     "text": [
      "Infected\n",
      "Infected\n"
     ]
    },
    {
     "name": "stderr",
     "output_type": "stream",
     "text": [
      "\n",
      " 99%|█████████▊| 79982/81124 [11:36:18<3:18:28, 10.43s/it]\u001b[A\n",
      " 99%|█████████▊| 79983/81124 [11:36:19<2:27:56,  7.78s/it]\u001b[A\n",
      " 99%|█████████▊| 79985/81124 [11:36:20<1:43:55,  5.47s/it]\u001b[A\n",
      " 99%|█████████▊| 79986/81124 [11:36:38<2:59:47,  9.48s/it]\u001b[A\n",
      " 99%|█████████▊| 79988/81124 [11:36:46<2:28:14,  7.83s/it]\u001b[A"
     ]
    },
    {
     "name": "stdout",
     "output_type": "stream",
     "text": [
      "Infected\n"
     ]
    },
    {
     "name": "stderr",
     "output_type": "stream",
     "text": [
      "\n",
      " 99%|█████████▊| 79989/81124 [11:36:51<2:10:37,  6.91s/it]\u001b[A\n",
      " 99%|█████████▊| 79990/81124 [11:36:54<1:48:29,  5.74s/it]\u001b[A\n",
      " 99%|█████████▊| 79992/81124 [11:36:56<1:20:51,  4.29s/it]\u001b[A\n",
      " 99%|█████████▊| 79993/81124 [11:36:56<58:11,  3.09s/it]  \u001b[A\n",
      " 99%|█████████▊| 79995/81124 [11:37:13<1:27:27,  4.65s/it]\u001b[A\n",
      " 99%|█████████▊| 79996/81124 [11:37:14<1:07:04,  3.57s/it]\u001b[A\n",
      " 99%|█████████▊| 79997/81124 [11:37:15<51:13,  2.73s/it]  \u001b[A\n",
      " 99%|█████████▊| 79998/81124 [11:37:15<36:31,  1.95s/it]\u001b[A\n",
      " 99%|█████████▊| 79999/81124 [11:37:18<42:30,  2.27s/it]\u001b[A\n",
      " 99%|█████████▊| 80002/81124 [11:37:28<48:59,  2.62s/it]\u001b[A"
     ]
    },
    {
     "name": "stdout",
     "output_type": "stream",
     "text": [
      "Infected\n",
      "Infected\n"
     ]
    },
    {
     "name": "stderr",
     "output_type": "stream",
     "text": [
      "\n",
      " 99%|█████████▊| 80003/81124 [11:37:49<2:32:04,  8.14s/it]\u001b[A\n",
      " 99%|█████████▊| 80004/81124 [11:38:32<5:47:44, 18.63s/it]\u001b[A\n",
      " 99%|█████████▊| 80005/81124 [11:38:32<4:04:44, 13.12s/it]\u001b[A\n",
      " 99%|█████████▊| 80006/81124 [11:38:57<5:06:19, 16.44s/it]\u001b[A\n",
      " 99%|█████████▊| 80007/81124 [11:39:00<3:53:20, 12.53s/it]\u001b[A\n",
      " 99%|█████████▊| 80008/81124 [11:39:01<2:47:31,  9.01s/it]\u001b[A\n",
      " 99%|█████████▊| 80010/81124 [11:39:04<2:05:46,  6.77s/it]\u001b[A\n",
      " 99%|█████████▊| 80011/81124 [11:39:39<4:43:03, 15.26s/it]\u001b[A\n",
      " 99%|█████████▊| 80012/81124 [11:39:42<3:34:31, 11.58s/it]\u001b[A\n",
      " 99%|█████████▊| 80013/81124 [11:39:43<2:37:52,  8.53s/it]\u001b[A\n",
      " 99%|█████████▊| 80014/81124 [11:39:55<2:53:27,  9.38s/it]\u001b[A\n",
      " 99%|█████████▊| 80016/81124 [11:39:56<2:05:55,  6.82s/it]\u001b[A\n",
      " 99%|█████████▊| 80017/81124 [11:40:02<1:56:33,  6.32s/it]\u001b[A\n",
      " 99%|█████████▊| 80018/81124 [11:40:16<2:40:03,  8.68s/it]\u001b[A\n",
      " 99%|█████████▊| 80020/81124 [11:40:16<1:52:47,  6.13s/it]\u001b[A\n",
      " 99%|█████████▊| 80021/81124 [11:40:22<1:51:07,  6.04s/it]\u001b[A\n",
      " 99%|█████████▊| 80022/81124 [11:40:23<1:24:49,  4.62s/it]\u001b[A\n",
      " 99%|█████████▊| 80023/81124 [11:40:30<1:37:00,  5.29s/it]\u001b[A\n",
      " 99%|█████████▊| 80025/81124 [11:41:07<2:49:54,  9.28s/it]\u001b[A\n",
      " 99%|█████████▊| 80026/81124 [11:41:47<5:36:30, 18.39s/it]\u001b[A\n",
      " 99%|█████████▊| 80027/81124 [11:42:08<5:50:44, 19.18s/it]\u001b[A\n",
      " 99%|█████████▊| 80028/81124 [11:42:09<4:12:57, 13.85s/it]\u001b[A\n",
      " 99%|█████████▊| 80029/81124 [11:42:11<3:04:49, 10.13s/it]\u001b[A"
     ]
    },
    {
     "name": "stdout",
     "output_type": "stream",
     "text": [
      "Infected\n"
     ]
    },
    {
     "name": "stderr",
     "output_type": "stream",
     "text": [
      "\n",
      " 99%|█████████▊| 80031/81124 [11:42:21<2:38:06,  8.68s/it]\u001b[A\n",
      " 99%|█████████▊| 80032/81124 [11:42:22<1:55:52,  6.37s/it]\u001b[A\n",
      " 99%|█████████▊| 80033/81124 [11:42:24<1:30:32,  4.98s/it]\u001b[A\n",
      " 99%|█████████▊| 80034/81124 [11:42:28<1:26:43,  4.77s/it]\u001b[A\n",
      " 99%|█████████▊| 80035/81124 [11:42:32<1:18:33,  4.33s/it]\u001b[A\n",
      " 99%|█████████▊| 80036/81124 [11:42:35<1:14:27,  4.11s/it]\u001b[A\n",
      " 99%|█████████▊| 80037/81124 [11:42:49<2:07:05,  7.02s/it]\u001b[A\n",
      " 99%|█████████▊| 80038/81124 [11:42:49<1:30:46,  5.01s/it]\u001b[A\n",
      " 99%|█████████▊| 80039/81124 [11:42:53<1:24:05,  4.65s/it]\u001b[A\n",
      " 99%|█████████▊| 80040/81124 [11:42:54<1:01:13,  3.39s/it]\u001b[A\n",
      " 99%|█████████▊| 80042/81124 [11:43:09<1:24:09,  4.67s/it]\u001b[A\n",
      " 99%|█████████▊| 80043/81124 [11:43:15<1:29:17,  4.96s/it]\u001b[A\n",
      " 99%|█████████▊| 80044/81124 [11:43:15<1:03:28,  3.53s/it]\u001b[A"
     ]
    },
    {
     "name": "stdout",
     "output_type": "stream",
     "text": [
      "Infected\n"
     ]
    },
    {
     "name": "stderr",
     "output_type": "stream",
     "text": [
      "\n",
      " 99%|█████████▊| 80045/81124 [11:43:27<1:48:09,  6.01s/it]\u001b[A\n",
      " 99%|█████████▊| 80046/81124 [11:44:00<4:17:13, 14.32s/it]\u001b[A\n",
      " 99%|█████████▊| 80047/81124 [11:44:20<4:44:31, 15.85s/it]\u001b[A"
     ]
    },
    {
     "name": "stdout",
     "output_type": "stream",
     "text": [
      "Infected\n"
     ]
    },
    {
     "name": "stderr",
     "output_type": "stream",
     "text": [
      "\n",
      " 99%|█████████▊| 80048/81124 [11:44:23<3:38:31, 12.19s/it]\u001b[A\n",
      " 99%|█████████▊| 80049/81124 [11:44:24<2:34:06,  8.60s/it]\u001b[A\n",
      " 99%|█████████▊| 80050/81124 [11:44:33<2:38:08,  8.83s/it]\u001b[A\n",
      " 99%|█████████▊| 80051/81124 [11:44:40<2:26:28,  8.19s/it]\u001b[A\n",
      " 99%|█████████▊| 80052/81124 [11:45:25<5:47:47, 19.47s/it]\u001b[A\n",
      " 99%|█████████▊| 80053/81124 [11:45:27<4:09:15, 13.96s/it]\u001b[A\n",
      " 99%|█████████▊| 80054/81124 [11:45:29<3:05:23, 10.40s/it]\u001b[A\n",
      " 99%|█████████▊| 80055/81124 [11:45:29<2:10:54,  7.35s/it]\u001b[A\n",
      " 99%|█████████▊| 80056/81124 [11:45:30<1:36:01,  5.39s/it]\u001b[A\n",
      " 99%|█████████▊| 80061/81124 [11:45:31<1:08:00,  3.84s/it]\u001b[A\n",
      " 99%|█████████▊| 80062/81124 [11:45:35<1:08:40,  3.88s/it]\u001b[A"
     ]
    },
    {
     "name": "stdout",
     "output_type": "stream",
     "text": [
      "Infected\n"
     ]
    },
    {
     "name": "stderr",
     "output_type": "stream",
     "text": [
      "\n",
      " 99%|█████████▊| 80063/81124 [11:45:40<1:18:13,  4.42s/it]\u001b[A\n",
      " 99%|█████████▊| 80064/81124 [11:45:42<1:02:40,  3.55s/it]\u001b[A\n",
      " 99%|█████████▊| 80065/81124 [11:45:46<1:03:26,  3.59s/it]\u001b[A\n",
      " 99%|█████████▊| 80066/81124 [11:45:46<48:25,  2.75s/it]  \u001b[A\n",
      " 99%|█████████▊| 80068/81124 [11:45:49<39:52,  2.27s/it]\u001b[A\n",
      " 99%|█████████▊| 80069/81124 [11:45:49<29:39,  1.69s/it]\u001b[A\n",
      " 99%|█████████▊| 80070/81124 [11:45:52<37:55,  2.16s/it]\u001b[A\n",
      " 99%|█████████▊| 80071/81124 [11:45:57<49:14,  2.81s/it]\u001b[A\n",
      " 99%|█████████▊| 80072/81124 [11:46:00<50:31,  2.88s/it]\u001b[A\n",
      " 99%|█████████▊| 80073/81124 [11:46:06<1:07:51,  3.87s/it]\u001b[A\n",
      " 99%|█████████▊| 80074/81124 [11:46:07<52:30,  3.00s/it]  \u001b[A\n",
      " 99%|█████████▊| 80075/81124 [11:46:07<38:21,  2.19s/it]\u001b[A\n",
      " 99%|█████████▊| 80076/81124 [11:46:12<50:18,  2.88s/it]\u001b[A\n",
      " 99%|█████████▊| 80077/81124 [11:46:12<35:57,  2.06s/it]\u001b[A\n",
      " 99%|█████████▊| 80078/81124 [11:46:13<30:40,  1.76s/it]\u001b[A\n",
      " 99%|█████████▊| 80079/81124 [11:46:14<27:57,  1.61s/it]\u001b[A\n",
      " 99%|█████████▊| 80081/81124 [11:46:17<27:53,  1.60s/it]\u001b[A\n",
      " 99%|█████████▊| 80082/81124 [11:46:18<23:09,  1.33s/it]\u001b[A\n",
      " 99%|█████████▊| 80083/81124 [11:46:18<17:35,  1.01s/it]\u001b[A\n",
      " 99%|█████████▊| 80084/81124 [11:46:21<28:26,  1.64s/it]\u001b[A\n",
      " 99%|█████████▊| 80085/81124 [11:46:21<20:36,  1.19s/it]\u001b[A\n",
      " 99%|█████████▊| 80086/81124 [11:47:02<3:44:36, 12.98s/it]\u001b[A\n",
      " 99%|█████████▊| 80088/81124 [11:47:04<2:42:04,  9.39s/it]\u001b[A\n",
      " 99%|█████████▊| 80089/81124 [11:47:06<2:01:51,  7.06s/it]\u001b[A\n",
      " 99%|█████████▊| 80090/81124 [11:47:07<1:30:58,  5.28s/it]\u001b[A\n",
      " 99%|█████████▊| 80091/81124 [11:47:11<1:26:03,  5.00s/it]\u001b[A\n",
      " 99%|█████████▊| 80093/81124 [11:47:14<1:08:14,  3.97s/it]\u001b[A\n",
      " 99%|█████████▊| 80094/81124 [11:47:15<49:24,  2.88s/it]  \u001b[A\n",
      " 99%|█████████▊| 80095/81124 [11:47:27<1:40:11,  5.84s/it]\u001b[A\n",
      " 99%|█████████▊| 80096/81124 [11:47:28<1:14:28,  4.35s/it]\u001b[A\n",
      " 99%|█████████▊| 80097/81124 [11:48:13<4:40:34, 16.39s/it]\u001b[A\n",
      " 99%|█████████▊| 80098/81124 [11:48:16<3:32:41, 12.44s/it]\u001b[A\n",
      " 99%|█████████▊| 80100/81124 [11:48:17<2:30:54,  8.84s/it]\u001b[A\n",
      " 99%|█████████▊| 80101/81124 [11:48:29<2:45:35,  9.71s/it]\u001b[A\n",
      " 99%|█████████▊| 80102/81124 [11:48:39<2:48:56,  9.92s/it]\u001b[A\n",
      " 99%|█████████▊| 80104/81124 [11:49:27<3:59:58, 14.12s/it]\u001b[A\n",
      " 99%|█████████▊| 80105/81124 [11:49:29<2:59:43, 10.58s/it]\u001b[A\n",
      " 99%|█████████▊| 80106/81124 [11:49:36<2:40:28,  9.46s/it]\u001b[A\n",
      " 99%|█████████▊| 80107/81124 [11:49:58<3:45:09, 13.28s/it]\u001b[A\n",
      " 99%|█████████▊| 80108/81124 [11:50:34<5:41:10, 20.15s/it]\u001b[A"
     ]
    },
    {
     "name": "stdout",
     "output_type": "stream",
     "text": [
      "Infected\n"
     ]
    },
    {
     "name": "stderr",
     "output_type": "stream",
     "text": [
      "\n",
      " 99%|█████████▊| 80109/81124 [11:50:54<5:39:11, 20.05s/it]\u001b[A\n",
      " 99%|█████████▉| 80110/81124 [11:50:54<3:58:25, 14.11s/it]\u001b[A\n",
      " 99%|█████████▉| 80112/81124 [11:50:56<2:49:32, 10.05s/it]\u001b[A\n",
      " 99%|█████████▉| 80113/81124 [11:50:56<2:03:00,  7.30s/it]\u001b[A\n",
      " 99%|█████████▉| 80114/81124 [11:50:57<1:28:03,  5.23s/it]\u001b[A\n",
      " 99%|█████████▉| 80116/81124 [11:51:39<2:47:18,  9.96s/it]\u001b[A\n",
      " 99%|█████████▉| 80117/81124 [11:51:40<2:00:52,  7.20s/it]\u001b[A\n",
      " 99%|█████████▉| 80118/81124 [11:51:40<1:28:14,  5.26s/it]\u001b[A\n",
      " 99%|█████████▉| 80119/81124 [11:51:41<1:06:47,  3.99s/it]\u001b[A\n",
      " 99%|█████████▉| 80120/81124 [11:52:22<4:12:25, 15.09s/it]\u001b[A\n",
      " 99%|█████████▉| 80121/81124 [11:52:32<3:44:31, 13.43s/it]\u001b[A\n",
      " 99%|█████████▉| 80122/81124 [11:52:45<3:40:31, 13.20s/it]\u001b[A\n",
      " 99%|█████████▉| 80124/81124 [11:53:28<4:21:34, 15.69s/it]\u001b[A\n",
      " 99%|█████████▉| 80125/81124 [11:54:15<6:57:44, 25.09s/it]\u001b[A\n",
      " 99%|█████████▉| 80126/81124 [11:54:19<5:15:03, 18.94s/it]\u001b[A\n",
      " 99%|█████████▉| 80127/81124 [11:54:22<3:55:47, 14.19s/it]\u001b[A\n",
      " 99%|█████████▉| 80128/81124 [11:54:32<3:34:53, 12.95s/it]\u001b[A\n",
      " 99%|█████████▉| 80129/81124 [11:54:39<3:01:59, 10.97s/it]\u001b[A\n",
      " 99%|█████████▉| 80130/81124 [11:54:49<2:57:38, 10.72s/it]\u001b[A\n",
      " 99%|█████████▉| 80131/81124 [11:54:50<2:09:19,  7.81s/it]\u001b[A\n",
      " 99%|█████████▉| 80132/81124 [11:55:02<2:29:35,  9.05s/it]\u001b[A\n",
      " 99%|█████████▉| 80134/81124 [11:55:03<1:47:39,  6.53s/it]\u001b[A\n",
      " 99%|█████████▉| 80135/81124 [11:55:04<1:19:27,  4.82s/it]\u001b[A\n",
      " 99%|█████████▉| 80137/81124 [11:55:05<59:19,  3.61s/it]  \u001b[A\n",
      " 99%|█████████▉| 80139/81124 [11:55:32<1:45:47,  6.44s/it]\u001b[A\n",
      " 99%|█████████▉| 80140/81124 [11:55:33<1:19:36,  4.85s/it]\u001b[A\n",
      " 99%|█████████▉| 80141/81124 [11:55:34<1:03:37,  3.88s/it]\u001b[A\n",
      " 99%|█████████▉| 80142/81124 [11:55:35<49:08,  3.00s/it]  \u001b[A\n",
      " 99%|█████████▉| 80143/81124 [11:55:38<46:51,  2.87s/it]\u001b[A\n",
      " 99%|█████████▉| 80145/81124 [11:55:39<34:39,  2.12s/it]\u001b[A\n",
      " 99%|█████████▉| 80147/81124 [11:55:42<31:23,  1.93s/it]\u001b[A\n",
      " 99%|█████████▉| 80148/81124 [11:55:45<38:34,  2.37s/it]\u001b[A\n",
      " 99%|█████████▉| 80149/81124 [11:56:12<2:39:59,  9.85s/it]\u001b[A\n",
      " 99%|█████████▉| 80150/81124 [11:56:13<1:56:58,  7.21s/it]\u001b[A\n",
      " 99%|█████████▉| 80151/81124 [11:56:18<1:44:47,  6.46s/it]\u001b[A\n",
      " 99%|█████████▉| 80153/81124 [11:56:19<1:15:58,  4.69s/it]\u001b[A\n",
      " 99%|█████████▉| 80154/81124 [11:56:45<3:00:32, 11.17s/it]\u001b[A\n",
      " 99%|█████████▉| 80155/81124 [11:56:46<2:10:08,  8.06s/it]\u001b[A"
     ]
    },
    {
     "name": "stdout",
     "output_type": "stream",
     "text": [
      "Infected\n",
      "Infected\n"
     ]
    },
    {
     "name": "stderr",
     "output_type": "stream",
     "text": [
      "\n",
      " 99%|█████████▉| 80156/81124 [11:57:22<4:24:21, 16.39s/it]\u001b[A\n",
      " 99%|█████████▉| 80157/81124 [11:57:25<3:19:36, 12.38s/it]\u001b[A\n",
      " 99%|█████████▉| 80158/81124 [11:57:27<2:28:47,  9.24s/it]\u001b[A"
     ]
    },
    {
     "name": "stdout",
     "output_type": "stream",
     "text": [
      "Infected\n"
     ]
    },
    {
     "name": "stderr",
     "output_type": "stream",
     "text": [
      "\n",
      " 99%|█████████▉| 80159/81124 [11:57:39<2:40:14,  9.96s/it]\u001b[A\n",
      " 99%|█████████▉| 80160/81124 [11:57:45<2:21:58,  8.84s/it]\u001b[A\n",
      " 99%|█████████▉| 80161/81124 [11:57:46<1:44:29,  6.51s/it]\u001b[A\n",
      " 99%|█████████▉| 80162/81124 [11:57:49<1:28:03,  5.49s/it]\u001b[A\n",
      " 99%|█████████▉| 80164/81124 [11:57:52<1:07:34,  4.22s/it]\u001b[A\n",
      " 99%|█████████▉| 80165/81124 [11:57:52<49:14,  3.08s/it]  \u001b[A\n",
      " 99%|█████████▉| 80166/81124 [11:58:21<2:53:52, 10.89s/it]\u001b[A\n",
      " 99%|█████████▉| 80167/81124 [11:58:46<4:00:08, 15.06s/it]\u001b[A\n",
      " 99%|█████████▉| 80168/81124 [11:58:51<3:11:36, 12.03s/it]\u001b[A\n",
      " 99%|█████████▉| 80169/81124 [11:58:51<2:14:55,  8.48s/it]\u001b[A\n",
      " 99%|█████████▉| 80170/81124 [11:58:52<1:37:59,  6.16s/it]\u001b[A\n",
      " 99%|█████████▉| 80171/81124 [11:58:52<1:09:02,  4.35s/it]\u001b[A"
     ]
    },
    {
     "name": "stdout",
     "output_type": "stream",
     "text": [
      "Infected\n"
     ]
    },
    {
     "name": "stderr",
     "output_type": "stream",
     "text": [
      "\n",
      " 99%|█████████▉| 80172/81124 [11:58:54<57:03,  3.60s/it]  \u001b[A\n",
      " 99%|█████████▉| 80174/81124 [11:58:55<43:52,  2.77s/it]\u001b[A\n",
      " 99%|█████████▉| 80175/81124 [11:59:43<4:14:34, 16.09s/it]\u001b[A\n",
      " 99%|█████████▉| 80176/81124 [11:59:51<3:36:37, 13.71s/it]\u001b[A\n",
      " 99%|█████████▉| 80177/81124 [12:00:36<6:04:53, 23.12s/it]\u001b[A\n",
      " 99%|█████████▉| 80178/81124 [12:00:37<4:21:56, 16.61s/it]\u001b[A\n",
      " 99%|█████████▉| 80181/81124 [12:00:47<3:17:46, 12.58s/it]\u001b[A\n",
      " 99%|█████████▉| 80182/81124 [12:01:36<6:08:15, 23.46s/it]\u001b[A\n",
      " 99%|█████████▉| 80183/81124 [12:02:04<6:28:32, 24.77s/it]\u001b[A\n",
      " 99%|█████████▉| 80184/81124 [12:02:04<4:35:22, 17.58s/it]\u001b[A"
     ]
    },
    {
     "name": "stdout",
     "output_type": "stream",
     "text": [
      "Infected\n"
     ]
    },
    {
     "name": "stderr",
     "output_type": "stream",
     "text": [
      "\n",
      " 99%|█████████▉| 80185/81124 [12:02:06<3:21:12, 12.86s/it]\u001b[A\n",
      " 99%|█████████▉| 80186/81124 [12:02:15<3:03:12, 11.72s/it]\u001b[A\n",
      " 99%|█████████▉| 80187/81124 [12:02:48<4:43:21, 18.14s/it]\u001b[A\n",
      " 99%|█████████▉| 80188/81124 [12:02:55<3:48:58, 14.68s/it]\u001b[A\n",
      " 99%|█████████▉| 80189/81124 [12:03:09<3:44:50, 14.43s/it]\u001b[A\n",
      " 99%|█████████▉| 80190/81124 [12:03:26<3:59:53, 15.41s/it]\u001b[A\n",
      " 99%|█████████▉| 80191/81124 [12:03:27<2:49:31, 10.90s/it]\u001b[A\n",
      " 99%|█████████▉| 80192/81124 [12:03:28<2:03:36,  7.96s/it]\u001b[A\n",
      " 99%|█████████▉| 80193/81124 [12:03:32<1:46:34,  6.87s/it]\u001b[A\n",
      " 99%|█████████▉| 80194/81124 [12:03:44<2:07:46,  8.24s/it]\u001b[A\n",
      " 99%|█████████▉| 80195/81124 [12:03:44<1:30:24,  5.84s/it]\u001b[A\n",
      " 99%|█████████▉| 80197/81124 [12:03:46<1:08:19,  4.42s/it]\u001b[A\n",
      " 99%|█████████▉| 80198/81124 [12:03:56<1:32:27,  5.99s/it]\u001b[A\n",
      " 99%|█████████▉| 80199/81124 [12:03:58<1:12:57,  4.73s/it]\u001b[A\n",
      " 99%|█████████▉| 80200/81124 [12:04:02<1:09:22,  4.50s/it]\u001b[A\n",
      " 99%|█████████▉| 80201/81124 [12:04:02<50:43,  3.30s/it]  \u001b[A\n",
      " 99%|█████████▉| 80202/81124 [12:04:12<1:20:58,  5.27s/it]\u001b[A\n",
      " 99%|█████████▉| 80203/81124 [12:04:12<57:41,  3.76s/it]  \u001b[A\n",
      " 99%|█████████▉| 80204/81124 [12:04:13<45:26,  2.96s/it]\u001b[A\n",
      " 99%|█████████▉| 80206/81124 [12:04:15<36:16,  2.37s/it]\u001b[A\n",
      " 99%|█████████▉| 80209/81124 [12:04:33<52:34,  3.45s/it]\u001b[A\n",
      " 99%|█████████▉| 80210/81124 [12:04:34<42:33,  2.79s/it]\u001b[A\n",
      " 99%|█████████▉| 80211/81124 [12:04:35<34:18,  2.25s/it]\u001b[A"
     ]
    },
    {
     "name": "stdout",
     "output_type": "stream",
     "text": [
      "Infected\n",
      "Infected\n",
      "Infected\n"
     ]
    },
    {
     "name": "stderr",
     "output_type": "stream",
     "text": [
      "\n",
      " 99%|█████████▉| 80213/81124 [12:04:48<52:18,  3.44s/it]\u001b[A\n",
      " 99%|█████████▉| 80214/81124 [12:04:48<37:30,  2.47s/it]\u001b[A"
     ]
    },
    {
     "name": "stdout",
     "output_type": "stream",
     "text": [
      "Infected\n"
     ]
    },
    {
     "name": "stderr",
     "output_type": "stream",
     "text": [
      "\n",
      " 99%|█████████▉| 80215/81124 [12:05:08<1:58:04,  7.79s/it]\u001b[A\n",
      " 99%|█████████▉| 80216/81124 [12:05:08<1:23:10,  5.50s/it]\u001b[A\n",
      " 99%|█████████▉| 80217/81124 [12:05:10<1:04:17,  4.25s/it]\u001b[A\n",
      " 99%|█████████▉| 80218/81124 [12:05:11<49:07,  3.25s/it]  \u001b[A\n",
      " 99%|█████████▉| 80220/81124 [12:05:18<51:24,  3.41s/it]\u001b[A\n",
      " 99%|█████████▉| 80221/81124 [12:05:21<46:17,  3.08s/it]\u001b[A\n",
      " 99%|█████████▉| 80222/81124 [12:05:21<33:53,  2.25s/it]\u001b[A\n",
      " 99%|█████████▉| 80223/81124 [12:05:22<27:50,  1.85s/it]\u001b[A\n",
      " 99%|█████████▉| 80224/81124 [12:05:23<24:16,  1.62s/it]\u001b[A\n",
      " 99%|█████████▉| 80225/81124 [12:05:23<18:34,  1.24s/it]\u001b[A\n",
      " 99%|█████████▉| 80227/81124 [12:05:28<23:26,  1.57s/it]\u001b[A\n",
      " 99%|█████████▉| 80228/81124 [12:05:36<50:44,  3.40s/it]\u001b[A"
     ]
    },
    {
     "name": "stdout",
     "output_type": "stream",
     "text": [
      "Infected\n"
     ]
    },
    {
     "name": "stderr",
     "output_type": "stream",
     "text": [
      "\n",
      " 99%|█████████▉| 80229/81124 [12:05:47<1:26:05,  5.77s/it]\u001b[A\n",
      " 99%|█████████▉| 80230/81124 [12:05:48<1:04:24,  4.32s/it]\u001b[A\n",
      " 99%|█████████▉| 80231/81124 [12:05:49<51:41,  3.47s/it]  \u001b[A\n",
      " 99%|█████████▉| 80232/81124 [12:05:57<1:10:50,  4.77s/it]\u001b[A\n",
      " 99%|█████████▉| 80233/81124 [12:05:59<56:11,  3.78s/it]  \u001b[A\n",
      " 99%|█████████▉| 80234/81124 [12:06:00<43:41,  2.95s/it]\u001b[A\n",
      " 99%|█████████▉| 80235/81124 [12:06:05<53:10,  3.59s/it]\u001b[A\n",
      " 99%|█████████▉| 80237/81124 [12:06:07<42:41,  2.89s/it]\u001b[A\n",
      " 99%|█████████▉| 80239/81124 [12:06:22<1:02:38,  4.25s/it]\u001b[A\n",
      " 99%|█████████▉| 80241/81124 [12:06:51<1:46:56,  7.27s/it]\u001b[A\n",
      " 99%|█████████▉| 80242/81124 [12:06:52<1:22:47,  5.63s/it]\u001b[A\n",
      " 99%|█████████▉| 80243/81124 [12:06:58<1:21:30,  5.55s/it]\u001b[A\n",
      " 99%|█████████▉| 80244/81124 [12:06:59<1:02:56,  4.29s/it]\u001b[A\n",
      " 99%|█████████▉| 80246/81124 [12:07:46<2:26:06,  9.98s/it]\u001b[A\n",
      " 99%|█████████▉| 80247/81124 [12:07:51<2:07:34,  8.73s/it]\u001b[A"
     ]
    },
    {
     "name": "stdout",
     "output_type": "stream",
     "text": [
      "Infected\n"
     ]
    },
    {
     "name": "stderr",
     "output_type": "stream",
     "text": [
      "\n",
      " 99%|█████████▉| 80249/81124 [12:07:53<1:33:04,  6.38s/it]\u001b[A\n",
      " 99%|█████████▉| 80250/81124 [12:07:54<1:08:25,  4.70s/it]\u001b[A\n",
      " 99%|█████████▉| 80251/81124 [12:07:55<53:53,  3.70s/it]  \u001b[A\n",
      " 99%|█████████▉| 80252/81124 [12:08:01<1:02:52,  4.33s/it]\u001b[A\n",
      " 99%|█████████▉| 80253/81124 [12:08:26<2:31:31, 10.44s/it]\u001b[A\n",
      " 99%|█████████▉| 80254/81124 [12:08:28<1:56:15,  8.02s/it]\u001b[A"
     ]
    },
    {
     "name": "stdout",
     "output_type": "stream",
     "text": [
      "Infected\n",
      "Infected\n",
      "Infected\n"
     ]
    },
    {
     "name": "stderr",
     "output_type": "stream",
     "text": [
      "\n",
      " 99%|█████████▉| 80255/81124 [12:08:39<2:07:29,  8.80s/it]\u001b[A\n",
      " 99%|█████████▉| 80256/81124 [12:08:45<1:55:06,  7.96s/it]\u001b[A\n",
      " 99%|█████████▉| 80257/81124 [12:08:53<1:56:37,  8.07s/it]\u001b[A\n",
      " 99%|█████████▉| 80258/81124 [12:09:01<1:54:43,  7.95s/it]\u001b[A\n",
      " 99%|█████████▉| 80259/81124 [12:09:03<1:29:24,  6.20s/it]\u001b[A\n",
      " 99%|█████████▉| 80260/81124 [12:09:04<1:07:10,  4.66s/it]\u001b[A\n",
      " 99%|█████████▉| 80261/81124 [12:09:05<50:10,  3.49s/it]  \u001b[A\n",
      " 99%|█████████▉| 80262/81124 [12:09:12<1:05:14,  4.54s/it]\u001b[A\n",
      " 99%|█████████▉| 80263/81124 [12:09:56<3:54:14, 16.32s/it]\u001b[A\n",
      " 99%|█████████▉| 80264/81124 [12:09:58<2:53:17, 12.09s/it]\u001b[A\n",
      " 99%|█████████▉| 80265/81124 [12:10:01<2:13:58,  9.36s/it]\u001b[A\n",
      " 99%|█████████▉| 80266/81124 [12:10:01<1:35:27,  6.68s/it]\u001b[A\n",
      " 99%|█████████▉| 80268/81124 [12:10:02<1:08:35,  4.81s/it]\u001b[A\n",
      " 99%|█████████▉| 80269/81124 [12:10:03<53:25,  3.75s/it]  \u001b[A\n",
      " 99%|█████████▉| 80271/81124 [12:10:04<37:52,  2.66s/it]\u001b[A\n",
      " 99%|█████████▉| 80272/81124 [12:10:07<40:47,  2.87s/it]\u001b[A\n",
      " 99%|█████████▉| 80273/81124 [12:10:17<1:11:21,  5.03s/it]\u001b[A\n",
      " 99%|█████████▉| 80274/81124 [12:10:26<1:29:18,  6.30s/it]\u001b[A\n",
      " 99%|█████████▉| 80275/81124 [12:10:27<1:03:45,  4.51s/it]\u001b[A\n",
      " 99%|█████████▉| 80276/81124 [12:10:36<1:24:18,  5.97s/it]\u001b[A\n",
      " 99%|█████████▉| 80277/81124 [12:10:36<1:00:10,  4.26s/it]\u001b[A\n",
      " 99%|█████████▉| 80278/81124 [12:11:28<4:20:00, 18.44s/it]\u001b[A\n",
      " 99%|█████████▉| 80279/81124 [12:11:49<4:32:23, 19.34s/it]\u001b[A\n",
      " 99%|█████████▉| 80280/81124 [12:11:53<3:25:49, 14.63s/it]\u001b[A\n",
      " 99%|█████████▉| 80281/81124 [12:11:53<2:25:08, 10.33s/it]\u001b[A\n",
      " 99%|█████████▉| 80282/81124 [12:12:17<3:21:06, 14.33s/it]\u001b[A"
     ]
    },
    {
     "name": "stdout",
     "output_type": "stream",
     "text": [
      "Infected\n"
     ]
    },
    {
     "name": "stderr",
     "output_type": "stream",
     "text": [
      "\n",
      " 99%|█████████▉| 80283/81124 [12:12:50<4:40:36, 20.02s/it]\u001b[A"
     ]
    },
    {
     "name": "stdout",
     "output_type": "stream",
     "text": [
      "Infected\n"
     ]
    },
    {
     "name": "stderr",
     "output_type": "stream",
     "text": [
      "\n",
      " 99%|█████████▉| 80284/81124 [12:12:55<3:36:44, 15.48s/it]\u001b[A\n",
      " 99%|█████████▉| 80285/81124 [12:12:58<2:43:40, 11.71s/it]\u001b[A\n",
      " 99%|█████████▉| 80286/81124 [12:12:58<1:55:21,  8.26s/it]\u001b[A\n",
      " 99%|█████████▉| 80287/81124 [12:13:07<1:55:40,  8.29s/it]\u001b[A\n",
      " 99%|█████████▉| 80288/81124 [12:13:16<1:58:05,  8.48s/it]\u001b[A\n",
      " 99%|█████████▉| 80289/81124 [12:13:22<1:49:12,  7.85s/it]\u001b[A\n",
      " 99%|█████████▉| 80290/81124 [12:13:28<1:43:32,  7.45s/it]\u001b[A\n",
      " 99%|█████████▉| 80291/81124 [12:13:29<1:12:57,  5.25s/it]\u001b[A\n",
      " 99%|█████████▉| 80293/81124 [12:13:30<53:59,  3.90s/it]  \u001b[A\n",
      " 99%|█████████▉| 80295/81124 [12:13:31<39:35,  2.87s/it]\u001b[A\n",
      " 99%|█████████▉| 80296/81124 [12:14:08<3:01:22, 13.14s/it]\u001b[A\n",
      " 99%|█████████▉| 80297/81124 [12:14:18<2:46:50, 12.10s/it]\u001b[A\n",
      " 99%|█████████▉| 80298/81124 [12:14:19<2:02:34,  8.90s/it]\u001b[A\n",
      " 99%|█████████▉| 80299/81124 [12:14:34<2:27:15, 10.71s/it]\u001b[A\n",
      " 99%|█████████▉| 80300/81124 [12:14:36<1:51:45,  8.14s/it]\u001b[A\n",
      " 99%|█████████▉| 80301/81124 [12:14:38<1:23:59,  6.12s/it]\u001b[A\n",
      " 99%|█████████▉| 80302/81124 [12:14:38<59:50,  4.37s/it]  \u001b[A\n",
      " 99%|█████████▉| 80303/81124 [12:14:44<1:04:37,  4.72s/it]\u001b[A\n",
      " 99%|█████████▉| 80304/81124 [12:14:47<57:45,  4.23s/it]  \u001b[A\n",
      " 99%|█████████▉| 80305/81124 [12:15:26<3:22:29, 14.83s/it]\u001b[A\n",
      " 99%|█████████▉| 80306/81124 [12:15:32<2:46:15, 12.19s/it]\u001b[A\n",
      " 99%|█████████▉| 80307/81124 [12:15:34<2:02:55,  9.03s/it]\u001b[A\n",
      " 99%|█████████▉| 80308/81124 [12:15:35<1:31:24,  6.72s/it]\u001b[A\n",
      " 99%|█████████▉| 80309/81124 [12:16:00<2:46:34, 12.26s/it]\u001b[A\n",
      " 99%|█████████▉| 80310/81124 [12:16:02<2:03:34,  9.11s/it]\u001b[A\n",
      " 99%|█████████▉| 80311/81124 [12:16:05<1:37:42,  7.21s/it]\u001b[A\n",
      " 99%|█████████▉| 80312/81124 [12:16:07<1:15:36,  5.59s/it]\u001b[A\n",
      " 99%|█████████▉| 80313/81124 [12:16:07<54:18,  4.02s/it]  \u001b[A\n",
      " 99%|█████████▉| 80314/81124 [12:16:09<46:43,  3.46s/it]\u001b[A\n",
      " 99%|█████████▉| 80315/81124 [12:16:11<38:08,  2.83s/it]\u001b[A\n",
      " 99%|█████████▉| 80316/81124 [12:16:12<31:20,  2.33s/it]\u001b[A\n",
      " 99%|█████████▉| 80317/81124 [12:16:18<46:06,  3.43s/it]\u001b[A\n",
      " 99%|█████████▉| 80318/81124 [12:16:18<33:56,  2.53s/it]\u001b[A\n",
      " 99%|█████████▉| 80319/81124 [12:16:19<28:22,  2.11s/it]\u001b[A\n",
      " 99%|█████████▉| 80320/81124 [12:16:22<30:42,  2.29s/it]\u001b[A\n",
      " 99%|█████████▉| 80321/81124 [12:16:42<1:41:53,  7.61s/it]\u001b[A\n",
      " 99%|█████████▉| 80322/81124 [12:16:45<1:24:00,  6.28s/it]\u001b[A\n",
      " 99%|█████████▉| 80323/81124 [12:16:46<1:00:09,  4.51s/it]\u001b[A"
     ]
    },
    {
     "name": "stdout",
     "output_type": "stream",
     "text": [
      "Infected\n"
     ]
    },
    {
     "name": "stderr",
     "output_type": "stream",
     "text": [
      "\n",
      " 99%|█████████▉| 80324/81124 [12:17:15<2:38:48, 11.91s/it]\u001b[A\n",
      " 99%|█████████▉| 80325/81124 [12:17:16<1:54:59,  8.64s/it]\u001b[A\n",
      " 99%|█████████▉| 80326/81124 [12:18:01<4:21:38, 19.67s/it]\u001b[A\n",
      " 99%|█████████▉| 80327/81124 [12:18:01<3:03:51, 13.84s/it]\u001b[A\n",
      " 99%|█████████▉| 80328/81124 [12:18:06<2:27:05, 11.09s/it]\u001b[A\n",
      " 99%|█████████▉| 80329/81124 [12:18:07<1:47:20,  8.10s/it]\u001b[A\n",
      " 99%|█████████▉| 80330/81124 [12:18:17<1:55:06,  8.70s/it]\u001b[A\n",
      " 99%|█████████▉| 80331/81124 [12:18:28<2:03:24,  9.34s/it]\u001b[A\n",
      " 99%|█████████▉| 80332/81124 [12:18:38<2:04:34,  9.44s/it]\u001b[A\n",
      " 99%|█████████▉| 80333/81124 [12:18:39<1:29:57,  6.82s/it]\u001b[A"
     ]
    },
    {
     "name": "stdout",
     "output_type": "stream",
     "text": [
      "Infected\n"
     ]
    },
    {
     "name": "stderr",
     "output_type": "stream",
     "text": [
      "\n",
      " 99%|█████████▉| 80334/81124 [12:18:49<1:43:31,  7.86s/it]\u001b[A\n",
      " 99%|█████████▉| 80335/81124 [12:18:51<1:20:48,  6.14s/it]\u001b[A\n",
      " 99%|█████████▉| 80338/81124 [12:18:52<58:21,  4.45s/it]  \u001b[A\n",
      " 99%|█████████▉| 80339/81124 [12:19:16<2:14:19, 10.27s/it]\u001b[A\n",
      " 99%|█████████▉| 80340/81124 [12:19:42<3:14:02, 14.85s/it]\u001b[A\n",
      " 99%|█████████▉| 80341/81124 [12:19:43<2:21:52, 10.87s/it]\u001b[A\n",
      " 99%|█████████▉| 80342/81124 [12:19:53<2:15:03, 10.36s/it]\u001b[A\n",
      " 99%|█████████▉| 80343/81124 [12:19:53<1:35:09,  7.31s/it]\u001b[A\n",
      " 99%|█████████▉| 80344/81124 [12:19:55<1:14:59,  5.77s/it]\u001b[A\n",
      " 99%|█████████▉| 80345/81124 [12:20:04<1:27:23,  6.73s/it]\u001b[A\n",
      " 99%|█████████▉| 80346/81124 [12:20:17<1:51:28,  8.60s/it]\u001b[A\n",
      " 99%|█████████▉| 80347/81124 [12:20:23<1:40:43,  7.78s/it]\u001b[A\n",
      " 99%|█████████▉| 80348/81124 [12:20:25<1:18:39,  6.08s/it]\u001b[A\n",
      " 99%|█████████▉| 80350/81124 [12:20:25<55:12,  4.28s/it]  \u001b[A\n",
      " 99%|█████████▉| 80351/81124 [12:20:27<44:33,  3.46s/it]\u001b[A"
     ]
    },
    {
     "name": "stdout",
     "output_type": "stream",
     "text": [
      "Infected\n",
      "Infected\n"
     ]
    },
    {
     "name": "stderr",
     "output_type": "stream",
     "text": [
      "\n",
      " 99%|█████████▉| 80352/81124 [12:20:35<1:04:50,  5.04s/it]\u001b[A\n",
      " 99%|█████████▉| 80353/81124 [12:20:41<1:05:37,  5.11s/it]\u001b[A\n",
      " 99%|█████████▉| 80354/81124 [12:21:11<2:42:23, 12.65s/it]\u001b[A\n",
      " 99%|█████████▉| 80356/81124 [12:21:12<1:55:18,  9.01s/it]\u001b[A\n",
      " 99%|█████████▉| 80358/81124 [12:21:16<1:29:00,  6.97s/it]\u001b[A\n",
      " 99%|█████████▉| 80359/81124 [12:21:16<1:02:48,  4.93s/it]\u001b[A\n",
      " 99%|█████████▉| 80361/81124 [12:21:17<45:42,  3.59s/it]  \u001b[A\n",
      " 99%|█████████▉| 80362/81124 [12:21:18<35:03,  2.76s/it]\u001b[A\n",
      " 99%|█████████▉| 80363/81124 [12:21:19<28:34,  2.25s/it]\u001b[A\n",
      " 99%|█████████▉| 80364/81124 [12:21:36<1:24:30,  6.67s/it]\u001b[A\n",
      " 99%|█████████▉| 80365/81124 [12:21:58<2:20:25, 11.10s/it]\u001b[A\n",
      " 99%|█████████▉| 80366/81124 [12:22:01<1:49:54,  8.70s/it]\u001b[A\n",
      " 99%|█████████▉| 80367/81124 [12:22:37<3:33:01, 16.88s/it]\u001b[A"
     ]
    },
    {
     "name": "stdout",
     "output_type": "stream",
     "text": [
      "Infected\n"
     ]
    },
    {
     "name": "stderr",
     "output_type": "stream",
     "text": [
      "\n",
      " 99%|█████████▉| 80368/81124 [12:22:41<2:45:31, 13.14s/it]\u001b[A\n",
      " 99%|█████████▉| 80369/81124 [12:22:44<2:06:46, 10.07s/it]\u001b[A\n",
      " 99%|█████████▉| 80371/81124 [12:22:47<1:33:36,  7.46s/it]\u001b[A\n",
      " 99%|█████████▉| 80372/81124 [12:22:56<1:39:44,  7.96s/it]\u001b[A\n",
      " 99%|█████████▉| 80373/81124 [12:23:20<2:39:57, 12.78s/it]\u001b[A\n",
      " 99%|█████████▉| 80374/81124 [12:23:51<3:47:52, 18.23s/it]\u001b[A\n",
      " 99%|█████████▉| 80375/81124 [12:24:28<4:58:15, 23.89s/it]\u001b[A\n",
      " 99%|█████████▉| 80377/81124 [12:24:28<3:28:46, 16.77s/it]\u001b[A\n",
      " 99%|█████████▉| 80378/81124 [12:24:29<2:29:00, 11.98s/it]\u001b[A\n",
      " 99%|█████████▉| 80379/81124 [12:24:40<2:22:45, 11.50s/it]\u001b[A"
     ]
    },
    {
     "name": "stdout",
     "output_type": "stream",
     "text": [
      "Infected\n",
      "Infected\n",
      "Infected\n"
     ]
    },
    {
     "name": "stderr",
     "output_type": "stream",
     "text": [
      "\n",
      " 99%|█████████▉| 80380/81124 [12:24:52<2:24:37, 11.66s/it]\u001b[A\n",
      " 99%|█████████▉| 80381/81124 [12:24:54<1:49:00,  8.80s/it]\u001b[A\n",
      " 99%|█████████▉| 80383/81124 [12:24:56<1:20:56,  6.55s/it]\u001b[A\n",
      " 99%|█████████▉| 80384/81124 [12:24:57<59:57,  4.86s/it]  \u001b[A\n",
      " 99%|█████████▉| 80385/81124 [12:25:03<1:04:07,  5.21s/it]\u001b[A\n",
      " 99%|█████████▉| 80386/81124 [12:26:00<4:14:56, 20.73s/it]\u001b[A"
     ]
    },
    {
     "name": "stdout",
     "output_type": "stream",
     "text": [
      "Infected\n"
     ]
    },
    {
     "name": "stderr",
     "output_type": "stream",
     "text": [
      "\n",
      " 99%|█████████▉| 80387/81124 [12:26:05<3:17:03, 16.04s/it]\u001b[A"
     ]
    },
    {
     "name": "stdout",
     "output_type": "stream",
     "text": [
      "Infected\n"
     ]
    },
    {
     "name": "stderr",
     "output_type": "stream",
     "text": [
      "\n",
      " 99%|█████████▉| 80388/81124 [12:26:06<2:21:44, 11.56s/it]\u001b[A\n",
      " 99%|█████████▉| 80389/81124 [12:26:09<1:50:33,  9.02s/it]\u001b[A"
     ]
    },
    {
     "name": "stdout",
     "output_type": "stream",
     "text": [
      "Infected\n"
     ]
    },
    {
     "name": "stderr",
     "output_type": "stream",
     "text": [
      "\n",
      " 99%|█████████▉| 80390/81124 [12:26:21<2:00:19,  9.84s/it]\u001b[A\n",
      " 99%|█████████▉| 80391/81124 [12:26:22<1:25:32,  7.00s/it]\u001b[A\n",
      " 99%|█████████▉| 80392/81124 [12:26:22<1:02:59,  5.16s/it]\u001b[A\n",
      " 99%|█████████▉| 80393/81124 [12:26:32<1:17:25,  6.35s/it]\u001b[A"
     ]
    },
    {
     "name": "stdout",
     "output_type": "stream",
     "text": [
      "Infected\n"
     ]
    },
    {
     "name": "stderr",
     "output_type": "stream",
     "text": [
      "\n",
      " 99%|█████████▉| 80394/81124 [12:27:09<3:12:14, 15.80s/it]\u001b[A\n",
      " 99%|█████████▉| 80395/81124 [12:27:12<2:22:31, 11.73s/it]\u001b[A\n",
      " 99%|█████████▉| 80397/81124 [12:27:12<1:40:52,  8.33s/it]\u001b[A\n",
      " 99%|█████████▉| 80398/81124 [12:27:16<1:24:14,  6.96s/it]\u001b[A\n",
      " 99%|█████████▉| 80399/81124 [12:28:13<4:23:21, 21.80s/it]\u001b[A\n",
      " 99%|█████████▉| 80400/81124 [12:28:15<3:11:09, 15.84s/it]\u001b[A"
     ]
    },
    {
     "name": "stdout",
     "output_type": "stream",
     "text": [
      "Infected\n"
     ]
    },
    {
     "name": "stderr",
     "output_type": "stream",
     "text": [
      "\n",
      " 99%|█████████▉| 80401/81124 [12:28:42<3:54:15, 19.44s/it]\u001b[A\n",
      " 99%|█████████▉| 80402/81124 [12:28:53<3:20:20, 16.65s/it]\u001b[A\n",
      " 99%|█████████▉| 80403/81124 [12:28:59<2:44:14, 13.67s/it]\u001b[A\n",
      " 99%|█████████▉| 80404/81124 [12:29:01<2:01:03, 10.09s/it]\u001b[A\n",
      " 99%|█████████▉| 80405/81124 [12:29:03<1:30:21,  7.54s/it]\u001b[A\n",
      " 99%|█████████▉| 80407/81124 [12:29:57<2:40:22, 13.42s/it]\u001b[A\n",
      " 99%|█████████▉| 80409/81124 [12:30:39<3:06:41, 15.67s/it]\u001b[A\n",
      " 99%|█████████▉| 80411/81124 [12:30:54<2:38:22, 13.33s/it]\u001b[A\n",
      " 99%|█████████▉| 80413/81124 [12:30:55<1:51:05,  9.38s/it]\u001b[A"
     ]
    },
    {
     "name": "stdout",
     "output_type": "stream",
     "text": [
      "Infected\n"
     ]
    },
    {
     "name": "stderr",
     "output_type": "stream",
     "text": [
      "\n",
      " 99%|█████████▉| 80414/81124 [12:31:15<2:29:41, 12.65s/it]\u001b[A\n",
      " 99%|█████████▉| 80415/81124 [12:31:17<1:51:50,  9.46s/it]\u001b[A\n",
      " 99%|█████████▉| 80417/81124 [12:31:22<1:27:22,  7.42s/it]\u001b[A\n",
      " 99%|█████████▉| 80418/81124 [12:32:07<3:38:50, 18.60s/it]\u001b[A\n",
      " 99%|█████████▉| 80419/81124 [12:32:09<2:39:43, 13.59s/it]\u001b[A\n",
      " 99%|█████████▉| 80420/81124 [12:32:11<1:58:04, 10.06s/it]\u001b[A"
     ]
    },
    {
     "name": "stdout",
     "output_type": "stream",
     "text": [
      "Infected\n"
     ]
    },
    {
     "name": "stderr",
     "output_type": "stream",
     "text": [
      "\n",
      " 99%|█████████▉| 80421/81124 [12:32:22<2:00:38, 10.30s/it]\u001b[A\n",
      " 99%|█████████▉| 80422/81124 [12:32:23<1:28:35,  7.57s/it]\u001b[A\n",
      " 99%|█████████▉| 80423/81124 [12:32:25<1:09:51,  5.98s/it]\u001b[A\n",
      " 99%|█████████▉| 80424/81124 [12:32:25<49:59,  4.28s/it]  \u001b[A\n",
      " 99%|█████████▉| 80425/81124 [12:32:33<59:46,  5.13s/it]\u001b[A\n",
      " 99%|█████████▉| 80426/81124 [12:32:33<44:27,  3.82s/it]\u001b[A\n",
      " 99%|█████████▉| 80427/81124 [12:32:41<59:13,  5.10s/it]\u001b[A\n",
      " 99%|█████████▉| 80428/81124 [12:32:50<1:11:03,  6.13s/it]\u001b[A\n",
      " 99%|█████████▉| 80429/81124 [12:33:13<2:10:29, 11.27s/it]\u001b[A\n",
      " 99%|█████████▉| 80430/81124 [12:33:35<2:46:09, 14.37s/it]\u001b[A\n",
      " 99%|█████████▉| 80431/81124 [12:33:38<2:06:46, 10.98s/it]\u001b[A\n",
      " 99%|█████████▉| 80432/81124 [12:33:40<1:37:31,  8.46s/it]\u001b[A\n",
      " 99%|█████████▉| 80433/81124 [12:33:41<1:09:25,  6.03s/it]\u001b[A\n",
      " 99%|█████████▉| 80436/81124 [12:33:42<49:45,  4.34s/it]  \u001b[A\n",
      " 99%|█████████▉| 80437/81124 [12:34:00<1:36:37,  8.44s/it]\u001b[A\n",
      " 99%|█████████▉| 80438/81124 [12:34:10<1:41:42,  8.90s/it]\u001b[A\n",
      " 99%|█████████▉| 80439/81124 [12:34:11<1:15:29,  6.61s/it]\u001b[A\n",
      " 99%|█████████▉| 80442/81124 [12:34:14<55:23,  4.87s/it]  \u001b[A\n",
      " 99%|█████████▉| 80443/81124 [12:34:16<48:00,  4.23s/it]\u001b[A\n",
      " 99%|█████████▉| 80444/81124 [12:34:38<1:46:44,  9.42s/it]\u001b[A\n",
      " 99%|█████████▉| 80445/81124 [12:35:23<3:49:04, 20.24s/it]\u001b[A\n",
      " 99%|█████████▉| 80446/81124 [12:35:26<2:49:33, 15.00s/it]\u001b[A\n",
      " 99%|█████████▉| 80449/81124 [12:35:28<1:59:52, 10.66s/it]\u001b[A\n",
      " 99%|█████████▉| 80450/81124 [12:35:42<2:13:05, 11.85s/it]\u001b[A\n",
      " 99%|█████████▉| 80451/81124 [12:36:13<3:15:32, 17.43s/it]\u001b[A\n",
      " 99%|█████████▉| 80452/81124 [12:36:13<2:17:30, 12.28s/it]\u001b[A\n",
      " 99%|█████████▉| 80454/81124 [12:36:47<2:33:00, 13.70s/it]\u001b[A\n",
      " 99%|█████████▉| 80456/81124 [12:36:47<1:47:10,  9.63s/it]\u001b[A\n",
      " 99%|█████████▉| 80458/81124 [12:36:48<1:15:27,  6.80s/it]\u001b[A\n",
      " 99%|█████████▉| 80459/81124 [12:36:49<55:50,  5.04s/it]  \u001b[A\n",
      " 99%|█████████▉| 80460/81124 [12:36:59<1:12:39,  6.57s/it]\u001b[A\n",
      " 99%|█████████▉| 80461/81124 [12:37:02<1:01:00,  5.52s/it]\u001b[A\n",
      " 99%|█████████▉| 80463/81124 [12:37:05<47:14,  4.29s/it]  \u001b[A\n",
      " 99%|█████████▉| 80464/81124 [12:37:27<1:46:17,  9.66s/it]\u001b[A\n",
      " 99%|█████████▉| 80465/81124 [12:37:29<1:20:22,  7.32s/it]\u001b[A"
     ]
    },
    {
     "name": "stdout",
     "output_type": "stream",
     "text": [
      "Infected\n"
     ]
    },
    {
     "name": "stderr",
     "output_type": "stream",
     "text": [
      "\n",
      " 99%|█████████▉| 80466/81124 [12:38:05<2:56:17, 16.07s/it]\u001b[A\n",
      " 99%|█████████▉| 80469/81124 [12:38:06<2:03:57, 11.35s/it]\u001b[A\n",
      " 99%|█████████▉| 80470/81124 [12:38:48<3:43:35, 20.51s/it]\u001b[A\n",
      " 99%|█████████▉| 80471/81124 [12:39:03<3:26:05, 18.94s/it]\u001b[A\n",
      " 99%|█████████▉| 80472/81124 [12:39:19<3:15:57, 18.03s/it]\u001b[A\n",
      " 99%|█████████▉| 80473/81124 [12:39:20<2:20:29, 12.95s/it]\u001b[A\n",
      " 99%|█████████▉| 80474/81124 [12:40:08<4:13:45, 23.42s/it]\u001b[A\n",
      " 99%|█████████▉| 80475/81124 [12:40:13<3:13:00, 17.84s/it]\u001b[A\n",
      " 99%|█████████▉| 80476/81124 [12:40:27<3:01:07, 16.77s/it]\u001b[A\n",
      " 99%|█████████▉| 80477/81124 [12:40:35<2:32:26, 14.14s/it]\u001b[A\n",
      " 99%|█████████▉| 80478/81124 [12:40:45<2:16:46, 12.70s/it]\u001b[A\n",
      " 99%|█████████▉| 80480/81124 [12:40:47<1:38:57,  9.22s/it]\u001b[A\n",
      " 99%|█████████▉| 80482/81124 [12:41:11<1:46:58, 10.00s/it]\u001b[A\n",
      " 99%|█████████▉| 80483/81124 [12:41:14<1:26:49,  8.13s/it]\u001b[A\n",
      " 99%|█████████▉| 80484/81124 [12:41:28<1:45:27,  9.89s/it]\u001b[A\n",
      " 99%|█████████▉| 80485/81124 [12:41:30<1:19:38,  7.48s/it]\u001b[A\n",
      " 99%|█████████▉| 80486/81124 [12:41:34<1:09:31,  6.54s/it]\u001b[A"
     ]
    },
    {
     "name": "stdout",
     "output_type": "stream",
     "text": [
      "Infected\n",
      "Infected\n"
     ]
    },
    {
     "name": "stderr",
     "output_type": "stream",
     "text": [
      "\n",
      " 99%|█████████▉| 80487/81124 [12:41:58<2:04:57, 11.77s/it]\u001b[A\n",
      " 99%|█████████▉| 80488/81124 [12:42:03<1:40:56,  9.52s/it]\u001b[A\n",
      " 99%|█████████▉| 80489/81124 [12:42:04<1:13:47,  6.97s/it]\u001b[A\n",
      " 99%|█████████▉| 80492/81124 [12:42:08<55:40,  5.29s/it]  \u001b[A\n",
      " 99%|█████████▉| 80494/81124 [12:42:10<42:17,  4.03s/it]\u001b[A\n",
      " 99%|█████████▉| 80495/81124 [12:42:44<2:16:54, 13.06s/it]\u001b[A\n",
      " 99%|█████████▉| 80496/81124 [12:42:45<1:38:52,  9.45s/it]\u001b[A\n",
      " 99%|█████████▉| 80497/81124 [12:42:45<1:09:56,  6.69s/it]\u001b[A\n",
      " 99%|█████████▉| 80498/81124 [12:42:46<51:07,  4.90s/it]  \u001b[A\n",
      " 99%|█████████▉| 80499/81124 [12:42:48<42:42,  4.10s/it]\u001b[A\n",
      " 99%|█████████▉| 80500/81124 [12:43:32<2:45:42, 15.93s/it]\u001b[A\n",
      " 99%|█████████▉| 80501/81124 [12:43:59<3:19:14, 19.19s/it]\u001b[A\n",
      " 99%|█████████▉| 80502/81124 [12:44:06<2:41:02, 15.54s/it]\u001b[A\n",
      " 99%|█████████▉| 80503/81124 [12:44:38<3:32:26, 20.53s/it]\u001b[A\n",
      " 99%|█████████▉| 80504/81124 [12:44:43<2:45:19, 16.00s/it]\u001b[A\n",
      " 99%|█████████▉| 80506/81124 [12:44:46<1:59:02, 11.56s/it]\u001b[A\n",
      " 99%|█████████▉| 80508/81124 [12:45:05<1:52:41, 10.98s/it]\u001b[A\n",
      " 99%|█████████▉| 80509/81124 [12:45:19<2:00:30, 11.76s/it]\u001b[A\n",
      " 99%|█████████▉| 80510/81124 [12:45:19<1:26:53,  8.49s/it]\u001b[A\n",
      " 99%|█████████▉| 80511/81124 [12:45:20<1:01:29,  6.02s/it]\u001b[A\n",
      " 99%|█████████▉| 80512/81124 [12:45:22<50:19,  4.93s/it]  \u001b[A\n",
      " 99%|█████████▉| 80513/81124 [12:45:23<38:16,  3.76s/it]\u001b[A\n",
      " 99%|█████████▉| 80515/81124 [12:45:41<54:31,  5.37s/it]\u001b[A\n",
      " 99%|█████████▉| 80516/81124 [12:45:57<1:25:24,  8.43s/it]\u001b[A\n",
      " 99%|█████████▉| 80517/81124 [12:46:29<2:37:05, 15.53s/it]\u001b[A\n",
      " 99%|█████████▉| 80518/81124 [12:46:29<1:50:33, 10.95s/it]\u001b[A\n",
      " 99%|█████████▉| 80519/81124 [12:46:29<1:17:59,  7.73s/it]\u001b[A\n",
      " 99%|█████████▉| 80521/81124 [12:46:33<59:47,  5.95s/it]  \u001b[A\n",
      " 99%|█████████▉| 80523/81124 [12:46:58<1:18:59,  7.89s/it]\u001b[A\n",
      " 99%|█████████▉| 80524/81124 [12:46:59<57:34,  5.76s/it]  \u001b[A\n",
      " 99%|█████████▉| 80525/81124 [12:47:00<44:57,  4.50s/it]\u001b[A\n",
      " 99%|█████████▉| 80526/81124 [12:47:03<40:24,  4.05s/it]\u001b[A\n",
      " 99%|█████████▉| 80527/81124 [12:47:04<31:42,  3.19s/it]\u001b[A\n",
      " 99%|█████████▉| 80529/81124 [12:47:52<1:32:11,  9.30s/it]\u001b[A\n",
      " 99%|█████████▉| 80530/81124 [12:48:14<2:11:11, 13.25s/it]\u001b[A\n",
      " 99%|█████████▉| 80531/81124 [12:48:17<1:40:10, 10.14s/it]\u001b[A\n",
      " 99%|█████████▉| 80532/81124 [12:48:18<1:12:29,  7.35s/it]\u001b[A\n",
      " 99%|█████████▉| 80533/81124 [12:48:22<1:03:50,  6.48s/it]\u001b[A\n",
      " 99%|█████████▉| 80534/81124 [12:48:26<55:15,  5.62s/it]  \u001b[A\n",
      " 99%|█████████▉| 80535/81124 [12:49:02<2:26:15, 14.90s/it]\u001b[A\n",
      " 99%|█████████▉| 80536/81124 [12:49:46<3:50:28, 23.52s/it]\u001b[A\n",
      " 99%|█████████▉| 80537/81124 [12:49:57<3:12:22, 19.66s/it]\u001b[A\n",
      " 99%|█████████▉| 80538/81124 [12:49:58<2:19:35, 14.29s/it]\u001b[A\n",
      " 99%|█████████▉| 80539/81124 [12:49:59<1:38:14, 10.08s/it]\u001b[A\n",
      " 99%|█████████▉| 80540/81124 [12:50:02<1:19:01,  8.12s/it]\u001b[A\n",
      " 99%|█████████▉| 80541/81124 [12:50:07<1:08:24,  7.04s/it]\u001b[A\n",
      " 99%|█████████▉| 80542/81124 [12:50:07<49:54,  5.15s/it]  \u001b[A\n",
      " 99%|█████████▉| 80543/81124 [12:50:08<36:04,  3.73s/it]\u001b[A\n",
      " 99%|█████████▉| 80545/81124 [12:50:09<26:54,  2.79s/it]\u001b[A\n",
      " 99%|█████████▉| 80546/81124 [12:50:12<26:50,  2.79s/it]\u001b[A\n",
      " 99%|█████████▉| 80547/81124 [12:50:13<21:04,  2.19s/it]\u001b[A\n",
      " 99%|█████████▉| 80548/81124 [12:50:28<59:50,  6.23s/it]\u001b[A\n",
      " 99%|█████████▉| 80549/81124 [12:50:35<1:00:18,  6.29s/it]\u001b[A\n",
      " 99%|█████████▉| 80550/81124 [12:50:42<1:02:21,  6.52s/it]\u001b[A"
     ]
    },
    {
     "name": "stdout",
     "output_type": "stream",
     "text": [
      "Infected\n"
     ]
    },
    {
     "name": "stderr",
     "output_type": "stream",
     "text": [
      "\n",
      " 99%|█████████▉| 80552/81124 [12:50:48<52:33,  5.51s/it]  \u001b[A\n",
      " 99%|█████████▉| 80553/81124 [12:50:58<1:06:12,  6.96s/it]\u001b[A\n",
      " 99%|█████████▉| 80554/81124 [12:50:59<48:40,  5.12s/it]  \u001b[A\n",
      " 99%|█████████▉| 80555/81124 [12:51:08<1:00:11,  6.35s/it]\u001b[A\n",
      " 99%|█████████▉| 80556/81124 [12:51:11<49:44,  5.25s/it]  \u001b[A\n",
      " 99%|█████████▉| 80557/81124 [12:51:11<35:33,  3.76s/it]\u001b[A\n",
      " 99%|█████████▉| 80558/81124 [12:51:41<1:48:00, 11.45s/it]\u001b[A\n",
      " 99%|█████████▉| 80560/81124 [12:51:44<1:19:44,  8.48s/it]\u001b[A\n",
      " 99%|█████████▉| 80561/81124 [12:52:06<1:57:52, 12.56s/it]\u001b[A\n",
      " 99%|█████████▉| 80562/81124 [12:52:31<2:31:43, 16.20s/it]\u001b[A\n",
      " 99%|█████████▉| 80565/81124 [12:52:31<1:45:58, 11.37s/it]\u001b[A\n",
      " 99%|█████████▉| 80566/81124 [12:52:32<1:16:13,  8.20s/it]\u001b[A\n",
      " 99%|█████████▉| 80569/81124 [12:52:34<54:35,  5.90s/it]  \u001b[A\n",
      " 99%|█████████▉| 80571/81124 [12:52:39<45:07,  4.90s/it]\u001b[A\n",
      " 99%|█████████▉| 80572/81124 [12:52:48<57:35,  6.26s/it]\u001b[A\n",
      " 99%|█████████▉| 80573/81124 [12:52:56<1:03:30,  6.91s/it]\u001b[A\n",
      " 99%|█████████▉| 80574/81124 [12:53:04<1:03:46,  6.96s/it]\u001b[A\n",
      " 99%|█████████▉| 80575/81124 [12:53:11<1:05:55,  7.21s/it]\u001b[A\n",
      " 99%|█████████▉| 80576/81124 [12:53:12<46:32,  5.10s/it]  \u001b[A\n",
      " 99%|█████████▉| 80577/81124 [12:53:12<32:49,  3.60s/it]\u001b[A\n",
      " 99%|█████████▉| 80579/81124 [12:53:37<56:56,  6.27s/it]\u001b[A\n",
      " 99%|█████████▉| 80580/81124 [12:53:40<48:36,  5.36s/it]\u001b[A\n",
      " 99%|█████████▉| 80581/81124 [12:53:40<34:53,  3.86s/it]\u001b[A\n",
      " 99%|█████████▉| 80582/81124 [12:53:45<38:22,  4.25s/it]\u001b[A\n",
      " 99%|█████████▉| 80585/81124 [12:53:46<26:55,  3.00s/it]\u001b[A\n",
      " 99%|█████████▉| 80586/81124 [12:53:58<52:36,  5.87s/it]\u001b[A\n",
      " 99%|█████████▉| 80587/81124 [12:53:58<37:21,  4.17s/it]\u001b[A\n",
      " 99%|█████████▉| 80588/81124 [12:54:17<1:15:50,  8.49s/it]\u001b[A\n",
      " 99%|█████████▉| 80589/81124 [12:54:18<55:04,  6.18s/it]  \u001b[A\n",
      " 99%|█████████▉| 80590/81124 [12:54:19<41:56,  4.71s/it]\u001b[A\n",
      " 99%|█████████▉| 80591/81124 [12:54:32<1:03:00,  7.09s/it]\u001b[A\n",
      " 99%|█████████▉| 80592/81124 [12:54:33<47:35,  5.37s/it]  \u001b[A\n",
      " 99%|█████████▉| 80593/81124 [12:54:46<1:07:17,  7.60s/it]\u001b[A\n",
      " 99%|█████████▉| 80594/81124 [12:54:47<50:02,  5.66s/it]  \u001b[A\n",
      " 99%|█████████▉| 80595/81124 [12:54:50<43:34,  4.94s/it]\u001b[A\n",
      " 99%|█████████▉| 80596/81124 [12:54:51<32:34,  3.70s/it]\u001b[A\n",
      " 99%|█████████▉| 80597/81124 [12:54:54<29:29,  3.36s/it]\u001b[A\n",
      " 99%|█████████▉| 80598/81124 [12:54:55<25:10,  2.87s/it]\u001b[A\n",
      " 99%|█████████▉| 80599/81124 [12:54:57<20:57,  2.40s/it]\u001b[A\n",
      " 99%|█████████▉| 80600/81124 [12:55:08<45:20,  5.19s/it]\u001b[A\n",
      " 99%|█████████▉| 80602/81124 [12:55:12<36:03,  4.14s/it]\u001b[A\n",
      " 99%|█████████▉| 80604/81124 [12:56:00<1:27:56, 10.15s/it]\u001b[A\n",
      " 99%|█████████▉| 80605/81124 [12:56:48<3:04:53, 21.37s/it]\u001b[A"
     ]
    },
    {
     "name": "stdout",
     "output_type": "stream",
     "text": [
      "Infected\n"
     ]
    },
    {
     "name": "stderr",
     "output_type": "stream",
     "text": [
      "\n",
      " 99%|█████████▉| 80606/81124 [12:56:51<2:18:08, 16.00s/it]\u001b[A\n",
      " 99%|█████████▉| 80607/81124 [12:56:53<1:41:33, 11.79s/it]\u001b[A\n",
      " 99%|█████████▉| 80608/81124 [12:57:00<1:28:57, 10.34s/it]\u001b[A\n",
      " 99%|█████████▉| 80609/81124 [12:57:01<1:05:29,  7.63s/it]\u001b[A\n",
      " 99%|█████████▉| 80610/81124 [12:57:02<46:34,  5.44s/it]  \u001b[A\n",
      " 99%|█████████▉| 80611/81124 [12:57:02<33:02,  3.86s/it]\u001b[A\n",
      " 99%|█████████▉| 80612/81124 [12:57:04<29:08,  3.41s/it]\u001b[A\n",
      " 99%|█████████▉| 80613/81124 [12:57:05<22:28,  2.64s/it]\u001b[A\n",
      " 99%|█████████▉| 80614/81124 [12:57:11<31:15,  3.68s/it]\u001b[A\n",
      " 99%|█████████▉| 80616/81124 [12:57:16<27:47,  3.28s/it]\u001b[A\n",
      " 99%|█████████▉| 80618/81124 [12:57:23<29:00,  3.44s/it]\u001b[A\n",
      " 99%|█████████▉| 80620/81124 [12:57:40<41:27,  4.94s/it]\u001b[A\n",
      " 99%|█████████▉| 80621/81124 [12:58:15<1:55:16, 13.75s/it]\u001b[A\n",
      " 99%|█████████▉| 80622/81124 [12:58:17<1:27:18, 10.44s/it]\u001b[A\n",
      " 99%|█████████▉| 80623/81124 [12:58:21<1:11:07,  8.52s/it]\u001b[A\n",
      " 99%|█████████▉| 80624/81124 [12:58:23<53:32,  6.43s/it]  \u001b[A\n",
      " 99%|█████████▉| 80625/81124 [12:58:26<44:09,  5.31s/it]\u001b[A\n",
      " 99%|█████████▉| 80626/81124 [12:58:27<35:14,  4.25s/it]\u001b[A\n",
      " 99%|█████████▉| 80627/81124 [12:58:28<26:39,  3.22s/it]\u001b[A\n",
      " 99%|█████████▉| 80628/81124 [12:58:49<1:10:05,  8.48s/it]\u001b[A\n",
      " 99%|█████████▉| 80629/81124 [12:59:24<2:16:37, 16.56s/it]\u001b[A\n",
      " 99%|█████████▉| 80630/81124 [12:59:55<2:50:06, 20.66s/it]\u001b[A\n",
      " 99%|█████████▉| 80631/81124 [12:59:55<1:59:20, 14.53s/it]\u001b[A\n",
      " 99%|█████████▉| 80632/81124 [12:59:56<1:25:29, 10.43s/it]\u001b[A\n",
      " 99%|█████████▉| 80633/81124 [13:00:04<1:20:19,  9.82s/it]\u001b[A\n",
      " 99%|█████████▉| 80635/81124 [13:00:04<56:26,  6.93s/it]  \u001b[A\n",
      " 99%|█████████▉| 80636/81124 [13:00:05<40:15,  4.95s/it]\u001b[A\n",
      " 99%|█████████▉| 80637/81124 [13:00:47<2:12:01, 16.27s/it]\u001b[A\n",
      " 99%|█████████▉| 80639/81124 [13:01:01<1:48:59, 13.48s/it]\u001b[A\n",
      " 99%|█████████▉| 80641/81124 [13:01:02<1:17:06,  9.58s/it]\u001b[A\n",
      " 99%|█████████▉| 80642/81124 [13:01:08<1:08:19,  8.50s/it]\u001b[A\n",
      " 99%|█████████▉| 80643/81124 [13:01:09<48:14,  6.02s/it]  \u001b[A\n",
      " 99%|█████████▉| 80644/81124 [13:01:58<2:32:25, 19.05s/it]\u001b[A\n",
      " 99%|█████████▉| 80645/81124 [13:02:02<1:55:15, 14.44s/it]\u001b[A\n",
      " 99%|█████████▉| 80646/81124 [13:02:03<1:22:29, 10.35s/it]\u001b[A\n",
      " 99%|█████████▉| 80647/81124 [13:02:04<1:02:18,  7.84s/it]\u001b[A\n",
      " 99%|█████████▉| 80648/81124 [13:02:15<1:07:49,  8.55s/it]\u001b[A\n",
      " 99%|█████████▉| 80650/81124 [13:02:15<47:27,  6.01s/it]  \u001b[A\n",
      " 99%|█████████▉| 80651/81124 [13:02:16<35:48,  4.54s/it]\u001b[A\n",
      " 99%|█████████▉| 80652/81124 [13:02:16<25:20,  3.22s/it]\u001b[A\n",
      " 99%|█████████▉| 80653/81124 [13:02:21<29:29,  3.76s/it]\u001b[A\n",
      " 99%|█████████▉| 80654/81124 [13:02:22<22:25,  2.86s/it]\u001b[A\n",
      " 99%|█████████▉| 80656/81124 [13:02:32<27:21,  3.51s/it]\u001b[A\n",
      " 99%|█████████▉| 80657/81124 [13:02:35<25:47,  3.31s/it]\u001b[A"
     ]
    },
    {
     "name": "stdout",
     "output_type": "stream",
     "text": [
      "Infected\n"
     ]
    },
    {
     "name": "stderr",
     "output_type": "stream",
     "text": [
      "\n",
      " 99%|█████████▉| 80658/81124 [13:02:54<1:03:31,  8.18s/it]\u001b[A\n",
      " 99%|█████████▉| 80659/81124 [13:02:55<46:19,  5.98s/it]  \u001b[A\n",
      " 99%|█████████▉| 80660/81124 [13:02:57<36:23,  4.71s/it]\u001b[A\n",
      " 99%|█████████▉| 80661/81124 [13:02:58<27:14,  3.53s/it]\u001b[A\n",
      " 99%|█████████▉| 80663/81124 [13:03:39<1:07:10,  8.74s/it]\u001b[A\n",
      " 99%|█████████▉| 80665/81124 [13:03:40<47:09,  6.16s/it]  \u001b[A\n",
      " 99%|█████████▉| 80666/81124 [13:03:43<39:35,  5.19s/it]\u001b[A\n",
      " 99%|█████████▉| 80668/81124 [13:03:44<28:32,  3.76s/it]\u001b[A\n",
      " 99%|█████████▉| 80669/81124 [13:04:10<1:20:16, 10.59s/it]\u001b[A\n",
      " 99%|█████████▉| 80670/81124 [13:04:26<1:33:00, 12.29s/it]\u001b[A\n",
      " 99%|█████████▉| 80671/81124 [13:04:31<1:15:16,  9.97s/it]\u001b[A\n",
      " 99%|█████████▉| 80672/81124 [13:05:18<2:39:29, 21.17s/it]\u001b[A\n",
      " 99%|█████████▉| 80674/81124 [13:05:19<1:51:34, 14.88s/it]\u001b[A\n",
      " 99%|█████████▉| 80675/81124 [13:05:25<1:31:31, 12.23s/it]\u001b[A\n",
      " 99%|█████████▉| 80676/81124 [13:05:26<1:06:07,  8.86s/it]\u001b[A\n",
      " 99%|█████████▉| 80677/81124 [13:05:35<1:07:00,  8.99s/it]\u001b[A\n",
      " 99%|█████████▉| 80678/81124 [13:05:37<52:07,  7.01s/it]  \u001b[A\n",
      " 99%|█████████▉| 80679/81124 [13:05:47<58:59,  7.95s/it]\u001b[A\n",
      " 99%|█████████▉| 80680/81124 [13:05:48<42:16,  5.71s/it]\u001b[A"
     ]
    },
    {
     "name": "stdout",
     "output_type": "stream",
     "text": [
      "Infected\n"
     ]
    },
    {
     "name": "stderr",
     "output_type": "stream",
     "text": [
      "\n",
      " 99%|█████████▉| 80681/81124 [13:05:50<33:12,  4.50s/it]\u001b[A\n",
      " 99%|█████████▉| 80682/81124 [13:05:55<34:09,  4.64s/it]\u001b[A\n",
      " 99%|█████████▉| 80683/81124 [13:05:55<24:16,  3.30s/it]\u001b[A\n",
      " 99%|█████████▉| 80684/81124 [13:06:12<55:21,  7.55s/it]\u001b[A\n",
      " 99%|█████████▉| 80685/81124 [13:06:30<1:18:32, 10.74s/it]\u001b[A\n",
      " 99%|█████████▉| 80686/81124 [13:06:36<1:07:16,  9.22s/it]\u001b[A\n",
      " 99%|█████████▉| 80687/81124 [13:06:37<48:57,  6.72s/it]  \u001b[A\n",
      " 99%|█████████▉| 80688/81124 [13:06:39<39:21,  5.42s/it]\u001b[A\n",
      " 99%|█████████▉| 80689/81124 [13:06:41<31:53,  4.40s/it]\u001b[A\n",
      " 99%|█████████▉| 80690/81124 [13:06:52<44:40,  6.18s/it]\u001b[A\n",
      " 99%|█████████▉| 80691/81124 [13:06:52<31:36,  4.38s/it]\u001b[A\n",
      " 99%|█████████▉| 80692/81124 [13:07:01<42:32,  5.91s/it]\u001b[A\n",
      " 99%|█████████▉| 80693/81124 [13:07:29<1:30:25, 12.59s/it]\u001b[A\n",
      " 99%|█████████▉| 80694/81124 [13:07:30<1:03:45,  8.90s/it]\u001b[A\n",
      " 99%|█████████▉| 80696/81124 [13:07:31<46:06,  6.46s/it]  \u001b[A\n",
      " 99%|█████████▉| 80697/81124 [13:07:48<1:07:21,  9.47s/it]\u001b[A\n",
      " 99%|█████████▉| 80698/81124 [13:07:59<1:11:26, 10.06s/it]\u001b[A\n",
      " 99%|█████████▉| 80699/81124 [13:08:24<1:43:09, 14.56s/it]\u001b[A\n",
      " 99%|█████████▉| 80700/81124 [13:08:26<1:16:10, 10.78s/it]\u001b[A\n",
      " 99%|█████████▉| 80701/81124 [13:08:38<1:17:19, 10.97s/it]\u001b[A\n",
      " 99%|█████████▉| 80702/81124 [13:08:39<56:51,  8.09s/it]  \u001b[A\n",
      " 99%|█████████▉| 80703/81124 [13:08:41<43:04,  6.14s/it]\u001b[A\n",
      " 99%|█████████▉| 80704/81124 [13:08:42<33:09,  4.74s/it]\u001b[A"
     ]
    },
    {
     "name": "stdout",
     "output_type": "stream",
     "text": [
      "Infected\n"
     ]
    },
    {
     "name": "stderr",
     "output_type": "stream",
     "text": [
      "\n",
      " 99%|█████████▉| 80705/81124 [13:09:27<1:57:15, 16.79s/it]\u001b[A\n",
      " 99%|█████████▉| 80707/81124 [13:09:28<1:22:10, 11.82s/it]\u001b[A\n",
      " 99%|█████████▉| 80708/81124 [13:09:28<57:55,  8.35s/it]  \u001b[A\n",
      " 99%|█████████▉| 80709/81124 [13:09:29<43:39,  6.31s/it]\u001b[A\n",
      " 99%|█████████▉| 80710/81124 [13:09:53<1:18:56, 11.44s/it]\u001b[A\n",
      " 99%|█████████▉| 80711/81124 [13:09:53<55:42,  8.09s/it]  \u001b[A\n",
      " 99%|█████████▉| 80713/81124 [13:09:53<39:06,  5.71s/it]\u001b[A\n",
      " 99%|█████████▉| 80714/81124 [13:10:24<1:30:38, 13.27s/it]\u001b[A\n",
      " 99%|█████████▉| 80715/81124 [13:10:26<1:07:30,  9.90s/it]\u001b[A\n",
      " 99%|█████████▉| 80716/81124 [13:10:39<1:13:31, 10.81s/it]\u001b[A\n",
      " 99%|█████████▉| 80717/81124 [13:10:40<52:15,  7.70s/it]  \u001b[A\n",
      "100%|█████████▉| 80719/81124 [13:10:47<44:17,  6.56s/it]\u001b[A\n",
      "100%|█████████▉| 80720/81124 [13:10:50<36:04,  5.36s/it]\u001b[A\n",
      "100%|█████████▉| 80722/81124 [13:10:58<33:25,  4.99s/it]\u001b[A\n",
      "100%|█████████▉| 80723/81124 [13:11:24<1:14:06, 11.09s/it]\u001b[A\n",
      "100%|█████████▉| 80724/81124 [13:11:32<1:09:26, 10.42s/it]\u001b[A\n",
      "100%|█████████▉| 80725/81124 [13:12:13<2:09:51, 19.53s/it]\u001b[A\n",
      "100%|█████████▉| 80726/81124 [13:12:13<1:31:17, 13.76s/it]\u001b[A\n",
      "100%|█████████▉| 80727/81124 [13:12:14<1:05:26,  9.89s/it]\u001b[A\n",
      "100%|█████████▉| 80728/81124 [13:12:15<46:18,  7.02s/it]  \u001b[A\n",
      "100%|█████████▉| 80729/81124 [13:12:17<35:58,  5.46s/it]\u001b[A\n",
      "100%|█████████▉| 80730/81124 [13:12:27<45:46,  6.97s/it]\u001b[A\n",
      "100%|█████████▉| 80732/81124 [13:12:43<47:47,  7.31s/it]\u001b[A\n",
      "100%|█████████▉| 80733/81124 [13:12:46<38:35,  5.92s/it]\u001b[A\n",
      "100%|█████████▉| 80735/81124 [13:12:51<31:54,  4.92s/it]\u001b[A\n",
      "100%|█████████▉| 80738/81124 [13:12:52<22:43,  3.53s/it]\u001b[A\n",
      "100%|█████████▉| 80739/81124 [13:13:07<44:25,  6.92s/it]\u001b[A\n",
      "100%|█████████▉| 80740/81124 [13:13:13<43:14,  6.76s/it]\u001b[A\n",
      "100%|█████████▉| 80742/81124 [13:13:14<30:59,  4.87s/it]\u001b[A\n",
      "100%|█████████▉| 80743/81124 [13:13:16<25:05,  3.95s/it]\u001b[A\n",
      "100%|█████████▉| 80744/81124 [13:13:17<19:10,  3.03s/it]\u001b[A\n",
      "100%|█████████▉| 80745/81124 [13:13:41<1:00:11,  9.53s/it]\u001b[A\n",
      "100%|█████████▉| 80746/81124 [13:14:28<2:09:10, 20.50s/it]\u001b[A\n",
      "100%|█████████▉| 80747/81124 [13:14:36<1:46:23, 16.93s/it]\u001b[A\n",
      "100%|█████████▉| 80748/81124 [13:14:40<1:21:30, 13.01s/it]\u001b[A\n",
      "100%|█████████▉| 80749/81124 [13:14:43<1:02:43, 10.04s/it]\u001b[A\n",
      "100%|█████████▉| 80750/81124 [13:14:57<1:09:32, 11.16s/it]\u001b[A\n",
      "100%|█████████▉| 80751/81124 [13:15:00<53:50,  8.66s/it]  \u001b[A\n",
      "100%|█████████▉| 80752/81124 [13:15:02<42:22,  6.83s/it]\u001b[A\n",
      "100%|█████████▉| 80753/81124 [13:15:33<1:25:44, 13.87s/it]\u001b[A\n",
      "100%|█████████▉| 80754/81124 [13:15:34<1:03:03, 10.23s/it]\u001b[A\n",
      "100%|█████████▉| 80756/81124 [13:15:35<44:49,  7.31s/it]  \u001b[A\n",
      "100%|█████████▉| 80757/81124 [13:15:36<32:43,  5.35s/it]\u001b[A\n",
      "100%|█████████▉| 80758/81124 [13:15:40<30:04,  4.93s/it]\u001b[A\n",
      "100%|█████████▉| 80759/81124 [13:15:41<23:10,  3.81s/it]\u001b[A\n",
      "100%|█████████▉| 80760/81124 [13:15:50<32:49,  5.41s/it]\u001b[A\n",
      "100%|█████████▉| 80761/81124 [13:15:51<24:47,  4.10s/it]\u001b[A\n",
      "100%|█████████▉| 80762/81124 [13:15:52<19:03,  3.16s/it]\u001b[A\n",
      "100%|█████████▉| 80763/81124 [13:15:54<15:56,  2.65s/it]\u001b[A\n",
      "100%|█████████▉| 80764/81124 [13:15:55<13:43,  2.29s/it]\u001b[A\n",
      "100%|█████████▉| 80765/81124 [13:16:05<26:39,  4.46s/it]\u001b[A\n",
      "100%|█████████▉| 80766/81124 [13:16:36<1:14:22, 12.47s/it]\u001b[A\n",
      "100%|█████████▉| 80767/81124 [13:16:51<1:18:04, 13.12s/it]\u001b[A\n",
      "100%|█████████▉| 80768/81124 [13:17:04<1:18:48, 13.28s/it]\u001b[A\n",
      "100%|█████████▉| 80769/81124 [13:17:30<1:41:24, 17.14s/it]\u001b[A\n",
      "100%|█████████▉| 80770/81124 [13:18:11<2:21:53, 24.05s/it]\u001b[A\n",
      "100%|█████████▉| 80771/81124 [13:18:49<2:46:17, 28.27s/it]\u001b[A\n",
      "100%|█████████▉| 80772/81124 [13:18:51<1:59:58, 20.45s/it]\u001b[A\n",
      "100%|█████████▉| 80773/81124 [13:18:54<1:28:38, 15.15s/it]\u001b[A\n",
      "100%|█████████▉| 80774/81124 [13:18:54<1:02:10, 10.66s/it]\u001b[A\n",
      "100%|█████████▉| 80775/81124 [13:18:55<45:30,  7.82s/it]  \u001b[A\n",
      "100%|█████████▉| 80776/81124 [13:19:36<1:42:51, 17.73s/it]\u001b[A"
     ]
    },
    {
     "name": "stdout",
     "output_type": "stream",
     "text": [
      "Infected\n",
      "Infected\n"
     ]
    },
    {
     "name": "stderr",
     "output_type": "stream",
     "text": [
      "\n",
      "100%|█████████▉| 80777/81124 [13:19:39<1:16:46, 13.27s/it]\u001b[A\n",
      "100%|█████████▉| 80778/81124 [13:19:40<55:06,  9.56s/it]  \u001b[A\n",
      "100%|█████████▉| 80779/81124 [13:19:42<41:49,  7.27s/it]\u001b[A\n",
      "100%|█████████▉| 80780/81124 [13:19:42<29:57,  5.22s/it]\u001b[A\n",
      "100%|█████████▉| 80781/81124 [13:19:46<27:11,  4.76s/it]\u001b[A\n",
      "100%|█████████▉| 80782/81124 [13:19:46<19:16,  3.38s/it]\u001b[A"
     ]
    },
    {
     "name": "stdout",
     "output_type": "stream",
     "text": [
      "Infected\n"
     ]
    },
    {
     "name": "stderr",
     "output_type": "stream",
     "text": [
      "\n",
      "100%|█████████▉| 80783/81124 [13:20:21<1:13:19, 12.90s/it]\u001b[A\n",
      "100%|█████████▉| 80784/81124 [13:20:22<52:32,  9.27s/it]  \u001b[A\n",
      "100%|█████████▉| 80786/81124 [13:20:23<37:11,  6.60s/it]\u001b[A"
     ]
    },
    {
     "name": "stdout",
     "output_type": "stream",
     "text": [
      "Infected\n"
     ]
    },
    {
     "name": "stderr",
     "output_type": "stream",
     "text": [
      "\n",
      "100%|█████████▉| 80787/81124 [13:20:35<46:35,  8.29s/it]\u001b[A\n",
      "100%|█████████▉| 80789/81124 [13:20:35<32:34,  5.83s/it]\u001b[A\n",
      "100%|█████████▉| 80790/81124 [13:20:53<52:54,  9.50s/it]\u001b[A\n",
      "100%|█████████▉| 80791/81124 [13:20:58<44:29,  8.02s/it]\u001b[A\n",
      "100%|█████████▉| 80792/81124 [13:21:30<1:24:04, 15.19s/it]\u001b[A\n",
      "100%|█████████▉| 80793/81124 [13:21:30<58:55, 10.68s/it]  \u001b[A\n",
      "100%|█████████▉| 80794/81124 [13:21:30<42:24,  7.71s/it]\u001b[A\n",
      "100%|█████████▉| 80795/81124 [13:22:23<1:56:02, 21.16s/it]\u001b[A\n",
      "100%|█████████▉| 80796/81124 [13:22:30<1:32:01, 16.83s/it]\u001b[A\n",
      "100%|█████████▉| 80797/81124 [13:22:35<1:13:23, 13.47s/it]\u001b[A\n",
      "100%|█████████▉| 80798/81124 [13:23:01<1:32:58, 17.11s/it]\u001b[A\n",
      "100%|█████████▉| 80799/81124 [13:23:03<1:07:43, 12.50s/it]\u001b[A\n",
      "100%|█████████▉| 80801/81124 [13:23:03<47:21,  8.80s/it]  \u001b[A"
     ]
    },
    {
     "name": "stdout",
     "output_type": "stream",
     "text": [
      "Infected\n"
     ]
    },
    {
     "name": "stderr",
     "output_type": "stream",
     "text": [
      "\n",
      "100%|█████████▉| 80802/81124 [13:23:21<1:02:02, 11.56s/it]\u001b[A\n",
      "100%|█████████▉| 80803/81124 [13:23:23<46:37,  8.72s/it]  \u001b[A\n",
      "100%|█████████▉| 80804/81124 [13:23:23<32:54,  6.17s/it]\u001b[A\n",
      "100%|█████████▉| 80808/81124 [13:23:31<25:53,  4.92s/it]\u001b[A"
     ]
    },
    {
     "name": "stdout",
     "output_type": "stream",
     "text": [
      "Infected\n"
     ]
    },
    {
     "name": "stderr",
     "output_type": "stream",
     "text": [
      "\n",
      "100%|█████████▉| 80809/81124 [13:23:44<37:38,  7.17s/it]\u001b[A\n",
      "100%|█████████▉| 80810/81124 [13:24:16<1:16:09, 14.55s/it]\u001b[A\n",
      "100%|█████████▉| 80811/81124 [13:24:16<53:34, 10.27s/it]  \u001b[A\n",
      "100%|█████████▉| 80812/81124 [13:24:18<41:32,  7.99s/it]\u001b[A\n",
      "100%|█████████▉| 80813/81124 [13:24:19<29:13,  5.64s/it]\u001b[A\n",
      "100%|█████████▉| 80814/81124 [13:24:20<23:09,  4.48s/it]\u001b[A\n",
      "100%|█████████▉| 80815/81124 [13:24:24<21:18,  4.14s/it]\u001b[A\n",
      "100%|█████████▉| 80816/81124 [13:25:27<1:52:11, 21.86s/it]\u001b[A\n",
      "100%|█████████▉| 80817/81124 [13:25:27<1:18:46, 15.39s/it]\u001b[A\n",
      "100%|█████████▉| 80818/81124 [13:25:28<55:24, 10.86s/it]  \u001b[A\n",
      "100%|█████████▉| 80819/81124 [13:25:30<42:20,  8.33s/it]\u001b[A"
     ]
    },
    {
     "name": "stdout",
     "output_type": "stream",
     "text": [
      "Infected\n",
      "Infected\n"
     ]
    },
    {
     "name": "stderr",
     "output_type": "stream",
     "text": [
      "\n",
      "100%|█████████▉| 80820/81124 [13:25:44<51:19, 10.13s/it]\u001b[A\n",
      "100%|█████████▉| 80821/81124 [13:25:46<39:08,  7.75s/it]\u001b[A\n",
      "100%|█████████▉| 80822/81124 [13:25:53<37:30,  7.45s/it]\u001b[A\n",
      "100%|█████████▉| 80823/81124 [13:25:54<27:38,  5.51s/it]\u001b[A\n",
      "100%|█████████▉| 80824/81124 [13:26:28<1:10:38, 14.13s/it]\u001b[A\n",
      "100%|█████████▉| 80825/81124 [13:26:30<51:21, 10.30s/it]  \u001b[A\n",
      "100%|█████████▉| 80826/81124 [13:26:39<49:34,  9.98s/it]\u001b[A\n",
      "100%|█████████▉| 80827/81124 [13:26:42<39:25,  7.96s/it]\u001b[A\n",
      "100%|█████████▉| 80829/81124 [13:26:44<28:31,  5.80s/it]\u001b[A\n",
      "100%|█████████▉| 80830/81124 [13:27:16<1:06:48, 13.63s/it]\u001b[A\n",
      "100%|█████████▉| 80831/81124 [13:27:38<1:18:41, 16.12s/it]\u001b[A\n",
      "100%|█████████▉| 80832/81124 [13:27:43<1:02:47, 12.90s/it]\u001b[A\n",
      "100%|█████████▉| 80833/81124 [13:27:44<44:59,  9.28s/it]  \u001b[A\n",
      "100%|█████████▉| 80835/81124 [13:28:17<55:04, 11.43s/it]\u001b[A\n",
      "100%|█████████▉| 80836/81124 [13:29:09<1:52:59, 23.54s/it]\u001b[A\n",
      "100%|█████████▉| 80838/81124 [13:29:17<1:24:32, 17.73s/it]\u001b[A\n",
      "100%|█████████▉| 80839/81124 [13:29:30<1:18:06, 16.44s/it]\u001b[A\n",
      "100%|█████████▉| 80840/81124 [13:30:07<1:46:47, 22.56s/it]\u001b[A\n",
      "100%|█████████▉| 80841/81124 [13:30:15<1:25:41, 18.17s/it]\u001b[A"
     ]
    },
    {
     "name": "stdout",
     "output_type": "stream",
     "text": [
      "Infected\n",
      "Infected\n"
     ]
    },
    {
     "name": "stderr",
     "output_type": "stream",
     "text": [
      "\n",
      "100%|█████████▉| 80843/81124 [13:31:02<1:32:39, 19.78s/it]\u001b[A\n",
      "100%|█████████▉| 80845/81124 [13:31:03<1:04:38, 13.90s/it]\u001b[A"
     ]
    },
    {
     "name": "stdout",
     "output_type": "stream",
     "text": [
      "Infected\n"
     ]
    },
    {
     "name": "stderr",
     "output_type": "stream",
     "text": [
      "\n",
      "100%|█████████▉| 80846/81124 [13:31:06<49:39, 10.72s/it]  \u001b[A\n",
      "100%|█████████▉| 80847/81124 [13:31:09<39:15,  8.50s/it]\u001b[A\n",
      "100%|█████████▉| 80848/81124 [13:31:40<1:09:22, 15.08s/it]\u001b[A\n",
      "100%|█████████▉| 80849/81124 [13:31:41<50:23, 10.99s/it]  \u001b[A\n",
      "100%|█████████▉| 80850/81124 [13:32:19<1:27:31, 19.17s/it]\u001b[A\n",
      "100%|█████████▉| 80851/81124 [13:32:28<1:13:03, 16.06s/it]\u001b[A\n",
      "100%|█████████▉| 80852/81124 [13:32:28<51:17, 11.31s/it]  \u001b[A\n",
      "100%|█████████▉| 80853/81124 [13:32:55<1:11:06, 15.74s/it]\u001b[A\n",
      "100%|█████████▉| 80854/81124 [13:32:56<51:44, 11.50s/it]  \u001b[A\n",
      "100%|█████████▉| 80855/81124 [13:33:10<55:26, 12.36s/it]\u001b[A\n",
      "100%|█████████▉| 80856/81124 [13:33:34<1:10:36, 15.81s/it]\u001b[A\n",
      "100%|█████████▉| 80857/81124 [13:33:44<1:01:52, 13.90s/it]\u001b[A\n",
      "100%|█████████▉| 80859/81124 [13:33:44<43:03,  9.75s/it]  \u001b[A\n",
      "100%|█████████▉| 80862/81124 [13:33:47<31:00,  7.10s/it]\u001b[A\n",
      "100%|█████████▉| 80863/81124 [13:33:57<34:32,  7.94s/it]\u001b[A\n",
      "100%|█████████▉| 80864/81124 [13:34:07<37:02,  8.55s/it]\u001b[A\n",
      "100%|█████████▉| 80865/81124 [13:34:25<50:21, 11.66s/it]\u001b[A\n",
      "100%|█████████▉| 80866/81124 [13:34:26<36:14,  8.43s/it]\u001b[A\n",
      "100%|█████████▉| 80867/81124 [13:34:27<26:43,  6.24s/it]\u001b[A"
     ]
    },
    {
     "name": "stdout",
     "output_type": "stream",
     "text": [
      "Infected\n"
     ]
    },
    {
     "name": "stderr",
     "output_type": "stream",
     "text": [
      "\n",
      "100%|█████████▉| 80868/81124 [13:34:32<24:17,  5.69s/it]\u001b[A\n",
      "100%|█████████▉| 80869/81124 [13:34:36<22:25,  5.28s/it]\u001b[A"
     ]
    },
    {
     "name": "stdout",
     "output_type": "stream",
     "text": [
      "Infected\n",
      "Infected\n",
      "Infected\n"
     ]
    },
    {
     "name": "stderr",
     "output_type": "stream",
     "text": [
      "\n",
      "100%|█████████▉| 80870/81124 [13:34:43<24:10,  5.71s/it]\u001b[A\n",
      "100%|█████████▉| 80871/81124 [13:34:49<24:08,  5.72s/it]\u001b[A\n",
      "100%|█████████▉| 80872/81124 [13:34:52<20:34,  4.90s/it]\u001b[A\n",
      "100%|█████████▉| 80873/81124 [13:35:40<1:14:28, 17.80s/it]\u001b[A\n",
      "100%|█████████▉| 80874/81124 [13:35:50<1:04:32, 15.49s/it]\u001b[A\n",
      "100%|█████████▉| 80875/81124 [13:35:51<46:03, 11.10s/it]  \u001b[A\n",
      "100%|█████████▉| 80878/81124 [13:35:53<32:50,  8.01s/it]\u001b[A\n",
      "100%|█████████▉| 80882/81124 [13:35:53<22:38,  5.61s/it]\u001b[A\n",
      "100%|█████████▉| 80884/81124 [13:36:06<23:40,  5.92s/it]\u001b[A\n",
      "100%|█████████▉| 80886/81124 [13:36:17<22:36,  5.70s/it]\u001b[A\n",
      "100%|█████████▉| 80887/81124 [13:36:26<27:07,  6.87s/it]\u001b[A\n",
      "100%|█████████▉| 80888/81124 [13:36:30<23:26,  5.96s/it]\u001b[A\n",
      "100%|█████████▉| 80890/81124 [13:36:45<24:49,  6.37s/it]\u001b[A\n",
      "100%|█████████▉| 80894/81124 [13:36:48<18:04,  4.71s/it]\u001b[A"
     ]
    },
    {
     "name": "stdout",
     "output_type": "stream",
     "text": [
      "Infected\n"
     ]
    },
    {
     "name": "stderr",
     "output_type": "stream",
     "text": [
      "\n",
      "100%|█████████▉| 80895/81124 [13:36:58<24:16,  6.36s/it]\u001b[A\n",
      "100%|█████████▉| 80896/81124 [13:36:59<18:06,  4.77s/it]\u001b[A\n",
      "100%|█████████▉| 80897/81124 [13:37:05<18:34,  4.91s/it]\u001b[A"
     ]
    },
    {
     "name": "stdout",
     "output_type": "stream",
     "text": [
      "Infected\n"
     ]
    },
    {
     "name": "stderr",
     "output_type": "stream",
     "text": [
      "\n",
      "100%|█████████▉| 80898/81124 [13:37:16<25:24,  6.74s/it]\u001b[A\n",
      "100%|█████████▉| 80899/81124 [13:37:49<54:41, 14.58s/it]\u001b[A\n",
      "100%|█████████▉| 80901/81124 [13:37:49<38:10, 10.27s/it]\u001b[A\n",
      "100%|█████████▉| 80902/81124 [13:37:51<29:12,  7.89s/it]\u001b[A\n",
      "100%|█████████▉| 80903/81124 [13:37:53<22:30,  6.11s/it]\u001b[A\n",
      "100%|█████████▉| 80904/81124 [13:37:54<16:28,  4.49s/it]\u001b[A\n",
      "100%|█████████▉| 80905/81124 [13:38:02<19:44,  5.41s/it]\u001b[A\n",
      "100%|█████████▉| 80906/81124 [13:38:09<21:23,  5.89s/it]\u001b[A\n",
      "100%|█████████▉| 80907/81124 [13:38:13<19:48,  5.48s/it]\u001b[A\n",
      "100%|█████████▉| 80908/81124 [13:38:14<15:15,  4.24s/it]\u001b[A\n",
      "100%|█████████▉| 80909/81124 [13:38:50<48:26, 13.52s/it]\u001b[A\n",
      "100%|█████████▉| 80911/81124 [13:38:51<34:21,  9.68s/it]\u001b[A\n",
      "100%|█████████▉| 80913/81124 [13:38:53<24:50,  7.06s/it]\u001b[A\n",
      "100%|█████████▉| 80914/81124 [13:39:42<1:08:49, 19.66s/it]\u001b[A\n",
      "100%|█████████▉| 80915/81124 [13:40:14<1:21:46, 23.47s/it]\u001b[A\n",
      "100%|█████████▉| 80916/81124 [13:40:27<1:10:26, 20.32s/it]\u001b[A\n",
      "100%|█████████▉| 80917/81124 [13:41:19<1:42:31, 29.72s/it]\u001b[A\n",
      "100%|█████████▉| 80918/81124 [13:41:20<1:12:26, 21.10s/it]\u001b[A\n",
      "100%|█████████▉| 80919/81124 [13:41:24<55:02, 16.11s/it]  \u001b[A\n",
      "100%|█████████▉| 80920/81124 [13:41:25<39:12, 11.53s/it]\u001b[A\n",
      "100%|█████████▉| 80923/81124 [13:41:52<36:04, 10.77s/it]\u001b[A\n",
      "100%|█████████▉| 80924/81124 [13:42:02<35:05, 10.53s/it]\u001b[A\n",
      "100%|█████████▉| 80925/81124 [13:42:16<38:03, 11.47s/it]\u001b[A\n",
      "100%|█████████▉| 80926/81124 [13:42:19<29:31,  8.95s/it]\u001b[A\n",
      "100%|█████████▉| 80927/81124 [13:42:25<26:28,  8.06s/it]\u001b[A\n",
      "100%|█████████▉| 80929/81124 [13:42:42<26:47,  8.24s/it]\u001b[A\n",
      "100%|█████████▉| 80931/81124 [13:42:59<26:45,  8.32s/it]\u001b[A\n",
      "100%|█████████▉| 80932/81124 [13:43:05<24:28,  7.65s/it]\u001b[A\n",
      "100%|█████████▉| 80933/81124 [13:43:06<17:23,  5.46s/it]\u001b[A\n",
      "100%|█████████▉| 80934/81124 [13:43:07<13:42,  4.33s/it]\u001b[A\n",
      "100%|█████████▉| 80935/81124 [13:43:08<09:54,  3.15s/it]\u001b[A\n",
      "100%|█████████▉| 80936/81124 [13:43:11<09:35,  3.06s/it]\u001b[A\n",
      "100%|█████████▉| 80939/81124 [13:43:29<12:16,  3.98s/it]\u001b[A\n",
      "100%|█████████▉| 80940/81124 [13:43:35<14:03,  4.58s/it]\u001b[A\n",
      "100%|█████████▉| 80941/81124 [13:43:35<10:06,  3.31s/it]\u001b[A\n",
      "100%|█████████▉| 80943/81124 [13:43:37<07:37,  2.53s/it]\u001b[A\n",
      "100%|█████████▉| 80945/81124 [13:43:40<06:34,  2.20s/it]\u001b[A\n",
      "100%|█████████▉| 80946/81124 [13:43:47<11:11,  3.77s/it]\u001b[A\n",
      "100%|█████████▉| 80947/81124 [13:43:51<11:03,  3.75s/it]\u001b[A\n",
      "100%|█████████▉| 80948/81124 [13:43:54<10:44,  3.66s/it]\u001b[A\n",
      "100%|█████████▉| 80949/81124 [13:43:57<09:35,  3.29s/it]\u001b[A\n",
      "100%|█████████▉| 80951/81124 [13:44:43<26:38,  9.24s/it]\u001b[A\n",
      "100%|█████████▉| 80952/81124 [13:44:44<19:55,  6.95s/it]\u001b[A\n",
      "100%|█████████▉| 80953/81124 [13:45:00<27:20,  9.59s/it]\u001b[A\n",
      "100%|█████████▉| 80954/81124 [13:45:07<24:51,  8.77s/it]\u001b[A\n",
      "100%|█████████▉| 80955/81124 [13:45:08<17:57,  6.38s/it]\u001b[A\n",
      "100%|█████████▉| 80956/81124 [13:45:19<22:10,  7.92s/it]\u001b[A\n",
      "100%|█████████▉| 80957/81124 [13:45:25<19:50,  7.13s/it]\u001b[A\n",
      "100%|█████████▉| 80958/81124 [13:46:18<58:04, 20.99s/it]\u001b[A\n",
      "100%|█████████▉| 80960/81124 [13:46:38<48:13, 17.64s/it]\u001b[A\n",
      "100%|█████████▉| 80961/81124 [13:46:53<46:10, 17.00s/it]\u001b[A\n",
      "100%|█████████▉| 80962/81124 [13:46:54<33:06, 12.26s/it]\u001b[A\n",
      "100%|█████████▉| 80963/81124 [13:46:58<25:37,  9.55s/it]\u001b[A\n",
      "100%|█████████▉| 80964/81124 [13:46:58<18:00,  6.76s/it]\u001b[A\n",
      "100%|█████████▉| 80965/81124 [13:46:58<12:51,  4.85s/it]\u001b[A\n",
      "100%|█████████▉| 80966/81124 [13:46:58<09:08,  3.47s/it]\u001b[A\n",
      "100%|█████████▉| 80967/81124 [13:47:02<08:58,  3.43s/it]\u001b[A\n",
      "100%|█████████▉| 80968/81124 [13:47:05<08:26,  3.25s/it]\u001b[A\n",
      "100%|█████████▉| 80969/81124 [13:47:05<06:00,  2.32s/it]\u001b[A\n",
      "100%|█████████▉| 80970/81124 [13:47:23<18:12,  7.09s/it]\u001b[A\n",
      "100%|█████████▉| 80973/81124 [13:47:25<12:54,  5.13s/it]\u001b[A\n",
      "100%|█████████▉| 80974/81124 [13:47:25<09:11,  3.68s/it]\u001b[A\n",
      "100%|█████████▉| 80975/81124 [13:47:56<29:43, 11.97s/it]\u001b[A\n",
      "100%|█████████▉| 80976/81124 [13:48:19<37:47, 15.32s/it]\u001b[A\n",
      "100%|█████████▉| 80977/81124 [13:48:20<26:27, 10.80s/it]\u001b[A\n",
      "100%|█████████▉| 80978/81124 [13:48:29<25:25, 10.45s/it]\u001b[A\n",
      "100%|█████████▉| 80979/81124 [13:49:00<39:38, 16.40s/it]\u001b[A"
     ]
    },
    {
     "name": "stdout",
     "output_type": "stream",
     "text": [
      "Infected\n",
      "Infected\n"
     ]
    },
    {
     "name": "stderr",
     "output_type": "stream",
     "text": [
      "\n",
      "100%|█████████▉| 80981/81124 [13:49:14<32:36, 13.68s/it]\u001b[A\n",
      "100%|█████████▉| 80982/81124 [13:49:21<27:24, 11.58s/it]\u001b[A\n",
      "100%|█████████▉| 80983/81124 [13:49:27<22:58,  9.77s/it]\u001b[A\n",
      "100%|█████████▉| 80984/81124 [13:49:30<18:08,  7.77s/it]\u001b[A\n",
      "100%|█████████▉| 80985/81124 [13:49:35<16:01,  6.92s/it]\u001b[A\n",
      "100%|█████████▉| 80986/81124 [13:49:39<13:57,  6.07s/it]\u001b[A\n",
      "100%|█████████▉| 80987/81124 [13:49:54<19:59,  8.75s/it]\u001b[A"
     ]
    },
    {
     "name": "stdout",
     "output_type": "stream",
     "text": [
      "Infected\n"
     ]
    },
    {
     "name": "stderr",
     "output_type": "stream",
     "text": [
      "\n",
      "100%|█████████▉| 80990/81124 [13:50:14<18:08,  8.12s/it]\u001b[A\n",
      "100%|█████████▉| 80991/81124 [13:50:42<31:44, 14.32s/it]\u001b[A\n",
      "100%|█████████▉| 80993/81124 [13:50:43<21:57, 10.06s/it]\u001b[A\n",
      "100%|█████████▉| 80994/81124 [13:50:44<15:55,  7.35s/it]\u001b[A\n",
      "100%|█████████▉| 80995/81124 [13:51:07<26:00, 12.10s/it]\u001b[A\n",
      "100%|█████████▉| 80997/81124 [13:51:08<18:13,  8.61s/it]\u001b[A\n",
      "100%|█████████▉| 80998/81124 [13:51:08<12:53,  6.14s/it]\u001b[A\n",
      "100%|█████████▉| 80999/81124 [13:51:23<18:29,  8.88s/it]\u001b[A\n",
      "100%|█████████▉| 81001/81124 [13:51:26<13:39,  6.66s/it]\u001b[A\n",
      "100%|█████████▉| 81002/81124 [13:51:28<10:12,  5.02s/it]\u001b[A\n",
      "100%|█████████▉| 81003/81124 [13:51:49<19:44,  9.79s/it]\u001b[A\n",
      "100%|█████████▉| 81004/81124 [13:51:51<15:11,  7.59s/it]\u001b[A\n",
      "100%|█████████▉| 81005/81124 [13:52:06<19:32,  9.85s/it]\u001b[A\n",
      "100%|█████████▉| 81006/81124 [13:52:06<13:43,  6.98s/it]\u001b[A\n",
      "100%|█████████▉| 81007/81124 [13:52:22<18:32,  9.51s/it]\u001b[A\n",
      "100%|█████████▉| 81008/81124 [13:52:26<15:03,  7.79s/it]\u001b[A\n",
      "100%|█████████▉| 81009/81124 [13:52:59<29:30, 15.39s/it]\u001b[A\n",
      "100%|█████████▉| 81010/81124 [13:53:03<22:47, 12.00s/it]\u001b[A\n",
      "100%|█████████▉| 81011/81124 [13:53:04<16:30,  8.77s/it]\u001b[A\n",
      "100%|█████████▉| 81012/81124 [13:53:12<15:47,  8.46s/it]\u001b[A\n",
      "100%|█████████▉| 81013/81124 [13:53:57<36:06, 19.51s/it]\u001b[A\n",
      "100%|█████████▉| 81014/81124 [13:54:33<44:58, 24.53s/it]\u001b[A\n",
      "100%|█████████▉| 81015/81124 [13:54:36<32:47, 18.05s/it]\u001b[A\n",
      "100%|█████████▉| 81016/81124 [13:54:38<23:45, 13.20s/it]\u001b[A\n",
      "100%|█████████▉| 81017/81124 [13:54:41<18:02, 10.12s/it]\u001b[A\n",
      "100%|█████████▉| 81020/81124 [13:54:44<12:49,  7.40s/it]\u001b[A\n",
      "100%|█████████▉| 81021/81124 [13:54:47<10:29,  6.11s/it]\u001b[A\n",
      "100%|█████████▉| 81022/81124 [13:55:04<16:02,  9.44s/it]\u001b[A\n",
      "100%|█████████▉| 81023/81124 [13:55:20<18:43, 11.12s/it]\u001b[A\n",
      "100%|█████████▉| 81024/81124 [13:55:21<13:56,  8.36s/it]\u001b[A\n",
      "100%|█████████▉| 81025/81124 [13:56:00<28:49, 17.47s/it]\u001b[A\n",
      "100%|█████████▉| 81026/81124 [13:56:07<23:18, 14.27s/it]\u001b[A"
     ]
    },
    {
     "name": "stdout",
     "output_type": "stream",
     "text": [
      "Infected\n",
      "Infected\n"
     ]
    },
    {
     "name": "stderr",
     "output_type": "stream",
     "text": [
      "\n",
      "100%|█████████▉| 81027/81124 [13:56:34<29:03, 17.98s/it]\u001b[A\n",
      "100%|█████████▉| 81028/81124 [13:56:38<22:16, 13.92s/it]\u001b[A"
     ]
    },
    {
     "name": "stdout",
     "output_type": "stream",
     "text": [
      "Infected\n"
     ]
    },
    {
     "name": "stderr",
     "output_type": "stream",
     "text": [
      "\n",
      "100%|█████████▉| 81029/81124 [13:56:39<16:04, 10.15s/it]\u001b[A\n",
      "100%|█████████▉| 81030/81124 [13:56:41<11:40,  7.45s/it]\u001b[A\n",
      "100%|█████████▉| 81031/81124 [13:57:04<19:09, 12.36s/it]\u001b[A\n",
      "100%|█████████▉| 81032/81124 [13:57:18<19:20, 12.62s/it]\u001b[A\n",
      "100%|█████████▉| 81033/81124 [13:57:18<13:33,  8.94s/it]\u001b[A\n",
      "100%|█████████▉| 81035/81124 [13:57:21<09:51,  6.65s/it]\u001b[A\n",
      "100%|█████████▉| 81036/81124 [13:57:21<06:56,  4.73s/it]\u001b[A\n",
      "100%|█████████▉| 81037/81124 [13:57:25<06:32,  4.51s/it]\u001b[A\n",
      "100%|█████████▉| 81038/81124 [13:57:34<08:37,  6.02s/it]\u001b[A\n",
      "100%|█████████▉| 81039/81124 [13:57:36<06:52,  4.85s/it]\u001b[A\n",
      "100%|█████████▉| 81040/81124 [13:58:18<22:18, 15.94s/it]\u001b[A\n",
      "100%|█████████▉| 81042/81124 [13:59:30<29:54, 21.88s/it]\u001b[A\n",
      "100%|█████████▉| 81046/81124 [14:00:08<23:37, 18.17s/it]\u001b[A\n",
      "100%|█████████▉| 81047/81124 [14:00:09<16:48, 13.10s/it]\u001b[A\n",
      "100%|█████████▉| 81048/81124 [14:00:15<13:59, 11.05s/it]\u001b[A\n",
      "100%|█████████▉| 81049/81124 [14:00:18<10:34,  8.46s/it]\u001b[A\n",
      "100%|█████████▉| 81050/81124 [14:00:31<12:15,  9.94s/it]\u001b[A\n",
      "100%|█████████▉| 81052/81124 [14:01:07<14:44, 12.28s/it]\u001b[A\n",
      "100%|█████████▉| 81053/81124 [14:01:07<10:26,  8.83s/it]\u001b[A\n",
      "100%|█████████▉| 81054/81124 [14:02:02<26:25, 22.65s/it]\u001b[A\n",
      "100%|█████████▉| 81055/81124 [14:02:16<22:52, 19.89s/it]\u001b[A\n",
      "100%|█████████▉| 81056/81124 [14:02:16<15:52, 14.01s/it]\u001b[A\n",
      "100%|█████████▉| 81057/81124 [14:02:41<19:13, 17.21s/it]\u001b[A\n",
      "100%|█████████▉| 81058/81124 [14:03:20<26:15, 23.86s/it]\u001b[A"
     ]
    },
    {
     "name": "stdout",
     "output_type": "stream",
     "text": [
      "Infected\n"
     ]
    },
    {
     "name": "stderr",
     "output_type": "stream",
     "text": [
      "\n",
      "100%|█████████▉| 81059/81124 [14:03:22<18:49, 17.37s/it]\u001b[A\n",
      "100%|█████████▉| 81060/81124 [14:03:36<17:10, 16.10s/it]\u001b[A\n",
      "100%|█████████▉| 81061/81124 [14:03:37<12:16, 11.69s/it]\u001b[A"
     ]
    },
    {
     "name": "stdout",
     "output_type": "stream",
     "text": [
      "Infected\n",
      "Infected\n"
     ]
    },
    {
     "name": "stderr",
     "output_type": "stream",
     "text": [
      "\n",
      "100%|█████████▉| 81062/81124 [14:04:08<17:57, 17.38s/it]\u001b[A\n",
      "100%|█████████▉| 81063/81124 [14:04:09<12:40, 12.46s/it]\u001b[A\n",
      "100%|█████████▉| 81064/81124 [14:04:09<09:00,  9.00s/it]\u001b[A\n",
      "100%|█████████▉| 81066/81124 [14:04:12<06:27,  6.69s/it]\u001b[A\n",
      "100%|█████████▉| 81067/81124 [14:04:18<06:02,  6.36s/it]\u001b[A\n",
      "100%|█████████▉| 81069/81124 [14:04:45<07:48,  8.52s/it]\u001b[A\n",
      "100%|█████████▉| 81070/81124 [14:04:45<05:26,  6.04s/it]\u001b[A\n",
      "100%|█████████▉| 81071/81124 [14:04:51<05:13,  5.91s/it]\u001b[A\n",
      "100%|█████████▉| 81072/81124 [14:04:57<05:11,  5.98s/it]\u001b[A\n",
      "100%|█████████▉| 81073/81124 [14:04:58<03:52,  4.56s/it]\u001b[A\n",
      "100%|█████████▉| 81074/81124 [14:05:09<05:18,  6.37s/it]\u001b[A\n",
      "100%|█████████▉| 81075/81124 [14:05:09<03:50,  4.71s/it]\u001b[A\n",
      "100%|█████████▉| 81077/81124 [14:05:20<03:47,  4.84s/it]\u001b[A\n",
      "100%|█████████▉| 81078/81124 [14:05:21<02:54,  3.79s/it]\u001b[A\n",
      "100%|█████████▉| 81079/81124 [14:05:26<03:09,  4.22s/it]\u001b[A\n",
      "100%|█████████▉| 81080/81124 [14:05:28<02:36,  3.55s/it]\u001b[A\n",
      "100%|█████████▉| 81081/81124 [14:05:43<05:02,  7.04s/it]\u001b[A\n",
      "100%|█████████▉| 81083/81124 [14:05:46<03:37,  5.29s/it]\u001b[A\n",
      "100%|█████████▉| 81084/81124 [14:06:06<06:31,  9.79s/it]\u001b[A\n",
      "100%|█████████▉| 81085/81124 [14:06:07<04:36,  7.08s/it]\u001b[A\n",
      "100%|█████████▉| 81086/81124 [14:06:16<04:52,  7.71s/it]\u001b[A\n",
      "100%|█████████▉| 81087/81124 [14:06:47<09:06, 14.78s/it]\u001b[A\n",
      "100%|█████████▉| 81089/81124 [14:06:49<06:08, 10.53s/it]\u001b[A\n",
      "100%|█████████▉| 81090/81124 [14:07:01<06:13, 10.99s/it]\u001b[A\n",
      "100%|█████████▉| 81092/81124 [14:07:02<04:11,  7.87s/it]\u001b[A\n",
      "100%|█████████▉| 81093/81124 [14:07:03<03:00,  5.83s/it]\u001b[A\n",
      "100%|█████████▉| 81094/81124 [14:08:11<12:10, 24.35s/it]\u001b[A\n",
      "100%|█████████▉| 81097/81124 [14:08:11<07:42, 17.13s/it]\u001b[A\n",
      "100%|█████████▉| 81099/81124 [14:08:23<05:41, 13.67s/it]\u001b[A\n",
      "100%|█████████▉| 81100/81124 [14:08:23<03:51,  9.65s/it]\u001b[A\n",
      "100%|█████████▉| 81101/81124 [14:08:38<04:19, 11.27s/it]\u001b[A\n",
      "100%|█████████▉| 81102/81124 [14:08:38<02:55,  7.96s/it]\u001b[A"
     ]
    },
    {
     "name": "stdout",
     "output_type": "stream",
     "text": [
      "Infected\n",
      "Infected\n",
      "Infected\n",
      "Infected\n",
      "Infected\n"
     ]
    },
    {
     "name": "stderr",
     "output_type": "stream",
     "text": [
      "\n",
      "100%|█████████▉| 81103/81124 [14:08:52<03:25,  9.78s/it]\u001b[A"
     ]
    },
    {
     "name": "stdout",
     "output_type": "stream",
     "text": [
      "Infected\n"
     ]
    },
    {
     "name": "stderr",
     "output_type": "stream",
     "text": [
      "\n",
      "100%|█████████▉| 81104/81124 [14:09:10<04:05, 12.27s/it]\u001b[A\n",
      "100%|█████████▉| 81105/81124 [14:09:11<02:48,  8.89s/it]\u001b[A\n",
      "100%|█████████▉| 81106/81124 [14:09:12<01:57,  6.51s/it]\u001b[A\n",
      "100%|█████████▉| 81107/81124 [14:09:18<01:44,  6.17s/it]\u001b[A\n",
      "100%|█████████▉| 81108/81124 [14:09:25<01:45,  6.60s/it]\u001b[A"
     ]
    },
    {
     "name": "stdout",
     "output_type": "stream",
     "text": [
      "Infected\n"
     ]
    },
    {
     "name": "stderr",
     "output_type": "stream",
     "text": [
      "\n",
      "100%|█████████▉| 81109/81124 [14:09:35<01:52,  7.49s/it]\u001b[A"
     ]
    },
    {
     "name": "stdout",
     "output_type": "stream",
     "text": [
      "Infected\n"
     ]
    },
    {
     "name": "stderr",
     "output_type": "stream",
     "text": [
      "\n",
      "100%|█████████▉| 81110/81124 [14:09:44<01:53,  8.11s/it]\u001b[A\n",
      "100%|█████████▉| 81111/81124 [14:10:00<02:15, 10.45s/it]\u001b[A\n",
      "100%|█████████▉| 81112/81124 [14:10:02<01:34,  7.89s/it]\u001b[A\n",
      "100%|█████████▉| 81113/81124 [14:10:03<01:03,  5.79s/it]\u001b[A"
     ]
    },
    {
     "name": "stdout",
     "output_type": "stream",
     "text": [
      "Infected\n"
     ]
    },
    {
     "name": "stderr",
     "output_type": "stream",
     "text": [
      "\n",
      "100%|█████████▉| 81114/81124 [14:10:05<00:45,  4.53s/it]\u001b[A"
     ]
    },
    {
     "name": "stdout",
     "output_type": "stream",
     "text": [
      "Infected\n"
     ]
    },
    {
     "name": "stderr",
     "output_type": "stream",
     "text": [
      "\n",
      "100%|█████████▉| 81115/81124 [14:10:14<00:53,  5.95s/it]\u001b[A\n",
      "100%|█████████▉| 81116/81124 [14:10:23<00:56,  7.06s/it]\u001b[A"
     ]
    },
    {
     "name": "stdout",
     "output_type": "stream",
     "text": [
      "Infected\n",
      "Infected\n"
     ]
    },
    {
     "name": "stderr",
     "output_type": "stream",
     "text": [
      "\n",
      "100%|█████████▉| 81118/81124 [14:10:35<00:39,  6.65s/it]\u001b[A\n",
      "100%|█████████▉| 81121/81124 [14:10:38<00:14,  4.92s/it]\u001b[A\n",
      "100%|█████████▉| 81122/81124 [14:10:38<00:07,  3.57s/it]\u001b[A\n",
      "100%|█████████▉| 81123/81124 [14:10:40<00:03,  3.09s/it]\u001b[A\n",
      "100%|██████████| 81124/81124 [14:11:05<00:00,  9.81s/it]\u001b[A"
     ]
    },
    {
     "name": "stdout",
     "output_type": "stream",
     "text": [
      "Simulation finished after 851.1 minutes\n"
     ]
    }
   ],
   "source": [
    "total_time_duration = 450\n",
    "interval = 30\n",
    "#current_time = 360\n",
    "current_time = 420\n",
    "#current_time = 480\n",
    "#current_time = 540\n",
    "#current_time = 720\n",
    "\n",
    "\n",
    "\n",
    "\n",
    "features = initial_features\n",
    "network_simulation = initial_dataset\n",
    "id_set = set(network_simulation['id'].tolist())\n",
    "\n",
    "print(\"Simulation started\")\n",
    "start_time = time.time()\n",
    "\n",
    "\n",
    "while current_time < total_time_duration:\n",
    "    print(f\"current_time:{current_time}\")\n",
    "    #network_simulation = simulation(features,initial_dataset,network_simulation,current_time)\n",
    "    network_simulation = simulation(features,initial_dataset,network_simulation,current_time)\n",
    "    #print(f\"current_time:{current_time}\")\n",
    "    current_time += interval\n",
    "    \n",
    "print(f\"Simulation finished after {round((time.time() - start_time)/60,2)} minutes\")\n",
    "    \n"
   ]
  },
  {
   "cell_type": "code",
   "execution_count": 48,
   "metadata": {},
   "outputs": [
    {
     "name": "stderr",
     "output_type": "stream",
     "text": [
      "\n",
      "  0%|          | 0/82690 [00:00<?, ?it/s]\u001b[A\n",
      "  5%|▍         | 4002/82690 [00:00<00:01, 40011.17it/s]\u001b[A\n",
      "  9%|▉         | 7847/82690 [00:00<00:01, 39527.00it/s]\u001b[A\n",
      " 14%|█▎        | 11360/82690 [00:00<00:01, 38095.55it/s]\u001b[A\n",
      " 18%|█▊        | 15170/82690 [00:00<00:01, 38094.61it/s]\u001b[A\n",
      " 23%|██▎       | 19007/82690 [00:00<00:01, 38174.84it/s]\u001b[A\n",
      " 28%|██▊       | 22905/82690 [00:00<00:01, 38412.67it/s]\u001b[A\n",
      " 32%|███▏      | 26733/82690 [00:00<00:01, 38372.17it/s]\u001b[A\n",
      " 37%|███▋      | 30483/82690 [00:00<00:01, 38104.67it/s]\u001b[A\n",
      " 41%|████▏     | 34211/82690 [00:00<00:01, 37853.25it/s]\u001b[A\n",
      " 46%|████▌     | 37858/82690 [00:01<00:01, 37425.99it/s]\u001b[A\n",
      " 50%|█████     | 41654/82690 [00:01<00:01, 37582.28it/s]\u001b[A\n",
      " 55%|█████▍    | 45359/82690 [00:01<00:00, 37420.98it/s]\u001b[A\n",
      " 59%|█████▉    | 49048/82690 [00:01<00:00, 36538.34it/s]\u001b[A\n",
      " 64%|██████▎   | 52669/82690 [00:01<00:00, 35674.84it/s]\u001b[A\n",
      " 68%|██████▊   | 56218/82690 [00:01<00:00, 35303.07it/s]\u001b[A\n",
      " 72%|███████▏  | 59747/82690 [00:01<00:00, 35297.69it/s]\u001b[A\n",
      " 77%|███████▋  | 63269/82690 [00:01<00:00, 34477.74it/s]\u001b[A\n",
      " 81%|████████  | 66716/82690 [00:01<00:00, 34347.19it/s]\u001b[A\n",
      " 85%|████████▍ | 70150/82690 [00:01<00:00, 34053.64it/s]\u001b[A\n",
      " 89%|████████▉ | 73798/82690 [00:02<00:00, 34745.98it/s]\u001b[A\n",
      " 89%|████████▉ | 73798/82690 [00:15<00:00, 34745.98it/s]\u001b[A\n",
      " 92%|█████████▏| 76107/82690 [00:26<00:21, 308.68it/s]  \u001b[A\n",
      " 92%|█████████▏| 76107/82690 [00:45<00:21, 308.68it/s]\u001b[A\n",
      " 92%|█████████▏| 76111/82690 [00:48<2:59:42,  1.64s/it]\u001b[A\n",
      " 92%|█████████▏| 76112/82690 [01:40<30:19:27, 16.60s/it]\u001b[A\n",
      " 92%|█████████▏| 76113/82690 [01:52<28:05:12, 15.37s/it]\u001b[A\n",
      " 92%|█████████▏| 76114/82690 [01:57<22:10:30, 12.14s/it]\u001b[A\n",
      " 92%|█████████▏| 76115/82690 [02:18<27:07:33, 14.85s/it]\u001b[A\n",
      " 92%|█████████▏| 76116/82690 [02:18<19:10:44, 10.50s/it]\u001b[A\n",
      " 92%|█████████▏| 76117/82690 [02:24<16:32:47,  9.06s/it]\u001b[A\n",
      " 92%|█████████▏| 76118/82690 [02:35<17:37:21,  9.65s/it]\u001b[A\n",
      " 92%|█████████▏| 76119/82690 [03:03<27:40:59, 15.17s/it]\u001b[A\n",
      " 92%|█████████▏| 76120/82690 [03:05<20:17:24, 11.12s/it]\u001b[A\n",
      " 92%|█████████▏| 76121/82690 [03:46<36:44:12, 20.13s/it]\u001b[A\n",
      " 92%|█████████▏| 76122/82690 [03:46<25:47:38, 14.14s/it]\u001b[A\n",
      " 92%|█████████▏| 76124/82690 [03:46<18:08:30,  9.95s/it]\u001b[A\n",
      " 92%|█████████▏| 76125/82690 [03:51<15:12:20,  8.34s/it]\u001b[A\n",
      " 92%|█████████▏| 76126/82690 [04:00<15:31:22,  8.51s/it]\u001b[A\n",
      " 92%|█████████▏| 76127/82690 [04:09<15:42:07,  8.61s/it]\u001b[A\n",
      " 92%|█████████▏| 76128/82690 [04:35<25:12:34, 13.83s/it]\u001b[A\n",
      " 92%|█████████▏| 76129/82690 [04:39<20:14:00, 11.10s/it]\u001b[A\n",
      " 92%|█████████▏| 76130/82690 [05:07<29:05:34, 15.97s/it]\u001b[A\n",
      " 92%|█████████▏| 76132/82690 [05:08<20:40:48, 11.35s/it]\u001b[A\n",
      " 92%|█████████▏| 76133/82690 [05:32<27:50:23, 15.28s/it]\u001b[A\n",
      " 92%|█████████▏| 76134/82690 [05:33<19:54:47, 10.93s/it]\u001b[A\n",
      " 92%|█████████▏| 76135/82690 [06:02<29:48:52, 16.37s/it]\u001b[A\n",
      " 92%|█████████▏| 76136/82690 [06:03<21:01:08, 11.55s/it]\u001b[A\n",
      " 92%|█████████▏| 76138/82690 [06:03<14:48:57,  8.14s/it]\u001b[A\n",
      " 92%|█████████▏| 76139/82690 [06:13<15:41:03,  8.62s/it]\u001b[A\n",
      " 92%|█████████▏| 76140/82690 [06:13<11:10:46,  6.14s/it]\u001b[A\n",
      " 92%|█████████▏| 76141/82690 [06:17<9:55:20,  5.45s/it] \u001b[A\n",
      " 92%|█████████▏| 76142/82690 [06:17<7:12:14,  3.96s/it]\u001b[A\n",
      " 92%|█████████▏| 76143/82690 [06:50<22:36:54, 12.44s/it]\u001b[A\n",
      " 92%|█████████▏| 76145/82690 [06:52<16:21:33,  9.00s/it]\u001b[A\n",
      " 92%|█████████▏| 76146/82690 [06:58<15:09:11,  8.34s/it]\u001b[A\n",
      " 92%|█████████▏| 76148/82690 [07:02<11:42:11,  6.44s/it]\u001b[A\n",
      " 92%|█████████▏| 76149/82690 [07:05<9:48:44,  5.40s/it] \u001b[A\n",
      " 92%|█████████▏| 76150/82690 [07:20<14:45:53,  8.13s/it]\u001b[A\n",
      " 92%|█████████▏| 76152/82690 [07:24<11:27:29,  6.31s/it]\u001b[A\n",
      " 92%|█████████▏| 76153/82690 [07:46<20:00:51, 11.02s/it]\u001b[A\n",
      " 92%|█████████▏| 76154/82690 [08:04<23:36:18, 13.00s/it]\u001b[A\n",
      " 92%|█████████▏| 76155/82690 [08:10<19:46:40, 10.90s/it]\u001b[A\n",
      " 92%|█████████▏| 76156/82690 [08:19<18:56:12, 10.43s/it]\u001b[A\n",
      " 92%|█████████▏| 76157/82690 [08:29<18:53:51, 10.41s/it]\u001b[A\n",
      " 92%|█████████▏| 76158/82690 [09:03<31:22:26, 17.29s/it]\u001b[A\n",
      " 92%|█████████▏| 76159/82690 [09:03<22:03:30, 12.16s/it]\u001b[A\n",
      " 92%|█████████▏| 76161/82690 [09:11<17:43:53,  9.78s/it]\u001b[A\n",
      " 92%|█████████▏| 76162/82690 [09:13<13:11:55,  7.28s/it]\u001b[A\n",
      " 92%|█████████▏| 76163/82690 [09:17<11:18:42,  6.24s/it]\u001b[A\n",
      " 92%|█████████▏| 76164/82690 [09:30<15:23:59,  8.50s/it]\u001b[A\n",
      " 92%|█████████▏| 76165/82690 [09:46<19:11:43, 10.59s/it]\u001b[A\n",
      " 92%|█████████▏| 76166/82690 [09:55<18:39:51, 10.30s/it]\u001b[A\n",
      " 92%|█████████▏| 76168/82690 [09:59<14:09:49,  7.82s/it]\u001b[A\n",
      " 92%|█████████▏| 76170/82690 [10:06<11:43:49,  6.48s/it]\u001b[A\n",
      " 92%|█████████▏| 76171/82690 [10:26<18:57:55, 10.47s/it]\u001b[A\n",
      " 92%|█████████▏| 76172/82690 [10:27<13:51:01,  7.65s/it]\u001b[A\n",
      " 92%|█████████▏| 76173/82690 [10:30<11:05:20,  6.13s/it]\u001b[A\n",
      " 92%|█████████▏| 76174/82690 [10:42<14:17:45,  7.90s/it]\u001b[A\n",
      " 92%|█████████▏| 76175/82690 [10:44<11:13:28,  6.20s/it]\u001b[A\n",
      " 92%|█████████▏| 76176/82690 [10:53<12:56:55,  7.16s/it]\u001b[A\n",
      " 92%|█████████▏| 76177/82690 [11:11<18:32:07, 10.25s/it]\u001b[A\n",
      " 92%|█████████▏| 76178/82690 [11:11<13:24:43,  7.41s/it]\u001b[A\n",
      " 92%|█████████▏| 76179/82690 [11:17<12:09:44,  6.72s/it]\u001b[A\n",
      " 92%|█████████▏| 76180/82690 [11:47<25:01:01, 13.83s/it]\u001b[A\n",
      " 92%|█████████▏| 76181/82690 [11:48<18:01:49,  9.97s/it]\u001b[A\n",
      " 92%|█████████▏| 76182/82690 [11:53<15:27:04,  8.55s/it]\u001b[A\n",
      " 92%|█████████▏| 76183/82690 [11:55<11:47:45,  6.53s/it]\u001b[A\n",
      " 92%|█████████▏| 76184/82690 [12:32<28:13:56, 15.62s/it]\u001b[A\n",
      " 92%|█████████▏| 76185/82690 [12:48<28:31:28, 15.79s/it]\u001b[A\n",
      " 92%|█████████▏| 76187/82690 [12:52<21:05:29, 11.68s/it]\u001b[A\n",
      " 92%|█████████▏| 76188/82690 [12:52<14:53:05,  8.24s/it]\u001b[A\n",
      " 92%|█████████▏| 76189/82690 [12:54<11:23:56,  6.31s/it]\u001b[A\n",
      " 92%|█████████▏| 76190/82690 [13:01<11:30:05,  6.37s/it]\u001b[A\n",
      " 92%|█████████▏| 76191/82690 [13:06<11:04:53,  6.14s/it]\u001b[A\n",
      " 92%|█████████▏| 76192/82690 [13:46<29:01:12, 16.08s/it]\u001b[A\n",
      " 92%|█████████▏| 76193/82690 [13:46<20:28:48, 11.35s/it]\u001b[A\n",
      " 92%|█████████▏| 76194/82690 [14:37<42:14:24, 23.41s/it]\u001b[A\n",
      " 92%|█████████▏| 76196/82690 [14:39<29:57:29, 16.61s/it]\u001b[A\n",
      " 92%|█████████▏| 76197/82690 [14:40<21:24:12, 11.87s/it]\u001b[A\n",
      " 92%|█████████▏| 76198/82690 [15:07<29:59:14, 16.63s/it]\u001b[A\n",
      " 92%|█████████▏| 76199/82690 [15:17<25:54:04, 14.37s/it]\u001b[A\n",
      " 92%|█████████▏| 76200/82690 [15:21<20:16:10, 11.24s/it]\u001b[A\n",
      " 92%|█████████▏| 76201/82690 [15:22<14:43:33,  8.17s/it]\u001b[A\n",
      " 92%|█████████▏| 76202/82690 [15:24<11:53:43,  6.60s/it]\u001b[A\n",
      " 92%|█████████▏| 76203/82690 [15:28<10:02:35,  5.57s/it]\u001b[A\n",
      " 92%|█████████▏| 76204/82690 [16:12<30:49:07, 17.11s/it]\u001b[A\n",
      " 92%|█████████▏| 76205/82690 [16:14<22:40:35, 12.59s/it]\u001b[A\n",
      " 92%|█████████▏| 76206/82690 [16:59<40:06:25, 22.27s/it]\u001b[A\n",
      " 92%|█████████▏| 76207/82690 [17:00<28:47:12, 15.99s/it]\u001b[A\n",
      " 92%|█████████▏| 76208/82690 [17:01<21:00:57, 11.67s/it]\u001b[A\n",
      " 92%|█████████▏| 76209/82690 [17:07<17:27:22,  9.70s/it]\u001b[A\n",
      " 92%|█████████▏| 76211/82690 [17:31<18:41:22, 10.38s/it]\u001b[A\n",
      " 92%|█████████▏| 76212/82690 [17:43<19:37:20, 10.90s/it]\u001b[A\n",
      " 92%|█████████▏| 76213/82690 [17:43<13:48:49,  7.68s/it]\u001b[A\n",
      " 92%|█████████▏| 76214/82690 [17:44<10:13:13,  5.68s/it]\u001b[A\n",
      " 92%|█████████▏| 76215/82690 [17:44<7:18:00,  4.06s/it] \u001b[A\n",
      " 92%|█████████▏| 76216/82690 [17:49<7:36:23,  4.23s/it]\u001b[A\n",
      " 92%|█████████▏| 76218/82690 [17:53<6:32:50,  3.64s/it]\u001b[A\n",
      " 92%|█████████▏| 76219/82690 [17:54<5:07:33,  2.85s/it]\u001b[A\n",
      " 92%|█████████▏| 76222/82690 [17:54<3:36:31,  2.01s/it]\u001b[A\n",
      " 92%|█████████▏| 76223/82690 [17:55<2:39:24,  1.48s/it]\u001b[A\n",
      " 92%|█████████▏| 76224/82690 [18:06<7:49:31,  4.36s/it]\u001b[A\n",
      " 92%|█████████▏| 76225/82690 [18:13<9:21:59,  5.22s/it]\u001b[A\n",
      " 92%|█████████▏| 76226/82690 [18:15<7:38:16,  4.25s/it]\u001b[A\n",
      " 92%|█████████▏| 76227/82690 [18:27<11:41:43,  6.51s/it]\u001b[A\n",
      " 92%|█████████▏| 76228/82690 [18:29<9:23:56,  5.24s/it] \u001b[A\n",
      " 92%|█████████▏| 76229/82690 [18:32<8:00:55,  4.47s/it]\u001b[A\n",
      " 92%|█████████▏| 76230/82690 [18:36<8:05:53,  4.51s/it]\u001b[A\n",
      " 92%|█████████▏| 76231/82690 [18:42<8:55:18,  4.97s/it]\u001b[A\n",
      " 92%|█████████▏| 76232/82690 [18:44<7:12:17,  4.02s/it]\u001b[A\n",
      " 92%|█████████▏| 76233/82690 [18:49<7:39:41,  4.27s/it]\u001b[A\n",
      " 92%|█████████▏| 76234/82690 [18:52<6:53:39,  3.84s/it]\u001b[A\n",
      " 92%|█████████▏| 76235/82690 [18:53<5:21:28,  2.99s/it]\u001b[A\n",
      " 92%|█████████▏| 76238/82690 [18:55<4:09:58,  2.32s/it]\u001b[A\n",
      " 92%|█████████▏| 76239/82690 [18:55<3:00:36,  1.68s/it]\u001b[A\n",
      " 92%|█████████▏| 76240/82690 [19:25<18:01:26, 10.06s/it]\u001b[A\n",
      " 92%|█████████▏| 76242/82690 [19:36<15:36:10,  8.71s/it]\u001b[A\n",
      " 92%|█████████▏| 76243/82690 [20:20<34:37:06, 19.33s/it]\u001b[A\n",
      " 92%|█████████▏| 76245/82690 [20:26<25:44:15, 14.38s/it]\u001b[A\n",
      " 92%|█████████▏| 76247/82690 [20:28<18:30:08, 10.34s/it]\u001b[A\n",
      " 92%|█████████▏| 76248/82690 [20:45<22:15:55, 12.44s/it]\u001b[A\n",
      " 92%|█████████▏| 76249/82690 [20:54<20:37:25, 11.53s/it]\u001b[A\n",
      " 92%|█████████▏| 76251/82690 [20:56<14:44:23,  8.24s/it]\u001b[A\n",
      " 92%|█████████▏| 76252/82690 [21:11<18:37:29, 10.41s/it]\u001b[A\n",
      " 92%|█████████▏| 76253/82690 [22:01<39:48:00, 22.26s/it]\u001b[A\n",
      " 92%|█████████▏| 76254/82690 [22:02<28:25:24, 15.90s/it]\u001b[A\n",
      " 92%|█████████▏| 76255/82690 [22:15<26:38:57, 14.91s/it]\u001b[A\n",
      " 92%|█████████▏| 76256/82690 [22:21<22:04:08, 12.35s/it]\u001b[A\n",
      " 92%|█████████▏| 76257/82690 [22:45<28:09:25, 15.76s/it]\u001b[A\n",
      " 92%|█████████▏| 76258/82690 [22:49<21:53:55, 12.26s/it]\u001b[A\n",
      " 92%|█████████▏| 76259/82690 [22:50<15:53:40,  8.90s/it]\u001b[A\n",
      " 92%|█████████▏| 76260/82690 [23:16<25:19:57, 14.18s/it]\u001b[A\n",
      " 92%|█████████▏| 76261/82690 [23:23<21:30:53, 12.05s/it]\u001b[A\n",
      " 92%|█████████▏| 76262/82690 [23:25<15:43:22,  8.81s/it]\u001b[A\n",
      " 92%|█████████▏| 76264/82690 [23:26<11:28:50,  6.43s/it]\u001b[A\n",
      " 92%|█████████▏| 76265/82690 [23:27<8:29:52,  4.76s/it] \u001b[A\n",
      " 92%|█████████▏| 76266/82690 [24:14<30:56:49, 17.34s/it]\u001b[A\n",
      " 92%|█████████▏| 76267/82690 [24:48<39:55:35, 22.38s/it]\u001b[A\n",
      " 92%|█████████▏| 76270/82690 [24:58<29:38:39, 16.62s/it]\u001b[A\n",
      " 92%|█████████▏| 76271/82690 [25:28<37:00:10, 20.75s/it]\u001b[A\n",
      " 92%|█████████▏| 76272/82690 [25:30<26:58:13, 15.13s/it]\u001b[A\n",
      " 92%|█████████▏| 76273/82690 [25:32<19:50:01, 11.13s/it]\u001b[A\n",
      " 92%|█████████▏| 76274/82690 [25:36<15:53:20,  8.92s/it]\u001b[A\n",
      " 92%|█████████▏| 76275/82690 [25:41<13:56:44,  7.83s/it]\u001b[A\n",
      " 92%|█████████▏| 76276/82690 [26:02<21:16:37, 11.94s/it]\u001b[A\n",
      " 92%|█████████▏| 76277/82690 [26:08<17:38:30,  9.90s/it]\u001b[A\n",
      " 92%|█████████▏| 76278/82690 [26:49<34:27:28, 19.35s/it]\u001b[A\n",
      " 92%|█████████▏| 76283/82690 [27:02<25:32:00, 14.35s/it]\u001b[A\n",
      " 92%|█████████▏| 76285/82690 [27:16<21:37:44, 12.16s/it]\u001b[A\n",
      " 92%|█████████▏| 76286/82690 [27:21<17:48:19, 10.01s/it]\u001b[A\n",
      " 92%|█████████▏| 76287/82690 [27:24<13:36:03,  7.65s/it]\u001b[A\n",
      " 92%|█████████▏| 76288/82690 [27:31<13:11:30,  7.42s/it]\u001b[A\n",
      " 92%|█████████▏| 76289/82690 [27:35<11:38:27,  6.55s/it]\u001b[A\n",
      " 92%|█████████▏| 76291/82690 [27:35<8:10:49,  4.60s/it] \u001b[A\n",
      " 92%|█████████▏| 76292/82690 [27:51<14:18:08,  8.05s/it]\u001b[A\n",
      " 92%|█████████▏| 76293/82690 [27:52<10:09:55,  5.72s/it]\u001b[A\n",
      " 92%|█████████▏| 76294/82690 [27:57<9:58:30,  5.61s/it] \u001b[A\n",
      " 92%|█████████▏| 76295/82690 [28:02<9:40:49,  5.45s/it]\u001b[A\n",
      " 92%|█████████▏| 76296/82690 [28:02<6:56:10,  3.91s/it]\u001b[A\n",
      " 92%|█████████▏| 76298/82690 [28:04<5:16:39,  2.97s/it]\u001b[A\n",
      " 92%|█████████▏| 76299/82690 [28:04<3:49:47,  2.16s/it]\u001b[A\n",
      " 92%|█████████▏| 76300/82690 [28:09<5:01:26,  2.83s/it]\u001b[A\n",
      " 92%|█████████▏| 76301/82690 [28:11<4:35:55,  2.59s/it]\u001b[A\n",
      " 92%|█████████▏| 76302/82690 [28:16<6:08:16,  3.46s/it]\u001b[A\n",
      " 92%|█████████▏| 76303/82690 [28:26<9:39:35,  5.44s/it]\u001b[A\n",
      " 92%|█████████▏| 76304/82690 [28:27<7:26:38,  4.20s/it]\u001b[A\n",
      " 92%|█████████▏| 76305/82690 [28:28<5:26:26,  3.07s/it]\u001b[A\n",
      " 92%|█████████▏| 76306/82690 [28:39<9:59:40,  5.64s/it]\u001b[A\n",
      " 92%|█████████▏| 76307/82690 [29:18<27:32:17, 15.53s/it]\u001b[A\n",
      " 92%|█████████▏| 76308/82690 [29:31<26:15:04, 14.81s/it]\u001b[A\n",
      " 92%|█████████▏| 76309/82690 [29:32<18:33:54, 10.47s/it]\u001b[A\n",
      " 92%|█████████▏| 76310/82690 [30:12<34:14:51, 19.32s/it]\u001b[A\n",
      " 92%|█████████▏| 76311/82690 [30:14<25:21:17, 14.31s/it]\u001b[A\n",
      " 92%|█████████▏| 76312/82690 [30:42<32:18:50, 18.24s/it]\u001b[A\n",
      " 92%|█████████▏| 76313/82690 [30:42<22:41:28, 12.81s/it]\u001b[A\n",
      " 92%|█████████▏| 76314/82690 [30:43<16:22:09,  9.24s/it]\u001b[A\n",
      " 92%|█████████▏| 76315/82690 [31:15<28:53:15, 16.31s/it]\u001b[A\n",
      " 92%|█████████▏| 76316/82690 [31:16<20:25:36, 11.54s/it]\u001b[A\n",
      " 92%|█████████▏| 76317/82690 [31:54<34:41:42, 19.60s/it]\u001b[A\n",
      " 92%|█████████▏| 76319/82690 [31:56<24:50:21, 14.04s/it]\u001b[A\n",
      " 92%|█████████▏| 76320/82690 [32:26<32:56:01, 18.61s/it]\u001b[A\n",
      " 92%|█████████▏| 76322/82690 [32:26<23:08:02, 13.08s/it]\u001b[A\n",
      " 92%|█████████▏| 76324/82690 [32:35<18:42:45, 10.58s/it]\u001b[A\n",
      " 92%|█████████▏| 76325/82690 [33:14<33:23:13, 18.88s/it]\u001b[A\n",
      " 92%|█████████▏| 76326/82690 [33:35<34:53:39, 19.74s/it]\u001b[A\n",
      " 92%|█████████▏| 76328/82690 [33:49<27:55:21, 15.80s/it]\u001b[A\n",
      " 92%|█████████▏| 76329/82690 [34:28<40:16:26, 22.79s/it]\u001b[A\n",
      " 92%|█████████▏| 76330/82690 [34:29<28:47:24, 16.30s/it]\u001b[A\n",
      " 92%|█████████▏| 76331/82690 [34:33<22:17:12, 12.62s/it]\u001b[A\n",
      " 92%|█████████▏| 76332/82690 [34:44<21:25:08, 12.13s/it]\u001b[A\n",
      " 92%|█████████▏| 76334/82690 [34:45<15:16:47,  8.65s/it]\u001b[A\n",
      " 92%|█████████▏| 76335/82690 [35:18<28:07:45, 15.93s/it]\u001b[A\n",
      " 92%|█████████▏| 76336/82690 [35:22<21:36:29, 12.24s/it]\u001b[A\n",
      " 92%|█████████▏| 76337/82690 [35:24<16:21:38,  9.27s/it]\u001b[A\n",
      " 92%|█████████▏| 76338/82690 [35:27<13:16:08,  7.52s/it]\u001b[A\n",
      " 92%|█████████▏| 76340/82690 [35:49<15:00:07,  8.51s/it]\u001b[A\n",
      " 92%|█████████▏| 76341/82690 [36:03<17:44:44, 10.06s/it]\u001b[A\n",
      " 92%|█████████▏| 76342/82690 [36:04<12:53:01,  7.31s/it]\u001b[A\n",
      " 92%|█████████▏| 76343/82690 [36:58<37:35:25, 21.32s/it]\u001b[A\n",
      " 92%|█████████▏| 76344/82690 [37:03<29:21:58, 16.66s/it]\u001b[A\n",
      " 92%|█████████▏| 76345/82690 [37:12<24:57:57, 14.17s/it]\u001b[A\n",
      " 92%|█████████▏| 76346/82690 [37:13<18:21:36, 10.42s/it]\u001b[A\n",
      " 92%|█████████▏| 76347/82690 [37:29<21:00:45, 11.93s/it]\u001b[A\n",
      " 92%|█████████▏| 76349/82690 [37:32<15:26:17,  8.76s/it]\u001b[A\n",
      " 92%|█████████▏| 76350/82690 [37:32<10:54:05,  6.19s/it]\u001b[A\n",
      " 92%|█████████▏| 76351/82690 [37:32<7:42:19,  4.38s/it] \u001b[A\n",
      " 92%|█████████▏| 76352/82690 [37:32<5:27:35,  3.10s/it]\u001b[A\n",
      " 92%|█████████▏| 76353/82690 [37:41<8:33:07,  4.86s/it]\u001b[A\n",
      " 92%|█████████▏| 76354/82690 [37:42<6:31:08,  3.70s/it]\u001b[A\n",
      " 92%|█████████▏| 76355/82690 [37:43<4:59:19,  2.83s/it]\u001b[A\n",
      " 92%|█████████▏| 76356/82690 [37:57<10:46:39,  6.13s/it]\u001b[A\n",
      " 92%|█████████▏| 76357/82690 [38:43<32:03:45, 18.23s/it]\u001b[A\n",
      " 92%|█████████▏| 76358/82690 [38:57<29:34:44, 16.82s/it]\u001b[A\n",
      " 92%|█████████▏| 76360/82690 [39:00<21:35:42, 12.28s/it]\u001b[A\n",
      " 92%|█████████▏| 76361/82690 [39:02<16:02:08,  9.12s/it]\u001b[A\n",
      " 92%|█████████▏| 76362/82690 [39:24<23:07:05, 13.15s/it]\u001b[A\n",
      " 92%|█████████▏| 76364/82690 [39:26<16:31:03,  9.40s/it]\u001b[A\n",
      " 92%|█████████▏| 76365/82690 [39:26<11:59:45,  6.83s/it]\u001b[A\n",
      " 92%|█████████▏| 76366/82690 [39:27<8:33:47,  4.87s/it] \u001b[A\n",
      " 92%|█████████▏| 76367/82690 [39:27<6:06:38,  3.48s/it]\u001b[A\n",
      " 92%|█████████▏| 76368/82690 [39:28<4:47:50,  2.73s/it]\u001b[A\n",
      " 92%|█████████▏| 76371/82690 [39:39<5:15:03,  2.99s/it]\u001b[A\n",
      " 92%|█████████▏| 76373/82690 [39:39<3:44:50,  2.14s/it]\u001b[A\n",
      " 92%|█████████▏| 76374/82690 [39:45<5:43:35,  3.26s/it]\u001b[A\n",
      " 92%|█████████▏| 76375/82690 [39:45<4:13:45,  2.41s/it]\u001b[A\n",
      " 92%|█████████▏| 76376/82690 [40:03<12:14:12,  6.98s/it]\u001b[A\n",
      " 92%|█████████▏| 76377/82690 [40:03<8:44:42,  4.99s/it] \u001b[A\n",
      " 92%|█████████▏| 76378/82690 [40:03<6:11:22,  3.53s/it]\u001b[A\n",
      " 92%|█████████▏| 76379/82690 [40:15<10:33:03,  6.02s/it]\u001b[A\n",
      " 92%|█████████▏| 76380/82690 [40:24<11:55:00,  6.80s/it]\u001b[A\n",
      " 92%|█████████▏| 76381/82690 [40:43<18:25:05, 10.51s/it]\u001b[A\n",
      " 92%|█████████▏| 76382/82690 [40:46<14:18:48,  8.17s/it]\u001b[A\n",
      " 92%|█████████▏| 76383/82690 [41:26<31:11:21, 17.80s/it]\u001b[A\n",
      " 92%|█████████▏| 76384/82690 [41:27<22:26:06, 12.81s/it]\u001b[A\n",
      " 92%|█████████▏| 76385/82690 [41:30<17:06:42,  9.77s/it]\u001b[A\n",
      " 92%|█████████▏| 76386/82690 [41:40<17:19:35,  9.89s/it]\u001b[A\n",
      " 92%|█████████▏| 76387/82690 [41:43<13:27:12,  7.68s/it]\u001b[A\n",
      " 92%|█████████▏| 76388/82690 [41:53<14:41:47,  8.40s/it]\u001b[A\n",
      " 92%|█████████▏| 76389/82690 [41:57<12:35:22,  7.19s/it]\u001b[A\n",
      " 92%|█████████▏| 76390/82690 [42:09<14:50:43,  8.48s/it]\u001b[A\n",
      " 92%|█████████▏| 76391/82690 [42:24<18:15:05, 10.43s/it]\u001b[A\n",
      " 92%|█████████▏| 76392/82690 [42:24<12:54:27,  7.38s/it]\u001b[A\n",
      " 92%|█████████▏| 76393/82690 [42:28<11:17:24,  6.45s/it]\u001b[A\n",
      " 92%|█████████▏| 76394/82690 [42:37<12:22:09,  7.07s/it]\u001b[A\n",
      " 92%|█████████▏| 76395/82690 [42:39<9:47:34,  5.60s/it] \u001b[A\n",
      " 92%|█████████▏| 76396/82690 [43:04<20:09:35, 11.53s/it]\u001b[A\n",
      " 92%|█████████▏| 76397/82690 [43:04<14:15:45,  8.16s/it]\u001b[A\n",
      " 92%|█████████▏| 76398/82690 [43:42<29:54:57, 17.12s/it]\u001b[A\n",
      " 92%|█████████▏| 76399/82690 [43:48<23:43:56, 13.58s/it]\u001b[A\n",
      " 92%|█████████▏| 76400/82690 [43:48<16:41:33,  9.55s/it]\u001b[A\n",
      " 92%|█████████▏| 76401/82690 [43:48<11:45:32,  6.73s/it]\u001b[A\n",
      " 92%|█████████▏| 76402/82690 [43:57<12:45:22,  7.30s/it]\u001b[A\n"
     ]
    },
    {
     "name": "stderr",
     "output_type": "stream",
     "text": [
      " 92%|█████████▏| 76404/82690 [44:11<12:45:04,  7.30s/it]\u001b[A\n",
      " 92%|█████████▏| 76405/82690 [44:17<11:53:00,  6.81s/it]\u001b[A\n",
      " 92%|█████████▏| 76406/82690 [44:29<14:40:12,  8.40s/it]\u001b[A\n",
      " 92%|█████████▏| 76407/82690 [44:33<12:22:55,  7.09s/it]\u001b[A\n",
      " 92%|█████████▏| 76408/82690 [44:35<9:40:35,  5.55s/it] \u001b[A\n",
      " 92%|█████████▏| 76410/82690 [45:06<14:58:17,  8.58s/it]\u001b[A\n",
      " 92%|█████████▏| 76411/82690 [45:09<11:35:37,  6.65s/it]\u001b[A\n",
      " 92%|█████████▏| 76413/82690 [45:10<8:32:37,  4.90s/it] \u001b[A\n",
      " 92%|█████████▏| 76414/82690 [45:20<10:55:31,  6.27s/it]\u001b[A\n",
      " 92%|█████████▏| 76415/82690 [45:22<8:55:23,  5.12s/it] \u001b[A\n",
      " 92%|█████████▏| 76416/82690 [45:23<6:53:18,  3.95s/it]\u001b[A\n",
      " 92%|█████████▏| 76417/82690 [45:24<5:22:40,  3.09s/it]\u001b[A\n",
      " 92%|█████████▏| 76418/82690 [45:26<4:49:58,  2.77s/it]\u001b[A\n",
      " 92%|█████████▏| 76420/82690 [45:32<4:55:59,  2.83s/it]\u001b[A\n",
      " 92%|█████████▏| 76421/82690 [45:37<5:47:03,  3.32s/it]\u001b[A\n",
      " 92%|█████████▏| 76422/82690 [45:54<12:47:18,  7.35s/it]\u001b[A\n",
      " 92%|█████████▏| 76423/82690 [45:55<9:30:31,  5.46s/it] \u001b[A\n",
      " 92%|█████████▏| 76424/82690 [45:59<9:09:48,  5.26s/it]\u001b[A\n",
      " 92%|█████████▏| 76425/82690 [46:12<12:56:21,  7.44s/it]\u001b[A\n",
      " 92%|█████████▏| 76426/82690 [46:57<32:43:56, 18.81s/it]\u001b[A\n",
      " 92%|█████████▏| 76427/82690 [46:57<22:59:36, 13.22s/it]\u001b[A\n",
      " 92%|█████████▏| 76428/82690 [46:58<16:19:11,  9.38s/it]\u001b[A\n",
      " 92%|█████████▏| 76429/82690 [48:14<51:16:46, 29.49s/it]\u001b[A\n",
      " 92%|█████████▏| 76430/82690 [48:16<36:47:21, 21.16s/it]\u001b[A\n",
      " 92%|█████████▏| 76431/82690 [49:21<59:26:01, 34.18s/it]\u001b[A\n",
      " 92%|█████████▏| 76432/82690 [50:16<70:27:09, 40.53s/it]\u001b[A\n",
      " 92%|█████████▏| 76434/82690 [50:16<49:24:09, 28.43s/it]\u001b[A\n",
      " 92%|█████████▏| 76435/82690 [50:31<42:24:26, 24.41s/it]\u001b[A\n",
      " 92%|█████████▏| 76436/82690 [50:32<29:50:26, 17.18s/it]\u001b[A\n",
      " 92%|█████████▏| 76437/82690 [50:33<21:46:56, 12.54s/it]\u001b[A\n",
      " 92%|█████████▏| 76438/82690 [50:34<15:29:10,  8.92s/it]\u001b[A\n",
      " 92%|█████████▏| 76439/82690 [50:38<12:56:37,  7.45s/it]\u001b[A\n",
      " 92%|█████████▏| 76440/82690 [50:44<12:02:27,  6.94s/it]\u001b[A\n",
      " 92%|█████████▏| 76441/82690 [51:05<19:43:38, 11.36s/it]\u001b[A\n",
      " 92%|█████████▏| 76442/82690 [51:36<29:53:27, 17.22s/it]\u001b[A\n",
      " 92%|█████████▏| 76443/82690 [51:37<21:27:28, 12.37s/it]\u001b[A\n",
      " 92%|█████████▏| 76444/82690 [51:40<16:22:00,  9.43s/it]\u001b[A\n",
      " 92%|█████████▏| 76445/82690 [51:40<11:34:44,  6.67s/it]\u001b[A\n",
      " 92%|█████████▏| 76446/82690 [51:41<8:51:02,  5.10s/it] \u001b[A\n",
      " 92%|█████████▏| 76447/82690 [51:59<15:18:26,  8.83s/it]\u001b[A\n",
      " 92%|█████████▏| 76448/82690 [52:29<26:10:02, 15.09s/it]\u001b[A\n",
      " 92%|█████████▏| 76449/82690 [52:39<23:49:35, 13.74s/it]\u001b[A\n",
      " 92%|█████████▏| 76450/82690 [53:25<40:23:28, 23.30s/it]\u001b[A\n",
      " 92%|█████████▏| 76451/82690 [53:26<28:52:35, 16.66s/it]\u001b[A\n",
      " 92%|█████████▏| 76452/82690 [53:32<23:32:09, 13.58s/it]\u001b[A\n",
      " 92%|█████████▏| 76453/82690 [53:55<28:07:10, 16.23s/it]\u001b[A\n",
      " 92%|█████████▏| 76454/82690 [53:55<19:49:22, 11.44s/it]\u001b[A\n",
      " 92%|█████████▏| 76456/82690 [53:55<13:55:24,  8.04s/it]\u001b[A\n",
      " 92%|█████████▏| 76457/82690 [53:58<10:55:25,  6.31s/it]\u001b[A\n",
      " 92%|█████████▏| 76458/82690 [54:06<12:14:32,  7.07s/it]\u001b[A\n",
      " 92%|█████████▏| 76459/82690 [54:08<9:21:53,  5.41s/it] \u001b[A\n",
      " 92%|█████████▏| 76460/82690 [54:09<7:03:38,  4.08s/it]\u001b[A\n",
      " 92%|█████████▏| 76461/82690 [54:12<6:19:29,  3.66s/it]\u001b[A\n",
      " 92%|█████████▏| 76464/82690 [54:17<5:25:40,  3.14s/it]\u001b[A\n",
      " 92%|█████████▏| 76465/82690 [54:52<21:30:49, 12.44s/it]\u001b[A\n",
      " 92%|█████████▏| 76466/82690 [54:59<18:57:00, 10.96s/it]\u001b[A\n",
      " 92%|█████████▏| 76467/82690 [55:01<14:15:16,  8.25s/it]\u001b[A\n",
      " 92%|█████████▏| 76468/82690 [55:02<10:38:19,  6.16s/it]\u001b[A\n",
      " 92%|█████████▏| 76469/82690 [55:07<9:44:19,  5.64s/it] \u001b[A\n",
      " 92%|█████████▏| 76470/82690 [55:11<8:50:10,  5.11s/it]\u001b[A\n",
      " 92%|█████████▏| 76471/82690 [55:12<6:51:04,  3.97s/it]\u001b[A\n",
      " 92%|█████████▏| 76473/82690 [55:13<5:03:02,  2.92s/it]\u001b[A\n",
      " 92%|█████████▏| 76474/82690 [55:50<23:00:23, 13.32s/it]\u001b[A\n",
      " 92%|█████████▏| 76475/82690 [55:51<16:33:14,  9.59s/it]\u001b[A\n",
      " 92%|█████████▏| 76476/82690 [55:53<12:13:05,  7.08s/it]\u001b[A\n",
      " 92%|█████████▏| 76477/82690 [55:54<9:10:54,  5.32s/it] \u001b[A\n",
      " 92%|█████████▏| 76478/82690 [56:20<19:53:13, 11.53s/it]\u001b[A\n",
      " 92%|█████████▏| 76479/82690 [56:21<14:20:55,  8.32s/it]\u001b[A\n",
      " 92%|█████████▏| 76480/82690 [56:25<12:14:47,  7.10s/it]\u001b[A\n",
      " 92%|█████████▏| 76481/82690 [56:29<10:49:01,  6.27s/it]\u001b[A\n",
      " 92%|█████████▏| 76482/82690 [56:40<13:24:17,  7.77s/it]\u001b[A\n",
      " 92%|█████████▏| 76483/82690 [56:43<10:28:38,  6.08s/it]\u001b[A\n",
      " 92%|█████████▏| 76484/82690 [56:44<8:07:16,  4.71s/it] \u001b[A\n",
      " 92%|█████████▏| 76485/82690 [56:48<7:47:25,  4.52s/it]\u001b[A\n",
      " 92%|█████████▏| 76486/82690 [56:49<5:39:56,  3.29s/it]\u001b[A\n",
      " 92%|█████████▏| 76488/82690 [56:49<4:02:03,  2.34s/it]\u001b[A\n",
      " 93%|█████████▎| 76490/82690 [56:49<2:54:41,  1.69s/it]\u001b[A\n",
      " 93%|█████████▎| 76492/82690 [56:51<2:23:13,  1.39s/it]\u001b[A\n",
      " 93%|█████████▎| 76493/82690 [56:55<4:08:39,  2.41s/it]\u001b[A\n",
      " 93%|█████████▎| 76496/82690 [57:26<8:12:46,  4.77s/it]\u001b[A\n",
      " 93%|█████████▎| 76497/82690 [57:36<10:31:31,  6.12s/it]\u001b[A\n",
      " 93%|█████████▎| 76498/82690 [57:36<7:46:49,  4.52s/it] \u001b[A\n",
      " 93%|█████████▎| 76499/82690 [57:55<15:20:17,  8.92s/it]\u001b[A\n",
      " 93%|█████████▎| 76500/82690 [57:59<12:46:45,  7.43s/it]\u001b[A\n",
      " 93%|█████████▎| 76501/82690 [58:54<37:08:42, 21.61s/it]\u001b[A\n",
      " 93%|█████████▎| 76502/82690 [58:58<27:48:15, 16.18s/it]\u001b[A\n",
      " 93%|█████████▎| 76503/82690 [59:47<44:47:56, 26.07s/it]\u001b[A\n",
      " 93%|█████████▎| 76504/82690 [1:00:18<47:36:25, 27.71s/it]\u001b[A\n",
      " 93%|█████████▎| 76505/82690 [1:00:19<33:31:35, 19.51s/it]\u001b[A\n",
      " 93%|█████████▎| 76507/82690 [1:00:20<23:44:42, 13.83s/it]\u001b[A\n",
      " 93%|█████████▎| 76508/82690 [1:00:23<18:11:28, 10.59s/it]\u001b[A\n",
      " 93%|█████████▎| 76509/82690 [1:00:23<12:57:58,  7.55s/it]\u001b[A\n",
      " 93%|█████████▎| 76511/82690 [1:00:24<9:18:50,  5.43s/it] \u001b[A\n",
      " 93%|█████████▎| 76514/82690 [1:01:13<14:49:39,  8.64s/it]\u001b[A\n",
      " 93%|█████████▎| 76515/82690 [1:01:14<11:10:12,  6.51s/it]\u001b[A\n",
      " 93%|█████████▎| 76516/82690 [1:01:34<17:47:52, 10.38s/it]\u001b[A\n",
      " 93%|█████████▎| 76518/82690 [1:01:35<12:46:30,  7.45s/it]\u001b[A\n",
      " 93%|█████████▎| 76520/82690 [1:01:36<9:08:21,  5.33s/it] \u001b[A\n",
      " 93%|█████████▎| 76521/82690 [1:01:38<7:24:07,  4.32s/it]\u001b[A\n",
      " 93%|█████████▎| 76522/82690 [1:01:43<7:57:43,  4.65s/it]\u001b[A\n",
      " 93%|█████████▎| 76523/82690 [1:01:58<13:05:28,  7.64s/it]\u001b[A\n",
      " 93%|█████████▎| 76524/82690 [1:01:58<9:18:47,  5.44s/it] \u001b[A\n",
      " 93%|█████████▎| 76525/82690 [1:02:00<7:19:11,  4.27s/it]\u001b[A\n",
      " 93%|█████████▎| 76526/82690 [1:02:16<13:47:20,  8.05s/it]\u001b[A\n",
      " 93%|█████████▎| 76527/82690 [1:02:24<13:26:58,  7.86s/it]\u001b[A\n",
      " 93%|█████████▎| 76529/82690 [1:02:25<9:43:33,  5.68s/it] \u001b[A\n",
      " 93%|█████████▎| 76530/82690 [1:02:26<7:12:02,  4.21s/it]\u001b[A\n",
      " 93%|█████████▎| 76531/82690 [1:03:10<27:29:45, 16.07s/it]\u001b[A\n",
      " 93%|█████████▎| 76532/82690 [1:03:35<32:13:01, 18.83s/it]\u001b[A\n",
      " 93%|█████████▎| 76533/82690 [1:03:38<24:18:44, 14.22s/it]\u001b[A\n",
      " 93%|█████████▎| 76534/82690 [1:03:39<17:24:05, 10.18s/it]\u001b[A\n",
      " 93%|█████████▎| 76535/82690 [1:04:00<22:50:37, 13.36s/it]\u001b[A\n",
      " 93%|█████████▎| 76536/82690 [1:04:01<16:38:07,  9.73s/it]\u001b[A\n",
      " 93%|█████████▎| 76538/82690 [1:04:19<16:11:05,  9.47s/it]\u001b[A\n",
      " 93%|█████████▎| 76539/82690 [1:04:20<11:58:11,  7.01s/it]\u001b[A\n",
      " 93%|█████████▎| 76540/82690 [1:04:21<8:52:07,  5.19s/it] \u001b[A\n",
      " 93%|█████████▎| 76542/82690 [1:04:23<6:50:59,  4.01s/it]\u001b[A\n",
      " 93%|█████████▎| 76543/82690 [1:04:26<6:13:53,  3.65s/it]\u001b[A\n",
      " 93%|█████████▎| 76544/82690 [1:04:26<4:25:54,  2.60s/it]\u001b[A\n",
      " 93%|█████████▎| 76545/82690 [1:04:31<5:17:49,  3.10s/it]\u001b[A\n",
      " 93%|█████████▎| 76546/82690 [1:04:32<4:24:49,  2.59s/it]\u001b[A\n",
      " 93%|█████████▎| 76547/82690 [1:04:41<7:42:28,  4.52s/it]\u001b[A\n",
      " 93%|█████████▎| 76548/82690 [1:05:11<20:32:24, 12.04s/it]\u001b[A\n",
      " 93%|█████████▎| 76549/82690 [1:05:12<15:15:01,  8.94s/it]\u001b[A\n",
      " 93%|█████████▎| 76550/82690 [1:05:21<15:16:54,  8.96s/it]\u001b[A\n",
      " 93%|█████████▎| 76551/82690 [1:05:32<15:53:04,  9.31s/it]\u001b[A\n",
      " 93%|█████████▎| 76552/82690 [1:05:33<11:52:44,  6.97s/it]\u001b[A\n",
      " 93%|█████████▎| 76553/82690 [1:05:36<9:49:51,  5.77s/it] \u001b[A\n",
      " 93%|█████████▎| 76554/82690 [1:05:39<8:31:24,  5.00s/it]\u001b[A\n",
      " 93%|█████████▎| 76555/82690 [1:05:41<6:43:46,  3.95s/it]\u001b[A\n",
      " 93%|█████████▎| 76556/82690 [1:05:47<7:45:14,  4.55s/it]\u001b[A\n",
      " 93%|█████████▎| 76557/82690 [1:06:22<23:17:26, 13.67s/it]\u001b[A\n",
      " 93%|█████████▎| 76558/82690 [1:06:23<16:46:37,  9.85s/it]\u001b[A\n",
      " 93%|█████████▎| 76559/82690 [1:06:27<14:14:43,  8.36s/it]\u001b[A\n",
      " 93%|█████████▎| 76560/82690 [1:06:49<20:46:01, 12.20s/it]\u001b[A\n",
      " 93%|█████████▎| 76561/82690 [1:07:31<36:07:26, 21.22s/it]\u001b[A\n",
      " 93%|█████████▎| 76562/82690 [1:07:32<26:03:33, 15.31s/it]\u001b[A\n",
      " 93%|█████████▎| 76564/82690 [1:07:43<20:56:20, 12.31s/it]\u001b[A\n",
      " 93%|█████████▎| 76565/82690 [1:07:44<15:11:57,  8.93s/it]\u001b[A\n",
      " 93%|█████████▎| 76566/82690 [1:07:46<11:23:15,  6.69s/it]\u001b[A\n",
      " 93%|█████████▎| 76568/82690 [1:08:08<13:46:44,  8.10s/it]\u001b[A\n",
      " 93%|█████████▎| 76569/82690 [1:08:11<11:09:42,  6.56s/it]\u001b[A\n",
      " 93%|█████████▎| 76570/82690 [1:08:16<10:15:02,  6.03s/it]\u001b[A\n",
      " 93%|█████████▎| 76571/82690 [1:08:18<8:16:18,  4.87s/it] \u001b[A\n",
      " 93%|█████████▎| 76572/82690 [1:08:20<6:50:04,  4.02s/it]\u001b[A\n",
      " 93%|█████████▎| 76573/82690 [1:08:25<7:01:28,  4.13s/it]\u001b[A\n",
      " 93%|█████████▎| 76574/82690 [1:08:30<7:48:33,  4.60s/it]\u001b[A\n",
      " 93%|█████████▎| 76575/82690 [1:08:31<5:35:57,  3.30s/it]\u001b[A\n",
      " 93%|█████████▎| 76576/82690 [1:08:53<15:14:07,  8.97s/it]\u001b[A\n",
      " 93%|█████████▎| 76577/82690 [1:09:05<16:37:12,  9.79s/it]\u001b[A\n",
      " 93%|█████████▎| 76578/82690 [1:09:06<12:17:32,  7.24s/it]\u001b[A\n",
      " 93%|█████████▎| 76580/82690 [1:09:17<11:33:33,  6.81s/it]\u001b[A\n",
      " 93%|█████████▎| 76581/82690 [1:09:26<12:38:12,  7.45s/it]\u001b[A\n",
      " 93%|█████████▎| 76582/82690 [1:09:32<11:56:35,  7.04s/it]\u001b[A\n",
      " 93%|█████████▎| 76583/82690 [1:09:34<9:01:57,  5.32s/it] \u001b[A\n",
      " 93%|█████████▎| 76585/82690 [1:09:36<6:54:08,  4.07s/it]\u001b[A\n",
      " 93%|█████████▎| 76586/82690 [1:09:53<13:25:00,  7.91s/it]\u001b[A\n",
      " 93%|█████████▎| 76587/82690 [1:09:53<9:30:16,  5.61s/it] \u001b[A\n",
      " 93%|█████████▎| 76588/82690 [1:09:56<8:07:49,  4.80s/it]\u001b[A\n",
      " 93%|█████████▎| 76589/82690 [1:09:58<6:49:55,  4.03s/it]\u001b[A\n",
      " 93%|█████████▎| 76591/82690 [1:10:27<12:06:26,  7.15s/it]\u001b[A\n",
      " 93%|█████████▎| 76592/82690 [1:11:01<25:28:15, 15.04s/it]\u001b[A\n",
      " 93%|█████████▎| 76593/82690 [1:11:16<25:50:16, 15.26s/it]\u001b[A\n",
      " 93%|█████████▎| 76594/82690 [1:11:24<21:46:53, 12.86s/it]\u001b[A\n",
      " 93%|█████████▎| 76595/82690 [1:11:32<19:42:35, 11.64s/it]\u001b[A\n",
      " 93%|█████████▎| 76596/82690 [1:11:37<16:08:29,  9.54s/it]\u001b[A\n",
      " 93%|█████████▎| 76597/82690 [1:11:41<13:15:46,  7.84s/it]\u001b[A\n",
      " 93%|█████████▎| 76598/82690 [1:11:57<17:21:44, 10.26s/it]\u001b[A\n",
      " 93%|█████████▎| 76600/82690 [1:11:58<12:23:53,  7.33s/it]\u001b[A\n",
      " 93%|█████████▎| 76602/82690 [1:11:59<8:52:56,  5.25s/it] \u001b[A\n",
      " 93%|█████████▎| 76603/82690 [1:12:10<11:54:35,  7.04s/it]\u001b[A\n",
      " 93%|█████████▎| 76604/82690 [1:12:15<10:46:11,  6.37s/it]\u001b[A\n",
      " 93%|█████████▎| 76605/82690 [1:12:15<7:46:34,  4.60s/it] \u001b[A\n",
      " 93%|█████████▎| 76606/82690 [1:12:16<6:07:35,  3.63s/it]\u001b[A\n",
      " 93%|█████████▎| 76609/82690 [1:12:24<5:30:38,  3.26s/it]\u001b[A\n",
      " 93%|█████████▎| 76610/82690 [1:12:45<14:34:14,  8.63s/it]\u001b[A\n",
      " 93%|█████████▎| 76611/82690 [1:12:46<11:00:27,  6.52s/it]\u001b[A\n",
      " 93%|█████████▎| 76612/82690 [1:13:34<31:53:19, 18.89s/it]\u001b[A\n",
      " 93%|█████████▎| 76613/82690 [1:13:38<24:23:22, 14.45s/it]\u001b[A\n",
      " 93%|█████████▎| 76614/82690 [1:13:42<19:04:12, 11.30s/it]\u001b[A\n",
      " 93%|█████████▎| 76615/82690 [1:13:43<13:49:17,  8.19s/it]\u001b[A\n",
      " 93%|█████████▎| 76616/82690 [1:13:44<10:06:49,  5.99s/it]\u001b[A\n",
      " 93%|█████████▎| 76617/82690 [1:13:56<13:17:35,  7.88s/it]\u001b[A\n",
      " 93%|█████████▎| 76618/82690 [1:14:09<15:32:15,  9.21s/it]\u001b[A\n",
      " 93%|█████████▎| 76622/82690 [1:14:20<12:15:20,  7.27s/it]\u001b[A\n",
      " 93%|█████████▎| 76623/82690 [1:14:27<12:17:08,  7.29s/it]\u001b[A\n",
      " 93%|█████████▎| 76624/82690 [1:14:58<24:02:19, 14.27s/it]\u001b[A\n",
      " 93%|█████████▎| 76625/82690 [1:15:30<33:19:00, 19.78s/it]\u001b[A\n",
      " 93%|█████████▎| 76626/82690 [1:15:31<23:46:10, 14.11s/it]\u001b[A\n",
      " 93%|█████████▎| 76628/82690 [1:15:39<18:42:16, 11.11s/it]\u001b[A\n",
      " 93%|█████████▎| 76629/82690 [1:16:00<23:36:10, 14.02s/it]\u001b[A\n",
      " 93%|█████████▎| 76630/82690 [1:16:07<19:59:49, 11.88s/it]\u001b[A\n",
      " 93%|█████████▎| 76632/82690 [1:16:17<16:37:09,  9.88s/it]\u001b[A\n",
      " 93%|█████████▎| 76633/82690 [1:16:18<12:01:43,  7.15s/it]\u001b[A\n",
      " 93%|█████████▎| 76634/82690 [1:16:20<9:16:05,  5.51s/it] \u001b[A\n",
      " 93%|█████████▎| 76635/82690 [1:16:30<11:33:46,  6.87s/it]\u001b[A\n",
      " 93%|█████████▎| 76636/82690 [1:16:32<9:04:46,  5.40s/it] \u001b[A\n",
      " 93%|█████████▎| 76637/82690 [1:16:33<6:55:16,  4.12s/it]\u001b[A\n",
      " 93%|█████████▎| 76638/82690 [1:16:33<5:05:03,  3.02s/it]\u001b[A\n",
      " 93%|█████████▎| 76639/82690 [1:16:34<4:02:52,  2.41s/it]\u001b[A\n",
      " 93%|█████████▎| 76640/82690 [1:16:37<3:55:43,  2.34s/it]\u001b[A\n",
      " 93%|█████████▎| 76641/82690 [1:16:38<3:14:00,  1.92s/it]\u001b[A\n",
      " 93%|█████████▎| 76642/82690 [1:16:49<8:10:51,  4.87s/it]\u001b[A\n",
      " 93%|█████████▎| 76643/82690 [1:16:52<7:04:03,  4.21s/it]\u001b[A\n",
      " 93%|█████████▎| 76644/82690 [1:16:52<5:00:11,  2.98s/it]\u001b[A\n",
      " 93%|█████████▎| 76645/82690 [1:16:56<5:20:55,  3.19s/it]\u001b[A\n",
      " 93%|█████████▎| 76646/82690 [1:17:01<6:37:57,  3.95s/it]\u001b[A\n",
      " 93%|█████████▎| 76647/82690 [1:17:11<9:20:11,  5.56s/it]\u001b[A\n",
      " 93%|█████████▎| 76648/82690 [1:17:16<9:12:11,  5.48s/it]\u001b[A\n",
      " 93%|█████████▎| 76649/82690 [1:17:20<8:33:36,  5.10s/it]\u001b[A\n",
      " 93%|█████████▎| 76650/82690 [1:17:26<8:58:20,  5.35s/it]\u001b[A\n",
      " 93%|█████████▎| 76651/82690 [1:17:28<7:08:38,  4.26s/it]\u001b[A\n",
      " 93%|█████████▎| 76652/82690 [1:17:30<6:06:10,  3.64s/it]\u001b[A\n",
      " 93%|█████████▎| 76653/82690 [1:17:36<7:07:39,  4.25s/it]\u001b[A\n",
      " 93%|█████████▎| 76654/82690 [1:17:37<5:21:21,  3.19s/it]\u001b[A\n",
      " 93%|█████████▎| 76655/82690 [1:17:37<4:06:59,  2.46s/it]\u001b[A\n",
      " 93%|█████████▎| 76656/82690 [1:17:38<3:01:53,  1.81s/it]\u001b[A\n",
      " 93%|█████████▎| 76657/82690 [1:17:40<3:16:29,  1.95s/it]\u001b[A\n",
      " 93%|█████████▎| 76658/82690 [1:18:20<22:34:20, 13.47s/it]\u001b[A\n",
      " 93%|█████████▎| 76659/82690 [1:18:28<19:44:12, 11.78s/it]\u001b[A\n",
      " 93%|█████████▎| 76660/82690 [1:18:30<14:50:52,  8.86s/it]\u001b[A\n",
      " 93%|█████████▎| 76661/82690 [1:18:42<16:12:02,  9.67s/it]\u001b[A\n",
      " 93%|█████████▎| 76662/82690 [1:18:43<11:59:45,  7.16s/it]\u001b[A\n",
      " 93%|█████████▎| 76663/82690 [1:18:44<8:51:05,  5.29s/it] \u001b[A\n",
      " 93%|█████████▎| 76664/82690 [1:19:24<26:24:29, 15.78s/it]\u001b[A\n",
      " 93%|█████████▎| 76665/82690 [1:19:25<18:41:23, 11.17s/it]\u001b[A\n",
      " 93%|█████████▎| 76666/82690 [1:19:34<17:54:31, 10.70s/it]\u001b[A\n",
      " 93%|█████████▎| 76667/82690 [1:19:35<13:05:45,  7.83s/it]\u001b[A\n",
      " 93%|█████████▎| 76669/82690 [1:19:38<9:45:15,  5.83s/it] \u001b[A\n",
      " 93%|█████████▎| 76670/82690 [1:19:38<7:12:09,  4.31s/it]\u001b[A\n",
      " 93%|█████████▎| 76671/82690 [1:19:46<8:53:57,  5.32s/it]\u001b[A\n",
      " 93%|█████████▎| 76673/82690 [1:19:48<6:43:11,  4.02s/it]\u001b[A\n",
      " 93%|█████████▎| 76674/82690 [1:20:03<12:07:23,  7.25s/it]\u001b[A\n",
      " 93%|█████████▎| 76675/82690 [1:20:08<11:10:23,  6.69s/it]\u001b[A\n",
      " 93%|█████████▎| 76676/82690 [1:20:14<10:33:04,  6.32s/it]\u001b[A\n",
      " 93%|█████████▎| 76679/82690 [1:20:17<7:57:34,  4.77s/it] \u001b[A\n",
      " 93%|█████████▎| 76680/82690 [1:20:17<5:46:01,  3.45s/it]\u001b[A\n",
      " 93%|█████████▎| 76681/82690 [1:20:23<6:49:09,  4.09s/it]\u001b[A\n",
      " 93%|█████████▎| 76682/82690 [1:20:23<4:57:34,  2.97s/it]\u001b[A\n",
      " 93%|█████████▎| 76683/82690 [1:20:25<4:02:28,  2.42s/it]\u001b[A\n",
      " 93%|█████████▎| 76684/82690 [1:20:25<2:55:39,  1.75s/it]\u001b[A\n",
      " 93%|█████████▎| 76685/82690 [1:20:26<2:27:14,  1.47s/it]\u001b[A\n",
      " 93%|█████████▎| 76687/82690 [1:20:30<2:42:31,  1.62s/it]\u001b[A\n",
      " 93%|█████████▎| 76689/82690 [1:20:45<5:41:04,  3.41s/it]\u001b[A\n",
      " 93%|█████████▎| 76690/82690 [1:21:05<14:00:04,  8.40s/it]\u001b[A\n",
      " 93%|█████████▎| 76691/82690 [1:21:11<13:10:52,  7.91s/it]\u001b[A\n",
      " 93%|█████████▎| 76693/82690 [1:21:52<19:24:44, 11.65s/it]\u001b[A\n",
      " 93%|█████████▎| 76694/82690 [1:21:54<14:34:17,  8.75s/it]\u001b[A\n",
      " 93%|█████████▎| 76695/82690 [1:22:08<16:50:56, 10.12s/it]\u001b[A\n",
      " 93%|█████████▎| 76696/82690 [1:22:29<22:41:58, 13.63s/it]\u001b[A\n",
      " 93%|█████████▎| 76697/82690 [1:22:36<19:06:40, 11.48s/it]\u001b[A\n",
      " 93%|█████████▎| 76698/82690 [1:22:44<17:14:17, 10.36s/it]\u001b[A\n",
      " 93%|█████████▎| 76699/82690 [1:22:45<12:47:39,  7.69s/it]\u001b[A\n",
      " 93%|█████████▎| 76700/82690 [1:22:46<9:22:56,  5.64s/it] \u001b[A\n",
      " 93%|█████████▎| 76701/82690 [1:22:50<8:36:19,  5.17s/it]\u001b[A\n",
      " 93%|█████████▎| 76702/82690 [1:23:54<37:50:19, 22.75s/it]\u001b[A\n",
      " 93%|█████████▎| 76703/82690 [1:23:54<26:36:23, 16.00s/it]\u001b[A\n",
      " 93%|█████████▎| 76704/82690 [1:23:57<20:22:14, 12.25s/it]\u001b[A\n",
      " 93%|█████████▎| 76705/82690 [1:23:59<15:15:20,  9.18s/it]\u001b[A\n",
      " 93%|█████████▎| 76708/82690 [1:24:05<11:31:48,  6.94s/it]\u001b[A\n",
      " 93%|█████████▎| 76709/82690 [1:24:07<9:13:06,  5.55s/it] \u001b[A\n",
      " 93%|█████████▎| 76711/82690 [1:24:07<6:32:07,  3.93s/it]\u001b[A\n",
      " 93%|█████████▎| 76712/82690 [1:24:07<4:40:08,  2.81s/it]\u001b[A\n",
      " 93%|█████████▎| 76713/82690 [1:24:11<5:05:27,  3.07s/it]\u001b[A\n",
      " 93%|█████████▎| 76715/82690 [1:24:30<8:15:08,  4.97s/it]\u001b[A\n",
      " 93%|█████████▎| 76716/82690 [1:24:34<7:32:01,  4.54s/it]\u001b[A\n",
      " 93%|█████████▎| 76717/82690 [1:24:35<5:51:53,  3.53s/it]\u001b[A\n"
     ]
    },
    {
     "name": "stderr",
     "output_type": "stream",
     "text": [
      " 93%|█████████▎| 76718/82690 [1:24:39<6:27:26,  3.89s/it]\u001b[A\n",
      " 93%|█████████▎| 76719/82690 [1:24:40<4:42:14,  2.84s/it]\u001b[A\n",
      " 93%|█████████▎| 76720/82690 [1:24:42<4:29:08,  2.71s/it]\u001b[A\n",
      " 93%|█████████▎| 76721/82690 [1:25:38<31:05:13, 18.75s/it]\u001b[A\n",
      " 93%|█████████▎| 76724/82690 [1:26:27<29:45:03, 17.95s/it]\u001b[A\n",
      " 93%|█████████▎| 76725/82690 [1:26:30<22:19:05, 13.47s/it]\u001b[A\n",
      " 93%|█████████▎| 76726/82690 [1:26:35<18:17:07, 11.04s/it]\u001b[A\n",
      " 93%|█████████▎| 76727/82690 [1:26:37<13:41:21,  8.26s/it]\u001b[A\n",
      " 93%|█████████▎| 76728/82690 [1:26:43<12:23:46,  7.49s/it]\u001b[A\n",
      " 93%|█████████▎| 76729/82690 [1:26:43<9:05:37,  5.49s/it] \u001b[A\n",
      " 93%|█████████▎| 76730/82690 [1:27:44<36:34:53, 22.10s/it]\u001b[A\n",
      " 93%|█████████▎| 76731/82690 [1:27:46<26:20:30, 15.91s/it]\u001b[A\n",
      " 93%|█████████▎| 76732/82690 [1:28:12<31:44:38, 19.18s/it]\u001b[A\n",
      " 93%|█████████▎| 76733/82690 [1:28:39<35:19:13, 21.35s/it]\u001b[A\n",
      " 93%|█████████▎| 76734/82690 [1:28:39<24:51:50, 15.03s/it]\u001b[A\n",
      " 93%|█████████▎| 76735/82690 [1:28:40<17:46:48, 10.75s/it]\u001b[A\n",
      " 93%|█████████▎| 76736/82690 [1:29:10<27:33:14, 16.66s/it]\u001b[A\n",
      " 93%|█████████▎| 76737/82690 [1:29:11<19:36:37, 11.86s/it]\u001b[A\n",
      " 93%|█████████▎| 76738/82690 [1:29:11<13:51:14,  8.38s/it]\u001b[A\n",
      " 93%|█████████▎| 76739/82690 [1:29:46<27:07:04, 16.40s/it]\u001b[A\n",
      " 93%|█████████▎| 76740/82690 [1:30:16<33:45:29, 20.43s/it]\u001b[A\n",
      " 93%|█████████▎| 76741/82690 [1:30:16<23:42:15, 14.34s/it]\u001b[A\n",
      " 93%|█████████▎| 76743/82690 [1:30:17<16:38:34, 10.07s/it]\u001b[A\n",
      " 93%|█████████▎| 76744/82690 [1:30:27<16:38:16, 10.07s/it]\u001b[A\n",
      " 93%|█████████▎| 76745/82690 [1:30:35<15:41:54,  9.51s/it]\u001b[A\n",
      " 93%|█████████▎| 76746/82690 [1:30:41<13:57:06,  8.45s/it]\u001b[A\n",
      " 93%|█████████▎| 76747/82690 [1:30:43<10:47:04,  6.53s/it]\u001b[A\n",
      " 93%|█████████▎| 76750/82690 [1:30:45<7:48:42,  4.73s/it] \u001b[A\n",
      " 93%|█████████▎| 76751/82690 [1:30:45<5:36:53,  3.40s/it]\u001b[A\n",
      " 93%|█████████▎| 76752/82690 [1:30:47<4:53:37,  2.97s/it]\u001b[A\n",
      " 93%|█████████▎| 76753/82690 [1:30:51<5:23:46,  3.27s/it]\u001b[A\n",
      " 93%|█████████▎| 76755/82690 [1:30:51<3:51:35,  2.34s/it]\u001b[A\n",
      " 93%|█████████▎| 76756/82690 [1:30:55<4:25:59,  2.69s/it]\u001b[A\n",
      " 93%|█████████▎| 76757/82690 [1:31:02<6:32:32,  3.97s/it]\u001b[A\n",
      " 93%|█████████▎| 76758/82690 [1:31:08<7:40:05,  4.65s/it]\u001b[A\n",
      " 93%|█████████▎| 76759/82690 [1:31:10<6:39:36,  4.04s/it]\u001b[A\n",
      " 93%|█████████▎| 76760/82690 [1:31:13<6:04:32,  3.69s/it]\u001b[A\n",
      " 93%|█████████▎| 76761/82690 [1:31:48<21:09:51, 12.85s/it]\u001b[A\n",
      " 93%|█████████▎| 76762/82690 [1:31:50<15:50:53,  9.62s/it]\u001b[A\n",
      " 93%|█████████▎| 76763/82690 [1:32:38<34:54:31, 21.20s/it]\u001b[A\n",
      " 93%|█████████▎| 76764/82690 [1:32:42<26:28:14, 16.08s/it]\u001b[A\n",
      " 93%|█████████▎| 76765/82690 [1:32:55<24:56:27, 15.15s/it]\u001b[A\n",
      " 93%|█████████▎| 76766/82690 [1:33:17<28:26:40, 17.29s/it]\u001b[A\n",
      " 93%|█████████▎| 76768/82690 [1:33:19<20:18:23, 12.34s/it]\u001b[A\n",
      " 93%|█████████▎| 76770/82690 [1:33:20<14:28:57,  8.81s/it]\u001b[A\n",
      " 93%|█████████▎| 76771/82690 [1:33:22<10:57:53,  6.67s/it]\u001b[A\n",
      " 93%|█████████▎| 76772/82690 [1:33:31<12:07:09,  7.37s/it]\u001b[A\n",
      " 93%|█████████▎| 76773/82690 [1:33:36<10:58:22,  6.68s/it]\u001b[A\n",
      " 93%|█████████▎| 76774/82690 [1:33:37<8:09:45,  4.97s/it] \u001b[A\n",
      " 93%|█████████▎| 76776/82690 [1:33:49<8:50:46,  5.38s/it]\u001b[A\n",
      " 93%|█████████▎| 76778/82690 [1:33:51<6:29:33,  3.95s/it]\u001b[A\n",
      " 93%|█████████▎| 76779/82690 [1:34:05<11:31:25,  7.02s/it]\u001b[A\n",
      " 93%|█████████▎| 76780/82690 [1:34:49<29:35:59, 18.03s/it]\u001b[A\n",
      " 93%|█████████▎| 76781/82690 [1:34:49<21:04:57, 12.84s/it]\u001b[A\n",
      " 93%|█████████▎| 76783/82690 [1:34:50<15:00:33,  9.15s/it]\u001b[A\n",
      " 93%|█████████▎| 76784/82690 [1:35:00<15:26:53,  9.42s/it]\u001b[A\n",
      " 93%|█████████▎| 76785/82690 [1:35:01<10:54:01,  6.65s/it]\u001b[A\n",
      " 93%|█████████▎| 76787/82690 [1:35:01<7:41:32,  4.69s/it] \u001b[A\n",
      " 93%|█████████▎| 76788/82690 [1:35:02<5:55:39,  3.62s/it]\u001b[A\n",
      " 93%|█████████▎| 76789/82690 [1:35:33<19:31:53, 11.92s/it]\u001b[A\n",
      " 93%|█████████▎| 76790/82690 [1:35:35<14:32:03,  8.87s/it]\u001b[A\n",
      " 93%|█████████▎| 76791/82690 [1:35:42<13:24:47,  8.19s/it]\u001b[A\n",
      " 93%|█████████▎| 76792/82690 [1:36:06<21:38:46, 13.21s/it]\u001b[A\n",
      " 93%|█████████▎| 76793/82690 [1:36:10<17:03:34, 10.41s/it]\u001b[A\n",
      " 93%|█████████▎| 76794/82690 [1:36:12<12:43:08,  7.77s/it]\u001b[A\n",
      " 93%|█████████▎| 76795/82690 [1:36:14<10:04:36,  6.15s/it]\u001b[A\n",
      " 93%|█████████▎| 76796/82690 [1:36:15<7:35:12,  4.63s/it] \u001b[A\n",
      " 93%|█████████▎| 76797/82690 [1:36:17<6:02:45,  3.69s/it]\u001b[A\n",
      " 93%|█████████▎| 76798/82690 [1:36:31<11:19:52,  6.92s/it]\u001b[A\n",
      " 93%|█████████▎| 76800/82690 [1:36:34<8:37:47,  5.27s/it] \u001b[A\n",
      " 93%|█████████▎| 76801/82690 [1:36:59<17:57:16, 10.98s/it]\u001b[A\n",
      " 93%|█████████▎| 76802/82690 [1:36:59<12:40:26,  7.75s/it]\u001b[A\n",
      " 93%|█████████▎| 76803/82690 [1:37:09<14:01:21,  8.58s/it]\u001b[A\n",
      " 93%|█████████▎| 76804/82690 [1:37:11<10:46:35,  6.59s/it]\u001b[A\n",
      " 93%|█████████▎| 76805/82690 [1:37:21<12:09:26,  7.44s/it]\u001b[A\n",
      " 93%|█████████▎| 76806/82690 [1:37:22<9:13:34,  5.64s/it] \u001b[A\n",
      " 93%|█████████▎| 76807/82690 [1:37:25<8:00:05,  4.90s/it]\u001b[A\n",
      " 93%|█████████▎| 76809/82690 [1:37:38<8:38:09,  5.29s/it]\u001b[A\n",
      " 93%|█████████▎| 76811/82690 [1:38:09<13:41:00,  8.38s/it]\u001b[A\n",
      " 93%|█████████▎| 76813/82690 [1:38:11<10:04:00,  6.17s/it]\u001b[A\n",
      " 93%|█████████▎| 76814/82690 [1:38:13<8:00:14,  4.90s/it] \u001b[A\n",
      " 93%|█████████▎| 76815/82690 [1:38:15<6:53:35,  4.22s/it]\u001b[A\n",
      " 93%|█████████▎| 76816/82690 [1:38:16<4:53:39,  3.00s/it]\u001b[A\n",
      " 93%|█████████▎| 76817/82690 [1:38:31<10:56:27,  6.71s/it]\u001b[A\n",
      " 93%|█████████▎| 76818/82690 [1:38:42<12:52:26,  7.89s/it]\u001b[A\n",
      " 93%|█████████▎| 76819/82690 [1:38:42<9:12:29,  5.65s/it] \u001b[A\n",
      " 93%|█████████▎| 76820/82690 [1:38:47<8:42:41,  5.34s/it]\u001b[A\n",
      " 93%|█████████▎| 76821/82690 [1:38:47<6:11:25,  3.80s/it]\u001b[A\n",
      " 93%|█████████▎| 76822/82690 [1:39:00<10:44:07,  6.59s/it]\u001b[A\n",
      " 93%|█████████▎| 76823/82690 [1:39:02<8:42:20,  5.34s/it] \u001b[A\n",
      " 93%|█████████▎| 76824/82690 [1:39:08<8:56:40,  5.49s/it]\u001b[A\n",
      " 93%|█████████▎| 76825/82690 [1:39:11<7:50:43,  4.82s/it]\u001b[A\n",
      " 93%|█████████▎| 76827/82690 [1:39:16<6:31:51,  4.01s/it]\u001b[A\n",
      " 93%|█████████▎| 76828/82690 [1:39:33<13:05:19,  8.04s/it]\u001b[A\n",
      " 93%|█████████▎| 76829/82690 [1:39:59<21:49:07, 13.40s/it]\u001b[A\n",
      " 93%|█████████▎| 76830/82690 [1:40:06<18:40:24, 11.47s/it]\u001b[A\n",
      " 93%|█████████▎| 76831/82690 [1:40:30<24:55:37, 15.32s/it]\u001b[A\n",
      " 93%|█████████▎| 76832/82690 [1:41:17<40:25:51, 24.85s/it]\u001b[A\n",
      " 93%|█████████▎| 76834/82690 [1:41:18<28:30:06, 17.52s/it]\u001b[A\n",
      " 93%|█████████▎| 76835/82690 [1:41:53<36:59:16, 22.74s/it]\u001b[A\n",
      " 93%|█████████▎| 76836/82690 [1:42:05<31:42:52, 19.50s/it]\u001b[A\n",
      " 93%|█████████▎| 76839/82690 [1:42:39<27:38:06, 17.00s/it]\u001b[A\n",
      " 93%|█████████▎| 76840/82690 [1:42:42<20:46:38, 12.79s/it]\u001b[A\n",
      " 93%|█████████▎| 76842/82690 [1:42:42<14:37:37,  9.00s/it]\u001b[A\n",
      " 93%|█████████▎| 76843/82690 [1:42:55<16:44:18, 10.31s/it]\u001b[A\n",
      " 93%|█████████▎| 76844/82690 [1:43:09<18:39:34, 11.49s/it]\u001b[A\n",
      " 93%|█████████▎| 76845/82690 [1:43:10<13:29:31,  8.31s/it]\u001b[A\n",
      " 93%|█████████▎| 76846/82690 [1:43:11<9:53:08,  6.09s/it] \u001b[A\n",
      " 93%|█████████▎| 76847/82690 [1:43:22<11:59:55,  7.39s/it]\u001b[A\n",
      " 93%|█████████▎| 76848/82690 [1:43:31<12:47:25,  7.88s/it]\u001b[A\n",
      " 93%|█████████▎| 76849/82690 [1:44:07<26:38:08, 16.42s/it]\u001b[A\n",
      " 93%|█████████▎| 76852/82690 [1:44:44<24:42:05, 15.23s/it]\u001b[A\n",
      " 93%|█████████▎| 76853/82690 [1:45:07<28:16:02, 17.43s/it]\u001b[A\n",
      " 93%|█████████▎| 76854/82690 [1:45:09<20:56:30, 12.92s/it]\u001b[A\n",
      " 93%|█████████▎| 76855/82690 [1:45:13<16:14:42, 10.02s/it]\u001b[A\n",
      " 93%|█████████▎| 76856/82690 [1:45:15<12:22:10,  7.63s/it]\u001b[A\n",
      " 93%|█████████▎| 76858/82690 [1:45:58<19:06:45, 11.80s/it]\u001b[A\n",
      " 93%|█████████▎| 76859/82690 [1:46:02<15:13:57,  9.40s/it]\u001b[A\n",
      " 93%|█████████▎| 76860/82690 [1:46:11<15:14:01,  9.41s/it]\u001b[A\n",
      " 93%|█████████▎| 76861/82690 [1:46:14<12:12:31,  7.54s/it]\u001b[A\n",
      " 93%|█████████▎| 76864/82690 [1:46:17<8:57:22,  5.53s/it] \u001b[A\n",
      " 93%|█████████▎| 76865/82690 [1:46:17<6:26:04,  3.98s/it]\u001b[A\n",
      " 93%|█████████▎| 76867/82690 [1:46:47<11:39:46,  7.21s/it]\u001b[A\n",
      " 93%|█████████▎| 76868/82690 [1:46:48<8:36:10,  5.32s/it] \u001b[A\n",
      " 93%|█████████▎| 76869/82690 [1:47:54<38:05:50, 23.56s/it]\u001b[A\n",
      " 93%|█████████▎| 76870/82690 [1:47:57<28:12:25, 17.45s/it]\u001b[A\n",
      " 93%|█████████▎| 76872/82690 [1:47:59<20:19:56, 12.58s/it]\u001b[A\n",
      " 93%|█████████▎| 76874/82690 [1:48:07<16:12:52, 10.04s/it]\u001b[A\n",
      " 93%|█████████▎| 76875/82690 [1:48:17<16:04:29,  9.95s/it]\u001b[A\n",
      " 93%|█████████▎| 76876/82690 [1:48:32<18:17:31, 11.33s/it]\u001b[A\n",
      " 93%|█████████▎| 76877/82690 [1:48:32<13:00:16,  8.05s/it]\u001b[A\n",
      " 93%|█████████▎| 76879/82690 [1:48:59<15:29:01,  9.59s/it]\u001b[A\n",
      " 93%|█████████▎| 76880/82690 [1:48:59<10:55:53,  6.77s/it]\u001b[A\n",
      " 93%|█████████▎| 76881/82690 [1:49:33<23:59:59, 14.87s/it]\u001b[A\n",
      " 93%|█████████▎| 76882/82690 [1:49:33<16:53:26, 10.47s/it]\u001b[A\n",
      " 93%|█████████▎| 76883/82690 [1:49:50<20:03:26, 12.43s/it]\u001b[A\n",
      " 93%|█████████▎| 76884/82690 [1:49:55<16:27:21, 10.20s/it]\u001b[A\n",
      " 93%|█████████▎| 76885/82690 [1:49:56<12:02:58,  7.47s/it]\u001b[A\n",
      " 93%|█████████▎| 76886/82690 [1:50:39<29:19:04, 18.18s/it]\u001b[A\n",
      " 93%|█████████▎| 76887/82690 [1:50:49<25:20:40, 15.72s/it]\u001b[A\n",
      " 93%|█████████▎| 76888/82690 [1:50:49<17:51:11, 11.08s/it]\u001b[A\n",
      " 93%|█████████▎| 76889/82690 [1:50:50<12:41:19,  7.87s/it]\u001b[A\n",
      " 93%|█████████▎| 76890/82690 [1:51:05<16:22:57, 10.17s/it]\u001b[A\n",
      " 93%|█████████▎| 76891/82690 [1:51:23<20:15:06, 12.57s/it]\u001b[A\n",
      " 93%|█████████▎| 76892/82690 [1:52:01<32:16:18, 20.04s/it]\u001b[A\n",
      " 93%|█████████▎| 76893/82690 [1:52:05<24:46:37, 15.39s/it]\u001b[A\n",
      " 93%|█████████▎| 76894/82690 [1:52:17<23:04:03, 14.33s/it]\u001b[A\n",
      " 93%|█████████▎| 76895/82690 [1:52:26<20:12:13, 12.55s/it]\u001b[A\n",
      " 93%|█████████▎| 76896/82690 [1:53:07<33:57:44, 21.10s/it]\u001b[A\n",
      " 93%|█████████▎| 76897/82690 [1:53:16<28:20:31, 17.61s/it]\u001b[A\n",
      " 93%|█████████▎| 76898/82690 [1:53:17<20:03:44, 12.47s/it]\u001b[A\n",
      " 93%|█████████▎| 76899/82690 [1:53:43<26:50:12, 16.68s/it]\u001b[A\n",
      " 93%|█████████▎| 76900/82690 [1:53:45<19:44:27, 12.27s/it]\u001b[A\n",
      " 93%|█████████▎| 76901/82690 [1:53:48<15:18:24,  9.52s/it]\u001b[A\n",
      " 93%|█████████▎| 76902/82690 [1:53:58<15:32:43,  9.67s/it]\u001b[A\n",
      " 93%|█████████▎| 76903/82690 [1:54:01<12:10:35,  7.57s/it]\u001b[A\n",
      " 93%|█████████▎| 76904/82690 [1:54:08<11:46:02,  7.32s/it]\u001b[A\n",
      " 93%|█████████▎| 76905/82690 [1:54:08<8:22:32,  5.21s/it] \u001b[A\n",
      " 93%|█████████▎| 76906/82690 [1:55:10<35:38:13, 22.18s/it]\u001b[A\n",
      " 93%|█████████▎| 76907/82690 [1:55:10<25:06:05, 15.63s/it]\u001b[A\n",
      " 93%|█████████▎| 76908/82690 [1:55:10<17:37:50, 10.98s/it]\u001b[A\n",
      " 93%|█████████▎| 76909/82690 [1:55:34<23:49:39, 14.84s/it]\u001b[A\n",
      " 93%|█████████▎| 76910/82690 [1:55:37<17:53:44, 11.15s/it]\u001b[A\n",
      " 93%|█████████▎| 76911/82690 [1:55:40<14:14:36,  8.87s/it]\u001b[A\n",
      " 93%|█████████▎| 76912/82690 [1:55:40<10:05:36,  6.29s/it]\u001b[A\n",
      " 93%|█████████▎| 76914/82690 [1:55:41<7:17:01,  4.54s/it] \u001b[A\n",
      " 93%|█████████▎| 76915/82690 [1:55:45<6:55:52,  4.32s/it]\u001b[A\n",
      " 93%|█████████▎| 76916/82690 [1:55:47<5:45:31,  3.59s/it]\u001b[A\n",
      " 93%|█████████▎| 76917/82690 [1:55:52<6:24:55,  4.00s/it]\u001b[A\n",
      " 93%|█████████▎| 76918/82690 [1:56:58<36:13:14, 22.59s/it]\u001b[A\n",
      " 93%|█████████▎| 76919/82690 [1:56:59<26:06:22, 16.29s/it]\u001b[A\n",
      " 93%|█████████▎| 76920/82690 [1:57:35<35:21:10, 22.06s/it]\u001b[A\n",
      " 93%|█████████▎| 76921/82690 [1:57:56<34:43:26, 21.67s/it]\u001b[A\n",
      " 93%|█████████▎| 76922/82690 [1:58:13<32:26:19, 20.25s/it]\u001b[A\n",
      " 93%|█████████▎| 76923/82690 [1:58:24<28:17:08, 17.66s/it]\u001b[A\n",
      " 93%|█████████▎| 76924/82690 [1:58:29<21:50:04, 13.63s/it]\u001b[A\n",
      " 93%|█████████▎| 76925/82690 [1:58:39<20:07:29, 12.57s/it]\u001b[A\n",
      " 93%|█████████▎| 76926/82690 [1:58:41<15:09:33,  9.47s/it]\u001b[A\n",
      " 93%|█████████▎| 76927/82690 [1:58:48<13:58:45,  8.73s/it]\u001b[A\n",
      " 93%|█████████▎| 76928/82690 [1:59:27<28:29:10, 17.80s/it]\u001b[A\n",
      " 93%|█████████▎| 76930/82690 [1:59:58<27:21:11, 17.10s/it]\u001b[A\n",
      " 93%|█████████▎| 76931/82690 [1:59:59<19:38:54, 12.28s/it]\u001b[A\n",
      " 93%|█████████▎| 76932/82690 [2:00:12<20:17:53, 12.69s/it]\u001b[A\n",
      " 93%|█████████▎| 76933/82690 [2:00:17<16:16:00, 10.17s/it]\u001b[A\n",
      " 93%|█████████▎| 76935/82690 [2:00:24<13:13:33,  8.27s/it]\u001b[A\n",
      " 93%|█████████▎| 76938/82690 [2:00:32<10:32:19,  6.60s/it]\u001b[A\n",
      " 93%|█████████▎| 76939/82690 [2:01:30<34:44:35, 21.75s/it]\u001b[A\n",
      " 93%|█████████▎| 76940/82690 [2:01:32<25:21:33, 15.88s/it]\u001b[A\n",
      " 93%|█████████▎| 76941/82690 [2:01:41<22:08:56, 13.87s/it]\u001b[A\n",
      " 93%|█████████▎| 76942/82690 [2:01:43<16:34:21, 10.38s/it]\u001b[A\n",
      " 93%|█████████▎| 76943/82690 [2:01:45<12:27:43,  7.81s/it]\u001b[A\n",
      " 93%|█████████▎| 76944/82690 [2:01:46<9:06:48,  5.71s/it] \u001b[A\n",
      " 93%|█████████▎| 76945/82690 [2:01:59<12:34:15,  7.88s/it]\u001b[A\n",
      " 93%|█████████▎| 76946/82690 [2:02:10<14:04:07,  8.82s/it]\u001b[A\n",
      " 93%|█████████▎| 76947/82690 [2:02:15<12:09:21,  7.62s/it]\u001b[A\n",
      " 93%|█████████▎| 76950/82690 [2:02:17<8:55:21,  5.60s/it] \u001b[A\n",
      " 93%|█████████▎| 76951/82690 [2:02:43<18:37:15, 11.68s/it]\u001b[A\n",
      " 93%|█████████▎| 76952/82690 [2:02:50<16:32:08, 10.37s/it]\u001b[A\n",
      " 93%|█████████▎| 76953/82690 [2:02:52<12:17:30,  7.71s/it]\u001b[A\n",
      " 93%|█████████▎| 76954/82690 [2:03:27<25:21:47, 15.92s/it]\u001b[A\n",
      " 93%|█████████▎| 76955/82690 [2:03:27<17:51:30, 11.21s/it]\u001b[A\n",
      " 93%|█████████▎| 76956/82690 [2:03:43<19:51:35, 12.47s/it]\u001b[A\n",
      " 93%|█████████▎| 76957/82690 [2:03:48<16:21:31, 10.27s/it]\u001b[A\n",
      " 93%|█████████▎| 76959/82690 [2:04:14<17:44:15, 11.14s/it]\u001b[A\n",
      " 93%|█████████▎| 76960/82690 [2:04:46<27:38:38, 17.37s/it]\u001b[A\n",
      " 93%|█████████▎| 76961/82690 [2:04:50<21:20:30, 13.41s/it]\u001b[A\n",
      " 93%|█████████▎| 76962/82690 [2:04:51<15:29:03,  9.73s/it]\u001b[A\n",
      " 93%|█████████▎| 76963/82690 [2:04:53<11:29:25,  7.22s/it]\u001b[A\n",
      " 93%|█████████▎| 76964/82690 [2:04:53<8:17:29,  5.21s/it] \u001b[A\n",
      " 93%|█████████▎| 76966/82690 [2:05:34<15:30:33,  9.75s/it]\u001b[A\n",
      " 93%|█████████▎| 76967/82690 [2:05:36<11:58:20,  7.53s/it]\u001b[A\n",
      " 93%|█████████▎| 76968/82690 [2:05:41<10:43:42,  6.75s/it]\u001b[A\n",
      " 93%|█████████▎| 76969/82690 [2:05:42<8:00:10,  5.04s/it] \u001b[A\n",
      " 93%|█████████▎| 76970/82690 [2:05:44<6:29:37,  4.09s/it]\u001b[A\n",
      " 93%|█████████▎| 76971/82690 [2:05:49<7:07:07,  4.48s/it]\u001b[A\n",
      " 93%|█████████▎| 76972/82690 [2:05:50<5:07:00,  3.22s/it]\u001b[A\n",
      " 93%|█████████▎| 76973/82690 [2:05:51<4:02:43,  2.55s/it]\u001b[A\n",
      " 93%|█████████▎| 76974/82690 [2:05:51<2:55:35,  1.84s/it]\u001b[A\n",
      " 93%|█████████▎| 76975/82690 [2:05:52<2:24:14,  1.51s/it]\u001b[A\n",
      " 93%|█████████▎| 76976/82690 [2:05:56<3:34:16,  2.25s/it]\u001b[A\n",
      " 93%|█████████▎| 76977/82690 [2:05:57<3:22:23,  2.13s/it]\u001b[A\n",
      " 93%|█████████▎| 76978/82690 [2:06:03<4:58:11,  3.13s/it]\u001b[A\n",
      " 93%|█████████▎| 76979/82690 [2:06:11<7:23:40,  4.66s/it]\u001b[A\n",
      " 93%|█████████▎| 76981/82690 [2:06:16<6:23:52,  4.03s/it]\u001b[A\n",
      " 93%|█████████▎| 76982/82690 [2:06:18<5:26:15,  3.43s/it]\u001b[A\n",
      " 93%|█████████▎| 76983/82690 [2:06:21<5:14:55,  3.31s/it]\u001b[A\n",
      " 93%|█████████▎| 76984/82690 [2:06:30<7:59:58,  5.05s/it]\u001b[A\n",
      " 93%|█████████▎| 76985/82690 [2:06:33<6:45:06,  4.26s/it]\u001b[A\n",
      " 93%|█████████▎| 76986/82690 [2:06:34<5:06:15,  3.22s/it]\u001b[A\n",
      " 93%|█████████▎| 76987/82690 [2:06:40<6:41:13,  4.22s/it]\u001b[A\n",
      " 93%|█████████▎| 76988/82690 [2:06:49<8:44:14,  5.52s/it]\u001b[A\n",
      " 93%|█████████▎| 76989/82690 [2:06:50<6:31:21,  4.12s/it]\u001b[A\n",
      " 93%|█████████▎| 76991/82690 [2:06:59<6:51:03,  4.33s/it]\u001b[A\n",
      " 93%|█████████▎| 76992/82690 [2:07:27<17:54:21, 11.31s/it]\u001b[A\n",
      " 93%|█████████▎| 76993/82690 [2:07:29<13:33:50,  8.57s/it]\u001b[A\n",
      " 93%|█████████▎| 76994/82690 [2:07:32<10:56:20,  6.91s/it]\u001b[A\n",
      " 93%|█████████▎| 76996/82690 [2:07:52<12:20:45,  7.81s/it]\u001b[A\n",
      " 93%|█████████▎| 76997/82690 [2:08:17<20:46:21, 13.14s/it]\u001b[A\n",
      " 93%|█████████▎| 76998/82690 [2:08:18<15:01:49,  9.51s/it]\u001b[A\n",
      " 93%|█████████▎| 76999/82690 [2:08:43<21:59:09, 13.91s/it]\u001b[A\n",
      " 93%|█████████▎| 77000/82690 [2:08:43<15:32:48,  9.84s/it]\u001b[A\n",
      " 93%|█████████▎| 77001/82690 [2:08:43<11:01:52,  6.98s/it]\u001b[A\n",
      " 93%|█████████▎| 77002/82690 [2:08:45<8:30:05,  5.38s/it] \u001b[A\n",
      " 93%|█████████▎| 77003/82690 [2:08:46<6:28:51,  4.10s/it]\u001b[A\n",
      " 93%|█████████▎| 77004/82690 [2:08:49<6:00:55,  3.81s/it]\u001b[A\n",
      " 93%|█████████▎| 77005/82690 [2:09:36<26:13:50, 16.61s/it]\u001b[A\n",
      " 93%|█████████▎| 77006/82690 [2:09:52<26:09:31, 16.57s/it]\u001b[A\n",
      " 93%|█████████▎| 77007/82690 [2:09:55<19:32:54, 12.38s/it]\u001b[A\n",
      " 93%|█████████▎| 77008/82690 [2:09:58<15:09:10,  9.60s/it]\u001b[A\n",
      " 93%|█████████▎| 77009/82690 [2:10:00<11:33:32,  7.32s/it]\u001b[A\n",
      " 93%|█████████▎| 77010/82690 [2:10:01<8:44:21,  5.54s/it] \u001b[A\n",
      " 93%|█████████▎| 77012/82690 [2:10:23<11:18:31,  7.17s/it]\u001b[A\n",
      " 93%|█████████▎| 77013/82690 [2:10:51<20:51:58, 13.23s/it]\u001b[A\n",
      " 93%|█████████▎| 77014/82690 [2:11:06<22:05:13, 14.01s/it]\u001b[A\n",
      " 93%|█████████▎| 77015/82690 [2:11:28<25:28:55, 16.16s/it]\u001b[A\n",
      " 93%|█████████▎| 77016/82690 [2:11:30<18:49:00, 11.94s/it]\u001b[A\n",
      " 93%|█████████▎| 77017/82690 [2:11:33<14:47:41,  9.39s/it]\u001b[A\n",
      " 93%|█████████▎| 77018/82690 [2:11:36<11:49:24,  7.50s/it]\u001b[A\n",
      " 93%|█████████▎| 77019/82690 [2:11:56<17:25:28, 11.06s/it]\u001b[A\n",
      " 93%|█████████▎| 77020/82690 [2:11:56<12:35:28,  7.99s/it]\u001b[A\n",
      " 93%|█████████▎| 77021/82690 [2:11:57<8:52:12,  5.63s/it] \u001b[A\n",
      " 93%|█████████▎| 77022/82690 [2:11:59<7:20:19,  4.66s/it]\u001b[A\n",
      " 93%|█████████▎| 77023/82690 [2:12:13<11:51:14,  7.53s/it]\u001b[A\n",
      " 93%|█████████▎| 77025/82690 [2:12:20<9:58:42,  6.34s/it] \u001b[A\n"
     ]
    },
    {
     "name": "stderr",
     "output_type": "stream",
     "text": [
      " 93%|█████████▎| 77026/82690 [2:12:21<7:20:23,  4.67s/it]\u001b[A\n",
      " 93%|█████████▎| 77027/82690 [2:12:32<10:16:27,  6.53s/it]\u001b[A\n",
      " 93%|█████████▎| 77028/82690 [2:12:34<8:17:35,  5.27s/it] \u001b[A\n",
      " 93%|█████████▎| 77029/82690 [2:12:35<6:10:26,  3.93s/it]\u001b[A\n",
      " 93%|█████████▎| 77030/82690 [2:12:36<4:43:56,  3.01s/it]\u001b[A\n",
      " 93%|█████████▎| 77031/82690 [2:12:41<5:47:25,  3.68s/it]\u001b[A\n",
      " 93%|█████████▎| 77032/82690 [2:12:44<5:19:12,  3.38s/it]\u001b[A\n",
      " 93%|█████████▎| 77033/82690 [2:12:47<5:10:14,  3.29s/it]\u001b[A\n",
      " 93%|█████████▎| 77034/82690 [2:12:55<7:11:38,  4.58s/it]\u001b[A\n",
      " 93%|█████████▎| 77035/82690 [2:13:26<19:37:44, 12.50s/it]\u001b[A\n",
      " 93%|█████████▎| 77036/82690 [2:13:36<18:46:14, 11.95s/it]\u001b[A\n",
      " 93%|█████████▎| 77037/82690 [2:13:37<13:31:04,  8.61s/it]\u001b[A\n",
      " 93%|█████████▎| 77038/82690 [2:13:38<10:05:41,  6.43s/it]\u001b[A\n",
      " 93%|█████████▎| 77039/82690 [2:13:41<8:07:21,  5.17s/it] \u001b[A\n",
      " 93%|█████████▎| 77041/82690 [2:14:22<15:30:02,  9.88s/it]\u001b[A\n",
      " 93%|█████████▎| 77042/82690 [2:14:32<15:28:16,  9.86s/it]\u001b[A\n",
      " 93%|█████████▎| 77043/82690 [2:14:32<10:58:56,  7.00s/it]\u001b[A\n",
      " 93%|█████████▎| 77044/82690 [2:15:06<23:36:52, 15.06s/it]\u001b[A\n",
      " 93%|█████████▎| 77045/82690 [2:15:07<16:44:20, 10.68s/it]\u001b[A\n",
      " 93%|█████████▎| 77046/82690 [2:15:28<21:41:41, 13.84s/it]\u001b[A\n",
      " 93%|█████████▎| 77047/82690 [2:15:33<17:41:13, 11.28s/it]\u001b[A\n",
      " 93%|█████████▎| 77048/82690 [2:15:57<23:27:54, 14.97s/it]\u001b[A\n",
      " 93%|█████████▎| 77049/82690 [2:16:30<32:13:28, 20.57s/it]\u001b[A\n",
      " 93%|█████████▎| 77050/82690 [2:16:53<33:06:12, 21.13s/it]\u001b[A\n",
      " 93%|█████████▎| 77051/82690 [2:16:56<24:28:21, 15.62s/it]\u001b[A\n",
      " 93%|█████████▎| 77052/82690 [2:17:14<25:33:37, 16.32s/it]\u001b[A\n",
      " 93%|█████████▎| 77053/82690 [2:17:17<19:18:16, 12.33s/it]\u001b[A\n",
      " 93%|█████████▎| 77055/82690 [2:17:36<17:58:10, 11.48s/it]\u001b[A\n",
      " 93%|█████████▎| 77056/82690 [2:17:37<12:59:24,  8.30s/it]\u001b[A\n",
      " 93%|█████████▎| 77057/82690 [2:18:20<29:34:29, 18.90s/it]\u001b[A\n",
      " 93%|█████████▎| 77058/82690 [2:19:06<42:05:16, 26.90s/it]\u001b[A\n",
      " 93%|█████████▎| 77059/82690 [2:19:26<38:58:11, 24.91s/it]\u001b[A\n",
      " 93%|█████████▎| 77060/82690 [2:19:26<27:21:38, 17.50s/it]\u001b[A\n",
      " 93%|█████████▎| 77061/82690 [2:19:28<19:48:05, 12.66s/it]\u001b[A\n",
      " 93%|█████████▎| 77062/82690 [2:19:30<14:51:36,  9.51s/it]\u001b[A\n",
      " 93%|█████████▎| 77063/82690 [2:19:32<11:30:22,  7.36s/it]\u001b[A\n",
      " 93%|█████████▎| 77064/82690 [2:19:35<9:14:51,  5.92s/it] \u001b[A\n",
      " 93%|█████████▎| 77065/82690 [2:19:54<15:23:51,  9.85s/it]\u001b[A\n",
      " 93%|█████████▎| 77066/82690 [2:19:55<11:29:15,  7.35s/it]\u001b[A\n",
      " 93%|█████████▎| 77067/82690 [2:19:58<9:16:52,  5.94s/it] \u001b[A\n",
      " 93%|█████████▎| 77068/82690 [2:20:16<15:04:29,  9.65s/it]\u001b[A\n",
      " 93%|█████████▎| 77069/82690 [2:20:17<10:59:20,  7.04s/it]\u001b[A\n",
      " 93%|█████████▎| 77071/82690 [2:20:48<14:50:07,  9.50s/it]\u001b[A\n",
      " 93%|█████████▎| 77072/82690 [2:20:52<12:14:40,  7.85s/it]\u001b[A\n",
      " 93%|█████████▎| 77073/82690 [2:21:07<15:57:34, 10.23s/it]\u001b[A\n",
      " 93%|█████████▎| 77074/82690 [2:21:34<23:50:11, 15.28s/it]\u001b[A\n",
      " 93%|█████████▎| 77076/82690 [2:21:36<16:56:53, 10.87s/it]\u001b[A\n",
      " 93%|█████████▎| 77077/82690 [2:22:06<26:08:18, 16.76s/it]\u001b[A\n",
      " 93%|█████████▎| 77079/82690 [2:22:14<20:12:56, 12.97s/it]\u001b[A\n",
      " 93%|█████████▎| 77082/82690 [2:22:24<15:37:47, 10.03s/it]\u001b[A\n",
      " 93%|█████████▎| 77084/82690 [2:22:38<14:09:49,  9.10s/it]\u001b[A\n",
      " 93%|█████████▎| 77085/82690 [2:22:40<10:52:41,  6.99s/it]\u001b[A\n",
      " 93%|█████████▎| 77086/82690 [2:22:40<7:40:09,  4.93s/it] \u001b[A\n",
      " 93%|█████████▎| 77087/82690 [2:23:13<20:53:00, 13.42s/it]\u001b[A\n",
      " 93%|█████████▎| 77088/82690 [2:23:15<15:21:45,  9.87s/it]\u001b[A\n",
      " 93%|█████████▎| 77089/82690 [2:23:16<11:20:05,  7.29s/it]\u001b[A\n",
      " 93%|█████████▎| 77090/82690 [2:23:26<12:40:39,  8.15s/it]\u001b[A\n",
      " 93%|█████████▎| 77091/82690 [2:23:26<8:59:35,  5.78s/it] \u001b[A\n",
      " 93%|█████████▎| 77092/82690 [2:24:08<25:35:03, 16.45s/it]\u001b[A\n",
      " 93%|█████████▎| 77094/82690 [2:24:52<28:10:40, 18.13s/it]\u001b[A\n",
      " 93%|█████████▎| 77095/82690 [2:25:18<31:49:33, 20.48s/it]\u001b[A\n",
      " 93%|█████████▎| 77096/82690 [2:25:46<35:31:42, 22.86s/it]\u001b[A\n",
      " 93%|█████████▎| 77097/82690 [2:25:47<25:20:41, 16.31s/it]\u001b[A\n",
      " 93%|█████████▎| 77099/82690 [2:25:52<18:46:30, 12.09s/it]\u001b[A\n",
      " 93%|█████████▎| 77100/82690 [2:25:52<13:29:36,  8.69s/it]\u001b[A\n",
      " 93%|█████████▎| 77101/82690 [2:25:55<10:47:07,  6.95s/it]\u001b[A\n",
      " 93%|█████████▎| 77102/82690 [2:25:56<7:37:43,  4.91s/it] \u001b[A\n",
      " 93%|█████████▎| 77104/82690 [2:26:31<13:31:17,  8.71s/it]\u001b[A\n",
      " 93%|█████████▎| 77105/82690 [2:26:43<15:14:15,  9.82s/it]\u001b[A\n",
      " 93%|█████████▎| 77106/82690 [2:26:45<11:34:06,  7.46s/it]\u001b[A\n",
      " 93%|█████████▎| 77107/82690 [2:26:47<9:02:24,  5.83s/it] \u001b[A\n",
      " 93%|█████████▎| 77108/82690 [2:27:11<17:39:11, 11.39s/it]\u001b[A\n",
      " 93%|█████████▎| 77109/82690 [2:27:17<14:43:15,  9.50s/it]\u001b[A\n",
      " 93%|█████████▎| 77110/82690 [2:27:18<10:53:30,  7.03s/it]\u001b[A\n",
      " 93%|█████████▎| 77111/82690 [2:27:18<7:46:01,  5.01s/it] \u001b[A\n",
      " 93%|█████████▎| 77112/82690 [2:27:18<5:32:22,  3.58s/it]\u001b[A\n",
      " 93%|█████████▎| 77113/82690 [2:28:06<26:08:12, 16.87s/it]\u001b[A\n",
      " 93%|█████████▎| 77114/82690 [2:29:01<43:37:16, 28.16s/it]\u001b[A\n",
      " 93%|█████████▎| 77115/82690 [2:29:01<30:42:45, 19.83s/it]\u001b[A\n",
      " 93%|█████████▎| 77116/82690 [2:30:02<49:34:56, 32.02s/it]\u001b[A\n",
      " 93%|█████████▎| 77118/82690 [2:30:02<34:46:15, 22.47s/it]\u001b[A\n",
      " 93%|█████████▎| 77119/82690 [2:30:09<27:26:19, 17.73s/it]\u001b[A\n",
      " 93%|█████████▎| 77120/82690 [2:30:22<25:12:30, 16.29s/it]\u001b[A\n",
      " 93%|█████████▎| 77121/82690 [2:30:22<17:47:57, 11.51s/it]\u001b[A\n",
      " 93%|█████████▎| 77122/82690 [2:30:29<15:37:25, 10.10s/it]\u001b[A\n",
      " 93%|█████████▎| 77123/82690 [2:30:32<12:39:45,  8.19s/it]\u001b[A\n",
      " 93%|█████████▎| 77124/82690 [2:30:34<9:22:28,  6.06s/it] \u001b[A\n",
      " 93%|█████████▎| 77125/82690 [2:30:35<7:02:41,  4.56s/it]\u001b[A\n",
      " 93%|█████████▎| 77126/82690 [2:30:36<5:47:44,  3.75s/it]\u001b[A\n",
      " 93%|█████████▎| 77127/82690 [2:30:46<8:37:06,  5.58s/it]\u001b[A\n",
      " 93%|█████████▎| 77128/82690 [2:30:53<9:13:15,  5.97s/it]\u001b[A\n",
      " 93%|█████████▎| 77129/82690 [2:30:53<6:33:07,  4.24s/it]\u001b[A\n",
      " 93%|█████████▎| 77130/82690 [2:30:57<6:05:02,  3.94s/it]\u001b[A\n",
      " 93%|█████████▎| 77131/82690 [2:32:01<33:57:03, 21.99s/it]\u001b[A\n",
      " 93%|█████████▎| 77132/82690 [2:32:04<25:13:50, 16.34s/it]\u001b[A\n",
      " 93%|█████████▎| 77133/82690 [2:32:04<17:45:36, 11.51s/it]\u001b[A\n",
      " 93%|█████████▎| 77135/82690 [2:32:05<12:35:21,  8.16s/it]\u001b[A\n",
      " 93%|█████████▎| 77138/82690 [2:32:05<8:54:54,  5.78s/it] \u001b[A\n",
      " 93%|█████████▎| 77139/82690 [2:32:06<6:20:30,  4.11s/it]\u001b[A\n",
      " 93%|█████████▎| 77140/82690 [2:32:07<4:54:09,  3.18s/it]\u001b[A\n",
      " 93%|█████████▎| 77141/82690 [2:32:07<3:33:56,  2.31s/it]\u001b[A\n",
      " 93%|█████████▎| 77142/82690 [2:32:08<2:57:08,  1.92s/it]\u001b[A\n",
      " 93%|█████████▎| 77143/82690 [2:32:11<3:40:12,  2.38s/it]\u001b[A\n",
      " 93%|█████████▎| 77144/82690 [2:32:57<23:30:47, 15.26s/it]\u001b[A\n",
      " 93%|█████████▎| 77145/82690 [2:33:35<34:10:45, 22.19s/it]\u001b[A\n",
      " 93%|█████████▎| 77146/82690 [2:34:27<48:02:44, 31.20s/it]\u001b[A\n",
      " 93%|█████████▎| 77147/82690 [2:34:37<37:54:48, 24.62s/it]\u001b[A\n",
      " 93%|█████████▎| 77148/82690 [2:34:37<26:55:10, 17.49s/it]\u001b[A\n",
      " 93%|█████████▎| 77149/82690 [2:34:53<26:05:00, 16.95s/it]\u001b[A\n",
      " 93%|█████████▎| 77150/82690 [2:34:54<18:42:28, 12.16s/it]\u001b[A\n",
      " 93%|█████████▎| 77151/82690 [2:34:57<14:16:38,  9.28s/it]\u001b[A\n",
      " 93%|█████████▎| 77152/82690 [2:34:58<10:42:37,  6.96s/it]\u001b[A\n",
      " 93%|█████████▎| 77153/82690 [2:35:08<11:49:25,  7.69s/it]\u001b[A\n",
      " 93%|█████████▎| 77154/82690 [2:35:10<9:27:58,  6.16s/it] \u001b[A\n",
      " 93%|█████████▎| 77155/82690 [2:35:11<6:50:21,  4.45s/it]\u001b[A\n",
      " 93%|█████████▎| 77156/82690 [2:35:24<10:58:49,  7.14s/it]\u001b[A\n",
      " 93%|█████████▎| 77157/82690 [2:35:25<8:04:16,  5.25s/it] \u001b[A\n",
      " 93%|█████████▎| 77158/82690 [2:35:25<5:47:15,  3.77s/it]\u001b[A\n",
      " 93%|█████████▎| 77159/82690 [2:36:22<30:02:40, 19.56s/it]\u001b[A\n",
      " 93%|█████████▎| 77160/82690 [2:36:24<21:59:38, 14.32s/it]\u001b[A\n",
      " 93%|█████████▎| 77161/82690 [2:36:33<19:31:21, 12.71s/it]\u001b[A\n",
      " 93%|█████████▎| 77162/82690 [2:36:43<18:25:54, 12.00s/it]\u001b[A\n",
      " 93%|█████████▎| 77164/82690 [2:36:44<13:03:57,  8.51s/it]\u001b[A\n",
      " 93%|█████████▎| 77165/82690 [2:36:50<12:12:46,  7.96s/it]\u001b[A\n",
      " 93%|█████████▎| 77166/82690 [2:36:51<8:42:30,  5.68s/it] \u001b[A\n",
      " 93%|█████████▎| 77167/82690 [2:36:52<6:25:43,  4.19s/it]\u001b[A\n",
      " 93%|█████████▎| 77168/82690 [2:36:52<4:38:39,  3.03s/it]\u001b[A\n",
      " 93%|█████████▎| 77169/82690 [2:36:53<3:35:23,  2.34s/it]\u001b[A\n",
      " 93%|█████████▎| 77170/82690 [2:37:40<24:13:40, 15.80s/it]\u001b[A\n",
      " 93%|█████████▎| 77171/82690 [2:37:41<17:32:15, 11.44s/it]\u001b[A\n",
      " 93%|█████████▎| 77172/82690 [2:37:41<12:22:56,  8.08s/it]\u001b[A\n",
      " 93%|█████████▎| 77175/82690 [2:38:14<13:42:16,  8.95s/it]\u001b[A\n",
      " 93%|█████████▎| 77176/82690 [2:38:23<13:47:02,  9.00s/it]\u001b[A\n",
      " 93%|█████████▎| 77177/82690 [2:38:24<10:00:36,  6.54s/it]\u001b[A\n",
      " 93%|█████████▎| 77178/82690 [2:38:24<7:10:05,  4.68s/it] \u001b[A\n",
      " 93%|█████████▎| 77179/82690 [2:38:33<8:52:02,  5.79s/it]\u001b[A\n",
      " 93%|█████████▎| 77180/82690 [2:38:34<6:56:08,  4.53s/it]\u001b[A\n",
      " 93%|█████████▎| 77181/82690 [2:38:35<5:18:26,  3.47s/it]\u001b[A\n",
      " 93%|█████████▎| 77183/82690 [2:38:37<3:58:29,  2.60s/it]\u001b[A\n",
      " 93%|█████████▎| 77185/82690 [2:38:39<3:25:32,  2.24s/it]\u001b[A\n",
      " 93%|█████████▎| 77186/82690 [2:38:40<2:45:38,  1.81s/it]\u001b[A\n",
      " 93%|█████████▎| 77187/82690 [2:38:42<2:53:09,  1.89s/it]\u001b[A\n",
      " 93%|█████████▎| 77188/82690 [2:38:44<2:52:56,  1.89s/it]\u001b[A\n",
      " 93%|█████████▎| 77189/82690 [2:38:47<3:10:30,  2.08s/it]\u001b[A\n",
      " 93%|█████████▎| 77190/82690 [2:38:48<3:02:45,  1.99s/it]\u001b[A\n",
      " 93%|█████████▎| 77192/82690 [2:38:55<3:43:36,  2.44s/it]\u001b[A\n",
      " 93%|█████████▎| 77193/82690 [2:38:58<3:35:33,  2.35s/it]\u001b[A\n",
      " 93%|█████████▎| 77194/82690 [2:39:01<4:02:25,  2.65s/it]\u001b[A\n",
      " 93%|█████████▎| 77195/82690 [2:39:25<13:59:13,  9.16s/it]\u001b[A\n",
      " 93%|█████████▎| 77196/82690 [2:39:26<9:55:37,  6.50s/it] \u001b[A\n",
      " 93%|█████████▎| 77197/82690 [2:39:27<7:23:32,  4.84s/it]\u001b[A\n",
      " 93%|█████████▎| 77199/82690 [2:39:31<6:12:33,  4.07s/it]\u001b[A\n",
      " 93%|█████████▎| 77200/82690 [2:39:33<5:09:34,  3.38s/it]\u001b[A\n",
      " 93%|█████████▎| 77203/82690 [2:39:33<3:39:39,  2.40s/it]\u001b[A\n",
      " 93%|█████████▎| 77204/82690 [2:39:35<3:33:37,  2.34s/it]\u001b[A\n",
      " 93%|█████████▎| 77205/82690 [2:39:37<3:27:23,  2.27s/it]\u001b[A\n",
      " 93%|█████████▎| 77206/82690 [2:39:38<2:46:20,  1.82s/it]\u001b[A\n",
      " 93%|█████████▎| 77207/82690 [2:39:51<7:36:13,  4.99s/it]\u001b[A\n",
      " 93%|█████████▎| 77208/82690 [2:39:52<5:48:21,  3.81s/it]\u001b[A\n",
      " 93%|█████████▎| 77209/82690 [2:39:54<4:55:19,  3.23s/it]\u001b[A\n",
      " 93%|█████████▎| 77210/82690 [2:39:54<3:49:32,  2.51s/it]\u001b[A\n",
      " 93%|█████████▎| 77211/82690 [2:39:57<3:54:22,  2.57s/it]\u001b[A\n",
      " 93%|█████████▎| 77212/82690 [2:39:57<2:53:21,  1.90s/it]\u001b[A\n",
      " 93%|█████████▎| 77213/82690 [2:39:59<2:36:36,  1.72s/it]\u001b[A\n",
      " 93%|█████████▎| 77214/82690 [2:40:09<6:17:12,  4.13s/it]\u001b[A\n",
      " 93%|█████████▎| 77216/82690 [2:40:18<6:29:38,  4.27s/it]\u001b[A\n",
      " 93%|█████████▎| 77217/82690 [2:40:19<5:01:54,  3.31s/it]\u001b[A\n",
      " 93%|█████████▎| 77219/82690 [2:40:26<5:13:36,  3.44s/it]\u001b[A\n",
      " 93%|█████████▎| 77220/82690 [2:40:28<4:31:25,  2.98s/it]\u001b[A\n",
      " 93%|█████████▎| 77221/82690 [2:40:32<4:51:31,  3.20s/it]\u001b[A\n",
      " 93%|█████████▎| 77223/82690 [2:40:35<4:12:17,  2.77s/it]\u001b[A\n",
      " 93%|█████████▎| 77224/82690 [2:40:59<13:55:18,  9.17s/it]\u001b[A\n",
      " 93%|█████████▎| 77225/82690 [2:41:01<10:30:24,  6.92s/it]\u001b[A\n",
      " 93%|█████████▎| 77226/82690 [2:41:03<8:16:10,  5.45s/it] \u001b[A\n",
      " 93%|█████████▎| 77227/82690 [2:41:05<6:30:46,  4.29s/it]\u001b[A\n",
      " 93%|█████████▎| 77228/82690 [2:41:07<5:31:48,  3.64s/it]\u001b[A\n",
      " 93%|█████████▎| 77229/82690 [2:41:09<4:52:17,  3.21s/it]\u001b[A\n",
      " 93%|█████████▎| 77231/82690 [2:41:12<3:57:17,  2.61s/it]\u001b[A\n",
      " 93%|█████████▎| 77233/82690 [2:41:16<3:41:56,  2.44s/it]\u001b[A\n",
      " 93%|█████████▎| 77234/82690 [2:41:28<8:07:43,  5.36s/it]\u001b[A\n",
      " 93%|█████████▎| 77235/82690 [2:41:37<9:48:40,  6.47s/it]\u001b[A\n",
      " 93%|█████████▎| 77236/82690 [2:41:45<10:26:32,  6.89s/it]\u001b[A\n",
      " 93%|█████████▎| 77238/82690 [2:41:47<7:43:47,  5.10s/it] \u001b[A\n",
      " 93%|█████████▎| 77239/82690 [2:42:22<21:16:37, 14.05s/it]\u001b[A\n",
      " 93%|█████████▎| 77240/82690 [2:42:33<19:52:54, 13.13s/it]\u001b[A\n",
      " 93%|█████████▎| 77241/82690 [2:42:37<16:06:46, 10.65s/it]\u001b[A\n",
      " 93%|█████████▎| 77242/82690 [2:42:38<11:37:38,  7.68s/it]\u001b[A\n",
      " 93%|█████████▎| 77243/82690 [2:42:38<8:17:13,  5.48s/it] \u001b[A\n",
      " 93%|█████████▎| 77245/82690 [2:42:48<7:52:10,  5.20s/it]\u001b[A\n",
      " 93%|█████████▎| 77246/82690 [2:42:48<5:39:14,  3.74s/it]\u001b[A\n",
      " 93%|█████████▎| 77247/82690 [2:43:09<13:35:45,  8.99s/it]\u001b[A\n",
      " 93%|█████████▎| 77248/82690 [2:43:09<9:38:50,  6.38s/it] \u001b[A\n",
      " 93%|█████████▎| 77249/82690 [2:43:12<7:54:08,  5.23s/it]\u001b[A\n",
      " 93%|█████████▎| 77250/82690 [2:43:16<7:27:56,  4.94s/it]\u001b[A\n",
      " 93%|█████████▎| 77251/82690 [2:43:17<5:40:18,  3.75s/it]\u001b[A\n",
      " 93%|█████████▎| 77252/82690 [2:43:18<4:26:44,  2.94s/it]\u001b[A\n",
      " 93%|█████████▎| 77253/82690 [2:43:44<14:59:17,  9.92s/it]\u001b[A\n",
      " 93%|█████████▎| 77254/82690 [2:43:46<11:05:55,  7.35s/it]\u001b[A\n",
      " 93%|█████████▎| 77256/82690 [2:43:48<8:13:57,  5.45s/it] \u001b[A\n",
      " 93%|█████████▎| 77258/82690 [2:43:50<6:17:45,  4.17s/it]\u001b[A\n",
      " 93%|█████████▎| 77259/82690 [2:43:53<5:41:13,  3.77s/it]\u001b[A\n",
      " 93%|█████████▎| 77260/82690 [2:44:41<25:51:21, 17.14s/it]\u001b[A\n",
      " 93%|█████████▎| 77261/82690 [2:44:44<19:21:00, 12.83s/it]\u001b[A\n",
      " 93%|█████████▎| 77262/82690 [2:44:46<14:21:33,  9.52s/it]\u001b[A\n",
      " 93%|█████████▎| 77263/82690 [2:44:53<13:10:18,  8.74s/it]\u001b[A\n",
      " 93%|█████████▎| 77264/82690 [2:44:56<10:31:19,  6.98s/it]\u001b[A\n",
      " 93%|█████████▎| 77265/82690 [2:45:43<28:30:17, 18.92s/it]\u001b[A\n",
      " 93%|█████████▎| 77266/82690 [2:45:55<25:21:09, 16.83s/it]\u001b[A\n",
      " 93%|█████████▎| 77267/82690 [2:45:57<18:55:44, 12.57s/it]\u001b[A\n",
      " 93%|█████████▎| 77268/82690 [2:46:05<16:35:43, 11.02s/it]\u001b[A\n",
      " 93%|█████████▎| 77270/82690 [2:46:08<12:28:54,  8.29s/it]\u001b[A\n",
      " 93%|█████████▎| 77271/82690 [2:46:14<11:20:16,  7.53s/it]\u001b[A\n",
      " 93%|█████████▎| 77272/82690 [2:46:15<8:22:19,  5.56s/it] \u001b[A\n",
      " 93%|█████████▎| 77273/82690 [2:46:17<6:38:09,  4.41s/it]\u001b[A\n",
      " 93%|█████████▎| 77274/82690 [2:46:31<10:50:52,  7.21s/it]\u001b[A\n",
      " 93%|█████████▎| 77275/82690 [2:46:31<7:46:04,  5.16s/it] \u001b[A\n",
      " 93%|█████████▎| 77276/82690 [2:46:32<5:58:26,  3.97s/it]\u001b[A\n",
      " 93%|█████████▎| 77277/82690 [2:46:34<5:08:22,  3.42s/it]\u001b[A\n",
      " 93%|█████████▎| 77278/82690 [2:46:37<4:54:12,  3.26s/it]\u001b[A\n",
      " 93%|█████████▎| 77279/82690 [2:46:48<8:07:57,  5.41s/it]\u001b[A\n",
      " 93%|█████████▎| 77280/82690 [2:47:28<23:59:32, 15.97s/it]\u001b[A\n",
      " 93%|█████████▎| 77281/82690 [2:47:29<16:55:41, 11.27s/it]\u001b[A\n",
      " 93%|█████████▎| 77282/82690 [2:47:37<15:49:07, 10.53s/it]\u001b[A\n",
      " 93%|█████████▎| 77283/82690 [2:47:50<16:44:11, 11.14s/it]\u001b[A\n",
      " 93%|█████████▎| 77284/82690 [2:47:51<12:06:50,  8.07s/it]\u001b[A\n",
      " 93%|█████████▎| 77285/82690 [2:47:57<11:15:29,  7.50s/it]\u001b[A\n",
      " 93%|█████████▎| 77286/82690 [2:48:17<16:58:01, 11.30s/it]\u001b[A\n",
      " 93%|█████████▎| 77287/82690 [2:48:18<12:16:47,  8.18s/it]\u001b[A\n",
      " 93%|█████████▎| 77288/82690 [2:48:27<12:40:35,  8.45s/it]\u001b[A\n",
      " 93%|█████████▎| 77289/82690 [2:48:36<12:56:08,  8.62s/it]\u001b[A\n",
      " 93%|█████████▎| 77291/82690 [2:48:36<9:05:46,  6.07s/it] \u001b[A\n",
      " 93%|█████████▎| 77292/82690 [2:48:37<6:27:17,  4.30s/it]\u001b[A\n",
      " 93%|█████████▎| 77294/82690 [2:48:39<5:00:20,  3.34s/it]\u001b[A\n",
      " 93%|█████████▎| 77295/82690 [2:48:40<4:13:00,  2.81s/it]\u001b[A\n",
      " 93%|█████████▎| 77296/82690 [2:48:57<10:22:52,  6.93s/it]\u001b[A\n",
      " 93%|█████████▎| 77297/82690 [2:49:05<10:55:28,  7.29s/it]\u001b[A\n",
      " 93%|█████████▎| 77298/82690 [2:49:17<13:15:54,  8.86s/it]\u001b[A\n",
      " 93%|█████████▎| 77299/82690 [2:49:23<11:58:25,  8.00s/it]\u001b[A\n",
      " 93%|█████████▎| 77300/82690 [2:49:53<21:29:48, 14.36s/it]\u001b[A\n",
      " 93%|█████████▎| 77301/82690 [2:49:54<15:50:16, 10.58s/it]\u001b[A\n",
      " 93%|█████████▎| 77302/82690 [2:50:24<24:23:55, 16.30s/it]\u001b[A\n",
      " 93%|█████████▎| 77303/82690 [2:50:31<20:19:03, 13.58s/it]\u001b[A\n",
      " 93%|█████████▎| 77304/82690 [2:50:35<15:56:59, 10.66s/it]\u001b[A\n",
      " 93%|█████████▎| 77305/82690 [2:50:38<12:34:15,  8.40s/it]\u001b[A\n",
      " 93%|█████████▎| 77306/82690 [2:50:39<8:56:54,  5.98s/it] \u001b[A\n",
      " 93%|█████████▎| 77308/82690 [2:50:59<10:50:06,  7.25s/it]\u001b[A\n",
      " 93%|█████████▎| 77309/82690 [2:51:00<7:58:58,  5.34s/it] \u001b[A\n",
      " 93%|█████████▎| 77310/82690 [2:51:17<13:17:59,  8.90s/it]\u001b[A\n",
      " 93%|█████████▎| 77311/82690 [2:51:20<10:24:33,  6.97s/it]\u001b[A\n",
      " 93%|█████████▎| 77312/82690 [2:51:22<8:33:01,  5.72s/it] \u001b[A\n",
      " 93%|█████████▎| 77313/82690 [2:51:23<6:04:28,  4.07s/it]\u001b[A\n",
      " 93%|█████████▎| 77314/82690 [2:51:49<16:03:20, 10.75s/it]\u001b[A\n",
      " 93%|█████████▎| 77315/82690 [2:51:49<11:19:12,  7.58s/it]\u001b[A\n",
      " 94%|█████████▎| 77316/82690 [2:51:49<8:01:05,  5.37s/it] \u001b[A\n",
      " 94%|█████████▎| 77317/82690 [2:51:51<6:07:25,  4.10s/it]\u001b[A\n",
      " 94%|█████████▎| 77318/82690 [2:52:01<8:50:06,  5.92s/it]\u001b[A\n",
      " 94%|█████████▎| 77319/82690 [2:52:28<18:20:29, 12.29s/it]\u001b[A\n",
      " 94%|█████████▎| 77320/82690 [2:52:35<15:55:56, 10.68s/it]\u001b[A\n",
      " 94%|█████████▎| 77321/82690 [2:52:44<15:16:03, 10.24s/it]\u001b[A\n",
      " 94%|█████████▎| 77322/82690 [2:53:01<18:13:34, 12.22s/it]\u001b[A\n",
      " 94%|█████████▎| 77323/82690 [2:53:14<18:33:19, 12.45s/it]\u001b[A\n",
      " 94%|█████████▎| 77324/82690 [2:53:15<13:22:51,  8.98s/it]\u001b[A\n",
      " 94%|█████████▎| 77325/82690 [2:53:16<9:52:48,  6.63s/it] \u001b[A\n",
      " 94%|█████████▎| 77326/82690 [2:53:18<7:46:06,  5.21s/it]\u001b[A\n",
      " 94%|█████████▎| 77327/82690 [2:53:25<8:32:02,  5.73s/it]\u001b[A\n"
     ]
    },
    {
     "name": "stderr",
     "output_type": "stream",
     "text": [
      " 94%|█████████▎| 77328/82690 [2:53:29<7:47:58,  5.24s/it]\u001b[A\n",
      " 94%|█████████▎| 77329/82690 [2:53:29<5:45:49,  3.87s/it]\u001b[A\n",
      " 94%|█████████▎| 77330/82690 [2:53:31<4:32:43,  3.05s/it]\u001b[A\n",
      " 94%|█████████▎| 77332/82690 [2:53:31<3:13:08,  2.16s/it]\u001b[A\n",
      " 94%|█████████▎| 77333/82690 [2:53:31<2:19:17,  1.56s/it]\u001b[A\n",
      " 94%|█████████▎| 77334/82690 [2:54:05<16:37:56, 11.18s/it]\u001b[A\n",
      " 94%|█████████▎| 77335/82690 [2:54:10<13:57:50,  9.39s/it]\u001b[A\n",
      " 94%|█████████▎| 77337/82690 [2:54:20<12:02:17,  8.10s/it]\u001b[A\n",
      " 94%|█████████▎| 77338/82690 [2:54:20<8:31:49,  5.74s/it] \u001b[A\n",
      " 94%|█████████▎| 77339/82690 [2:54:27<8:54:54,  6.00s/it]\u001b[A\n",
      " 94%|█████████▎| 77340/82690 [2:54:28<6:53:12,  4.63s/it]\u001b[A\n",
      " 94%|█████████▎| 77341/82690 [2:54:29<5:15:40,  3.54s/it]\u001b[A\n",
      " 94%|█████████▎| 77342/82690 [2:54:33<5:29:38,  3.70s/it]\u001b[A\n",
      " 94%|█████████▎| 77343/82690 [2:54:34<4:16:12,  2.87s/it]\u001b[A\n",
      " 94%|█████████▎| 77344/82690 [2:54:44<7:18:56,  4.93s/it]\u001b[A\n",
      " 94%|█████████▎| 77345/82690 [2:54:48<6:58:52,  4.70s/it]\u001b[A\n",
      " 94%|█████████▎| 77346/82690 [2:54:49<5:24:30,  3.64s/it]\u001b[A\n",
      " 94%|█████████▎| 77347/82690 [2:54:50<3:54:05,  2.63s/it]\u001b[A\n",
      " 94%|█████████▎| 77349/82690 [2:54:50<2:45:25,  1.86s/it]\u001b[A\n",
      " 94%|█████████▎| 77350/82690 [2:54:50<2:17:02,  1.54s/it]\u001b[A\n",
      " 94%|█████████▎| 77351/82690 [2:54:51<1:55:43,  1.30s/it]\u001b[A\n",
      " 94%|█████████▎| 77352/82690 [2:54:52<1:30:50,  1.02s/it]\u001b[A\n",
      " 94%|█████████▎| 77353/82690 [2:54:53<1:49:27,  1.23s/it]\u001b[A\n",
      " 94%|█████████▎| 77354/82690 [2:55:04<5:58:59,  4.04s/it]\u001b[A\n",
      " 94%|█████████▎| 77355/82690 [2:55:06<5:07:12,  3.46s/it]\u001b[A\n",
      " 94%|█████████▎| 77356/82690 [2:55:47<21:45:08, 14.68s/it]\u001b[A\n",
      " 94%|█████████▎| 77359/82690 [2:55:48<15:21:45, 10.37s/it]\u001b[A\n",
      " 94%|█████████▎| 77360/82690 [2:55:49<11:14:14,  7.59s/it]\u001b[A\n",
      " 94%|█████████▎| 77361/82690 [2:55:49<7:59:51,  5.40s/it] \u001b[A\n",
      " 94%|█████████▎| 77362/82690 [2:55:50<6:04:13,  4.10s/it]\u001b[A\n",
      " 94%|█████████▎| 77363/82690 [2:55:58<7:36:29,  5.14s/it]\u001b[A\n",
      " 94%|█████████▎| 77364/82690 [2:55:58<5:25:29,  3.67s/it]\u001b[A\n",
      " 94%|█████████▎| 77365/82690 [2:56:08<8:06:14,  5.48s/it]\u001b[A\n",
      " 94%|█████████▎| 77366/82690 [2:56:10<6:38:03,  4.49s/it]\u001b[A\n",
      " 94%|█████████▎| 77367/82690 [2:56:46<20:37:09, 13.94s/it]\u001b[A\n",
      " 94%|█████████▎| 77368/82690 [2:57:10<25:02:42, 16.94s/it]\u001b[A\n",
      " 94%|█████████▎| 77369/82690 [2:57:15<19:58:17, 13.51s/it]\u001b[A\n",
      " 94%|█████████▎| 77371/82690 [2:58:03<24:27:55, 16.56s/it]\u001b[A\n",
      " 94%|█████████▎| 77372/82690 [2:58:04<17:34:35, 11.90s/it]\u001b[A\n",
      " 94%|█████████▎| 77373/82690 [2:58:40<28:28:30, 19.28s/it]\u001b[A\n",
      " 94%|█████████▎| 77374/82690 [2:58:41<20:08:21, 13.64s/it]\u001b[A\n",
      " 94%|█████████▎| 77375/82690 [2:58:42<14:36:32,  9.90s/it]\u001b[A\n",
      " 94%|█████████▎| 77377/82690 [2:58:59<14:04:03,  9.53s/it]\u001b[A\n",
      " 94%|█████████▎| 77378/82690 [2:59:01<10:31:18,  7.13s/it]\u001b[A\n",
      " 94%|█████████▎| 77379/82690 [2:59:05<9:24:46,  6.38s/it] \u001b[A\n",
      " 94%|█████████▎| 77380/82690 [2:59:09<8:11:51,  5.56s/it]\u001b[A\n",
      " 94%|█████████▎| 77381/82690 [2:59:12<7:04:42,  4.80s/it]\u001b[A\n",
      " 94%|█████████▎| 77382/82690 [2:59:14<5:41:54,  3.86s/it]\u001b[A\n",
      " 94%|█████████▎| 77383/82690 [2:59:32<12:04:16,  8.19s/it]\u001b[A\n",
      " 94%|█████████▎| 77384/82690 [2:59:32<8:34:54,  5.82s/it] \u001b[A\n",
      " 94%|█████████▎| 77385/82690 [2:59:35<7:02:55,  4.78s/it]\u001b[A\n",
      " 94%|█████████▎| 77387/82690 [2:59:46<7:24:28,  5.03s/it]\u001b[A\n",
      " 94%|█████████▎| 77388/82690 [2:59:50<7:09:03,  4.86s/it]\u001b[A\n",
      " 94%|█████████▎| 77389/82690 [3:00:29<21:54:55, 14.88s/it]\u001b[A\n",
      " 94%|█████████▎| 77390/82690 [3:00:37<19:03:12, 12.94s/it]\u001b[A\n",
      " 94%|█████████▎| 77392/82690 [3:00:42<14:19:02,  9.73s/it]\u001b[A\n",
      " 94%|█████████▎| 77393/82690 [3:00:46<12:13:21,  8.31s/it]\u001b[A\n",
      " 94%|█████████▎| 77394/82690 [3:01:06<17:21:43, 11.80s/it]\u001b[A\n",
      " 94%|█████████▎| 77395/82690 [3:01:07<12:19:23,  8.38s/it]\u001b[A\n",
      " 94%|█████████▎| 77396/82690 [3:01:20<14:25:52,  9.81s/it]\u001b[A\n",
      " 94%|█████████▎| 77397/82690 [3:02:07<31:01:25, 21.10s/it]\u001b[A\n",
      " 94%|█████████▎| 77398/82690 [3:02:09<22:29:15, 15.30s/it]\u001b[A\n",
      " 94%|█████████▎| 77399/82690 [3:02:09<15:51:02, 10.78s/it]\u001b[A\n",
      " 94%|█████████▎| 77400/82690 [3:02:15<13:27:13,  9.16s/it]\u001b[A\n",
      " 94%|█████████▎| 77401/82690 [3:02:24<13:41:07,  9.32s/it]\u001b[A\n",
      " 94%|█████████▎| 77402/82690 [3:02:44<18:20:01, 12.48s/it]\u001b[A\n",
      " 94%|█████████▎| 77403/82690 [3:02:46<13:38:11,  9.29s/it]\u001b[A\n",
      " 94%|█████████▎| 77404/82690 [3:02:54<13:03:33,  8.89s/it]\u001b[A\n",
      " 94%|█████████▎| 77405/82690 [3:03:09<15:31:40, 10.58s/it]\u001b[A\n",
      " 94%|█████████▎| 77406/82690 [3:03:10<11:20:51,  7.73s/it]\u001b[A\n",
      " 94%|█████████▎| 77407/82690 [3:03:13<9:09:49,  6.24s/it] \u001b[A\n",
      " 94%|█████████▎| 77411/82690 [3:03:24<7:37:38,  5.20s/it]\u001b[A\n",
      " 94%|█████████▎| 77412/82690 [3:03:54<18:36:03, 12.69s/it]\u001b[A\n",
      " 94%|█████████▎| 77413/82690 [3:03:55<13:41:15,  9.34s/it]\u001b[A\n",
      " 94%|█████████▎| 77414/82690 [3:04:00<11:40:19,  7.96s/it]\u001b[A\n",
      " 94%|█████████▎| 77415/82690 [3:04:02<9:10:31,  6.26s/it] \u001b[A\n",
      " 94%|█████████▎| 77417/82690 [3:04:19<10:04:11,  6.87s/it]\u001b[A\n",
      " 94%|█████████▎| 77418/82690 [3:04:21<7:53:02,  5.38s/it] \u001b[A\n",
      " 94%|█████████▎| 77419/82690 [3:04:22<6:03:13,  4.13s/it]\u001b[A\n",
      " 94%|█████████▎| 77422/82690 [3:04:23<4:21:18,  2.98s/it]\u001b[A\n",
      " 94%|█████████▎| 77424/82690 [3:04:23<3:05:52,  2.12s/it]\u001b[A\n",
      " 94%|█████████▎| 77425/82690 [3:04:24<2:34:21,  1.76s/it]\u001b[A\n",
      " 94%|█████████▎| 77426/82690 [3:05:25<28:26:54, 19.46s/it]\u001b[A\n",
      " 94%|█████████▎| 77427/82690 [3:05:39<25:58:55, 17.77s/it]\u001b[A\n",
      " 94%|█████████▎| 77428/82690 [3:05:43<20:15:21, 13.86s/it]\u001b[A\n",
      " 94%|█████████▎| 77429/82690 [3:05:46<15:17:12, 10.46s/it]\u001b[A\n",
      " 94%|█████████▎| 77430/82690 [3:05:52<13:17:34,  9.10s/it]\u001b[A\n",
      " 94%|█████████▎| 77431/82690 [3:05:53<9:59:46,  6.84s/it] \u001b[A\n",
      " 94%|█████████▎| 77432/82690 [3:06:03<11:19:48,  7.76s/it]\u001b[A\n",
      " 94%|█████████▎| 77433/82690 [3:06:15<12:57:58,  8.88s/it]\u001b[A\n",
      " 94%|█████████▎| 77434/82690 [3:06:16<9:39:27,  6.61s/it] \u001b[A\n",
      " 94%|█████████▎| 77435/82690 [3:06:18<7:26:58,  5.10s/it]\u001b[A\n",
      " 94%|█████████▎| 77436/82690 [3:06:19<5:34:29,  3.82s/it]\u001b[A\n",
      " 94%|█████████▎| 77437/82690 [3:06:19<4:03:35,  2.78s/it]\u001b[A\n",
      " 94%|█████████▎| 77438/82690 [3:06:20<3:31:47,  2.42s/it]\u001b[A\n",
      " 94%|█████████▎| 77439/82690 [3:06:58<18:56:05, 12.98s/it]\u001b[A\n",
      " 94%|█████████▎| 77440/82690 [3:07:01<14:29:57,  9.94s/it]\u001b[A\n",
      " 94%|█████████▎| 77441/82690 [3:07:30<22:41:42, 15.57s/it]\u001b[A\n",
      " 94%|█████████▎| 77442/82690 [3:07:30<16:00:24, 10.98s/it]\u001b[A\n",
      " 94%|█████████▎| 77443/82690 [3:07:30<11:22:50,  7.81s/it]\u001b[A\n",
      " 94%|█████████▎| 77444/82690 [3:08:24<31:35:49, 21.68s/it]\u001b[A\n",
      " 94%|█████████▎| 77445/82690 [3:08:38<28:02:01, 19.24s/it]\u001b[A\n",
      " 94%|█████████▎| 77446/82690 [3:08:38<19:49:43, 13.61s/it]\u001b[A\n",
      " 94%|█████████▎| 77447/82690 [3:08:39<14:16:32,  9.80s/it]\u001b[A\n",
      " 94%|█████████▎| 77449/82690 [3:08:49<12:03:46,  8.29s/it]\u001b[A\n",
      " 94%|█████████▎| 77450/82690 [3:08:50<8:53:09,  6.10s/it] \u001b[A\n",
      " 94%|█████████▎| 77453/82690 [3:09:01<7:47:11,  5.35s/it]\u001b[A\n",
      " 94%|█████████▎| 77455/82690 [3:09:07<6:49:16,  4.69s/it]\u001b[A\n",
      " 94%|█████████▎| 77456/82690 [3:09:22<11:16:56,  7.76s/it]\u001b[A\n",
      " 94%|█████████▎| 77457/82690 [3:09:23<8:21:29,  5.75s/it] \u001b[A\n",
      " 94%|█████████▎| 77458/82690 [3:09:29<8:39:09,  5.95s/it]\u001b[A\n",
      " 94%|█████████▎| 77460/82690 [3:09:31<6:28:57,  4.46s/it]\u001b[A\n",
      " 94%|█████████▎| 77461/82690 [3:09:34<5:40:27,  3.91s/it]\u001b[A\n",
      " 94%|█████████▎| 77462/82690 [3:09:34<4:09:38,  2.86s/it]\u001b[A\n",
      " 94%|█████████▎| 77463/82690 [3:09:39<5:03:06,  3.48s/it]\u001b[A\n",
      " 94%|█████████▎| 77464/82690 [3:09:41<4:08:37,  2.85s/it]\u001b[A\n",
      " 94%|█████████▎| 77465/82690 [3:09:46<5:07:52,  3.54s/it]\u001b[A\n",
      " 94%|█████████▎| 77466/82690 [3:10:05<11:59:59,  8.27s/it]\u001b[A\n",
      " 94%|█████████▎| 77467/82690 [3:10:05<8:31:22,  5.87s/it] \u001b[A\n",
      " 94%|█████████▎| 77468/82690 [3:10:07<6:45:36,  4.66s/it]\u001b[A\n",
      " 94%|█████████▎| 77469/82690 [3:10:13<7:05:55,  4.89s/it]\u001b[A\n",
      " 94%|█████████▎| 77470/82690 [3:10:20<8:20:45,  5.76s/it]\u001b[A\n",
      " 94%|█████████▎| 77473/82690 [3:10:21<5:57:54,  4.12s/it]\u001b[A\n",
      " 94%|█████████▎| 77474/82690 [3:10:26<6:12:05,  4.28s/it]\u001b[A\n",
      " 94%|█████████▎| 77475/82690 [3:10:28<5:08:10,  3.55s/it]\u001b[A\n",
      " 94%|█████████▎| 77478/82690 [3:11:11<9:53:43,  6.83s/it]\u001b[A\n",
      " 94%|█████████▎| 77479/82690 [3:11:23<12:01:26,  8.31s/it]\u001b[A\n",
      " 94%|█████████▎| 77480/82690 [3:11:37<14:19:31,  9.90s/it]\u001b[A\n",
      " 94%|█████████▎| 77481/82690 [3:11:46<14:13:40,  9.83s/it]\u001b[A\n",
      " 94%|█████████▎| 77482/82690 [3:11:51<12:04:53,  8.35s/it]\u001b[A\n",
      " 94%|█████████▎| 77484/82690 [3:11:56<9:32:12,  6.59s/it] \u001b[A\n",
      " 94%|█████████▎| 77486/82690 [3:12:10<9:42:48,  6.72s/it]\u001b[A\n",
      " 94%|█████████▎| 77488/82690 [3:12:12<7:16:44,  5.04s/it]\u001b[A\n",
      " 94%|█████████▎| 77489/82690 [3:12:21<8:52:48,  6.15s/it]\u001b[A\n",
      " 94%|█████████▎| 77490/82690 [3:12:24<7:23:32,  5.12s/it]\u001b[A\n",
      " 94%|█████████▎| 77491/82690 [3:12:24<5:22:02,  3.72s/it]\u001b[A\n",
      " 94%|█████████▎| 77492/82690 [3:12:25<3:50:43,  2.66s/it]\u001b[A\n",
      " 94%|█████████▎| 77493/82690 [3:12:37<8:10:40,  5.66s/it]\u001b[A\n",
      " 94%|█████████▎| 77494/82690 [3:12:38<6:04:27,  4.21s/it]\u001b[A\n",
      " 94%|█████████▎| 77496/82690 [3:12:40<4:35:37,  3.18s/it]\u001b[A\n",
      " 94%|█████████▎| 77497/82690 [3:12:44<5:02:26,  3.49s/it]\u001b[A\n",
      " 94%|█████████▎| 77498/82690 [3:12:49<5:39:39,  3.93s/it]\u001b[A\n",
      " 94%|█████████▎| 77499/82690 [3:12:55<6:43:42,  4.67s/it]\u001b[A\n",
      " 94%|█████████▎| 77500/82690 [3:13:26<18:00:26, 12.49s/it]\u001b[A\n",
      " 94%|█████████▎| 77501/82690 [3:14:05<29:37:43, 20.56s/it]\u001b[A\n",
      " 94%|█████████▎| 77502/82690 [3:14:08<21:59:35, 15.26s/it]\u001b[A\n",
      " 94%|█████████▎| 77503/82690 [3:14:40<28:57:41, 20.10s/it]\u001b[A\n",
      " 94%|█████████▎| 77504/82690 [3:14:42<21:27:04, 14.89s/it]\u001b[A\n",
      " 94%|█████████▎| 77505/82690 [3:14:44<15:56:38, 11.07s/it]\u001b[A\n",
      " 94%|█████████▎| 77506/82690 [3:14:54<15:19:47, 10.65s/it]\u001b[A\n",
      " 94%|█████████▎| 77507/82690 [3:15:06<15:40:25, 10.89s/it]\u001b[A\n",
      " 94%|█████████▎| 77508/82690 [3:15:17<15:45:14, 10.94s/it]\u001b[A\n",
      " 94%|█████████▎| 77509/82690 [3:15:20<12:16:26,  8.53s/it]\u001b[A\n",
      " 94%|█████████▎| 77510/82690 [3:15:25<11:07:20,  7.73s/it]\u001b[A\n",
      " 94%|█████████▎| 77511/82690 [3:15:27<8:16:00,  5.75s/it] \u001b[A\n",
      " 94%|█████████▎| 77512/82690 [3:15:28<6:34:08,  4.57s/it]\u001b[A\n",
      " 94%|█████████▎| 77513/82690 [3:15:41<10:06:28,  7.03s/it]\u001b[A\n",
      " 94%|█████████▎| 77514/82690 [3:16:15<21:31:42, 14.97s/it]\u001b[A\n",
      " 94%|█████████▎| 77516/82690 [3:16:23<16:49:58, 11.71s/it]\u001b[A\n",
      " 94%|█████████▎| 77517/82690 [3:16:24<12:19:04,  8.57s/it]\u001b[A\n",
      " 94%|█████████▎| 77518/82690 [3:16:30<11:10:44,  7.78s/it]\u001b[A\n",
      " 94%|█████████▎| 77519/82690 [3:17:01<21:19:40, 14.85s/it]\u001b[A\n",
      " 94%|█████████▎| 77520/82690 [3:17:06<16:53:33, 11.76s/it]\u001b[A\n",
      " 94%|█████████▎| 77521/82690 [3:17:09<13:15:06,  9.23s/it]\u001b[A\n",
      " 94%|█████████▍| 77522/82690 [3:17:37<21:11:45, 14.77s/it]\u001b[A\n",
      " 94%|█████████▍| 77523/82690 [3:17:39<15:47:47, 11.01s/it]\u001b[A\n",
      " 94%|█████████▍| 77524/82690 [3:18:06<22:24:22, 15.61s/it]\u001b[A\n",
      " 94%|█████████▍| 77525/82690 [3:18:43<31:56:10, 22.26s/it]\u001b[A\n",
      " 94%|█████████▍| 77526/82690 [3:19:12<34:55:14, 24.34s/it]\u001b[A\n",
      " 94%|█████████▍| 77527/82690 [3:19:15<25:35:36, 17.85s/it]\u001b[A\n",
      " 94%|█████████▍| 77528/82690 [3:19:19<19:22:07, 13.51s/it]\u001b[A\n",
      " 94%|█████████▍| 77530/82690 [3:19:31<16:16:30, 11.35s/it]\u001b[A\n",
      " 94%|█████████▍| 77531/82690 [3:19:31<11:27:34,  8.00s/it]\u001b[A\n",
      " 94%|█████████▍| 77532/82690 [3:19:50<16:12:08, 11.31s/it]\u001b[A\n",
      " 94%|█████████▍| 77533/82690 [3:19:57<14:03:26,  9.81s/it]\u001b[A\n",
      " 94%|█████████▍| 77535/82690 [3:19:57<9:56:16,  6.94s/it] \u001b[A\n",
      " 94%|█████████▍| 77537/82690 [3:19:57<6:59:00,  4.88s/it]\u001b[A\n",
      " 94%|█████████▍| 77538/82690 [3:19:58<5:17:16,  3.69s/it]\u001b[A\n",
      " 94%|█████████▍| 77539/82690 [3:19:59<4:08:04,  2.89s/it]\u001b[A\n",
      " 94%|█████████▍| 77540/82690 [3:19:59<2:57:15,  2.07s/it]\u001b[A\n",
      " 94%|█████████▍| 77541/82690 [3:20:00<2:22:22,  1.66s/it]\u001b[A\n",
      " 94%|█████████▍| 77542/82690 [3:20:45<20:57:05, 14.65s/it]\u001b[A\n",
      " 94%|█████████▍| 77543/82690 [3:20:46<15:07:19, 10.58s/it]\u001b[A\n",
      " 94%|█████████▍| 77544/82690 [3:21:25<27:24:22, 19.17s/it]\u001b[A\n",
      " 94%|█████████▍| 77545/82690 [3:21:58<33:03:24, 23.13s/it]\u001b[A\n",
      " 94%|█████████▍| 77546/82690 [3:22:20<32:26:59, 22.71s/it]\u001b[A\n",
      " 94%|█████████▍| 77547/82690 [3:23:03<41:12:04, 28.84s/it]\u001b[A\n",
      " 94%|█████████▍| 77548/82690 [3:23:04<29:21:37, 20.56s/it]\u001b[A\n",
      " 94%|█████████▍| 77549/82690 [3:23:37<34:34:45, 24.21s/it]\u001b[A\n",
      " 94%|█████████▍| 77550/82690 [3:24:39<50:54:41, 35.66s/it]\u001b[A\n",
      " 94%|█████████▍| 77552/82690 [3:24:40<35:53:36, 25.15s/it]\u001b[A\n",
      " 94%|█████████▍| 77554/82690 [3:24:42<25:31:51, 17.90s/it]\u001b[A\n",
      " 94%|█████████▍| 77555/82690 [3:25:07<28:34:25, 20.03s/it]\u001b[A\n",
      " 94%|█████████▍| 77557/82690 [3:25:16<21:47:29, 15.28s/it]\u001b[A\n",
      " 94%|█████████▍| 77559/82690 [3:25:25<17:19:54, 12.16s/it]\u001b[A\n",
      " 94%|█████████▍| 77560/82690 [3:25:27<12:41:27,  8.91s/it]\u001b[A\n",
      " 94%|█████████▍| 77562/82690 [3:25:29<9:22:21,  6.58s/it] \u001b[A\n",
      " 94%|█████████▍| 77563/82690 [3:25:34<8:40:29,  6.09s/it]\u001b[A\n",
      " 94%|█████████▍| 77564/82690 [3:25:36<6:51:35,  4.82s/it]\u001b[A\n",
      " 94%|█████████▍| 77565/82690 [3:25:37<5:16:42,  3.71s/it]\u001b[A\n",
      " 94%|█████████▍| 77566/82690 [3:25:37<3:51:44,  2.71s/it]\u001b[A\n",
      " 94%|█████████▍| 77567/82690 [3:25:46<6:20:00,  4.45s/it]\u001b[A\n",
      " 94%|█████████▍| 77568/82690 [3:25:53<7:18:45,  5.14s/it]\u001b[A\n",
      " 94%|█████████▍| 77570/82690 [3:26:16<10:13:06,  7.18s/it]\u001b[A\n",
      " 94%|█████████▍| 77571/82690 [3:26:17<7:18:55,  5.14s/it] \u001b[A\n",
      " 94%|█████████▍| 77574/82690 [3:26:20<5:30:51,  3.88s/it]\u001b[A\n",
      " 94%|█████████▍| 77576/82690 [3:26:35<7:07:27,  5.02s/it]\u001b[A\n",
      " 94%|█████████▍| 77578/82690 [3:26:35<5:02:22,  3.55s/it]\u001b[A\n",
      " 94%|█████████▍| 77579/82690 [3:26:45<7:46:57,  5.48s/it]\u001b[A\n",
      " 94%|█████████▍| 77580/82690 [3:26:45<5:33:45,  3.92s/it]\u001b[A\n",
      " 94%|█████████▍| 77581/82690 [3:27:12<14:59:44, 10.57s/it]\u001b[A\n",
      " 94%|█████████▍| 77583/82690 [3:27:55<19:47:12, 13.95s/it]\u001b[A\n",
      " 94%|█████████▍| 77584/82690 [3:28:40<32:48:39, 23.13s/it]\u001b[A\n",
      " 94%|█████████▍| 77585/82690 [3:28:45<25:00:35, 17.64s/it]\u001b[A\n",
      " 94%|█████████▍| 77586/82690 [3:28:46<18:05:44, 12.76s/it]\u001b[A\n",
      " 94%|█████████▍| 77587/82690 [3:28:54<15:58:56, 11.28s/it]\u001b[A\n",
      " 94%|█████████▍| 77588/82690 [3:29:26<24:50:22, 17.53s/it]\u001b[A\n",
      " 94%|█████████▍| 77589/82690 [3:29:27<17:44:02, 12.52s/it]\u001b[A\n",
      " 94%|█████████▍| 77591/82690 [3:29:28<12:37:04,  8.91s/it]\u001b[A\n",
      " 94%|█████████▍| 77592/82690 [3:29:32<10:27:27,  7.38s/it]\u001b[A\n",
      " 94%|█████████▍| 77593/82690 [3:29:33<7:44:38,  5.47s/it] \u001b[A\n",
      " 94%|█████████▍| 77594/82690 [3:29:33<5:48:25,  4.10s/it]\u001b[A\n",
      " 94%|█████████▍| 77595/82690 [3:29:51<11:35:13,  8.19s/it]\u001b[A\n",
      " 94%|█████████▍| 77596/82690 [3:30:01<12:28:39,  8.82s/it]\u001b[A\n",
      " 94%|█████████▍| 77597/82690 [3:30:11<12:45:00,  9.01s/it]\u001b[A\n",
      " 94%|█████████▍| 77599/82690 [3:30:23<11:26:38,  8.09s/it]\u001b[A\n",
      " 94%|█████████▍| 77600/82690 [3:30:57<22:22:37, 15.83s/it]\u001b[A\n",
      " 94%|█████████▍| 77601/82690 [3:30:59<16:45:15, 11.85s/it]\u001b[A\n",
      " 94%|█████████▍| 77602/82690 [3:31:10<16:06:42, 11.40s/it]\u001b[A\n",
      " 94%|█████████▍| 77603/82690 [3:31:24<17:15:10, 12.21s/it]\u001b[A\n",
      " 94%|█████████▍| 77604/82690 [3:31:25<12:37:41,  8.94s/it]\u001b[A\n",
      " 94%|█████████▍| 77605/82690 [3:31:45<17:08:21, 12.13s/it]\u001b[A\n",
      " 94%|█████████▍| 77606/82690 [3:32:06<20:59:17, 14.86s/it]\u001b[A\n",
      " 94%|█████████▍| 77607/82690 [3:32:19<20:27:32, 14.49s/it]\u001b[A\n",
      " 94%|█████████▍| 77610/82690 [3:32:21<14:32:16, 10.30s/it]\u001b[A\n",
      " 94%|█████████▍| 77611/82690 [3:32:48<21:22:01, 15.15s/it]\u001b[A\n",
      " 94%|█████████▍| 77613/82690 [3:32:56<16:42:06, 11.84s/it]\u001b[A\n",
      " 94%|█████████▍| 77614/82690 [3:32:59<13:15:15,  9.40s/it]\u001b[A\n",
      " 94%|█████████▍| 77615/82690 [3:33:27<20:52:40, 14.81s/it]\u001b[A\n",
      " 94%|█████████▍| 77616/82690 [3:33:28<15:08:40, 10.75s/it]\u001b[A\n",
      " 94%|█████████▍| 77617/82690 [3:34:05<26:12:26, 18.60s/it]\u001b[A\n",
      " 94%|█████████▍| 77619/82690 [3:34:07<18:44:21, 13.30s/it]\u001b[A\n",
      " 94%|█████████▍| 77620/82690 [3:34:07<13:12:33,  9.38s/it]\u001b[A\n",
      " 94%|█████████▍| 77621/82690 [3:34:23<16:07:20, 11.45s/it]\u001b[A\n",
      " 94%|█████████▍| 77622/82690 [3:34:24<11:24:00,  8.10s/it]\u001b[A\n",
      " 94%|█████████▍| 77623/82690 [3:34:26<9:06:32,  6.47s/it] \u001b[A\n",
      " 94%|█████████▍| 77624/82690 [3:34:27<6:41:53,  4.76s/it]\u001b[A\n",
      " 94%|█████████▍| 77625/82690 [3:34:27<4:45:33,  3.38s/it]\u001b[A\n",
      " 94%|█████████▍| 77626/82690 [3:34:29<4:02:07,  2.87s/it]\u001b[A\n",
      " 94%|█████████▍| 77627/82690 [3:34:32<3:58:29,  2.83s/it]\u001b[A\n",
      " 94%|█████████▍| 77629/82690 [3:34:42<4:55:12,  3.50s/it]\u001b[A\n",
      " 94%|█████████▍| 77630/82690 [3:34:45<4:48:14,  3.42s/it]\u001b[A\n",
      " 94%|█████████▍| 77631/82690 [3:35:19<17:31:59, 12.48s/it]\u001b[A\n",
      " 94%|█████████▍| 77632/82690 [3:35:30<16:59:59, 12.10s/it]\u001b[A\n",
      " 94%|█████████▍| 77633/82690 [3:36:16<31:18:52, 22.29s/it]\u001b[A\n",
      " 94%|█████████▍| 77634/82690 [3:36:23<25:00:52, 17.81s/it]\u001b[A\n",
      " 94%|█████████▍| 77636/82690 [3:36:27<18:16:58, 13.02s/it]\u001b[A\n",
      " 94%|█████████▍| 77637/82690 [3:36:50<22:14:11, 15.84s/it]\u001b[A\n",
      " 94%|█████████▍| 77638/82690 [3:37:07<22:54:55, 16.33s/it]\u001b[A\n",
      " 94%|█████████▍| 77639/82690 [3:37:08<16:26:59, 11.72s/it]\u001b[A\n",
      " 94%|█████████▍| 77641/82690 [3:37:10<11:52:35,  8.47s/it]\u001b[A\n",
      " 94%|█████████▍| 77642/82690 [3:37:11<8:44:38,  6.24s/it] \u001b[A\n",
      " 94%|█████████▍| 77644/82690 [3:37:48<14:03:12, 10.03s/it]\u001b[A\n",
      " 94%|█████████▍| 77645/82690 [3:37:52<11:27:48,  8.18s/it]\u001b[A\n",
      " 94%|█████████▍| 77646/82690 [3:38:39<27:40:58, 19.76s/it]\u001b[A\n"
     ]
    },
    {
     "name": "stderr",
     "output_type": "stream",
     "text": [
      " 94%|█████████▍| 77649/82690 [3:38:41<19:34:18, 13.98s/it]\u001b[A\n",
      " 94%|█████████▍| 77650/82690 [3:38:50<17:29:17, 12.49s/it]\u001b[A\n",
      " 94%|█████████▍| 77651/82690 [3:38:57<15:10:43, 10.84s/it]\u001b[A\n",
      " 94%|█████████▍| 77652/82690 [3:39:30<24:36:47, 17.59s/it]\u001b[A\n",
      " 94%|█████████▍| 77653/82690 [3:40:23<39:19:10, 28.10s/it]\u001b[A\n",
      " 94%|█████████▍| 77654/82690 [3:40:24<28:13:02, 20.17s/it]\u001b[A\n",
      " 94%|█████████▍| 77655/82690 [3:40:50<30:35:22, 21.87s/it]\u001b[A\n",
      " 94%|█████████▍| 77656/82690 [3:41:02<26:22:06, 18.86s/it]\u001b[A\n",
      " 94%|█████████▍| 77658/82690 [3:41:03<18:39:02, 13.34s/it]\u001b[A\n",
      " 94%|█████████▍| 77659/82690 [3:41:07<14:36:08, 10.45s/it]\u001b[A\n",
      " 94%|█████████▍| 77662/82690 [3:42:04<18:17:00, 13.09s/it]\u001b[A\n",
      " 94%|█████████▍| 77663/82690 [3:42:42<28:25:06, 20.35s/it]\u001b[A\n",
      " 94%|█████████▍| 77664/82690 [3:42:49<22:51:28, 16.37s/it]\u001b[A\n",
      " 94%|█████████▍| 77665/82690 [3:43:05<22:50:04, 16.36s/it]\u001b[A\n",
      " 94%|█████████▍| 77666/82690 [3:43:08<17:02:29, 12.21s/it]\u001b[A\n",
      " 94%|█████████▍| 77667/82690 [3:43:09<12:21:19,  8.86s/it]\u001b[A\n",
      " 94%|█████████▍| 77669/82690 [3:43:34<13:58:52, 10.02s/it]\u001b[A\n",
      " 94%|█████████▍| 77670/82690 [3:43:43<13:40:00,  9.80s/it]\u001b[A\n",
      " 94%|█████████▍| 77671/82690 [3:43:45<10:06:17,  7.25s/it]\u001b[A\n",
      " 94%|█████████▍| 77672/82690 [3:43:45<7:10:09,  5.14s/it] \u001b[A\n",
      " 94%|█████████▍| 77676/82690 [3:43:46<5:08:04,  3.69s/it]\u001b[A\n",
      " 94%|█████████▍| 77678/82690 [3:44:06<7:44:23,  5.56s/it]\u001b[A\n",
      " 94%|█████████▍| 77679/82690 [3:44:18<10:23:34,  7.47s/it]\u001b[A\n",
      " 94%|█████████▍| 77680/82690 [3:44:59<24:22:09, 17.51s/it]\u001b[A\n",
      " 94%|█████████▍| 77681/82690 [3:45:55<40:43:10, 29.27s/it]\u001b[A\n",
      " 94%|█████████▍| 77682/82690 [3:45:59<30:05:44, 21.63s/it]\u001b[A\n",
      " 94%|█████████▍| 77683/82690 [3:46:09<25:12:09, 18.12s/it]\u001b[A\n",
      " 94%|█████████▍| 77685/82690 [3:46:13<18:22:21, 13.22s/it]\u001b[A\n",
      " 94%|█████████▍| 77686/82690 [3:46:18<15:00:52, 10.80s/it]\u001b[A\n",
      " 94%|█████████▍| 77689/82690 [3:46:25<11:32:30,  8.31s/it]\u001b[A\n",
      " 94%|█████████▍| 77690/82690 [3:46:29<9:37:20,  6.93s/it] \u001b[A\n",
      " 94%|█████████▍| 77691/82690 [3:46:32<7:54:10,  5.69s/it]\u001b[A\n",
      " 94%|█████████▍| 77692/82690 [3:46:33<5:57:51,  4.30s/it]\u001b[A\n",
      " 94%|█████████▍| 77693/82690 [3:46:43<8:33:46,  6.17s/it]\u001b[A\n",
      " 94%|█████████▍| 77694/82690 [3:46:59<12:34:58,  9.07s/it]\u001b[A\n",
      " 94%|█████████▍| 77695/82690 [3:47:19<17:01:46, 12.27s/it]\u001b[A\n",
      " 94%|█████████▍| 77696/82690 [3:47:23<13:30:23,  9.74s/it]\u001b[A\n",
      " 94%|█████████▍| 77697/82690 [3:47:28<11:29:04,  8.28s/it]\u001b[A\n",
      " 94%|█████████▍| 77698/82690 [3:47:30<9:00:57,  6.50s/it] \u001b[A\n",
      " 94%|█████████▍| 77699/82690 [3:47:58<17:43:33, 12.79s/it]\u001b[A\n",
      " 94%|█████████▍| 77701/82690 [3:48:02<13:19:39,  9.62s/it]\u001b[A\n",
      " 94%|█████████▍| 77702/82690 [3:48:09<12:23:04,  8.94s/it]\u001b[A\n",
      " 94%|█████████▍| 77703/82690 [3:48:10<8:51:08,  6.39s/it] \u001b[A\n",
      " 94%|█████████▍| 77704/82690 [3:48:16<8:43:40,  6.30s/it]\u001b[A\n",
      " 94%|█████████▍| 77705/82690 [3:48:16<6:13:46,  4.50s/it]\u001b[A\n",
      " 94%|█████████▍| 77706/82690 [3:48:18<5:10:56,  3.74s/it]\u001b[A\n",
      " 94%|█████████▍| 77707/82690 [3:48:18<3:42:39,  2.68s/it]\u001b[A\n",
      " 94%|█████████▍| 77708/82690 [3:48:52<16:44:16, 12.09s/it]\u001b[A\n",
      " 94%|█████████▍| 77709/82690 [3:48:56<13:00:59,  9.41s/it]\u001b[A\n",
      " 94%|█████████▍| 77710/82690 [3:48:56<9:11:18,  6.64s/it] \u001b[A\n",
      " 94%|█████████▍| 77711/82690 [3:49:31<21:08:58, 15.29s/it]\u001b[A\n",
      " 94%|█████████▍| 77712/82690 [3:49:34<15:59:32, 11.57s/it]\u001b[A\n",
      " 94%|█████████▍| 77713/82690 [3:49:34<11:16:12,  8.15s/it]\u001b[A\n",
      " 94%|█████████▍| 77714/82690 [3:50:18<25:50:43, 18.70s/it]\u001b[A\n",
      " 94%|█████████▍| 77715/82690 [3:50:40<27:25:17, 19.84s/it]\u001b[A\n",
      " 94%|█████████▍| 77716/82690 [3:50:42<19:45:40, 14.30s/it]\u001b[A\n",
      " 94%|█████████▍| 77718/82690 [3:50:42<13:51:46, 10.04s/it]\u001b[A\n",
      " 94%|█████████▍| 77719/82690 [3:50:52<13:53:47, 10.06s/it]\u001b[A\n",
      " 94%|█████████▍| 77720/82690 [3:50:56<11:36:43,  8.41s/it]\u001b[A\n",
      " 94%|█████████▍| 77721/82690 [3:50:57<8:30:27,  6.16s/it] \u001b[A\n",
      " 94%|█████████▍| 77722/82690 [3:50:59<6:42:28,  4.86s/it]\u001b[A\n",
      " 94%|█████████▍| 77723/82690 [3:50:59<4:51:22,  3.52s/it]\u001b[A\n",
      " 94%|█████████▍| 77726/82690 [3:51:47<9:57:22,  7.22s/it]\u001b[A\n",
      " 94%|█████████▍| 77727/82690 [3:51:56<10:49:41,  7.85s/it]\u001b[A\n",
      " 94%|█████████▍| 77728/82690 [3:52:10<13:24:16,  9.73s/it]\u001b[A\n",
      " 94%|█████████▍| 77729/82690 [3:52:15<11:11:58,  8.13s/it]\u001b[A\n",
      " 94%|█████████▍| 77730/82690 [3:52:24<11:43:13,  8.51s/it]\u001b[A\n",
      " 94%|█████████▍| 77731/82690 [3:52:33<12:00:32,  8.72s/it]\u001b[A\n",
      " 94%|█████████▍| 77732/82690 [3:52:43<12:08:51,  8.82s/it]\u001b[A\n",
      " 94%|█████████▍| 77733/82690 [3:53:09<19:30:15, 14.16s/it]\u001b[A\n",
      " 94%|█████████▍| 77735/82690 [3:53:10<13:43:54,  9.98s/it]\u001b[A\n",
      " 94%|█████████▍| 77736/82690 [3:53:35<20:01:02, 14.55s/it]\u001b[A\n",
      " 94%|█████████▍| 77737/82690 [3:53:45<18:07:55, 13.18s/it]\u001b[A\n",
      " 94%|█████████▍| 77738/82690 [3:53:45<12:49:48,  9.33s/it]\u001b[A\n",
      " 94%|█████████▍| 77739/82690 [3:53:56<13:22:46,  9.73s/it]\u001b[A\n",
      " 94%|█████████▍| 77740/82690 [3:53:57<9:48:14,  7.13s/it] \u001b[A\n",
      " 94%|█████████▍| 77741/82690 [3:54:12<12:54:39,  9.39s/it]\u001b[A\n",
      " 94%|█████████▍| 77742/82690 [3:54:17<11:07:37,  8.10s/it]\u001b[A\n",
      " 94%|█████████▍| 77743/82690 [3:54:18<8:12:03,  5.97s/it] \u001b[A\n",
      " 94%|█████████▍| 77744/82690 [3:54:19<6:13:03,  4.53s/it]\u001b[A\n",
      " 94%|█████████▍| 77745/82690 [3:54:22<5:41:27,  4.14s/it]\u001b[A\n",
      " 94%|█████████▍| 77746/82690 [3:54:25<5:16:46,  3.84s/it]\u001b[A\n",
      " 94%|█████████▍| 77747/82690 [3:54:27<4:20:21,  3.16s/it]\u001b[A\n",
      " 94%|█████████▍| 77748/82690 [3:55:02<17:45:19, 12.93s/it]\u001b[A\n",
      " 94%|█████████▍| 77749/82690 [3:55:05<13:28:49,  9.82s/it]\u001b[A\n",
      " 94%|█████████▍| 77750/82690 [3:55:12<12:21:11,  9.00s/it]\u001b[A\n",
      " 94%|█████████▍| 77751/82690 [3:55:35<18:14:49, 13.30s/it]\u001b[A\n",
      " 94%|█████████▍| 77752/82690 [3:55:42<15:35:39, 11.37s/it]\u001b[A\n",
      " 94%|█████████▍| 77755/82690 [3:56:11<14:54:13, 10.87s/it]\u001b[A\n",
      " 94%|█████████▍| 77756/82690 [3:56:16<12:17:15,  8.97s/it]\u001b[A\n",
      " 94%|█████████▍| 77757/82690 [3:56:17<9:03:43,  6.61s/it] \u001b[A\n",
      " 94%|█████████▍| 77758/82690 [3:56:20<7:28:56,  5.46s/it]\u001b[A\n",
      " 94%|█████████▍| 77759/82690 [3:57:12<26:35:33, 19.41s/it]\u001b[A\n",
      " 94%|█████████▍| 77760/82690 [3:57:13<19:04:16, 13.93s/it]\u001b[A\n",
      " 94%|█████████▍| 77761/82690 [3:57:20<16:18:58, 11.92s/it]\u001b[A\n",
      " 94%|█████████▍| 77762/82690 [3:57:22<11:59:22,  8.76s/it]\u001b[A\n",
      " 94%|█████████▍| 77763/82690 [3:58:06<26:45:50, 19.56s/it]\u001b[A\n",
      " 94%|█████████▍| 77764/82690 [3:58:08<19:31:32, 14.27s/it]\u001b[A\n",
      " 94%|█████████▍| 77765/82690 [3:58:22<19:25:09, 14.19s/it]\u001b[A\n",
      " 94%|█████████▍| 77766/82690 [3:58:24<14:21:14, 10.49s/it]\u001b[A\n",
      " 94%|█████████▍| 77767/82690 [3:58:25<10:33:57,  7.73s/it]\u001b[A\n",
      " 94%|█████████▍| 77768/82690 [3:58:27<8:02:49,  5.89s/it] \u001b[A\n",
      " 94%|█████████▍| 77769/82690 [3:58:27<5:45:39,  4.21s/it]\u001b[A\n",
      " 94%|█████████▍| 77771/82690 [3:58:35<5:37:13,  4.11s/it]\u001b[A\n",
      " 94%|█████████▍| 77772/82690 [3:58:35<4:06:22,  3.01s/it]\u001b[A\n",
      " 94%|█████████▍| 77774/82690 [3:59:26<13:08:27,  9.62s/it]\u001b[A\n",
      " 94%|█████████▍| 77775/82690 [3:59:28<10:14:02,  7.50s/it]\u001b[A\n",
      " 94%|█████████▍| 77776/82690 [3:59:37<10:51:16,  7.95s/it]\u001b[A\n",
      " 94%|█████████▍| 77778/82690 [3:59:43<8:46:24,  6.43s/it] \u001b[A\n",
      " 94%|█████████▍| 77779/82690 [3:59:43<6:13:52,  4.57s/it]\u001b[A\n",
      " 94%|█████████▍| 77780/82690 [3:59:49<6:37:20,  4.86s/it]\u001b[A\n",
      " 94%|█████████▍| 77781/82690 [3:59:49<4:43:17,  3.46s/it]\u001b[A\n",
      " 94%|█████████▍| 77782/82690 [3:59:52<4:24:52,  3.24s/it]\u001b[A\n",
      " 94%|█████████▍| 77783/82690 [3:59:55<4:23:08,  3.22s/it]\u001b[A\n",
      " 94%|█████████▍| 77784/82690 [3:59:58<4:28:06,  3.28s/it]\u001b[A\n",
      " 94%|█████████▍| 77785/82690 [4:00:13<9:11:46,  6.75s/it]\u001b[A\n",
      " 94%|█████████▍| 77786/82690 [4:00:16<7:49:47,  5.75s/it]\u001b[A\n",
      " 94%|█████████▍| 77787/82690 [4:00:24<8:29:24,  6.23s/it]\u001b[A\n",
      " 94%|█████████▍| 77789/82690 [4:00:25<6:15:37,  4.60s/it]\u001b[A\n",
      " 94%|█████████▍| 77791/82690 [4:00:28<5:00:32,  3.68s/it]\u001b[A\n",
      " 94%|█████████▍| 77792/82690 [4:00:31<4:28:42,  3.29s/it]\u001b[A\n",
      " 94%|█████████▍| 77793/82690 [4:00:34<4:37:28,  3.40s/it]\u001b[A\n",
      " 94%|█████████▍| 77794/82690 [4:00:48<8:43:09,  6.41s/it]\u001b[A\n",
      " 94%|█████████▍| 77795/82690 [4:00:48<6:13:10,  4.57s/it]\u001b[A\n",
      " 94%|█████████▍| 77796/82690 [4:00:50<4:53:32,  3.60s/it]\u001b[A\n",
      " 94%|█████████▍| 77797/82690 [4:00:50<3:29:58,  2.57s/it]\u001b[A\n",
      " 94%|█████████▍| 77798/82690 [4:00:50<2:30:41,  1.85s/it]\u001b[A\n",
      " 94%|█████████▍| 77799/82690 [4:00:53<2:58:01,  2.18s/it]\u001b[A\n",
      " 94%|█████████▍| 77800/82690 [4:00:53<2:12:32,  1.63s/it]\u001b[A\n",
      " 94%|█████████▍| 77801/82690 [4:01:01<4:50:55,  3.57s/it]\u001b[A\n",
      " 94%|█████████▍| 77802/82690 [4:01:09<6:23:01,  4.70s/it]\u001b[A\n",
      " 94%|█████████▍| 77804/82690 [4:01:09<4:38:00,  3.41s/it]\u001b[A\n",
      " 94%|█████████▍| 77805/82690 [4:01:12<4:05:40,  3.02s/it]\u001b[A\n",
      " 94%|█████████▍| 77806/82690 [4:01:31<10:43:38,  7.91s/it]\u001b[A\n",
      " 94%|█████████▍| 77807/82690 [4:01:31<7:37:15,  5.62s/it] \u001b[A\n",
      " 94%|█████████▍| 77808/82690 [4:01:36<7:16:34,  5.37s/it]\u001b[A\n",
      " 94%|█████████▍| 77810/82690 [4:01:37<5:15:53,  3.88s/it]\u001b[A\n",
      " 94%|█████████▍| 77812/82690 [4:02:21<12:43:36,  9.39s/it]\u001b[A\n",
      " 94%|█████████▍| 77813/82690 [4:02:26<10:41:05,  7.89s/it]\u001b[A\n",
      " 94%|█████████▍| 77814/82690 [4:02:40<13:18:19,  9.82s/it]\u001b[A\n",
      " 94%|█████████▍| 77815/82690 [4:02:40<9:25:56,  6.97s/it] \u001b[A\n",
      " 94%|█████████▍| 77816/82690 [4:03:29<26:21:47, 19.47s/it]\u001b[A\n",
      " 94%|█████████▍| 77817/82690 [4:03:56<29:18:45, 21.66s/it]\u001b[A\n",
      " 94%|█████████▍| 77818/82690 [4:04:35<36:28:17, 26.95s/it]\u001b[A\n",
      " 94%|█████████▍| 77819/82690 [4:04:36<26:00:14, 19.22s/it]\u001b[A\n",
      " 94%|█████████▍| 77821/82690 [4:04:50<21:04:38, 15.58s/it]\u001b[A\n",
      " 94%|█████████▍| 77822/82690 [4:05:02<19:33:54, 14.47s/it]\u001b[A\n",
      " 94%|█████████▍| 77823/82690 [4:05:10<16:53:57, 12.50s/it]\u001b[A\n",
      " 94%|█████████▍| 77824/82690 [4:05:12<12:42:37,  9.40s/it]\u001b[A\n",
      " 94%|█████████▍| 77825/82690 [4:05:14<9:36:12,  7.11s/it] \u001b[A\n",
      " 94%|█████████▍| 77826/82690 [4:05:47<20:16:02, 15.00s/it]\u001b[A\n",
      " 94%|█████████▍| 77827/82690 [4:05:52<15:53:16, 11.76s/it]\u001b[A\n",
      " 94%|█████████▍| 77828/82690 [4:05:54<11:54:30,  8.82s/it]\u001b[A\n",
      " 94%|█████████▍| 77829/82690 [4:06:29<22:39:48, 16.78s/it]\u001b[A\n",
      " 94%|█████████▍| 77830/82690 [4:06:33<17:37:49, 13.06s/it]\u001b[A\n",
      " 94%|█████████▍| 77831/82690 [4:06:34<12:28:06,  9.24s/it]\u001b[A\n",
      " 94%|█████████▍| 77832/82690 [4:06:40<11:20:46,  8.41s/it]\u001b[A\n",
      " 94%|█████████▍| 77833/82690 [4:06:44<9:23:55,  6.97s/it] \u001b[A\n",
      " 94%|█████████▍| 77834/82690 [4:06:46<7:35:41,  5.63s/it]\u001b[A\n",
      " 94%|█████████▍| 77835/82690 [4:06:48<6:03:55,  4.50s/it]\u001b[A\n",
      " 94%|█████████▍| 77836/82690 [4:06:56<7:37:16,  5.65s/it]\u001b[A\n",
      " 94%|█████████▍| 77839/82690 [4:06:58<5:29:15,  4.07s/it]\u001b[A\n",
      " 94%|█████████▍| 77840/82690 [4:06:58<4:09:28,  3.09s/it]\u001b[A\n",
      " 94%|█████████▍| 77841/82690 [4:07:07<6:29:00,  4.81s/it]\u001b[A\n",
      " 94%|█████████▍| 77842/82690 [4:07:13<6:58:06,  5.17s/it]\u001b[A\n",
      " 94%|█████████▍| 77843/82690 [4:07:17<6:18:51,  4.69s/it]\u001b[A\n",
      " 94%|█████████▍| 77844/82690 [4:07:31<10:12:44,  7.59s/it]\u001b[A\n",
      " 94%|█████████▍| 77846/82690 [4:07:33<7:33:45,  5.62s/it] \u001b[A\n",
      " 94%|█████████▍| 77847/82690 [4:07:35<6:02:53,  4.50s/it]\u001b[A\n",
      " 94%|█████████▍| 77852/82690 [4:08:06<6:44:57,  5.02s/it]\u001b[A\n",
      " 94%|█████████▍| 77853/82690 [4:08:30<14:14:22, 10.60s/it]\u001b[A\n",
      " 94%|█████████▍| 77854/82690 [4:08:43<15:06:12, 11.24s/it]\u001b[A\n",
      " 94%|█████████▍| 77855/82690 [4:09:00<17:42:29, 13.19s/it]\u001b[A\n",
      " 94%|█████████▍| 77856/82690 [4:09:03<13:14:43,  9.86s/it]\u001b[A\n",
      " 94%|█████████▍| 77857/82690 [4:09:27<18:57:05, 14.12s/it]\u001b[A\n",
      " 94%|█████████▍| 77859/82690 [4:09:28<13:27:25, 10.03s/it]\u001b[A\n",
      " 94%|█████████▍| 77861/82690 [4:10:07<17:17:15, 12.89s/it]\u001b[A\n",
      " 94%|█████████▍| 77862/82690 [4:10:22<18:08:20, 13.53s/it]\u001b[A\n",
      " 94%|█████████▍| 77863/82690 [4:10:48<23:24:34, 17.46s/it]\u001b[A\n",
      " 94%|█████████▍| 77864/82690 [4:10:49<16:48:40, 12.54s/it]\u001b[A\n",
      " 94%|█████████▍| 77865/82690 [4:10:53<13:21:12,  9.96s/it]\u001b[A\n",
      " 94%|█████████▍| 77868/82690 [4:10:56<9:39:12,  7.21s/it] \u001b[A\n",
      " 94%|█████████▍| 77869/82690 [4:10:59<8:15:13,  6.16s/it]\u001b[A\n",
      " 94%|█████████▍| 77871/82690 [4:11:13<8:25:01,  6.29s/it]\u001b[A\n",
      " 94%|█████████▍| 77872/82690 [4:11:17<7:32:40,  5.64s/it]\u001b[A\n",
      " 94%|█████████▍| 77873/82690 [4:11:23<7:37:53,  5.70s/it]\u001b[A\n",
      " 94%|█████████▍| 77875/82690 [4:12:07<14:13:55, 10.64s/it]\u001b[A\n",
      " 94%|█████████▍| 77876/82690 [4:12:08<10:27:15,  7.82s/it]\u001b[A\n",
      " 94%|█████████▍| 77877/82690 [4:12:09<7:50:28,  5.87s/it] \u001b[A\n",
      " 94%|█████████▍| 77878/82690 [4:12:19<9:09:12,  6.85s/it]\u001b[A\n",
      " 94%|█████████▍| 77881/82690 [4:12:42<9:35:35,  7.18s/it]\u001b[A\n",
      " 94%|█████████▍| 77882/82690 [4:12:50<9:45:50,  7.31s/it]\u001b[A\n",
      " 94%|█████████▍| 77883/82690 [4:12:54<8:27:36,  6.34s/it]\u001b[A\n",
      " 94%|█████████▍| 77886/82690 [4:12:56<6:12:28,  4.65s/it]\u001b[A\n",
      " 94%|█████████▍| 77887/82690 [4:12:58<4:51:02,  3.64s/it]\u001b[A\n",
      " 94%|█████████▍| 77888/82690 [4:13:08<7:33:20,  5.66s/it]\u001b[A\n",
      " 94%|█████████▍| 77889/82690 [4:13:08<5:25:25,  4.07s/it]\u001b[A\n",
      " 94%|█████████▍| 77890/82690 [4:13:11<4:53:09,  3.66s/it]\u001b[A\n",
      " 94%|█████████▍| 77891/82690 [4:13:16<5:14:09,  3.93s/it]\u001b[A\n",
      " 94%|█████████▍| 77892/82690 [4:13:30<9:18:04,  6.98s/it]\u001b[A\n",
      " 94%|█████████▍| 77893/82690 [4:14:15<24:37:32, 18.48s/it]\u001b[A\n",
      " 94%|█████████▍| 77894/82690 [4:14:16<17:50:10, 13.39s/it]\u001b[A\n",
      " 94%|█████████▍| 77895/82690 [4:14:53<27:02:44, 20.31s/it]\u001b[A\n",
      " 94%|█████████▍| 77896/82690 [4:15:06<23:57:36, 17.99s/it]\u001b[A\n",
      " 94%|█████████▍| 77897/82690 [4:15:09<18:07:16, 13.61s/it]\u001b[A\n",
      " 94%|█████████▍| 77898/82690 [4:15:13<14:27:10, 10.86s/it]\u001b[A\n",
      " 94%|█████████▍| 77900/82690 [4:15:31<13:33:19, 10.19s/it]\u001b[A\n",
      " 94%|█████████▍| 77901/82690 [4:15:31<9:48:54,  7.38s/it] \u001b[A\n",
      " 94%|█████████▍| 77902/82690 [4:15:32<7:01:32,  5.28s/it]\u001b[A\n",
      " 94%|█████████▍| 77903/82690 [4:15:33<5:15:19,  3.95s/it]\u001b[A\n",
      " 94%|█████████▍| 77904/82690 [4:15:39<6:01:45,  4.54s/it]\u001b[A\n",
      " 94%|█████████▍| 77905/82690 [4:15:39<4:34:05,  3.44s/it]\u001b[A\n",
      " 94%|█████████▍| 77906/82690 [4:15:42<4:20:03,  3.26s/it]\u001b[A\n",
      " 94%|█████████▍| 77907/82690 [4:15:43<3:21:39,  2.53s/it]\u001b[A\n",
      " 94%|█████████▍| 77909/82690 [4:16:25<10:45:20,  8.10s/it]\u001b[A\n",
      " 94%|█████████▍| 77910/82690 [4:16:27<8:13:32,  6.20s/it] \u001b[A\n",
      " 94%|█████████▍| 77912/82690 [4:16:52<10:48:51,  8.15s/it]\u001b[A\n",
      " 94%|█████████▍| 77913/82690 [4:16:53<7:43:05,  5.82s/it] \u001b[A\n",
      " 94%|█████████▍| 77914/82690 [4:16:58<7:39:55,  5.78s/it]\u001b[A\n",
      " 94%|█████████▍| 77915/82690 [4:17:00<6:02:42,  4.56s/it]\u001b[A\n",
      " 94%|█████████▍| 77917/82690 [4:17:05<5:13:14,  3.94s/it]\u001b[A\n",
      " 94%|█████████▍| 77918/82690 [4:17:16<7:59:09,  6.02s/it]\u001b[A\n",
      " 94%|█████████▍| 77919/82690 [4:17:17<5:46:56,  4.36s/it]\u001b[A\n",
      " 94%|█████████▍| 77921/82690 [4:17:19<4:30:14,  3.40s/it]\u001b[A\n",
      " 94%|█████████▍| 77922/82690 [4:17:46<14:04:01, 10.62s/it]\u001b[A\n",
      " 94%|█████████▍| 77923/82690 [4:17:47<10:13:00,  7.72s/it]\u001b[A\n",
      " 94%|█████████▍| 77924/82690 [4:18:05<14:03:47, 10.62s/it]\u001b[A\n",
      " 94%|█████████▍| 77925/82690 [4:18:14<13:31:36, 10.22s/it]\u001b[A\n",
      " 94%|█████████▍| 77926/82690 [4:18:14<9:35:55,  7.25s/it] \u001b[A\n",
      " 94%|█████████▍| 77927/82690 [4:18:17<7:56:22,  6.00s/it]\u001b[A\n",
      " 94%|█████████▍| 77930/82690 [4:18:18<5:42:07,  4.31s/it]\u001b[A\n",
      " 94%|█████████▍| 77931/82690 [4:18:31<8:45:21,  6.62s/it]\u001b[A\n",
      " 94%|█████████▍| 77932/82690 [4:19:15<23:48:56, 18.02s/it]\u001b[A\n",
      " 94%|█████████▍| 77933/82690 [4:19:16<17:07:13, 12.96s/it]\u001b[A\n",
      " 94%|█████████▍| 77934/82690 [4:19:22<14:06:32, 10.68s/it]\u001b[A\n",
      " 94%|█████████▍| 77935/82690 [4:19:23<10:17:54,  7.80s/it]\u001b[A\n",
      " 94%|█████████▍| 77936/82690 [4:19:24<7:43:58,  5.86s/it] \u001b[A\n",
      " 94%|█████████▍| 77937/82690 [4:19:26<6:06:33,  4.63s/it]\u001b[A\n",
      " 94%|█████████▍| 77938/82690 [4:19:33<7:12:51,  5.47s/it]\u001b[A\n",
      " 94%|█████████▍| 77939/82690 [4:20:07<18:30:45, 14.03s/it]\u001b[A\n",
      " 94%|█████████▍| 77940/82690 [4:20:40<26:04:30, 19.76s/it]\u001b[A\n",
      " 94%|█████████▍| 77941/82690 [4:20:45<20:11:28, 15.31s/it]\u001b[A\n",
      " 94%|█████████▍| 77942/82690 [4:20:52<16:59:02, 12.88s/it]\u001b[A\n",
      " 94%|█████████▍| 77943/82690 [4:20:53<12:14:20,  9.28s/it]\u001b[A\n",
      " 94%|█████████▍| 77944/82690 [4:21:38<26:19:40, 19.97s/it]\u001b[A\n",
      " 94%|█████████▍| 77945/82690 [4:21:39<18:50:21, 14.29s/it]\u001b[A\n",
      " 94%|█████████▍| 77946/82690 [4:21:56<19:57:19, 15.14s/it]\u001b[A\n",
      " 94%|█████████▍| 77947/82690 [4:22:19<22:53:29, 17.37s/it]\u001b[A\n",
      " 94%|█████████▍| 77949/82690 [4:22:20<16:10:41, 12.28s/it]\u001b[A\n",
      " 94%|█████████▍| 77950/82690 [4:22:31<15:45:24, 11.97s/it]\u001b[A\n",
      " 94%|█████████▍| 77951/82690 [4:22:35<12:41:58,  9.65s/it]\u001b[A\n",
      " 94%|█████████▍| 77952/82690 [4:22:43<11:45:39,  8.94s/it]\u001b[A\n",
      " 94%|█████████▍| 77953/82690 [4:22:46<9:38:08,  7.32s/it] \u001b[A\n",
      " 94%|█████████▍| 77954/82690 [4:22:52<9:04:26,  6.90s/it]\u001b[A\n",
      " 94%|█████████▍| 77955/82690 [4:22:55<7:21:36,  5.60s/it]\u001b[A\n",
      " 94%|█████████▍| 77956/82690 [4:22:57<6:01:54,  4.59s/it]\u001b[A\n",
      " 94%|█████████▍| 77957/82690 [4:23:05<7:22:09,  5.61s/it]\u001b[A\n",
      " 94%|█████████▍| 77958/82690 [4:23:05<5:19:23,  4.05s/it]\u001b[A\n",
      " 94%|█████████▍| 77959/82690 [4:23:14<7:21:47,  5.60s/it]\u001b[A\n",
      " 94%|█████████▍| 77960/82690 [4:23:37<14:12:31, 10.81s/it]\u001b[A\n",
      " 94%|█████████▍| 77961/82690 [4:23:39<10:41:49,  8.14s/it]\u001b[A\n",
      " 94%|█████████▍| 77962/82690 [4:24:20<23:23:00, 17.80s/it]\u001b[A\n",
      " 94%|█████████▍| 77963/82690 [4:24:20<16:33:25, 12.61s/it]\u001b[A\n",
      " 94%|█████████▍| 77964/82690 [4:24:46<21:49:26, 16.62s/it]\u001b[A\n"
     ]
    },
    {
     "name": "stderr",
     "output_type": "stream",
     "text": [
      " 94%|█████████▍| 77965/82690 [4:24:56<19:00:01, 14.48s/it]\u001b[A\n",
      " 94%|█████████▍| 77966/82690 [4:24:58<14:15:38, 10.87s/it]\u001b[A\n",
      " 94%|█████████▍| 77967/82690 [4:24:59<10:27:39,  7.97s/it]\u001b[A\n",
      " 94%|█████████▍| 77968/82690 [4:25:56<29:45:59, 22.69s/it]\u001b[A\n",
      " 94%|█████████▍| 77969/82690 [4:25:59<21:40:52, 16.53s/it]\u001b[A\n",
      " 94%|█████████▍| 77970/82690 [4:26:00<15:43:42, 12.00s/it]\u001b[A\n",
      " 94%|█████████▍| 77971/82690 [4:26:06<13:12:30, 10.08s/it]\u001b[A\n",
      " 94%|█████████▍| 77972/82690 [4:26:07<9:38:43,  7.36s/it] \u001b[A\n",
      " 94%|█████████▍| 77973/82690 [4:26:12<8:50:15,  6.74s/it]\u001b[A\n",
      " 94%|█████████▍| 77976/82690 [4:26:12<6:13:18,  4.75s/it]\u001b[A\n",
      " 94%|█████████▍| 77977/82690 [4:26:22<8:19:31,  6.36s/it]\u001b[A\n",
      " 94%|█████████▍| 77978/82690 [4:27:21<28:58:17, 22.13s/it]\u001b[A\n",
      " 94%|█████████▍| 77980/82690 [4:27:47<25:20:38, 19.37s/it]\u001b[A\n",
      " 94%|█████████▍| 77981/82690 [4:27:51<19:25:09, 14.85s/it]\u001b[A\n",
      " 94%|█████████▍| 77982/82690 [4:27:59<16:46:47, 12.83s/it]\u001b[A\n",
      " 94%|█████████▍| 77983/82690 [4:28:01<12:31:35,  9.58s/it]\u001b[A\n",
      " 94%|█████████▍| 77984/82690 [4:28:28<19:19:37, 14.78s/it]\u001b[A\n",
      " 94%|█████████▍| 77985/82690 [4:28:29<13:52:46, 10.62s/it]\u001b[A\n",
      " 94%|█████████▍| 77986/82690 [4:28:30<9:47:31,  7.49s/it] \u001b[A\n",
      " 94%|█████████▍| 77987/82690 [4:28:30<6:54:56,  5.29s/it]\u001b[A\n",
      " 94%|█████████▍| 77988/82690 [4:28:59<16:16:36, 12.46s/it]\u001b[A\n",
      " 94%|█████████▍| 77989/82690 [4:29:05<13:53:21, 10.64s/it]\u001b[A\n",
      " 94%|█████████▍| 77990/82690 [4:29:09<11:02:38,  8.46s/it]\u001b[A\n",
      " 94%|█████████▍| 77991/82690 [4:29:11<8:41:59,  6.67s/it] \u001b[A\n",
      " 94%|█████████▍| 77992/82690 [4:29:12<6:31:04,  4.99s/it]\u001b[A\n",
      " 94%|█████████▍| 77993/82690 [4:29:15<5:43:53,  4.39s/it]\u001b[A\n",
      " 94%|█████████▍| 77994/82690 [4:29:16<4:25:22,  3.39s/it]\u001b[A\n",
      " 94%|█████████▍| 77995/82690 [4:29:23<5:51:30,  4.49s/it]\u001b[A\n",
      " 94%|█████████▍| 77996/82690 [4:29:24<4:27:18,  3.42s/it]\u001b[A\n",
      " 94%|█████████▍| 77997/82690 [4:29:25<3:26:49,  2.64s/it]\u001b[A\n",
      " 94%|█████████▍| 77999/82690 [4:29:35<4:20:36,  3.33s/it]\u001b[A\n",
      " 94%|█████████▍| 78001/82690 [4:29:35<3:04:06,  2.36s/it]\u001b[A\n",
      " 94%|█████████▍| 78002/82690 [4:29:37<2:59:00,  2.29s/it]\u001b[A\n",
      " 94%|█████████▍| 78003/82690 [4:29:42<3:57:27,  3.04s/it]\u001b[A\n",
      " 94%|█████████▍| 78004/82690 [4:29:46<4:22:39,  3.36s/it]\u001b[A\n",
      " 94%|█████████▍| 78005/82690 [4:29:47<3:26:22,  2.64s/it]\u001b[A\n",
      " 94%|█████████▍| 78008/82690 [4:30:25<7:19:42,  5.63s/it]\u001b[A\n",
      " 94%|█████████▍| 78009/82690 [4:30:25<5:15:08,  4.04s/it]\u001b[A\n",
      " 94%|█████████▍| 78011/82690 [4:30:26<3:44:35,  2.88s/it]\u001b[A\n",
      " 94%|█████████▍| 78012/82690 [4:30:26<2:47:53,  2.15s/it]\u001b[A\n",
      " 94%|█████████▍| 78013/82690 [4:30:28<2:36:16,  2.00s/it]\u001b[A\n",
      " 94%|█████████▍| 78014/82690 [4:30:31<3:11:44,  2.46s/it]\u001b[A\n",
      " 94%|█████████▍| 78015/82690 [4:30:33<2:56:06,  2.26s/it]\u001b[A\n",
      " 94%|█████████▍| 78016/82690 [4:30:34<2:23:03,  1.84s/it]\u001b[A\n",
      " 94%|█████████▍| 78018/82690 [4:30:35<1:52:26,  1.44s/it]\u001b[A\n",
      " 94%|█████████▍| 78019/82690 [4:30:40<3:14:05,  2.49s/it]\u001b[A\n",
      " 94%|█████████▍| 78020/82690 [4:30:40<2:21:26,  1.82s/it]\u001b[A\n",
      " 94%|█████████▍| 78023/82690 [4:31:22<7:04:47,  5.46s/it]\u001b[A\n",
      " 94%|█████████▍| 78024/82690 [4:31:52<16:48:47, 12.97s/it]\u001b[A\n",
      " 94%|█████████▍| 78025/82690 [4:32:43<31:20:04, 24.18s/it]\u001b[A\n",
      " 94%|█████████▍| 78026/82690 [4:32:57<27:24:27, 21.16s/it]\u001b[A\n",
      " 94%|█████████▍| 78027/82690 [4:33:01<20:41:40, 15.98s/it]\u001b[A\n",
      " 94%|█████████▍| 78028/82690 [4:33:02<15:05:43, 11.66s/it]\u001b[A\n",
      " 94%|█████████▍| 78029/82690 [4:33:04<11:16:59,  8.71s/it]\u001b[A\n",
      " 94%|█████████▍| 78030/82690 [4:33:05<8:12:02,  6.34s/it] \u001b[A\n",
      " 94%|█████████▍| 78031/82690 [4:33:17<10:17:38,  7.95s/it]\u001b[A\n",
      " 94%|█████████▍| 78032/82690 [4:33:42<16:52:06, 13.04s/it]\u001b[A\n",
      " 94%|█████████▍| 78033/82690 [4:33:45<13:09:44, 10.17s/it]\u001b[A\n",
      " 94%|█████████▍| 78034/82690 [4:33:46<9:30:47,  7.36s/it] \u001b[A\n",
      " 94%|█████████▍| 78035/82690 [4:34:15<18:04:06, 13.97s/it]\u001b[A\n",
      " 94%|█████████▍| 78036/82690 [4:34:17<13:25:55, 10.39s/it]\u001b[A\n",
      " 94%|█████████▍| 78037/82690 [4:34:19<9:50:48,  7.62s/it] \u001b[A\n",
      " 94%|█████████▍| 78039/82690 [4:34:21<7:18:13,  5.65s/it]\u001b[A\n",
      " 94%|█████████▍| 78040/82690 [4:34:24<6:34:48,  5.09s/it]\u001b[A\n",
      " 94%|█████████▍| 78041/82690 [4:34:25<4:42:10,  3.64s/it]\u001b[A\n",
      " 94%|█████████▍| 78043/82690 [4:34:31<4:32:09,  3.51s/it]\u001b[A\n",
      " 94%|█████████▍| 78044/82690 [4:34:32<3:27:24,  2.68s/it]\u001b[A\n",
      " 94%|█████████▍| 78045/82690 [4:34:35<3:47:14,  2.94s/it]\u001b[A\n",
      " 94%|█████████▍| 78046/82690 [4:34:48<7:29:33,  5.81s/it]\u001b[A\n",
      " 94%|█████████▍| 78047/82690 [4:34:52<6:40:03,  5.17s/it]\u001b[A\n",
      " 94%|█████████▍| 78049/82690 [4:35:06<7:24:25,  5.75s/it]\u001b[A\n",
      " 94%|█████████▍| 78050/82690 [4:35:10<6:49:02,  5.29s/it]\u001b[A\n",
      " 94%|█████████▍| 78051/82690 [4:35:12<5:27:51,  4.24s/it]\u001b[A\n",
      " 94%|█████████▍| 78052/82690 [4:35:22<7:48:33,  6.06s/it]\u001b[A\n",
      " 94%|█████████▍| 78054/82690 [4:35:26<6:11:53,  4.81s/it]\u001b[A\n",
      " 94%|█████████▍| 78055/82690 [4:35:27<4:40:50,  3.64s/it]\u001b[A\n",
      " 94%|█████████▍| 78057/82690 [4:35:32<4:18:14,  3.34s/it]\u001b[A\n",
      " 94%|█████████▍| 78058/82690 [4:35:38<5:18:32,  4.13s/it]\u001b[A\n",
      " 94%|█████████▍| 78060/82690 [4:35:59<7:40:37,  5.97s/it]\u001b[A\n",
      " 94%|█████████▍| 78061/82690 [4:36:17<12:19:04,  9.58s/it]\u001b[A\n",
      " 94%|█████████▍| 78062/82690 [4:36:19<9:34:11,  7.44s/it] \u001b[A\n",
      " 94%|█████████▍| 78063/82690 [4:36:19<6:47:04,  5.28s/it]\u001b[A\n",
      " 94%|█████████▍| 78064/82690 [4:37:04<21:59:36, 17.12s/it]\u001b[A\n",
      " 94%|█████████▍| 78065/82690 [4:37:06<16:12:18, 12.61s/it]\u001b[A\n",
      " 94%|█████████▍| 78066/82690 [4:37:20<16:41:25, 12.99s/it]\u001b[A\n",
      " 94%|█████████▍| 78067/82690 [4:37:20<11:51:31,  9.23s/it]\u001b[A\n",
      " 94%|█████████▍| 78068/82690 [4:37:25<10:08:12,  7.90s/it]\u001b[A\n",
      " 94%|█████████▍| 78069/82690 [4:37:28<8:07:02,  6.32s/it] \u001b[A\n",
      " 94%|█████████▍| 78070/82690 [4:38:07<20:50:29, 16.24s/it]\u001b[A\n",
      " 94%|█████████▍| 78071/82690 [4:38:08<14:44:33, 11.49s/it]\u001b[A\n",
      " 94%|█████████▍| 78072/82690 [4:38:09<10:49:02,  8.43s/it]\u001b[A\n",
      " 94%|█████████▍| 78073/82690 [4:38:25<13:41:59, 10.68s/it]\u001b[A\n",
      " 94%|█████████▍| 78075/82690 [4:38:26<9:47:47,  7.64s/it] \u001b[A\n",
      " 94%|█████████▍| 78076/82690 [4:38:47<15:02:07, 11.73s/it]\u001b[A\n",
      " 94%|█████████▍| 78077/82690 [4:38:54<13:06:49, 10.23s/it]\u001b[A\n",
      " 94%|█████████▍| 78078/82690 [4:38:55<9:31:35,  7.44s/it] \u001b[A\n",
      " 94%|█████████▍| 78080/82690 [4:38:56<6:52:24,  5.37s/it]\u001b[A\n",
      " 94%|█████████▍| 78081/82690 [4:39:00<6:09:27,  4.81s/it]\u001b[A\n",
      " 94%|█████████▍| 78082/82690 [4:39:10<8:08:12,  6.36s/it]\u001b[A\n",
      " 94%|█████████▍| 78083/82690 [4:39:10<5:49:34,  4.55s/it]\u001b[A\n",
      " 94%|█████████▍| 78084/82690 [4:39:11<4:30:40,  3.53s/it]\u001b[A\n",
      " 94%|█████████▍| 78086/82690 [4:39:15<3:56:56,  3.09s/it]\u001b[A\n",
      " 94%|█████████▍| 78087/82690 [4:39:20<4:30:21,  3.52s/it]\u001b[A\n",
      " 94%|█████████▍| 78088/82690 [4:39:25<5:07:17,  4.01s/it]\u001b[A\n",
      " 94%|█████████▍| 78089/82690 [4:39:37<8:09:48,  6.39s/it]\u001b[A\n",
      " 94%|█████████▍| 78091/82690 [4:39:39<6:13:15,  4.87s/it]\u001b[A\n",
      " 94%|█████████▍| 78092/82690 [4:39:41<4:56:17,  3.87s/it]\u001b[A\n",
      " 94%|█████████▍| 78093/82690 [4:40:11<14:59:28, 11.74s/it]\u001b[A\n",
      " 94%|█████████▍| 78095/82690 [4:40:22<12:36:50,  9.88s/it]\u001b[A\n",
      " 94%|█████████▍| 78097/82690 [4:40:27<9:49:16,  7.70s/it] \u001b[A\n",
      " 94%|█████████▍| 78098/82690 [4:40:28<6:56:51,  5.45s/it]\u001b[A\n",
      " 94%|█████████▍| 78100/82690 [4:40:29<5:08:34,  4.03s/it]\u001b[A\n",
      " 94%|█████████▍| 78101/82690 [4:40:29<3:38:47,  2.86s/it]\u001b[A\n",
      " 94%|█████████▍| 78102/82690 [4:40:36<5:14:53,  4.12s/it]\u001b[A\n",
      " 94%|█████████▍| 78103/82690 [4:40:37<4:04:30,  3.20s/it]\u001b[A\n",
      " 94%|█████████▍| 78104/82690 [4:40:40<3:52:07,  3.04s/it]\u001b[A\n",
      " 94%|█████████▍| 78105/82690 [4:40:50<6:37:03,  5.20s/it]\u001b[A\n",
      " 94%|█████████▍| 78106/82690 [4:40:57<7:12:22,  5.66s/it]\u001b[A\n",
      " 94%|█████████▍| 78107/82690 [4:41:01<6:29:10,  5.10s/it]\u001b[A\n",
      " 94%|█████████▍| 78108/82690 [4:41:43<20:32:00, 16.13s/it]\u001b[A\n",
      " 94%|█████████▍| 78109/82690 [4:42:10<24:58:40, 19.63s/it]\u001b[A\n",
      " 94%|█████████▍| 78110/82690 [4:42:18<20:18:03, 15.96s/it]\u001b[A\n",
      " 94%|█████████▍| 78112/82690 [4:42:34<17:20:26, 13.64s/it]\u001b[A\n",
      " 94%|█████████▍| 78113/82690 [4:42:50<18:16:30, 14.37s/it]\u001b[A\n",
      " 94%|█████████▍| 78114/82690 [4:42:51<13:07:34, 10.33s/it]\u001b[A\n",
      " 94%|█████████▍| 78115/82690 [4:43:05<14:40:20, 11.55s/it]\u001b[A\n",
      " 94%|█████████▍| 78116/82690 [4:43:39<22:56:55, 18.06s/it]\u001b[A\n",
      " 94%|█████████▍| 78117/82690 [4:43:40<16:27:05, 12.95s/it]\u001b[A\n",
      " 94%|█████████▍| 78118/82690 [4:43:42<12:13:26,  9.63s/it]\u001b[A\n",
      " 94%|█████████▍| 78119/82690 [4:44:02<16:24:13, 12.92s/it]\u001b[A\n",
      " 94%|█████████▍| 78120/82690 [4:44:05<12:37:01,  9.94s/it]\u001b[A\n",
      " 94%|█████████▍| 78121/82690 [4:44:23<15:43:35, 12.39s/it]\u001b[A\n",
      " 94%|█████████▍| 78122/82690 [4:44:31<13:57:01, 10.99s/it]\u001b[A\n",
      " 94%|█████████▍| 78123/82690 [4:44:38<12:17:28,  9.69s/it]\u001b[A\n",
      " 94%|█████████▍| 78124/82690 [4:44:39<9:06:29,  7.18s/it] \u001b[A\n",
      " 94%|█████████▍| 78125/82690 [4:44:40<6:45:12,  5.33s/it]\u001b[A\n",
      " 94%|█████████▍| 78126/82690 [4:45:07<15:01:22, 11.85s/it]\u001b[A\n",
      " 94%|█████████▍| 78127/82690 [4:45:08<10:52:08,  8.58s/it]\u001b[A\n",
      " 94%|█████████▍| 78128/82690 [4:45:44<21:26:51, 16.93s/it]\u001b[A\n",
      " 94%|█████████▍| 78129/82690 [4:45:48<16:14:51, 12.82s/it]\u001b[A\n",
      " 94%|█████████▍| 78130/82690 [4:45:49<11:49:48,  9.34s/it]\u001b[A\n",
      " 94%|█████████▍| 78132/82690 [4:45:50<8:26:38,  6.67s/it] \u001b[A\n",
      " 94%|█████████▍| 78134/82690 [4:45:53<6:27:48,  5.11s/it]\u001b[A\n",
      " 94%|█████████▍| 78135/82690 [4:46:00<7:05:20,  5.60s/it]\u001b[A\n",
      " 94%|█████████▍| 78136/82690 [4:46:46<22:38:47, 17.90s/it]\u001b[A\n",
      " 94%|█████████▍| 78137/82690 [4:46:46<15:58:33, 12.63s/it]\u001b[A\n",
      " 94%|█████████▍| 78138/82690 [4:46:47<11:29:05,  9.08s/it]\u001b[A\n",
      " 94%|█████████▍| 78139/82690 [4:46:47<8:08:11,  6.44s/it] \u001b[A\n",
      " 94%|█████████▍| 78140/82690 [4:46:48<5:47:59,  4.59s/it]\u001b[A\n",
      " 94%|█████████▍| 78141/82690 [4:47:38<23:05:49, 18.28s/it]\u001b[A\n",
      " 94%|█████████▍| 78142/82690 [4:47:40<17:04:19, 13.51s/it]\u001b[A\n",
      " 95%|█████████▍| 78144/82690 [4:48:21<19:37:14, 15.54s/it]\u001b[A\n",
      " 95%|█████████▍| 78145/82690 [4:48:26<15:50:42, 12.55s/it]\u001b[A\n",
      " 95%|█████████▍| 78146/82690 [4:48:35<14:07:46, 11.19s/it]\u001b[A\n",
      " 95%|█████████▍| 78147/82690 [4:48:44<13:24:53, 10.63s/it]\u001b[A\n",
      " 95%|█████████▍| 78148/82690 [4:50:20<45:53:18, 36.37s/it]\u001b[A\n",
      " 95%|█████████▍| 78149/82690 [4:50:21<32:31:13, 25.78s/it]\u001b[A\n",
      " 95%|█████████▍| 78150/82690 [4:50:24<23:47:25, 18.86s/it]\u001b[A\n",
      " 95%|█████████▍| 78151/82690 [4:50:26<17:19:34, 13.74s/it]\u001b[A\n",
      " 95%|█████████▍| 78153/82690 [4:50:29<12:45:50, 10.13s/it]\u001b[A\n",
      " 95%|█████████▍| 78154/82690 [4:50:53<18:01:34, 14.31s/it]\u001b[A\n",
      " 95%|█████████▍| 78155/82690 [4:51:06<17:19:21, 13.75s/it]\u001b[A\n",
      " 95%|█████████▍| 78156/82690 [4:51:41<25:25:19, 20.19s/it]\u001b[A\n",
      " 95%|█████████▍| 78157/82690 [4:52:19<32:15:38, 25.62s/it]\u001b[A\n",
      " 95%|█████████▍| 78158/82690 [4:52:20<22:54:41, 18.20s/it]\u001b[A\n",
      " 95%|█████████▍| 78159/82690 [4:52:41<23:56:20, 19.02s/it]\u001b[A\n",
      " 95%|█████████▍| 78160/82690 [4:52:41<16:50:06, 13.38s/it]\u001b[A\n",
      " 95%|█████████▍| 78162/82690 [4:52:43<12:00:31,  9.55s/it]\u001b[A\n",
      " 95%|█████████▍| 78164/82690 [4:52:53<10:25:09,  8.29s/it]\u001b[A\n",
      " 95%|█████████▍| 78167/82690 [4:52:55<7:28:33,  5.95s/it] \u001b[A\n",
      " 95%|█████████▍| 78168/82690 [4:52:56<5:51:16,  4.66s/it]\u001b[A\n",
      " 95%|█████████▍| 78169/82690 [4:52:57<4:28:40,  3.57s/it]\u001b[A\n",
      " 95%|█████████▍| 78170/82690 [4:53:04<5:31:22,  4.40s/it]\u001b[A\n",
      " 95%|█████████▍| 78172/82690 [4:53:04<3:55:33,  3.13s/it]\u001b[A\n",
      " 95%|█████████▍| 78173/82690 [4:53:04<2:51:34,  2.28s/it]\u001b[A\n",
      " 95%|█████████▍| 78174/82690 [4:53:08<3:27:23,  2.76s/it]\u001b[A\n",
      " 95%|█████████▍| 78175/82690 [4:53:10<3:15:05,  2.59s/it]\u001b[A\n",
      " 95%|█████████▍| 78177/82690 [4:53:15<3:09:41,  2.52s/it]\u001b[A\n",
      " 95%|█████████▍| 78178/82690 [4:53:15<2:16:52,  1.82s/it]\u001b[A\n",
      " 95%|█████████▍| 78179/82690 [4:53:25<5:21:44,  4.28s/it]\u001b[A\n",
      " 95%|█████████▍| 78180/82690 [4:53:26<3:55:49,  3.14s/it]\u001b[A\n",
      " 95%|█████████▍| 78181/82690 [4:53:27<3:04:10,  2.45s/it]\u001b[A\n",
      " 95%|█████████▍| 78182/82690 [4:53:30<3:20:31,  2.67s/it]\u001b[A\n",
      " 95%|█████████▍| 78183/82690 [4:53:44<7:46:33,  6.21s/it]\u001b[A\n",
      " 95%|█████████▍| 78184/82690 [4:53:48<6:59:56,  5.59s/it]\u001b[A\n",
      " 95%|█████████▍| 78185/82690 [4:53:56<7:35:30,  6.07s/it]\u001b[A\n",
      " 95%|█████████▍| 78186/82690 [4:54:03<8:08:16,  6.50s/it]\u001b[A\n",
      " 95%|█████████▍| 78187/82690 [4:54:06<6:36:41,  5.29s/it]\u001b[A\n",
      " 95%|█████████▍| 78188/82690 [4:54:06<4:43:35,  3.78s/it]\u001b[A\n",
      " 95%|█████████▍| 78189/82690 [4:54:32<13:08:45, 10.51s/it]\u001b[A\n",
      " 95%|█████████▍| 78191/82690 [4:55:02<14:48:21, 11.85s/it]\u001b[A\n",
      " 95%|█████████▍| 78192/82690 [4:55:33<21:49:47, 17.47s/it]\u001b[A\n",
      " 95%|█████████▍| 78193/82690 [4:55:38<17:18:07, 13.85s/it]\u001b[A\n",
      " 95%|█████████▍| 78194/82690 [4:55:40<12:57:02, 10.37s/it]\u001b[A\n",
      " 95%|█████████▍| 78196/82690 [4:55:46<10:03:37,  8.06s/it]\u001b[A\n",
      " 95%|█████████▍| 78197/82690 [4:55:46<7:09:06,  5.73s/it] \u001b[A\n",
      " 95%|█████████▍| 78198/82690 [4:56:11<14:27:55, 11.59s/it]\u001b[A\n",
      " 95%|█████████▍| 78200/82690 [4:56:11<10:09:14,  8.14s/it]\u001b[A\n",
      " 95%|█████████▍| 78201/82690 [4:56:17<9:05:00,  7.28s/it] \u001b[A\n",
      " 95%|█████████▍| 78202/82690 [4:56:47<17:51:03, 14.32s/it]\u001b[A\n",
      " 95%|█████████▍| 78205/82690 [4:56:48<12:30:28, 10.04s/it]\u001b[A\n",
      " 95%|█████████▍| 78206/82690 [4:56:50<9:49:11,  7.88s/it] \u001b[A\n",
      " 95%|█████████▍| 78207/82690 [4:57:10<14:14:37, 11.44s/it]\u001b[A\n",
      " 95%|█████████▍| 78208/82690 [4:57:32<18:02:45, 14.49s/it]\u001b[A\n",
      " 95%|█████████▍| 78209/82690 [4:57:33<12:59:05, 10.43s/it]\u001b[A\n",
      " 95%|█████████▍| 78210/82690 [4:57:39<11:35:22,  9.31s/it]\u001b[A\n",
      " 95%|█████████▍| 78211/82690 [4:58:20<23:09:52, 18.62s/it]\u001b[A\n",
      " 95%|█████████▍| 78212/82690 [4:58:56<29:39:08, 23.84s/it]\u001b[A\n",
      " 95%|█████████▍| 78213/82690 [4:58:58<21:34:20, 17.35s/it]\u001b[A\n",
      " 95%|█████████▍| 78214/82690 [4:59:10<19:26:11, 15.63s/it]\u001b[A\n",
      " 95%|█████████▍| 78215/82690 [4:59:23<18:44:50, 15.08s/it]\u001b[A\n",
      " 95%|█████████▍| 78216/82690 [4:59:24<13:12:16, 10.63s/it]\u001b[A\n",
      " 95%|█████████▍| 78217/82690 [4:59:25<9:39:38,  7.78s/it] \u001b[A\n",
      " 95%|█████████▍| 78218/82690 [4:59:51<16:31:54, 13.31s/it]\u001b[A\n",
      " 95%|█████████▍| 78219/82690 [4:59:55<13:13:24, 10.65s/it]\u001b[A\n",
      " 95%|█████████▍| 78220/82690 [4:59:57<9:47:40,  7.89s/it] \u001b[A\n",
      " 95%|█████████▍| 78221/82690 [5:00:03<9:04:41,  7.31s/it]\u001b[A\n",
      " 95%|█████████▍| 78222/82690 [5:00:35<18:27:17, 14.87s/it]\u001b[A\n",
      " 95%|█████████▍| 78223/82690 [5:00:36<13:13:50, 10.66s/it]\u001b[A\n",
      " 95%|█████████▍| 78224/82690 [5:00:36<9:21:26,  7.54s/it] \u001b[A\n",
      " 95%|█████████▍| 78225/82690 [5:00:41<8:21:45,  6.74s/it]\u001b[A\n",
      " 95%|█████████▍| 78226/82690 [5:00:43<6:22:07,  5.14s/it]\u001b[A\n",
      " 95%|█████████▍| 78227/82690 [5:00:43<4:31:08,  3.65s/it]\u001b[A\n",
      " 95%|█████████▍| 78228/82690 [5:00:47<4:39:21,  3.76s/it]\u001b[A\n",
      " 95%|█████████▍| 78229/82690 [5:00:49<4:08:38,  3.34s/it]\u001b[A\n",
      " 95%|█████████▍| 78230/82690 [5:01:19<14:06:53, 11.39s/it]\u001b[A\n",
      " 95%|█████████▍| 78231/82690 [5:01:38<16:58:21, 13.70s/it]\u001b[A\n",
      " 95%|█████████▍| 78232/82690 [5:01:39<12:02:36,  9.73s/it]\u001b[A\n",
      " 95%|█████████▍| 78234/82690 [5:01:41<8:45:07,  7.07s/it] \u001b[A\n",
      " 95%|█████████▍| 78235/82690 [5:02:01<13:38:30, 11.02s/it]\u001b[A\n",
      " 95%|█████████▍| 78236/82690 [5:02:02<9:49:44,  7.94s/it] \u001b[A\n",
      " 95%|█████████▍| 78237/82690 [5:02:11<10:14:14,  8.28s/it]\u001b[A\n",
      " 95%|█████████▍| 78238/82690 [5:02:12<7:27:19,  6.03s/it] \u001b[A\n",
      " 95%|█████████▍| 78239/82690 [5:02:29<11:37:27,  9.40s/it]\u001b[A\n",
      " 95%|█████████▍| 78240/82690 [5:02:33<9:44:36,  7.88s/it] \u001b[A\n",
      " 95%|█████████▍| 78241/82690 [5:02:52<13:51:54, 11.22s/it]\u001b[A\n",
      " 95%|█████████▍| 78242/82690 [5:03:54<32:44:59, 26.51s/it]\u001b[A\n",
      " 95%|█████████▍| 78243/82690 [5:03:55<23:17:47, 18.86s/it]\u001b[A\n",
      " 95%|█████████▍| 78244/82690 [5:03:56<16:41:09, 13.51s/it]\u001b[A\n",
      " 95%|█████████▍| 78245/82690 [5:04:06<15:10:58, 12.30s/it]\u001b[A\n",
      " 95%|█████████▍| 78246/82690 [5:04:09<11:57:23,  9.69s/it]\u001b[A\n",
      " 95%|█████████▍| 78248/82690 [5:04:12<8:52:10,  7.19s/it] \u001b[A\n",
      " 95%|█████████▍| 78249/82690 [5:04:13<6:41:23,  5.42s/it]\u001b[A\n",
      " 95%|█████████▍| 78251/82690 [5:04:14<4:51:28,  3.94s/it]\u001b[A\n",
      " 95%|█████████▍| 78252/82690 [5:04:15<3:42:36,  3.01s/it]\u001b[A\n",
      " 95%|█████████▍| 78253/82690 [5:04:16<2:51:00,  2.31s/it]\u001b[A\n",
      " 95%|█████████▍| 78254/82690 [5:04:26<5:41:18,  4.62s/it]\u001b[A\n",
      " 95%|█████████▍| 78255/82690 [5:04:29<4:56:08,  4.01s/it]\u001b[A\n",
      " 95%|█████████▍| 78256/82690 [5:04:55<13:15:36, 10.77s/it]\u001b[A\n",
      " 95%|█████████▍| 78257/82690 [5:04:56<9:34:33,  7.78s/it] \u001b[A\n",
      " 95%|█████████▍| 78258/82690 [5:05:44<24:25:21, 19.84s/it]\u001b[A\n",
      " 95%|█████████▍| 78259/82690 [5:05:45<17:39:59, 14.35s/it]\u001b[A\n",
      " 95%|█████████▍| 78260/82690 [5:05:47<12:46:49, 10.39s/it]\u001b[A\n",
      " 95%|█████████▍| 78261/82690 [5:05:51<10:40:55,  8.68s/it]\u001b[A\n",
      " 95%|█████████▍| 78262/82690 [5:05:51<7:32:36,  6.13s/it] \u001b[A\n",
      " 95%|█████████▍| 78264/82690 [5:06:02<7:08:45,  5.81s/it]\u001b[A\n",
      " 95%|█████████▍| 78265/82690 [5:06:03<5:33:02,  4.52s/it]\u001b[A\n",
      " 95%|█████████▍| 78266/82690 [5:06:25<11:53:12,  9.67s/it]\u001b[A\n",
      " 95%|█████████▍| 78267/82690 [5:06:26<8:43:18,  7.10s/it] \u001b[A\n",
      " 95%|█████████▍| 78268/82690 [5:06:28<6:43:40,  5.48s/it]\u001b[A\n",
      " 95%|█████████▍| 78269/82690 [5:07:04<18:09:31, 14.79s/it]\u001b[A\n",
      " 95%|█████████▍| 78270/82690 [5:07:05<13:05:36, 10.66s/it]\u001b[A\n",
      " 95%|█████████▍| 78271/82690 [5:07:21<14:50:54, 12.10s/it]\u001b[A\n",
      " 95%|█████████▍| 78272/82690 [5:07:21<10:31:52,  8.58s/it]\u001b[A\n",
      " 95%|█████████▍| 78273/82690 [5:08:03<22:48:37, 18.59s/it]\u001b[A\n"
     ]
    },
    {
     "name": "stderr",
     "output_type": "stream",
     "text": [
      " 95%|█████████▍| 78275/82690 [5:08:38<22:21:34, 18.23s/it]\u001b[A\n",
      " 95%|█████████▍| 78276/82690 [5:08:38<15:42:58, 12.82s/it]\u001b[A\n",
      " 95%|█████████▍| 78277/82690 [5:08:49<15:17:04, 12.47s/it]\u001b[A\n",
      " 95%|█████████▍| 78278/82690 [5:08:57<13:23:29, 10.93s/it]\u001b[A\n",
      " 95%|█████████▍| 78280/82690 [5:09:07<11:10:01,  9.12s/it]\u001b[A\n",
      " 95%|█████████▍| 78281/82690 [5:09:09<8:52:32,  7.25s/it] \u001b[A\n",
      " 95%|█████████▍| 78282/82690 [5:09:11<6:50:50,  5.59s/it]\u001b[A\n",
      " 95%|█████████▍| 78283/82690 [5:09:24<9:22:08,  7.65s/it]\u001b[A\n",
      " 95%|█████████▍| 78284/82690 [5:09:27<7:39:57,  6.26s/it]\u001b[A\n",
      " 95%|█████████▍| 78285/82690 [5:09:28<5:59:50,  4.90s/it]\u001b[A\n",
      " 95%|█████████▍| 78286/82690 [5:09:42<9:10:28,  7.50s/it]\u001b[A\n",
      " 95%|█████████▍| 78287/82690 [5:09:51<9:35:38,  7.84s/it]\u001b[A\n",
      " 95%|█████████▍| 78289/82690 [5:09:57<7:52:47,  6.45s/it]\u001b[A\n",
      " 95%|█████████▍| 78290/82690 [5:10:08<9:27:43,  7.74s/it]\u001b[A\n",
      " 95%|█████████▍| 78291/82690 [5:10:08<6:41:06,  5.47s/it]\u001b[A\n",
      " 95%|█████████▍| 78292/82690 [5:10:11<5:48:54,  4.76s/it]\u001b[A\n",
      " 95%|█████████▍| 78293/82690 [5:10:11<4:09:50,  3.41s/it]\u001b[A\n",
      " 95%|█████████▍| 78294/82690 [5:10:12<3:14:27,  2.65s/it]\u001b[A\n",
      " 95%|█████████▍| 78295/82690 [5:10:16<3:34:45,  2.93s/it]\u001b[A\n",
      " 95%|█████████▍| 78296/82690 [5:10:21<4:15:43,  3.49s/it]\u001b[A\n",
      " 95%|█████████▍| 78297/82690 [5:10:23<3:53:43,  3.19s/it]\u001b[A\n",
      " 95%|█████████▍| 78298/82690 [5:10:29<4:55:06,  4.03s/it]\u001b[A\n",
      " 95%|█████████▍| 78299/82690 [5:10:31<4:06:05,  3.36s/it]\u001b[A\n",
      " 95%|█████████▍| 78300/82690 [5:11:03<14:37:40, 12.00s/it]\u001b[A\n",
      " 95%|█████████▍| 78301/82690 [5:11:07<11:41:50,  9.59s/it]\u001b[A\n",
      " 95%|█████████▍| 78302/82690 [5:11:07<8:16:38,  6.79s/it] \u001b[A\n",
      " 95%|█████████▍| 78304/82690 [5:11:54<14:24:29, 11.83s/it]\u001b[A\n",
      " 95%|█████████▍| 78305/82690 [5:11:57<11:02:36,  9.07s/it]\u001b[A\n",
      " 95%|█████████▍| 78306/82690 [5:12:31<20:17:42, 16.67s/it]\u001b[A\n",
      " 95%|█████████▍| 78308/82690 [5:12:34<14:41:39, 12.07s/it]\u001b[A\n",
      " 95%|█████████▍| 78309/82690 [5:12:34<10:22:19,  8.52s/it]\u001b[A\n",
      " 95%|█████████▍| 78310/82690 [5:12:35<7:24:29,  6.09s/it] \u001b[A\n",
      " 95%|█████████▍| 78311/82690 [5:12:44<8:36:59,  7.08s/it]\u001b[A\n",
      " 95%|█████████▍| 78313/82690 [5:13:10<10:42:00,  8.80s/it]\u001b[A\n",
      " 95%|█████████▍| 78314/82690 [5:13:16<9:48:50,  8.07s/it] \u001b[A\n",
      " 95%|█████████▍| 78315/82690 [5:13:16<6:57:06,  5.72s/it]\u001b[A\n",
      " 95%|█████████▍| 78316/82690 [5:13:19<5:46:18,  4.75s/it]\u001b[A\n",
      " 95%|█████████▍| 78317/82690 [5:13:51<15:53:58, 13.09s/it]\u001b[A\n",
      " 95%|█████████▍| 78319/82690 [5:13:53<11:23:02,  9.38s/it]\u001b[A\n",
      " 95%|█████████▍| 78320/82690 [5:13:57<9:27:21,  7.79s/it] \u001b[A\n",
      " 95%|█████████▍| 78322/82690 [5:14:35<13:29:14, 11.12s/it]\u001b[A\n",
      " 95%|█████████▍| 78323/82690 [5:14:35<9:35:14,  7.90s/it] \u001b[A\n",
      " 95%|█████████▍| 78324/82690 [5:14:36<7:07:48,  5.88s/it]\u001b[A\n",
      " 95%|█████████▍| 78325/82690 [5:14:40<6:27:16,  5.32s/it]\u001b[A\n",
      " 95%|█████████▍| 78326/82690 [5:14:40<4:34:22,  3.77s/it]\u001b[A\n",
      " 95%|█████████▍| 78327/82690 [5:14:43<4:05:54,  3.38s/it]\u001b[A\n",
      " 95%|█████████▍| 78328/82690 [5:14:44<3:12:04,  2.64s/it]\u001b[A\n",
      " 95%|█████████▍| 78329/82690 [5:14:45<2:32:45,  2.10s/it]\u001b[A\n",
      " 95%|█████████▍| 78331/82690 [5:14:45<1:56:15,  1.60s/it]\u001b[A\n",
      " 95%|█████████▍| 78332/82690 [5:14:48<2:06:04,  1.74s/it]\u001b[A\n",
      " 95%|█████████▍| 78333/82690 [5:14:57<4:50:19,  4.00s/it]\u001b[A\n",
      " 95%|█████████▍| 78334/82690 [5:15:08<7:19:50,  6.06s/it]\u001b[A\n",
      " 95%|█████████▍| 78335/82690 [5:15:40<16:57:49, 14.02s/it]\u001b[A\n",
      " 95%|█████████▍| 78336/82690 [5:15:42<12:36:26, 10.42s/it]\u001b[A\n",
      " 95%|█████████▍| 78337/82690 [5:15:49<11:21:15,  9.39s/it]\u001b[A\n",
      " 95%|█████████▍| 78338/82690 [5:15:51<8:29:32,  7.03s/it] \u001b[A\n",
      " 95%|█████████▍| 78339/82690 [5:15:54<7:14:27,  5.99s/it]\u001b[A\n",
      " 95%|█████████▍| 78340/82690 [5:16:13<11:42:21,  9.69s/it]\u001b[A\n",
      " 95%|█████████▍| 78341/82690 [5:16:13<8:16:42,  6.85s/it] \u001b[A\n",
      " 95%|█████████▍| 78342/82690 [5:17:04<24:24:00, 20.20s/it]\u001b[A\n",
      " 95%|█████████▍| 78343/82690 [5:17:08<18:20:26, 15.19s/it]\u001b[A\n",
      " 95%|█████████▍| 78344/82690 [5:17:10<13:38:13, 11.30s/it]\u001b[A\n",
      " 95%|█████████▍| 78345/82690 [5:17:21<13:24:03, 11.10s/it]\u001b[A\n",
      " 95%|█████████▍| 78347/82690 [5:17:24<10:01:24,  8.31s/it]\u001b[A\n",
      " 95%|█████████▍| 78348/82690 [5:17:25<7:08:43,  5.92s/it] \u001b[A\n",
      " 95%|█████████▍| 78349/82690 [5:17:25<5:02:39,  4.18s/it]\u001b[A\n",
      " 95%|█████████▍| 78350/82690 [5:17:25<3:48:38,  3.16s/it]\u001b[A\n",
      " 95%|█████████▍| 78352/82690 [5:17:26<2:43:12,  2.26s/it]\u001b[A\n",
      " 95%|█████████▍| 78353/82690 [5:18:18<20:40:04, 17.16s/it]\u001b[A\n",
      " 95%|█████████▍| 78354/82690 [5:18:37<21:25:18, 17.79s/it]\u001b[A\n",
      " 95%|█████████▍| 78355/82690 [5:19:44<39:11:30, 32.55s/it]\u001b[A\n",
      " 95%|█████████▍| 78356/82690 [5:19:45<27:50:27, 23.13s/it]\u001b[A\n",
      " 95%|█████████▍| 78357/82690 [5:19:55<23:10:18, 19.25s/it]\u001b[A\n",
      " 95%|█████████▍| 78358/82690 [5:20:03<19:03:25, 15.84s/it]\u001b[A\n",
      " 95%|█████████▍| 78359/82690 [5:20:09<15:26:36, 12.84s/it]\u001b[A\n",
      " 95%|█████████▍| 78361/82690 [5:20:09<10:52:03,  9.04s/it]\u001b[A\n",
      " 95%|█████████▍| 78362/82690 [5:20:11<8:22:40,  6.97s/it] \u001b[A\n",
      " 95%|█████████▍| 78363/82690 [5:20:16<7:26:46,  6.20s/it]\u001b[A\n",
      " 95%|█████████▍| 78364/82690 [5:20:25<8:26:36,  7.03s/it]\u001b[A\n",
      " 95%|█████████▍| 78365/82690 [5:20:39<11:06:06,  9.24s/it]\u001b[A\n",
      " 95%|█████████▍| 78366/82690 [5:21:33<27:10:14, 22.62s/it]\u001b[A\n",
      " 95%|█████████▍| 78367/82690 [5:21:33<19:06:31, 15.91s/it]\u001b[A\n",
      " 95%|█████████▍| 78368/82690 [5:21:35<14:02:57, 11.70s/it]\u001b[A\n",
      " 95%|█████████▍| 78369/82690 [5:21:42<12:19:16, 10.27s/it]\u001b[A\n",
      " 95%|█████████▍| 78370/82690 [5:21:50<11:19:59,  9.44s/it]\u001b[A\n",
      " 95%|█████████▍| 78371/82690 [5:22:46<28:23:05, 23.66s/it]\u001b[A\n",
      " 95%|█████████▍| 78372/82690 [5:22:47<19:59:49, 16.67s/it]\u001b[A\n",
      " 95%|█████████▍| 78373/82690 [5:22:50<15:05:47, 12.59s/it]\u001b[A\n",
      " 95%|█████████▍| 78374/82690 [5:23:37<27:39:42, 23.07s/it]\u001b[A\n",
      " 95%|█████████▍| 78375/82690 [5:24:21<35:10:10, 29.34s/it]\u001b[A\n",
      " 95%|█████████▍| 78376/82690 [5:24:23<25:11:46, 21.03s/it]\u001b[A\n",
      " 95%|█████████▍| 78377/82690 [5:24:58<30:16:24, 25.27s/it]\u001b[A\n",
      " 95%|█████████▍| 78378/82690 [5:25:50<39:55:52, 33.34s/it]\u001b[A\n",
      " 95%|█████████▍| 78379/82690 [5:25:51<28:08:24, 23.50s/it]\u001b[A\n",
      " 95%|█████████▍| 78380/82690 [5:26:11<26:47:07, 22.37s/it]\u001b[A\n",
      " 95%|█████████▍| 78381/82690 [5:26:15<20:22:22, 17.02s/it]\u001b[A\n",
      " 95%|█████████▍| 78382/82690 [5:26:18<15:15:24, 12.75s/it]\u001b[A\n",
      " 95%|█████████▍| 78383/82690 [5:26:21<11:43:52,  9.81s/it]\u001b[A\n",
      " 95%|█████████▍| 78384/82690 [5:26:29<11:00:00,  9.20s/it]\u001b[A\n",
      " 95%|█████████▍| 78385/82690 [5:26:32<8:46:08,  7.33s/it] \u001b[A\n",
      " 95%|█████████▍| 78386/82690 [5:26:46<11:16:08,  9.43s/it]\u001b[A\n",
      " 95%|█████████▍| 78387/82690 [5:26:48<8:46:30,  7.34s/it] \u001b[A\n",
      " 95%|█████████▍| 78388/82690 [5:27:02<11:03:17,  9.25s/it]\u001b[A\n",
      " 95%|█████████▍| 78389/82690 [5:27:07<9:18:59,  7.80s/it] \u001b[A\n",
      " 95%|█████████▍| 78390/82690 [5:27:09<7:30:06,  6.28s/it]\u001b[A\n",
      " 95%|█████████▍| 78391/82690 [5:27:12<6:20:01,  5.30s/it]\u001b[A\n",
      " 95%|█████████▍| 78392/82690 [5:27:14<4:54:00,  4.10s/it]\u001b[A\n",
      " 95%|█████████▍| 78393/82690 [5:27:17<4:43:03,  3.95s/it]\u001b[A\n",
      " 95%|█████████▍| 78394/82690 [5:27:33<8:55:06,  7.47s/it]\u001b[A\n",
      " 95%|█████████▍| 78395/82690 [5:29:06<39:41:46, 33.27s/it]\u001b[A\n",
      " 95%|█████████▍| 78396/82690 [5:30:37<60:09:51, 50.44s/it]\u001b[A\n",
      " 95%|█████████▍| 78397/82690 [5:30:45<45:01:05, 37.75s/it]\u001b[A\n",
      " 95%|█████████▍| 78398/82690 [5:30:49<32:57:47, 27.65s/it]\u001b[A\n",
      " 95%|█████████▍| 78400/82690 [5:30:57<24:26:21, 20.51s/it]\u001b[A\n",
      " 95%|█████████▍| 78401/82690 [5:31:12<22:22:52, 18.79s/it]\u001b[A\n",
      " 95%|█████████▍| 78402/82690 [5:31:19<18:11:18, 15.27s/it]\u001b[A\n",
      " 95%|█████████▍| 78404/82690 [5:32:34<26:10:52, 21.99s/it]\u001b[A\n",
      " 95%|█████████▍| 78405/82690 [5:32:38<19:54:24, 16.72s/it]\u001b[A\n",
      " 95%|█████████▍| 78407/82690 [5:32:47<15:27:02, 12.99s/it]\u001b[A\n",
      " 95%|█████████▍| 78408/82690 [5:32:47<10:57:13,  9.21s/it]\u001b[A\n",
      " 95%|█████████▍| 78409/82690 [5:32:50<8:26:30,  7.10s/it] \u001b[A\n",
      " 95%|█████████▍| 78410/82690 [5:32:54<7:27:19,  6.27s/it]\u001b[A\n",
      " 95%|█████████▍| 78411/82690 [5:33:02<8:03:37,  6.78s/it]\u001b[A\n",
      " 95%|█████████▍| 78413/82690 [5:33:16<8:10:23,  6.88s/it]\u001b[A\n",
      " 95%|█████████▍| 78415/82690 [5:34:07<14:45:42, 12.43s/it]\u001b[A\n",
      " 95%|█████████▍| 78417/82690 [5:34:49<17:52:15, 15.06s/it]\u001b[A\n",
      " 95%|█████████▍| 78418/82690 [5:34:52<13:30:48, 11.39s/it]\u001b[A\n",
      " 95%|█████████▍| 78419/82690 [5:34:54<10:00:41,  8.44s/it]\u001b[A\n",
      " 95%|█████████▍| 78420/82690 [5:34:54<7:04:46,  5.97s/it] \u001b[A\n",
      " 95%|█████████▍| 78421/82690 [5:34:55<5:19:58,  4.50s/it]\u001b[A\n",
      " 95%|█████████▍| 78422/82690 [5:34:55<3:52:01,  3.26s/it]\u001b[A\n",
      " 95%|█████████▍| 78423/82690 [5:34:58<3:35:13,  3.03s/it]\u001b[A\n",
      " 95%|█████████▍| 78424/82690 [5:34:59<2:52:55,  2.43s/it]\u001b[A\n",
      " 95%|█████████▍| 78425/82690 [5:36:09<26:50:42, 22.66s/it]\u001b[A\n",
      " 95%|█████████▍| 78426/82690 [5:36:51<33:46:41, 28.52s/it]\u001b[A\n",
      " 95%|█████████▍| 78427/82690 [5:37:14<32:01:36, 27.05s/it]\u001b[A\n",
      " 95%|█████████▍| 78428/82690 [5:37:18<23:48:35, 20.11s/it]\u001b[A\n",
      " 95%|█████████▍| 78429/82690 [5:37:19<16:48:40, 14.20s/it]\u001b[A\n",
      " 95%|█████████▍| 78430/82690 [5:38:05<28:19:23, 23.94s/it]\u001b[A\n",
      " 95%|█████████▍| 78431/82690 [5:38:20<25:06:21, 21.22s/it]\u001b[A\n",
      " 95%|█████████▍| 78432/82690 [5:38:21<17:56:57, 15.18s/it]\u001b[A\n",
      " 95%|█████████▍| 78433/82690 [5:38:38<18:22:25, 15.54s/it]\u001b[A\n",
      " 95%|█████████▍| 78434/82690 [5:39:13<25:14:41, 21.35s/it]\u001b[A\n",
      " 95%|█████████▍| 78436/82690 [5:39:14<17:52:17, 15.12s/it]\u001b[A\n",
      " 95%|█████████▍| 78437/82690 [5:39:54<26:35:05, 22.50s/it]\u001b[A\n",
      " 95%|█████████▍| 78438/82690 [5:40:01<21:20:47, 18.07s/it]\u001b[A\n",
      " 95%|█████████▍| 78441/82690 [5:40:07<15:35:19, 13.21s/it]\u001b[A\n",
      " 95%|█████████▍| 78442/82690 [5:40:18<14:43:10, 12.47s/it]\u001b[A\n",
      " 95%|█████████▍| 78443/82690 [5:40:21<11:38:02,  9.86s/it]\u001b[A\n",
      " 95%|█████████▍| 78444/82690 [5:40:44<16:10:28, 13.71s/it]\u001b[A\n",
      " 95%|█████████▍| 78445/82690 [5:40:45<11:38:56,  9.88s/it]\u001b[A\n",
      " 95%|█████████▍| 78449/82690 [5:40:45<8:10:12,  6.94s/it] \u001b[A\n",
      " 95%|█████████▍| 78451/82690 [5:40:46<5:54:15,  5.01s/it]\u001b[A\n",
      " 95%|█████████▍| 78452/82690 [5:40:53<6:22:27,  5.41s/it]\u001b[A\n",
      " 95%|█████████▍| 78453/82690 [5:41:08<9:47:53,  8.33s/it]\u001b[A\n",
      " 95%|█████████▍| 78454/82690 [5:41:36<16:45:45, 14.25s/it]\u001b[A\n",
      " 95%|█████████▍| 78455/82690 [5:41:47<15:44:21, 13.38s/it]\u001b[A\n",
      " 95%|█████████▍| 78456/82690 [5:42:37<28:39:15, 24.36s/it]\u001b[A\n",
      " 95%|█████████▍| 78457/82690 [5:42:39<20:34:15, 17.49s/it]\u001b[A\n",
      " 95%|█████████▍| 78459/82690 [5:42:40<14:32:22, 12.37s/it]\u001b[A\n",
      " 95%|█████████▍| 78461/82690 [5:42:43<10:50:21,  9.23s/it]\u001b[A\n",
      " 95%|█████████▍| 78462/82690 [5:42:49<9:28:51,  8.07s/it] \u001b[A\n",
      " 95%|█████████▍| 78463/82690 [5:43:01<11:06:42,  9.46s/it]\u001b[A\n",
      " 95%|█████████▍| 78464/82690 [5:43:04<8:43:51,  7.44s/it] \u001b[A\n",
      " 95%|█████████▍| 78466/82690 [5:43:23<9:28:31,  8.08s/it]\u001b[A\n",
      " 95%|█████████▍| 78467/82690 [5:43:52<16:36:52, 14.16s/it]\u001b[A\n",
      " 95%|█████████▍| 78468/82690 [5:44:04<15:50:31, 13.51s/it]\u001b[A\n",
      " 95%|█████████▍| 78470/82690 [5:44:04<11:09:00,  9.51s/it]\u001b[A\n",
      " 95%|█████████▍| 78471/82690 [5:44:13<11:01:41,  9.41s/it]\u001b[A\n",
      " 95%|█████████▍| 78472/82690 [5:44:14<8:00:23,  6.83s/it] \u001b[A\n",
      " 95%|█████████▍| 78473/82690 [5:44:15<6:01:55,  5.15s/it]\u001b[A\n",
      " 95%|█████████▍| 78474/82690 [5:44:18<5:18:40,  4.54s/it]\u001b[A\n",
      " 95%|█████████▍| 78475/82690 [5:44:23<5:28:30,  4.68s/it]\u001b[A\n",
      " 95%|█████████▍| 78476/82690 [5:44:29<5:59:49,  5.12s/it]\u001b[A\n",
      " 95%|█████████▍| 78477/82690 [5:44:51<11:44:32, 10.03s/it]\u001b[A\n",
      " 95%|█████████▍| 78478/82690 [5:45:04<12:50:18, 10.97s/it]\u001b[A\n",
      " 95%|█████████▍| 78479/82690 [5:45:12<11:52:27, 10.15s/it]\u001b[A\n",
      " 95%|█████████▍| 78480/82690 [5:45:38<17:21:34, 14.84s/it]\u001b[A\n",
      " 95%|█████████▍| 78481/82690 [5:45:39<12:34:56, 10.76s/it]\u001b[A\n",
      " 95%|█████████▍| 78482/82690 [5:45:41<9:24:13,  8.05s/it] \u001b[A\n",
      " 95%|█████████▍| 78483/82690 [5:45:41<6:39:26,  5.70s/it]\u001b[A\n",
      " 95%|█████████▍| 78484/82690 [5:45:45<6:03:52,  5.19s/it]\u001b[A\n",
      " 95%|█████████▍| 78485/82690 [5:45:52<6:30:51,  5.58s/it]\u001b[A\n",
      " 95%|█████████▍| 78487/82690 [5:45:52<4:37:47,  3.97s/it]\u001b[A\n",
      " 95%|█████████▍| 78488/82690 [5:45:55<4:12:25,  3.60s/it]\u001b[A\n",
      " 95%|█████████▍| 78490/82690 [5:45:56<3:12:06,  2.74s/it]\u001b[A\n",
      " 95%|█████████▍| 78492/82690 [5:46:13<5:07:41,  4.40s/it]\u001b[A\n",
      " 95%|█████████▍| 78494/82690 [5:46:22<5:09:28,  4.43s/it]\u001b[A\n",
      " 95%|█████████▍| 78495/82690 [5:46:22<3:45:38,  3.23s/it]\u001b[A\n",
      " 95%|█████████▍| 78497/82690 [5:46:24<2:55:01,  2.50s/it]\u001b[A\n",
      " 95%|█████████▍| 78498/82690 [5:46:27<2:56:15,  2.52s/it]\u001b[A\n",
      " 95%|█████████▍| 78499/82690 [5:46:31<3:41:07,  3.17s/it]\u001b[A\n",
      " 95%|█████████▍| 78502/82690 [5:46:32<2:40:33,  2.30s/it]\u001b[A\n",
      " 95%|█████████▍| 78503/82690 [5:46:40<4:45:08,  4.09s/it]\u001b[A\n",
      " 95%|█████████▍| 78504/82690 [5:46:42<3:51:52,  3.32s/it]\u001b[A\n",
      " 95%|█████████▍| 78505/82690 [5:46:49<5:03:08,  4.35s/it]\u001b[A\n",
      " 95%|█████████▍| 78508/82690 [5:47:30<8:22:53,  7.22s/it]\u001b[A\n",
      " 95%|█████████▍| 78509/82690 [5:47:32<6:34:33,  5.66s/it]\u001b[A\n",
      " 95%|█████████▍| 78510/82690 [5:47:33<4:39:47,  4.02s/it]\u001b[A\n",
      " 95%|█████████▍| 78511/82690 [5:47:33<3:33:13,  3.06s/it]\u001b[A\n",
      " 95%|█████████▍| 78512/82690 [5:47:53<9:21:26,  8.06s/it]\u001b[A\n",
      " 95%|█████████▍| 78514/82690 [5:47:55<6:54:34,  5.96s/it]\u001b[A\n",
      " 95%|█████████▍| 78515/82690 [5:48:28<16:11:23, 13.96s/it]\u001b[A\n",
      " 95%|█████████▍| 78516/82690 [5:48:53<19:58:17, 17.23s/it]\u001b[A\n",
      " 95%|█████████▍| 78517/82690 [5:49:08<19:19:04, 16.67s/it]\u001b[A\n",
      " 95%|█████████▍| 78518/82690 [5:49:08<13:34:10, 11.71s/it]\u001b[A\n",
      " 95%|█████████▍| 78519/82690 [5:49:22<14:28:26, 12.49s/it]\u001b[A\n",
      " 95%|█████████▍| 78520/82690 [5:49:25<10:59:28,  9.49s/it]\u001b[A\n",
      " 95%|█████████▍| 78521/82690 [5:49:30<9:34:39,  8.27s/it] \u001b[A\n",
      " 95%|█████████▍| 78522/82690 [5:49:32<7:05:19,  6.12s/it]\u001b[A\n",
      " 95%|█████████▍| 78523/82690 [5:49:33<5:24:45,  4.68s/it]\u001b[A\n",
      " 95%|█████████▍| 78524/82690 [5:49:33<3:52:41,  3.35s/it]\u001b[A\n",
      " 95%|█████████▍| 78525/82690 [5:49:34<3:03:31,  2.64s/it]\u001b[A\n",
      " 95%|█████████▍| 78527/82690 [5:49:35<2:16:27,  1.97s/it]\u001b[A\n",
      " 95%|█████████▍| 78528/82690 [5:49:36<1:50:01,  1.59s/it]\u001b[A\n",
      " 95%|█████████▍| 78529/82690 [5:49:36<1:34:13,  1.36s/it]\u001b[A\n",
      " 95%|█████████▍| 78530/82690 [5:50:29<19:19:59, 16.73s/it]\u001b[A\n",
      " 95%|█████████▍| 78531/82690 [5:50:33<14:57:13, 12.94s/it]\u001b[A\n",
      " 95%|█████████▍| 78532/82690 [5:51:02<20:37:21, 17.86s/it]\u001b[A\n",
      " 95%|█████████▍| 78534/82690 [5:51:06<15:06:23, 13.09s/it]\u001b[A\n",
      " 95%|█████████▍| 78535/82690 [5:51:09<11:34:35, 10.03s/it]\u001b[A\n",
      " 95%|█████████▍| 78536/82690 [5:51:09<8:11:13,  7.10s/it] \u001b[A\n",
      " 95%|█████████▍| 78537/82690 [5:51:11<6:17:22,  5.45s/it]\u001b[A\n",
      " 95%|█████████▍| 78539/82690 [5:51:35<8:30:16,  7.38s/it]\u001b[A\n",
      " 95%|█████████▍| 78540/82690 [5:51:37<6:43:06,  5.83s/it]\u001b[A\n",
      " 95%|█████████▍| 78542/82690 [5:51:41<5:19:03,  4.62s/it]\u001b[A\n",
      " 95%|█████████▍| 78543/82690 [5:51:44<4:45:16,  4.13s/it]\u001b[A\n",
      " 95%|█████████▍| 78544/82690 [5:51:45<3:47:10,  3.29s/it]\u001b[A\n",
      " 95%|█████████▍| 78545/82690 [5:51:54<5:55:05,  5.14s/it]\u001b[A\n",
      " 95%|█████████▍| 78546/82690 [5:52:23<14:01:13, 12.18s/it]\u001b[A\n",
      " 95%|█████████▍| 78547/82690 [5:52:25<10:29:28,  9.12s/it]\u001b[A\n",
      " 95%|█████████▍| 78548/82690 [5:52:25<7:28:47,  6.50s/it] \u001b[A\n",
      " 95%|█████████▍| 78551/82690 [5:52:56<8:47:07,  7.64s/it]\u001b[A\n",
      " 95%|█████████▍| 78552/82690 [5:53:02<8:04:38,  7.03s/it]\u001b[A\n",
      " 95%|█████████▍| 78553/82690 [5:54:10<29:07:04, 25.34s/it]\u001b[A\n",
      " 95%|█████████▍| 78554/82690 [5:54:12<21:07:23, 18.39s/it]\u001b[A\n",
      " 95%|█████████▍| 78555/82690 [5:54:22<18:19:49, 15.96s/it]\u001b[A\n",
      " 95%|█████████▌| 78556/82690 [5:54:45<20:30:58, 17.87s/it]\u001b[A\n",
      " 95%|█████████▌| 78557/82690 [5:54:46<14:54:11, 12.98s/it]\u001b[A\n",
      " 95%|█████████▌| 78558/82690 [5:54:53<12:38:44, 11.02s/it]\u001b[A\n",
      " 95%|█████████▌| 78559/82690 [5:54:54<9:13:39,  8.04s/it] \u001b[A\n",
      " 95%|█████████▌| 78560/82690 [5:55:02<9:14:22,  8.05s/it]\u001b[A\n",
      " 95%|█████████▌| 78561/82690 [5:55:17<11:34:00, 10.08s/it]\u001b[A\n",
      " 95%|█████████▌| 78562/82690 [5:55:18<8:40:17,  7.56s/it] \u001b[A\n",
      " 95%|█████████▌| 78563/82690 [5:55:31<10:17:40,  8.98s/it]\u001b[A\n",
      " 95%|█████████▌| 78564/82690 [5:55:38<9:35:54,  8.37s/it] \u001b[A\n",
      " 95%|█████████▌| 78565/82690 [5:55:46<9:38:01,  8.41s/it]\u001b[A\n",
      " 95%|█████████▌| 78566/82690 [5:55:48<7:32:34,  6.58s/it]\u001b[A\n",
      " 95%|█████████▌| 78568/82690 [5:56:21<10:53:37,  9.51s/it]\u001b[A\n",
      " 95%|█████████▌| 78570/82690 [5:56:27<8:32:48,  7.47s/it] \u001b[A\n",
      " 95%|█████████▌| 78572/82690 [5:57:14<14:05:26, 12.32s/it]\u001b[A\n",
      " 95%|█████████▌| 78573/82690 [5:57:20<11:50:54, 10.36s/it]\u001b[A\n",
      " 95%|█████████▌| 78574/82690 [5:58:07<24:26:37, 21.38s/it]\u001b[A\n",
      " 95%|█████████▌| 78575/82690 [5:58:08<17:36:05, 15.40s/it]\u001b[A\n",
      " 95%|█████████▌| 78576/82690 [5:58:55<28:18:04, 24.77s/it]\u001b[A\n",
      " 95%|█████████▌| 78577/82690 [5:58:56<20:05:00, 17.58s/it]\u001b[A\n",
      " 95%|█████████▌| 78578/82690 [5:59:32<26:23:59, 23.11s/it]\u001b[A\n",
      " 95%|█████████▌| 78579/82690 [5:59:42<21:55:59, 19.21s/it]\u001b[A\n",
      " 95%|█████████▌| 78581/82690 [5:59:57<17:55:59, 15.71s/it]\u001b[A\n",
      " 95%|█████████▌| 78582/82690 [5:59:57<12:39:35, 11.09s/it]\u001b[A\n",
      " 95%|█████████▌| 78583/82690 [5:59:58<9:19:33,  8.17s/it] \u001b[A\n",
      " 95%|█████████▌| 78584/82690 [6:00:01<7:28:27,  6.55s/it]\u001b[A\n",
      " 95%|█████████▌| 78585/82690 [6:00:06<6:50:12,  6.00s/it]\u001b[A\n",
      " 95%|█████████▌| 78586/82690 [6:00:06<4:50:13,  4.24s/it]\u001b[A\n",
      " 95%|█████████▌| 78587/82690 [6:00:08<4:02:15,  3.54s/it]\u001b[A\n"
     ]
    },
    {
     "name": "stderr",
     "output_type": "stream",
     "text": [
      " 95%|█████████▌| 78588/82690 [6:00:14<4:56:44,  4.34s/it]\u001b[A\n",
      " 95%|█████████▌| 78590/82690 [6:00:23<4:53:37,  4.30s/it]\u001b[A\n",
      " 95%|█████████▌| 78591/82690 [6:00:25<4:16:37,  3.76s/it]\u001b[A\n",
      " 95%|█████████▌| 78592/82690 [6:00:26<3:19:51,  2.93s/it]\u001b[A\n",
      " 95%|█████████▌| 78593/82690 [6:00:28<2:49:13,  2.48s/it]\u001b[A\n",
      " 95%|█████████▌| 78594/82690 [6:00:59<12:34:21, 11.05s/it]\u001b[A\n",
      " 95%|█████████▌| 78595/82690 [6:01:00<9:10:41,  8.07s/it] \u001b[A\n",
      " 95%|█████████▌| 78596/82690 [6:01:07<8:54:13,  7.83s/it]\u001b[A\n",
      " 95%|█████████▌| 78597/82690 [6:01:08<6:32:03,  5.75s/it]\u001b[A\n",
      " 95%|█████████▌| 78598/82690 [6:01:19<8:20:22,  7.34s/it]\u001b[A\n",
      " 95%|█████████▌| 78599/82690 [6:01:21<6:43:30,  5.92s/it]\u001b[A\n",
      " 95%|█████████▌| 78600/82690 [6:01:38<10:22:25,  9.13s/it]\u001b[A\n",
      " 95%|█████████▌| 78601/82690 [6:01:39<7:37:30,  6.71s/it] \u001b[A\n",
      " 95%|█████████▌| 78602/82690 [6:01:50<9:05:02,  8.00s/it]\u001b[A\n",
      " 95%|█████████▌| 78603/82690 [6:01:52<6:49:35,  6.01s/it]\u001b[A\n",
      " 95%|█████████▌| 78604/82690 [6:02:03<8:43:06,  7.68s/it]\u001b[A\n",
      " 95%|█████████▌| 78605/82690 [6:02:33<16:23:22, 14.44s/it]\u001b[A\n",
      " 95%|█████████▌| 78606/82690 [6:02:53<18:16:06, 16.10s/it]\u001b[A\n",
      " 95%|█████████▌| 78607/82690 [6:02:55<13:30:51, 11.92s/it]\u001b[A\n",
      " 95%|█████████▌| 78608/82690 [6:02:58<10:20:37,  9.12s/it]\u001b[A\n",
      " 95%|█████████▌| 78609/82690 [6:03:28<17:24:36, 15.36s/it]\u001b[A\n",
      " 95%|█████████▌| 78610/82690 [6:03:29<12:38:02, 11.15s/it]\u001b[A\n",
      " 95%|█████████▌| 78611/82690 [6:03:33<9:59:52,  8.82s/it] \u001b[A\n",
      " 95%|█████████▌| 78613/82690 [6:03:34<7:09:38,  6.32s/it]\u001b[A\n",
      " 95%|█████████▌| 78616/82690 [6:04:08<8:53:14,  7.85s/it]\u001b[A\n",
      " 95%|█████████▌| 78617/82690 [6:04:08<6:19:09,  5.59s/it]\u001b[A\n",
      " 95%|█████████▌| 78618/82690 [6:04:18<7:42:26,  6.81s/it]\u001b[A\n",
      " 95%|█████████▌| 78622/82690 [6:04:19<5:29:18,  4.86s/it]\u001b[A\n",
      " 95%|█████████▌| 78623/82690 [6:04:29<7:19:19,  6.48s/it]\u001b[A\n",
      " 95%|█████████▌| 78624/82690 [6:04:30<5:22:31,  4.76s/it]\u001b[A\n",
      " 95%|█████████▌| 78625/82690 [6:04:41<7:35:16,  6.72s/it]\u001b[A\n",
      " 95%|█████████▌| 78626/82690 [6:04:42<5:27:32,  4.84s/it]\u001b[A\n",
      " 95%|█████████▌| 78627/82690 [6:04:44<4:35:52,  4.07s/it]\u001b[A\n",
      " 95%|█████████▌| 78628/82690 [6:05:35<20:27:56, 18.14s/it]\u001b[A\n",
      " 95%|█████████▌| 78629/82690 [6:05:51<19:34:09, 17.35s/it]\u001b[A\n",
      " 95%|█████████▌| 78630/82690 [6:05:53<14:34:18, 12.92s/it]\u001b[A\n",
      " 95%|█████████▌| 78631/82690 [6:06:33<23:33:18, 20.89s/it]\u001b[A\n",
      " 95%|█████████▌| 78632/82690 [6:07:28<35:04:31, 31.12s/it]\u001b[A\n",
      " 95%|█████████▌| 78633/82690 [6:07:28<24:39:47, 21.88s/it]\u001b[A\n",
      " 95%|█████████▌| 78634/82690 [6:08:13<32:30:07, 28.85s/it]\u001b[A\n",
      " 95%|█████████▌| 78635/82690 [6:08:14<23:05:04, 20.49s/it]\u001b[A\n",
      " 95%|█████████▌| 78636/82690 [6:08:15<16:30:35, 14.66s/it]\u001b[A\n",
      " 95%|█████████▌| 78637/82690 [6:08:26<15:09:51, 13.47s/it]\u001b[A\n",
      " 95%|█████████▌| 78638/82690 [6:08:29<11:47:59, 10.48s/it]\u001b[A\n",
      " 95%|█████████▌| 78639/82690 [6:08:35<10:07:46,  9.00s/it]\u001b[A\n",
      " 95%|█████████▌| 78640/82690 [6:08:40<8:40:36,  7.71s/it] \u001b[A\n",
      " 95%|█████████▌| 78641/82690 [6:08:41<6:36:04,  5.87s/it]\u001b[A\n",
      " 95%|█████████▌| 78642/82690 [6:08:46<6:10:44,  5.50s/it]\u001b[A\n",
      " 95%|█████████▌| 78643/82690 [6:09:12<13:09:09, 11.70s/it]\u001b[A\n",
      " 95%|█████████▌| 78644/82690 [6:09:53<22:57:53, 20.43s/it]\u001b[A\n",
      " 95%|█████████▌| 78646/82690 [6:09:57<16:47:51, 14.95s/it]\u001b[A\n",
      " 95%|█████████▌| 78647/82690 [6:10:04<14:14:09, 12.68s/it]\u001b[A\n",
      " 95%|█████████▌| 78648/82690 [6:10:07<10:38:49,  9.48s/it]\u001b[A\n",
      " 95%|█████████▌| 78649/82690 [6:10:08<7:47:09,  6.94s/it] \u001b[A\n",
      " 95%|█████████▌| 78651/82690 [6:10:39<10:45:51,  9.59s/it]\u001b[A\n",
      " 95%|█████████▌| 78652/82690 [6:11:03<15:40:30, 13.97s/it]\u001b[A\n",
      " 95%|█████████▌| 78653/82690 [6:11:06<11:49:56, 10.55s/it]\u001b[A\n",
      " 95%|█████████▌| 78654/82690 [6:11:42<20:20:32, 18.14s/it]\u001b[A\n",
      " 95%|█████████▌| 78655/82690 [6:11:44<15:00:12, 13.39s/it]\u001b[A\n",
      " 95%|█████████▌| 78656/82690 [6:11:44<10:36:04,  9.46s/it]\u001b[A\n",
      " 95%|█████████▌| 78657/82690 [6:12:31<23:07:39, 20.64s/it]\u001b[A\n",
      " 95%|█████████▌| 78658/82690 [6:12:34<17:08:57, 15.31s/it]\u001b[A\n",
      " 95%|█████████▌| 78659/82690 [6:12:35<12:25:09, 11.09s/it]\u001b[A\n",
      " 95%|█████████▌| 78660/82690 [6:12:45<11:58:27, 10.70s/it]\u001b[A\n",
      " 95%|█████████▌| 78661/82690 [6:12:46<8:48:38,  7.87s/it] \u001b[A\n",
      " 95%|█████████▌| 78662/82690 [6:12:46<6:14:44,  5.58s/it]\u001b[A\n",
      " 95%|█████████▌| 78663/82690 [6:13:34<20:24:18, 18.24s/it]\u001b[A\n",
      " 95%|█████████▌| 78664/82690 [6:13:53<20:36:24, 18.43s/it]\u001b[A\n",
      " 95%|█████████▌| 78666/82690 [6:14:34<21:13:39, 18.99s/it]\u001b[A\n",
      " 95%|█████████▌| 78668/82690 [6:14:36<15:18:06, 13.70s/it]\u001b[A\n",
      " 95%|█████████▌| 78669/82690 [6:14:38<11:16:51, 10.10s/it]\u001b[A\n",
      " 95%|█████████▌| 78670/82690 [6:14:39<8:11:20,  7.33s/it] \u001b[A\n",
      " 95%|█████████▌| 78671/82690 [6:14:43<7:04:46,  6.34s/it]\u001b[A\n",
      " 95%|█████████▌| 78672/82690 [6:14:56<9:27:48,  8.48s/it]\u001b[A\n",
      " 95%|█████████▌| 78674/82690 [6:14:58<6:49:27,  6.12s/it]\u001b[A\n",
      " 95%|█████████▌| 78675/82690 [6:14:58<5:02:28,  4.52s/it]\u001b[A\n",
      " 95%|█████████▌| 78676/82690 [6:14:59<3:38:39,  3.27s/it]\u001b[A\n",
      " 95%|█████████▌| 78677/82690 [6:15:03<4:02:38,  3.63s/it]\u001b[A\n",
      " 95%|█████████▌| 78679/82690 [6:15:10<3:57:32,  3.55s/it]\u001b[A\n",
      " 95%|█████████▌| 78680/82690 [6:15:11<3:11:04,  2.86s/it]\u001b[A\n",
      " 95%|█████████▌| 78681/82690 [6:15:12<2:19:00,  2.08s/it]\u001b[A\n",
      " 95%|█████████▌| 78682/82690 [6:15:12<1:47:34,  1.61s/it]\u001b[A\n",
      " 95%|█████████▌| 78683/82690 [6:15:24<5:16:46,  4.74s/it]\u001b[A\n",
      " 95%|█████████▌| 78684/82690 [6:16:17<21:21:30, 19.19s/it]\u001b[A\n",
      " 95%|█████████▌| 78685/82690 [6:16:43<23:27:53, 21.09s/it]\u001b[A\n",
      " 95%|█████████▌| 78686/82690 [6:16:43<16:29:47, 14.83s/it]\u001b[A\n",
      " 95%|█████████▌| 78689/82690 [6:16:45<11:50:13, 10.65s/it]\u001b[A\n",
      " 95%|█████████▌| 78690/82690 [6:17:02<13:52:45, 12.49s/it]\u001b[A\n",
      " 95%|█████████▌| 78691/82690 [6:17:33<19:47:46, 17.82s/it]\u001b[A\n",
      " 95%|█████████▌| 78692/82690 [6:17:46<18:23:10, 16.56s/it]\u001b[A\n",
      " 95%|█████████▌| 78694/82690 [6:17:48<13:09:09, 11.85s/it]\u001b[A\n",
      " 95%|█████████▌| 78695/82690 [6:17:56<11:50:06, 10.66s/it]\u001b[A\n",
      " 95%|█████████▌| 78696/82690 [6:17:57<8:33:46,  7.72s/it] \u001b[A\n",
      " 95%|█████████▌| 78697/82690 [6:17:59<6:52:30,  6.20s/it]\u001b[A\n",
      " 95%|█████████▌| 78698/82690 [6:18:03<6:00:31,  5.42s/it]\u001b[A\n",
      " 95%|█████████▌| 78699/82690 [6:18:04<4:41:28,  4.23s/it]\u001b[A\n",
      " 95%|█████████▌| 78700/82690 [6:18:06<3:49:14,  3.45s/it]\u001b[A\n",
      " 95%|█████████▌| 78701/82690 [6:18:41<14:14:53, 12.86s/it]\u001b[A\n",
      " 95%|█████████▌| 78702/82690 [6:18:41<10:07:30,  9.14s/it]\u001b[A\n",
      " 95%|█████████▌| 78704/82690 [6:18:42<7:16:31,  6.57s/it] \u001b[A\n",
      " 95%|█████████▌| 78705/82690 [6:18:43<5:22:03,  4.85s/it]\u001b[A\n",
      " 95%|█████████▌| 78706/82690 [6:18:46<4:36:48,  4.17s/it]\u001b[A\n",
      " 95%|█████████▌| 78707/82690 [6:19:15<13:03:41, 11.81s/it]\u001b[A\n",
      " 95%|█████████▌| 78708/82690 [6:19:17<9:35:04,  8.67s/it] \u001b[A\n",
      " 95%|█████████▌| 78709/82690 [6:19:17<6:45:42,  6.11s/it]\u001b[A\n",
      " 95%|█████████▌| 78710/82690 [6:19:52<16:22:15, 14.81s/it]\u001b[A\n",
      " 95%|█████████▌| 78712/82690 [6:19:52<11:28:56, 10.39s/it]\u001b[A\n",
      " 95%|█████████▌| 78713/82690 [6:20:19<16:49:25, 15.23s/it]\u001b[A\n",
      " 95%|█████████▌| 78714/82690 [6:20:40<18:43:10, 16.95s/it]\u001b[A\n",
      " 95%|█████████▌| 78715/82690 [6:21:10<23:10:25, 20.99s/it]\u001b[A\n",
      " 95%|█████████▌| 78717/82690 [6:21:17<17:20:39, 15.72s/it]\u001b[A\n",
      " 95%|█████████▌| 78719/82690 [6:21:24<13:16:47, 12.04s/it]\u001b[A\n",
      " 95%|█████████▌| 78720/82690 [6:21:32<12:00:02, 10.88s/it]\u001b[A\n",
      " 95%|█████████▌| 78722/82690 [6:21:33<8:36:57,  7.82s/it] \u001b[A\n",
      " 95%|█████████▌| 78724/82690 [6:21:41<7:22:17,  6.69s/it]\u001b[A\n",
      " 95%|█████████▌| 78725/82690 [6:22:09<14:13:27, 12.91s/it]\u001b[A\n",
      " 95%|█████████▌| 78726/82690 [6:22:19<13:18:05, 12.08s/it]\u001b[A\n",
      " 95%|█████████▌| 78727/82690 [6:22:21<10:06:58,  9.19s/it]\u001b[A\n",
      " 95%|█████████▌| 78728/82690 [6:22:56<18:35:46, 16.90s/it]\u001b[A\n",
      " 95%|█████████▌| 78729/82690 [6:23:25<22:32:46, 20.49s/it]\u001b[A\n",
      " 95%|█████████▌| 78730/82690 [6:23:26<16:08:17, 14.67s/it]\u001b[A\n",
      " 95%|█████████▌| 78733/82690 [6:23:29<11:38:19, 10.59s/it]\u001b[A\n",
      " 95%|█████████▌| 78734/82690 [6:23:30<8:18:31,  7.56s/it] \u001b[A\n",
      " 95%|█████████▌| 78735/82690 [6:23:32<6:37:45,  6.03s/it]\u001b[A\n",
      " 95%|█████████▌| 78737/82690 [6:23:34<4:53:08,  4.45s/it]\u001b[A\n",
      " 95%|█████████▌| 78738/82690 [6:23:35<3:53:59,  3.55s/it]\u001b[A\n",
      " 95%|█████████▌| 78739/82690 [6:23:47<6:34:48,  6.00s/it]\u001b[A\n",
      " 95%|█████████▌| 78740/82690 [6:23:50<5:30:35,  5.02s/it]\u001b[A\n",
      " 95%|█████████▌| 78741/82690 [6:24:01<7:37:54,  6.96s/it]\u001b[A\n",
      " 95%|█████████▌| 78742/82690 [6:24:02<5:23:50,  4.92s/it]\u001b[A\n",
      " 95%|█████████▌| 78743/82690 [6:24:02<3:53:23,  3.55s/it]\u001b[A\n",
      " 95%|█████████▌| 78744/82690 [6:24:04<3:20:31,  3.05s/it]\u001b[A\n",
      " 95%|█████████▌| 78746/82690 [6:24:06<2:47:02,  2.54s/it]\u001b[A\n",
      " 95%|█████████▌| 78748/82690 [6:24:38<7:11:43,  6.57s/it]\u001b[A\n",
      " 95%|█████████▌| 78749/82690 [6:25:02<12:43:58, 11.63s/it]\u001b[A\n",
      " 95%|█████████▌| 78750/82690 [6:25:06<10:13:28,  9.34s/it]\u001b[A\n",
      " 95%|█████████▌| 78751/82690 [6:25:07<7:37:44,  6.97s/it] \u001b[A\n",
      " 95%|█████████▌| 78752/82690 [6:25:09<5:58:21,  5.46s/it]\u001b[A\n",
      " 95%|█████████▌| 78755/82690 [6:25:30<6:26:13,  5.89s/it]\u001b[A\n",
      " 95%|█████████▌| 78756/82690 [6:25:32<5:02:03,  4.61s/it]\u001b[A\n",
      " 95%|█████████▌| 78757/82690 [6:25:32<3:39:19,  3.35s/it]\u001b[A\n",
      " 95%|█████████▌| 78759/82690 [6:25:33<2:41:03,  2.46s/it]\u001b[A\n",
      " 95%|█████████▌| 78760/82690 [6:25:37<3:09:24,  2.89s/it]\u001b[A\n",
      " 95%|█████████▌| 78761/82690 [6:25:53<7:35:14,  6.95s/it]\u001b[A\n",
      " 95%|█████████▌| 78762/82690 [6:25:56<6:14:24,  5.72s/it]\u001b[A\n",
      " 95%|█████████▌| 78763/82690 [6:25:59<5:18:42,  4.87s/it]\u001b[A\n",
      " 95%|█████████▌| 78766/82690 [6:26:08<4:44:55,  4.36s/it]\u001b[A\n",
      " 95%|█████████▌| 78767/82690 [6:26:15<5:25:00,  4.97s/it]\u001b[A\n",
      " 95%|█████████▌| 78768/82690 [6:26:34<10:06:54,  9.28s/it]\u001b[A\n",
      " 95%|█████████▌| 78769/82690 [6:26:35<7:22:59,  6.78s/it] \u001b[A\n",
      " 95%|█████████▌| 78771/82690 [6:26:35<5:11:19,  4.77s/it]\u001b[A\n",
      " 95%|█████████▌| 78772/82690 [6:26:37<4:11:39,  3.85s/it]\u001b[A\n",
      " 95%|█████████▌| 78773/82690 [6:26:52<7:56:50,  7.30s/it]\u001b[A\n",
      " 95%|█████████▌| 78774/82690 [6:27:01<8:36:50,  7.92s/it]\u001b[A\n",
      " 95%|█████████▌| 78776/82690 [6:27:08<7:09:25,  6.58s/it]\u001b[A\n",
      " 95%|█████████▌| 78777/82690 [6:27:13<6:30:13,  5.98s/it]\u001b[A\n",
      " 95%|█████████▌| 78778/82690 [6:27:13<4:36:07,  4.24s/it]\u001b[A\n",
      " 95%|█████████▌| 78780/82690 [6:27:13<3:15:44,  3.00s/it]\u001b[A\n",
      " 95%|█████████▌| 78781/82690 [6:27:14<2:35:01,  2.38s/it]\u001b[A\n",
      " 95%|█████████▌| 78782/82690 [6:27:40<10:00:55,  9.23s/it]\u001b[A\n",
      " 95%|█████████▌| 78783/82690 [6:27:43<7:59:06,  7.36s/it] \u001b[A\n",
      " 95%|█████████▌| 78784/82690 [6:28:07<13:29:49, 12.44s/it]\u001b[A\n",
      " 95%|█████████▌| 78785/82690 [6:28:07<9:30:24,  8.76s/it] \u001b[A\n",
      " 95%|█████████▌| 78786/82690 [6:28:48<20:07:46, 18.56s/it]\u001b[A\n",
      " 95%|█████████▌| 78787/82690 [6:29:27<26:30:31, 24.45s/it]\u001b[A\n",
      " 95%|█████████▌| 78789/82690 [6:30:02<24:21:35, 22.48s/it]\u001b[A\n",
      " 95%|█████████▌| 78790/82690 [6:30:49<32:13:31, 29.75s/it]\u001b[A\n",
      " 95%|█████████▌| 78791/82690 [6:30:50<22:57:45, 21.20s/it]\u001b[A\n",
      " 95%|█████████▌| 78792/82690 [6:30:52<16:43:48, 15.45s/it]\u001b[A\n",
      " 95%|█████████▌| 78793/82690 [6:30:55<12:25:47, 11.48s/it]\u001b[A\n",
      " 95%|█████████▌| 78794/82690 [6:30:57<9:32:29,  8.82s/it] \u001b[A\n",
      " 95%|█████████▌| 78795/82690 [6:31:00<7:43:30,  7.14s/it]\u001b[A\n",
      " 95%|█████████▌| 78796/82690 [6:31:01<5:31:03,  5.10s/it]\u001b[A\n",
      " 95%|█████████▌| 78797/82690 [6:31:02<4:05:56,  3.79s/it]\u001b[A\n",
      " 95%|█████████▌| 78798/82690 [6:31:13<6:31:25,  6.03s/it]\u001b[A\n",
      " 95%|█████████▌| 78799/82690 [6:31:14<5:03:06,  4.67s/it]\u001b[A\n",
      " 95%|█████████▌| 78801/82690 [6:31:17<3:54:43,  3.62s/it]\u001b[A\n",
      " 95%|█████████▌| 78803/82690 [6:31:42<6:52:55,  6.37s/it]\u001b[A\n",
      " 95%|█████████▌| 78805/82690 [6:31:43<4:52:08,  4.51s/it]\u001b[A\n",
      " 95%|█████████▌| 78806/82690 [6:31:45<4:12:37,  3.90s/it]\u001b[A\n",
      " 95%|█████████▌| 78807/82690 [6:32:17<13:26:34, 12.46s/it]\u001b[A\n",
      " 95%|█████████▌| 78808/82690 [6:32:19<9:45:01,  9.04s/it] \u001b[A\n",
      " 95%|█████████▌| 78809/82690 [6:32:32<11:17:19, 10.47s/it]\u001b[A\n",
      " 95%|█████████▌| 78810/82690 [6:32:39<9:58:54,  9.26s/it] \u001b[A\n",
      " 95%|█████████▌| 78811/82690 [6:33:14<18:26:32, 17.12s/it]\u001b[A\n",
      " 95%|█████████▌| 78812/82690 [6:33:16<13:32:25, 12.57s/it]\u001b[A\n",
      " 95%|█████████▌| 78814/82690 [6:33:28<11:27:14, 10.64s/it]\u001b[A\n",
      " 95%|█████████▌| 78815/82690 [6:33:32<9:05:49,  8.45s/it] \u001b[A\n",
      " 95%|█████████▌| 78816/82690 [6:33:33<6:45:08,  6.27s/it]\u001b[A\n",
      " 95%|█████████▌| 78818/82690 [6:33:33<4:46:21,  4.44s/it]\u001b[A\n",
      " 95%|█████████▌| 78820/82690 [6:33:44<5:05:59,  4.74s/it]\u001b[A\n",
      " 95%|█████████▌| 78821/82690 [6:33:49<5:12:19,  4.84s/it]\u001b[A\n",
      " 95%|█████████▌| 78822/82690 [6:33:50<3:45:39,  3.50s/it]\u001b[A\n",
      " 95%|█████████▌| 78823/82690 [6:33:51<2:57:15,  2.75s/it]\u001b[A\n",
      " 95%|█████████▌| 78824/82690 [6:33:53<2:50:33,  2.65s/it]\u001b[A\n",
      " 95%|█████████▌| 78826/82690 [6:33:54<2:13:14,  2.07s/it]\u001b[A\n",
      " 95%|█████████▌| 78827/82690 [6:33:55<1:36:19,  1.50s/it]\u001b[A\n",
      " 95%|█████████▌| 78828/82690 [6:33:55<1:21:04,  1.26s/it]\u001b[A\n",
      " 95%|█████████▌| 78829/82690 [6:33:56<1:17:15,  1.20s/it]\u001b[A\n",
      " 95%|█████████▌| 78830/82690 [6:34:01<2:13:34,  2.08s/it]\u001b[A\n",
      " 95%|█████████▌| 78831/82690 [6:34:01<1:39:31,  1.55s/it]\u001b[A\n",
      " 95%|█████████▌| 78832/82690 [6:34:28<9:51:21,  9.20s/it]\u001b[A\n",
      " 95%|█████████▌| 78833/82690 [6:35:03<18:13:14, 17.01s/it]\u001b[A\n",
      " 95%|█████████▌| 78834/82690 [6:35:27<20:21:58, 19.01s/it]\u001b[A\n",
      " 95%|█████████▌| 78836/82690 [6:36:02<19:55:45, 18.62s/it]\u001b[A\n",
      " 95%|█████████▌| 78838/82690 [6:36:03<14:00:43, 13.10s/it]\u001b[A\n",
      " 95%|█████████▌| 78839/82690 [6:36:03<9:51:29,  9.22s/it] \u001b[A\n",
      " 95%|█████████▌| 78840/82690 [6:36:05<7:36:26,  7.11s/it]\u001b[A\n",
      " 95%|█████████▌| 78841/82690 [6:36:06<5:43:02,  5.35s/it]\u001b[A\n",
      " 95%|█████████▌| 78842/82690 [6:36:09<4:54:06,  4.59s/it]\u001b[A\n",
      " 95%|█████████▌| 78843/82690 [6:36:14<5:10:33,  4.84s/it]\u001b[A\n",
      " 95%|█████████▌| 78845/82690 [6:36:25<5:21:35,  5.02s/it]\u001b[A\n",
      " 95%|█████████▌| 78847/82690 [6:36:26<3:53:26,  3.64s/it]\u001b[A\n",
      " 95%|█████████▌| 78848/82690 [6:36:29<3:28:53,  3.26s/it]\u001b[A\n",
      " 95%|█████████▌| 78849/82690 [6:36:30<3:02:14,  2.85s/it]\u001b[A\n",
      " 95%|█████████▌| 78851/82690 [6:36:40<3:42:51,  3.48s/it]\u001b[A\n",
      " 95%|█████████▌| 78853/82690 [6:36:46<3:31:22,  3.31s/it]\u001b[A\n",
      " 95%|█████████▌| 78855/82690 [6:37:08<5:52:36,  5.52s/it]\u001b[A\n",
      " 95%|█████████▌| 78856/82690 [6:37:10<4:55:36,  4.63s/it]\u001b[A\n",
      " 95%|█████████▌| 78857/82690 [6:37:33<10:54:38, 10.25s/it]\u001b[A\n",
      " 95%|█████████▌| 78860/82690 [6:37:35<7:47:31,  7.32s/it] \u001b[A\n",
      " 95%|█████████▌| 78861/82690 [6:37:36<5:42:28,  5.37s/it]\u001b[A\n",
      " 95%|█████████▌| 78862/82690 [6:37:45<6:58:17,  6.56s/it]\u001b[A\n",
      " 95%|█████████▌| 78863/82690 [6:37:45<4:57:23,  4.66s/it]\u001b[A\n",
      " 95%|█████████▌| 78864/82690 [6:37:55<6:28:56,  6.10s/it]\u001b[A\n",
      " 95%|█████████▌| 78865/82690 [6:37:59<5:56:55,  5.60s/it]\u001b[A\n",
      " 95%|█████████▌| 78866/82690 [6:38:00<4:26:27,  4.18s/it]\u001b[A\n",
      " 95%|█████████▌| 78867/82690 [6:38:02<3:52:34,  3.65s/it]\u001b[A\n",
      " 95%|█████████▌| 78869/82690 [6:38:05<3:08:15,  2.96s/it]\u001b[A\n",
      " 95%|█████████▌| 78870/82690 [6:38:07<2:44:56,  2.59s/it]\u001b[A\n",
      " 95%|█████████▌| 78871/82690 [6:38:12<3:35:13,  3.38s/it]\u001b[A\n",
      " 95%|█████████▌| 78872/82690 [6:38:24<6:15:21,  5.90s/it]\u001b[A\n",
      " 95%|█████████▌| 78873/82690 [6:38:28<5:36:19,  5.29s/it]\u001b[A\n",
      " 95%|█████████▌| 78874/82690 [6:39:07<16:16:18, 15.35s/it]\u001b[A\n",
      " 95%|█████████▌| 78875/82690 [6:39:09<12:16:25, 11.58s/it]\u001b[A\n",
      " 95%|█████████▌| 78876/82690 [6:39:15<10:13:39,  9.65s/it]\u001b[A\n",
      " 95%|█████████▌| 78877/82690 [6:39:15<7:16:33,  6.87s/it] \u001b[A\n",
      " 95%|█████████▌| 78878/82690 [6:39:17<5:50:14,  5.51s/it]\u001b[A\n",
      " 95%|█████████▌| 78879/82690 [6:39:52<15:03:52, 14.23s/it]\u001b[A\n",
      " 95%|█████████▌| 78880/82690 [6:40:10<16:19:10, 15.42s/it]\u001b[A\n",
      " 95%|█████████▌| 78881/82690 [6:40:20<14:29:27, 13.70s/it]\u001b[A\n",
      " 95%|█████████▌| 78884/82690 [6:40:21<10:18:27,  9.75s/it]\u001b[A\n",
      " 95%|█████████▌| 78885/82690 [6:40:22<7:27:58,  7.06s/it] \u001b[A\n",
      " 95%|█████████▌| 78886/82690 [6:40:32<8:28:00,  8.01s/it]\u001b[A\n",
      " 95%|█████████▌| 78887/82690 [6:40:55<13:00:42, 12.32s/it]\u001b[A\n",
      " 95%|█████████▌| 78888/82690 [6:40:55<9:10:41,  8.69s/it] \u001b[A\n",
      " 95%|█████████▌| 78891/82690 [6:41:11<8:09:27,  7.73s/it]\u001b[A\n",
      " 95%|█████████▌| 78892/82690 [6:41:12<5:47:05,  5.48s/it]\u001b[A\n",
      " 95%|█████████▌| 78893/82690 [6:41:13<4:33:48,  4.33s/it]\u001b[A\n",
      " 95%|█████████▌| 78894/82690 [6:41:21<5:34:01,  5.28s/it]\u001b[A\n",
      " 95%|█████████▌| 78895/82690 [6:41:22<4:23:50,  4.17s/it]\u001b[A\n",
      " 95%|█████████▌| 78896/82690 [6:41:26<4:04:45,  3.87s/it]\u001b[A\n",
      " 95%|█████████▌| 78897/82690 [6:41:33<5:11:55,  4.93s/it]\u001b[A\n",
      " 95%|█████████▌| 78898/82690 [6:41:39<5:39:17,  5.37s/it]\u001b[A\n",
      " 95%|█████████▌| 78900/82690 [6:41:44<4:41:12,  4.45s/it]\u001b[A\n",
      " 95%|█████████▌| 78901/82690 [6:41:53<6:01:55,  5.73s/it]\u001b[A\n",
      " 95%|█████████▌| 78902/82690 [6:41:55<4:58:13,  4.72s/it]\u001b[A\n",
      " 95%|█████████▌| 78903/82690 [6:42:06<6:48:28,  6.47s/it]\u001b[A\n",
      " 95%|█████████▌| 78904/82690 [6:42:06<4:51:46,  4.62s/it]\u001b[A\n",
      " 95%|█████████▌| 78906/82690 [6:42:43<9:11:48,  8.75s/it]\u001b[A\n",
      " 95%|█████████▌| 78907/82690 [6:42:44<6:42:47,  6.39s/it]\u001b[A\n",
      " 95%|█████████▌| 78908/82690 [6:42:45<5:03:32,  4.82s/it]\u001b[A\n",
      " 95%|█████████▌| 78909/82690 [6:42:45<3:45:47,  3.58s/it]\u001b[A\n",
      " 95%|█████████▌| 78911/82690 [6:43:15<7:15:17,  6.91s/it]\u001b[A\n",
      " 95%|█████████▌| 78912/82690 [6:43:54<17:28:41, 16.65s/it]\u001b[A\n",
      " 95%|█████████▌| 78913/82690 [6:43:55<12:33:25, 11.97s/it]\u001b[A\n"
     ]
    },
    {
     "name": "stderr",
     "output_type": "stream",
     "text": [
      " 95%|█████████▌| 78914/82690 [6:43:56<8:54:23,  8.49s/it] \u001b[A\n",
      " 95%|█████████▌| 78915/82690 [6:44:06<9:35:20,  9.14s/it]\u001b[A\n",
      " 95%|█████████▌| 78916/82690 [6:44:06<6:46:12,  6.46s/it]\u001b[A\n",
      " 95%|█████████▌| 78917/82690 [6:44:38<14:43:07, 14.04s/it]\u001b[A\n",
      " 95%|█████████▌| 78919/82690 [6:45:16<16:15:07, 15.52s/it]\u001b[A\n",
      " 95%|█████████▌| 78920/82690 [6:45:16<11:28:18, 10.95s/it]\u001b[A\n",
      " 95%|█████████▌| 78921/82690 [6:45:19<8:47:56,  8.40s/it] \u001b[A\n",
      " 95%|█████████▌| 78923/82690 [6:45:36<8:47:55,  8.41s/it]\u001b[A\n",
      " 95%|█████████▌| 78924/82690 [6:45:47<9:34:28,  9.15s/it]\u001b[A\n",
      " 95%|█████████▌| 78925/82690 [6:46:03<12:00:55, 11.49s/it]\u001b[A\n",
      " 95%|█████████▌| 78926/82690 [6:46:06<9:20:16,  8.93s/it] \u001b[A\n",
      " 95%|█████████▌| 78927/82690 [6:46:07<6:35:41,  6.31s/it]\u001b[A\n",
      " 95%|█████████▌| 78928/82690 [6:46:08<4:57:22,  4.74s/it]\u001b[A\n",
      " 95%|█████████▌| 78929/82690 [6:46:10<4:02:32,  3.87s/it]\u001b[A\n",
      " 95%|█████████▌| 78930/82690 [6:46:13<3:52:41,  3.71s/it]\u001b[A\n",
      " 95%|█████████▌| 78931/82690 [6:46:14<3:04:03,  2.94s/it]\u001b[A\n",
      " 95%|█████████▌| 78932/82690 [6:46:40<10:23:34,  9.96s/it]\u001b[A\n",
      " 95%|█████████▌| 78933/82690 [6:46:48<9:41:22,  9.28s/it] \u001b[A\n",
      " 95%|█████████▌| 78934/82690 [6:46:49<7:00:54,  6.72s/it]\u001b[A\n",
      " 95%|█████████▌| 78935/82690 [6:46:51<5:34:07,  5.34s/it]\u001b[A\n",
      " 95%|█████████▌| 78936/82690 [6:47:01<7:03:12,  6.76s/it]\u001b[A\n",
      " 95%|█████████▌| 78937/82690 [6:47:01<5:00:08,  4.80s/it]\u001b[A\n",
      " 95%|█████████▌| 78938/82690 [6:47:19<8:58:17,  8.61s/it]\u001b[A\n",
      " 95%|█████████▌| 78939/82690 [6:47:20<6:43:55,  6.46s/it]\u001b[A\n",
      " 95%|█████████▌| 78940/82690 [6:47:54<15:17:43, 14.68s/it]\u001b[A\n",
      " 95%|█████████▌| 78941/82690 [6:47:55<11:04:42, 10.64s/it]\u001b[A\n",
      " 95%|█████████▌| 78943/82690 [6:47:56<7:47:29,  7.49s/it] \u001b[A\n",
      " 95%|█████████▌| 78944/82690 [6:48:20<12:59:37, 12.49s/it]\u001b[A\n",
      " 95%|█████████▌| 78945/82690 [6:48:21<9:24:08,  9.04s/it] \u001b[A\n",
      " 95%|█████████▌| 78947/82690 [6:48:24<7:05:37,  6.82s/it]\u001b[A\n",
      " 95%|█████████▌| 78948/82690 [6:48:24<5:02:43,  4.85s/it]\u001b[A\n",
      " 95%|█████████▌| 78949/82690 [6:48:32<5:55:31,  5.70s/it]\u001b[A\n",
      " 95%|█████████▌| 78951/82690 [6:48:44<6:00:55,  5.79s/it]\u001b[A\n",
      " 95%|█████████▌| 78952/82690 [6:48:59<8:50:58,  8.52s/it]\u001b[A\n",
      " 95%|█████████▌| 78953/82690 [6:49:08<8:54:39,  8.58s/it]\u001b[A\n",
      " 95%|█████████▌| 78954/82690 [6:49:17<9:03:14,  8.72s/it]\u001b[A\n",
      " 95%|█████████▌| 78956/82690 [6:49:28<8:08:33,  7.85s/it]\u001b[A\n",
      " 95%|█████████▌| 78957/82690 [6:50:10<18:46:59, 18.11s/it]\u001b[A\n",
      " 95%|█████████▌| 78958/82690 [6:50:13<14:03:11, 13.56s/it]\u001b[A\n",
      " 95%|█████████▌| 78959/82690 [6:50:14<10:11:21,  9.83s/it]\u001b[A\n",
      " 95%|█████████▌| 78960/82690 [6:50:20<8:58:39,  8.66s/it] \u001b[A\n",
      " 95%|█████████▌| 78961/82690 [6:50:23<7:03:46,  6.82s/it]\u001b[A\n",
      " 95%|█████████▌| 78962/82690 [6:50:31<7:26:23,  7.18s/it]\u001b[A\n",
      " 95%|█████████▌| 78963/82690 [6:50:38<7:19:01,  7.07s/it]\u001b[A\n",
      " 95%|█████████▌| 78964/82690 [6:50:42<6:31:19,  6.30s/it]\u001b[A\n",
      " 95%|█████████▌| 78965/82690 [6:50:48<6:28:05,  6.25s/it]\u001b[A\n",
      " 95%|█████████▌| 78966/82690 [6:50:49<4:51:05,  4.69s/it]\u001b[A\n",
      " 95%|█████████▌| 78967/82690 [6:50:52<4:09:32,  4.02s/it]\u001b[A\n",
      " 95%|█████████▌| 78968/82690 [6:50:52<3:07:35,  3.02s/it]\u001b[A\n",
      " 96%|█████████▌| 78969/82690 [6:50:54<2:32:05,  2.45s/it]\u001b[A\n",
      " 96%|█████████▌| 78970/82690 [6:50:55<2:06:50,  2.05s/it]\u001b[A\n",
      " 96%|█████████▌| 78971/82690 [6:50:57<2:12:40,  2.14s/it]\u001b[A\n",
      " 96%|█████████▌| 78972/82690 [6:51:33<12:41:40, 12.29s/it]\u001b[A\n",
      " 96%|█████████▌| 78973/82690 [6:51:35<9:21:56,  9.07s/it] \u001b[A\n",
      " 96%|█████████▌| 78974/82690 [6:51:35<6:48:05,  6.59s/it]\u001b[A\n",
      " 96%|█████████▌| 78975/82690 [6:51:59<12:06:59, 11.74s/it]\u001b[A\n",
      " 96%|█████████▌| 78976/82690 [6:52:00<8:46:51,  8.51s/it] \u001b[A\n",
      " 96%|█████████▌| 78977/82690 [6:52:08<8:30:02,  8.24s/it]\u001b[A\n",
      " 96%|█████████▌| 78978/82690 [6:52:18<9:10:59,  8.91s/it]\u001b[A\n",
      " 96%|█████████▌| 78979/82690 [6:52:19<6:32:21,  6.34s/it]\u001b[A\n",
      " 96%|█████████▌| 78980/82690 [6:52:25<6:37:33,  6.43s/it]\u001b[A\n",
      " 96%|█████████▌| 78982/82690 [6:53:03<10:32:58, 10.24s/it]\u001b[A\n",
      " 96%|█████████▌| 78983/82690 [6:53:04<7:30:38,  7.29s/it] \u001b[A\n",
      " 96%|█████████▌| 78985/82690 [6:53:19<7:39:04,  7.43s/it]\u001b[A\n",
      " 96%|█████████▌| 78986/82690 [6:53:20<5:29:04,  5.33s/it]\u001b[A\n",
      " 96%|█████████▌| 78987/82690 [6:53:21<4:19:48,  4.21s/it]\u001b[A\n",
      " 96%|█████████▌| 78988/82690 [6:53:23<3:35:04,  3.49s/it]\u001b[A\n",
      " 96%|█████████▌| 78989/82690 [6:53:24<2:49:02,  2.74s/it]\u001b[A\n",
      " 96%|█████████▌| 78990/82690 [6:53:24<2:01:49,  1.98s/it]\u001b[A\n",
      " 96%|█████████▌| 78992/82690 [6:53:34<2:50:04,  2.76s/it]\u001b[A\n",
      " 96%|█████████▌| 78993/82690 [6:53:43<4:54:23,  4.78s/it]\u001b[A\n",
      " 96%|█████████▌| 78995/82690 [6:53:44<3:34:11,  3.48s/it]\u001b[A\n",
      " 96%|█████████▌| 78996/82690 [6:53:51<4:41:03,  4.57s/it]\u001b[A\n",
      " 96%|█████████▌| 78997/82690 [6:53:56<4:53:10,  4.76s/it]\u001b[A\n",
      " 96%|█████████▌| 78998/82690 [6:54:49<19:29:17, 19.00s/it]\u001b[A\n",
      " 96%|█████████▌| 78999/82690 [6:54:53<14:58:01, 14.60s/it]\u001b[A\n",
      " 96%|█████████▌| 79000/82690 [6:55:06<14:34:49, 14.22s/it]\u001b[A\n",
      " 96%|█████████▌| 79001/82690 [6:55:12<11:54:21, 11.62s/it]\u001b[A\n",
      " 96%|█████████▌| 79002/82690 [6:55:46<18:51:00, 18.40s/it]\u001b[A\n",
      " 96%|█████████▌| 79003/82690 [6:55:47<13:33:00, 13.23s/it]\u001b[A\n",
      " 96%|█████████▌| 79004/82690 [6:55:49<10:10:50,  9.94s/it]\u001b[A\n",
      " 96%|█████████▌| 79005/82690 [6:56:11<13:37:53, 13.32s/it]\u001b[A\n",
      " 96%|█████████▌| 79006/82690 [6:56:11<9:36:55,  9.40s/it] \u001b[A\n",
      " 96%|█████████▌| 79007/82690 [6:56:12<7:12:27,  7.05s/it]\u001b[A\n",
      " 96%|█████████▌| 79008/82690 [6:56:14<5:29:37,  5.37s/it]\u001b[A\n",
      " 96%|█████████▌| 79009/82690 [6:56:23<6:29:58,  6.36s/it]\u001b[A\n",
      " 96%|█████████▌| 79011/82690 [6:56:23<4:36:22,  4.51s/it]\u001b[A\n",
      " 96%|█████████▌| 79012/82690 [6:57:07<16:40:45, 16.33s/it]\u001b[A\n",
      " 96%|█████████▌| 79013/82690 [6:57:15<14:08:14, 13.84s/it]\u001b[A\n",
      " 96%|█████████▌| 79014/82690 [6:57:23<12:31:00, 12.26s/it]\u001b[A\n",
      " 96%|█████████▌| 79015/82690 [6:57:24<8:51:17,  8.67s/it] \u001b[A\n",
      " 96%|█████████▌| 79017/82690 [6:57:31<7:16:37,  7.13s/it]\u001b[A\n",
      " 96%|█████████▌| 79019/82690 [6:57:35<5:47:21,  5.68s/it]\u001b[A\n",
      " 96%|█████████▌| 79020/82690 [6:58:00<11:44:00, 11.51s/it]\u001b[A\n",
      " 96%|█████████▌| 79021/82690 [6:58:03<8:49:47,  8.66s/it] \u001b[A\n",
      " 96%|█████████▌| 79022/82690 [6:58:03<6:14:05,  6.12s/it]\u001b[A\n",
      " 96%|█████████▌| 79024/82690 [6:58:46<11:02:45, 10.85s/it]\u001b[A\n",
      " 96%|█████████▌| 79026/82690 [6:58:53<8:42:05,  8.55s/it] \u001b[A\n",
      " 96%|█████████▌| 79027/82690 [6:58:56<7:01:44,  6.91s/it]\u001b[A\n",
      " 96%|█████████▌| 79029/82690 [6:59:09<6:52:39,  6.76s/it]\u001b[A\n",
      " 96%|█████████▌| 79031/82690 [6:59:17<6:01:51,  5.93s/it]\u001b[A\n",
      " 96%|█████████▌| 79032/82690 [6:59:18<4:30:14,  4.43s/it]\u001b[A\n",
      " 96%|█████████▌| 79033/82690 [6:59:21<4:14:45,  4.18s/it]\u001b[A\n",
      " 96%|█████████▌| 79034/82690 [6:59:27<4:45:29,  4.69s/it]\u001b[A\n",
      " 96%|█████████▌| 79035/82690 [6:59:29<3:59:19,  3.93s/it]\u001b[A\n",
      " 96%|█████████▌| 79036/82690 [6:59:30<3:04:41,  3.03s/it]\u001b[A\n",
      " 96%|█████████▌| 79037/82690 [6:59:31<2:29:33,  2.46s/it]\u001b[A\n",
      " 96%|█████████▌| 79038/82690 [6:59:39<4:03:07,  3.99s/it]\u001b[A\n",
      " 96%|█████████▌| 79039/82690 [6:59:40<3:15:40,  3.22s/it]\u001b[A\n",
      " 96%|█████████▌| 79040/82690 [7:00:22<15:01:20, 14.82s/it]\u001b[A\n",
      " 96%|█████████▌| 79042/82690 [7:01:16<18:44:24, 18.49s/it]\u001b[A\n",
      " 96%|█████████▌| 79043/82690 [7:01:21<14:36:22, 14.42s/it]\u001b[A\n",
      " 96%|█████████▌| 79045/82690 [7:01:42<13:19:18, 13.16s/it]\u001b[A\n",
      " 96%|█████████▌| 79046/82690 [7:01:48<11:11:32, 11.06s/it]\u001b[A\n",
      " 96%|█████████▌| 79047/82690 [7:01:52<9:13:15,  9.11s/it] \u001b[A\n",
      " 96%|█████████▌| 79048/82690 [7:02:16<13:42:56, 13.56s/it]\u001b[A\n",
      " 96%|█████████▌| 79049/82690 [7:02:24<11:57:34, 11.83s/it]\u001b[A\n",
      " 96%|█████████▌| 79051/82690 [7:02:24<8:23:46,  8.31s/it] \u001b[A\n",
      " 96%|█████████▌| 79052/82690 [7:02:49<13:20:08, 13.20s/it]\u001b[A\n",
      " 96%|█████████▌| 79053/82690 [7:03:12<16:24:28, 16.24s/it]\u001b[A\n",
      " 96%|█████████▌| 79054/82690 [7:03:20<13:55:47, 13.79s/it]\u001b[A\n",
      " 96%|█████████▌| 79055/82690 [7:04:13<25:43:15, 25.47s/it]\u001b[A\n",
      " 96%|█████████▌| 79056/82690 [7:04:28<22:22:33, 22.17s/it]\u001b[A\n",
      " 96%|█████████▌| 79058/82690 [7:04:57<20:08:23, 19.96s/it]\u001b[A\n",
      " 96%|█████████▌| 79059/82690 [7:04:58<14:21:33, 14.24s/it]\u001b[A\n",
      " 96%|█████████▌| 79061/82690 [7:04:59<10:15:07, 10.17s/it]\u001b[A\n",
      " 96%|█████████▌| 79062/82690 [7:05:16<12:16:19, 12.18s/it]\u001b[A\n",
      " 96%|█████████▌| 79063/82690 [7:06:06<23:35:10, 23.41s/it]\u001b[A\n",
      " 96%|█████████▌| 79064/82690 [7:06:25<22:13:11, 22.06s/it]\u001b[A\n",
      " 96%|█████████▌| 79066/82690 [7:06:34<16:59:58, 16.89s/it]\u001b[A\n",
      " 96%|█████████▌| 79069/82690 [7:06:35<11:55:32, 11.86s/it]\u001b[A\n",
      " 96%|█████████▌| 79071/82690 [7:07:17<14:41:09, 14.61s/it]\u001b[A\n",
      " 96%|█████████▌| 79072/82690 [7:07:23<12:08:49, 12.09s/it]\u001b[A\n",
      " 96%|█████████▌| 79073/82690 [7:08:01<19:59:24, 19.90s/it]\u001b[A\n",
      " 96%|█████████▌| 79074/82690 [7:08:05<15:13:53, 15.16s/it]\u001b[A\n",
      " 96%|█████████▌| 79075/82690 [7:08:07<11:15:08, 11.21s/it]\u001b[A\n",
      " 96%|█████████▌| 79076/82690 [7:08:13<9:40:21,  9.64s/it] \u001b[A\n",
      " 96%|█████████▌| 79077/82690 [7:08:14<7:02:48,  7.02s/it]\u001b[A\n",
      " 96%|█████████▌| 79078/82690 [7:08:16<5:32:12,  5.52s/it]\u001b[A\n",
      " 96%|█████████▌| 79079/82690 [7:08:19<4:41:19,  4.67s/it]\u001b[A\n",
      " 96%|█████████▌| 79082/82690 [7:08:27<4:05:28,  4.08s/it]\u001b[A\n",
      " 96%|█████████▌| 79083/82690 [7:08:28<3:08:02,  3.13s/it]\u001b[A\n",
      " 96%|█████████▌| 79084/82690 [7:08:30<2:56:42,  2.94s/it]\u001b[A\n",
      " 96%|█████████▌| 79085/82690 [7:08:31<2:08:29,  2.14s/it]\u001b[A\n",
      " 96%|█████████▌| 79086/82690 [7:08:31<1:36:16,  1.60s/it]\u001b[A\n",
      " 96%|█████████▌| 79087/82690 [7:08:31<1:13:15,  1.22s/it]\u001b[A\n",
      " 96%|█████████▌| 79088/82690 [7:08:38<2:44:49,  2.75s/it]\u001b[A\n",
      " 96%|█████████▌| 79089/82690 [7:08:38<2:10:18,  2.17s/it]\u001b[A\n",
      " 96%|█████████▌| 79090/82690 [7:08:44<3:11:11,  3.19s/it]\u001b[A\n",
      " 96%|█████████▌| 79091/82690 [7:09:04<8:06:12,  8.11s/it]\u001b[A\n",
      " 96%|█████████▌| 79092/82690 [7:09:06<6:15:44,  6.27s/it]\u001b[A\n",
      " 96%|█████████▌| 79093/82690 [7:09:07<4:39:51,  4.67s/it]\u001b[A\n",
      " 96%|█████████▌| 79094/82690 [7:09:27<9:23:44,  9.41s/it]\u001b[A\n",
      " 96%|█████████▌| 79095/82690 [7:09:29<7:15:52,  7.27s/it]\u001b[A\n",
      " 96%|█████████▌| 79096/82690 [7:09:32<5:52:10,  5.88s/it]\u001b[A\n",
      " 96%|█████████▌| 79097/82690 [7:09:44<7:48:22,  7.82s/it]\u001b[A\n",
      " 96%|█████████▌| 79098/82690 [7:10:11<13:19:53, 13.36s/it]\u001b[A\n",
      " 96%|█████████▌| 79099/82690 [7:10:14<10:28:07, 10.49s/it]\u001b[A\n",
      " 96%|█████████▌| 79100/82690 [7:10:41<15:09:57, 15.21s/it]\u001b[A\n",
      " 96%|█████████▌| 79101/82690 [7:10:57<15:34:16, 15.62s/it]\u001b[A\n",
      " 96%|█████████▌| 79103/82690 [7:11:16<13:40:00, 13.72s/it]\u001b[A\n",
      " 96%|█████████▌| 79104/82690 [7:11:18<10:14:33, 10.28s/it]\u001b[A\n",
      " 96%|█████████▌| 79106/82690 [7:11:19<7:18:47,  7.35s/it] \u001b[A\n",
      " 96%|█████████▌| 79107/82690 [7:11:28<7:57:48,  8.00s/it]\u001b[A\n",
      " 96%|█████████▌| 79108/82690 [7:11:29<5:49:18,  5.85s/it]\u001b[A\n",
      " 96%|█████████▌| 79109/82690 [7:11:32<4:54:51,  4.94s/it]\u001b[A\n",
      " 96%|█████████▌| 79110/82690 [7:11:34<3:51:22,  3.88s/it]\u001b[A\n",
      " 96%|█████████▌| 79111/82690 [7:12:30<19:34:52, 19.70s/it]\u001b[A\n",
      " 96%|█████████▌| 79112/82690 [7:12:43<17:26:40, 17.55s/it]\u001b[A\n",
      " 96%|█████████▌| 79113/82690 [7:13:02<17:55:11, 18.04s/it]\u001b[A\n",
      " 96%|█████████▌| 79114/82690 [7:13:11<15:22:36, 15.48s/it]\u001b[A\n",
      " 96%|█████████▌| 79115/82690 [7:13:12<10:58:38, 11.05s/it]\u001b[A\n",
      " 96%|█████████▌| 79116/82690 [7:13:34<14:08:01, 14.24s/it]\u001b[A\n",
      " 96%|█████████▌| 79117/82690 [7:13:35<10:20:49, 10.43s/it]\u001b[A\n",
      " 96%|█████████▌| 79118/82690 [7:13:36<7:32:39,  7.60s/it] \u001b[A\n",
      " 96%|█████████▌| 79119/82690 [7:13:51<9:37:37,  9.71s/it]\u001b[A\n",
      " 96%|█████████▌| 79120/82690 [7:14:05<10:47:39, 10.88s/it]\u001b[A\n",
      " 96%|█████████▌| 79121/82690 [7:14:05<7:47:49,  7.86s/it] \u001b[A\n",
      " 96%|█████████▌| 79122/82690 [7:14:14<7:52:27,  7.94s/it]\u001b[A\n",
      " 96%|█████████▌| 79123/82690 [7:14:14<5:35:40,  5.65s/it]\u001b[A\n",
      " 96%|█████████▌| 79124/82690 [7:14:20<5:46:42,  5.83s/it]\u001b[A\n",
      " 96%|█████████▌| 79125/82690 [7:14:31<7:11:48,  7.27s/it]\u001b[A\n",
      " 96%|█████████▌| 79126/82690 [7:14:42<8:18:47,  8.40s/it]\u001b[A\n",
      " 96%|█████████▌| 79127/82690 [7:15:21<17:34:05, 17.75s/it]\u001b[A\n",
      " 96%|█████████▌| 79128/82690 [7:15:22<12:32:16, 12.67s/it]\u001b[A\n",
      " 96%|█████████▌| 79129/82690 [7:15:23<9:00:40,  9.11s/it] \u001b[A\n",
      " 96%|█████████▌| 79130/82690 [7:15:26<7:14:06,  7.32s/it]\u001b[A\n",
      " 96%|█████████▌| 79131/82690 [7:15:27<5:29:20,  5.55s/it]\u001b[A\n",
      " 96%|█████████▌| 79132/82690 [7:15:30<4:37:53,  4.69s/it]\u001b[A\n",
      " 96%|█████████▌| 79133/82690 [7:15:40<6:02:41,  6.12s/it]\u001b[A\n",
      " 96%|█████████▌| 79134/82690 [7:15:59<9:50:32,  9.96s/it]\u001b[A\n",
      " 96%|█████████▌| 79135/82690 [7:16:00<7:11:11,  7.28s/it]\u001b[A\n",
      " 96%|█████████▌| 79137/82690 [7:16:22<8:23:57,  8.51s/it]\u001b[A\n",
      " 96%|█████████▌| 79138/82690 [7:16:29<7:52:34,  7.98s/it]\u001b[A\n",
      " 96%|█████████▌| 79139/82690 [7:16:29<5:36:30,  5.69s/it]\u001b[A\n",
      " 96%|█████████▌| 79141/82690 [7:16:32<4:16:31,  4.34s/it]\u001b[A\n",
      " 96%|█████████▌| 79142/82690 [7:16:36<4:13:18,  4.28s/it]\u001b[A\n",
      " 96%|█████████▌| 79143/82690 [7:16:48<6:33:56,  6.66s/it]\u001b[A\n",
      " 96%|█████████▌| 79144/82690 [7:16:49<4:48:51,  4.89s/it]\u001b[A\n",
      " 96%|█████████▌| 79145/82690 [7:16:50<3:40:00,  3.72s/it]\u001b[A\n",
      " 96%|█████████▌| 79146/82690 [7:17:07<7:42:43,  7.83s/it]\u001b[A\n",
      " 96%|█████████▌| 79147/82690 [7:17:09<5:54:07,  6.00s/it]\u001b[A\n",
      " 96%|█████████▌| 79148/82690 [7:17:11<4:37:22,  4.70s/it]\u001b[A\n",
      " 96%|█████████▌| 79149/82690 [7:17:18<5:21:52,  5.45s/it]\u001b[A\n",
      " 96%|█████████▌| 79150/82690 [7:17:21<4:41:22,  4.77s/it]\u001b[A\n",
      " 96%|█████████▌| 79151/82690 [7:17:24<4:16:03,  4.34s/it]\u001b[A\n",
      " 96%|█████████▌| 79152/82690 [7:17:25<3:16:26,  3.33s/it]\u001b[A\n",
      " 96%|█████████▌| 79153/82690 [7:17:30<3:40:51,  3.75s/it]\u001b[A\n",
      " 96%|█████████▌| 79155/82690 [7:17:30<2:37:00,  2.66s/it]\u001b[A\n",
      " 96%|█████████▌| 79156/82690 [7:17:32<2:24:03,  2.45s/it]\u001b[A\n",
      " 96%|█████████▌| 79157/82690 [7:17:41<4:16:37,  4.36s/it]\u001b[A\n",
      " 96%|█████████▌| 79158/82690 [7:17:53<6:27:22,  6.58s/it]\u001b[A\n",
      " 96%|█████████▌| 79159/82690 [7:17:55<4:59:27,  5.09s/it]\u001b[A\n",
      " 96%|█████████▌| 79160/82690 [7:17:56<4:00:03,  4.08s/it]\u001b[A\n",
      " 96%|█████████▌| 79161/82690 [7:17:58<3:19:45,  3.40s/it]\u001b[A\n",
      " 96%|█████████▌| 79162/82690 [7:18:01<3:06:50,  3.18s/it]\u001b[A\n",
      " 96%|█████████▌| 79163/82690 [7:18:12<5:31:43,  5.64s/it]\u001b[A\n",
      " 96%|█████████▌| 79164/82690 [7:18:14<4:31:43,  4.62s/it]\u001b[A\n",
      " 96%|█████████▌| 79165/82690 [7:18:15<3:29:07,  3.56s/it]\u001b[A\n",
      " 96%|█████████▌| 79166/82690 [7:18:20<3:45:30,  3.84s/it]\u001b[A\n",
      " 96%|█████████▌| 79168/82690 [7:18:21<2:44:04,  2.80s/it]\u001b[A\n",
      " 96%|█████████▌| 79169/82690 [7:18:21<1:57:48,  2.01s/it]\u001b[A\n",
      " 96%|█████████▌| 79170/82690 [7:18:25<2:39:44,  2.72s/it]\u001b[A\n",
      " 96%|█████████▌| 79171/82690 [7:18:25<1:56:10,  1.98s/it]\u001b[A\n",
      " 96%|█████████▌| 79172/82690 [7:18:33<3:35:37,  3.68s/it]\u001b[A\n",
      " 96%|█████████▌| 79173/82690 [7:18:33<2:35:04,  2.65s/it]\u001b[A\n",
      " 96%|█████████▌| 79174/82690 [7:18:37<2:45:15,  2.82s/it]\u001b[A\n",
      " 96%|█████████▌| 79175/82690 [7:18:47<5:07:49,  5.25s/it]\u001b[A\n",
      " 96%|█████████▌| 79176/82690 [7:18:54<5:21:07,  5.48s/it]\u001b[A\n",
      " 96%|█████████▌| 79177/82690 [7:18:59<5:27:51,  5.60s/it]\u001b[A\n",
      " 96%|█████████▌| 79178/82690 [7:19:06<5:47:47,  5.94s/it]\u001b[A\n",
      " 96%|█████████▌| 79180/82690 [7:19:13<4:59:37,  5.12s/it]\u001b[A\n",
      " 96%|█████████▌| 79182/82690 [7:19:13<3:33:37,  3.65s/it]\u001b[A\n",
      " 96%|█████████▌| 79183/82690 [7:19:15<2:55:51,  3.01s/it]\u001b[A\n",
      " 96%|█████████▌| 79184/82690 [7:19:16<2:37:07,  2.69s/it]\u001b[A\n",
      " 96%|█████████▌| 79187/82690 [7:19:19<2:06:44,  2.17s/it]\u001b[A\n",
      " 96%|█████████▌| 79188/82690 [7:19:20<1:36:42,  1.66s/it]\u001b[A\n",
      " 96%|█████████▌| 79189/82690 [7:19:22<1:41:24,  1.74s/it]\u001b[A\n",
      " 96%|█████████▌| 79190/82690 [7:20:21<18:28:58, 19.01s/it]\u001b[A\n",
      " 96%|█████████▌| 79191/82690 [7:20:29<15:15:41, 15.70s/it]\u001b[A\n",
      " 96%|█████████▌| 79192/82690 [7:21:05<21:04:10, 21.68s/it]\u001b[A\n",
      " 96%|█████████▌| 79193/82690 [7:22:14<34:53:58, 35.93s/it]\u001b[A\n",
      " 96%|█████████▌| 79194/82690 [7:22:20<26:10:47, 26.96s/it]\u001b[A\n",
      " 96%|█████████▌| 79195/82690 [7:22:23<19:18:22, 19.89s/it]\u001b[A\n",
      " 96%|█████████▌| 79197/82690 [7:22:30<14:33:38, 15.01s/it]\u001b[A\n",
      " 96%|█████████▌| 79198/82690 [7:22:31<10:18:26, 10.63s/it]\u001b[A\n",
      " 96%|█████████▌| 79199/82690 [7:22:35<8:27:20,  8.72s/it] \u001b[A\n",
      " 96%|█████████▌| 79200/82690 [7:25:19<53:33:39, 55.25s/it]\u001b[A\n",
      " 96%|█████████▌| 79201/82690 [7:25:56<48:17:19, 49.82s/it]\u001b[A\n",
      " 96%|█████████▌| 79203/82690 [7:26:13<36:16:07, 37.44s/it]\u001b[A\n",
      " 96%|█████████▌| 79204/82690 [7:27:19<44:27:21, 45.91s/it]\u001b[A\n",
      " 96%|█████████▌| 79205/82690 [7:27:21<31:36:34, 32.65s/it]\u001b[A\n",
      " 96%|█████████▌| 79206/82690 [7:27:30<24:56:13, 25.77s/it]\u001b[A\n",
      " 96%|█████████▌| 79207/82690 [7:28:41<38:04:38, 39.36s/it]\u001b[A\n",
      " 96%|█████████▌| 79208/82690 [7:28:45<27:49:05, 28.76s/it]\u001b[A\n",
      " 96%|█████████▌| 79209/82690 [7:29:05<25:01:44, 25.88s/it]\u001b[A\n",
      " 96%|█████████▌| 79210/82690 [7:30:25<40:52:28, 42.28s/it]\u001b[A\n",
      " 96%|█████████▌| 79211/82690 [7:30:28<29:30:22, 30.53s/it]\u001b[A\n",
      " 96%|█████████▌| 79212/82690 [7:30:31<21:17:43, 22.04s/it]\u001b[A\n",
      " 96%|█████████▌| 79214/82690 [7:30:32<15:06:49, 15.65s/it]\u001b[A\n",
      " 96%|█████████▌| 79215/82690 [7:30:35<11:28:19, 11.88s/it]\u001b[A\n",
      " 96%|█████████▌| 79216/82690 [7:30:41<9:47:36, 10.15s/it] \u001b[A\n",
      " 96%|█████████▌| 79218/82690 [7:30:41<6:53:19,  7.14s/it]\u001b[A\n",
      " 96%|█████████▌| 79219/82690 [7:31:42<22:27:40, 23.30s/it]\u001b[A\n",
      " 96%|█████████▌| 79220/82690 [7:31:47<16:56:06, 17.57s/it]\u001b[A\n",
      " 96%|█████████▌| 79221/82690 [7:32:03<16:36:55, 17.24s/it]\u001b[A\n"
     ]
    },
    {
     "name": "stderr",
     "output_type": "stream",
     "text": [
      " 96%|█████████▌| 79222/82690 [7:32:04<11:57:25, 12.41s/it]\u001b[A\n",
      " 96%|█████████▌| 79223/82690 [7:32:40<18:34:51, 19.29s/it]\u001b[A\n",
      " 96%|█████████▌| 79224/82690 [7:33:56<35:02:07, 36.39s/it]\u001b[A\n",
      " 96%|█████████▌| 79227/82690 [7:34:01<25:01:18, 26.01s/it]\u001b[A\n",
      " 96%|█████████▌| 79228/82690 [7:34:03<17:58:47, 18.70s/it]\u001b[A\n",
      " 96%|█████████▌| 79229/82690 [7:35:12<32:29:13, 33.79s/it]\u001b[A\n",
      " 96%|█████████▌| 79230/82690 [7:35:14<23:20:01, 24.28s/it]\u001b[A\n",
      " 96%|█████████▌| 79231/82690 [7:35:32<21:29:50, 22.37s/it]\u001b[A\n",
      " 96%|█████████▌| 79232/82690 [7:35:44<18:27:35, 19.22s/it]\u001b[A\n",
      " 96%|█████████▌| 79233/82690 [7:36:01<17:47:28, 18.53s/it]\u001b[A\n",
      " 96%|█████████▌| 79234/82690 [7:36:03<13:04:21, 13.62s/it]\u001b[A\n",
      " 96%|█████████▌| 79236/82690 [7:36:03<9:09:59,  9.55s/it] \u001b[A\n",
      " 96%|█████████▌| 79237/82690 [7:36:14<9:31:19,  9.93s/it]\u001b[A\n",
      " 96%|█████████▌| 79239/82690 [7:36:14<6:44:22,  7.03s/it]\u001b[A\n",
      " 96%|█████████▌| 79240/82690 [7:36:18<5:51:52,  6.12s/it]\u001b[A\n",
      " 96%|█████████▌| 79241/82690 [7:37:00<16:04:16, 16.77s/it]\u001b[A\n",
      " 96%|█████████▌| 79243/82690 [7:37:01<11:21:13, 11.86s/it]\u001b[A\n",
      " 96%|█████████▌| 79244/82690 [7:37:02<8:16:55,  8.65s/it] \u001b[A\n",
      " 96%|█████████▌| 79245/82690 [7:37:03<6:00:32,  6.28s/it]\u001b[A\n",
      " 96%|█████████▌| 79246/82690 [7:37:17<8:25:13,  8.80s/it]\u001b[A\n",
      " 96%|█████████▌| 79247/82690 [7:37:27<8:34:40,  8.97s/it]\u001b[A\n",
      " 96%|█████████▌| 79248/82690 [7:37:27<6:07:31,  6.41s/it]\u001b[A\n",
      " 96%|█████████▌| 79249/82690 [7:37:28<4:34:49,  4.79s/it]\u001b[A\n",
      " 96%|█████████▌| 79250/82690 [7:37:47<8:32:13,  8.93s/it]\u001b[A\n",
      " 96%|█████████▌| 79251/82690 [7:37:50<6:57:47,  7.29s/it]\u001b[A\n",
      " 96%|█████████▌| 79252/82690 [7:37:52<5:17:15,  5.54s/it]\u001b[A\n",
      " 96%|█████████▌| 79253/82690 [7:37:53<4:03:49,  4.26s/it]\u001b[A\n",
      " 96%|█████████▌| 79254/82690 [7:37:54<3:08:45,  3.30s/it]\u001b[A\n",
      " 96%|█████████▌| 79255/82690 [7:40:12<41:36:25, 43.61s/it]\u001b[A\n",
      " 96%|█████████▌| 79257/82690 [7:40:12<29:09:48, 30.58s/it]\u001b[A\n",
      " 96%|█████████▌| 79258/82690 [7:40:31<25:45:05, 27.01s/it]\u001b[A\n",
      " 96%|█████████▌| 79259/82690 [7:41:34<36:10:43, 37.96s/it]\u001b[A\n",
      " 96%|█████████▌| 79260/82690 [7:41:38<26:18:46, 27.62s/it]\u001b[A\n",
      " 96%|█████████▌| 79261/82690 [7:41:54<23:07:24, 24.28s/it]\u001b[A\n",
      " 96%|█████████▌| 79263/82690 [7:41:56<16:24:08, 17.23s/it]\u001b[A\n",
      " 96%|█████████▌| 79265/82690 [7:41:56<11:33:44, 12.15s/it]\u001b[A\n",
      " 96%|█████████▌| 79266/82690 [7:43:50<40:22:37, 42.45s/it]\u001b[A\n",
      " 96%|█████████▌| 79267/82690 [7:43:52<28:57:44, 30.46s/it]\u001b[A\n",
      " 96%|█████████▌| 79268/82690 [7:43:56<21:31:13, 22.64s/it]\u001b[A\n",
      " 96%|█████████▌| 79270/82690 [7:43:57<15:06:27, 15.90s/it]\u001b[A\n",
      " 96%|█████████▌| 79271/82690 [7:44:05<12:59:18, 13.68s/it]\u001b[A\n",
      " 96%|█████████▌| 79272/82690 [7:44:06<9:13:06,  9.71s/it] \u001b[A\n",
      " 96%|█████████▌| 79274/82690 [7:45:29<18:20:37, 19.33s/it]\u001b[A\n",
      " 96%|█████████▌| 79275/82690 [7:45:39<15:42:07, 16.55s/it]\u001b[A\n",
      " 96%|█████████▌| 79276/82690 [7:46:07<18:45:18, 19.78s/it]\u001b[A\n",
      " 96%|█████████▌| 79277/82690 [7:46:27<18:52:40, 19.91s/it]\u001b[A\n",
      " 96%|█████████▌| 79278/82690 [7:46:44<17:59:14, 18.98s/it]\u001b[A\n",
      " 96%|█████████▌| 79279/82690 [7:47:23<23:44:12, 25.05s/it]\u001b[A\n",
      " 96%|█████████▌| 79280/82690 [7:47:26<17:27:26, 18.43s/it]\u001b[A\n",
      " 96%|█████████▌| 79282/82690 [7:48:46<23:35:05, 24.91s/it]\u001b[A\n",
      " 96%|█████████▌| 79283/82690 [7:48:53<18:32:50, 19.60s/it]\u001b[A\n",
      " 96%|█████████▌| 79284/82690 [7:52:02<66:37:13, 70.41s/it]\u001b[A\n",
      " 96%|█████████▌| 79285/82690 [7:54:14<84:00:54, 88.83s/it]\u001b[A\n",
      " 96%|█████████▌| 79286/82690 [7:54:48<68:20:29, 72.28s/it]\u001b[A\n",
      " 96%|█████████▌| 79287/82690 [7:55:05<52:47:08, 55.84s/it]\u001b[A\n",
      " 96%|█████████▌| 79288/82690 [7:55:08<37:39:53, 39.86s/it]\u001b[A\n",
      " 96%|█████████▌| 79289/82690 [7:55:35<34:01:15, 36.01s/it]\u001b[A\n",
      " 96%|█████████▌| 79291/82690 [7:55:38<24:14:34, 25.68s/it]\u001b[A\n",
      " 96%|█████████▌| 79292/82690 [7:55:38<17:06:34, 18.13s/it]\u001b[A\n",
      " 96%|█████████▌| 79293/82690 [7:55:41<12:47:50, 13.56s/it]\u001b[A\n",
      " 96%|█████████▌| 79294/82690 [7:55:43<9:31:01, 10.09s/it] \u001b[A\n",
      " 96%|█████████▌| 79295/82690 [7:56:02<11:56:44, 12.67s/it]\u001b[A\n",
      " 96%|█████████▌| 79296/82690 [7:56:08<9:58:44, 10.58s/it] \u001b[A\n",
      " 96%|█████████▌| 79297/82690 [7:56:17<9:36:56, 10.20s/it]\u001b[A\n",
      " 96%|█████████▌| 79298/82690 [7:57:44<31:13:36, 33.14s/it]\u001b[A\n",
      " 96%|█████████▌| 79299/82690 [7:57:48<22:59:25, 24.41s/it]\u001b[A\n",
      " 96%|█████████▌| 79300/82690 [7:58:01<19:46:08, 20.99s/it]\u001b[A\n",
      " 96%|█████████▌| 79301/82690 [7:58:04<14:46:51, 15.70s/it]\u001b[A\n",
      " 96%|█████████▌| 79302/82690 [7:58:16<13:36:10, 14.45s/it]\u001b[A\n",
      " 96%|█████████▌| 79303/82690 [7:59:03<22:57:52, 24.41s/it]\u001b[A\n",
      " 96%|█████████▌| 79304/82690 [7:59:04<16:20:51, 17.38s/it]\u001b[A\n",
      " 96%|█████████▌| 79305/82690 [7:59:19<15:44:00, 16.73s/it]\u001b[A\n",
      " 96%|█████████▌| 79306/82690 [7:59:38<16:13:34, 17.26s/it]\u001b[A\n",
      " 96%|█████████▌| 79307/82690 [7:59:44<13:01:37, 13.86s/it]\u001b[A\n",
      " 96%|█████████▌| 79308/82690 [8:00:33<23:04:09, 24.56s/it]\u001b[A\n",
      " 96%|█████████▌| 79309/82690 [8:00:49<20:36:50, 21.95s/it]\u001b[A\n",
      " 96%|█████████▌| 79310/82690 [8:00:52<15:10:38, 16.17s/it]\u001b[A\n",
      " 96%|█████████▌| 79311/82690 [8:00:53<10:57:12, 11.67s/it]\u001b[A\n",
      " 96%|█████████▌| 79312/82690 [8:00:54<8:00:21,  8.53s/it] \u001b[A\n",
      " 96%|█████████▌| 79314/82690 [8:01:00<6:27:39,  6.89s/it]\u001b[A\n",
      " 96%|█████████▌| 79315/82690 [8:01:01<4:34:01,  4.87s/it]\u001b[A\n",
      " 96%|█████████▌| 79316/82690 [8:01:10<5:55:09,  6.32s/it]\u001b[A\n",
      " 96%|█████████▌| 79317/82690 [8:02:10<20:54:40, 22.32s/it]\u001b[A\n",
      " 96%|█████████▌| 79318/82690 [8:02:10<14:42:12, 15.70s/it]\u001b[A\n",
      " 96%|█████████▌| 79319/82690 [8:02:10<10:20:35, 11.05s/it]\u001b[A\n",
      " 96%|█████████▌| 79320/82690 [8:02:14<8:10:09,  8.73s/it] \u001b[A\n",
      " 96%|█████████▌| 79321/82690 [8:02:54<17:03:20, 18.23s/it]\u001b[A\n",
      " 96%|█████████▌| 79324/82690 [8:03:29<15:12:20, 16.26s/it]\u001b[A\n",
      " 96%|█████████▌| 79325/82690 [8:03:59<19:02:08, 20.37s/it]\u001b[A\n",
      " 96%|█████████▌| 79326/82690 [8:03:59<13:25:02, 14.36s/it]\u001b[A\n",
      " 96%|█████████▌| 79327/82690 [8:04:04<10:46:16, 11.53s/it]\u001b[A\n",
      " 96%|█████████▌| 79328/82690 [8:04:06<8:03:05,  8.62s/it] \u001b[A\n",
      " 96%|█████████▌| 79329/82690 [8:04:17<8:49:37,  9.45s/it]\u001b[A\n",
      " 96%|█████████▌| 79330/82690 [8:04:20<6:46:08,  7.25s/it]\u001b[A\n",
      " 96%|█████████▌| 79331/82690 [8:04:23<5:36:22,  6.01s/it]\u001b[A\n",
      " 96%|█████████▌| 79333/82690 [8:04:26<4:23:46,  4.71s/it]\u001b[A\n",
      " 96%|█████████▌| 79334/82690 [8:04:39<6:45:19,  7.25s/it]\u001b[A\n",
      " 96%|█████████▌| 79335/82690 [8:04:40<5:00:28,  5.37s/it]\u001b[A\n",
      " 96%|█████████▌| 79336/82690 [8:04:50<6:11:01,  6.64s/it]\u001b[A\n",
      " 96%|█████████▌| 79337/82690 [8:05:17<11:51:34, 12.73s/it]\u001b[A\n",
      " 96%|█████████▌| 79338/82690 [8:05:17<8:21:41,  8.98s/it] \u001b[A\n",
      " 96%|█████████▌| 79339/82690 [8:05:17<5:54:02,  6.34s/it]\u001b[A\n",
      " 96%|█████████▌| 79340/82690 [8:05:21<5:11:31,  5.58s/it]\u001b[A\n",
      " 96%|█████████▌| 79341/82690 [8:05:23<4:07:16,  4.43s/it]\u001b[A\n",
      " 96%|█████████▌| 79342/82690 [8:06:09<15:43:26, 16.91s/it]\u001b[A\n",
      " 96%|█████████▌| 79343/82690 [8:06:10<11:25:15, 12.28s/it]\u001b[A\n",
      " 96%|█████████▌| 79344/82690 [8:06:15<9:20:53, 10.06s/it] \u001b[A\n",
      " 96%|█████████▌| 79345/82690 [8:06:15<6:35:52,  7.10s/it]\u001b[A\n",
      " 96%|█████████▌| 79347/82690 [8:06:20<5:15:17,  5.66s/it]\u001b[A\n",
      " 96%|█████████▌| 79348/82690 [8:06:28<5:50:43,  6.30s/it]\u001b[A\n",
      " 96%|█████████▌| 79350/82690 [8:06:43<6:09:53,  6.64s/it]\u001b[A\n",
      " 96%|█████████▌| 79351/82690 [8:06:47<5:25:18,  5.85s/it]\u001b[A\n",
      " 96%|█████████▌| 79352/82690 [8:07:29<15:30:40, 16.73s/it]\u001b[A\n",
      " 96%|█████████▌| 79354/82690 [8:07:30<11:01:29, 11.90s/it]\u001b[A\n",
      " 96%|█████████▌| 79355/82690 [8:07:32<8:20:08,  9.00s/it] \u001b[A\n",
      " 96%|█████████▌| 79357/82690 [8:07:56<9:08:53,  9.88s/it]\u001b[A\n",
      " 96%|█████████▌| 79359/82690 [8:08:00<6:59:42,  7.56s/it]\u001b[A\n",
      " 96%|█████████▌| 79361/82690 [8:08:20<7:36:43,  8.23s/it]\u001b[A\n",
      " 96%|█████████▌| 79362/82690 [8:08:30<8:05:50,  8.76s/it]\u001b[A\n",
      " 96%|█████████▌| 79363/82690 [8:08:45<9:46:27, 10.58s/it]\u001b[A\n",
      " 96%|█████████▌| 79365/82690 [8:09:14<10:52:15, 11.77s/it]\u001b[A\n",
      " 96%|█████████▌| 79366/82690 [8:09:21<9:39:25, 10.46s/it] \u001b[A\n",
      " 96%|█████████▌| 79367/82690 [8:09:56<16:26:11, 17.81s/it]\u001b[A\n",
      " 96%|█████████▌| 79368/82690 [8:09:58<12:01:52, 13.04s/it]\u001b[A\n",
      " 96%|█████████▌| 79369/82690 [8:10:12<12:10:25, 13.20s/it]\u001b[A\n",
      " 96%|█████████▌| 79370/82690 [8:10:13<8:54:03,  9.65s/it] \u001b[A\n",
      " 96%|█████████▌| 79371/82690 [8:10:14<6:28:58,  7.03s/it]\u001b[A\n",
      " 96%|█████████▌| 79372/82690 [8:11:54<32:07:03, 34.85s/it]\u001b[A\n",
      " 96%|█████████▌| 79374/82690 [8:11:57<22:55:11, 24.88s/it]\u001b[A\n",
      " 96%|█████████▌| 79375/82690 [8:12:08<19:08:25, 20.79s/it]\u001b[A\n",
      " 96%|█████████▌| 79376/82690 [8:12:15<15:17:11, 16.61s/it]\u001b[A\n",
      " 96%|█████████▌| 79377/82690 [8:12:17<11:18:01, 12.28s/it]\u001b[A\n",
      " 96%|█████████▌| 79378/82690 [8:12:50<16:47:39, 18.25s/it]\u001b[A\n",
      " 96%|█████████▌| 79379/82690 [8:12:51<12:15:34, 13.33s/it]\u001b[A\n",
      " 96%|█████████▌| 79380/82690 [8:12:52<8:43:10,  9.48s/it] \u001b[A\n",
      " 96%|█████████▌| 79381/82690 [8:13:28<16:08:32, 17.56s/it]\u001b[A\n",
      " 96%|█████████▌| 79382/82690 [8:13:29<11:24:58, 12.42s/it]\u001b[A\n",
      " 96%|█████████▌| 79388/82690 [8:14:41<11:16:22, 12.29s/it]\u001b[A\n",
      " 96%|█████████▌| 79389/82690 [8:14:42<8:19:06,  9.07s/it] \u001b[A\n",
      " 96%|█████████▌| 79390/82690 [8:14:55<9:16:52, 10.13s/it]\u001b[A\n",
      " 96%|█████████▌| 79391/82690 [8:15:11<10:54:25, 11.90s/it]\u001b[A\n",
      " 96%|█████████▌| 79392/82690 [8:15:13<8:16:26,  9.03s/it] \u001b[A\n",
      " 96%|█████████▌| 79393/82690 [8:15:15<6:19:56,  6.91s/it]\u001b[A\n",
      " 96%|█████████▌| 79394/82690 [8:15:26<7:18:12,  7.98s/it]\u001b[A\n",
      " 96%|█████████▌| 79395/82690 [8:15:56<13:21:17, 14.59s/it]\u001b[A\n",
      " 96%|█████████▌| 79396/82690 [8:16:08<12:43:41, 13.91s/it]\u001b[A\n",
      " 96%|█████████▌| 79397/82690 [8:16:10<9:35:49, 10.49s/it] \u001b[A\n",
      " 96%|█████████▌| 79399/82690 [8:16:25<8:45:09,  9.57s/it]\u001b[A\n",
      " 96%|█████████▌| 79400/82690 [8:16:55<14:14:19, 15.58s/it]\u001b[A\n",
      " 96%|█████████▌| 79401/82690 [8:17:01<11:46:46, 12.89s/it]\u001b[A\n",
      " 96%|█████████▌| 79405/82690 [8:17:03<8:20:04,  9.13s/it] \u001b[A\n",
      " 96%|█████████▌| 79406/82690 [8:17:21<10:43:27, 11.76s/it]\u001b[A\n",
      " 96%|█████████▌| 79408/82690 [8:17:22<7:40:41,  8.42s/it] \u001b[A\n",
      " 96%|█████████▌| 79409/82690 [8:17:24<5:55:34,  6.50s/it]\u001b[A\n",
      " 96%|█████████▌| 79410/82690 [8:17:39<8:15:16,  9.06s/it]\u001b[A\n",
      " 96%|█████████▌| 79411/82690 [8:17:51<8:56:41,  9.82s/it]\u001b[A\n",
      " 96%|█████████▌| 79412/82690 [8:19:32<33:51:12, 37.18s/it]\u001b[A\n",
      " 96%|█████████▌| 79413/82690 [8:19:32<23:46:10, 26.11s/it]\u001b[A\n",
      " 96%|█████████▌| 79415/82690 [8:19:35<17:03:50, 18.76s/it]\u001b[A\n",
      " 96%|█████████▌| 79416/82690 [8:19:44<14:13:24, 15.64s/it]\u001b[A\n",
      " 96%|█████████▌| 79417/82690 [8:19:45<10:16:44, 11.31s/it]\u001b[A\n",
      " 96%|█████████▌| 79419/82690 [8:19:46<7:20:40,  8.08s/it] \u001b[A\n",
      " 96%|█████████▌| 79420/82690 [8:19:56<7:49:03,  8.61s/it]\u001b[A\n",
      " 96%|█████████▌| 79421/82690 [8:19:56<5:34:34,  6.14s/it]\u001b[A\n",
      " 96%|█████████▌| 79422/82690 [8:20:16<9:23:50, 10.35s/it]\u001b[A\n",
      " 96%|█████████▌| 79423/82690 [8:20:52<16:15:40, 17.92s/it]\u001b[A\n",
      " 96%|█████████▌| 79425/82690 [8:21:39<17:45:40, 19.58s/it]\u001b[A\n",
      " 96%|█████████▌| 79426/82690 [8:21:40<12:44:31, 14.05s/it]\u001b[A\n",
      " 96%|█████████▌| 79427/82690 [8:22:04<15:22:26, 16.96s/it]\u001b[A\n",
      " 96%|█████████▌| 79428/82690 [8:22:05<11:03:52, 12.21s/it]\u001b[A\n",
      " 96%|█████████▌| 79429/82690 [8:22:34<15:43:48, 17.37s/it]\u001b[A\n",
      " 96%|█████████▌| 79430/82690 [8:22:37<11:40:15, 12.89s/it]\u001b[A\n",
      " 96%|█████████▌| 79431/82690 [8:22:40<9:06:58, 10.07s/it] \u001b[A\n",
      " 96%|█████████▌| 79432/82690 [8:22:45<7:45:06,  8.57s/it]\u001b[A\n",
      " 96%|█████████▌| 79433/82690 [8:22:53<7:24:15,  8.18s/it]\u001b[A\n",
      " 96%|█████████▌| 79434/82690 [8:24:36<33:20:51, 36.87s/it]\u001b[A\n",
      " 96%|█████████▌| 79435/82690 [8:24:38<23:45:27, 26.28s/it]\u001b[A\n",
      " 96%|█████████▌| 79436/82690 [8:24:39<17:00:13, 18.81s/it]\u001b[A\n",
      " 96%|█████████▌| 79437/82690 [8:25:50<31:11:47, 34.52s/it]\u001b[A\n",
      " 96%|█████████▌| 79438/82690 [8:25:53<22:23:47, 24.79s/it]\u001b[A\n",
      " 96%|█████████▌| 79439/82690 [8:25:55<16:18:28, 18.06s/it]\u001b[A\n",
      " 96%|█████████▌| 79440/82690 [8:25:55<11:33:06, 12.80s/it]\u001b[A\n",
      " 96%|█████████▌| 79441/82690 [8:26:10<12:03:37, 13.36s/it]\u001b[A\n",
      " 96%|█████████▌| 79442/82690 [8:26:15<9:40:08, 10.72s/it] \u001b[A\n",
      " 96%|█████████▌| 79443/82690 [8:26:20<8:06:54,  9.00s/it]\u001b[A\n",
      " 96%|█████████▌| 79444/82690 [8:26:25<7:00:22,  7.77s/it]\u001b[A\n",
      " 96%|█████████▌| 79446/82690 [8:26:25<4:57:21,  5.50s/it]\u001b[A\n",
      " 96%|█████████▌| 79447/82690 [8:26:29<4:26:22,  4.93s/it]\u001b[A\n",
      " 96%|█████████▌| 79448/82690 [8:26:32<4:02:01,  4.48s/it]\u001b[A\n",
      " 96%|█████████▌| 79449/82690 [8:26:57<9:33:20, 10.61s/it]\u001b[A\n",
      " 96%|█████████▌| 79450/82690 [8:27:13<11:07:57, 12.37s/it]\u001b[A\n",
      " 96%|█████████▌| 79451/82690 [8:27:28<11:37:04, 12.91s/it]\u001b[A\n",
      " 96%|█████████▌| 79452/82690 [8:27:30<8:41:01,  9.65s/it] \u001b[A\n",
      " 96%|█████████▌| 79453/82690 [8:27:37<8:03:23,  8.96s/it]\u001b[A\n",
      " 96%|█████████▌| 79454/82690 [8:27:44<7:29:21,  8.33s/it]\u001b[A\n",
      " 96%|█████████▌| 79455/82690 [8:27:45<5:30:29,  6.13s/it]\u001b[A\n",
      " 96%|█████████▌| 79456/82690 [8:28:26<14:51:56, 16.55s/it]\u001b[A\n",
      " 96%|█████████▌| 79457/82690 [8:29:15<23:40:32, 26.36s/it]\u001b[A\n",
      " 96%|█████████▌| 79459/82690 [8:29:28<18:18:29, 20.40s/it]\u001b[A\n",
      " 96%|█████████▌| 79460/82690 [8:29:31<13:46:47, 15.36s/it]\u001b[A\n",
      " 96%|█████████▌| 79461/82690 [8:29:32<9:55:13, 11.06s/it] \u001b[A\n",
      " 96%|█████████▌| 79462/82690 [8:29:33<6:59:40,  7.80s/it]\u001b[A\n",
      " 96%|█████████▌| 79463/82690 [8:29:33<4:57:38,  5.53s/it]\u001b[A\n",
      " 96%|█████████▌| 79464/82690 [8:29:35<4:07:34,  4.60s/it]\u001b[A\n",
      " 96%|█████████▌| 79465/82690 [8:29:36<2:58:33,  3.32s/it]\u001b[A\n",
      " 96%|█████████▌| 79466/82690 [8:29:36<2:09:11,  2.40s/it]\u001b[A\n",
      " 96%|█████████▌| 79467/82690 [8:30:01<8:18:47,  9.29s/it]\u001b[A\n",
      " 96%|█████████▌| 79468/82690 [8:30:12<8:43:45,  9.75s/it]\u001b[A\n",
      " 96%|█████████▌| 79469/82690 [8:30:12<6:09:45,  6.89s/it]\u001b[A\n",
      " 96%|█████████▌| 79470/82690 [8:30:14<4:41:17,  5.24s/it]\u001b[A\n",
      " 96%|█████████▌| 79471/82690 [8:30:14<3:28:08,  3.88s/it]\u001b[A\n",
      " 96%|█████████▌| 79472/82690 [8:30:51<12:15:59, 13.72s/it]\u001b[A\n",
      " 96%|█████████▌| 79473/82690 [8:30:53<9:06:50, 10.20s/it] \u001b[A\n",
      " 96%|█████████▌| 79474/82690 [8:30:56<7:12:14,  8.06s/it]\u001b[A\n",
      " 96%|█████████▌| 79475/82690 [8:30:57<5:09:42,  5.78s/it]\u001b[A\n",
      " 96%|█████████▌| 79477/82690 [8:31:43<9:46:47, 10.96s/it]\u001b[A\n",
      " 96%|█████████▌| 79478/82690 [8:31:44<7:15:49,  8.14s/it]\u001b[A\n",
      " 96%|█████████▌| 79479/82690 [8:31:54<7:42:28,  8.64s/it]\u001b[A\n",
      " 96%|█████████▌| 79481/82690 [8:32:24<9:26:47, 10.60s/it]\u001b[A\n",
      " 96%|█████████▌| 79482/82690 [8:32:25<6:39:33,  7.47s/it]\u001b[A\n",
      " 96%|█████████▌| 79483/82690 [8:32:32<6:41:50,  7.52s/it]\u001b[A\n",
      " 96%|█████████▌| 79484/82690 [8:32:57<11:16:36, 12.66s/it]\u001b[A\n",
      " 96%|█████████▌| 79485/82690 [8:33:21<14:26:01, 16.21s/it]\u001b[A\n",
      " 96%|█████████▌| 79486/82690 [8:33:27<11:34:31, 13.01s/it]\u001b[A\n",
      " 96%|█████████▌| 79487/82690 [8:33:28<8:22:26,  9.41s/it] \u001b[A\n",
      " 96%|█████████▌| 79488/82690 [8:34:00<14:17:50, 16.07s/it]\u001b[A\n",
      " 96%|█████████▌| 79491/82690 [8:34:01<10:06:48, 11.38s/it]\u001b[A\n",
      " 96%|█████████▌| 79493/82690 [8:34:02<7:10:21,  8.08s/it] \u001b[A\n",
      " 96%|█████████▌| 79494/82690 [8:34:02<5:15:23,  5.92s/it]\u001b[A\n",
      " 96%|█████████▌| 79495/82690 [8:34:03<3:43:17,  4.19s/it]\u001b[A\n",
      " 96%|█████████▌| 79496/82690 [8:34:21<7:37:05,  8.59s/it]\u001b[A\n",
      " 96%|█████████▌| 79497/82690 [8:34:25<6:10:59,  6.97s/it]\u001b[A\n",
      " 96%|█████████▌| 79498/82690 [8:34:55<12:21:52, 13.94s/it]\u001b[A\n",
      " 96%|█████████▌| 79500/82690 [8:35:00<9:17:00, 10.48s/it] \u001b[A\n",
      " 96%|█████████▌| 79501/82690 [8:35:13<9:59:45, 11.28s/it]\u001b[A\n",
      " 96%|█████████▌| 79502/82690 [8:35:15<7:37:13,  8.61s/it]\u001b[A\n",
      " 96%|█████████▌| 79504/82690 [8:35:19<5:47:03,  6.54s/it]\u001b[A\n",
      " 96%|█████████▌| 79505/82690 [8:35:43<10:27:52, 11.83s/it]\u001b[A\n",
      " 96%|█████████▌| 79506/82690 [8:36:22<17:47:15, 20.11s/it]\u001b[A\n",
      " 96%|█████████▌| 79507/82690 [8:36:23<12:34:49, 14.23s/it]\u001b[A\n",
      " 96%|█████████▌| 79508/82690 [8:37:13<22:15:13, 25.18s/it]\u001b[A\n",
      " 96%|█████████▌| 79509/82690 [8:37:24<18:18:57, 20.73s/it]\u001b[A\n",
      " 96%|█████████▌| 79511/82690 [8:37:25<13:00:10, 14.72s/it]\u001b[A\n",
      " 96%|█████████▌| 79515/82690 [8:37:25<9:06:20, 10.32s/it] \u001b[A\n",
      " 96%|█████████▌| 79516/82690 [8:37:26<6:36:39,  7.50s/it]\u001b[A\n",
      " 96%|█████████▌| 79517/82690 [8:37:29<5:14:29,  5.95s/it]\u001b[A\n",
      " 96%|█████████▌| 79518/82690 [8:37:37<5:56:27,  6.74s/it]\u001b[A\n",
      " 96%|█████████▌| 79519/82690 [8:37:46<6:26:04,  7.31s/it]\u001b[A\n",
      " 96%|█████████▌| 79520/82690 [8:37:52<6:01:56,  6.85s/it]\u001b[A\n",
      " 96%|█████████▌| 79521/82690 [8:37:54<4:49:25,  5.48s/it]\u001b[A\n",
      " 96%|█████████▌| 79522/82690 [8:37:54<3:24:36,  3.88s/it]\u001b[A\n",
      " 96%|█████████▌| 79523/82690 [8:38:41<14:44:56, 16.77s/it]\u001b[A\n",
      " 96%|█████████▌| 79524/82690 [8:38:59<14:57:16, 17.00s/it]\u001b[A\n",
      " 96%|█████████▌| 79525/82690 [8:39:29<18:30:48, 21.06s/it]\u001b[A\n",
      " 96%|█████████▌| 79526/82690 [8:39:33<14:01:21, 15.95s/it]\u001b[A\n",
      " 96%|█████████▌| 79527/82690 [8:39:34<10:06:12, 11.50s/it]\u001b[A\n",
      " 96%|█████████▌| 79528/82690 [8:39:34<7:05:58,  8.08s/it] \u001b[A\n",
      " 96%|█████████▌| 79529/82690 [8:39:34<4:59:59,  5.69s/it]\u001b[A\n",
      " 96%|█████████▌| 79530/82690 [8:39:46<6:36:45,  7.53s/it]\u001b[A\n",
      " 96%|█████████▌| 79532/82690 [8:39:59<6:17:26,  7.17s/it]\u001b[A\n",
      " 96%|█████████▌| 79534/82690 [8:40:04<5:06:25,  5.83s/it]\u001b[A\n",
      " 96%|█████████▌| 79535/82690 [8:40:18<7:09:12,  8.16s/it]\u001b[A\n",
      " 96%|█████████▌| 79536/82690 [8:40:19<5:12:29,  5.94s/it]\u001b[A\n",
      " 96%|█████████▌| 79537/82690 [8:40:43<9:58:04, 11.38s/it]\u001b[A\n",
      " 96%|█████████▌| 79539/82690 [8:41:12<10:45:10, 12.29s/it]\u001b[A\n"
     ]
    },
    {
     "name": "stderr",
     "output_type": "stream",
     "text": [
      " 96%|█████████▌| 79541/82690 [8:41:20<8:38:57,  9.89s/it] \u001b[A\n",
      " 96%|█████████▌| 79542/82690 [8:41:23<6:50:38,  7.83s/it]\u001b[A\n",
      " 96%|█████████▌| 79543/82690 [8:41:46<10:41:19, 12.23s/it]\u001b[A\n",
      " 96%|█████████▌| 79545/82690 [8:41:56<8:53:41, 10.18s/it] \u001b[A\n",
      " 96%|█████████▌| 79546/82690 [8:41:57<6:19:42,  7.25s/it]\u001b[A\n",
      " 96%|█████████▌| 79547/82690 [8:42:07<7:07:15,  8.16s/it]\u001b[A\n",
      " 96%|█████████▌| 79548/82690 [8:42:08<5:14:06,  6.00s/it]\u001b[A\n",
      " 96%|█████████▌| 79549/82690 [8:42:10<4:10:00,  4.78s/it]\u001b[A\n",
      " 96%|█████████▌| 79550/82690 [8:42:15<4:17:16,  4.92s/it]\u001b[A\n",
      " 96%|█████████▌| 79551/82690 [8:42:18<3:41:24,  4.23s/it]\u001b[A\n",
      " 96%|█████████▌| 79552/82690 [8:42:44<9:25:01, 10.80s/it]\u001b[A\n",
      " 96%|█████████▌| 79553/82690 [8:43:34<19:46:55, 22.70s/it]\u001b[A\n",
      " 96%|█████████▌| 79554/82690 [8:43:39<15:07:56, 17.37s/it]\u001b[A\n",
      " 96%|█████████▌| 79555/82690 [8:43:54<14:28:09, 16.62s/it]\u001b[A\n",
      " 96%|█████████▌| 79556/82690 [8:43:58<11:02:03, 12.68s/it]\u001b[A\n",
      " 96%|█████████▌| 79557/82690 [8:44:08<10:17:17, 11.82s/it]\u001b[A\n",
      " 96%|█████████▌| 79559/82690 [8:44:09<7:24:51,  8.53s/it] \u001b[A\n",
      " 96%|█████████▌| 79561/82690 [8:44:10<5:20:41,  6.15s/it]\u001b[A\n",
      " 96%|█████████▌| 79562/82690 [8:44:14<4:42:47,  5.42s/it]\u001b[A\n",
      " 96%|█████████▌| 79563/82690 [8:44:21<5:01:02,  5.78s/it]\u001b[A\n",
      " 96%|█████████▌| 79564/82690 [8:44:25<4:39:28,  5.36s/it]\u001b[A\n",
      " 96%|█████████▌| 79567/82690 [8:44:37<4:14:45,  4.89s/it]\u001b[A\n",
      " 96%|█████████▌| 79569/82690 [8:44:37<3:05:21,  3.56s/it]\u001b[A\n",
      " 96%|█████████▌| 79570/82690 [8:44:49<5:09:06,  5.94s/it]\u001b[A\n",
      " 96%|█████████▌| 79571/82690 [8:44:52<4:29:47,  5.19s/it]\u001b[A\n",
      " 96%|█████████▌| 79572/82690 [8:45:19<10:07:54, 11.70s/it]\u001b[A\n",
      " 96%|█████████▌| 79573/82690 [8:45:23<8:08:38,  9.41s/it] \u001b[A\n",
      " 96%|█████████▌| 79574/82690 [8:45:37<9:20:01, 10.78s/it]\u001b[A\n",
      " 96%|█████████▌| 79575/82690 [8:45:38<6:44:25,  7.79s/it]\u001b[A\n",
      " 96%|█████████▌| 79576/82690 [8:45:44<6:21:29,  7.35s/it]\u001b[A\n",
      " 96%|█████████▌| 79577/82690 [8:45:45<4:33:10,  5.27s/it]\u001b[A\n",
      " 96%|█████████▌| 79578/82690 [8:45:47<3:42:18,  4.29s/it]\u001b[A\n",
      " 96%|█████████▌| 79579/82690 [8:45:48<2:49:36,  3.27s/it]\u001b[A\n",
      " 96%|█████████▌| 79580/82690 [8:45:57<4:16:22,  4.95s/it]\u001b[A\n",
      " 96%|█████████▌| 79581/82690 [8:45:59<3:32:00,  4.09s/it]\u001b[A\n",
      " 96%|█████████▌| 79582/82690 [8:46:00<2:43:19,  3.15s/it]\u001b[A\n",
      " 96%|█████████▌| 79583/82690 [8:46:02<2:28:13,  2.86s/it]\u001b[A\n",
      " 96%|█████████▌| 79584/82690 [8:46:03<2:06:22,  2.44s/it]\u001b[A\n",
      " 96%|█████████▌| 79585/82690 [8:46:04<1:33:08,  1.80s/it]\u001b[A\n",
      " 96%|█████████▌| 79586/82690 [8:46:16<4:16:25,  4.96s/it]\u001b[A\n",
      " 96%|█████████▌| 79587/82690 [8:46:16<3:03:21,  3.55s/it]\u001b[A\n",
      " 96%|█████████▌| 79588/82690 [8:46:28<5:15:51,  6.11s/it]\u001b[A\n",
      " 96%|█████████▌| 79589/82690 [8:46:29<3:48:18,  4.42s/it]\u001b[A\n",
      " 96%|█████████▋| 79590/82690 [8:46:40<5:35:29,  6.49s/it]\u001b[A\n",
      " 96%|█████████▋| 79592/82690 [8:46:40<3:57:02,  4.59s/it]\u001b[A\n",
      " 96%|█████████▋| 79593/82690 [8:46:42<3:11:55,  3.72s/it]\u001b[A\n",
      " 96%|█████████▋| 79594/82690 [8:46:44<2:41:04,  3.12s/it]\u001b[A\n",
      " 96%|█████████▋| 79595/82690 [8:46:45<2:05:55,  2.44s/it]\u001b[A\n",
      " 96%|█████████▋| 79596/82690 [8:46:56<4:24:17,  5.13s/it]\u001b[A\n",
      " 96%|█████████▋| 79597/82690 [8:46:57<3:23:46,  3.95s/it]\u001b[A\n",
      " 96%|█████████▋| 79598/82690 [8:47:01<3:14:29,  3.77s/it]\u001b[A\n",
      " 96%|█████████▋| 79599/82690 [8:47:03<2:46:26,  3.23s/it]\u001b[A\n",
      " 96%|█████████▋| 79600/82690 [8:47:12<4:27:21,  5.19s/it]\u001b[A\n",
      " 96%|█████████▋| 79603/82690 [8:47:13<3:11:17,  3.72s/it]\u001b[A\n",
      " 96%|█████████▋| 79604/82690 [8:47:26<5:31:33,  6.45s/it]\u001b[A\n",
      " 96%|█████████▋| 79605/82690 [8:48:00<12:38:32, 14.75s/it]\u001b[A\n",
      " 96%|█████████▋| 79606/82690 [8:48:02<9:22:32, 10.94s/it] \u001b[A\n",
      " 96%|█████████▋| 79607/82690 [8:48:06<7:36:36,  8.89s/it]\u001b[A\n",
      " 96%|█████████▋| 79608/82690 [8:48:14<7:20:52,  8.58s/it]\u001b[A\n",
      " 96%|█████████▋| 79609/82690 [8:48:24<7:35:26,  8.87s/it]\u001b[A\n",
      " 96%|█████████▋| 79610/82690 [8:48:29<6:40:34,  7.80s/it]\u001b[A\n",
      " 96%|█████████▋| 79611/82690 [8:48:29<4:43:56,  5.53s/it]\u001b[A\n",
      " 96%|█████████▋| 79612/82690 [8:48:42<6:38:28,  7.77s/it]\u001b[A\n",
      " 96%|█████████▋| 79613/82690 [8:48:54<7:32:14,  8.82s/it]\u001b[A\n",
      " 96%|█████████▋| 79614/82690 [8:48:55<5:36:00,  6.55s/it]\u001b[A\n",
      " 96%|█████████▋| 79615/82690 [8:48:58<4:43:46,  5.54s/it]\u001b[A\n",
      " 96%|█████████▋| 79616/82690 [8:49:10<6:26:03,  7.54s/it]\u001b[A\n",
      " 96%|█████████▋| 79618/82690 [8:49:17<5:24:14,  6.33s/it]\u001b[A\n",
      " 96%|█████████▋| 79619/82690 [8:50:05<15:54:22, 18.65s/it]\u001b[A\n",
      " 96%|█████████▋| 79621/82690 [8:50:18<12:49:36, 15.05s/it]\u001b[A\n",
      " 96%|█████████▋| 79622/82690 [8:50:21<9:53:30, 11.61s/it] \u001b[A\n",
      " 96%|█████████▋| 79623/82690 [8:50:23<7:19:51,  8.61s/it]\u001b[A\n",
      " 96%|█████████▋| 79624/82690 [8:50:44<10:33:36, 12.40s/it]\u001b[A\n",
      " 96%|█████████▋| 79625/82690 [8:51:25<17:47:09, 20.89s/it]\u001b[A\n",
      " 96%|█████████▋| 79626/82690 [8:51:42<16:44:12, 19.66s/it]\u001b[A\n",
      " 96%|█████████▋| 79629/82690 [8:51:52<12:34:22, 14.79s/it]\u001b[A\n",
      " 96%|█████████▋| 79630/82690 [8:52:16<14:51:49, 17.49s/it]\u001b[A\n",
      " 96%|█████████▋| 79631/82690 [8:52:33<14:43:33, 17.33s/it]\u001b[A\n",
      " 96%|█████████▋| 79632/82690 [8:53:21<22:29:36, 26.48s/it]\u001b[A\n",
      " 96%|█████████▋| 79633/82690 [8:53:23<16:19:27, 19.22s/it]\u001b[A\n",
      " 96%|█████████▋| 79634/82690 [8:53:23<11:32:52, 13.60s/it]\u001b[A\n",
      " 96%|█████████▋| 79635/82690 [8:53:26<8:37:41, 10.17s/it] \u001b[A\n",
      " 96%|█████████▋| 79636/82690 [8:53:38<9:07:28, 10.76s/it]\u001b[A\n",
      " 96%|█████████▋| 79638/82690 [8:53:59<9:01:53, 10.65s/it]\u001b[A\n",
      " 96%|█████████▋| 79639/82690 [8:54:00<6:42:38,  7.92s/it]\u001b[A\n",
      " 96%|█████████▋| 79642/82690 [8:54:02<4:51:05,  5.73s/it]\u001b[A\n",
      " 96%|█████████▋| 79643/82690 [8:54:33<11:16:19, 13.32s/it]\u001b[A\n",
      " 96%|█████████▋| 79644/82690 [8:54:40<9:40:25, 11.43s/it] \u001b[A\n",
      " 96%|█████████▋| 79645/82690 [8:54:41<7:08:40,  8.45s/it]\u001b[A\n",
      " 96%|█████████▋| 79646/82690 [8:54:43<5:16:09,  6.23s/it]\u001b[A\n",
      " 96%|█████████▋| 79647/82690 [8:54:43<3:54:06,  4.62s/it]\u001b[A\n",
      " 96%|█████████▋| 79648/82690 [8:54:48<3:51:08,  4.56s/it]\u001b[A\n",
      " 96%|█████████▋| 79649/82690 [8:54:50<3:12:49,  3.80s/it]\u001b[A\n",
      " 96%|█████████▋| 79653/82690 [8:54:53<2:28:19,  2.93s/it]\u001b[A\n",
      " 96%|█████████▋| 79654/82690 [8:54:54<1:56:13,  2.30s/it]\u001b[A\n",
      " 96%|█████████▋| 79655/82690 [8:55:15<6:38:09,  7.87s/it]\u001b[A\n",
      " 96%|█████████▋| 79656/82690 [8:55:15<4:43:09,  5.60s/it]\u001b[A\n",
      " 96%|█████████▋| 79657/82690 [8:55:17<3:39:01,  4.33s/it]\u001b[A\n",
      " 96%|█████████▋| 79660/82690 [8:55:24<3:08:08,  3.73s/it]\u001b[A\n",
      " 96%|█████████▋| 79661/82690 [8:56:03<12:00:55, 14.28s/it]\u001b[A\n",
      " 96%|█████████▋| 79662/82690 [8:56:32<15:45:13, 18.73s/it]\u001b[A\n",
      " 96%|█████████▋| 79664/82690 [8:56:46<12:46:20, 15.20s/it]\u001b[A\n",
      " 96%|█████████▋| 79665/82690 [8:57:27<19:19:28, 23.00s/it]\u001b[A\n",
      " 96%|█████████▋| 79666/82690 [8:57:28<13:45:10, 16.37s/it]\u001b[A\n",
      " 96%|█████████▋| 79668/82690 [8:57:55<13:01:01, 15.51s/it]\u001b[A\n",
      " 96%|█████████▋| 79669/82690 [8:58:08<12:29:40, 14.89s/it]\u001b[A\n",
      " 96%|█████████▋| 79670/82690 [8:58:10<9:16:07, 11.05s/it] \u001b[A\n",
      " 96%|█████████▋| 79671/82690 [8:58:18<8:33:09, 10.20s/it]\u001b[A\n",
      " 96%|█████████▋| 79672/82690 [8:58:29<8:32:37, 10.19s/it]\u001b[A\n",
      " 96%|█████████▋| 79673/82690 [8:58:42<9:12:44, 10.99s/it]\u001b[A\n",
      " 96%|█████████▋| 79675/82690 [8:58:43<6:36:15,  7.89s/it]\u001b[A\n",
      " 96%|█████████▋| 79676/82690 [8:58:49<6:07:04,  7.31s/it]\u001b[A\n",
      " 96%|█████████▋| 79677/82690 [8:58:53<5:17:35,  6.32s/it]\u001b[A\n",
      " 96%|█████████▋| 79678/82690 [8:58:54<4:01:59,  4.82s/it]\u001b[A\n",
      " 96%|█████████▋| 79679/82690 [8:59:20<9:25:36, 11.27s/it]\u001b[A\n",
      " 96%|█████████▋| 79680/82690 [8:59:21<6:40:31,  7.98s/it]\u001b[A\n",
      " 96%|█████████▋| 79681/82690 [8:59:22<5:05:17,  6.09s/it]\u001b[A\n",
      " 96%|█████████▋| 79682/82690 [8:59:26<4:31:16,  5.41s/it]\u001b[A\n",
      " 96%|█████████▋| 79683/82690 [8:59:28<3:33:08,  4.25s/it]\u001b[A\n",
      " 96%|█████████▋| 79684/82690 [8:59:29<2:43:57,  3.27s/it]\u001b[A\n",
      " 96%|█████████▋| 79685/82690 [8:59:32<2:43:51,  3.27s/it]\u001b[A\n",
      " 96%|█████████▋| 79686/82690 [8:59:43<4:34:02,  5.47s/it]\u001b[A\n",
      " 96%|█████████▋| 79687/82690 [8:59:44<3:27:36,  4.15s/it]\u001b[A\n",
      " 96%|█████████▋| 79688/82690 [8:59:45<2:38:14,  3.16s/it]\u001b[A\n",
      " 96%|█████████▋| 79689/82690 [8:59:46<2:19:55,  2.80s/it]\u001b[A\n",
      " 96%|█████████▋| 79690/82690 [9:00:14<8:27:28, 10.15s/it]\u001b[A\n",
      " 96%|█████████▋| 79691/82690 [9:00:16<6:24:35,  7.69s/it]\u001b[A\n",
      " 96%|█████████▋| 79692/82690 [9:00:17<4:43:54,  5.68s/it]\u001b[A\n",
      " 96%|█████████▋| 79693/82690 [9:00:18<3:33:50,  4.28s/it]\u001b[A\n",
      " 96%|█████████▋| 79694/82690 [9:00:20<3:05:41,  3.72s/it]\u001b[A\n",
      " 96%|█████████▋| 79695/82690 [9:00:27<3:50:18,  4.61s/it]\u001b[A\n",
      " 96%|█████████▋| 79696/82690 [9:00:28<2:54:44,  3.50s/it]\u001b[A\n",
      " 96%|█████████▋| 79697/82690 [9:00:38<4:31:26,  5.44s/it]\u001b[A\n",
      " 96%|█████████▋| 79698/82690 [9:00:38<3:15:17,  3.92s/it]\u001b[A\n",
      " 96%|█████████▋| 79699/82690 [9:00:40<2:44:41,  3.30s/it]\u001b[A\n",
      " 96%|█████████▋| 79700/82690 [9:00:40<1:58:54,  2.39s/it]\u001b[A\n",
      " 96%|█████████▋| 79701/82690 [9:00:43<2:06:47,  2.55s/it]\u001b[A\n",
      " 96%|█████████▋| 79702/82690 [9:00:44<1:34:46,  1.90s/it]\u001b[A\n",
      " 96%|█████████▋| 79703/82690 [9:00:47<1:55:43,  2.32s/it]\u001b[A\n",
      " 96%|█████████▋| 79704/82690 [9:00:55<3:26:43,  4.15s/it]\u001b[A\n",
      " 96%|█████████▋| 79705/82690 [9:00:56<2:31:49,  3.05s/it]\u001b[A\n",
      " 96%|█████████▋| 79706/82690 [9:00:59<2:35:56,  3.14s/it]\u001b[A\n",
      " 96%|█████████▋| 79707/82690 [9:01:13<5:13:25,  6.30s/it]\u001b[A\n",
      " 96%|█████████▋| 79708/82690 [9:01:13<3:45:15,  4.53s/it]\u001b[A\n",
      " 96%|█████████▋| 79709/82690 [9:01:13<2:39:26,  3.21s/it]\u001b[A\n",
      " 96%|█████████▋| 79710/82690 [9:01:36<7:25:19,  8.97s/it]\u001b[A\n",
      " 96%|█████████▋| 79711/82690 [9:01:48<8:15:40,  9.98s/it]\u001b[A\n",
      " 96%|█████████▋| 79712/82690 [9:01:55<7:37:15,  9.21s/it]\u001b[A\n",
      " 96%|█████████▋| 79713/82690 [9:01:56<5:24:59,  6.55s/it]\u001b[A\n",
      " 96%|█████████▋| 79714/82690 [9:02:09<7:08:30,  8.64s/it]\u001b[A\n",
      " 96%|█████████▋| 79715/82690 [9:02:26<9:06:51, 11.03s/it]\u001b[A\n",
      " 96%|█████████▋| 79716/82690 [9:02:56<13:53:16, 16.81s/it]\u001b[A\n",
      " 96%|█████████▋| 79717/82690 [9:03:01<10:59:19, 13.31s/it]\u001b[A\n",
      " 96%|█████████▋| 79718/82690 [9:03:46<18:39:10, 22.59s/it]\u001b[A\n",
      " 96%|█████████▋| 79719/82690 [9:03:55<15:27:29, 18.73s/it]\u001b[A\n",
      " 96%|█████████▋| 79721/82690 [9:03:58<11:07:00, 13.48s/it]\u001b[A\n",
      " 96%|█████████▋| 79722/82690 [9:04:28<15:16:59, 18.54s/it]\u001b[A\n",
      " 96%|█████████▋| 79723/82690 [9:04:30<11:03:08, 13.41s/it]\u001b[A\n",
      " 96%|█████████▋| 79724/82690 [9:05:02<15:47:55, 19.18s/it]\u001b[A\n",
      " 96%|█████████▋| 79725/82690 [9:05:03<11:21:17, 13.79s/it]\u001b[A\n",
      " 96%|█████████▋| 79726/82690 [9:05:05<8:25:54, 10.24s/it] \u001b[A\n",
      " 96%|█████████▋| 79727/82690 [9:05:08<6:28:42,  7.87s/it]\u001b[A\n",
      " 96%|█████████▋| 79728/82690 [9:05:08<4:38:19,  5.64s/it]\u001b[A\n",
      " 96%|█████████▋| 79729/82690 [9:05:09<3:33:44,  4.33s/it]\u001b[A\n",
      " 96%|█████████▋| 79730/82690 [9:05:10<2:42:48,  3.30s/it]\u001b[A\n",
      " 96%|█████████▋| 79731/82690 [9:05:11<2:07:51,  2.59s/it]\u001b[A\n",
      " 96%|█████████▋| 79732/82690 [9:05:25<4:49:50,  5.88s/it]\u001b[A\n",
      " 96%|█████████▋| 79734/82690 [9:05:52<6:45:33,  8.23s/it]\u001b[A\n",
      " 96%|█████████▋| 79736/82690 [9:05:56<5:14:04,  6.38s/it]\u001b[A\n",
      " 96%|█████████▋| 79737/82690 [9:05:57<3:44:04,  4.55s/it]\u001b[A\n",
      " 96%|█████████▋| 79738/82690 [9:05:57<2:42:52,  3.31s/it]\u001b[A\n",
      " 96%|█████████▋| 79739/82690 [9:06:04<3:43:15,  4.54s/it]\u001b[A\n",
      " 96%|█████████▋| 79740/82690 [9:06:50<13:50:17, 16.89s/it]\u001b[A\n",
      " 96%|█████████▋| 79741/82690 [9:07:17<16:17:56, 19.90s/it]\u001b[A\n",
      " 96%|█████████▋| 79744/82690 [9:07:18<11:30:36, 14.07s/it]\u001b[A\n",
      " 96%|█████████▋| 79745/82690 [9:07:25<9:40:30, 11.83s/it] \u001b[A\n",
      " 96%|█████████▋| 79746/82690 [9:07:27<7:16:32,  8.90s/it]\u001b[A\n",
      " 96%|█████████▋| 79747/82690 [9:07:30<5:50:05,  7.14s/it]\u001b[A\n",
      " 96%|█████████▋| 79748/82690 [9:07:30<4:07:55,  5.06s/it]\u001b[A\n",
      " 96%|█████████▋| 79749/82690 [9:07:38<4:46:03,  5.84s/it]\u001b[A\n",
      " 96%|█████████▋| 79750/82690 [9:07:38<3:23:43,  4.16s/it]\u001b[A\n",
      " 96%|█████████▋| 79752/82690 [9:07:40<2:33:15,  3.13s/it]\u001b[A\n",
      " 96%|█████████▋| 79753/82690 [9:07:50<4:17:00,  5.25s/it]\u001b[A\n",
      " 96%|█████████▋| 79755/82690 [9:07:51<3:09:32,  3.87s/it]\u001b[A\n",
      " 96%|█████████▋| 79756/82690 [9:07:51<2:16:01,  2.78s/it]\u001b[A\n",
      " 96%|█████████▋| 79757/82690 [9:07:52<1:36:46,  1.98s/it]\u001b[A\n",
      " 96%|█████████▋| 79758/82690 [9:07:52<1:12:27,  1.48s/it]\u001b[A\n",
      " 96%|█████████▋| 79759/82690 [9:07:52<53:37,  1.10s/it]  \u001b[A\n",
      " 96%|█████████▋| 79760/82690 [9:08:32<10:24:57, 12.80s/it]\u001b[A\n",
      " 96%|█████████▋| 79762/82690 [9:08:44<8:40:18, 10.66s/it] \u001b[A\n",
      " 96%|█████████▋| 79763/82690 [9:08:47<6:52:28,  8.46s/it]\u001b[A\n",
      " 96%|█████████▋| 79764/82690 [9:08:47<4:51:59,  5.99s/it]\u001b[A\n",
      " 96%|█████████▋| 79766/82690 [9:08:57<4:34:36,  5.63s/it]\u001b[A\n",
      " 96%|█████████▋| 79767/82690 [9:09:46<15:12:13, 18.73s/it]\u001b[A\n",
      " 96%|█████████▋| 79768/82690 [9:09:47<10:52:03, 13.39s/it]\u001b[A\n",
      " 96%|█████████▋| 79769/82690 [9:09:47<7:39:34,  9.44s/it] \u001b[A\n",
      " 96%|█████████▋| 79770/82690 [9:09:49<5:51:48,  7.23s/it]\u001b[A\n",
      " 96%|█████████▋| 79771/82690 [9:09:54<5:10:28,  6.38s/it]\u001b[A\n",
      " 96%|█████████▋| 79772/82690 [9:09:57<4:19:18,  5.33s/it]\u001b[A\n",
      " 96%|█████████▋| 79773/82690 [9:09:58<3:25:30,  4.23s/it]\u001b[A\n",
      " 96%|█████████▋| 79774/82690 [9:10:05<4:10:31,  5.15s/it]\u001b[A\n",
      " 96%|█████████▋| 79775/82690 [9:10:10<3:54:14,  4.82s/it]\u001b[A\n",
      " 96%|█████████▋| 79776/82690 [9:10:15<4:07:03,  5.09s/it]\u001b[A\n",
      " 96%|█████████▋| 79777/82690 [9:10:16<3:04:42,  3.80s/it]\u001b[A\n",
      " 96%|█████████▋| 79778/82690 [9:10:16<2:13:29,  2.75s/it]\u001b[A\n",
      " 96%|█████████▋| 79779/82690 [9:10:29<4:31:57,  5.61s/it]\u001b[A\n",
      " 96%|█████████▋| 79780/82690 [9:10:37<5:16:29,  6.53s/it]\u001b[A\n",
      " 96%|█████████▋| 79781/82690 [9:11:11<11:55:36, 14.76s/it]\u001b[A\n",
      " 96%|█████████▋| 79782/82690 [9:11:18<9:53:17, 12.24s/it] \u001b[A\n",
      " 96%|█████████▋| 79783/82690 [9:11:18<7:01:19,  8.70s/it]\u001b[A\n",
      " 96%|█████████▋| 79784/82690 [9:11:21<5:43:50,  7.10s/it]\u001b[A\n",
      " 96%|█████████▋| 79785/82690 [9:11:22<4:11:19,  5.19s/it]\u001b[A\n",
      " 96%|█████████▋| 79786/82690 [9:11:26<3:47:16,  4.70s/it]\u001b[A\n",
      " 96%|█████████▋| 79787/82690 [9:11:27<3:03:03,  3.78s/it]\u001b[A\n",
      " 96%|█████████▋| 79789/82690 [9:11:28<2:13:40,  2.76s/it]\u001b[A\n",
      " 96%|█████████▋| 79790/82690 [9:11:28<1:36:01,  1.99s/it]\u001b[A\n",
      " 96%|█████████▋| 79791/82690 [9:11:30<1:27:04,  1.80s/it]\u001b[A\n",
      " 96%|█████████▋| 79792/82690 [9:11:37<2:50:01,  3.52s/it]\u001b[A\n",
      " 96%|█████████▋| 79793/82690 [9:11:38<2:11:25,  2.72s/it]\u001b[A\n",
      " 96%|█████████▋| 79795/82690 [9:12:01<4:15:46,  5.30s/it]\u001b[A\n",
      " 97%|█████████▋| 79796/82690 [9:12:02<3:19:28,  4.14s/it]\u001b[A\n",
      " 97%|█████████▋| 79797/82690 [9:12:03<2:34:50,  3.21s/it]\u001b[A\n",
      " 97%|█████████▋| 79798/82690 [9:12:05<2:10:50,  2.71s/it]\u001b[A\n",
      " 97%|█████████▋| 79799/82690 [9:12:26<6:34:49,  8.19s/it]\u001b[A\n",
      " 97%|█████████▋| 79801/82690 [9:12:35<5:46:53,  7.20s/it]\u001b[A\n",
      " 97%|█████████▋| 79802/82690 [9:12:37<4:18:00,  5.36s/it]\u001b[A\n",
      " 97%|█████████▋| 79803/82690 [9:12:37<3:12:06,  3.99s/it]\u001b[A\n",
      " 97%|█████████▋| 79804/82690 [9:12:59<7:21:00,  9.17s/it]\u001b[A\n",
      " 97%|█████████▋| 79805/82690 [9:13:40<15:09:56, 18.92s/it]\u001b[A\n",
      " 97%|█████████▋| 79806/82690 [9:13:42<10:56:23, 13.66s/it]\u001b[A\n",
      " 97%|█████████▋| 79807/82690 [9:14:15<15:35:35, 19.47s/it]\u001b[A\n",
      " 97%|█████████▋| 79808/82690 [9:14:15<10:58:36, 13.71s/it]\u001b[A\n",
      " 97%|█████████▋| 79809/82690 [9:14:29<10:59:03, 13.73s/it]\u001b[A\n",
      " 97%|█████████▋| 79810/82690 [9:14:32<8:21:43, 10.45s/it] \u001b[A\n",
      " 97%|█████████▋| 79812/82690 [9:14:34<6:10:37,  7.73s/it]\u001b[A\n",
      " 97%|█████████▋| 79813/82690 [9:14:36<4:51:14,  6.07s/it]\u001b[A\n",
      " 97%|█████████▋| 79814/82690 [9:14:55<7:53:55,  9.89s/it]\u001b[A\n",
      " 97%|█████████▋| 79817/82690 [9:15:30<8:18:18, 10.41s/it]\u001b[A\n",
      " 97%|█████████▋| 79818/82690 [9:15:49<10:19:11, 12.94s/it]\u001b[A\n",
      " 97%|█████████▋| 79819/82690 [9:15:50<7:30:20,  9.41s/it] \u001b[A\n",
      " 97%|█████████▋| 79820/82690 [9:15:52<5:35:27,  7.01s/it]\u001b[A\n",
      " 97%|█████████▋| 79821/82690 [9:15:52<4:05:46,  5.14s/it]\u001b[A\n",
      " 97%|█████████▋| 79822/82690 [9:16:19<9:18:11, 11.68s/it]\u001b[A\n",
      " 97%|█████████▋| 79823/82690 [9:16:20<6:34:42,  8.26s/it]\u001b[A\n",
      " 97%|█████████▋| 79824/82690 [9:16:23<5:28:57,  6.89s/it]\u001b[A\n",
      " 97%|█████████▋| 79825/82690 [9:16:26<4:34:57,  5.76s/it]\u001b[A\n",
      " 97%|█████████▋| 79826/82690 [9:16:36<5:31:03,  6.94s/it]\u001b[A\n",
      " 97%|█████████▋| 79827/82690 [9:17:28<16:14:46, 20.43s/it]\u001b[A\n",
      " 97%|█████████▋| 79828/82690 [9:17:32<12:16:55, 15.45s/it]\u001b[A\n",
      " 97%|█████████▋| 79829/82690 [9:17:32<8:39:19, 10.89s/it] \u001b[A\n",
      " 97%|█████████▋| 79831/82690 [9:17:56<8:51:22, 11.15s/it]\u001b[A\n",
      " 97%|█████████▋| 79832/82690 [9:18:00<7:20:46,  9.25s/it]\u001b[A\n",
      " 97%|█████████▋| 79833/82690 [9:18:08<7:00:09,  8.82s/it]\u001b[A\n",
      " 97%|█████████▋| 79834/82690 [9:18:08<4:56:11,  6.22s/it]\u001b[A\n",
      " 97%|█████████▋| 79835/82690 [9:18:11<4:00:19,  5.05s/it]\u001b[A\n",
      " 97%|█████████▋| 79836/82690 [9:18:23<5:46:10,  7.28s/it]\u001b[A\n",
      " 97%|█████████▋| 79837/82690 [9:18:23<4:05:29,  5.16s/it]\u001b[A\n",
      " 97%|█████████▋| 79838/82690 [9:19:14<14:55:24, 18.84s/it]\u001b[A\n",
      " 97%|█████████▋| 79839/82690 [9:19:19<11:31:49, 14.56s/it]\u001b[A\n",
      " 97%|█████████▋| 79840/82690 [9:19:51<15:41:40, 19.82s/it]\u001b[A\n",
      " 97%|█████████▋| 79841/82690 [9:20:05<14:15:35, 18.02s/it]\u001b[A\n",
      " 97%|█████████▋| 79842/82690 [9:20:12<11:44:24, 14.84s/it]\u001b[A\n",
      " 97%|█████████▋| 79843/82690 [9:20:12<8:15:10, 10.44s/it] \u001b[A\n",
      " 97%|█████████▋| 79844/82690 [9:21:02<17:41:56, 22.39s/it]\u001b[A\n",
      " 97%|█████████▋| 79845/82690 [9:21:06<13:09:37, 16.65s/it]\u001b[A\n",
      " 97%|█████████▋| 79846/82690 [9:21:15<11:21:29, 14.38s/it]\u001b[A\n"
     ]
    },
    {
     "name": "stderr",
     "output_type": "stream",
     "text": [
      " 97%|█████████▋| 79848/82690 [9:21:17<8:14:21, 10.44s/it] \u001b[A\n",
      " 97%|█████████▋| 79849/82690 [9:21:24<7:15:29,  9.20s/it]\u001b[A\n",
      " 97%|█████████▋| 79850/82690 [9:21:29<6:24:58,  8.13s/it]\u001b[A\n",
      " 97%|█████████▋| 79851/82690 [9:21:35<5:55:20,  7.51s/it]\u001b[A\n",
      " 97%|█████████▋| 79852/82690 [9:21:57<9:14:40, 11.73s/it]\u001b[A\n",
      " 97%|█████████▋| 79854/82690 [9:21:59<6:40:25,  8.47s/it]\u001b[A\n",
      " 97%|█████████▋| 79855/82690 [9:22:11<7:37:44,  9.69s/it]\u001b[A\n",
      " 97%|█████████▋| 79856/82690 [9:22:12<5:35:28,  7.10s/it]\u001b[A\n",
      " 97%|█████████▋| 79857/82690 [9:22:14<4:22:06,  5.55s/it]\u001b[A\n",
      " 97%|█████████▋| 79858/82690 [9:22:15<3:18:22,  4.20s/it]\u001b[A\n",
      " 97%|█████████▋| 79859/82690 [9:22:16<2:24:04,  3.05s/it]\u001b[A\n",
      " 97%|█████████▋| 79860/82690 [9:22:27<4:15:57,  5.43s/it]\u001b[A\n",
      " 97%|█████████▋| 79861/82690 [9:22:37<5:25:24,  6.90s/it]\u001b[A\n",
      " 97%|█████████▋| 79862/82690 [9:22:38<4:05:43,  5.21s/it]\u001b[A\n",
      " 97%|█████████▋| 79863/82690 [9:22:39<3:04:57,  3.93s/it]\u001b[A\n",
      " 97%|█████████▋| 79864/82690 [9:22:41<2:37:25,  3.34s/it]\u001b[A\n",
      " 97%|█████████▋| 79865/82690 [9:22:49<3:49:03,  4.86s/it]\u001b[A\n",
      " 97%|█████████▋| 79867/82690 [9:22:50<2:41:59,  3.44s/it]\u001b[A\n",
      " 97%|█████████▋| 79868/82690 [9:22:53<2:35:01,  3.30s/it]\u001b[A\n",
      " 97%|█████████▋| 79870/82690 [9:22:55<2:03:58,  2.64s/it]\u001b[A\n",
      " 97%|█████████▋| 79871/82690 [9:22:59<2:30:53,  3.21s/it]\u001b[A\n",
      " 97%|█████████▋| 79872/82690 [9:23:04<2:54:22,  3.71s/it]\u001b[A\n",
      " 97%|█████████▋| 79873/82690 [9:23:06<2:23:27,  3.06s/it]\u001b[A\n",
      " 97%|█████████▋| 79875/82690 [9:23:10<2:06:48,  2.70s/it]\u001b[A\n",
      " 97%|█████████▋| 79876/82690 [9:23:12<2:04:54,  2.66s/it]\u001b[A\n",
      " 97%|█████████▋| 79877/82690 [9:23:13<1:39:27,  2.12s/it]\u001b[A\n",
      " 97%|█████████▋| 79878/82690 [9:23:35<6:25:20,  8.22s/it]\u001b[A\n",
      " 97%|█████████▋| 79879/82690 [9:23:46<6:56:37,  8.89s/it]\u001b[A\n",
      " 97%|█████████▋| 79880/82690 [9:23:49<5:27:34,  6.99s/it]\u001b[A\n",
      " 97%|█████████▋| 79882/82690 [9:23:49<3:50:32,  4.93s/it]\u001b[A\n",
      " 97%|█████████▋| 79884/82690 [9:23:53<3:12:11,  4.11s/it]\u001b[A\n",
      " 97%|█████████▋| 79885/82690 [9:23:57<3:10:14,  4.07s/it]\u001b[A\n",
      " 97%|█████████▋| 79886/82690 [9:24:21<7:54:45, 10.16s/it]\u001b[A\n",
      " 97%|█████████▋| 79887/82690 [9:24:52<12:41:33, 16.30s/it]\u001b[A\n",
      " 97%|█████████▋| 79888/82690 [9:24:56<9:43:13, 12.49s/it] \u001b[A\n",
      " 97%|█████████▋| 79889/82690 [9:25:27<13:59:47, 17.99s/it]\u001b[A\n",
      " 97%|█████████▋| 79890/82690 [9:25:33<11:12:24, 14.41s/it]\u001b[A\n",
      " 97%|█████████▋| 79892/82690 [9:25:47<9:28:29, 12.19s/it] \u001b[A\n",
      " 97%|█████████▋| 79894/82690 [9:25:47<6:39:20,  8.57s/it]\u001b[A\n",
      " 97%|█████████▋| 79895/82690 [9:25:57<6:58:35,  8.99s/it]\u001b[A\n",
      " 97%|█████████▋| 79896/82690 [9:26:00<5:33:54,  7.17s/it]\u001b[A\n",
      " 97%|█████████▋| 79897/82690 [9:26:03<4:40:39,  6.03s/it]\u001b[A\n",
      " 97%|█████████▋| 79898/82690 [9:26:10<4:45:55,  6.14s/it]\u001b[A\n",
      " 97%|█████████▋| 79899/82690 [9:26:19<5:38:29,  7.28s/it]\u001b[A\n",
      " 97%|█████████▋| 79901/82690 [9:26:21<4:05:55,  5.29s/it]\u001b[A\n",
      " 97%|█████████▋| 79902/82690 [9:26:34<5:55:32,  7.65s/it]\u001b[A\n",
      " 97%|█████████▋| 79903/82690 [9:26:34<4:11:15,  5.41s/it]\u001b[A\n",
      " 97%|█████████▋| 79904/82690 [9:26:34<2:59:27,  3.86s/it]\u001b[A\n",
      " 97%|█████████▋| 79905/82690 [9:27:17<12:06:12, 15.65s/it]\u001b[A\n",
      " 97%|█████████▋| 79906/82690 [9:27:18<8:32:48, 11.05s/it] \u001b[A\n",
      " 97%|█████████▋| 79907/82690 [9:27:21<6:40:11,  8.63s/it]\u001b[A\n",
      " 97%|█████████▋| 79908/82690 [9:27:24<5:29:03,  7.10s/it]\u001b[A\n",
      " 97%|█████████▋| 79909/82690 [9:27:28<4:44:01,  6.13s/it]\u001b[A\n",
      " 97%|█████████▋| 79910/82690 [9:28:05<11:55:06, 15.43s/it]\u001b[A\n",
      " 97%|█████████▋| 79911/82690 [9:28:53<19:23:31, 25.12s/it]\u001b[A\n",
      " 97%|█████████▋| 79912/82690 [9:28:59<14:55:52, 19.35s/it]\u001b[A\n",
      " 97%|█████████▋| 79914/82690 [9:29:04<11:01:42, 14.30s/it]\u001b[A\n",
      " 97%|█████████▋| 79915/82690 [9:29:07<8:20:14, 10.82s/it] \u001b[A\n",
      " 97%|█████████▋| 79916/82690 [9:29:13<7:13:49,  9.38s/it]\u001b[A\n",
      " 97%|█████████▋| 79917/82690 [9:29:14<5:16:17,  6.84s/it]\u001b[A\n",
      " 97%|█████████▋| 79918/82690 [9:29:58<13:58:33, 18.15s/it]\u001b[A\n",
      " 97%|█████████▋| 79919/82690 [9:30:02<10:37:44, 13.81s/it]\u001b[A\n",
      " 97%|█████████▋| 79920/82690 [9:30:10<9:26:13, 12.26s/it] \u001b[A\n",
      " 97%|█████████▋| 79921/82690 [9:30:13<7:07:06,  9.25s/it]\u001b[A\n",
      " 97%|█████████▋| 79922/82690 [9:30:14<5:11:07,  6.74s/it]\u001b[A\n",
      " 97%|█████████▋| 79923/82690 [9:30:42<10:10:38, 13.24s/it]\u001b[A\n",
      " 97%|█████████▋| 79924/82690 [9:30:55<10:00:05, 13.02s/it]\u001b[A\n",
      " 97%|█████████▋| 79925/82690 [9:30:59<8:05:35, 10.54s/it] \u001b[A\n",
      " 97%|█████████▋| 79926/82690 [9:31:00<5:43:07,  7.45s/it]\u001b[A\n",
      " 97%|█████████▋| 79927/82690 [9:31:01<4:25:00,  5.75s/it]\u001b[A\n",
      " 97%|█████████▋| 79928/82690 [9:31:09<4:57:30,  6.46s/it]\u001b[A\n",
      " 97%|█████████▋| 79929/82690 [9:31:45<11:35:47, 15.12s/it]\u001b[A\n",
      " 97%|█████████▋| 79930/82690 [9:31:53<10:02:18, 13.09s/it]\u001b[A\n",
      " 97%|█████████▋| 79931/82690 [9:31:57<7:53:09, 10.29s/it] \u001b[A\n",
      " 97%|█████████▋| 79932/82690 [9:31:58<5:45:25,  7.51s/it]\u001b[A\n",
      " 97%|█████████▋| 79934/82690 [9:31:59<4:12:31,  5.50s/it]\u001b[A\n",
      " 97%|█████████▋| 79935/82690 [9:32:20<7:39:56, 10.02s/it]\u001b[A\n",
      " 97%|█████████▋| 79936/82690 [9:32:20<5:23:48,  7.05s/it]\u001b[A\n",
      " 97%|█████████▋| 79937/82690 [9:32:20<3:50:19,  5.02s/it]\u001b[A\n",
      " 97%|█████████▋| 79938/82690 [9:32:21<2:46:14,  3.62s/it]\u001b[A\n",
      " 97%|█████████▋| 79939/82690 [9:32:24<2:40:07,  3.49s/it]\u001b[A\n",
      " 97%|█████████▋| 79940/82690 [9:32:35<4:26:52,  5.82s/it]\u001b[A\n",
      " 97%|█████████▋| 79941/82690 [9:32:47<5:42:43,  7.48s/it]\u001b[A\n",
      " 97%|█████████▋| 79942/82690 [9:33:14<10:19:55, 13.54s/it]\u001b[A\n",
      " 97%|█████████▋| 79943/82690 [9:33:16<7:34:48,  9.93s/it] \u001b[A\n",
      " 97%|█████████▋| 79944/82690 [9:33:18<5:48:27,  7.61s/it]\u001b[A\n",
      " 97%|█████████▋| 79945/82690 [9:33:21<4:51:13,  6.37s/it]\u001b[A\n",
      " 97%|█████████▋| 79946/82690 [9:33:31<5:31:20,  7.24s/it]\u001b[A\n",
      " 97%|█████████▋| 79947/82690 [9:33:33<4:20:19,  5.69s/it]\u001b[A\n",
      " 97%|█████████▋| 79948/82690 [9:33:35<3:35:43,  4.72s/it]\u001b[A\n",
      " 97%|█████████▋| 79949/82690 [9:33:38<3:02:23,  3.99s/it]\u001b[A\n",
      " 97%|█████████▋| 79950/82690 [9:33:40<2:42:44,  3.56s/it]\u001b[A\n",
      " 97%|█████████▋| 79951/82690 [9:34:08<8:09:37, 10.73s/it]\u001b[A\n",
      " 97%|█████████▋| 79952/82690 [9:34:42<13:27:41, 17.70s/it]\u001b[A\n",
      " 97%|█████████▋| 79953/82690 [9:35:14<16:49:49, 22.14s/it]\u001b[A\n",
      " 97%|█████████▋| 79954/82690 [9:35:15<12:01:09, 15.81s/it]\u001b[A\n",
      " 97%|█████████▋| 79955/82690 [9:35:20<9:29:46, 12.50s/it] \u001b[A\n",
      " 97%|█████████▋| 79956/82690 [9:35:34<9:45:49, 12.86s/it]\u001b[A\n",
      " 97%|█████████▋| 79957/82690 [9:35:35<7:04:16,  9.31s/it]\u001b[A\n",
      " 97%|█████████▋| 79958/82690 [9:35:36<5:09:13,  6.79s/it]\u001b[A\n",
      " 97%|█████████▋| 79959/82690 [9:35:44<5:32:09,  7.30s/it]\u001b[A\n",
      " 97%|█████████▋| 79960/82690 [9:36:05<8:44:06, 11.52s/it]\u001b[A\n",
      " 97%|█████████▋| 79961/82690 [9:36:10<7:13:42,  9.54s/it]\u001b[A\n",
      " 97%|█████████▋| 79962/82690 [9:36:12<5:25:50,  7.17s/it]\u001b[A\n",
      " 97%|█████████▋| 79963/82690 [9:36:34<8:43:06, 11.51s/it]\u001b[A\n",
      " 97%|█████████▋| 79964/82690 [9:36:35<6:27:18,  8.52s/it]\u001b[A\n",
      " 97%|█████████▋| 79965/82690 [9:37:04<11:08:25, 14.72s/it]\u001b[A\n",
      " 97%|█████████▋| 79966/82690 [9:37:14<10:00:38, 13.23s/it]\u001b[A\n",
      " 97%|█████████▋| 79970/82690 [9:37:17<7:08:39,  9.46s/it] \u001b[A\n",
      " 97%|█████████▋| 79971/82690 [9:37:50<12:31:31, 16.58s/it]\u001b[A\n",
      " 97%|█████████▋| 79972/82690 [9:37:50<8:49:45, 11.69s/it] \u001b[A\n",
      " 97%|█████████▋| 79973/82690 [9:37:51<6:23:20,  8.47s/it]\u001b[A\n",
      " 97%|█████████▋| 79974/82690 [9:37:52<4:34:21,  6.06s/it]\u001b[A\n",
      " 97%|█████████▋| 79975/82690 [9:38:23<10:24:10, 13.79s/it]\u001b[A\n",
      " 97%|█████████▋| 79976/82690 [9:39:19<19:45:43, 26.21s/it]\u001b[A\n",
      " 97%|█████████▋| 79977/82690 [9:39:19<13:54:20, 18.45s/it]\u001b[A\n",
      " 97%|█████████▋| 79978/82690 [9:39:21<10:15:04, 13.61s/it]\u001b[A\n",
      " 97%|█████████▋| 79979/82690 [9:39:33<9:45:07, 12.95s/it] \u001b[A\n",
      " 97%|█████████▋| 79980/82690 [9:39:41<8:42:04, 11.56s/it]\u001b[A\n",
      " 97%|█████████▋| 79981/82690 [9:39:42<6:24:16,  8.51s/it]\u001b[A\n",
      " 97%|█████████▋| 79982/82690 [9:39:57<7:54:01, 10.50s/it]\u001b[A\n",
      " 97%|█████████▋| 79983/82690 [9:39:59<5:54:10,  7.85s/it]\u001b[A\n",
      " 97%|█████████▋| 79985/82690 [9:39:59<4:08:59,  5.52s/it]\u001b[A\n",
      " 97%|█████████▋| 79986/82690 [9:40:18<7:03:49,  9.40s/it]\u001b[A\n",
      " 97%|█████████▋| 79988/82690 [9:40:20<5:08:31,  6.85s/it]\u001b[A\n",
      " 97%|█████████▋| 79989/82690 [9:40:24<4:42:34,  6.28s/it]\u001b[A\n",
      " 97%|█████████▋| 79990/82690 [9:40:28<3:59:30,  5.32s/it]\u001b[A\n",
      " 97%|█████████▋| 79992/82690 [9:40:29<2:59:50,  4.00s/it]\u001b[A\n",
      " 97%|█████████▋| 79993/82690 [9:40:30<2:10:01,  2.89s/it]\u001b[A\n",
      " 97%|█████████▋| 79995/82690 [9:40:47<3:26:29,  4.60s/it]\u001b[A\n",
      " 97%|█████████▋| 79996/82690 [9:40:48<2:38:46,  3.54s/it]\u001b[A\n",
      " 97%|█████████▋| 79997/82690 [9:40:49<2:01:43,  2.71s/it]\u001b[A\n",
      " 97%|█████████▋| 79998/82690 [9:40:49<1:27:03,  1.94s/it]\u001b[A\n",
      " 97%|█████████▋| 79999/82690 [9:40:52<1:42:45,  2.29s/it]\u001b[A\n",
      " 97%|█████████▋| 80002/82690 [9:41:01<1:53:47,  2.54s/it]\u001b[A\n",
      " 97%|█████████▋| 80003/82690 [9:41:22<5:56:20,  7.96s/it]\u001b[A\n",
      " 97%|█████████▋| 80004/82690 [9:42:04<13:32:04, 18.14s/it]\u001b[A\n",
      " 97%|█████████▋| 80005/82690 [9:42:04<9:31:57, 12.78s/it] \u001b[A\n",
      " 97%|█████████▋| 80006/82690 [9:42:29<12:13:40, 16.40s/it]\u001b[A\n",
      " 97%|█████████▋| 80007/82690 [9:42:33<9:20:56, 12.54s/it] \u001b[A\n",
      " 97%|█████████▋| 80008/82690 [9:42:33<6:43:11,  9.02s/it]\u001b[A\n",
      " 97%|█████████▋| 80010/82690 [9:42:37<5:03:52,  6.80s/it]\u001b[A\n",
      " 97%|█████████▋| 80011/82690 [9:43:10<10:54:55, 14.67s/it]\u001b[A\n",
      " 97%|█████████▋| 80012/82690 [9:43:13<8:19:36, 11.19s/it] \u001b[A\n",
      " 97%|█████████▋| 80013/82690 [9:43:14<6:09:05,  8.27s/it]\u001b[A\n",
      " 97%|█████████▋| 80014/82690 [9:43:26<6:54:08,  9.29s/it]\u001b[A\n",
      " 97%|█████████▋| 80016/82690 [9:43:28<5:01:33,  6.77s/it]\u001b[A\n",
      " 97%|█████████▋| 80017/82690 [9:43:33<4:43:05,  6.35s/it]\u001b[A\n",
      " 97%|█████████▋| 80018/82690 [9:43:48<6:33:36,  8.84s/it]\u001b[A\n",
      " 97%|█████████▋| 80020/82690 [9:43:48<4:37:37,  6.24s/it]\u001b[A\n",
      " 97%|█████████▋| 80021/82690 [9:43:54<4:33:37,  6.15s/it]\u001b[A\n",
      " 97%|█████████▋| 80022/82690 [9:43:55<3:29:11,  4.70s/it]\u001b[A\n",
      " 97%|█████████▋| 80023/82690 [9:44:02<4:00:19,  5.41s/it]\u001b[A\n",
      " 97%|█████████▋| 80025/82690 [9:44:40<7:00:42,  9.47s/it]\u001b[A\n",
      " 97%|█████████▋| 80026/82690 [9:45:19<13:27:35, 18.19s/it]\u001b[A\n",
      " 97%|█████████▋| 80027/82690 [9:45:39<13:56:50, 18.85s/it]\u001b[A\n",
      " 97%|█████████▋| 80028/82690 [9:45:41<10:04:23, 13.62s/it]\u001b[A\n",
      " 97%|█████████▋| 80029/82690 [9:45:42<7:22:14,  9.97s/it] \u001b[A\n",
      " 97%|█████████▋| 80031/82690 [9:45:53<6:21:29,  8.61s/it]\u001b[A\n",
      " 97%|█████████▋| 80032/82690 [9:45:54<4:39:42,  6.31s/it]\u001b[A\n",
      " 97%|█████████▋| 80033/82690 [9:45:56<3:39:24,  4.95s/it]\u001b[A\n",
      " 97%|█████████▋| 80034/82690 [9:46:00<3:32:53,  4.81s/it]\u001b[A\n",
      " 97%|█████████▋| 80035/82690 [9:46:03<3:13:22,  4.37s/it]\u001b[A\n",
      " 97%|█████████▋| 80036/82690 [9:46:07<3:03:47,  4.16s/it]\u001b[A\n",
      " 97%|█████████▋| 80037/82690 [9:46:21<5:18:22,  7.20s/it]\u001b[A\n",
      " 97%|█████████▋| 80038/82690 [9:46:22<3:47:26,  5.15s/it]\u001b[A\n",
      " 97%|█████████▋| 80039/82690 [9:46:24<3:15:39,  4.43s/it]\u001b[A\n",
      " 97%|█████████▋| 80040/82690 [9:46:25<2:22:59,  3.24s/it]\u001b[A\n",
      " 97%|█████████▋| 80042/82690 [9:46:41<3:23:59,  4.62s/it]\u001b[A\n",
      " 97%|█████████▋| 80043/82690 [9:46:46<3:40:07,  4.99s/it]\u001b[A\n",
      " 97%|█████████▋| 80044/82690 [9:46:47<2:36:44,  3.55s/it]\u001b[A\n",
      " 97%|█████████▋| 80045/82690 [9:46:57<4:09:13,  5.65s/it]\u001b[A\n",
      " 97%|█████████▋| 80046/82690 [9:47:32<10:28:37, 14.27s/it]\u001b[A\n",
      " 97%|█████████▋| 80047/82690 [9:47:52<11:44:01, 15.98s/it]\u001b[A\n",
      " 97%|█████████▋| 80048/82690 [9:47:55<9:00:52, 12.28s/it] \u001b[A\n",
      " 97%|█████████▋| 80049/82690 [9:47:55<6:21:39,  8.67s/it]\u001b[A\n",
      " 97%|█████████▋| 80050/82690 [9:48:05<6:34:03,  8.96s/it]\u001b[A\n",
      " 97%|█████████▋| 80051/82690 [9:48:12<6:07:44,  8.36s/it]\u001b[A\n",
      " 97%|█████████▋| 80052/82690 [9:48:57<14:10:31, 19.34s/it]\u001b[A\n",
      " 97%|█████████▋| 80053/82690 [9:48:58<10:09:52, 13.88s/it]\u001b[A\n",
      " 97%|█████████▋| 80054/82690 [9:49:00<7:33:31, 10.32s/it] \u001b[A\n",
      " 97%|█████████▋| 80055/82690 [9:49:00<5:20:27,  7.30s/it]\u001b[A\n",
      " 97%|█████████▋| 80056/82690 [9:49:01<3:55:10,  5.36s/it]\u001b[A\n",
      " 97%|█████████▋| 80061/82690 [9:49:02<2:47:01,  3.81s/it]\u001b[A\n",
      " 97%|█████████▋| 80062/82690 [9:49:06<2:47:50,  3.83s/it]\u001b[A\n",
      " 97%|█████████▋| 80063/82690 [9:49:11<2:59:16,  4.09s/it]\u001b[A\n",
      " 97%|█████████▋| 80064/82690 [9:49:12<2:25:41,  3.33s/it]\u001b[A\n",
      " 97%|█████████▋| 80065/82690 [9:49:16<2:31:14,  3.46s/it]\u001b[A\n",
      " 97%|█████████▋| 80066/82690 [9:49:17<1:56:05,  2.65s/it]\u001b[A\n",
      " 97%|█████████▋| 80068/82690 [9:49:19<1:36:34,  2.21s/it]\u001b[A\n",
      " 97%|█████████▋| 80069/82690 [9:49:20<1:11:54,  1.65s/it]\u001b[A\n",
      " 97%|█████████▋| 80070/82690 [9:49:23<1:33:39,  2.14s/it]\u001b[A\n",
      " 97%|█████████▋| 80071/82690 [9:49:27<2:03:26,  2.83s/it]\u001b[A\n",
      " 97%|█████████▋| 80072/82690 [9:49:31<2:08:42,  2.95s/it]\u001b[A\n",
      " 97%|█████████▋| 80073/82690 [9:49:37<2:52:29,  3.95s/it]\u001b[A\n",
      " 97%|█████████▋| 80074/82690 [9:49:38<2:13:33,  3.06s/it]\u001b[A\n",
      " 97%|█████████▋| 80075/82690 [9:49:38<1:37:39,  2.24s/it]\u001b[A\n",
      " 97%|█████████▋| 80076/82690 [9:49:43<2:08:16,  2.94s/it]\u001b[A\n",
      " 97%|█████████▋| 80077/82690 [9:49:43<1:31:35,  2.10s/it]\u001b[A\n",
      " 97%|█████████▋| 80078/82690 [9:49:44<1:18:03,  1.79s/it]\u001b[A\n",
      " 97%|█████████▋| 80079/82690 [9:49:45<1:11:26,  1.64s/it]\u001b[A\n",
      " 97%|█████████▋| 80081/82690 [9:49:49<1:11:43,  1.65s/it]\u001b[A\n",
      " 97%|█████████▋| 80082/82690 [9:49:49<59:32,  1.37s/it]  \u001b[A\n",
      " 97%|█████████▋| 80083/82690 [9:49:50<45:09,  1.04s/it]\u001b[A\n",
      " 97%|█████████▋| 80084/82690 [9:49:53<1:14:18,  1.71s/it]\u001b[A\n",
      " 97%|█████████▋| 80085/82690 [9:49:53<53:44,  1.24s/it]  \u001b[A\n",
      " 97%|█████████▋| 80086/82690 [9:50:34<9:34:41, 13.24s/it]\u001b[A\n",
      " 97%|█████████▋| 80088/82690 [9:50:36<6:55:18,  9.58s/it]\u001b[A\n",
      " 97%|█████████▋| 80089/82690 [9:50:38<5:12:29,  7.21s/it]\u001b[A\n",
      " 97%|█████████▋| 80090/82690 [9:50:39<3:53:33,  5.39s/it]\u001b[A\n",
      " 97%|█████████▋| 80091/82690 [9:50:44<3:42:36,  5.14s/it]\u001b[A\n",
      " 97%|█████████▋| 80093/82690 [9:50:47<2:56:20,  4.07s/it]\u001b[A\n",
      " 97%|█████████▋| 80094/82690 [9:50:47<2:07:48,  2.95s/it]\u001b[A\n",
      " 97%|█████████▋| 80095/82690 [9:50:59<4:06:43,  5.70s/it]\u001b[A\n",
      " 97%|█████████▋| 80096/82690 [9:51:00<3:02:50,  4.23s/it]\u001b[A\n",
      " 97%|█████████▋| 80097/82690 [9:51:44<11:43:02, 16.27s/it]\u001b[A\n",
      " 97%|█████████▋| 80098/82690 [9:51:48<8:54:36, 12.38s/it] \u001b[A\n",
      " 97%|█████████▋| 80100/82690 [9:51:49<6:20:02,  8.80s/it]\u001b[A\n",
      " 97%|█████████▋| 80101/82690 [9:52:00<6:50:26,  9.51s/it]\u001b[A\n",
      " 97%|█████████▋| 80102/82690 [9:52:10<7:03:53,  9.83s/it]\u001b[A\n",
      " 97%|█████████▋| 80104/82690 [9:52:59<10:08:45, 14.12s/it]\u001b[A\n",
      " 97%|█████████▋| 80105/82690 [9:53:01<7:31:22, 10.48s/it] \u001b[A\n",
      " 97%|█████████▋| 80106/82690 [9:53:08<6:46:37,  9.44s/it]\u001b[A\n",
      " 97%|█████████▋| 80107/82690 [9:53:31<9:39:06, 13.45s/it]\u001b[A\n",
      " 97%|█████████▋| 80108/82690 [9:54:07<14:37:44, 20.40s/it]\u001b[A\n",
      " 97%|█████████▋| 80109/82690 [9:54:28<14:37:48, 20.41s/it]\u001b[A\n",
      " 97%|█████████▋| 80110/82690 [9:54:28<10:17:20, 14.36s/it]\u001b[A\n",
      " 97%|█████████▋| 80112/82690 [9:54:29<7:19:34, 10.23s/it] \u001b[A\n",
      " 97%|█████████▋| 80113/82690 [9:54:30<5:18:56,  7.43s/it]\u001b[A\n",
      " 97%|█████████▋| 80114/82690 [9:54:30<3:48:21,  5.32s/it]\u001b[A\n",
      " 97%|█████████▋| 80116/82690 [9:55:11<7:02:41,  9.85s/it]\u001b[A\n",
      " 97%|█████████▋| 80117/82690 [9:55:12<5:05:45,  7.13s/it]\u001b[A\n",
      " 97%|█████████▋| 80118/82690 [9:55:13<3:43:28,  5.21s/it]\u001b[A\n",
      " 97%|█████████▋| 80119/82690 [9:55:13<2:46:18,  3.88s/it]\u001b[A\n",
      " 97%|█████████▋| 80120/82690 [9:55:55<10:44:01, 15.04s/it]\u001b[A\n",
      " 97%|█████████▋| 80121/82690 [9:56:04<9:26:26, 13.23s/it] \u001b[A\n",
      " 97%|█████████▋| 80122/82690 [9:56:17<9:25:50, 13.22s/it]\u001b[A\n",
      " 97%|█████████▋| 80124/82690 [9:57:01<11:16:43, 15.82s/it]\u001b[A\n",
      " 97%|█████████▋| 80125/82690 [9:57:48<18:06:31, 25.42s/it]\u001b[A\n",
      " 97%|█████████▋| 80126/82690 [9:57:53<13:42:22, 19.24s/it]\u001b[A\n",
      " 97%|█████████▋| 80127/82690 [9:57:56<10:16:16, 14.43s/it]\u001b[A\n",
      " 97%|█████████▋| 80128/82690 [9:58:07<9:25:51, 13.25s/it] \u001b[A\n",
      " 97%|█████████▋| 80129/82690 [9:58:14<8:01:15, 11.28s/it]\u001b[A\n",
      " 97%|█████████▋| 80130/82690 [9:58:23<7:43:24, 10.86s/it]\u001b[A\n",
      " 97%|█████████▋| 80131/82690 [9:58:24<5:36:55,  7.90s/it]\u001b[A\n",
      " 97%|█████████▋| 80132/82690 [9:58:37<6:34:37,  9.26s/it]\u001b[A\n",
      " 97%|█████████▋| 80134/82690 [9:58:38<4:44:31,  6.68s/it]\u001b[A\n",
      " 97%|█████████▋| 80135/82690 [9:58:39<3:30:23,  4.94s/it]\u001b[A\n",
      " 97%|█████████▋| 80137/82690 [9:58:41<2:37:55,  3.71s/it]\u001b[A\n",
      " 97%|█████████▋| 80139/82690 [9:59:07<4:36:15,  6.50s/it]\u001b[A\n",
      " 97%|█████████▋| 80140/82690 [9:59:08<3:28:24,  4.90s/it]\u001b[A\n",
      " 97%|█████████▋| 80141/82690 [9:59:10<2:46:53,  3.93s/it]\u001b[A\n",
      " 97%|█████████▋| 80142/82690 [9:59:11<2:09:43,  3.05s/it]\u001b[A\n",
      " 97%|█████████▋| 80143/82690 [9:59:13<2:02:04,  2.88s/it]\u001b[A\n",
      " 97%|█████████▋| 80145/82690 [9:59:14<1:30:22,  2.13s/it]\u001b[A\n",
      " 97%|█████████▋| 80147/82690 [9:59:17<1:22:18,  1.94s/it]\u001b[A\n",
      " 97%|█████████▋| 80148/82690 [9:59:20<1:42:02,  2.41s/it]\u001b[A\n",
      " 97%|█████████▋| 80149/82690 [9:59:48<7:06:06, 10.06s/it]\u001b[A\n",
      " 97%|█████████▋| 80150/82690 [9:59:49<5:02:20,  7.14s/it]\u001b[A\n",
      " 97%|█████████▋| 80151/82690 [9:59:53<4:33:29,  6.46s/it]\u001b[A\n",
      " 97%|█████████▋| 80153/82690 [9:59:55<3:18:51,  4.70s/it]\u001b[A\n",
      " 97%|█████████▋| 80154/82690 [10:00:20<7:40:16, 10.89s/it]\u001b[A\n",
      " 97%|█████████▋| 80155/82690 [10:00:21<5:31:59,  7.86s/it]\u001b[A\n",
      " 97%|█████████▋| 80156/82690 [10:00:57<11:31:57, 16.38s/it]\u001b[A\n",
      " 97%|█████████▋| 80157/82690 [10:01:00<8:44:18, 12.42s/it] \u001b[A\n",
      " 97%|█████████▋| 80158/82690 [10:01:02<6:32:10,  9.29s/it]\u001b[A\n"
     ]
    },
    {
     "name": "stderr",
     "output_type": "stream",
     "text": [
      " 97%|█████████▋| 80159/82690 [10:01:13<6:49:19,  9.70s/it]\u001b[A\n",
      " 97%|█████████▋| 80160/82690 [10:01:18<5:56:11,  8.45s/it]\u001b[A\n",
      " 97%|█████████▋| 80161/82690 [10:01:19<4:23:23,  6.25s/it]\u001b[A\n",
      " 97%|█████████▋| 80162/82690 [10:01:23<3:44:37,  5.33s/it]\u001b[A\n",
      " 97%|█████████▋| 80164/82690 [10:01:25<2:53:19,  4.12s/it]\u001b[A\n",
      " 97%|█████████▋| 80165/82690 [10:01:26<2:06:37,  3.01s/it]\u001b[A\n",
      " 97%|█████████▋| 80166/82690 [10:01:55<7:37:08, 10.87s/it]\u001b[A\n",
      " 97%|█████████▋| 80167/82690 [10:02:19<10:21:41, 14.78s/it]\u001b[A\n",
      " 97%|█████████▋| 80168/82690 [10:02:24<8:19:19, 11.88s/it] \u001b[A\n",
      " 97%|█████████▋| 80169/82690 [10:02:24<5:51:52,  8.37s/it]\u001b[A\n",
      " 97%|█████████▋| 80170/82690 [10:02:25<4:15:56,  6.09s/it]\u001b[A\n",
      " 97%|█████████▋| 80171/82690 [10:02:25<3:00:24,  4.30s/it]\u001b[A\n",
      " 97%|█████████▋| 80172/82690 [10:02:26<2:20:26,  3.35s/it]\u001b[A\n",
      " 97%|█████████▋| 80174/82690 [10:02:28<1:49:01,  2.60s/it]\u001b[A\n",
      " 97%|█████████▋| 80175/82690 [10:03:15<11:10:06, 15.99s/it]\u001b[A\n",
      " 97%|█████████▋| 80176/82690 [10:03:23<9:30:36, 13.62s/it] \u001b[A\n",
      " 97%|█████████▋| 80177/82690 [10:04:07<15:51:16, 22.71s/it]\u001b[A\n",
      " 97%|█████████▋| 80178/82690 [10:04:09<11:24:11, 16.34s/it]\u001b[A\n",
      " 97%|█████████▋| 80181/82690 [10:04:20<8:45:28, 12.57s/it] \u001b[A\n",
      " 97%|█████████▋| 80182/82690 [10:05:07<15:57:02, 22.90s/it]\u001b[A\n",
      " 97%|█████████▋| 80183/82690 [10:05:35<17:00:08, 24.41s/it]\u001b[A\n",
      " 97%|█████████▋| 80184/82690 [10:05:36<12:04:07, 17.34s/it]\u001b[A\n",
      " 97%|█████████▋| 80185/82690 [10:05:37<8:40:23, 12.46s/it] \u001b[A\n",
      " 97%|█████████▋| 80186/82690 [10:05:46<8:00:55, 11.52s/it]\u001b[A\n",
      " 97%|█████████▋| 80187/82690 [10:06:18<12:21:47, 17.78s/it]\u001b[A\n",
      " 97%|█████████▋| 80188/82690 [10:06:25<10:02:37, 14.45s/it]\u001b[A\n",
      " 97%|█████████▋| 80189/82690 [10:06:39<10:00:09, 14.40s/it]\u001b[A\n",
      " 97%|█████████▋| 80190/82690 [10:06:57<10:44:21, 15.46s/it]\u001b[A\n",
      " 97%|█████████▋| 80191/82690 [10:06:58<7:36:06, 10.95s/it] \u001b[A\n",
      " 97%|█████████▋| 80192/82690 [10:06:59<5:33:19,  8.01s/it]\u001b[A\n",
      " 97%|█████████▋| 80193/82690 [10:07:03<4:43:15,  6.81s/it]\u001b[A\n",
      " 97%|█████████▋| 80194/82690 [10:07:14<5:36:10,  8.08s/it]\u001b[A\n",
      " 97%|█████████▋| 80195/82690 [10:07:14<3:57:57,  5.72s/it]\u001b[A\n",
      " 97%|█████████▋| 80197/82690 [10:07:16<3:00:22,  4.34s/it]\u001b[A\n",
      " 97%|█████████▋| 80198/82690 [10:07:26<4:04:52,  5.90s/it]\u001b[A\n",
      " 97%|█████████▋| 80199/82690 [10:07:28<3:13:59,  4.67s/it]\u001b[A\n",
      " 97%|█████████▋| 80200/82690 [10:07:32<3:06:19,  4.49s/it]\u001b[A\n",
      " 97%|█████████▋| 80201/82690 [10:07:32<2:16:16,  3.29s/it]\u001b[A\n",
      " 97%|█████████▋| 80202/82690 [10:07:42<3:40:42,  5.32s/it]\u001b[A\n",
      " 97%|█████████▋| 80203/82690 [10:07:43<2:37:23,  3.80s/it]\u001b[A\n",
      " 97%|█████████▋| 80204/82690 [10:07:44<2:03:56,  2.99s/it]\u001b[A\n",
      " 97%|█████████▋| 80206/82690 [10:07:46<1:39:14,  2.40s/it]\u001b[A\n",
      " 97%|█████████▋| 80209/82690 [10:08:04<2:25:18,  3.51s/it]\u001b[A\n",
      " 97%|█████████▋| 80210/82690 [10:08:05<1:57:56,  2.85s/it]\u001b[A\n",
      " 97%|█████████▋| 80211/82690 [10:08:06<1:35:13,  2.30s/it]\u001b[A\n",
      " 97%|█████████▋| 80213/82690 [10:08:18<2:16:18,  3.30s/it]\u001b[A\n",
      " 97%|█████████▋| 80214/82690 [10:08:18<1:37:57,  2.37s/it]\u001b[A\n",
      " 97%|█████████▋| 80215/82690 [10:08:38<5:13:40,  7.60s/it]\u001b[A\n",
      " 97%|█████████▋| 80216/82690 [10:08:38<3:41:04,  5.36s/it]\u001b[A\n",
      " 97%|█████████▋| 80217/82690 [10:08:39<2:52:03,  4.17s/it]\u001b[A\n",
      " 97%|█████████▋| 80218/82690 [10:08:40<2:12:05,  3.21s/it]\u001b[A\n",
      " 97%|█████████▋| 80220/82690 [10:08:47<2:13:05,  3.23s/it]\u001b[A\n",
      " 97%|█████████▋| 80221/82690 [10:08:49<2:01:54,  2.96s/it]\u001b[A\n",
      " 97%|█████████▋| 80222/82690 [10:08:49<1:29:37,  2.18s/it]\u001b[A\n",
      " 97%|█████████▋| 80223/82690 [10:08:50<1:14:05,  1.80s/it]\u001b[A\n",
      " 97%|█████████▋| 80224/82690 [10:08:51<1:05:27,  1.59s/it]\u001b[A\n",
      " 97%|█████████▋| 80225/82690 [10:08:52<50:15,  1.22s/it]  \u001b[A\n",
      " 97%|█████████▋| 80227/82690 [10:08:56<59:35,  1.45s/it]\u001b[A\n",
      " 97%|█████████▋| 80228/82690 [10:09:03<2:10:02,  3.17s/it]\u001b[A\n",
      " 97%|█████████▋| 80229/82690 [10:09:14<3:49:51,  5.60s/it]\u001b[A\n",
      " 97%|█████████▋| 80230/82690 [10:09:15<2:52:40,  4.21s/it]\u001b[A\n",
      " 97%|█████████▋| 80231/82690 [10:09:17<2:19:26,  3.40s/it]\u001b[A\n",
      " 97%|█████████▋| 80232/82690 [10:09:25<3:14:57,  4.76s/it]\u001b[A\n",
      " 97%|█████████▋| 80233/82690 [10:09:26<2:35:04,  3.79s/it]\u001b[A\n",
      " 97%|█████████▋| 80234/82690 [10:09:27<2:00:56,  2.95s/it]\u001b[A\n",
      " 97%|█████████▋| 80235/82690 [10:09:32<2:29:27,  3.65s/it]\u001b[A\n",
      " 97%|█████████▋| 80237/82690 [10:09:35<2:00:07,  2.94s/it]\u001b[A\n",
      " 97%|█████████▋| 80239/82690 [10:09:49<2:50:11,  4.17s/it]\u001b[A\n",
      " 97%|█████████▋| 80241/82690 [10:10:18<4:58:20,  7.31s/it]\u001b[A\n",
      " 97%|█████████▋| 80242/82690 [10:10:20<3:51:06,  5.66s/it]\u001b[A\n",
      " 97%|█████████▋| 80243/82690 [10:10:26<3:49:02,  5.62s/it]\u001b[A\n",
      " 97%|█████████▋| 80244/82690 [10:10:27<2:57:00,  4.34s/it]\u001b[A\n",
      " 97%|█████████▋| 80246/82690 [10:11:13<6:44:50,  9.94s/it]\u001b[A\n",
      " 97%|█████████▋| 80247/82690 [10:11:19<5:53:24,  8.68s/it]\u001b[A\n",
      " 97%|█████████▋| 80249/82690 [10:11:20<4:12:34,  6.21s/it]\u001b[A\n",
      " 97%|█████████▋| 80250/82690 [10:11:20<3:06:19,  4.58s/it]\u001b[A\n",
      " 97%|█████████▋| 80251/82690 [10:11:22<2:27:47,  3.64s/it]\u001b[A\n",
      " 97%|█████████▋| 80252/82690 [10:11:28<2:53:53,  4.28s/it]\u001b[A\n",
      " 97%|█████████▋| 80253/82690 [10:11:52<7:00:21, 10.35s/it]\u001b[A\n",
      " 97%|█████████▋| 80254/82690 [10:11:55<5:23:31,  7.97s/it]\u001b[A\n",
      " 97%|█████████▋| 80255/82690 [10:12:05<5:49:22,  8.61s/it]\u001b[A\n",
      " 97%|█████████▋| 80256/82690 [10:12:11<5:18:50,  7.86s/it]\u001b[A\n",
      " 97%|█████████▋| 80257/82690 [10:12:20<5:29:15,  8.12s/it]\u001b[A\n",
      " 97%|█████████▋| 80258/82690 [10:12:27<5:26:12,  8.05s/it]\u001b[A\n",
      " 97%|█████████▋| 80259/82690 [10:12:30<4:15:00,  6.29s/it]\u001b[A\n",
      " 97%|█████████▋| 80260/82690 [10:12:31<3:11:32,  4.73s/it]\u001b[A\n",
      " 97%|█████████▋| 80261/82690 [10:12:31<2:22:57,  3.53s/it]\u001b[A\n",
      " 97%|█████████▋| 80262/82690 [10:12:39<3:09:52,  4.69s/it]\u001b[A\n",
      " 97%|█████████▋| 80263/82690 [10:13:22<11:00:36, 16.33s/it]\u001b[A\n",
      " 97%|█████████▋| 80264/82690 [10:13:25<8:10:43, 12.14s/it] \u001b[A\n",
      " 97%|█████████▋| 80265/82690 [10:13:28<6:18:58,  9.38s/it]\u001b[A\n",
      " 97%|█████████▋| 80266/82690 [10:13:28<4:30:33,  6.70s/it]\u001b[A\n",
      " 97%|█████████▋| 80268/82690 [10:13:29<3:14:43,  4.82s/it]\u001b[A\n",
      " 97%|█████████▋| 80269/82690 [10:13:30<2:31:49,  3.76s/it]\u001b[A\n",
      " 97%|█████████▋| 80271/82690 [10:13:31<1:47:52,  2.68s/it]\u001b[A\n",
      " 97%|█████████▋| 80272/82690 [10:13:34<1:57:24,  2.91s/it]\u001b[A\n",
      " 97%|█████████▋| 80273/82690 [10:13:45<3:29:14,  5.19s/it]\u001b[A\n",
      " 97%|█████████▋| 80274/82690 [10:13:54<4:20:38,  6.47s/it]\u001b[A\n",
      " 97%|█████████▋| 80275/82690 [10:13:54<3:06:08,  4.62s/it]\u001b[A\n",
      " 97%|█████████▋| 80276/82690 [10:14:04<4:10:00,  6.21s/it]\u001b[A\n",
      " 97%|█████████▋| 80277/82690 [10:14:04<2:58:27,  4.44s/it]\u001b[A\n",
      " 97%|█████████▋| 80278/82690 [10:14:55<12:12:03, 18.21s/it]\u001b[A\n",
      " 97%|█████████▋| 80279/82690 [10:15:14<12:26:35, 18.58s/it]\u001b[A\n",
      " 97%|█████████▋| 80280/82690 [10:15:18<9:27:28, 14.13s/it] \u001b[A\n",
      " 97%|█████████▋| 80281/82690 [10:15:18<6:40:46,  9.98s/it]\u001b[A\n",
      " 97%|█████████▋| 80282/82690 [10:15:41<9:16:43, 13.87s/it]\u001b[A\n",
      " 97%|█████████▋| 80283/82690 [10:16:14<13:09:06, 19.67s/it]\u001b[A\n",
      " 97%|█████████▋| 80284/82690 [10:16:20<10:12:34, 15.28s/it]\u001b[A\n",
      " 97%|█████████▋| 80285/82690 [10:16:22<7:43:46, 11.57s/it] \u001b[A\n",
      " 97%|█████████▋| 80286/82690 [10:16:23<5:27:22,  8.17s/it]\u001b[A\n",
      " 97%|█████████▋| 80287/82690 [10:16:31<5:34:13,  8.35s/it]\u001b[A\n",
      " 97%|█████████▋| 80288/82690 [10:16:40<5:42:04,  8.54s/it]\u001b[A\n",
      " 97%|█████████▋| 80289/82690 [10:16:47<5:18:27,  7.96s/it]\u001b[A\n",
      " 97%|█████████▋| 80290/82690 [10:16:54<5:01:53,  7.55s/it]\u001b[A\n",
      " 97%|█████████▋| 80291/82690 [10:16:54<3:33:01,  5.33s/it]\u001b[A\n",
      " 97%|█████████▋| 80293/82690 [10:16:55<2:37:53,  3.95s/it]\u001b[A\n",
      " 97%|█████████▋| 80295/82690 [10:16:56<1:55:56,  2.90s/it]\u001b[A\n",
      " 97%|█████████▋| 80296/82690 [10:17:32<8:33:54, 12.88s/it]\u001b[A\n",
      " 97%|█████████▋| 80297/82690 [10:17:42<7:58:27, 12.00s/it]\u001b[A\n",
      " 97%|█████████▋| 80298/82690 [10:17:44<5:52:22,  8.84s/it]\u001b[A\n",
      " 97%|█████████▋| 80299/82690 [10:17:57<6:48:04, 10.24s/it]\u001b[A\n",
      " 97%|█████████▋| 80300/82690 [10:17:59<5:11:49,  7.83s/it]\u001b[A\n",
      " 97%|█████████▋| 80301/82690 [10:18:01<3:55:53,  5.92s/it]\u001b[A\n",
      " 97%|█████████▋| 80302/82690 [10:18:01<2:48:43,  4.24s/it]\u001b[A\n",
      " 97%|█████████▋| 80303/82690 [10:18:07<3:05:22,  4.66s/it]\u001b[A\n",
      " 97%|█████████▋| 80304/82690 [10:18:10<2:47:01,  4.20s/it]\u001b[A\n",
      " 97%|█████████▋| 80305/82690 [10:18:49<9:44:26, 14.70s/it]\u001b[A\n",
      " 97%|█████████▋| 80306/82690 [10:18:55<8:03:28, 12.17s/it]\u001b[A\n",
      " 97%|█████████▋| 80307/82690 [10:18:57<5:58:27,  9.03s/it]\u001b[A\n",
      " 97%|█████████▋| 80308/82690 [10:18:59<4:27:14,  6.73s/it]\u001b[A\n",
      " 97%|█████████▋| 80309/82690 [10:19:23<8:01:09, 12.13s/it]\u001b[A\n",
      " 97%|█████████▋| 80310/82690 [10:19:25<5:57:42,  9.02s/it]\u001b[A\n",
      " 97%|█████████▋| 80311/82690 [10:19:28<4:44:18,  7.17s/it]\u001b[A\n",
      " 97%|█████████▋| 80312/82690 [10:19:30<3:40:43,  5.57s/it]\u001b[A\n",
      " 97%|█████████▋| 80313/82690 [10:19:30<2:38:45,  4.01s/it]\u001b[A\n",
      " 97%|█████████▋| 80314/82690 [10:19:32<2:16:38,  3.45s/it]\u001b[A\n",
      " 97%|█████████▋| 80315/82690 [10:19:34<1:52:08,  2.83s/it]\u001b[A\n",
      " 97%|█████████▋| 80316/82690 [10:19:35<1:32:21,  2.33s/it]\u001b[A\n",
      " 97%|█████████▋| 80317/82690 [10:19:41<2:17:40,  3.48s/it]\u001b[A\n",
      " 97%|█████████▋| 80318/82690 [10:19:41<1:41:44,  2.57s/it]\u001b[A\n",
      " 97%|█████████▋| 80319/82690 [10:19:43<1:25:14,  2.16s/it]\u001b[A\n",
      " 97%|█████████▋| 80320/82690 [10:19:45<1:32:36,  2.34s/it]\u001b[A\n",
      " 97%|█████████▋| 80321/82690 [10:20:05<5:00:08,  7.60s/it]\u001b[A\n",
      " 97%|█████████▋| 80322/82690 [10:20:09<4:08:52,  6.31s/it]\u001b[A\n",
      " 97%|█████████▋| 80323/82690 [10:20:09<2:58:35,  4.53s/it]\u001b[A\n",
      " 97%|█████████▋| 80324/82690 [10:20:37<7:40:11, 11.67s/it]\u001b[A\n",
      " 97%|█████████▋| 80325/82690 [10:20:38<5:34:13,  8.48s/it]\u001b[A\n",
      " 97%|█████████▋| 80326/82690 [10:21:23<12:45:47, 19.44s/it]\u001b[A\n",
      " 97%|█████████▋| 80327/82690 [10:21:23<8:58:43, 13.68s/it] \u001b[A\n",
      " 97%|█████████▋| 80328/82690 [10:21:28<7:12:47, 10.99s/it]\u001b[A\n",
      " 97%|█████████▋| 80329/82690 [10:21:29<5:16:38,  8.05s/it]\u001b[A\n",
      " 97%|█████████▋| 80330/82690 [10:21:40<5:43:08,  8.72s/it]\u001b[A\n",
      " 97%|█████████▋| 80331/82690 [10:21:51<6:12:33,  9.48s/it]\u001b[A\n",
      " 97%|█████████▋| 80332/82690 [10:22:01<6:16:42,  9.59s/it]\u001b[A\n",
      " 97%|█████████▋| 80333/82690 [10:22:02<4:32:18,  6.93s/it]\u001b[A\n",
      " 97%|█████████▋| 80334/82690 [10:22:12<5:14:53,  8.02s/it]\u001b[A\n",
      " 97%|█████████▋| 80335/82690 [10:22:14<4:06:54,  6.29s/it]\u001b[A\n",
      " 97%|█████████▋| 80338/82690 [10:22:16<2:58:49,  4.56s/it]\u001b[A\n",
      " 97%|█████████▋| 80339/82690 [10:22:37<6:18:29,  9.66s/it]\u001b[A\n",
      " 97%|█████████▋| 80340/82690 [10:23:03<9:22:26, 14.36s/it]\u001b[A\n",
      " 97%|█████████▋| 80341/82690 [10:23:04<6:51:38, 10.51s/it]\u001b[A\n",
      " 97%|█████████▋| 80342/82690 [10:23:14<6:37:12, 10.15s/it]\u001b[A\n",
      " 97%|█████████▋| 80343/82690 [10:23:14<4:40:11,  7.16s/it]\u001b[A\n",
      " 97%|█████████▋| 80344/82690 [10:23:16<3:41:58,  5.68s/it]\u001b[A\n",
      " 97%|█████████▋| 80345/82690 [10:23:25<4:22:40,  6.72s/it]\u001b[A\n",
      " 97%|█████████▋| 80346/82690 [10:23:38<5:38:41,  8.67s/it]\u001b[A\n",
      " 97%|█████████▋| 80347/82690 [10:23:44<5:07:36,  7.88s/it]\u001b[A\n",
      " 97%|█████████▋| 80348/82690 [10:23:47<4:00:33,  6.16s/it]\u001b[A\n",
      " 97%|█████████▋| 80350/82690 [10:23:47<2:49:05,  4.34s/it]\u001b[A\n",
      " 97%|█████████▋| 80351/82690 [10:23:48<2:16:32,  3.50s/it]\u001b[A\n",
      " 97%|█████████▋| 80352/82690 [10:23:57<3:12:01,  4.93s/it]\u001b[A\n",
      " 97%|█████████▋| 80353/82690 [10:24:02<3:18:36,  5.10s/it]\u001b[A\n",
      " 97%|█████████▋| 80354/82690 [10:24:33<8:25:46, 12.99s/it]\u001b[A\n",
      " 97%|█████████▋| 80356/82690 [10:24:34<5:59:37,  9.24s/it]\u001b[A\n",
      " 97%|█████████▋| 80358/82690 [10:24:38<4:30:47,  6.97s/it]\u001b[A\n",
      " 97%|█████████▋| 80359/82690 [10:24:38<3:11:09,  4.92s/it]\u001b[A\n",
      " 97%|█████████▋| 80361/82690 [10:24:39<2:19:29,  3.59s/it]\u001b[A\n",
      " 97%|█████████▋| 80362/82690 [10:24:40<1:47:15,  2.76s/it]\u001b[A\n",
      " 97%|█████████▋| 80363/82690 [10:24:41<1:27:52,  2.27s/it]\u001b[A\n",
      " 97%|█████████▋| 80364/82690 [10:24:56<4:03:01,  6.27s/it]\u001b[A\n",
      " 97%|█████████▋| 80365/82690 [10:25:17<6:44:37, 10.44s/it]\u001b[A\n",
      " 97%|█████████▋| 80366/82690 [10:25:20<5:19:15,  8.24s/it]\u001b[A\n",
      " 97%|█████████▋| 80367/82690 [10:25:55<10:29:40, 16.26s/it]\u001b[A\n",
      " 97%|█████████▋| 80368/82690 [10:25:59<8:09:49, 12.66s/it] \u001b[A\n",
      " 97%|█████████▋| 80369/82690 [10:26:02<6:17:44,  9.76s/it]\u001b[A\n",
      " 97%|█████████▋| 80371/82690 [10:26:05<4:40:00,  7.24s/it]\u001b[A\n",
      " 97%|█████████▋| 80372/82690 [10:26:14<5:04:17,  7.88s/it]\u001b[A\n",
      " 97%|█████████▋| 80373/82690 [10:26:37<8:04:02, 12.53s/it]\u001b[A\n",
      " 97%|█████████▋| 80374/82690 [10:27:07<11:18:00, 17.57s/it]\u001b[A\n",
      " 97%|█████████▋| 80375/82690 [10:27:44<15:02:31, 23.39s/it]\u001b[A\n",
      " 97%|█████████▋| 80377/82690 [10:27:44<10:32:57, 16.42s/it]\u001b[A\n",
      " 97%|█████████▋| 80378/82690 [10:27:45<7:32:19, 11.74s/it] \u001b[A\n",
      " 97%|█████████▋| 80379/82690 [10:27:55<7:17:31, 11.36s/it]\u001b[A\n",
      " 97%|█████████▋| 80380/82690 [10:28:06<7:09:58, 11.17s/it]\u001b[A\n",
      " 97%|█████████▋| 80381/82690 [10:28:08<5:25:48,  8.47s/it]\u001b[A\n",
      " 97%|█████████▋| 80383/82690 [10:28:11<4:03:36,  6.34s/it]\u001b[A\n",
      " 97%|█████████▋| 80384/82690 [10:28:12<3:01:03,  4.71s/it]\u001b[A\n",
      " 97%|█████████▋| 80385/82690 [10:28:18<3:16:26,  5.11s/it]\u001b[A\n",
      " 97%|█████████▋| 80386/82690 [10:29:13<12:47:21, 19.98s/it]\u001b[A\n",
      " 97%|█████████▋| 80387/82690 [10:29:16<9:37:50, 15.05s/it] \u001b[A\n",
      " 97%|█████████▋| 80388/82690 [10:29:17<6:57:01, 10.87s/it]\u001b[A\n",
      " 97%|█████████▋| 80389/82690 [10:29:21<5:29:20,  8.59s/it]\u001b[A\n",
      " 97%|█████████▋| 80390/82690 [10:29:32<6:01:41,  9.44s/it]\u001b[A\n",
      " 97%|█████████▋| 80391/82690 [10:29:32<4:17:34,  6.72s/it]\u001b[A\n",
      " 97%|█████████▋| 80392/82690 [10:29:33<3:10:28,  4.97s/it]\u001b[A\n",
      " 97%|█████████▋| 80393/82690 [10:29:42<3:58:28,  6.23s/it]\u001b[A\n",
      " 97%|█████████▋| 80394/82690 [10:30:21<10:05:17, 15.82s/it]\u001b[A\n",
      " 97%|█████████▋| 80395/82690 [10:30:23<7:30:27, 11.78s/it] \u001b[A\n",
      " 97%|█████████▋| 80397/82690 [10:30:24<5:19:28,  8.36s/it]\u001b[A\n",
      " 97%|█████████▋| 80398/82690 [10:30:28<4:28:55,  7.04s/it]\u001b[A\n",
      " 97%|█████████▋| 80399/82690 [10:31:22<13:30:43, 21.23s/it]\u001b[A\n",
      " 97%|█████████▋| 80400/82690 [10:31:24<9:50:27, 15.47s/it] \u001b[A\n",
      " 97%|█████████▋| 80401/82690 [10:31:52<12:08:45, 19.10s/it]\u001b[A\n",
      " 97%|█████████▋| 80402/82690 [10:32:01<10:14:39, 16.12s/it]\u001b[A\n",
      " 97%|█████████▋| 80403/82690 [10:32:08<8:27:24, 13.31s/it] \u001b[A\n",
      " 97%|█████████▋| 80404/82690 [10:32:09<6:15:36,  9.86s/it]\u001b[A\n",
      " 97%|█████████▋| 80405/82690 [10:32:11<4:41:25,  7.39s/it]\u001b[A\n",
      " 97%|█████████▋| 80407/82690 [10:33:04<8:20:31, 13.15s/it]\u001b[A\n",
      " 97%|█████████▋| 80409/82690 [10:33:46<9:46:29, 15.43s/it]\u001b[A\n",
      " 97%|█████████▋| 80411/82690 [10:34:02<8:22:11, 13.22s/it]\u001b[A\n",
      " 97%|█████████▋| 80413/82690 [10:34:02<5:53:00,  9.30s/it]\u001b[A\n",
      " 97%|█████████▋| 80414/82690 [10:34:22<7:57:52, 12.60s/it]\u001b[A\n",
      " 97%|█████████▋| 80415/82690 [10:34:24<5:57:58,  9.44s/it]\u001b[A\n",
      " 97%|█████████▋| 80417/82690 [10:34:30<4:40:13,  7.40s/it]\u001b[A\n",
      " 97%|█████████▋| 80418/82690 [10:35:14<11:38:43, 18.45s/it]\u001b[A\n",
      " 97%|█████████▋| 80419/82690 [10:35:16<8:31:33, 13.52s/it] \u001b[A\n",
      " 97%|█████████▋| 80420/82690 [10:35:18<6:18:52, 10.01s/it]\u001b[A\n",
      " 97%|█████████▋| 80421/82690 [10:35:29<6:32:18, 10.37s/it]\u001b[A\n",
      " 97%|█████████▋| 80422/82690 [10:35:30<4:47:58,  7.62s/it]\u001b[A\n",
      " 97%|█████████▋| 80423/82690 [10:35:33<3:48:09,  6.04s/it]\u001b[A\n",
      " 97%|█████████▋| 80424/82690 [10:35:33<2:43:27,  4.33s/it]\u001b[A\n",
      " 97%|█████████▋| 80425/82690 [10:35:39<3:07:19,  4.96s/it]\u001b[A\n",
      " 97%|█████████▋| 80426/82690 [10:35:40<2:19:44,  3.70s/it]\u001b[A\n",
      " 97%|█████████▋| 80427/82690 [10:35:48<3:09:45,  5.03s/it]\u001b[A\n",
      " 97%|█████████▋| 80428/82690 [10:35:57<3:50:58,  6.13s/it]\u001b[A\n",
      " 97%|█████████▋| 80429/82690 [10:36:20<7:00:49, 11.17s/it]\u001b[A\n",
      " 97%|█████████▋| 80430/82690 [10:36:42<9:01:14, 14.37s/it]\u001b[A\n",
      " 97%|█████████▋| 80431/82690 [10:36:44<6:41:01, 10.65s/it]\u001b[A\n",
      " 97%|█████████▋| 80432/82690 [10:36:46<5:09:40,  8.23s/it]\u001b[A\n",
      " 97%|█████████▋| 80433/82690 [10:36:47<3:40:44,  5.87s/it]\u001b[A\n",
      " 97%|█████████▋| 80436/82690 [10:36:48<2:38:53,  4.23s/it]\u001b[A\n",
      " 97%|█████████▋| 80437/82690 [10:37:04<4:50:20,  7.73s/it]\u001b[A\n",
      " 97%|█████████▋| 80438/82690 [10:37:14<5:18:03,  8.47s/it]\u001b[A\n",
      " 97%|█████████▋| 80439/82690 [10:37:15<3:57:23,  6.33s/it]\u001b[A\n",
      " 97%|█████████▋| 80442/82690 [10:37:18<2:55:26,  4.68s/it]\u001b[A\n",
      " 97%|█████████▋| 80443/82690 [10:37:21<2:33:50,  4.11s/it]\u001b[A\n",
      " 97%|█████████▋| 80444/82690 [10:37:42<5:51:56,  9.40s/it]\u001b[A\n",
      " 97%|█████████▋| 80445/82690 [10:38:28<12:35:28, 20.19s/it]\u001b[A\n",
      " 97%|█████████▋| 80446/82690 [10:38:31<9:21:30, 15.01s/it] \u001b[A\n",
      " 97%|█████████▋| 80449/82690 [10:38:32<6:38:25, 10.67s/it]\u001b[A\n",
      " 97%|█████████▋| 80450/82690 [10:38:46<7:19:10, 11.76s/it]\u001b[A\n",
      " 97%|█████████▋| 80451/82690 [10:39:17<10:54:17, 17.53s/it]\u001b[A\n",
      " 97%|█████████▋| 80452/82690 [10:39:18<7:40:41, 12.35s/it] \u001b[A\n",
      " 97%|█████████▋| 80454/82690 [10:39:52<8:33:24, 13.78s/it]\u001b[A\n",
      " 97%|█████████▋| 80456/82690 [10:39:52<6:00:16,  9.68s/it]\u001b[A\n",
      " 97%|█████████▋| 80458/82690 [10:39:53<4:14:16,  6.84s/it]\u001b[A\n",
      " 97%|█████████▋| 80459/82690 [10:39:54<3:08:30,  5.07s/it]\u001b[A\n",
      " 97%|█████████▋| 80460/82690 [10:40:04<4:10:34,  6.74s/it]\u001b[A\n",
      " 97%|█████████▋| 80461/82690 [10:40:07<3:30:38,  5.67s/it]\u001b[A\n",
      " 97%|█████████▋| 80463/82690 [10:40:10<2:43:42,  4.41s/it]\u001b[A\n",
      " 97%|█████████▋| 80464/82690 [10:40:33<6:07:12,  9.90s/it]\u001b[A\n",
      " 97%|█████████▋| 80465/82690 [10:40:35<4:37:43,  7.49s/it]\u001b[A\n"
     ]
    },
    {
     "name": "stderr",
     "output_type": "stream",
     "text": [
      " 97%|█████████▋| 80466/82690 [10:41:08<9:21:33, 15.15s/it]\u001b[A\n",
      " 97%|█████████▋| 80469/82690 [10:41:09<6:36:22, 10.71s/it]\u001b[A\n",
      " 97%|█████████▋| 80470/82690 [10:41:51<12:20:26, 20.01s/it]\u001b[A\n",
      " 97%|█████████▋| 80471/82690 [10:42:07<11:35:01, 18.79s/it]\u001b[A\n",
      " 97%|█████████▋| 80472/82690 [10:42:23<11:08:26, 18.08s/it]\u001b[A\n",
      " 97%|█████████▋| 80473/82690 [10:42:24<8:00:10, 13.00s/it] \u001b[A\n",
      " 97%|█████████▋| 80474/82690 [10:43:12<14:24:15, 23.40s/it]\u001b[A\n",
      " 97%|█████████▋| 80475/82690 [10:43:17<10:59:58, 17.88s/it]\u001b[A\n",
      " 97%|█████████▋| 80476/82690 [10:43:31<10:23:44, 16.90s/it]\u001b[A\n",
      " 97%|█████████▋| 80477/82690 [10:43:40<8:46:09, 14.27s/it] \u001b[A\n",
      " 97%|█████████▋| 80478/82690 [10:43:49<7:52:47, 12.82s/it]\u001b[A\n",
      " 97%|█████████▋| 80480/82690 [10:43:51<5:43:12,  9.32s/it]\u001b[A\n",
      " 97%|█████████▋| 80482/82690 [10:44:14<6:06:37,  9.96s/it]\u001b[A\n",
      " 97%|█████████▋| 80483/82690 [10:44:18<4:59:08,  8.13s/it]\u001b[A\n",
      " 97%|█████████▋| 80484/82690 [10:44:32<6:07:18,  9.99s/it]\u001b[A\n",
      " 97%|█████████▋| 80485/82690 [10:44:34<4:38:11,  7.57s/it]\u001b[A\n",
      " 97%|█████████▋| 80486/82690 [10:44:39<4:03:50,  6.64s/it]\u001b[A\n",
      " 97%|█████████▋| 80487/82690 [10:45:01<6:50:17, 11.17s/it]\u001b[A\n",
      " 97%|█████████▋| 80488/82690 [10:45:05<5:34:37,  9.12s/it]\u001b[A\n",
      " 97%|█████████▋| 80489/82690 [10:45:06<4:05:32,  6.69s/it]\u001b[A\n",
      " 97%|█████████▋| 80492/82690 [10:45:10<3:06:48,  5.10s/it]\u001b[A\n",
      " 97%|█████████▋| 80494/82690 [10:45:12<2:23:08,  3.91s/it]\u001b[A\n",
      " 97%|█████████▋| 80495/82690 [10:45:46<7:54:13, 12.96s/it]\u001b[A\n",
      " 97%|█████████▋| 80496/82690 [10:45:47<5:43:14,  9.39s/it]\u001b[A\n",
      " 97%|█████████▋| 80497/82690 [10:45:48<4:03:04,  6.65s/it]\u001b[A\n",
      " 97%|█████████▋| 80498/82690 [10:45:48<2:58:01,  4.87s/it]\u001b[A\n",
      " 97%|█████████▋| 80499/82690 [10:45:51<2:29:35,  4.10s/it]\u001b[A\n",
      " 97%|█████████▋| 80500/82690 [10:46:35<9:50:38, 16.18s/it]\u001b[A\n",
      " 97%|█████████▋| 80501/82690 [10:46:59<11:18:38, 18.60s/it]\u001b[A\n",
      " 97%|█████████▋| 80502/82690 [10:47:06<9:12:59, 15.16s/it] \u001b[A\n",
      " 97%|█████████▋| 80503/82690 [10:47:38<12:07:52, 19.97s/it]\u001b[A\n",
      " 97%|█████████▋| 80504/82690 [10:47:43<9:29:29, 15.63s/it] \u001b[A\n",
      " 97%|█████████▋| 80506/82690 [10:47:46<6:51:40, 11.31s/it]\u001b[A\n",
      " 97%|█████████▋| 80508/82690 [10:48:05<6:33:16, 10.81s/it]\u001b[A\n",
      " 97%|█████████▋| 80509/82690 [10:48:19<7:07:07, 11.75s/it]\u001b[A\n",
      " 97%|█████████▋| 80510/82690 [10:48:20<5:08:36,  8.49s/it]\u001b[A\n",
      " 97%|█████████▋| 80511/82690 [10:48:20<3:38:44,  6.02s/it]\u001b[A\n",
      " 97%|█████████▋| 80512/82690 [10:48:22<2:59:43,  4.95s/it]\u001b[A\n",
      " 97%|█████████▋| 80513/82690 [10:48:24<2:16:56,  3.77s/it]\u001b[A\n",
      " 97%|█████████▋| 80515/82690 [10:48:42<3:16:25,  5.42s/it]\u001b[A\n",
      " 97%|█████████▋| 80516/82690 [10:48:56<4:51:31,  8.05s/it]\u001b[A\n",
      " 97%|█████████▋| 80517/82690 [10:49:29<9:21:06, 15.49s/it]\u001b[A\n",
      " 97%|█████████▋| 80518/82690 [10:49:29<6:35:27, 10.92s/it]\u001b[A\n",
      " 97%|█████████▋| 80519/82690 [10:49:30<4:39:17,  7.72s/it]\u001b[A\n",
      " 97%|█████████▋| 80521/82690 [10:49:33<3:35:30,  5.96s/it]\u001b[A\n",
      " 97%|█████████▋| 80523/82690 [10:49:57<4:39:45,  7.75s/it]\u001b[A\n",
      " 97%|█████████▋| 80524/82690 [10:49:58<3:24:32,  5.67s/it]\u001b[A\n",
      " 97%|█████████▋| 80525/82690 [10:50:00<2:40:22,  4.44s/it]\u001b[A\n",
      " 97%|█████████▋| 80526/82690 [10:50:03<2:26:06,  4.05s/it]\u001b[A\n",
      " 97%|█████████▋| 80527/82690 [10:50:04<1:55:11,  3.20s/it]\u001b[A\n",
      " 97%|█████████▋| 80529/82690 [10:50:51<5:35:52,  9.33s/it]\u001b[A\n",
      " 97%|█████████▋| 80530/82690 [10:51:13<7:54:29, 13.18s/it]\u001b[A\n",
      " 97%|█████████▋| 80531/82690 [10:51:16<6:03:28, 10.10s/it]\u001b[A\n",
      " 97%|█████████▋| 80532/82690 [10:51:17<4:23:42,  7.33s/it]\u001b[A\n",
      " 97%|█████████▋| 80533/82690 [10:51:22<3:54:34,  6.52s/it]\u001b[A\n",
      " 97%|█████████▋| 80534/82690 [10:51:25<3:23:48,  5.67s/it]\u001b[A\n",
      " 97%|█████████▋| 80535/82690 [10:52:02<8:55:39, 14.91s/it]\u001b[A\n",
      " 97%|█████████▋| 80536/82690 [10:52:46<14:04:39, 23.53s/it]\u001b[A\n",
      " 97%|█████████▋| 80537/82690 [10:52:55<11:37:13, 19.43s/it]\u001b[A\n",
      " 97%|█████████▋| 80538/82690 [10:52:57<8:26:30, 14.12s/it] \u001b[A\n",
      " 97%|█████████▋| 80539/82690 [10:52:57<5:56:56,  9.96s/it]\u001b[A\n",
      " 97%|█████████▋| 80540/82690 [10:53:01<4:49:17,  8.07s/it]\u001b[A\n",
      " 97%|█████████▋| 80541/82690 [10:53:06<4:12:34,  7.05s/it]\u001b[A\n",
      " 97%|█████████▋| 80542/82690 [10:53:06<3:04:48,  5.16s/it]\u001b[A\n",
      " 97%|█████████▋| 80543/82690 [10:53:07<2:13:47,  3.74s/it]\u001b[A\n",
      " 97%|█████████▋| 80545/82690 [10:53:08<1:40:14,  2.80s/it]\u001b[A\n",
      " 97%|█████████▋| 80546/82690 [10:53:11<1:41:27,  2.84s/it]\u001b[A\n",
      " 97%|█████████▋| 80547/82690 [10:53:12<1:19:49,  2.23s/it]\u001b[A\n",
      " 97%|█████████▋| 80548/82690 [10:53:28<3:46:31,  6.35s/it]\u001b[A\n",
      " 97%|█████████▋| 80549/82690 [10:53:34<3:49:04,  6.42s/it]\u001b[A\n",
      " 97%|█████████▋| 80550/82690 [10:53:42<3:57:35,  6.66s/it]\u001b[A\n",
      " 97%|█████████▋| 80552/82690 [10:53:47<3:17:09,  5.53s/it]\u001b[A\n",
      " 97%|█████████▋| 80553/82690 [10:53:57<4:01:07,  6.77s/it]\u001b[A\n",
      " 97%|█████████▋| 80554/82690 [10:53:58<2:58:12,  5.01s/it]\u001b[A\n",
      " 97%|█████████▋| 80555/82690 [10:54:07<3:46:22,  6.36s/it]\u001b[A\n",
      " 97%|█████████▋| 80556/82690 [10:54:10<3:07:50,  5.28s/it]\u001b[A\n",
      " 97%|█████████▋| 80557/82690 [10:54:11<2:14:35,  3.79s/it]\u001b[A\n",
      " 97%|█████████▋| 80558/82690 [10:54:41<6:54:18, 11.66s/it]\u001b[A\n",
      " 97%|█████████▋| 80560/82690 [10:54:44<5:06:40,  8.64s/it]\u001b[A\n",
      " 97%|█████████▋| 80561/82690 [10:55:05<7:22:03, 12.46s/it]\u001b[A\n",
      " 97%|█████████▋| 80562/82690 [10:55:30<9:32:19, 16.14s/it]\u001b[A\n",
      " 97%|█████████▋| 80565/82690 [10:55:30<6:41:19, 11.33s/it]\u001b[A\n",
      " 97%|█████████▋| 80566/82690 [10:55:31<4:49:00,  8.16s/it]\u001b[A\n",
      " 97%|█████████▋| 80569/82690 [10:55:33<3:28:02,  5.89s/it]\u001b[A\n",
      " 97%|█████████▋| 80571/82690 [10:55:37<2:49:04,  4.79s/it]\u001b[A\n",
      " 97%|█████████▋| 80572/82690 [10:55:47<3:42:21,  6.30s/it]\u001b[A\n",
      " 97%|█████████▋| 80573/82690 [10:55:56<4:06:52,  7.00s/it]\u001b[A\n",
      " 97%|█████████▋| 80574/82690 [10:56:03<4:09:10,  7.07s/it]\u001b[A\n",
      " 97%|█████████▋| 80575/82690 [10:56:11<4:18:05,  7.32s/it]\u001b[A\n",
      " 97%|█████████▋| 80576/82690 [10:56:11<3:02:26,  5.18s/it]\u001b[A\n",
      " 97%|█████████▋| 80577/82690 [10:56:11<2:08:45,  3.66s/it]\u001b[A\n",
      " 97%|█████████▋| 80579/82690 [10:56:36<3:43:35,  6.35s/it]\u001b[A\n",
      " 97%|█████████▋| 80580/82690 [10:56:40<3:11:21,  5.44s/it]\u001b[A\n",
      " 97%|█████████▋| 80581/82690 [10:56:40<2:17:44,  3.92s/it]\u001b[A\n",
      " 97%|█████████▋| 80582/82690 [10:56:45<2:32:39,  4.35s/it]\u001b[A\n",
      " 97%|█████████▋| 80585/82690 [10:56:46<1:47:31,  3.07s/it]\u001b[A\n",
      " 97%|█████████▋| 80586/82690 [10:56:57<3:20:33,  5.72s/it]\u001b[A\n",
      " 97%|█████████▋| 80587/82690 [10:56:58<2:22:41,  4.07s/it]\u001b[A\n",
      " 97%|█████████▋| 80588/82690 [10:57:17<5:01:08,  8.60s/it]\u001b[A\n",
      " 97%|█████████▋| 80589/82690 [10:57:18<3:38:58,  6.25s/it]\u001b[A\n",
      " 97%|█████████▋| 80590/82690 [10:57:19<2:47:10,  4.78s/it]\u001b[A\n",
      " 97%|█████████▋| 80591/82690 [10:57:30<3:57:00,  6.78s/it]\u001b[A\n",
      " 97%|█████████▋| 80592/82690 [10:57:32<3:00:25,  5.16s/it]\u001b[A\n",
      " 97%|█████████▋| 80593/82690 [10:57:45<4:23:06,  7.53s/it]\u001b[A\n",
      " 97%|█████████▋| 80594/82690 [10:57:46<3:16:25,  5.62s/it]\u001b[A\n",
      " 97%|█████████▋| 80595/82690 [10:57:49<2:51:54,  4.92s/it]\u001b[A\n",
      " 97%|█████████▋| 80596/82690 [10:57:50<2:09:09,  3.70s/it]\u001b[A\n",
      " 97%|█████████▋| 80597/82690 [10:57:53<1:56:32,  3.34s/it]\u001b[A\n",
      " 97%|█████████▋| 80598/82690 [10:57:55<1:40:34,  2.88s/it]\u001b[A\n",
      " 97%|█████████▋| 80599/82690 [10:57:56<1:24:20,  2.42s/it]\u001b[A\n",
      " 97%|█████████▋| 80600/82690 [10:58:08<3:05:27,  5.32s/it]\u001b[A\n",
      " 97%|█████████▋| 80602/82690 [10:58:11<2:28:01,  4.25s/it]\u001b[A\n",
      " 97%|█████████▋| 80604/82690 [10:58:58<5:48:46, 10.03s/it]\u001b[A\n",
      " 97%|█████████▋| 80605/82690 [10:59:47<12:30:30, 21.60s/it]\u001b[A\n",
      " 97%|█████████▋| 80606/82690 [10:59:50<9:14:00, 15.95s/it] \u001b[A\n",
      " 97%|█████████▋| 80607/82690 [10:59:52<6:47:36, 11.74s/it]\u001b[A\n",
      " 97%|█████████▋| 80608/82690 [10:59:59<6:01:12, 10.41s/it]\u001b[A\n",
      " 97%|█████████▋| 80609/82690 [11:00:00<4:26:35,  7.69s/it]\u001b[A\n",
      " 97%|█████████▋| 80610/82690 [11:00:01<3:09:58,  5.48s/it]\u001b[A\n",
      " 97%|█████████▋| 80611/82690 [11:00:01<2:14:55,  3.89s/it]\u001b[A\n",
      " 97%|█████████▋| 80612/82690 [11:00:03<1:59:29,  3.45s/it]\u001b[A\n",
      " 97%|█████████▋| 80613/82690 [11:00:04<1:32:27,  2.67s/it]\u001b[A\n",
      " 97%|█████████▋| 80614/82690 [11:00:10<2:08:53,  3.73s/it]\u001b[A\n",
      " 97%|█████████▋| 80616/82690 [11:00:15<1:55:48,  3.35s/it]\u001b[A\n",
      " 97%|█████████▋| 80618/82690 [11:00:23<2:01:28,  3.52s/it]\u001b[A\n",
      " 97%|█████████▋| 80620/82690 [11:00:41<2:55:27,  5.09s/it]\u001b[A\n",
      " 97%|█████████▋| 80621/82690 [11:01:14<7:45:37, 13.50s/it]\u001b[A\n",
      " 97%|█████████▋| 80622/82690 [11:01:17<5:54:50, 10.30s/it]\u001b[A\n",
      " 98%|█████████▊| 80623/82690 [11:01:20<4:41:03,  8.16s/it]\u001b[A\n",
      " 98%|█████████▊| 80624/82690 [11:01:21<3:33:07,  6.19s/it]\u001b[A\n",
      " 98%|█████████▊| 80625/82690 [11:01:24<2:57:23,  5.15s/it]\u001b[A\n",
      " 98%|█████████▊| 80626/82690 [11:01:26<2:22:32,  4.14s/it]\u001b[A\n",
      " 98%|█████████▊| 80627/82690 [11:01:27<1:48:15,  3.15s/it]\u001b[A\n",
      " 98%|█████████▊| 80628/82690 [11:01:47<4:48:01,  8.38s/it]\u001b[A\n",
      " 98%|█████████▊| 80629/82690 [11:02:21<9:05:08, 15.87s/it]\u001b[A\n",
      " 98%|█████████▊| 80630/82690 [11:02:51<11:39:05, 20.36s/it]\u001b[A\n",
      " 98%|█████████▊| 80631/82690 [11:02:52<8:11:22, 14.32s/it] \u001b[A\n",
      " 98%|█████████▊| 80632/82690 [11:02:53<5:52:51, 10.29s/it]\u001b[A\n",
      " 98%|█████████▊| 80633/82690 [11:03:00<5:22:19,  9.40s/it]\u001b[A\n",
      " 98%|█████████▊| 80635/82690 [11:03:00<3:47:16,  6.64s/it]\u001b[A\n",
      " 98%|█████████▊| 80636/82690 [11:03:01<2:42:32,  4.75s/it]\u001b[A\n",
      " 98%|█████████▊| 80637/82690 [11:03:42<9:01:12, 15.82s/it]\u001b[A\n",
      " 98%|█████████▊| 80639/82690 [11:03:57<7:32:10, 13.23s/it]\u001b[A\n",
      " 98%|█████████▊| 80641/82690 [11:03:58<5:21:05,  9.40s/it]\u001b[A\n",
      " 98%|█████████▊| 80642/82690 [11:04:04<4:45:51,  8.37s/it]\u001b[A\n",
      " 98%|█████████▊| 80643/82690 [11:04:04<3:22:19,  5.93s/it]\u001b[A\n",
      " 98%|█████████▊| 80644/82690 [11:04:54<10:50:42, 19.08s/it]\u001b[A\n",
      " 98%|█████████▊| 80645/82690 [11:04:57<8:08:39, 14.34s/it] \u001b[A\n",
      " 98%|█████████▊| 80646/82690 [11:04:58<5:50:13, 10.28s/it]\u001b[A\n",
      " 98%|█████████▊| 80647/82690 [11:05:00<4:24:14,  7.76s/it]\u001b[A\n",
      " 98%|█████████▊| 80648/82690 [11:05:10<4:51:48,  8.57s/it]\u001b[A\n",
      " 98%|█████████▊| 80650/82690 [11:05:10<3:24:47,  6.02s/it]\u001b[A\n",
      " 98%|█████████▊| 80651/82690 [11:05:11<2:34:51,  4.56s/it]\u001b[A\n",
      " 98%|█████████▊| 80652/82690 [11:05:11<1:49:48,  3.23s/it]\u001b[A\n",
      " 98%|█████████▊| 80653/82690 [11:05:17<2:09:48,  3.82s/it]\u001b[A\n",
      " 98%|█████████▊| 80654/82690 [11:05:17<1:38:40,  2.91s/it]\u001b[A\n",
      " 98%|█████████▊| 80656/82690 [11:05:28<2:02:25,  3.61s/it]\u001b[A\n",
      " 98%|█████████▊| 80657/82690 [11:05:31<1:55:20,  3.40s/it]\u001b[A\n",
      " 98%|█████████▊| 80658/82690 [11:05:51<4:41:02,  8.30s/it]\u001b[A\n",
      " 98%|█████████▊| 80659/82690 [11:05:51<3:25:24,  6.07s/it]\u001b[A\n",
      " 98%|█████████▊| 80660/82690 [11:05:53<2:41:41,  4.78s/it]\u001b[A\n",
      " 98%|█████████▊| 80661/82690 [11:05:54<2:01:07,  3.58s/it]\u001b[A\n",
      " 98%|█████████▊| 80663/82690 [11:06:35<4:51:21,  8.62s/it]\u001b[A\n",
      " 98%|█████████▊| 80665/82690 [11:06:35<3:25:16,  6.08s/it]\u001b[A\n",
      " 98%|█████████▊| 80666/82690 [11:06:38<2:53:31,  5.14s/it]\u001b[A\n",
      " 98%|█████████▊| 80668/82690 [11:06:39<2:05:43,  3.73s/it]\u001b[A\n",
      " 98%|█████████▊| 80669/82690 [11:07:05<5:49:44, 10.38s/it]\u001b[A\n",
      " 98%|█████████▊| 80670/82690 [11:07:21<6:50:39, 12.20s/it]\u001b[A\n",
      " 98%|█████████▊| 80671/82690 [11:07:26<5:33:25,  9.91s/it]\u001b[A\n",
      " 98%|█████████▊| 80672/82690 [11:08:14<11:58:36, 21.37s/it]\u001b[A\n",
      " 98%|█████████▊| 80674/82690 [11:08:14<8:24:22, 15.01s/it] \u001b[A\n",
      " 98%|█████████▊| 80675/82690 [11:08:20<6:55:50, 12.38s/it]\u001b[A\n",
      " 98%|█████████▊| 80676/82690 [11:08:21<5:01:05,  8.97s/it]\u001b[A\n",
      " 98%|█████████▊| 80677/82690 [11:08:31<5:08:41,  9.20s/it]\u001b[A\n",
      " 98%|█████████▊| 80678/82690 [11:08:34<4:00:58,  7.19s/it]\u001b[A\n",
      " 98%|█████████▊| 80679/82690 [11:08:44<4:35:42,  8.23s/it]\u001b[A\n",
      " 98%|█████████▊| 80680/82690 [11:08:45<3:17:57,  5.91s/it]\u001b[A\n",
      " 98%|█████████▊| 80681/82690 [11:08:47<2:35:20,  4.64s/it]\u001b[A\n",
      " 98%|█████████▊| 80682/82690 [11:08:52<2:39:51,  4.78s/it]\u001b[A\n",
      " 98%|█████████▊| 80683/82690 [11:08:52<1:53:49,  3.40s/it]\u001b[A\n",
      " 98%|█████████▊| 80684/82690 [11:09:07<3:55:35,  7.05s/it]\u001b[A\n",
      " 98%|█████████▊| 80685/82690 [11:09:26<5:51:51, 10.53s/it]\u001b[A\n",
      " 98%|█████████▊| 80686/82690 [11:09:32<5:04:07,  9.11s/it]\u001b[A\n",
      " 98%|█████████▊| 80687/82690 [11:09:33<3:41:50,  6.65s/it]\u001b[A\n",
      " 98%|█████████▊| 80688/82690 [11:09:35<3:00:08,  5.40s/it]\u001b[A\n",
      " 98%|█████████▊| 80689/82690 [11:09:37<2:26:42,  4.40s/it]\u001b[A\n",
      " 98%|█████████▊| 80690/82690 [11:09:48<3:27:58,  6.24s/it]\u001b[A\n",
      " 98%|█████████▊| 80691/82690 [11:09:48<2:27:20,  4.42s/it]\u001b[A\n",
      " 98%|█████████▊| 80692/82690 [11:09:58<3:18:33,  5.96s/it]\u001b[A\n",
      " 98%|█████████▊| 80693/82690 [11:10:26<7:06:00, 12.80s/it]\u001b[A\n",
      " 98%|█████████▊| 80694/82690 [11:10:27<5:01:02,  9.05s/it]\u001b[A\n",
      " 98%|█████████▊| 80696/82690 [11:10:28<3:38:23,  6.57s/it]\u001b[A\n",
      " 98%|█████████▊| 80697/82690 [11:10:44<5:14:18,  9.46s/it]\u001b[A\n",
      " 98%|█████████▊| 80698/82690 [11:10:56<5:35:44, 10.11s/it]\u001b[A\n",
      " 98%|█████████▊| 80699/82690 [11:11:20<7:49:27, 14.15s/it]\u001b[A\n",
      " 98%|█████████▊| 80700/82690 [11:11:22<5:47:50, 10.49s/it]\u001b[A\n",
      " 98%|█████████▊| 80701/82690 [11:11:33<5:59:07, 10.83s/it]\u001b[A\n",
      " 98%|█████████▊| 80702/82690 [11:11:35<4:25:20,  8.01s/it]\u001b[A\n",
      " 98%|█████████▊| 80703/82690 [11:11:36<3:22:06,  6.10s/it]\u001b[A\n",
      " 98%|█████████▊| 80704/82690 [11:11:38<2:36:15,  4.72s/it]\u001b[A\n",
      " 98%|█████████▊| 80705/82690 [11:12:21<9:01:15, 16.36s/it]\u001b[A\n",
      " 98%|█████████▊| 80707/82690 [11:12:22<6:20:51, 11.52s/it]\u001b[A\n",
      " 98%|█████████▊| 80708/82690 [11:12:22<4:29:01,  8.14s/it]\u001b[A\n",
      " 98%|█████████▊| 80709/82690 [11:12:24<3:24:01,  6.18s/it]\u001b[A\n",
      " 98%|█████████▊| 80710/82690 [11:12:46<5:59:50, 10.90s/it]\u001b[A\n",
      " 98%|█████████▊| 80711/82690 [11:12:46<4:14:35,  7.72s/it]\u001b[A\n",
      " 98%|█████████▊| 80713/82690 [11:12:46<2:59:29,  5.45s/it]\u001b[A\n",
      " 98%|█████████▊| 80714/82690 [11:13:17<7:07:46, 12.99s/it]\u001b[A\n",
      " 98%|█████████▊| 80715/82690 [11:13:19<5:19:59,  9.72s/it]\u001b[A\n",
      " 98%|█████████▊| 80716/82690 [11:13:31<5:44:41, 10.48s/it]\u001b[A\n",
      " 98%|█████████▊| 80717/82690 [11:13:32<4:05:49,  7.48s/it]\u001b[A\n",
      " 98%|█████████▊| 80719/82690 [11:13:40<3:32:10,  6.46s/it]\u001b[A\n",
      " 98%|█████████▊| 80720/82690 [11:13:42<2:54:28,  5.31s/it]\u001b[A\n",
      " 98%|█████████▊| 80722/82690 [11:13:51<2:43:30,  4.99s/it]\u001b[A\n",
      " 98%|█████████▊| 80723/82690 [11:14:17<6:10:01, 11.29s/it]\u001b[A\n",
      " 98%|█████████▊| 80724/82690 [11:14:26<5:47:41, 10.61s/it]\u001b[A\n",
      " 98%|█████████▊| 80725/82690 [11:15:06<10:42:25, 19.62s/it]\u001b[A\n",
      " 98%|█████████▊| 80726/82690 [11:15:07<7:32:36, 13.83s/it] \u001b[A\n",
      " 98%|█████████▊| 80727/82690 [11:15:08<5:25:19,  9.94s/it]\u001b[A\n",
      " 98%|█████████▊| 80728/82690 [11:15:08<3:50:47,  7.06s/it]\u001b[A\n",
      " 98%|█████████▊| 80729/82690 [11:15:10<2:59:58,  5.51s/it]\u001b[A\n",
      " 98%|█████████▊| 80730/82690 [11:15:19<3:39:25,  6.72s/it]\u001b[A\n",
      " 98%|█████████▊| 80732/82690 [11:15:36<3:54:26,  7.18s/it]\u001b[A\n",
      " 98%|█████████▊| 80733/82690 [11:15:39<3:10:27,  5.84s/it]\u001b[A\n",
      " 98%|█████████▊| 80735/82690 [11:15:44<2:39:51,  4.91s/it]\u001b[A\n",
      " 98%|█████████▊| 80738/82690 [11:15:45<1:54:43,  3.53s/it]\u001b[A\n",
      " 98%|█████████▊| 80739/82690 [11:15:59<3:36:27,  6.66s/it]\u001b[A\n",
      " 98%|█████████▊| 80740/82690 [11:16:05<3:34:51,  6.61s/it]\u001b[A\n",
      " 98%|█████████▊| 80742/82690 [11:16:06<2:34:56,  4.77s/it]\u001b[A\n",
      " 98%|█████████▊| 80743/82690 [11:16:08<2:06:09,  3.89s/it]\u001b[A\n",
      " 98%|█████████▊| 80744/82690 [11:16:09<1:36:43,  2.98s/it]\u001b[A\n",
      " 98%|█████████▊| 80745/82690 [11:16:33<4:56:23,  9.14s/it]\u001b[A\n",
      " 98%|█████████▊| 80746/82690 [11:17:17<10:37:20, 19.67s/it]\u001b[A\n",
      " 98%|█████████▊| 80747/82690 [11:17:26<8:51:13, 16.40s/it] \u001b[A\n",
      " 98%|█████████▊| 80748/82690 [11:17:30<6:50:27, 12.68s/it]\u001b[A\n",
      " 98%|█████████▊| 80749/82690 [11:17:33<5:18:04,  9.83s/it]\u001b[A\n",
      " 98%|█████████▊| 80750/82690 [11:17:45<5:40:32, 10.53s/it]\u001b[A\n",
      " 98%|█████████▊| 80751/82690 [11:17:48<4:26:36,  8.25s/it]\u001b[A\n",
      " 98%|█████████▊| 80752/82690 [11:17:51<3:31:39,  6.55s/it]\u001b[A\n",
      " 98%|█████████▊| 80753/82690 [11:18:21<7:27:27, 13.86s/it]\u001b[A\n",
      " 98%|█████████▊| 80754/82690 [11:18:23<5:30:33, 10.24s/it]\u001b[A\n",
      " 98%|█████████▊| 80756/82690 [11:18:24<3:56:07,  7.33s/it]\u001b[A\n",
      " 98%|█████████▊| 80757/82690 [11:18:25<2:53:00,  5.37s/it]\u001b[A\n",
      " 98%|█████████▊| 80758/82690 [11:18:29<2:39:36,  4.96s/it]\u001b[A\n",
      " 98%|█████████▊| 80759/82690 [11:18:30<2:03:13,  3.83s/it]\u001b[A\n",
      " 98%|█████████▊| 80760/82690 [11:18:40<2:59:05,  5.57s/it]\u001b[A\n",
      " 98%|█████████▊| 80761/82690 [11:18:41<2:15:29,  4.21s/it]\u001b[A\n",
      " 98%|█████████▊| 80762/82690 [11:18:42<1:44:18,  3.25s/it]\u001b[A\n",
      " 98%|█████████▊| 80763/82690 [11:18:43<1:27:40,  2.73s/it]\u001b[A\n",
      " 98%|█████████▊| 80764/82690 [11:18:45<1:15:38,  2.36s/it]\u001b[A\n",
      " 98%|█████████▊| 80765/82690 [11:18:54<2:22:31,  4.44s/it]\u001b[A\n",
      " 98%|█████████▊| 80766/82690 [11:19:25<6:39:47, 12.47s/it]\u001b[A\n",
      " 98%|█████████▊| 80767/82690 [11:19:40<6:58:50, 13.07s/it]\u001b[A\n",
      " 98%|█████████▊| 80768/82690 [11:19:54<7:08:32, 13.38s/it]\u001b[A\n",
      " 98%|█████████▊| 80769/82690 [11:20:21<9:15:53, 17.36s/it]\u001b[A\n",
      " 98%|█████████▊| 80770/82690 [11:21:00<12:47:35, 23.99s/it]\u001b[A\n",
      " 98%|█████████▊| 80771/82690 [11:21:38<15:03:05, 28.24s/it]\u001b[A\n",
      " 98%|█████████▊| 80772/82690 [11:21:41<10:53:44, 20.45s/it]\u001b[A\n",
      " 98%|█████████▊| 80773/82690 [11:21:43<8:04:50, 15.18s/it] \u001b[A\n",
      " 98%|█████████▊| 80774/82690 [11:21:44<5:40:55, 10.68s/it]\u001b[A\n",
      " 98%|█████████▊| 80775/82690 [11:21:45<4:10:56,  7.86s/it]\u001b[A\n",
      " 98%|█████████▊| 80776/82690 [11:22:26<9:26:55, 17.77s/it]\u001b[A\n"
     ]
    },
    {
     "name": "stderr",
     "output_type": "stream",
     "text": [
      " 98%|█████████▊| 80777/82690 [11:22:28<6:56:59, 13.08s/it]\u001b[A\n",
      " 98%|█████████▊| 80778/82690 [11:22:29<4:59:54,  9.41s/it]\u001b[A\n",
      " 98%|█████████▊| 80779/82690 [11:22:31<3:49:17,  7.20s/it]\u001b[A\n",
      " 98%|█████████▊| 80780/82690 [11:22:31<2:44:47,  5.18s/it]\u001b[A\n",
      " 98%|█████████▊| 80781/82690 [11:22:35<2:31:05,  4.75s/it]\u001b[A\n",
      " 98%|█████████▊| 80782/82690 [11:22:35<1:47:38,  3.38s/it]\u001b[A\n",
      " 98%|█████████▊| 80783/82690 [11:23:10<6:47:38, 12.83s/it]\u001b[A\n",
      " 98%|█████████▊| 80784/82690 [11:23:11<4:53:05,  9.23s/it]\u001b[A\n",
      " 98%|█████████▊| 80786/82690 [11:23:12<3:28:31,  6.57s/it]\u001b[A\n",
      " 98%|█████████▊| 80787/82690 [11:23:23<4:17:28,  8.12s/it]\u001b[A\n",
      " 98%|█████████▊| 80789/82690 [11:23:24<3:00:55,  5.71s/it]\u001b[A\n",
      " 98%|█████████▊| 80790/82690 [11:23:42<5:01:49,  9.53s/it]\u001b[A\n",
      " 98%|█████████▊| 80791/82690 [11:23:47<4:15:18,  8.07s/it]\u001b[A\n",
      " 98%|█████████▊| 80792/82690 [11:24:19<8:07:40, 15.42s/it]\u001b[A\n",
      " 98%|█████████▊| 80793/82690 [11:24:19<5:42:43, 10.84s/it]\u001b[A\n",
      " 98%|█████████▊| 80794/82690 [11:24:20<4:07:17,  7.83s/it]\u001b[A\n",
      " 98%|█████████▊| 80795/82690 [11:25:12<11:07:02, 21.12s/it]\u001b[A\n",
      " 98%|█████████▊| 80796/82690 [11:25:19<8:52:43, 16.88s/it] \u001b[A\n",
      " 98%|█████████▊| 80797/82690 [11:25:24<6:56:35, 13.20s/it]\u001b[A\n",
      " 98%|█████████▊| 80798/82690 [11:25:49<8:46:51, 16.71s/it]\u001b[A\n",
      " 98%|█████████▊| 80799/82690 [11:25:51<6:25:38, 12.24s/it]\u001b[A\n",
      " 98%|█████████▊| 80801/82690 [11:25:51<4:31:09,  8.61s/it]\u001b[A\n",
      " 98%|█████████▊| 80802/82690 [11:26:09<5:56:19, 11.32s/it]\u001b[A\n",
      " 98%|█████████▊| 80803/82690 [11:26:11<4:29:13,  8.56s/it]\u001b[A\n",
      " 98%|█████████▊| 80804/82690 [11:26:11<3:10:39,  6.07s/it]\u001b[A\n",
      " 98%|█████████▊| 80808/82690 [11:26:19<2:32:16,  4.85s/it]\u001b[A\n",
      " 98%|█████████▊| 80809/82690 [11:26:31<3:39:22,  7.00s/it]\u001b[A\n",
      " 98%|█████████▊| 80810/82690 [11:27:02<7:25:42, 14.22s/it]\u001b[A\n",
      " 98%|█████████▊| 80811/82690 [11:27:02<5:14:14, 10.03s/it]\u001b[A\n",
      " 98%|█████████▊| 80812/82690 [11:27:05<4:05:05,  7.83s/it]\u001b[A\n",
      " 98%|█████████▊| 80813/82690 [11:27:05<2:52:52,  5.53s/it]\u001b[A\n",
      " 98%|█████████▊| 80814/82690 [11:27:07<2:17:36,  4.40s/it]\u001b[A\n",
      " 98%|█████████▊| 80815/82690 [11:27:10<2:08:06,  4.10s/it]\u001b[A\n",
      " 98%|█████████▊| 80816/82690 [11:28:15<11:30:48, 22.12s/it]\u001b[A\n",
      " 98%|█████████▊| 80817/82690 [11:28:15<8:06:22, 15.58s/it] \u001b[A\n",
      " 98%|█████████▊| 80818/82690 [11:28:15<5:43:08, 11.00s/it]\u001b[A\n",
      " 98%|█████████▊| 80819/82690 [11:28:17<4:15:57,  8.21s/it]\u001b[A\n",
      " 98%|█████████▊| 80820/82690 [11:28:31<5:09:45,  9.94s/it]\u001b[A\n",
      " 98%|█████████▊| 80821/82690 [11:28:33<3:57:41,  7.63s/it]\u001b[A\n",
      " 98%|█████████▊| 80822/82690 [11:28:40<3:53:56,  7.51s/it]\u001b[A\n",
      " 98%|█████████▊| 80823/82690 [11:28:41<2:52:55,  5.56s/it]\u001b[A\n",
      " 98%|█████████▊| 80824/82690 [11:29:14<7:03:25, 13.61s/it]\u001b[A\n",
      " 98%|█████████▊| 80825/82690 [11:29:15<5:09:16,  9.95s/it]\u001b[A\n",
      " 98%|█████████▊| 80826/82690 [11:29:25<5:06:26,  9.86s/it]\u001b[A\n",
      " 98%|█████████▊| 80827/82690 [11:29:28<4:04:51,  7.89s/it]\u001b[A\n",
      " 98%|█████████▊| 80829/82690 [11:29:30<2:58:29,  5.75s/it]\u001b[A\n",
      " 98%|█████████▊| 80830/82690 [11:29:59<6:38:28, 12.85s/it]\u001b[A\n",
      " 98%|█████████▊| 80831/82690 [11:30:21<8:01:39, 15.55s/it]\u001b[A\n",
      " 98%|█████████▊| 80832/82690 [11:30:26<6:27:12, 12.50s/it]\u001b[A\n",
      " 98%|█████████▊| 80833/82690 [11:30:27<4:38:23,  9.00s/it]\u001b[A\n",
      " 98%|█████████▊| 80835/82690 [11:31:00<5:46:30, 11.21s/it]\u001b[A\n",
      " 98%|█████████▊| 80836/82690 [11:31:51<11:52:17, 23.05s/it]\u001b[A\n",
      " 98%|█████████▊| 80838/82690 [11:31:59<8:57:12, 17.40s/it] \u001b[A\n",
      " 98%|█████████▊| 80839/82690 [11:32:13<8:23:57, 16.34s/it]\u001b[A\n",
      " 98%|█████████▊| 80840/82690 [11:32:49<11:24:09, 22.19s/it]\u001b[A\n",
      " 98%|█████████▊| 80841/82690 [11:32:56<9:03:44, 17.64s/it] \u001b[A\n",
      " 98%|█████████▊| 80843/82690 [11:33:44<10:03:33, 19.61s/it]\u001b[A\n",
      " 98%|█████████▊| 80845/82690 [11:33:44<7:03:43, 13.78s/it] \u001b[A\n",
      " 98%|█████████▊| 80846/82690 [11:33:48<5:26:59, 10.64s/it]\u001b[A\n",
      " 98%|█████████▊| 80847/82690 [11:33:51<4:20:48,  8.49s/it]\u001b[A\n",
      " 98%|█████████▊| 80848/82690 [11:34:22<7:49:14, 15.28s/it]\u001b[A\n",
      " 98%|█████████▊| 80849/82690 [11:34:24<5:42:06, 11.15s/it]\u001b[A\n",
      " 98%|█████████▊| 80850/82690 [11:35:02<9:51:00, 19.27s/it]\u001b[A\n",
      " 98%|█████████▊| 80851/82690 [11:35:11<8:15:48, 16.18s/it]\u001b[A\n",
      " 98%|█████████▊| 80852/82690 [11:35:11<5:49:06, 11.40s/it]\u001b[A\n",
      " 98%|█████████▊| 80853/82690 [11:35:37<7:59:42, 15.67s/it]\u001b[A\n",
      " 98%|█████████▊| 80854/82690 [11:35:39<5:50:06, 11.44s/it]\u001b[A\n",
      " 98%|█████████▊| 80855/82690 [11:35:53<6:19:47, 12.42s/it]\u001b[A\n",
      " 98%|█████████▊| 80856/82690 [11:36:18<8:11:25, 16.08s/it]\u001b[A\n",
      " 98%|█████████▊| 80857/82690 [11:36:28<7:12:53, 14.17s/it]\u001b[A\n",
      " 98%|█████████▊| 80859/82690 [11:36:28<5:03:14,  9.94s/it]\u001b[A\n",
      " 98%|█████████▊| 80862/82690 [11:36:30<3:40:28,  7.24s/it]\u001b[A\n",
      " 98%|█████████▊| 80863/82690 [11:36:41<4:07:56,  8.14s/it]\u001b[A\n",
      " 98%|█████████▊| 80864/82690 [11:36:51<4:28:34,  8.83s/it]\u001b[A\n",
      " 98%|█████████▊| 80865/82690 [11:37:09<5:47:42, 11.43s/it]\u001b[A\n",
      " 98%|█████████▊| 80866/82690 [11:37:10<4:11:16,  8.27s/it]\u001b[A\n",
      " 98%|█████████▊| 80867/82690 [11:37:11<3:06:12,  6.13s/it]\u001b[A\n",
      " 98%|█████████▊| 80868/82690 [11:37:15<2:51:55,  5.66s/it]\u001b[A\n",
      " 98%|█████████▊| 80869/82690 [11:37:20<2:40:59,  5.30s/it]\u001b[A\n",
      " 98%|█████████▊| 80870/82690 [11:37:26<2:47:42,  5.53s/it]\u001b[A\n",
      " 98%|█████████▊| 80871/82690 [11:37:32<2:50:15,  5.62s/it]\u001b[A\n",
      " 98%|█████████▊| 80872/82690 [11:37:35<2:26:42,  4.84s/it]\u001b[A\n",
      " 98%|█████████▊| 80873/82690 [11:38:22<8:54:55, 17.66s/it]\u001b[A\n",
      " 98%|█████████▊| 80874/82690 [11:38:33<7:49:29, 15.51s/it]\u001b[A\n",
      " 98%|█████████▊| 80875/82690 [11:38:34<5:36:14, 11.12s/it]\u001b[A\n",
      " 98%|█████████▊| 80878/82690 [11:38:36<4:02:20,  8.02s/it]\u001b[A\n",
      " 98%|█████████▊| 80882/82690 [11:38:36<2:49:31,  5.63s/it]\u001b[A\n",
      " 98%|█████████▊| 80884/82690 [11:38:50<3:00:52,  6.01s/it]\u001b[A\n",
      " 98%|█████████▊| 80886/82690 [11:39:00<2:50:51,  5.68s/it]\u001b[A\n",
      " 98%|█████████▊| 80887/82690 [11:39:08<3:11:41,  6.38s/it]\u001b[A\n",
      " 98%|█████████▊| 80888/82690 [11:39:12<2:49:17,  5.64s/it]\u001b[A\n",
      " 98%|█████████▊| 80890/82690 [11:39:27<3:05:20,  6.18s/it]\u001b[A\n",
      " 98%|█████████▊| 80894/82690 [11:39:30<2:17:37,  4.60s/it]\u001b[A\n",
      " 98%|█████████▊| 80895/82690 [11:39:40<3:04:08,  6.15s/it]\u001b[A\n",
      " 98%|█████████▊| 80896/82690 [11:39:41<2:18:21,  4.63s/it]\u001b[A\n",
      " 98%|█████████▊| 80897/82690 [11:39:46<2:25:20,  4.86s/it]\u001b[A\n",
      " 98%|█████████▊| 80898/82690 [11:39:58<3:24:14,  6.84s/it]\u001b[A\n",
      " 98%|█████████▊| 80899/82690 [11:40:31<7:22:49, 14.84s/it]\u001b[A\n",
      " 98%|█████████▊| 80901/82690 [11:40:32<5:11:39, 10.45s/it]\u001b[A\n",
      " 98%|█████████▊| 80902/82690 [11:40:34<3:59:25,  8.03s/it]\u001b[A\n",
      " 98%|█████████▊| 80903/82690 [11:40:36<3:05:47,  6.24s/it]\u001b[A\n",
      " 98%|█████████▊| 80904/82690 [11:40:37<2:16:35,  4.59s/it]\u001b[A\n",
      " 98%|█████████▊| 80905/82690 [11:40:44<2:34:40,  5.20s/it]\u001b[A\n",
      " 98%|█████████▊| 80906/82690 [11:40:51<2:52:41,  5.81s/it]\u001b[A\n",
      " 98%|█████████▊| 80907/82690 [11:40:55<2:40:06,  5.39s/it]\u001b[A\n",
      " 98%|█████████▊| 80908/82690 [11:40:56<2:01:54,  4.10s/it]\u001b[A\n",
      " 98%|█████████▊| 80909/82690 [11:41:31<6:36:47, 13.37s/it]\u001b[A\n",
      " 98%|█████████▊| 80911/82690 [11:41:33<4:43:56,  9.58s/it]\u001b[A\n",
      " 98%|█████████▊| 80913/82690 [11:41:35<3:27:22,  7.00s/it]\u001b[A\n",
      " 98%|█████████▊| 80914/82690 [11:42:23<9:33:42, 19.38s/it]\u001b[A\n",
      " 98%|█████████▊| 80915/82690 [11:42:55<11:26:11, 23.19s/it]\u001b[A\n",
      " 98%|█████████▊| 80916/82690 [11:43:07<9:44:21, 19.76s/it] \u001b[A\n",
      " 98%|█████████▊| 80917/82690 [11:44:00<14:36:13, 29.65s/it]\u001b[A\n",
      " 98%|█████████▊| 80918/82690 [11:44:01<10:21:55, 21.06s/it]\u001b[A\n",
      " 98%|█████████▊| 80919/82690 [11:44:05<7:54:47, 16.09s/it] \u001b[A\n",
      " 98%|█████████▊| 80920/82690 [11:44:06<5:39:33, 11.51s/it]\u001b[A\n",
      " 98%|█████████▊| 80923/82690 [11:44:34<5:18:23, 10.81s/it]\u001b[A\n",
      " 98%|█████████▊| 80924/82690 [11:44:44<5:14:35, 10.69s/it]\u001b[A\n",
      " 98%|█████████▊| 80925/82690 [11:44:58<5:39:54, 11.56s/it]\u001b[A\n",
      " 98%|█████████▊| 80926/82690 [11:45:00<4:21:15,  8.89s/it]\u001b[A\n",
      " 98%|█████████▊| 80927/82690 [11:45:06<3:53:46,  7.96s/it]\u001b[A\n",
      " 98%|█████████▊| 80929/82690 [11:45:24<4:01:35,  8.23s/it]\u001b[A\n",
      " 98%|█████████▊| 80931/82690 [11:45:40<4:01:55,  8.25s/it]\u001b[A\n",
      " 98%|█████████▊| 80932/82690 [11:45:47<3:43:29,  7.63s/it]\u001b[A\n",
      " 98%|█████████▊| 80933/82690 [11:45:47<2:39:28,  5.45s/it]\u001b[A\n",
      " 98%|█████████▊| 80934/82690 [11:45:49<2:06:50,  4.33s/it]\u001b[A\n",
      " 98%|█████████▊| 80935/82690 [11:45:49<1:32:10,  3.15s/it]\u001b[A\n",
      " 98%|█████████▊| 80936/82690 [11:45:52<1:30:13,  3.09s/it]\u001b[A\n",
      " 98%|█████████▊| 80939/82690 [11:46:11<1:57:47,  4.04s/it]\u001b[A\n",
      " 98%|█████████▊| 80940/82690 [11:46:17<2:16:08,  4.67s/it]\u001b[A\n",
      " 98%|█████████▊| 80941/82690 [11:46:17<1:38:14,  3.37s/it]\u001b[A\n",
      " 98%|█████████▊| 80943/82690 [11:46:19<1:14:54,  2.57s/it]\u001b[A\n",
      " 98%|█████████▊| 80945/82690 [11:46:22<1:05:31,  2.25s/it]\u001b[A\n",
      " 98%|█████████▊| 80946/82690 [11:46:29<1:53:14,  3.90s/it]\u001b[A\n",
      " 98%|█████████▊| 80947/82690 [11:46:33<1:52:38,  3.88s/it]\u001b[A\n",
      " 98%|█████████▊| 80948/82690 [11:46:37<1:51:10,  3.83s/it]\u001b[A\n",
      " 98%|█████████▊| 80949/82690 [11:46:39<1:39:24,  3.43s/it]\u001b[A\n",
      " 98%|█████████▊| 80951/82690 [11:47:26<4:31:48,  9.38s/it]\u001b[A\n",
      " 98%|█████████▊| 80952/82690 [11:47:28<3:24:36,  7.06s/it]\u001b[A\n",
      " 98%|█████████▊| 80953/82690 [11:47:44<4:42:38,  9.76s/it]\u001b[A\n",
      " 98%|█████████▊| 80954/82690 [11:47:50<4:09:05,  8.61s/it]\u001b[A\n",
      " 98%|█████████▊| 80955/82690 [11:47:50<3:01:10,  6.27s/it]\u001b[A\n",
      " 98%|█████████▊| 80956/82690 [11:48:02<3:48:57,  7.92s/it]\u001b[A\n",
      " 98%|█████████▊| 80957/82690 [11:48:08<3:27:12,  7.17s/it]\u001b[A\n",
      " 98%|█████████▊| 80958/82690 [11:49:00<9:56:14, 20.65s/it]\u001b[A\n",
      " 98%|█████████▊| 80960/82690 [11:49:19<8:20:12, 17.35s/it]\u001b[A\n",
      " 98%|█████████▊| 80961/82690 [11:49:35<8:07:42, 16.92s/it]\u001b[A\n",
      " 98%|█████████▊| 80962/82690 [11:49:36<5:52:12, 12.23s/it]\u001b[A\n",
      " 98%|█████████▊| 80963/82690 [11:49:39<4:34:34,  9.54s/it]\u001b[A\n",
      " 98%|█████████▊| 80964/82690 [11:49:40<3:14:15,  6.75s/it]\u001b[A\n",
      " 98%|█████████▊| 80965/82690 [11:49:40<2:19:34,  4.85s/it]\u001b[A\n",
      " 98%|█████████▊| 80966/82690 [11:49:40<1:39:42,  3.47s/it]\u001b[A\n",
      " 98%|█████████▊| 80967/82690 [11:49:44<1:38:58,  3.45s/it]\u001b[A\n",
      " 98%|█████████▊| 80968/82690 [11:49:47<1:34:09,  3.28s/it]\u001b[A\n",
      " 98%|█████████▊| 80969/82690 [11:49:47<1:07:19,  2.35s/it]\u001b[A\n",
      " 98%|█████████▊| 80970/82690 [11:50:06<3:28:23,  7.27s/it]\u001b[A\n",
      " 98%|█████████▊| 80973/82690 [11:50:07<2:30:35,  5.26s/it]\u001b[A\n",
      " 98%|█████████▊| 80974/82690 [11:50:08<1:47:56,  3.77s/it]\u001b[A\n",
      " 98%|█████████▊| 80975/82690 [11:50:38<5:37:17, 11.80s/it]\u001b[A\n",
      " 98%|█████████▊| 80976/82690 [11:51:01<7:13:54, 15.19s/it]\u001b[A\n",
      " 98%|█████████▊| 80977/82690 [11:51:01<5:05:25, 10.70s/it]\u001b[A\n",
      " 98%|█████████▊| 80978/82690 [11:51:11<4:55:27, 10.35s/it]\u001b[A\n",
      " 98%|█████████▊| 80979/82690 [11:51:42<7:52:34, 16.57s/it]\u001b[A\n",
      " 98%|█████████▊| 80981/82690 [11:51:56<6:31:26, 13.74s/it]\u001b[A\n",
      " 98%|█████████▊| 80982/82690 [11:52:03<5:32:03, 11.66s/it]\u001b[A\n",
      " 98%|█████████▊| 80983/82690 [11:52:09<4:40:31,  9.86s/it]\u001b[A\n",
      " 98%|█████████▊| 80984/82690 [11:52:12<3:43:12,  7.85s/it]\u001b[A\n",
      " 98%|█████████▊| 80985/82690 [11:52:17<3:18:45,  6.99s/it]\u001b[A\n",
      " 98%|█████████▊| 80986/82690 [11:52:21<2:55:09,  6.17s/it]\u001b[A\n",
      " 98%|█████████▊| 80987/82690 [11:52:35<4:03:39,  8.58s/it]\u001b[A\n",
      " 98%|█████████▊| 80990/82690 [11:52:56<3:48:21,  8.06s/it]\u001b[A\n",
      " 98%|█████████▊| 80991/82690 [11:53:24<6:42:14, 14.21s/it]\u001b[A\n",
      " 98%|█████████▊| 80993/82690 [11:53:25<4:42:17,  9.98s/it]\u001b[A\n",
      " 98%|█████████▊| 80994/82690 [11:53:26<3:26:34,  7.31s/it]\u001b[A\n",
      " 98%|█████████▊| 80995/82690 [11:53:49<5:44:16, 12.19s/it]\u001b[A\n",
      " 98%|█████████▊| 80997/82690 [11:53:50<4:04:43,  8.67s/it]\u001b[A\n",
      " 98%|█████████▊| 80998/82690 [11:53:51<2:54:40,  6.19s/it]\u001b[A\n",
      " 98%|█████████▊| 80999/82690 [11:54:06<4:13:43,  9.00s/it]\u001b[A\n",
      " 98%|█████████▊| 81001/82690 [11:54:09<3:10:07,  6.75s/it]\u001b[A\n",
      " 98%|█████████▊| 81002/82690 [11:54:11<2:23:20,  5.10s/it]\u001b[A\n",
      " 98%|█████████▊| 81003/82690 [11:54:31<4:35:10,  9.79s/it]\u001b[A\n",
      " 98%|█████████▊| 81004/82690 [11:54:34<3:33:48,  7.61s/it]\u001b[A\n",
      " 98%|█████████▊| 81005/82690 [11:54:49<4:39:26,  9.95s/it]\u001b[A\n",
      " 98%|█████████▊| 81006/82690 [11:54:49<3:17:53,  7.05s/it]\u001b[A\n",
      " 98%|█████████▊| 81007/82690 [11:55:05<4:25:44,  9.47s/it]\u001b[A\n",
      " 98%|█████████▊| 81008/82690 [11:55:08<3:35:48,  7.70s/it]\u001b[A\n",
      " 98%|█████████▊| 81009/82690 [11:55:42<7:13:52, 15.49s/it]\u001b[A\n",
      " 98%|█████████▊| 81010/82690 [11:55:46<5:39:31, 12.13s/it]\u001b[A\n",
      " 98%|█████████▊| 81011/82690 [11:55:47<4:07:59,  8.86s/it]\u001b[A\n",
      " 98%|█████████▊| 81012/82690 [11:55:54<3:52:56,  8.33s/it]\u001b[A\n",
      " 98%|█████████▊| 81013/82690 [11:56:39<9:00:37, 19.34s/it]\u001b[A\n",
      " 98%|█████████▊| 81014/82690 [11:57:15<11:19:17, 24.32s/it]\u001b[A\n",
      " 98%|█████████▊| 81015/82690 [11:57:18<8:19:35, 17.90s/it] \u001b[A\n",
      " 98%|█████████▊| 81016/82690 [11:57:20<6:05:28, 13.10s/it]\u001b[A\n",
      " 98%|█████████▊| 81017/82690 [11:57:23<4:39:05, 10.01s/it]\u001b[A\n",
      " 98%|█████████▊| 81020/82690 [11:57:26<3:24:19,  7.34s/it]\u001b[A\n",
      " 98%|█████████▊| 81021/82690 [11:57:30<2:50:02,  6.11s/it]\u001b[A\n",
      " 98%|█████████▊| 81022/82690 [11:57:48<4:28:28,  9.66s/it]\u001b[A\n",
      " 98%|█████████▊| 81023/82690 [11:58:01<5:03:53, 10.94s/it]\u001b[A\n",
      " 98%|█████████▊| 81024/82690 [11:58:03<3:49:13,  8.26s/it]\u001b[A\n",
      " 98%|█████████▊| 81025/82690 [11:58:44<8:17:58, 17.94s/it]\u001b[A\n",
      " 98%|█████████▊| 81026/82690 [11:58:51<6:47:21, 14.69s/it]\u001b[A\n",
      " 98%|█████████▊| 81027/82690 [11:59:17<8:17:44, 17.96s/it]\u001b[A\n",
      " 98%|█████████▊| 81028/82690 [11:59:21<6:26:17, 13.95s/it]\u001b[A\n",
      " 98%|█████████▊| 81029/82690 [11:59:23<4:41:24, 10.17s/it]\u001b[A\n",
      " 98%|█████████▊| 81030/82690 [11:59:24<3:26:46,  7.47s/it]\u001b[A\n",
      " 98%|█████████▊| 81031/82690 [11:59:48<5:47:18, 12.56s/it]\u001b[A\n",
      " 98%|█████████▊| 81032/82690 [12:00:02<5:57:25, 12.93s/it]\u001b[A\n",
      " 98%|█████████▊| 81033/82690 [12:00:02<4:13:02,  9.16s/it]\u001b[A\n",
      " 98%|█████████▊| 81035/82690 [12:00:05<3:07:56,  6.81s/it]\u001b[A\n",
      " 98%|█████████▊| 81036/82690 [12:00:05<2:13:32,  4.84s/it]\u001b[A\n",
      " 98%|█████████▊| 81037/82690 [12:00:09<2:07:14,  4.62s/it]\u001b[A\n",
      " 98%|█████████▊| 81038/82690 [12:00:19<2:51:07,  6.22s/it]\u001b[A\n",
      " 98%|█████████▊| 81039/82690 [12:00:22<2:17:51,  5.01s/it]\u001b[A\n",
      " 98%|█████████▊| 81040/82690 [12:01:04<7:23:17, 16.12s/it]\u001b[A\n",
      " 98%|█████████▊| 81042/82690 [12:02:15<10:04:55, 22.02s/it]\u001b[A\n",
      " 98%|█████████▊| 81046/82690 [12:02:53<8:20:11, 18.25s/it] \u001b[A\n",
      " 98%|█████████▊| 81047/82690 [12:02:54<6:00:50, 13.18s/it]\u001b[A\n",
      " 98%|█████████▊| 81048/82690 [12:03:01<5:06:13, 11.19s/it]\u001b[A\n",
      " 98%|█████████▊| 81049/82690 [12:03:03<3:54:51,  8.59s/it]\u001b[A\n",
      " 98%|█████████▊| 81050/82690 [12:03:15<4:22:21,  9.60s/it]\u001b[A\n",
      " 98%|█████████▊| 81052/82690 [12:03:52<5:33:06, 12.20s/it]\u001b[A\n",
      " 98%|█████████▊| 81053/82690 [12:03:53<3:59:22,  8.77s/it]\u001b[A\n",
      " 98%|█████████▊| 81054/82690 [12:04:47<10:12:43, 22.47s/it]\u001b[A\n",
      " 98%|█████████▊| 81055/82690 [12:05:01<9:02:40, 19.91s/it] \u001b[A\n",
      " 98%|█████████▊| 81056/82690 [12:05:01<6:21:55, 14.02s/it]\u001b[A\n",
      " 98%|█████████▊| 81057/82690 [12:05:26<7:44:24, 17.06s/it]\u001b[A\n",
      " 98%|█████████▊| 81058/82690 [12:06:05<10:48:12, 23.83s/it]\u001b[A\n",
      " 98%|█████████▊| 81059/82690 [12:06:07<7:45:34, 17.13s/it] \u001b[A\n",
      " 98%|█████████▊| 81060/82690 [12:06:20<7:16:15, 16.06s/it]\u001b[A\n",
      " 98%|█████████▊| 81061/82690 [12:06:22<5:16:33, 11.66s/it]\u001b[A\n",
      " 98%|█████████▊| 81062/82690 [12:06:51<7:37:31, 16.86s/it]\u001b[A\n",
      " 98%|█████████▊| 81063/82690 [12:06:52<5:28:21, 12.11s/it]\u001b[A\n",
      " 98%|█████████▊| 81064/82690 [12:06:53<3:57:31,  8.76s/it]\u001b[A\n",
      " 98%|█████████▊| 81066/82690 [12:06:55<2:56:53,  6.54s/it]\u001b[A\n",
      " 98%|█████████▊| 81067/82690 [12:07:01<2:50:53,  6.32s/it]\u001b[A\n",
      " 98%|█████████▊| 81069/82690 [12:07:27<3:42:52,  8.25s/it]\u001b[A\n",
      " 98%|█████████▊| 81070/82690 [12:07:27<2:38:05,  5.86s/it]\u001b[A\n",
      " 98%|█████████▊| 81071/82690 [12:07:33<2:37:46,  5.85s/it]\u001b[A\n",
      " 98%|█████████▊| 81072/82690 [12:07:39<2:41:43,  6.00s/it]\u001b[A\n",
      " 98%|█████████▊| 81073/82690 [12:07:40<2:03:25,  4.58s/it]\u001b[A\n",
      " 98%|█████████▊| 81074/82690 [12:07:51<2:53:31,  6.44s/it]\u001b[A\n",
      " 98%|█████████▊| 81075/82690 [12:07:52<2:08:26,  4.77s/it]\u001b[A\n",
      " 98%|█████████▊| 81077/82690 [12:08:03<2:13:08,  4.95s/it]\u001b[A\n",
      " 98%|█████████▊| 81078/82690 [12:08:04<1:44:19,  3.88s/it]\u001b[A\n",
      " 98%|█████████▊| 81079/82690 [12:08:09<1:55:49,  4.31s/it]\u001b[A\n",
      " 98%|█████████▊| 81080/82690 [12:08:11<1:37:40,  3.64s/it]\u001b[A\n",
      " 98%|█████████▊| 81081/82690 [12:08:27<3:13:08,  7.20s/it]\u001b[A\n",
      " 98%|█████████▊| 81083/82690 [12:08:29<2:24:58,  5.41s/it]\u001b[A\n",
      " 98%|█████████▊| 81084/82690 [12:08:50<4:22:42,  9.81s/it]\u001b[A\n",
      " 98%|█████████▊| 81085/82690 [12:08:50<3:10:05,  7.11s/it]\u001b[A\n",
      " 98%|█████████▊| 81086/82690 [12:09:00<3:28:03,  7.78s/it]\u001b[A\n",
      " 98%|█████████▊| 81087/82690 [12:09:30<6:27:27, 14.50s/it]\u001b[A\n",
      " 98%|█████████▊| 81089/82690 [12:09:30<4:32:45, 10.22s/it]\u001b[A\n",
      " 98%|█████████▊| 81090/82690 [12:09:43<4:49:57, 10.87s/it]\u001b[A\n",
      " 98%|█████████▊| 81092/82690 [12:09:44<3:27:42,  7.80s/it]\u001b[A\n",
      " 98%|█████████▊| 81093/82690 [12:09:45<2:34:12,  5.79s/it]\u001b[A\n",
      " 98%|█████████▊| 81094/82690 [12:10:54<10:55:43, 24.65s/it]\u001b[A\n",
      " 98%|█████████▊| 81097/82690 [12:10:55<7:40:29, 17.34s/it] \u001b[A\n",
      " 98%|█████████▊| 81099/82690 [12:11:06<6:07:59, 13.88s/it]\u001b[A\n",
      " 98%|█████████▊| 81100/82690 [12:11:07<4:19:39,  9.80s/it]\u001b[A\n",
      " 98%|█████████▊| 81101/82690 [12:11:21<4:56:24, 11.19s/it]\u001b[A\n"
     ]
    },
    {
     "name": "stderr",
     "output_type": "stream",
     "text": [
      " 98%|█████████▊| 81102/82690 [12:11:21<3:29:10,  7.90s/it]\u001b[A\n",
      " 98%|█████████▊| 81103/82690 [12:11:33<4:01:24,  9.13s/it]\u001b[A\n",
      " 98%|█████████▊| 81104/82690 [12:11:52<5:16:34, 11.98s/it]\u001b[A\n",
      " 98%|█████████▊| 81105/82690 [12:11:53<3:49:36,  8.69s/it]\u001b[A\n",
      " 98%|█████████▊| 81106/82690 [12:11:54<2:48:17,  6.37s/it]\u001b[A\n",
      " 98%|█████████▊| 81107/82690 [12:11:59<2:41:50,  6.13s/it]\u001b[A\n",
      " 98%|█████████▊| 81108/82690 [12:12:07<2:54:28,  6.62s/it]\u001b[A\n",
      " 98%|█████████▊| 81109/82690 [12:12:17<3:20:27,  7.61s/it]\u001b[A\n",
      " 98%|█████████▊| 81110/82690 [12:12:26<3:33:08,  8.09s/it]\u001b[A\n",
      " 98%|█████████▊| 81111/82690 [12:12:43<4:37:29, 10.54s/it]\u001b[A\n",
      " 98%|█████████▊| 81112/82690 [12:12:44<3:29:22,  7.96s/it]\u001b[A\n",
      " 98%|█████████▊| 81113/82690 [12:12:45<2:33:46,  5.85s/it]\u001b[A\n",
      " 98%|█████████▊| 81114/82690 [12:12:46<1:53:41,  4.33s/it]\u001b[A\n",
      " 98%|█████████▊| 81115/82690 [12:12:56<2:36:00,  5.94s/it]\u001b[A\n",
      " 98%|█████████▊| 81116/82690 [12:13:06<3:06:41,  7.12s/it]\u001b[A\n",
      " 98%|█████████▊| 81118/82690 [12:13:16<2:49:09,  6.46s/it]\u001b[A\n",
      " 98%|█████████▊| 81121/82690 [12:13:18<2:05:15,  4.79s/it]\u001b[A\n",
      " 98%|█████████▊| 81122/82690 [12:13:19<1:31:00,  3.48s/it]\u001b[A\n",
      " 98%|█████████▊| 81123/82690 [12:13:21<1:19:35,  3.05s/it]\u001b[A\n",
      " 98%|█████████▊| 81124/82690 [12:13:46<4:16:45,  9.84s/it]\u001b[A\n",
      " 98%|█████████▊| 81125/82690 [12:13:48<3:09:29,  7.26s/it]\u001b[A\n",
      " 98%|█████████▊| 81126/82690 [12:13:53<2:54:32,  6.70s/it]\u001b[A\n",
      " 98%|█████████▊| 81127/82690 [12:13:53<2:03:18,  4.73s/it]\u001b[A\n",
      " 98%|█████████▊| 81128/82690 [12:14:27<5:47:44, 13.36s/it]\u001b[A\n",
      " 98%|█████████▊| 81129/82690 [12:14:31<4:35:11, 10.58s/it]\u001b[A\n",
      " 98%|█████████▊| 81130/82690 [12:15:24<10:07:27, 23.36s/it]\u001b[A\n",
      " 98%|█████████▊| 81131/82690 [12:15:27<7:30:33, 17.34s/it] \u001b[A\n",
      " 98%|█████████▊| 81132/82690 [12:15:50<8:10:06, 18.87s/it]\u001b[A\n",
      " 98%|█████████▊| 81134/82690 [12:15:57<6:09:53, 14.26s/it]\u001b[A\n",
      " 98%|█████████▊| 81135/82690 [12:16:11<6:13:16, 14.40s/it]\u001b[A\n",
      " 98%|█████████▊| 81136/82690 [12:16:20<5:29:29, 12.72s/it]\u001b[A\n",
      " 98%|█████████▊| 81138/82690 [12:16:23<4:01:55,  9.35s/it]\u001b[A\n",
      " 98%|█████████▊| 81139/82690 [12:16:24<2:57:21,  6.86s/it]\u001b[A\n",
      " 98%|█████████▊| 81140/82690 [12:16:38<3:53:19,  9.03s/it]\u001b[A\n",
      " 98%|█████████▊| 81141/82690 [12:17:04<6:03:34, 14.08s/it]\u001b[A\n",
      " 98%|█████████▊| 81142/82690 [12:17:05<4:22:49, 10.19s/it]\u001b[A\n",
      " 98%|█████████▊| 81143/82690 [12:17:42<7:47:33, 18.13s/it]\u001b[A\n",
      " 98%|█████████▊| 81144/82690 [12:17:57<7:20:23, 17.09s/it]\u001b[A\n",
      " 98%|█████████▊| 81145/82690 [12:18:00<5:35:37, 13.03s/it]\u001b[A\n",
      " 98%|█████████▊| 81146/82690 [12:18:10<5:13:27, 12.18s/it]\u001b[A\n",
      " 98%|█████████▊| 81147/82690 [12:18:52<9:02:02, 21.08s/it]\u001b[A\n",
      " 98%|█████████▊| 81148/82690 [12:18:54<6:29:53, 15.17s/it]\u001b[A\n",
      " 98%|█████████▊| 81149/82690 [12:19:11<6:44:43, 15.76s/it]\u001b[A\n",
      " 98%|█████████▊| 81150/82690 [12:19:13<4:57:55, 11.61s/it]\u001b[A\n",
      " 98%|█████████▊| 81151/82690 [12:19:14<3:36:14,  8.43s/it]\u001b[A\n",
      " 98%|█████████▊| 81152/82690 [12:19:27<4:10:10,  9.76s/it]\u001b[A\n",
      " 98%|█████████▊| 81153/82690 [12:19:44<5:12:40, 12.21s/it]\u001b[A\n",
      " 98%|█████████▊| 81154/82690 [12:20:06<6:27:12, 15.13s/it]\u001b[A\n",
      " 98%|█████████▊| 81155/82690 [12:20:39<8:38:23, 20.26s/it]\u001b[A\n",
      " 98%|█████████▊| 81156/82690 [12:20:40<6:11:11, 14.52s/it]\u001b[A\n",
      " 98%|█████████▊| 81157/82690 [12:20:42<4:35:10, 10.77s/it]\u001b[A\n",
      " 98%|█████████▊| 81158/82690 [12:20:48<3:56:28,  9.26s/it]\u001b[A\n",
      " 98%|█████████▊| 81159/82690 [12:20:50<3:04:14,  7.22s/it]\u001b[A\n",
      " 98%|█████████▊| 81160/82690 [12:21:14<5:08:51, 12.11s/it]\u001b[A\n",
      " 98%|█████████▊| 81161/82690 [12:21:21<4:30:31, 10.62s/it]\u001b[A\n",
      " 98%|█████████▊| 81162/82690 [12:21:32<4:32:57, 10.72s/it]\u001b[A\n",
      " 98%|█████████▊| 81163/82690 [12:21:40<4:12:31,  9.92s/it]\u001b[A\n",
      " 98%|█████████▊| 81164/82690 [12:21:45<3:38:21,  8.59s/it]\u001b[A\n",
      " 98%|█████████▊| 81165/82690 [12:22:35<8:55:00, 21.05s/it]\u001b[A\n",
      " 98%|█████████▊| 81166/82690 [12:22:37<6:30:46, 15.38s/it]\u001b[A\n",
      " 98%|█████████▊| 81167/82690 [12:23:01<7:29:34, 17.71s/it]\u001b[A\n",
      " 98%|█████████▊| 81168/82690 [12:23:09<6:21:01, 15.02s/it]\u001b[A\n",
      " 98%|█████████▊| 81169/82690 [12:23:12<4:45:10, 11.25s/it]\u001b[A\n",
      " 98%|█████████▊| 81170/82690 [12:24:00<9:27:19, 22.39s/it]\u001b[A\n",
      " 98%|█████████▊| 81171/82690 [12:24:06<7:18:29, 17.32s/it]\u001b[A\n",
      " 98%|█████████▊| 81172/82690 [12:24:15<6:14:16, 14.79s/it]\u001b[A\n",
      " 98%|█████████▊| 81173/82690 [12:24:21<5:08:54, 12.22s/it]\u001b[A\n",
      " 98%|█████████▊| 81174/82690 [12:24:22<3:47:55,  9.02s/it]\u001b[A\n",
      " 98%|█████████▊| 81175/82690 [12:25:10<8:38:42, 20.54s/it]\u001b[A\n",
      " 98%|█████████▊| 81176/82690 [12:25:11<6:08:49, 14.62s/it]\u001b[A\n",
      " 98%|█████████▊| 81177/82690 [12:25:14<4:41:01, 11.14s/it]\u001b[A\n",
      " 98%|█████████▊| 81178/82690 [12:25:14<3:20:14,  7.95s/it]\u001b[A\n",
      " 98%|█████████▊| 81179/82690 [12:25:16<2:37:48,  6.27s/it]\u001b[A\n",
      " 98%|█████████▊| 81180/82690 [12:25:17<1:53:00,  4.49s/it]\u001b[A\n",
      " 98%|█████████▊| 81181/82690 [12:25:18<1:25:57,  3.42s/it]\u001b[A\n",
      " 98%|█████████▊| 81182/82690 [12:25:18<1:05:56,  2.62s/it]\u001b[A\n",
      " 98%|█████████▊| 81183/82690 [12:25:22<1:09:12,  2.76s/it]\u001b[A\n",
      " 98%|█████████▊| 81184/82690 [12:26:16<7:36:30, 18.19s/it]\u001b[A\n",
      " 98%|█████████▊| 81185/82690 [12:27:02<11:08:11, 26.64s/it]\u001b[A\n",
      " 98%|█████████▊| 81186/82690 [12:27:13<9:13:20, 22.07s/it] \u001b[A\n",
      " 98%|█████████▊| 81187/82690 [12:27:17<6:51:30, 16.43s/it]\u001b[A\n",
      " 98%|█████████▊| 81188/82690 [12:27:20<5:12:03, 12.47s/it]\u001b[A\n",
      " 98%|█████████▊| 81189/82690 [12:27:37<5:49:02, 13.95s/it]\u001b[A\n",
      " 98%|█████████▊| 81190/82690 [12:28:14<8:36:31, 20.66s/it]\u001b[A\n",
      " 98%|█████████▊| 81191/82690 [12:28:22<7:01:51, 16.89s/it]\u001b[A\n",
      " 98%|█████████▊| 81192/82690 [12:28:53<8:51:27, 21.29s/it]\u001b[A\n",
      " 98%|█████████▊| 81193/82690 [12:29:02<7:17:18, 17.53s/it]\u001b[A\n",
      " 98%|█████████▊| 81194/82690 [12:29:06<5:37:10, 13.52s/it]\u001b[A\n",
      " 98%|█████████▊| 81195/82690 [12:29:06<3:56:52,  9.51s/it]\u001b[A\n",
      " 98%|█████████▊| 81196/82690 [12:29:13<3:35:57,  8.67s/it]\u001b[A\n",
      " 98%|█████████▊| 81197/82690 [12:29:31<4:42:53, 11.37s/it]\u001b[A\n",
      " 98%|█████████▊| 81198/82690 [12:29:34<3:43:08,  8.97s/it]\u001b[A\n",
      " 98%|█████████▊| 81199/82690 [12:30:06<6:31:49, 15.77s/it]\u001b[A\n",
      " 98%|█████████▊| 81200/82690 [12:30:08<4:47:02, 11.56s/it]\u001b[A\n",
      " 98%|█████████▊| 81201/82690 [12:30:13<4:03:57,  9.83s/it]\u001b[A\n",
      " 98%|█████████▊| 81202/82690 [12:30:16<3:12:22,  7.76s/it]\u001b[A\n",
      " 98%|█████████▊| 81203/82690 [12:30:48<6:13:22, 15.07s/it]\u001b[A\n",
      " 98%|█████████▊| 81204/82690 [12:30:50<4:29:42, 10.89s/it]\u001b[A\n",
      " 98%|█████████▊| 81205/82690 [12:31:02<4:40:26, 11.33s/it]\u001b[A\n",
      " 98%|█████████▊| 81206/82690 [12:31:03<3:25:37,  8.31s/it]\u001b[A\n",
      " 98%|█████████▊| 81207/82690 [12:31:27<5:23:02, 13.07s/it]\u001b[A\n",
      " 98%|█████████▊| 81208/82690 [12:31:28<3:49:25,  9.29s/it]\u001b[A\n",
      " 98%|█████████▊| 81209/82690 [12:31:31<3:07:06,  7.58s/it]\u001b[A\n",
      " 98%|█████████▊| 81210/82690 [12:31:58<5:26:33, 13.24s/it]\u001b[A\n",
      " 98%|█████████▊| 81211/82690 [12:32:01<4:14:59, 10.34s/it]\u001b[A\n",
      " 98%|█████████▊| 81212/82690 [12:32:10<4:00:49,  9.78s/it]\u001b[A\n",
      " 98%|█████████▊| 81213/82690 [12:32:16<3:35:10,  8.74s/it]\u001b[A\n",
      " 98%|█████████▊| 81214/82690 [12:33:11<9:14:53, 22.56s/it]\u001b[A\n",
      " 98%|█████████▊| 81216/82690 [12:33:44<8:27:54, 20.67s/it]\u001b[A\n",
      " 98%|█████████▊| 81217/82690 [12:33:47<6:22:24, 15.58s/it]\u001b[A\n",
      " 98%|█████████▊| 81218/82690 [12:33:52<5:06:00, 12.47s/it]\u001b[A\n",
      " 98%|█████████▊| 81219/82690 [12:34:10<5:44:25, 14.05s/it]\u001b[A\n",
      " 98%|█████████▊| 81220/82690 [12:34:14<4:28:49, 10.97s/it]\u001b[A\n",
      " 98%|█████████▊| 81221/82690 [12:34:14<3:09:57,  7.76s/it]\u001b[A\n",
      " 98%|█████████▊| 81222/82690 [12:34:22<3:11:10,  7.81s/it]\u001b[A\n",
      " 98%|█████████▊| 81223/82690 [12:34:27<2:46:13,  6.80s/it]\u001b[A\n",
      " 98%|█████████▊| 81224/82690 [12:34:29<2:10:19,  5.33s/it]\u001b[A\n",
      " 98%|█████████▊| 81225/82690 [12:34:32<1:53:57,  4.67s/it]\u001b[A\n",
      " 98%|█████████▊| 81226/82690 [12:34:53<3:55:17,  9.64s/it]\u001b[A\n",
      " 98%|█████████▊| 81227/82690 [12:35:03<3:57:44,  9.75s/it]\u001b[A\n",
      " 98%|█████████▊| 81228/82690 [12:35:28<5:52:35, 14.47s/it]\u001b[A\n",
      " 98%|█████████▊| 81229/82690 [12:35:29<4:12:21, 10.36s/it]\u001b[A\n",
      " 98%|█████████▊| 81231/82690 [12:35:35<3:16:52,  8.10s/it]\u001b[A\n",
      " 98%|█████████▊| 81232/82690 [12:35:36<2:27:48,  6.08s/it]\u001b[A\n",
      " 98%|█████████▊| 81233/82690 [12:35:37<1:48:55,  4.49s/it]\u001b[A\n",
      " 98%|█████████▊| 81234/82690 [12:35:49<2:41:47,  6.67s/it]\u001b[A\n",
      " 98%|█████████▊| 81235/82690 [12:36:16<5:09:20, 12.76s/it]\u001b[A\n",
      " 98%|█████████▊| 81236/82690 [12:36:16<3:42:08,  9.17s/it]\u001b[A\n",
      " 98%|█████████▊| 81237/82690 [12:36:29<4:03:58, 10.07s/it]\u001b[A\n",
      " 98%|█████████▊| 81238/82690 [12:37:26<9:50:35, 24.40s/it]\u001b[A\n",
      " 98%|█████████▊| 81239/82690 [12:37:45<9:06:21, 22.59s/it]\u001b[A\n",
      " 98%|█████████▊| 81240/82690 [12:38:32<12:04:04, 29.96s/it]\u001b[A\n",
      " 98%|█████████▊| 81241/82690 [12:39:29<15:18:59, 38.05s/it]\u001b[A\n",
      " 98%|█████████▊| 81242/82690 [12:39:48<12:59:18, 32.29s/it]\u001b[A\n",
      " 98%|█████████▊| 81243/82690 [12:40:20<13:01:38, 32.41s/it]\u001b[A\n",
      " 98%|█████████▊| 81244/82690 [12:40:21<9:12:16, 22.92s/it] \u001b[A\n",
      " 98%|█████████▊| 81245/82690 [12:40:26<7:02:54, 17.56s/it]\u001b[A\n",
      " 98%|█████████▊| 81246/82690 [12:40:59<8:54:10, 22.20s/it]\u001b[A\n",
      " 98%|█████████▊| 81247/82690 [12:41:02<6:36:50, 16.50s/it]\u001b[A\n",
      " 98%|█████████▊| 81248/82690 [12:41:11<5:38:00, 14.06s/it]\u001b[A\n",
      " 98%|█████████▊| 81249/82690 [12:41:14<4:16:05, 10.66s/it]\u001b[A\n",
      " 98%|█████████▊| 81250/82690 [12:41:28<4:40:20, 11.68s/it]\u001b[A\n",
      " 98%|█████████▊| 81251/82690 [12:41:57<6:44:11, 16.85s/it]\u001b[A\n",
      " 98%|█████████▊| 81252/82690 [12:42:20<7:29:18, 18.75s/it]\u001b[A\n",
      " 98%|█████████▊| 81253/82690 [12:42:40<7:36:41, 19.07s/it]\u001b[A\n",
      " 98%|█████████▊| 81254/82690 [12:42:51<6:40:36, 16.74s/it]\u001b[A\n",
      " 98%|█████████▊| 81255/82690 [12:43:07<6:36:28, 16.58s/it]\u001b[A\n",
      " 98%|█████████▊| 81256/82690 [12:43:18<5:53:54, 14.81s/it]\u001b[A\n",
      " 98%|█████████▊| 81257/82690 [12:43:21<4:31:27, 11.37s/it]\u001b[A\n",
      " 98%|█████████▊| 81258/82690 [12:43:45<6:02:50, 15.20s/it]\u001b[A\n",
      " 98%|█████████▊| 81259/82690 [12:43:49<4:38:23, 11.67s/it]\u001b[A\n",
      " 98%|█████████▊| 81260/82690 [12:43:50<3:25:54,  8.64s/it]\u001b[A\n",
      " 98%|█████████▊| 81261/82690 [12:43:57<3:14:56,  8.18s/it]\u001b[A\n",
      " 98%|█████████▊| 81262/82690 [12:44:06<3:18:32,  8.34s/it]\u001b[A\n",
      " 98%|█████████▊| 81263/82690 [12:44:12<2:58:50,  7.52s/it]\u001b[A\n",
      " 98%|█████████▊| 81264/82690 [12:44:13<2:14:35,  5.66s/it]\u001b[A\n",
      " 98%|█████████▊| 81265/82690 [12:44:35<4:13:39, 10.68s/it]\u001b[A\n",
      " 98%|█████████▊| 81266/82690 [12:44:37<3:08:19,  7.94s/it]\u001b[A\n",
      " 98%|█████████▊| 81267/82690 [12:45:08<5:55:31, 14.99s/it]\u001b[A\n",
      " 98%|█████████▊| 81268/82690 [12:45:14<4:51:23, 12.30s/it]\u001b[A\n",
      " 98%|█████████▊| 81269/82690 [12:45:17<3:40:41,  9.32s/it]\u001b[A\n",
      " 98%|█████████▊| 81270/82690 [12:45:59<7:31:56, 19.10s/it]\u001b[A\n",
      " 98%|█████████▊| 81271/82690 [12:46:21<7:53:51, 20.04s/it]\u001b[A\n",
      " 98%|█████████▊| 81272/82690 [12:46:28<6:18:45, 16.03s/it]\u001b[A\n",
      " 98%|█████████▊| 81273/82690 [12:47:30<11:50:06, 30.07s/it]\u001b[A\n",
      " 98%|█████████▊| 81274/82690 [12:47:34<8:39:37, 22.02s/it] \u001b[A\n",
      " 98%|█████████▊| 81275/82690 [12:47:58<8:57:34, 22.79s/it]\u001b[A\n",
      " 98%|█████████▊| 81276/82690 [12:48:37<10:53:27, 27.73s/it]\u001b[A\n",
      " 98%|█████████▊| 81277/82690 [12:48:38<7:43:18, 19.67s/it] \u001b[A\n",
      " 98%|█████████▊| 81278/82690 [12:48:44<6:04:21, 15.48s/it]\u001b[A\n",
      " 98%|█████████▊| 81279/82690 [12:48:55<5:30:40, 14.06s/it]\u001b[A\n",
      " 98%|█████████▊| 81280/82690 [12:48:55<3:52:42,  9.90s/it]\u001b[A\n",
      " 98%|█████████▊| 81281/82690 [12:49:28<6:36:55, 16.90s/it]\u001b[A\n",
      " 98%|█████████▊| 81282/82690 [12:49:51<7:18:37, 18.69s/it]\u001b[A\n",
      " 98%|█████████▊| 81283/82690 [12:50:10<7:19:33, 18.74s/it]\u001b[A\n",
      " 98%|█████████▊| 81284/82690 [12:50:43<8:57:49, 22.95s/it]\u001b[A\n",
      " 98%|█████████▊| 81285/82690 [12:51:39<12:53:07, 33.02s/it]\u001b[A\n",
      " 98%|█████████▊| 81286/82690 [12:51:59<11:21:55, 29.14s/it]\u001b[A\n",
      " 98%|█████████▊| 81287/82690 [12:52:00<8:04:08, 20.70s/it] \u001b[A\n",
      " 98%|█████████▊| 81288/82690 [12:52:03<5:55:18, 15.21s/it]\u001b[A\n",
      " 98%|█████████▊| 81289/82690 [12:52:38<8:18:45, 21.36s/it]\u001b[A\n",
      " 98%|█████████▊| 81290/82690 [12:53:38<12:45:27, 32.81s/it]\u001b[A\n",
      " 98%|█████████▊| 81291/82690 [12:54:29<14:50:00, 38.17s/it]\u001b[A\n",
      " 98%|█████████▊| 81292/82690 [12:54:30<10:34:37, 27.24s/it]\u001b[A\n",
      " 98%|█████████▊| 81293/82690 [12:54:52<9:53:28, 25.49s/it] \u001b[A\n",
      " 98%|█████████▊| 81294/82690 [12:55:38<12:17:47, 31.71s/it]\u001b[A\n",
      " 98%|█████████▊| 81295/82690 [12:55:43<9:08:16, 23.58s/it] \u001b[A\n",
      " 98%|█████████▊| 81296/82690 [12:55:44<6:36:04, 17.05s/it]\u001b[A\n",
      " 98%|█████████▊| 81297/82690 [12:55:45<4:43:08, 12.20s/it]\u001b[A\n",
      " 98%|█████████▊| 81298/82690 [12:56:22<7:31:46, 19.47s/it]\u001b[A\n",
      " 98%|█████████▊| 81299/82690 [12:56:26<5:42:20, 14.77s/it]\u001b[A\n",
      " 98%|█████████▊| 81300/82690 [12:56:27<4:09:20, 10.76s/it]\u001b[A\n",
      " 98%|█████████▊| 81301/82690 [12:56:29<3:05:43,  8.02s/it]\u001b[A\n",
      " 98%|█████████▊| 81302/82690 [12:57:12<7:14:31, 18.78s/it]\u001b[A\n",
      " 98%|█████████▊| 81303/82690 [12:57:24<6:23:38, 16.60s/it]\u001b[A\n",
      " 98%|█████████▊| 81304/82690 [12:57:24<4:30:49, 11.72s/it]\u001b[A\n",
      " 98%|█████████▊| 81305/82690 [12:57:30<3:51:02, 10.01s/it]\u001b[A\n",
      " 98%|█████████▊| 81306/82690 [12:57:58<5:50:55, 15.21s/it]\u001b[A\n",
      " 98%|█████████▊| 81307/82690 [12:57:58<4:10:25, 10.86s/it]\u001b[A\n",
      " 98%|█████████▊| 81308/82690 [12:58:26<6:05:53, 15.89s/it]\u001b[A\n",
      " 98%|█████████▊| 81309/82690 [12:58:31<4:51:04, 12.65s/it]\u001b[A\n",
      " 98%|█████████▊| 81310/82690 [12:58:51<5:44:01, 14.96s/it]\u001b[A\n",
      " 98%|█████████▊| 81311/82690 [12:59:21<7:24:00, 19.32s/it]\u001b[A\n",
      " 98%|█████████▊| 81312/82690 [12:59:39<7:14:24, 18.91s/it]\u001b[A\n",
      " 98%|█████████▊| 81313/82690 [12:59:40<5:12:28, 13.62s/it]\u001b[A\n",
      " 98%|█████████▊| 81314/82690 [12:59:42<3:53:28, 10.18s/it]\u001b[A\n",
      " 98%|█████████▊| 81315/82690 [12:59:45<3:00:56,  7.90s/it]\u001b[A\n",
      " 98%|█████████▊| 81316/82690 [12:59:45<2:08:03,  5.59s/it]\u001b[A\n",
      " 98%|█████████▊| 81317/82690 [13:00:15<4:57:42, 13.01s/it]\u001b[A\n",
      " 98%|█████████▊| 81318/82690 [13:00:49<7:15:08, 19.03s/it]\u001b[A\n",
      " 98%|█████████▊| 81319/82690 [13:00:49<5:10:15, 13.58s/it]\u001b[A\n",
      " 98%|█████████▊| 81320/82690 [13:01:09<5:51:52, 15.41s/it]\u001b[A\n",
      " 98%|█████████▊| 81321/82690 [13:01:46<8:20:11, 21.92s/it]\u001b[A\n",
      " 98%|█████████▊| 81322/82690 [13:02:08<8:20:16, 21.94s/it]\u001b[A\n",
      " 98%|█████████▊| 81323/82690 [13:02:12<6:18:02, 16.59s/it]\u001b[A\n",
      " 98%|█████████▊| 81324/82690 [13:02:35<7:00:23, 18.47s/it]\u001b[A\n",
      " 98%|█████████▊| 81325/82690 [13:02:37<5:03:46, 13.35s/it]\u001b[A\n",
      " 98%|█████████▊| 81326/82690 [13:03:34<10:06:11, 26.67s/it]\u001b[A\n",
      " 98%|█████████▊| 81327/82690 [13:03:40<7:45:28, 20.49s/it] \u001b[A\n",
      " 98%|█████████▊| 81328/82690 [13:04:07<8:24:47, 22.24s/it]\u001b[A\n",
      " 98%|█████████▊| 81329/82690 [13:04:08<5:59:12, 15.84s/it]\u001b[A\n",
      " 98%|█████████▊| 81330/82690 [13:04:41<7:56:54, 21.04s/it]\u001b[A\n",
      " 98%|█████████▊| 81331/82690 [13:04:47<6:13:47, 16.50s/it]\u001b[A\n",
      " 98%|█████████▊| 81332/82690 [13:04:52<4:56:59, 13.12s/it]\u001b[A\n",
      " 98%|█████████▊| 81333/82690 [13:05:04<4:46:41, 12.68s/it]\u001b[A\n",
      " 98%|█████████▊| 81334/82690 [13:05:06<3:34:57,  9.51s/it]\u001b[A\n",
      " 98%|█████████▊| 81335/82690 [13:05:06<2:36:06,  6.91s/it]\u001b[A\n",
      " 98%|█████████▊| 81336/82690 [13:05:07<1:54:29,  5.07s/it]\u001b[A\n",
      " 98%|█████████▊| 81337/82690 [13:05:09<1:33:47,  4.16s/it]\u001b[A\n",
      " 98%|█████████▊| 81338/82690 [13:05:39<4:29:19, 11.95s/it]\u001b[A\n",
      " 98%|█████████▊| 81339/82690 [13:06:32<9:01:40, 24.06s/it]\u001b[A\n",
      " 98%|█████████▊| 81340/82690 [13:06:33<6:25:14, 17.12s/it]\u001b[A\n",
      " 98%|█████████▊| 81341/82690 [13:07:04<8:00:40, 21.38s/it]\u001b[A\n",
      " 98%|█████████▊| 81342/82690 [13:07:10<6:13:45, 16.64s/it]\u001b[A\n",
      " 98%|█████████▊| 81343/82690 [13:07:12<4:38:05, 12.39s/it]\u001b[A\n",
      " 98%|█████████▊| 81344/82690 [13:07:40<6:22:26, 17.05s/it]\u001b[A\n",
      " 98%|█████████▊| 81345/82690 [13:08:23<9:15:15, 24.77s/it]\u001b[A\n",
      " 98%|█████████▊| 81346/82690 [13:08:46<9:04:01, 24.29s/it]\u001b[A\n",
      " 98%|█████████▊| 81347/82690 [13:08:47<6:26:31, 17.27s/it]\u001b[A\n",
      " 98%|█████████▊| 81348/82690 [13:09:07<6:46:38, 18.18s/it]\u001b[A\n",
      " 98%|█████████▊| 81349/82690 [13:09:23<6:29:33, 17.43s/it]\u001b[A\n",
      " 98%|█████████▊| 81350/82690 [13:10:16<10:27:19, 28.09s/it]\u001b[A\n",
      " 98%|█████████▊| 81351/82690 [13:10:32<9:08:26, 24.58s/it] \u001b[A\n",
      " 98%|█████████▊| 81352/82690 [13:10:44<7:43:18, 20.78s/it]\u001b[A\n",
      " 98%|█████████▊| 81353/82690 [13:10:44<5:26:35, 14.66s/it]\u001b[A\n",
      " 98%|█████████▊| 81354/82690 [13:11:27<8:32:22, 23.01s/it]\u001b[A\n",
      " 98%|█████████▊| 81355/82690 [13:11:51<8:35:54, 23.19s/it]\u001b[A\n",
      " 98%|█████████▊| 81356/82690 [13:12:09<8:04:50, 21.81s/it]\u001b[A\n",
      " 98%|█████████▊| 81357/82690 [13:12:44<9:31:01, 25.70s/it]\u001b[A\n",
      " 98%|█████████▊| 81358/82690 [13:12:55<7:53:10, 21.31s/it]\u001b[A\n",
      " 98%|█████████▊| 81359/82690 [13:13:31<9:32:43, 25.82s/it]\u001b[A\n",
      " 98%|█████████▊| 81360/82690 [13:13:33<6:55:13, 18.73s/it]\u001b[A\n",
      " 98%|█████████▊| 81361/82690 [13:13:34<4:52:12, 13.19s/it]\u001b[A\n",
      " 98%|█████████▊| 81362/82690 [13:13:37<3:42:58, 10.07s/it]\u001b[A\n",
      " 98%|█████████▊| 81363/82690 [13:13:39<2:55:05,  7.92s/it]\u001b[A\n",
      " 98%|█████████▊| 81364/82690 [13:13:48<2:58:11,  8.06s/it]\u001b[A\n",
      " 98%|█████████▊| 81365/82690 [13:13:50<2:20:14,  6.35s/it]\u001b[A\n",
      " 98%|█████████▊| 81366/82690 [13:13:50<1:39:24,  4.50s/it]\u001b[A\n",
      " 98%|█████████▊| 81367/82690 [13:14:20<4:27:00, 12.11s/it]\u001b[A\n",
      " 98%|█████████▊| 81368/82690 [13:14:21<3:13:12,  8.77s/it]\u001b[A\n",
      " 98%|█████████▊| 81369/82690 [13:14:53<5:42:50, 15.57s/it]\u001b[A\n",
      " 98%|█████████▊| 81370/82690 [13:15:15<6:29:36, 17.71s/it]\u001b[A\n",
      " 98%|█████████▊| 81371/82690 [13:15:42<7:31:28, 20.54s/it]\u001b[A\n"
     ]
    },
    {
     "name": "stderr",
     "output_type": "stream",
     "text": [
      " 98%|█████████▊| 81372/82690 [13:15:52<6:20:10, 17.31s/it]\u001b[A\n",
      " 98%|█████████▊| 81373/82690 [13:16:29<8:26:25, 23.07s/it]\u001b[A\n",
      " 98%|█████████▊| 81374/82690 [13:16:54<8:40:11, 23.72s/it]\u001b[A\n",
      " 98%|█████████▊| 81375/82690 [13:16:57<6:21:29, 17.41s/it]\u001b[A\n",
      " 98%|█████████▊| 81376/82690 [13:17:38<8:58:32, 24.59s/it]\u001b[A\n",
      " 98%|█████████▊| 81377/82690 [13:18:27<11:40:38, 32.02s/it]\u001b[A\n",
      " 98%|█████████▊| 81378/82690 [13:18:34<8:51:12, 24.29s/it] \u001b[A\n",
      " 98%|█████████▊| 81379/82690 [13:19:20<11:15:17, 30.91s/it]\u001b[A\n",
      " 98%|█████████▊| 81380/82690 [13:20:07<13:01:57, 35.82s/it]\u001b[A\n",
      " 98%|█████████▊| 81381/82690 [13:20:09<9:16:50, 25.52s/it] \u001b[A\n",
      " 98%|█████████▊| 81382/82690 [13:20:09<6:31:03, 17.94s/it]\u001b[A\n",
      " 98%|█████████▊| 81383/82690 [13:20:10<4:38:05, 12.77s/it]\u001b[A\n",
      " 98%|█████████▊| 81384/82690 [13:20:36<6:05:56, 16.81s/it]\u001b[A\n",
      " 98%|█████████▊| 81385/82690 [13:21:15<8:29:51, 23.44s/it]\u001b[A\n",
      " 98%|█████████▊| 81386/82690 [13:21:16<6:05:56, 16.84s/it]\u001b[A\n",
      " 98%|█████████▊| 81387/82690 [13:21:24<5:04:34, 14.03s/it]\u001b[A\n",
      " 98%|█████████▊| 81388/82690 [13:21:34<4:38:38, 12.84s/it]\u001b[A\n",
      " 98%|█████████▊| 81389/82690 [13:21:39<3:47:28, 10.49s/it]\u001b[A\n",
      " 98%|█████████▊| 81390/82690 [13:21:42<3:00:18,  8.32s/it]\u001b[A\n",
      " 98%|█████████▊| 81391/82690 [13:21:50<3:00:23,  8.33s/it]\u001b[A\n",
      " 98%|█████████▊| 81392/82690 [13:22:38<7:15:46, 20.14s/it]\u001b[A\n",
      " 98%|█████████▊| 81393/82690 [13:22:39<5:12:35, 14.46s/it]\u001b[A\n",
      " 98%|█████████▊| 81394/82690 [13:22:41<3:47:03, 10.51s/it]\u001b[A\n",
      " 98%|█████████▊| 81395/82690 [13:23:33<8:14:34, 22.91s/it]\u001b[A\n",
      " 98%|█████████▊| 81396/82690 [13:24:04<9:09:13, 25.47s/it]\u001b[A\n",
      " 98%|█████████▊| 81397/82690 [13:24:12<7:16:18, 20.25s/it]\u001b[A\n",
      " 98%|█████████▊| 81398/82690 [13:24:26<6:38:07, 18.49s/it]\u001b[A\n",
      " 98%|█████████▊| 81399/82690 [13:24:30<4:59:34, 13.92s/it]\u001b[A\n",
      " 98%|█████████▊| 81400/82690 [13:24:33<3:50:16, 10.71s/it]\u001b[A\n",
      " 98%|█████████▊| 81401/82690 [13:25:08<6:30:10, 18.16s/it]\u001b[A\n",
      " 98%|█████████▊| 81402/82690 [13:25:10<4:42:36, 13.17s/it]\u001b[A\n",
      " 98%|█████████▊| 81403/82690 [13:25:19<4:15:57, 11.93s/it]\u001b[A\n",
      " 98%|█████████▊| 81404/82690 [13:25:25<3:39:17, 10.23s/it]\u001b[A\n",
      " 98%|█████████▊| 81405/82690 [13:25:37<3:45:49, 10.54s/it]\u001b[A\n",
      " 98%|█████████▊| 81406/82690 [13:25:38<2:47:14,  7.81s/it]\u001b[A\n",
      " 98%|█████████▊| 81407/82690 [13:25:40<2:12:03,  6.18s/it]\u001b[A\n",
      " 98%|█████████▊| 81408/82690 [13:25:42<1:45:05,  4.92s/it]\u001b[A\n",
      " 98%|█████████▊| 81409/82690 [13:26:10<4:08:59, 11.66s/it]\u001b[A\n",
      " 98%|█████████▊| 81410/82690 [13:26:22<4:09:55, 11.71s/it]\u001b[A\n",
      " 98%|█████████▊| 81411/82690 [13:26:22<2:59:44,  8.43s/it]\u001b[A\n",
      " 98%|█████████▊| 81412/82690 [13:26:25<2:22:49,  6.71s/it]\u001b[A\n",
      " 98%|█████████▊| 81413/82690 [13:26:35<2:42:17,  7.63s/it]\u001b[A\n",
      " 98%|█████████▊| 81414/82690 [13:27:24<7:04:32, 19.96s/it]\u001b[A\n",
      " 98%|█████████▊| 81415/82690 [13:27:25<5:05:04, 14.36s/it]\u001b[A\n",
      " 98%|█████████▊| 81416/82690 [13:27:27<3:45:05, 10.60s/it]\u001b[A\n",
      " 98%|█████████▊| 81417/82690 [13:27:32<3:09:26,  8.93s/it]\u001b[A\n",
      " 98%|█████████▊| 81418/82690 [13:28:09<6:11:32, 17.53s/it]\u001b[A\n",
      " 98%|█████████▊| 81419/82690 [13:28:10<4:22:25, 12.39s/it]\u001b[A\n",
      " 98%|█████████▊| 81420/82690 [13:28:20<4:10:19, 11.83s/it]\u001b[A\n",
      " 98%|█████████▊| 81421/82690 [13:28:28<3:47:17, 10.75s/it]\u001b[A\n",
      " 98%|█████████▊| 81422/82690 [13:28:41<3:57:06, 11.22s/it]\u001b[A\n",
      " 98%|█████████▊| 81423/82690 [13:28:51<3:53:23, 11.05s/it]\u001b[A\n",
      " 98%|█████████▊| 81424/82690 [13:29:37<7:31:46, 21.41s/it]\u001b[A\n",
      " 98%|█████████▊| 81425/82690 [13:29:44<6:01:27, 17.14s/it]\u001b[A\n",
      " 98%|█████████▊| 81426/82690 [13:30:07<6:39:02, 18.94s/it]\u001b[A\n",
      " 98%|█████████▊| 81427/82690 [13:30:12<5:10:56, 14.77s/it]\u001b[A\n",
      " 98%|█████████▊| 81428/82690 [13:30:22<4:36:28, 13.14s/it]\u001b[A\n",
      " 98%|█████████▊| 81429/82690 [13:30:23<3:22:43,  9.65s/it]\u001b[A\n",
      " 98%|█████████▊| 81430/82690 [13:30:46<4:46:29, 13.64s/it]\u001b[A\n",
      " 98%|█████████▊| 81431/82690 [13:31:04<5:15:50, 15.05s/it]\u001b[A\n",
      " 98%|█████████▊| 81432/82690 [13:31:08<4:05:30, 11.71s/it]\u001b[A\n",
      " 98%|█████████▊| 81433/82690 [13:31:21<4:08:03, 11.84s/it]\u001b[A\n",
      " 98%|█████████▊| 81434/82690 [13:31:22<2:59:56,  8.60s/it]\u001b[A\n",
      " 98%|█████████▊| 81435/82690 [13:31:57<5:50:34, 16.76s/it]\u001b[A\n",
      " 98%|█████████▊| 81436/82690 [13:32:01<4:25:15, 12.69s/it]\u001b[A\n",
      " 98%|█████████▊| 81437/82690 [13:32:30<6:07:34, 17.60s/it]\u001b[A\n",
      " 98%|█████████▊| 81438/82690 [13:32:56<7:00:26, 20.15s/it]\u001b[A\n",
      " 98%|█████████▊| 81439/82690 [13:33:10<6:22:40, 18.35s/it]\u001b[A\n",
      " 98%|█████████▊| 81440/82690 [13:33:11<4:35:29, 13.22s/it]\u001b[A\n",
      " 98%|█████████▊| 81441/82690 [13:33:37<5:56:28, 17.12s/it]\u001b[A\n",
      " 98%|█████████▊| 81442/82690 [13:33:38<4:15:23, 12.28s/it]\u001b[A\n",
      " 98%|█████████▊| 81443/82690 [13:33:40<3:07:01,  9.00s/it]\u001b[A\n",
      " 98%|█████████▊| 81444/82690 [13:33:43<2:32:57,  7.37s/it]\u001b[A\n",
      " 98%|█████████▊| 81445/82690 [13:34:01<3:39:12, 10.56s/it]\u001b[A\n",
      " 98%|█████████▊| 81446/82690 [13:34:04<2:53:30,  8.37s/it]\u001b[A\n",
      " 98%|█████████▊| 81447/82690 [13:34:06<2:11:48,  6.36s/it]\u001b[A\n",
      " 98%|█████████▊| 81448/82690 [13:34:19<2:54:09,  8.41s/it]\u001b[A\n",
      " 98%|█████████▊| 81449/82690 [13:34:24<2:32:47,  7.39s/it]\u001b[A\n",
      " 99%|█████████▊| 81450/82690 [13:34:36<2:56:19,  8.53s/it]\u001b[A\n",
      " 99%|█████████▊| 81451/82690 [13:34:41<2:39:09,  7.71s/it]\u001b[A\n",
      " 99%|█████████▊| 81452/82690 [13:34:45<2:15:39,  6.57s/it]\u001b[A\n",
      " 99%|█████████▊| 81453/82690 [13:34:49<2:00:05,  5.83s/it]\u001b[A\n",
      " 99%|█████████▊| 81454/82690 [13:34:53<1:48:36,  5.27s/it]\u001b[A\n",
      " 99%|█████████▊| 81455/82690 [13:35:00<1:54:52,  5.58s/it]\u001b[A\n",
      " 99%|█████████▊| 81456/82690 [13:35:05<1:55:01,  5.59s/it]\u001b[A\n",
      " 99%|█████████▊| 81457/82690 [13:35:10<1:49:21,  5.32s/it]\u001b[A\n",
      " 99%|█████████▊| 81458/82690 [13:35:29<3:16:40,  9.58s/it]\u001b[A\n",
      " 99%|█████████▊| 81459/82690 [13:35:40<3:25:11, 10.00s/it]\u001b[A\n",
      " 99%|█████████▊| 81460/82690 [13:35:44<2:43:24,  7.97s/it]\u001b[A\n",
      " 99%|█████████▊| 81461/82690 [13:36:34<7:04:45, 20.74s/it]\u001b[A\n",
      " 99%|█████████▊| 81462/82690 [13:36:37<5:15:44, 15.43s/it]\u001b[A\n",
      " 99%|█████████▊| 81463/82690 [13:36:39<3:53:08, 11.40s/it]\u001b[A\n",
      " 99%|█████████▊| 81464/82690 [13:36:43<3:06:23,  9.12s/it]\u001b[A\n",
      " 99%|█████████▊| 81465/82690 [13:36:53<3:09:36,  9.29s/it]\u001b[A\n",
      " 99%|█████████▊| 81466/82690 [13:37:08<3:45:26, 11.05s/it]\u001b[A\n",
      " 99%|█████████▊| 81467/82690 [13:37:30<4:52:17, 14.34s/it]\u001b[A\n",
      " 99%|█████████▊| 81468/82690 [13:38:01<6:34:05, 19.35s/it]\u001b[A\n",
      " 99%|█████████▊| 81469/82690 [13:38:42<8:46:15, 25.86s/it]\u001b[A\n",
      " 99%|█████████▊| 81470/82690 [13:39:17<9:42:10, 28.63s/it]\u001b[A\n",
      " 99%|█████████▊| 81471/82690 [13:39:24<7:28:26, 22.07s/it]\u001b[A\n",
      " 99%|█████████▊| 81472/82690 [13:39:54<8:14:40, 24.37s/it]\u001b[A\n",
      " 99%|█████████▊| 81473/82690 [13:39:57<6:04:18, 17.96s/it]\u001b[A\n",
      " 99%|█████████▊| 81474/82690 [13:39:57<4:17:33, 12.71s/it]\u001b[A\n",
      " 99%|█████████▊| 81475/82690 [13:40:06<3:54:35, 11.59s/it]\u001b[A\n",
      " 99%|█████████▊| 81476/82690 [13:40:06<2:45:44,  8.19s/it]\u001b[A\n",
      " 99%|█████████▊| 81477/82690 [13:40:57<7:04:22, 20.99s/it]\u001b[A\n",
      " 99%|█████████▊| 81478/82690 [13:41:21<7:19:36, 21.76s/it]\u001b[A\n",
      " 99%|█████████▊| 81479/82690 [13:41:42<7:16:26, 21.62s/it]\u001b[A\n",
      " 99%|█████████▊| 81480/82690 [13:42:15<8:26:19, 25.11s/it]\u001b[A\n",
      " 99%|█████████▊| 81481/82690 [13:42:17<6:06:22, 18.18s/it]\u001b[A\n",
      " 99%|█████████▊| 81482/82690 [13:42:23<4:50:53, 14.45s/it]\u001b[A\n",
      " 99%|█████████▊| 81483/82690 [13:42:27<3:49:26, 11.41s/it]\u001b[A\n",
      " 99%|█████████▊| 81484/82690 [13:42:31<3:00:07,  8.96s/it]\u001b[A\n",
      " 99%|█████████▊| 81485/82690 [13:42:35<2:34:09,  7.68s/it]\u001b[A\n",
      " 99%|█████████▊| 81486/82690 [13:43:07<5:01:07, 15.01s/it]\u001b[A\n",
      " 99%|█████████▊| 81487/82690 [13:43:17<4:31:20, 13.53s/it]\u001b[A\n",
      " 99%|█████████▊| 81488/82690 [13:43:18<3:11:11,  9.54s/it]\u001b[A\n",
      " 99%|█████████▊| 81489/82690 [13:43:26<3:02:13,  9.10s/it]\u001b[A\n",
      " 99%|█████████▊| 81490/82690 [13:43:27<2:14:11,  6.71s/it]\u001b[A\n",
      " 99%|█████████▊| 81491/82690 [13:44:02<5:02:04, 15.12s/it]\u001b[A\n",
      " 99%|█████████▊| 81492/82690 [13:44:03<3:40:48, 11.06s/it]\u001b[A\n",
      " 99%|█████████▊| 81493/82690 [13:44:03<2:35:59,  7.82s/it]\u001b[A\n",
      " 99%|█████████▊| 81494/82690 [13:44:18<3:17:04,  9.89s/it]\u001b[A\n",
      " 99%|█████████▊| 81495/82690 [13:44:20<2:26:18,  7.35s/it]\u001b[A\n",
      " 99%|█████████▊| 81496/82690 [13:44:31<2:49:15,  8.51s/it]\u001b[A\n",
      " 99%|█████████▊| 81497/82690 [13:44:37<2:36:07,  7.85s/it]\u001b[A\n",
      " 99%|█████████▊| 81498/82690 [13:45:24<6:25:33, 19.41s/it]\u001b[A\n",
      " 99%|█████████▊| 81499/82690 [13:45:38<5:56:35, 17.96s/it]\u001b[A\n",
      " 99%|█████████▊| 81500/82690 [13:46:14<7:43:28, 23.37s/it]\u001b[A\n",
      " 99%|█████████▊| 81501/82690 [13:46:17<5:43:18, 17.32s/it]\u001b[A\n",
      " 99%|█████████▊| 81502/82690 [13:46:23<4:33:20, 13.81s/it]\u001b[A\n",
      " 99%|█████████▊| 81503/82690 [13:46:24<3:19:36, 10.09s/it]\u001b[A\n",
      " 99%|█████████▊| 81504/82690 [13:46:32<3:03:15,  9.27s/it]\u001b[A\n",
      " 99%|█████████▊| 81505/82690 [13:47:17<6:38:01, 20.15s/it]\u001b[A\n",
      " 99%|█████████▊| 81506/82690 [13:47:21<5:01:49, 15.29s/it]\u001b[A\n",
      " 99%|█████████▊| 81507/82690 [13:48:26<9:54:01, 30.13s/it]\u001b[A\n",
      " 99%|█████████▊| 81508/82690 [13:48:27<7:01:16, 21.38s/it]\u001b[A\n",
      " 99%|█████████▊| 81509/82690 [13:48:28<5:00:13, 15.25s/it]\u001b[A\n",
      " 99%|█████████▊| 81510/82690 [13:48:51<5:46:27, 17.62s/it]\u001b[A\n",
      " 99%|█████████▊| 81511/82690 [13:49:22<7:07:31, 21.76s/it]\u001b[A\n",
      " 99%|█████████▊| 81512/82690 [13:49:58<8:29:26, 25.95s/it]\u001b[A\n",
      " 99%|█████████▊| 81513/82690 [13:50:49<10:56:12, 33.45s/it]\u001b[A\n",
      " 99%|█████████▊| 81514/82690 [13:51:10<9:39:44, 29.58s/it] \u001b[A\n",
      " 99%|█████████▊| 81515/82690 [13:51:20<7:47:36, 23.88s/it]\u001b[A\n",
      " 99%|█████████▊| 81516/82690 [13:51:28<6:13:35, 19.09s/it]\u001b[A\n",
      " 99%|█████████▊| 81517/82690 [13:51:46<6:05:50, 18.71s/it]\u001b[A\n",
      " 99%|█████████▊| 81518/82690 [13:51:49<4:30:52, 13.87s/it]\u001b[A\n",
      " 99%|█████████▊| 81519/82690 [13:51:50<3:15:35, 10.02s/it]\u001b[A\n",
      " 99%|█████████▊| 81520/82690 [13:51:50<2:21:39,  7.26s/it]\u001b[A\n",
      " 99%|█████████▊| 81521/82690 [13:51:51<1:43:15,  5.30s/it]\u001b[A\n",
      " 99%|█████████▊| 81522/82690 [13:52:27<4:38:57, 14.33s/it]\u001b[A\n",
      " 99%|█████████▊| 81523/82690 [13:52:40<4:35:17, 14.15s/it]\u001b[A\n",
      " 99%|█████████▊| 81525/82690 [13:52:42<3:18:10, 10.21s/it]\u001b[A\n",
      " 99%|█████████▊| 81526/82690 [13:53:20<5:59:11, 18.52s/it]\u001b[A\n",
      " 99%|█████████▊| 81527/82690 [13:53:21<4:18:48, 13.35s/it]\u001b[A\n",
      " 99%|█████████▊| 81528/82690 [13:53:57<6:29:52, 20.13s/it]\u001b[A\n",
      " 99%|█████████▊| 81529/82690 [13:54:01<4:51:57, 15.09s/it]\u001b[A\n",
      " 99%|█████████▊| 81530/82690 [13:54:17<4:55:42, 15.30s/it]\u001b[A\n",
      " 99%|█████████▊| 81531/82690 [13:54:57<7:24:09, 22.99s/it]\u001b[A\n",
      " 99%|█████████▊| 81532/82690 [13:55:35<8:45:14, 27.21s/it]\u001b[A\n",
      " 99%|█████████▊| 81533/82690 [13:56:08<9:18:41, 28.97s/it]\u001b[A\n",
      " 99%|█████████▊| 81534/82690 [13:56:57<11:18:22, 35.21s/it]\u001b[A\n",
      " 99%|█████████▊| 81535/82690 [13:57:01<8:17:39, 25.85s/it] \u001b[A\n",
      " 99%|█████████▊| 81536/82690 [13:57:25<8:02:17, 25.08s/it]\u001b[A\n",
      " 99%|█████████▊| 81537/82690 [13:57:33<6:26:11, 20.10s/it]\u001b[A\n",
      " 99%|█████████▊| 81538/82690 [13:57:46<5:44:55, 17.96s/it]\u001b[A\n",
      " 99%|█████████▊| 81540/82690 [13:58:00<4:41:13, 14.67s/it]\u001b[A\n",
      " 99%|█████████▊| 81541/82690 [13:58:04<3:39:07, 11.44s/it]\u001b[A\n",
      " 99%|█████████▊| 81542/82690 [13:58:34<5:26:37, 17.07s/it]\u001b[A\n",
      " 99%|█████████▊| 81543/82690 [13:58:35<3:54:00, 12.24s/it]\u001b[A\n",
      " 99%|█████████▊| 81544/82690 [13:59:09<5:58:23, 18.76s/it]\u001b[A\n",
      " 99%|█████████▊| 81545/82690 [13:59:11<4:23:47, 13.82s/it]\u001b[A\n",
      " 99%|█████████▊| 81547/82690 [13:59:28<3:52:21, 12.20s/it]\u001b[A\n",
      " 99%|█████████▊| 81548/82690 [13:59:34<3:15:51, 10.29s/it]\u001b[A\n",
      " 99%|█████████▊| 81549/82690 [13:59:36<2:25:33,  7.65s/it]\u001b[A\n",
      " 99%|█████████▊| 81550/82690 [13:59:39<2:00:26,  6.34s/it]\u001b[A\n",
      " 99%|█████████▊| 81551/82690 [13:59:53<2:46:48,  8.79s/it]\u001b[A\n",
      " 99%|█████████▊| 81552/82690 [14:00:09<3:27:53, 10.96s/it]\u001b[A\n",
      " 99%|█████████▊| 81553/82690 [14:00:22<3:35:02, 11.35s/it]\u001b[A\n",
      " 99%|█████████▊| 81554/82690 [14:00:27<2:57:49,  9.39s/it]\u001b[A\n",
      " 99%|█████████▊| 81555/82690 [14:00:27<2:05:56,  6.66s/it]\u001b[A\n",
      " 99%|█████████▊| 81556/82690 [14:00:28<1:34:58,  5.03s/it]\u001b[A\n",
      " 99%|█████████▊| 81557/82690 [14:00:32<1:27:59,  4.66s/it]\u001b[A\n",
      " 99%|█████████▊| 81558/82690 [14:00:56<3:17:28, 10.47s/it]\u001b[A\n",
      " 99%|█████████▊| 81559/82690 [14:00:57<2:25:09,  7.70s/it]\u001b[A\n",
      " 99%|█████████▊| 81560/82690 [14:01:43<6:02:39, 19.26s/it]\u001b[A\n",
      " 99%|█████████▊| 81561/82690 [14:02:29<8:33:08, 27.27s/it]\u001b[A\n",
      " 99%|█████████▊| 81562/82690 [14:02:40<6:59:14, 22.30s/it]\u001b[A\n",
      " 99%|█████████▊| 81563/82690 [14:03:19<8:33:16, 27.33s/it]\u001b[A\n",
      " 99%|█████████▊| 81564/82690 [14:03:48<8:41:23, 27.78s/it]\u001b[A\n",
      " 99%|█████████▊| 81565/82690 [14:03:57<6:56:39, 22.22s/it]\u001b[A\n",
      " 99%|█████████▊| 81566/82690 [14:04:25<7:26:28, 23.83s/it]\u001b[A\n",
      " 99%|█████████▊| 81567/82690 [14:04:29<5:36:32, 17.98s/it]\u001b[A\n",
      " 99%|█████████▊| 81568/82690 [14:04:38<4:47:17, 15.36s/it]\u001b[A\n",
      " 99%|█████████▊| 81569/82690 [14:04:39<3:23:18, 10.88s/it]\u001b[A\n",
      " 99%|█████████▊| 81570/82690 [14:04:45<2:54:42,  9.36s/it]\u001b[A\n",
      " 99%|█████████▊| 81571/82690 [14:04:55<2:58:33,  9.57s/it]\u001b[A\n",
      " 99%|█████████▊| 81572/82690 [14:04:57<2:19:55,  7.51s/it]\u001b[A\n",
      " 99%|█████████▊| 81573/82690 [14:05:00<1:55:28,  6.20s/it]\u001b[A\n",
      " 99%|█████████▊| 81574/82690 [14:05:02<1:27:06,  4.68s/it]\u001b[A\n",
      " 99%|█████████▊| 81575/82690 [14:05:04<1:13:53,  3.98s/it]\u001b[A\n",
      " 99%|█████████▊| 81576/82690 [14:05:17<2:03:36,  6.66s/it]\u001b[A\n",
      " 99%|█████████▊| 81577/82690 [14:05:29<2:34:01,  8.30s/it]\u001b[A\n",
      " 99%|█████████▊| 81578/82690 [14:06:04<5:03:15, 16.36s/it]\u001b[A\n",
      " 99%|█████████▊| 81579/82690 [14:06:13<4:24:07, 14.26s/it]\u001b[A\n",
      " 99%|█████████▊| 81580/82690 [14:06:37<5:12:27, 16.89s/it]\u001b[A\n",
      " 99%|█████████▊| 81581/82690 [14:07:08<6:35:39, 21.41s/it]\u001b[A\n",
      " 99%|█████████▊| 81582/82690 [14:07:09<4:41:36, 15.25s/it]\u001b[A\n",
      " 99%|█████████▊| 81583/82690 [14:07:30<5:12:51, 16.96s/it]\u001b[A\n",
      " 99%|█████████▊| 81584/82690 [14:08:19<8:09:30, 26.56s/it]\u001b[A\n",
      " 99%|█████████▊| 81585/82690 [14:08:40<7:35:21, 24.72s/it]\u001b[A\n",
      " 99%|█████████▊| 81586/82690 [14:08:43<5:36:52, 18.31s/it]\u001b[A\n",
      " 99%|█████████▊| 81587/82690 [14:08:48<4:24:58, 14.41s/it]\u001b[A\n",
      " 99%|█████████▊| 81588/82690 [14:08:49<3:06:52, 10.17s/it]\u001b[A\n",
      " 99%|█████████▊| 81589/82690 [14:08:51<2:23:07,  7.80s/it]\u001b[A\n",
      " 99%|█████████▊| 81590/82690 [14:09:22<4:30:22, 14.75s/it]\u001b[A\n",
      " 99%|█████████▊| 81591/82690 [14:10:02<6:48:12, 22.29s/it]\u001b[A\n",
      " 99%|█████████▊| 81592/82690 [14:10:04<5:00:04, 16.40s/it]\u001b[A\n",
      " 99%|█████████▊| 81593/82690 [14:10:35<6:16:09, 20.57s/it]\u001b[A\n",
      " 99%|█████████▊| 81594/82690 [14:10:53<6:03:59, 19.93s/it]\u001b[A\n",
      " 99%|█████████▊| 81595/82690 [14:10:55<4:25:32, 14.55s/it]\u001b[A\n",
      " 99%|█████████▊| 81596/82690 [14:11:43<7:27:35, 24.55s/it]\u001b[A\n",
      " 99%|█████████▊| 81597/82690 [14:12:24<8:59:20, 29.61s/it]\u001b[A\n",
      " 99%|█████████▊| 81598/82690 [14:12:45<8:09:51, 26.92s/it]\u001b[A\n",
      " 99%|█████████▊| 81599/82690 [14:13:13<8:13:44, 27.15s/it]\u001b[A\n",
      " 99%|█████████▊| 81600/82690 [14:13:15<5:54:51, 19.53s/it]\u001b[A\n",
      " 99%|█████████▊| 81601/82690 [14:14:02<8:25:13, 27.84s/it]\u001b[A\n",
      " 99%|█████████▊| 81602/82690 [14:14:47<10:01:25, 33.17s/it]\u001b[A\n",
      " 99%|█████████▊| 81603/82690 [14:14:55<7:44:20, 25.63s/it] \u001b[A\n",
      " 99%|█████████▊| 81604/82690 [14:14:56<5:26:12, 18.02s/it]\u001b[A\n",
      " 99%|█████████▊| 81605/82690 [14:15:11<5:13:28, 17.34s/it]\u001b[A\n",
      " 99%|█████████▊| 81606/82690 [14:15:16<4:04:35, 13.54s/it]\u001b[A\n",
      " 99%|█████████▊| 81607/82690 [14:15:24<3:32:54, 11.80s/it]\u001b[A\n",
      " 99%|█████████▊| 81608/82690 [14:15:26<2:42:27,  9.01s/it]\u001b[A\n",
      " 99%|█████████▊| 81609/82690 [14:15:28<2:04:54,  6.93s/it]\u001b[A\n",
      " 99%|█████████▊| 81610/82690 [14:15:30<1:35:59,  5.33s/it]\u001b[A\n",
      " 99%|█████████▊| 81611/82690 [14:15:31<1:13:04,  4.06s/it]\u001b[A\n",
      " 99%|█████████▊| 81612/82690 [14:15:57<3:12:37, 10.72s/it]\u001b[A\n",
      " 99%|█████████▊| 81613/82690 [14:15:59<2:25:21,  8.10s/it]\u001b[A\n",
      " 99%|█████████▊| 81615/82690 [14:16:12<2:16:48,  7.64s/it]\u001b[A\n",
      " 99%|█████████▊| 81616/82690 [14:16:45<4:28:16, 14.99s/it]\u001b[A\n",
      " 99%|█████████▊| 81617/82690 [14:16:46<3:13:37, 10.83s/it]\u001b[A\n",
      " 99%|█████████▊| 81618/82690 [14:16:47<2:22:40,  7.99s/it]\u001b[A\n",
      " 99%|█████████▊| 81619/82690 [14:17:23<4:51:12, 16.31s/it]\u001b[A\n",
      " 99%|█████████▊| 81620/82690 [14:17:59<6:37:44, 22.30s/it]\u001b[A\n",
      " 99%|█████████▊| 81621/82690 [14:18:46<8:49:36, 29.73s/it]\u001b[A\n",
      " 99%|█████████▊| 81622/82690 [14:19:29<9:56:59, 33.54s/it]\u001b[A\n",
      " 99%|█████████▊| 81623/82690 [14:19:53<9:06:01, 30.70s/it]\u001b[A\n",
      " 99%|█████████▊| 81624/82690 [14:20:32<9:51:47, 33.31s/it]\u001b[A\n",
      " 99%|█████████▊| 81625/82690 [14:20:47<8:15:56, 27.94s/it]\u001b[A\n",
      " 99%|█████████▊| 81626/82690 [14:20:57<6:39:06, 22.51s/it]\u001b[A\n",
      " 99%|█████████▊| 81627/82690 [14:21:23<6:56:20, 23.50s/it]\u001b[A\n",
      " 99%|█████████▊| 81628/82690 [14:21:26<5:07:22, 17.37s/it]\u001b[A\n",
      " 99%|█████████▊| 81629/82690 [14:21:28<3:44:22, 12.69s/it]\u001b[A\n",
      " 99%|█████████▊| 81630/82690 [14:21:52<4:42:08, 15.97s/it]\u001b[A\n",
      " 99%|█████████▊| 81631/82690 [14:22:01<4:05:06, 13.89s/it]\u001b[A\n",
      " 99%|█████████▊| 81632/82690 [14:22:07<3:23:28, 11.54s/it]\u001b[A\n",
      " 99%|█████████▊| 81633/82690 [14:22:29<4:20:13, 14.77s/it]\u001b[A\n",
      " 99%|█████████▊| 81634/82690 [14:22:38<3:51:34, 13.16s/it]\u001b[A\n",
      " 99%|█████████▊| 81635/82690 [14:22:40<2:50:52,  9.72s/it]\u001b[A\n",
      " 99%|█████████▊| 81636/82690 [14:23:12<4:46:31, 16.31s/it]\u001b[A\n",
      " 99%|█████████▊| 81637/82690 [14:23:15<3:37:56, 12.42s/it]\u001b[A\n",
      " 99%|█████████▊| 81638/82690 [14:24:04<6:51:26, 23.47s/it]\u001b[A\n",
      " 99%|█████████▊| 81639/82690 [14:25:03<9:58:29, 34.17s/it]\u001b[A\n"
     ]
    },
    {
     "name": "stderr",
     "output_type": "stream",
     "text": [
      " 99%|█████████▊| 81640/82690 [14:25:18<8:13:33, 28.20s/it]\u001b[A\n",
      " 99%|█████████▊| 81641/82690 [14:25:34<7:08:02, 24.48s/it]\u001b[A\n",
      " 99%|█████████▊| 81642/82690 [14:26:09<8:02:52, 27.65s/it]\u001b[A\n",
      " 99%|█████████▊| 81643/82690 [14:26:58<9:56:01, 34.16s/it]\u001b[A\n",
      " 99%|█████████▊| 81644/82690 [14:27:01<7:11:37, 24.76s/it]\u001b[A\n",
      " 99%|█████████▊| 81645/82690 [14:27:01<5:03:30, 17.43s/it]\u001b[A\n",
      " 99%|█████████▊| 81646/82690 [14:27:03<3:41:26, 12.73s/it]\u001b[A\n",
      " 99%|█████████▊| 81647/82690 [14:27:10<3:10:13, 10.94s/it]\u001b[A\n",
      " 99%|█████████▊| 81648/82690 [14:27:17<2:53:21,  9.98s/it]\u001b[A\n",
      " 99%|█████████▊| 81649/82690 [14:27:55<5:18:05, 18.33s/it]\u001b[A\n",
      " 99%|█████████▊| 81650/82690 [14:27:56<3:47:59, 13.15s/it]\u001b[A\n",
      " 99%|█████████▊| 81651/82690 [14:28:14<4:12:38, 14.59s/it]\u001b[A\n",
      " 99%|█████████▊| 81652/82690 [14:28:31<4:21:50, 15.14s/it]\u001b[A\n",
      " 99%|█████████▊| 81653/82690 [14:28:57<5:17:48, 18.39s/it]\u001b[A\n",
      " 99%|█████████▊| 81654/82690 [14:29:00<4:00:51, 13.95s/it]\u001b[A\n",
      " 99%|█████████▊| 81655/82690 [14:29:01<2:53:42, 10.07s/it]\u001b[A\n",
      " 99%|█████████▊| 81656/82690 [14:29:05<2:20:37,  8.16s/it]\u001b[A\n",
      " 99%|█████████▉| 81657/82690 [14:29:10<2:05:09,  7.27s/it]\u001b[A\n",
      " 99%|█████████▉| 81658/82690 [14:29:55<5:21:36, 18.70s/it]\u001b[A\n",
      " 99%|█████████▉| 81659/82690 [14:30:19<5:46:07, 20.14s/it]\u001b[A\n",
      " 99%|█████████▉| 81660/82690 [14:30:22<4:15:43, 14.90s/it]\u001b[A\n",
      " 99%|█████████▉| 81661/82690 [14:30:52<5:37:26, 19.68s/it]\u001b[A\n",
      " 99%|█████████▉| 81662/82690 [14:30:54<4:02:40, 14.16s/it]\u001b[A\n",
      " 99%|█████████▉| 81663/82690 [14:31:22<5:15:31, 18.43s/it]\u001b[A\n",
      " 99%|█████████▉| 81664/82690 [14:31:28<4:09:28, 14.59s/it]\u001b[A\n",
      " 99%|█████████▉| 81665/82690 [14:31:46<4:30:23, 15.83s/it]\u001b[A\n",
      " 99%|█████████▉| 81666/82690 [14:31:47<3:14:31, 11.40s/it]\u001b[A\n",
      " 99%|█████████▉| 81667/82690 [14:32:32<6:04:35, 21.38s/it]\u001b[A\n",
      " 99%|█████████▉| 81668/82690 [14:32:33<4:19:30, 15.24s/it]\u001b[A\n",
      " 99%|█████████▉| 81669/82690 [14:33:04<5:39:56, 19.98s/it]\u001b[A\n",
      " 99%|█████████▉| 81670/82690 [14:33:06<4:06:49, 14.52s/it]\u001b[A\n",
      " 99%|█████████▉| 81671/82690 [14:33:08<3:01:11, 10.67s/it]\u001b[A\n",
      " 99%|█████████▉| 81672/82690 [14:33:26<3:38:22, 12.87s/it]\u001b[A\n",
      " 99%|█████████▉| 81673/82690 [14:33:27<2:39:29,  9.41s/it]\u001b[A\n",
      " 99%|█████████▉| 81674/82690 [14:33:48<3:40:57, 13.05s/it]\u001b[A\n",
      " 99%|█████████▉| 81675/82690 [14:34:03<3:50:38, 13.63s/it]\u001b[A\n",
      " 99%|█████████▉| 81676/82690 [14:34:11<3:18:27, 11.74s/it]\u001b[A\n",
      " 99%|█████████▉| 81677/82690 [14:34:15<2:42:00,  9.60s/it]\u001b[A\n",
      " 99%|█████████▉| 81678/82690 [14:34:33<3:20:14, 11.87s/it]\u001b[A\n",
      " 99%|█████████▉| 81679/82690 [14:34:55<4:14:59, 15.13s/it]\u001b[A\n",
      " 99%|█████████▉| 81680/82690 [14:34:56<2:59:59, 10.69s/it]\u001b[A\n",
      " 99%|█████████▉| 81681/82690 [14:34:58<2:18:13,  8.22s/it]\u001b[A\n",
      " 99%|█████████▉| 81682/82690 [14:35:03<2:00:45,  7.19s/it]\u001b[A\n",
      " 99%|█████████▉| 81683/82690 [14:35:39<4:26:01, 15.85s/it]\u001b[A\n",
      " 99%|█████████▉| 81684/82690 [14:35:58<4:42:03, 16.82s/it]\u001b[A\n",
      " 99%|█████████▉| 81685/82690 [14:36:04<3:46:54, 13.55s/it]\u001b[A\n",
      " 99%|█████████▉| 81686/82690 [14:36:09<3:05:37, 11.09s/it]\u001b[A\n",
      " 99%|█████████▉| 81687/82690 [14:36:11<2:20:46,  8.42s/it]\u001b[A\n",
      " 99%|█████████▉| 81688/82690 [14:36:36<3:41:23, 13.26s/it]\u001b[A\n",
      " 99%|█████████▉| 81689/82690 [14:36:41<3:01:22, 10.87s/it]\u001b[A\n",
      " 99%|█████████▉| 81690/82690 [14:36:42<2:12:06,  7.93s/it]\u001b[A\n",
      " 99%|█████████▉| 81691/82690 [14:36:46<1:48:34,  6.52s/it]\u001b[A\n",
      " 99%|█████████▉| 81692/82690 [14:36:47<1:24:46,  5.10s/it]\u001b[A\n",
      " 99%|█████████▉| 81693/82690 [14:36:49<1:06:56,  4.03s/it]\u001b[A\n",
      " 99%|█████████▉| 81694/82690 [14:37:12<2:39:46,  9.62s/it]\u001b[A\n",
      " 99%|█████████▉| 81695/82690 [14:37:20<2:31:08,  9.11s/it]\u001b[A\n",
      " 99%|█████████▉| 81696/82690 [14:37:20<1:47:24,  6.48s/it]\u001b[A\n",
      " 99%|█████████▉| 81697/82690 [14:37:25<1:38:16,  5.94s/it]\u001b[A\n",
      " 99%|█████████▉| 81698/82690 [14:37:26<1:15:26,  4.56s/it]\u001b[A\n",
      " 99%|█████████▉| 81699/82690 [14:37:29<1:08:37,  4.16s/it]\u001b[A\n",
      " 99%|█████████▉| 81700/82690 [14:37:32<1:00:08,  3.65s/it]\u001b[A\n",
      " 99%|█████████▉| 81701/82690 [14:38:08<3:43:45, 13.57s/it]\u001b[A\n",
      " 99%|█████████▉| 81702/82690 [14:38:52<6:14:27, 22.74s/it]\u001b[A\n",
      " 99%|█████████▉| 81704/82690 [14:38:58<4:35:38, 16.77s/it]\u001b[A\n",
      " 99%|█████████▉| 81705/82690 [14:39:01<3:27:40, 12.65s/it]\u001b[A\n",
      " 99%|█████████▉| 81706/82690 [14:39:23<4:11:54, 15.36s/it]\u001b[A\n",
      " 99%|█████████▉| 81707/82690 [14:39:27<3:16:14, 11.98s/it]\u001b[A\n",
      " 99%|█████████▉| 81708/82690 [14:39:29<2:28:28,  9.07s/it]\u001b[A\n",
      " 99%|█████████▉| 81709/82690 [14:40:06<4:45:44, 17.48s/it]\u001b[A\n",
      " 99%|█████████▉| 81710/82690 [14:40:15<4:02:24, 14.84s/it]\u001b[A\n",
      " 99%|█████████▉| 81711/82690 [14:40:55<6:07:25, 22.52s/it]\u001b[A\n",
      " 99%|█████████▉| 81712/82690 [14:41:17<6:01:21, 22.17s/it]\u001b[A\n",
      " 99%|█████████▉| 81713/82690 [14:41:57<7:30:27, 27.66s/it]\u001b[A\n",
      " 99%|█████████▉| 81714/82690 [14:42:25<7:31:03, 27.73s/it]\u001b[A\n",
      " 99%|█████████▉| 81715/82690 [14:42:29<5:36:04, 20.68s/it]\u001b[A\n",
      " 99%|█████████▉| 81716/82690 [14:43:15<7:37:45, 28.20s/it]\u001b[A\n",
      " 99%|█████████▉| 81717/82690 [14:43:22<5:53:43, 21.81s/it]\u001b[A\n",
      " 99%|█████████▉| 81718/82690 [14:44:03<7:24:59, 27.47s/it]\u001b[A\n",
      " 99%|█████████▉| 81719/82690 [14:44:30<7:24:48, 27.49s/it]\u001b[A\n",
      " 99%|█████████▉| 81720/82690 [14:45:02<7:43:22, 28.66s/it]\u001b[A\n",
      " 99%|█████████▉| 81721/82690 [14:45:16<6:31:29, 24.24s/it]\u001b[A\n",
      " 99%|█████████▉| 81722/82690 [14:45:24<5:15:58, 19.59s/it]\u001b[A\n",
      " 99%|█████████▉| 81724/82690 [14:45:48<4:37:53, 17.26s/it]\u001b[A\n",
      " 99%|█████████▉| 81725/82690 [14:46:12<5:12:24, 19.42s/it]\u001b[A\n",
      " 99%|█████████▉| 81726/82690 [14:46:25<4:37:58, 17.30s/it]\u001b[A\n",
      " 99%|█████████▉| 81727/82690 [14:46:27<3:26:42, 12.88s/it]\u001b[A\n",
      " 99%|█████████▉| 81728/82690 [14:46:53<4:30:06, 16.85s/it]\u001b[A\n",
      " 99%|█████████▉| 81729/82690 [14:47:33<6:18:49, 23.65s/it]\u001b[A\n",
      " 99%|█████████▉| 81730/82690 [14:47:34<4:30:05, 16.88s/it]\u001b[A\n",
      " 99%|█████████▉| 81731/82690 [14:47:44<3:55:06, 14.71s/it]\u001b[A\n",
      " 99%|█████████▉| 81732/82690 [14:47:48<3:03:21, 11.48s/it]\u001b[A\n",
      " 99%|█████████▉| 81733/82690 [14:48:09<3:51:35, 14.52s/it]\u001b[A\n",
      " 99%|█████████▉| 81734/82690 [14:48:25<3:55:15, 14.76s/it]\u001b[A\n",
      " 99%|█████████▉| 81735/82690 [14:48:36<3:40:32, 13.86s/it]\u001b[A\n",
      " 99%|█████████▉| 81736/82690 [14:48:42<3:00:25, 11.35s/it]\u001b[A\n",
      " 99%|█████████▉| 81737/82690 [14:48:45<2:21:50,  8.93s/it]\u001b[A\n",
      " 99%|█████████▉| 81739/82690 [14:48:50<1:51:52,  7.06s/it]\u001b[A\n",
      " 99%|█████████▉| 81740/82690 [14:48:53<1:27:58,  5.56s/it]\u001b[A\n",
      " 99%|█████████▉| 81741/82690 [14:49:06<2:03:02,  7.78s/it]\u001b[A\n",
      " 99%|█████████▉| 81742/82690 [14:49:25<3:00:02, 11.40s/it]\u001b[A\n",
      " 99%|█████████▉| 81743/82690 [14:49:27<2:15:48,  8.60s/it]\u001b[A\n",
      " 99%|█████████▉| 81744/82690 [14:49:29<1:43:05,  6.54s/it]\u001b[A\n",
      " 99%|█████████▉| 81745/82690 [14:50:05<4:00:50, 15.29s/it]\u001b[A\n",
      " 99%|█████████▉| 81746/82690 [14:50:29<4:40:47, 17.85s/it]\u001b[A\n",
      " 99%|█████████▉| 81747/82690 [14:50:37<3:55:16, 14.97s/it]\u001b[A\n",
      " 99%|█████████▉| 81748/82690 [14:50:45<3:22:11, 12.88s/it]\u001b[A\n",
      " 99%|█████████▉| 81749/82690 [14:50:49<2:38:14, 10.09s/it]\u001b[A\n",
      " 99%|█████████▉| 81750/82690 [14:51:00<2:43:29, 10.44s/it]\u001b[A\n",
      " 99%|█████████▉| 81751/82690 [14:51:14<2:58:54, 11.43s/it]\u001b[A\n",
      " 99%|█████████▉| 81752/82690 [14:51:21<2:38:52, 10.16s/it]\u001b[A\n",
      " 99%|█████████▉| 81753/82690 [14:51:23<1:59:59,  7.68s/it]\u001b[A\n",
      " 99%|█████████▉| 81754/82690 [14:51:25<1:33:18,  5.98s/it]\u001b[A\n",
      " 99%|█████████▉| 81755/82690 [14:51:32<1:39:43,  6.40s/it]\u001b[A\n",
      " 99%|█████████▉| 81756/82690 [14:51:33<1:13:36,  4.73s/it]\u001b[A\n",
      " 99%|█████████▉| 81757/82690 [14:52:20<4:31:58, 17.49s/it]\u001b[A\n",
      " 99%|█████████▉| 81759/82690 [14:52:22<3:13:27, 12.47s/it]\u001b[A\n",
      " 99%|█████████▉| 81760/82690 [14:52:27<2:40:48, 10.38s/it]\u001b[A\n",
      " 99%|█████████▉| 81761/82690 [14:52:35<2:30:41,  9.73s/it]\u001b[A\n",
      " 99%|█████████▉| 81762/82690 [14:52:36<1:47:08,  6.93s/it]\u001b[A\n",
      " 99%|█████████▉| 81763/82690 [14:53:03<3:20:23, 12.97s/it]\u001b[A\n",
      " 99%|█████████▉| 81764/82690 [14:53:07<2:40:49, 10.42s/it]\u001b[A\n",
      " 99%|█████████▉| 81765/82690 [14:53:13<2:20:05,  9.09s/it]\u001b[A\n",
      " 99%|█████████▉| 81766/82690 [14:53:25<2:32:33,  9.91s/it]\u001b[A\n",
      " 99%|█████████▉| 81767/82690 [14:53:31<2:11:56,  8.58s/it]\u001b[A\n",
      " 99%|█████████▉| 81768/82690 [14:53:33<1:41:27,  6.60s/it]\u001b[A\n",
      " 99%|█████████▉| 81769/82690 [14:54:17<4:37:35, 18.08s/it]\u001b[A\n",
      " 99%|█████████▉| 81770/82690 [14:54:18<3:17:54, 12.91s/it]\u001b[A\n",
      " 99%|█████████▉| 81771/82690 [14:54:39<3:54:27, 15.31s/it]\u001b[A\n",
      " 99%|█████████▉| 81772/82690 [14:54:41<2:51:11, 11.19s/it]\u001b[A\n",
      " 99%|█████████▉| 81773/82690 [14:54:59<3:24:40, 13.39s/it]\u001b[A\n",
      " 99%|█████████▉| 81774/82690 [14:55:07<2:56:35, 11.57s/it]\u001b[A\n",
      " 99%|█████████▉| 81775/82690 [14:55:10<2:20:34,  9.22s/it]\u001b[A\n",
      " 99%|█████████▉| 81776/82690 [14:55:18<2:14:52,  8.85s/it]\u001b[A\n",
      " 99%|█████████▉| 81777/82690 [14:55:54<4:16:28, 16.85s/it]\u001b[A\n",
      " 99%|█████████▉| 81778/82690 [14:56:09<4:07:45, 16.30s/it]\u001b[A\n",
      " 99%|█████████▉| 81779/82690 [14:56:47<5:47:48, 22.91s/it]\u001b[A\n",
      " 99%|█████████▉| 81780/82690 [14:56:56<4:43:06, 18.67s/it]\u001b[A\n",
      " 99%|█████████▉| 81781/82690 [14:56:59<3:32:54, 14.05s/it]\u001b[A\n",
      " 99%|█████████▉| 81782/82690 [14:57:50<6:18:32, 25.01s/it]\u001b[A\n",
      " 99%|█████████▉| 81783/82690 [14:58:26<7:09:23, 28.41s/it]\u001b[A\n",
      " 99%|█████████▉| 81784/82690 [14:58:57<7:22:24, 29.30s/it]\u001b[A\n",
      " 99%|█████████▉| 81785/82690 [14:59:00<5:20:02, 21.22s/it]\u001b[A\n",
      " 99%|█████████▉| 81786/82690 [14:59:07<4:17:35, 17.10s/it]\u001b[A\n",
      " 99%|█████████▉| 81787/82690 [14:59:21<4:02:38, 16.12s/it]\u001b[A\n",
      " 99%|█████████▉| 81788/82690 [14:59:32<3:37:11, 14.45s/it]\u001b[A\n",
      " 99%|█████████▉| 81789/82690 [14:59:32<2:35:14, 10.34s/it]\u001b[A\n",
      " 99%|█████████▉| 81790/82690 [14:59:33<1:49:15,  7.28s/it]\u001b[A\n",
      " 99%|█████████▉| 81791/82690 [14:59:54<2:51:54, 11.47s/it]\u001b[A\n",
      " 99%|█████████▉| 81792/82690 [14:59:56<2:10:52,  8.74s/it]\u001b[A\n",
      " 99%|█████████▉| 81793/82690 [15:00:27<3:48:11, 15.26s/it]\u001b[A\n",
      " 99%|█████████▉| 81794/82690 [15:00:38<3:30:20, 14.09s/it]\u001b[A\n",
      " 99%|█████████▉| 81795/82690 [15:00:39<2:32:02, 10.19s/it]\u001b[A\n",
      " 99%|█████████▉| 81796/82690 [15:01:22<4:56:48, 19.92s/it]\u001b[A\n",
      " 99%|█████████▉| 81797/82690 [15:01:28<3:57:06, 15.93s/it]\u001b[A\n",
      " 99%|█████████▉| 81798/82690 [15:01:31<2:59:15, 12.06s/it]\u001b[A\n",
      " 99%|█████████▉| 81799/82690 [15:02:06<4:37:50, 18.71s/it]\u001b[A\n",
      " 99%|█████████▉| 81800/82690 [15:02:15<3:55:46, 15.89s/it]\u001b[A\n",
      " 99%|█████████▉| 81802/82690 [15:02:17<2:48:32, 11.39s/it]\u001b[A\n",
      " 99%|█████████▉| 81803/82690 [15:02:36<3:24:24, 13.83s/it]\u001b[A\n",
      " 99%|█████████▉| 81804/82690 [15:03:00<4:08:36, 16.84s/it]\u001b[A\n",
      " 99%|█████████▉| 81805/82690 [15:03:03<3:08:19, 12.77s/it]\u001b[A\n",
      " 99%|█████████▉| 81806/82690 [15:03:09<2:38:15, 10.74s/it]\u001b[A\n",
      " 99%|█████████▉| 81807/82690 [15:03:52<5:00:57, 20.45s/it]\u001b[A\n",
      " 99%|█████████▉| 81808/82690 [15:04:33<6:29:17, 26.48s/it]\u001b[A\n",
      " 99%|█████████▉| 81809/82690 [15:04:38<4:52:59, 19.95s/it]\u001b[A\n",
      " 99%|█████████▉| 81810/82690 [15:04:40<3:34:11, 14.60s/it]\u001b[A\n",
      " 99%|█████████▉| 81811/82690 [15:04:49<3:08:36, 12.87s/it]\u001b[A\n",
      " 99%|█████████▉| 81812/82690 [15:05:11<3:50:54, 15.78s/it]\u001b[A\n",
      " 99%|█████████▉| 81813/82690 [15:05:13<2:48:38, 11.54s/it]\u001b[A\n",
      " 99%|█████████▉| 81814/82690 [15:05:13<1:59:34,  8.19s/it]\u001b[A\n",
      " 99%|█████████▉| 81815/82690 [15:05:24<2:12:15,  9.07s/it]\u001b[A\n",
      " 99%|█████████▉| 81816/82690 [15:05:30<1:54:52,  7.89s/it]\u001b[A\n",
      " 99%|█████████▉| 81817/82690 [15:05:31<1:24:50,  5.83s/it]\u001b[A\n",
      " 99%|█████████▉| 81818/82690 [15:05:42<1:47:00,  7.36s/it]\u001b[A\n",
      " 99%|█████████▉| 81819/82690 [15:05:48<1:41:17,  6.98s/it]\u001b[A\n",
      " 99%|█████████▉| 81820/82690 [15:05:51<1:25:44,  5.91s/it]\u001b[A\n",
      " 99%|█████████▉| 81821/82690 [15:06:30<3:47:58, 15.74s/it]\u001b[A\n",
      " 99%|█████████▉| 81822/82690 [15:06:36<3:04:48, 12.77s/it]\u001b[A\n",
      " 99%|█████████▉| 81823/82690 [15:07:41<6:52:11, 28.53s/it]\u001b[A\n",
      " 99%|█████████▉| 81824/82690 [15:07:45<5:07:45, 21.32s/it]\u001b[A\n",
      " 99%|█████████▉| 81825/82690 [15:08:41<7:34:03, 31.50s/it]\u001b[A\n",
      " 99%|█████████▉| 81826/82690 [15:08:46<5:38:47, 23.53s/it]\u001b[A\n",
      " 99%|█████████▉| 81827/82690 [15:09:24<6:43:21, 28.04s/it]\u001b[A\n",
      " 99%|█████████▉| 81828/82690 [15:09:50<6:32:33, 27.32s/it]\u001b[A\n",
      " 99%|█████████▉| 81829/82690 [15:10:16<6:29:20, 27.13s/it]\u001b[A\n",
      " 99%|█████████▉| 81830/82690 [15:10:40<6:13:29, 26.06s/it]\u001b[A\n",
      " 99%|█████████▉| 81831/82690 [15:11:11<6:33:22, 27.48s/it]\u001b[A\n",
      " 99%|█████████▉| 81832/82690 [15:11:13<4:45:22, 19.96s/it]\u001b[A\n",
      " 99%|█████████▉| 81833/82690 [15:11:15<3:27:00, 14.49s/it]\u001b[A\n",
      " 99%|█████████▉| 81834/82690 [15:11:34<3:48:14, 16.00s/it]\u001b[A\n",
      " 99%|█████████▉| 81835/82690 [15:12:12<5:18:11, 22.33s/it]\u001b[A\n",
      " 99%|█████████▉| 81836/82690 [15:12:19<4:13:23, 17.80s/it]\u001b[A\n",
      " 99%|█████████▉| 81837/82690 [15:12:24<3:19:09, 14.01s/it]\u001b[A\n",
      " 99%|█████████▉| 81838/82690 [15:12:49<4:04:31, 17.22s/it]\u001b[A\n",
      " 99%|█████████▉| 81839/82690 [15:13:38<6:19:41, 26.77s/it]\u001b[A\n",
      " 99%|█████████▉| 81840/82690 [15:14:43<9:02:42, 38.31s/it]\u001b[A\n",
      " 99%|█████████▉| 81841/82690 [15:14:44<6:24:43, 27.19s/it]\u001b[A\n",
      " 99%|█████████▉| 81842/82690 [15:14:49<4:51:24, 20.62s/it]\u001b[A\n",
      " 99%|█████████▉| 81843/82690 [15:16:49<11:49:43, 50.28s/it]\u001b[A\n",
      " 99%|█████████▉| 81844/82690 [15:16:51<8:25:39, 35.86s/it] \u001b[A\n",
      " 99%|█████████▉| 81845/82690 [15:17:55<10:22:48, 44.22s/it]\u001b[A\n",
      " 99%|█████████▉| 81846/82690 [15:19:35<14:17:09, 60.94s/it]\u001b[A\n",
      " 99%|█████████▉| 81847/82690 [15:19:39<10:18:41, 44.04s/it]\u001b[A\n",
      " 99%|█████████▉| 81848/82690 [15:21:31<15:03:08, 64.36s/it]\u001b[A\n",
      " 99%|█████████▉| 81849/82690 [15:21:45<11:28:13, 49.10s/it]\u001b[A\n",
      " 99%|█████████▉| 81850/82690 [15:23:43<16:19:49, 69.99s/it]\u001b[A\n",
      " 99%|█████████▉| 81851/82690 [15:26:51<24:31:57, 105.26s/it]\u001b[A\n",
      " 99%|█████████▉| 81852/82690 [15:28:21<23:25:23, 100.62s/it]\u001b[A\n",
      " 99%|█████████▉| 81853/82690 [15:28:22<16:26:12, 70.70s/it] \u001b[A\n",
      " 99%|█████████▉| 81854/82690 [15:28:29<11:58:39, 51.58s/it]\u001b[A\n",
      " 99%|█████████▉| 81855/82690 [15:28:36<8:51:43, 38.21s/it] \u001b[A\n",
      " 99%|█████████▉| 81856/82690 [15:29:22<9:26:12, 40.73s/it]\u001b[A\n",
      " 99%|█████████▉| 81857/82690 [15:29:24<6:42:25, 28.99s/it]\u001b[A\n",
      " 99%|█████████▉| 81858/82690 [15:29:47<6:18:44, 27.31s/it]\u001b[A\n",
      " 99%|█████████▉| 81859/82690 [15:31:45<12:34:56, 54.51s/it]\u001b[A\n",
      " 99%|█████████▉| 81860/82690 [15:33:37<16:31:28, 71.67s/it]\u001b[A\n",
      " 99%|█████████▉| 81861/82690 [15:34:23<14:43:22, 63.94s/it]\u001b[A\n",
      " 99%|█████████▉| 81862/82690 [15:34:31<10:50:17, 47.12s/it]\u001b[A\n",
      " 99%|█████████▉| 81863/82690 [15:34:36<7:58:08, 34.69s/it] \u001b[A\n",
      " 99%|█████████▉| 81864/82690 [15:35:20<8:35:10, 37.42s/it]\u001b[A\n",
      " 99%|█████████▉| 81865/82690 [15:35:32<6:50:55, 29.89s/it]\u001b[A\n",
      " 99%|█████████▉| 81866/82690 [15:35:35<4:58:26, 21.73s/it]\u001b[A\n",
      " 99%|█████████▉| 81867/82690 [15:35:36<3:33:46, 15.59s/it]\u001b[A\n",
      " 99%|█████████▉| 81868/82690 [15:35:45<3:03:46, 13.41s/it]\u001b[A\n",
      " 99%|█████████▉| 81869/82690 [15:36:02<3:19:18, 14.57s/it]\u001b[A\n",
      " 99%|█████████▉| 81870/82690 [15:36:25<3:52:32, 17.02s/it]\u001b[A\n",
      " 99%|█████████▉| 81871/82690 [15:37:22<6:36:55, 29.08s/it]\u001b[A\n",
      " 99%|█████████▉| 81872/82690 [15:38:27<9:04:14, 39.92s/it]\u001b[A\n",
      " 99%|█████████▉| 81874/82690 [15:38:33<6:30:52, 28.74s/it]\u001b[A\n",
      " 99%|█████████▉| 81875/82690 [15:38:34<4:39:16, 20.56s/it]\u001b[A\n",
      " 99%|█████████▉| 81876/82690 [15:38:35<3:19:25, 14.70s/it]\u001b[A\n",
      " 99%|█████████▉| 81877/82690 [15:38:37<2:29:10, 11.01s/it]\u001b[A\n",
      " 99%|█████████▉| 81878/82690 [15:38:43<2:06:40,  9.36s/it]\u001b[A\n",
      " 99%|█████████▉| 81879/82690 [15:39:31<4:41:55, 20.86s/it]\u001b[A\n",
      " 99%|█████████▉| 81880/82690 [15:39:44<4:12:05, 18.67s/it]\u001b[A\n",
      " 99%|█████████▉| 81881/82690 [15:39:56<3:44:30, 16.65s/it]\u001b[A\n",
      " 99%|█████████▉| 81882/82690 [15:40:32<5:02:03, 22.43s/it]\u001b[A\n",
      " 99%|█████████▉| 81883/82690 [15:40:38<3:53:50, 17.39s/it]\u001b[A\n",
      "100%|██████████| 82690/82690 [15:40:38<00:00,  1.47it/s]  \u001b[A"
     ]
    }
   ],
   "source": [
    "current_time = 540\n",
    "network_simulation = simulation(features,network_simulation,current_time)"
   ]
  },
  {
   "cell_type": "code",
   "execution_count": 46,
   "metadata": {},
   "outputs": [],
   "source": [
    "features.to_csv(path+event+'-features_from_510_minutes.csv')"
   ]
  },
  {
   "cell_type": "code",
   "execution_count": 47,
   "metadata": {},
   "outputs": [],
   "source": [
    "network_simulation.to_csv(path+event+'_simulation_result_from_510_minutes.csv')"
   ]
  },
  {
   "cell_type": "code",
   "execution_count": 33,
   "metadata": {},
   "outputs": [
    {
     "data": {
      "text/plain": [
       "1832451"
      ]
     },
     "execution_count": 33,
     "metadata": {},
     "output_type": "execute_result"
    }
   ],
   "source": [
    "len(network_simulation)"
   ]
  },
  {
   "cell_type": "code",
   "execution_count": 45,
   "metadata": {},
   "outputs": [
    {
     "data": {
      "text/plain": [
       "time_lapsed\n",
       "420.0    1675698\n",
       "450.0        481\n",
       "480.0         44\n",
       "510.0         11\n",
       "Name: id, dtype: int64"
      ]
     },
     "execution_count": 45,
     "metadata": {},
     "output_type": "execute_result"
    }
   ],
   "source": [
    "df_after_7.groupby(['time_lapsed']).count()['id']"
   ]
  },
  {
   "cell_type": "code",
   "execution_count": 53,
   "metadata": {},
   "outputs": [
    {
     "data": {
      "text/plain": [
       "1703274"
      ]
     },
     "execution_count": 53,
     "metadata": {},
     "output_type": "execute_result"
    }
   ],
   "source": [
    "len(infected_followers_predicted)"
   ]
  },
  {
   "cell_type": "code",
   "execution_count": 10,
   "metadata": {},
   "outputs": [],
   "source": [
    "#Precision Recall:\n",
    "\n",
    "simulation_comparison = pd.concat([network_simulation['time_lapsed'],users['time_lapsed']],axis = 1)\n",
    "column_names = ['nw_time_lapsed','usr_time_lapsed']\n",
    "simulation_comparison.columns = column_names\n",
    "\n",
    "simulation_comparison['both_infected'] = simulation_comparison.apply(lambda x: 1 if (np.isnan(x['nw_time_lapsed']) == False)\n",
    "                                                                          & (np.isnan(x['usr_time_lapsed']) == False)\n",
    "                                                                     else 0,axis = 1)\n",
    "\n",
    "true_positive = simulation_comparison['both_infected'].sum()\n",
    "total_predicted_positive = len(simulation_comparison[np.isnan(simulation_comparison['nw_time_lapsed']) == False])\n",
    "precision = true_positive/total_predicted_positive\n",
    "total_actual_positive = len(simulation_comparison[np.isnan(simulation_comparison['usr_time_lapsed']) == False])\n",
    "recall = true_positive/total_actual_positive\n",
    "f1_score = (2*(precision * recall))/(precision + recall)\n",
    "\n",
    "# accuracy['simulation_start_time'].append(6)\n",
    "# accuracy['precision'].append(precision)\n",
    "# accuracy['recall'].append(recall)\n",
    "\n",
    "# accuracy['f1_score'].append(f1_score)\n",
    "\n",
    "\n",
    "\n",
    "\n"
   ]
  },
  {
   "cell_type": "code",
   "execution_count": 11,
   "metadata": {},
   "outputs": [],
   "source": [
    "accuracy = {\n",
    "    \n",
    "    'simulation_start_time':[],\n",
    "    'precision':[],\n",
    "    'recall':[],\n",
    "    'f1_score':[]\n",
    "    }\n",
    "\n",
    "accuracy['simulation_start_time'].append(14)\n",
    "accuracy['precision'].append(precision)\n",
    "accuracy['recall'].append(recall)\n",
    "\n",
    "accuracy['f1_score'].append(f1_score)\n",
    "result = pd.DataFrame(accuracy)\n",
    "result.to_csv(path+event+'_simulation_accuracy_'+str(start_hour)+'hrs_'+str(start_hour)+'hrs_model.csv')"
   ]
  }
 ],
 "metadata": {
  "kernelspec": {
   "display_name": "Python 3",
   "language": "python",
   "name": "python3"
  },
  "language_info": {
   "codemirror_mode": {
    "name": "ipython",
    "version": 3
   },
   "file_extension": ".py",
   "mimetype": "text/x-python",
   "name": "python",
   "nbconvert_exporter": "python",
   "pygments_lexer": "ipython3",
   "version": "3.7.0"
  }
 },
 "nbformat": 4,
 "nbformat_minor": 2
}
