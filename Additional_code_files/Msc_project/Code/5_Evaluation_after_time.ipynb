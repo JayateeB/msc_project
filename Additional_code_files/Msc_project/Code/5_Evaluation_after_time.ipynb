{
 "cells": [
  {
   "cell_type": "code",
   "execution_count": 25,
   "metadata": {},
   "outputs": [],
   "source": [
    "import pandas as pd\n",
    "import csv\n",
    "import pickle\n",
    "import numpy as np\n",
    "from IPython.display import display\n",
    "import multiprocessing\n",
    "from multiprocessing import Pool\n",
    "import math\n",
    "from tqdm import tqdm\n",
    "import time\n",
    "import traceback\n",
    "from sklearn.externals import joblib\n",
    "import xgboost as xgb\n",
    "import json\n",
    "import time"
   ]
  },
  {
   "cell_type": "code",
   "execution_count": 26,
   "metadata": {},
   "outputs": [],
   "source": [
    "path = \"/Users/jay/MSC_WSBDA/MSc_Thesis/Msc_project/Data/\""
   ]
  },
  {
   "cell_type": "code",
   "execution_count": 72,
   "metadata": {},
   "outputs": [],
   "source": [
    "event = 'givenchy'\n",
    "start_hour = 15"
   ]
  },
  {
   "cell_type": "code",
   "execution_count": 73,
   "metadata": {},
   "outputs": [],
   "source": [
    "def load_pickle_file(pickled_file):\n",
    "    print(f'Loading data file from {pickled_file}')\n",
    "    infile = open(pickled_file,'rb')\n",
    "    unpickled_file = pickle.load(infile)\n",
    "    print(f'Loaded {len(unpickled_file)} entries')\n",
    "    infile.close()\n",
    "    return unpickled_file\n",
    "          \n",
    "    \n",
    "def save_pickle_file(path, data):\n",
    "    print('Dumping data to path {}'.format(path))\n",
    "    with open(path, 'wb') as file:\n",
    "        pickle.dump(data, file)\n",
    "    print('Finished dumping data to path {}'.format(path))\n",
    "\n",
    "\n",
    "def mean(numbers):\n",
    "    return float(sum(numbers)) / max(len(numbers), 1)\n",
    "\n",
    "\n",
    "def safe_division(x, y):\n",
    "    if y == 0:\n",
    "        return 0\n",
    "    else:\n",
    "        return x/y"
   ]
  },
  {
   "cell_type": "code",
   "execution_count": 74,
   "metadata": {},
   "outputs": [
    {
     "name": "stdout",
     "output_type": "stream",
     "text": [
      "Loading data file from /Users/jay/MSC_WSBDA/MSc_Thesis/Msc_project/Data/givenchy_users.dat\n",
      "Loaded 5973 entries\n"
     ]
    }
   ],
   "source": [
    "users = load_pickle_file(path+event+\"_users.dat\")\n",
    "users.reset_index(drop =True , inplace =True)\n",
    "simulation_result = pd.read_csv(path + 'Results/different_hours_training_model/simulation_result_'+str(start_hour)+'hrs_'+str(start_hour)+'hrs_model.csv')\n",
    "#network_simulation.reset_index(drop =True , inplace =True)"
   ]
  },
  {
   "cell_type": "code",
   "execution_count": 75,
   "metadata": {},
   "outputs": [],
   "source": [
    "simulation_comparison = pd.concat([simulation_result['time_lapsed'],users['time_lapsed']],axis = 1)\n",
    "column_names = ['nw_time_lapsed','usr_time_lapsed']\n",
    "simulation_comparison.columns = column_names"
   ]
  },
  {
   "cell_type": "code",
   "execution_count": 76,
   "metadata": {},
   "outputs": [],
   "source": [
    "simulation_comparison_after_6hrs = simulation_comparison[simulation_comparison['usr_time_lapsed'] > (start_hour * 60)]"
   ]
  },
  {
   "cell_type": "code",
   "execution_count": 77,
   "metadata": {},
   "outputs": [
    {
     "name": "stderr",
     "output_type": "stream",
     "text": [
      "/Library/Frameworks/Python.framework/Versions/3.7/lib/python3.7/site-packages/ipykernel_launcher.py:3: SettingWithCopyWarning: \n",
      "A value is trying to be set on a copy of a slice from a DataFrame.\n",
      "Try using .loc[row_indexer,col_indexer] = value instead\n",
      "\n",
      "See the caveats in the documentation: http://pandas.pydata.org/pandas-docs/stable/indexing.html#indexing-view-versus-copy\n",
      "  This is separate from the ipykernel package so we can avoid doing imports until\n"
     ]
    }
   ],
   "source": [
    "simulation_comparison_after_6hrs['both_infected'] = simulation_comparison_after_6hrs.apply(lambda x: 1 if (np.isnan(x['nw_time_lapsed']) == False)\n",
    "                                                                          & (np.isnan(x['usr_time_lapsed']) == False)\n",
    "                                                                     else 0,axis = 1)\n",
    "\n"
   ]
  },
  {
   "cell_type": "code",
   "execution_count": 78,
   "metadata": {},
   "outputs": [],
   "source": [
    "true_positive = simulation_comparison_after_6hrs['both_infected'].sum()\n",
    "total_predicted_positive = len(simulation_comparison_after_6hrs[np.isnan(simulation_comparison_after_6hrs['nw_time_lapsed']) == False])\n",
    "precision = true_positive/total_predicted_positive\n",
    "total_actual_positive = len(simulation_comparison_after_6hrs[np.isnan(simulation_comparison_after_6hrs['usr_time_lapsed']) == False])\n",
    "recall = true_positive/total_actual_positive\n",
    "f1_score = (2*(precision * recall))/(precision + recall)\n"
   ]
  },
  {
   "cell_type": "code",
   "execution_count": 79,
   "metadata": {},
   "outputs": [],
   "source": [
    "accuracy = {\n",
    "'simulation_start_time':[],\n",
    "'precision':[],\n",
    "'recall':[],\n",
    "'f1_score':[]\n",
    "}\n",
    "accuracy['simulation_start_time'].append(start_hour) \n",
    "accuracy['precision'].append(precision) \n",
    "accuracy['recall'].append(recall)\n",
    "accuracy['f1_score'].append(f1_score) \n",
    "result = pd.DataFrame(accuracy) \n",
    "result.to_csv(path+'Results/after_time/simulation_accuracy_'+str(start_hour)+'hrs_'+str(start_hour)+'hrs_model_total_number_after_time.csv',index = False)"
   ]
  },
  {
   "cell_type": "code",
   "execution_count": null,
   "metadata": {},
   "outputs": [],
   "source": []
  }
 ],
 "metadata": {
  "kernelspec": {
   "display_name": "Python 3",
   "language": "python",
   "name": "python3"
  },
  "language_info": {
   "codemirror_mode": {
    "name": "ipython",
    "version": 3
   },
   "file_extension": ".py",
   "mimetype": "text/x-python",
   "name": "python",
   "nbconvert_exporter": "python",
   "pygments_lexer": "ipython3",
   "version": "3.7.0"
  }
 },
 "nbformat": 4,
 "nbformat_minor": 2
}
